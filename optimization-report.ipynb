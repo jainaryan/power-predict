{
 "cells": [
  {
   "cell_type": "code",
   "execution_count": 1,
   "metadata": {
    "collapsed": true,
    "ExecuteTime": {
     "end_time": "2023-10-30T15:20:03.414135100Z",
     "start_time": "2023-10-30T15:20:01.665866900Z"
    }
   },
   "outputs": [],
   "source": [
    "import pandas as pd\n",
    "import pytz\n",
    "import numpy as np\n",
    "import os\n",
    "from sklearn import preprocessing\n",
    "import re\n",
    "import matplotlib\n",
    "from matplotlib.patches import Polygon, Rectangle\n",
    "matplotlib.use('Qt5Agg')\n",
    "from datetime import timedelta\n",
    "import matplotlib.pyplot as plt\n",
    "from IPython.core.interactiveshell import InteractiveShell\n",
    "InteractiveShell.ast_node_interactivity = \"all\"\n",
    "from casadi import *\n",
    "import calendar\n",
    "import casadi as cd\n",
    "from sklearn.linear_model import LinearRegression\n",
    "import matplotlib.dates as mdates\n",
    "import warnings\n",
    "warnings.filterwarnings('ignore')"
   ]
  },
  {
   "cell_type": "code",
   "execution_count": 2,
   "outputs": [
    {
     "data": {
      "text/plain": "        Month         MW\n0  2022-01-01  1415.4246\n1  2022-02-01  1353.4260\n2  2022-03-01  2254.4145\n3  2022-04-01  2269.1010\n4  2022-05-01  2690.4150\n5  2022-06-01  2708.4910\n6  2022-07-01  3113.6625\n7  2022-08-01  3606.0495\n8  2022-09-01  3335.3190\n9  2022-10-01  2787.5835\n10 2022-11-01  2230.0764\n11 2022-12-01  1809.5913\n12 2023-01-01  1859.8434\n13 2023-02-01  1829.5317\n14 2023-03-01  2238.3650\n15 2023-04-01  2615.2850\n16 2023-05-01        NaN\n17 2023-06-01  3112.0245\n18 2023-07-01  3376.0350\n19 2023-08-01  3896.1580",
      "text/html": "<div>\n<style scoped>\n    .dataframe tbody tr th:only-of-type {\n        vertical-align: middle;\n    }\n\n    .dataframe tbody tr th {\n        vertical-align: top;\n    }\n\n    .dataframe thead th {\n        text-align: right;\n    }\n</style>\n<table border=\"1\" class=\"dataframe\">\n  <thead>\n    <tr style=\"text-align: right;\">\n      <th></th>\n      <th>Month</th>\n      <th>MW</th>\n    </tr>\n  </thead>\n  <tbody>\n    <tr>\n      <th>0</th>\n      <td>2022-01-01</td>\n      <td>1415.4246</td>\n    </tr>\n    <tr>\n      <th>1</th>\n      <td>2022-02-01</td>\n      <td>1353.4260</td>\n    </tr>\n    <tr>\n      <th>2</th>\n      <td>2022-03-01</td>\n      <td>2254.4145</td>\n    </tr>\n    <tr>\n      <th>3</th>\n      <td>2022-04-01</td>\n      <td>2269.1010</td>\n    </tr>\n    <tr>\n      <th>4</th>\n      <td>2022-05-01</td>\n      <td>2690.4150</td>\n    </tr>\n    <tr>\n      <th>5</th>\n      <td>2022-06-01</td>\n      <td>2708.4910</td>\n    </tr>\n    <tr>\n      <th>6</th>\n      <td>2022-07-01</td>\n      <td>3113.6625</td>\n    </tr>\n    <tr>\n      <th>7</th>\n      <td>2022-08-01</td>\n      <td>3606.0495</td>\n    </tr>\n    <tr>\n      <th>8</th>\n      <td>2022-09-01</td>\n      <td>3335.3190</td>\n    </tr>\n    <tr>\n      <th>9</th>\n      <td>2022-10-01</td>\n      <td>2787.5835</td>\n    </tr>\n    <tr>\n      <th>10</th>\n      <td>2022-11-01</td>\n      <td>2230.0764</td>\n    </tr>\n    <tr>\n      <th>11</th>\n      <td>2022-12-01</td>\n      <td>1809.5913</td>\n    </tr>\n    <tr>\n      <th>12</th>\n      <td>2023-01-01</td>\n      <td>1859.8434</td>\n    </tr>\n    <tr>\n      <th>13</th>\n      <td>2023-02-01</td>\n      <td>1829.5317</td>\n    </tr>\n    <tr>\n      <th>14</th>\n      <td>2023-03-01</td>\n      <td>2238.3650</td>\n    </tr>\n    <tr>\n      <th>15</th>\n      <td>2023-04-01</td>\n      <td>2615.2850</td>\n    </tr>\n    <tr>\n      <th>16</th>\n      <td>2023-05-01</td>\n      <td>NaN</td>\n    </tr>\n    <tr>\n      <th>17</th>\n      <td>2023-06-01</td>\n      <td>3112.0245</td>\n    </tr>\n    <tr>\n      <th>18</th>\n      <td>2023-07-01</td>\n      <td>3376.0350</td>\n    </tr>\n    <tr>\n      <th>19</th>\n      <td>2023-08-01</td>\n      <td>3896.1580</td>\n    </tr>\n  </tbody>\n</table>\n</div>"
     },
     "execution_count": 2,
     "metadata": {},
     "output_type": "execute_result"
    },
    {
     "data": {
      "text/plain": "        Month  Number of units of electricity consumed         MW\n0  2022-01-01                                1415424.6  1415.4246\n1  2022-02-01                                1353426.0  1353.4260\n2  2022-03-01                                2254414.5  2254.4145\n3  2022-04-01                                2269101.0  2269.1010\n4  2022-05-01                                2690415.0  2690.4150\n5  2022-06-01                                2708491.0  2708.4910\n6  2022-07-01                                3113662.5  3113.6625\n7  2022-08-01                                3606049.5  3606.0495\n8  2022-09-01                                3335319.0  3335.3190\n9  2022-10-01                                2787583.5  2787.5835\n10 2022-11-01                                2230076.4  2230.0764\n11 2022-12-01                                1809591.3  1809.5913\n12 2023-01-01                                1859843.4  1859.8434\n13 2023-02-01                                1829531.7  1829.5317\n14 2023-03-01                                2238365.0  2238.3650\n15 2023-04-01                                2615285.0  2615.2850\n16 2023-05-01                                      NaN        NaN\n17 2023-06-01                                3112024.5  3112.0245\n18 2023-07-01                                3376035.0  3376.0350\n19 2023-08-01                                3896158.0  3896.1580",
      "text/html": "<div>\n<style scoped>\n    .dataframe tbody tr th:only-of-type {\n        vertical-align: middle;\n    }\n\n    .dataframe tbody tr th {\n        vertical-align: top;\n    }\n\n    .dataframe thead th {\n        text-align: right;\n    }\n</style>\n<table border=\"1\" class=\"dataframe\">\n  <thead>\n    <tr style=\"text-align: right;\">\n      <th></th>\n      <th>Month</th>\n      <th>Number of units of electricity consumed</th>\n      <th>MW</th>\n    </tr>\n  </thead>\n  <tbody>\n    <tr>\n      <th>0</th>\n      <td>2022-01-01</td>\n      <td>1415424.6</td>\n      <td>1415.4246</td>\n    </tr>\n    <tr>\n      <th>1</th>\n      <td>2022-02-01</td>\n      <td>1353426.0</td>\n      <td>1353.4260</td>\n    </tr>\n    <tr>\n      <th>2</th>\n      <td>2022-03-01</td>\n      <td>2254414.5</td>\n      <td>2254.4145</td>\n    </tr>\n    <tr>\n      <th>3</th>\n      <td>2022-04-01</td>\n      <td>2269101.0</td>\n      <td>2269.1010</td>\n    </tr>\n    <tr>\n      <th>4</th>\n      <td>2022-05-01</td>\n      <td>2690415.0</td>\n      <td>2690.4150</td>\n    </tr>\n    <tr>\n      <th>5</th>\n      <td>2022-06-01</td>\n      <td>2708491.0</td>\n      <td>2708.4910</td>\n    </tr>\n    <tr>\n      <th>6</th>\n      <td>2022-07-01</td>\n      <td>3113662.5</td>\n      <td>3113.6625</td>\n    </tr>\n    <tr>\n      <th>7</th>\n      <td>2022-08-01</td>\n      <td>3606049.5</td>\n      <td>3606.0495</td>\n    </tr>\n    <tr>\n      <th>8</th>\n      <td>2022-09-01</td>\n      <td>3335319.0</td>\n      <td>3335.3190</td>\n    </tr>\n    <tr>\n      <th>9</th>\n      <td>2022-10-01</td>\n      <td>2787583.5</td>\n      <td>2787.5835</td>\n    </tr>\n    <tr>\n      <th>10</th>\n      <td>2022-11-01</td>\n      <td>2230076.4</td>\n      <td>2230.0764</td>\n    </tr>\n    <tr>\n      <th>11</th>\n      <td>2022-12-01</td>\n      <td>1809591.3</td>\n      <td>1809.5913</td>\n    </tr>\n    <tr>\n      <th>12</th>\n      <td>2023-01-01</td>\n      <td>1859843.4</td>\n      <td>1859.8434</td>\n    </tr>\n    <tr>\n      <th>13</th>\n      <td>2023-02-01</td>\n      <td>1829531.7</td>\n      <td>1829.5317</td>\n    </tr>\n    <tr>\n      <th>14</th>\n      <td>2023-03-01</td>\n      <td>2238365.0</td>\n      <td>2238.3650</td>\n    </tr>\n    <tr>\n      <th>15</th>\n      <td>2023-04-01</td>\n      <td>2615285.0</td>\n      <td>2615.2850</td>\n    </tr>\n    <tr>\n      <th>16</th>\n      <td>2023-05-01</td>\n      <td>NaN</td>\n      <td>NaN</td>\n    </tr>\n    <tr>\n      <th>17</th>\n      <td>2023-06-01</td>\n      <td>3112024.5</td>\n      <td>3112.0245</td>\n    </tr>\n    <tr>\n      <th>18</th>\n      <td>2023-07-01</td>\n      <td>3376035.0</td>\n      <td>3376.0350</td>\n    </tr>\n    <tr>\n      <th>19</th>\n      <td>2023-08-01</td>\n      <td>3896158.0</td>\n      <td>3896.1580</td>\n    </tr>\n  </tbody>\n</table>\n</div>"
     },
     "execution_count": 2,
     "metadata": {},
     "output_type": "execute_result"
    }
   ],
   "source": [
    "def custom_date_parser(date_string):\n",
    "    return pd.to_datetime(date_string, format='%d-%m-%Y %H:%M:%S')\n",
    "\n",
    "# Specify the path to the main directory containing folders and files\n",
    "path = 'D:\\\\mlinternship\\\\iitgdata'\n",
    "folders = [folder for folder in os.listdir(path) if os.path.isdir(os.path.join(path, folder))]\n",
    "df_list = []\n",
    "\n",
    "# Iterate through each folder\n",
    "for folder in folders:\n",
    "    # Construct the full path to the current folder\n",
    "    folder_path = os.path.join(path, folder)\n",
    "    # Iterate through files in the current folder\n",
    "    for filename in os.listdir(folder_path):\n",
    "        # Check if the file has the '.xlsx' extension\n",
    "        if filename.endswith('.xlsx'):\n",
    "            # Construct the full path to the Excel file\n",
    "            file_path = os.path.join(folder_path, filename)\n",
    "            # Use the custom date parser function\n",
    "            df = pd.read_excel(file_path, header=3, date_parser=custom_date_parser)\n",
    "            # Append the dataframe to the list\n",
    "            df_list.append(df)\n",
    "\n",
    "bill_path = 'D:\\\\mlinternship\\\\IITGuwahatiElectricityBills'\n",
    "for filename in os.listdir(bill_path):\n",
    "    # Check if the file has the '.xlsx' extension\n",
    "    if filename.endswith('.xlsx'):\n",
    "        file_path = os.path.join(bill_path, filename)\n",
    "        bill_df = pd.read_excel(file_path)\n",
    "\n",
    "bill_df['Month'] = pd.to_datetime(bill_df['Month'])\n",
    "#I assumed its in kilowatts\n",
    "bill_df['MW'] = bill_df['Number of units of electricity consumed']/1000\n",
    "bill_df.drop(['Number of units of electricity consumed'], axis=1)\n",
    "bill_df"
   ],
   "metadata": {
    "collapsed": false,
    "ExecuteTime": {
     "end_time": "2023-10-30T15:20:04.504597100Z",
     "start_time": "2023-10-30T15:20:03.422146200Z"
    }
   }
  },
  {
   "cell_type": "code",
   "execution_count": null,
   "outputs": [],
   "source": [
    "temperature_data_path = 'D:\\\\mlinternship\\\\iitgdata\\\\temperaturedata\\\\report'\n",
    "temperature_df_list = []\n",
    "for filename in os.listdir(temperature_data_path):\n",
    "        # Check if the file has the '.xlsx' extension\n",
    "        if filename.endswith('.xlsx'):\n",
    "            # Construct the full path to the Excel file\n",
    "            file_path = os.path.join(temperature_data_path, filename)\n",
    "            # Use the custom date parser function\n",
    "            df = pd.read_excel(file_path, header=3, date_parser=custom_date_parser)\n",
    "            df = df['DATE(YYYY-MM-DD)']['TIME (UTC)'][\"TEMP. ('C)\"]\n",
    "            # Append the dataframe to the list\n",
    "            temperature_df_list.append(df)\n",
    "temperature_df = pd.concat(temperature_df_list, ignore_index=True)\n",
    "temperature_df['Time'] = pd.concat([temperature_df['DATE(YYYY-MM-DD)'], temperature_df['TIME (UTC)']], axis=1)\n",
    "temperature_df=temperature_df.drop(['TIME (UTC)']['DATE(YYYY-MM-DD)'], axis = 1)\n",
    "temperature_df['Time'] = pd.to_datetime(temperature_df['Time'])"
   ],
   "metadata": {
    "collapsed": false
   }
  },
  {
   "cell_type": "code",
   "execution_count": 3,
   "outputs": [
    {
     "data": {
      "text/plain": "                    Time   MW  temperature\n0    2023-05-01 00:00:00  NaN    27.000000\n1    2023-05-01 01:00:00  NaN    41.726953\n2    2023-05-01 02:00:00  NaN    37.403189\n3    2023-05-01 03:00:00  NaN    30.434306\n4    2023-05-01 04:00:00  NaN    27.000000\n...                  ...  ...          ...\n1099 2023-06-15 19:00:00  4.0    25.000000\n1100 2023-06-15 20:00:00  4.0    25.000000\n1101 2023-06-15 21:00:00  4.0    25.000000\n1102 2023-06-15 22:00:00  NaN    25.000000\n1103 2023-06-15 23:00:00  NaN    25.000000\n\n[1104 rows x 3 columns]",
      "text/html": "<div>\n<style scoped>\n    .dataframe tbody tr th:only-of-type {\n        vertical-align: middle;\n    }\n\n    .dataframe tbody tr th {\n        vertical-align: top;\n    }\n\n    .dataframe thead th {\n        text-align: right;\n    }\n</style>\n<table border=\"1\" class=\"dataframe\">\n  <thead>\n    <tr style=\"text-align: right;\">\n      <th></th>\n      <th>Time</th>\n      <th>MW</th>\n      <th>temperature</th>\n    </tr>\n  </thead>\n  <tbody>\n    <tr>\n      <th>0</th>\n      <td>2023-05-01 00:00:00</td>\n      <td>NaN</td>\n      <td>27.000000</td>\n    </tr>\n    <tr>\n      <th>1</th>\n      <td>2023-05-01 01:00:00</td>\n      <td>NaN</td>\n      <td>41.726953</td>\n    </tr>\n    <tr>\n      <th>2</th>\n      <td>2023-05-01 02:00:00</td>\n      <td>NaN</td>\n      <td>37.403189</td>\n    </tr>\n    <tr>\n      <th>3</th>\n      <td>2023-05-01 03:00:00</td>\n      <td>NaN</td>\n      <td>30.434306</td>\n    </tr>\n    <tr>\n      <th>4</th>\n      <td>2023-05-01 04:00:00</td>\n      <td>NaN</td>\n      <td>27.000000</td>\n    </tr>\n    <tr>\n      <th>...</th>\n      <td>...</td>\n      <td>...</td>\n      <td>...</td>\n    </tr>\n    <tr>\n      <th>1099</th>\n      <td>2023-06-15 19:00:00</td>\n      <td>4.0</td>\n      <td>25.000000</td>\n    </tr>\n    <tr>\n      <th>1100</th>\n      <td>2023-06-15 20:00:00</td>\n      <td>4.0</td>\n      <td>25.000000</td>\n    </tr>\n    <tr>\n      <th>1101</th>\n      <td>2023-06-15 21:00:00</td>\n      <td>4.0</td>\n      <td>25.000000</td>\n    </tr>\n    <tr>\n      <th>1102</th>\n      <td>2023-06-15 22:00:00</td>\n      <td>NaN</td>\n      <td>25.000000</td>\n    </tr>\n    <tr>\n      <th>1103</th>\n      <td>2023-06-15 23:00:00</td>\n      <td>NaN</td>\n      <td>25.000000</td>\n    </tr>\n  </tbody>\n</table>\n<p>1104 rows × 3 columns</p>\n</div>"
     },
     "execution_count": 3,
     "metadata": {},
     "output_type": "execute_result"
    },
    {
     "data": {
      "text/plain": "                    Time   MW  temperature\n0    2023-05-01 00:00:00  NaN    27.000000\n1    2023-05-01 01:00:00  NaN    41.726953\n2    2023-05-01 02:00:00  NaN    37.403189\n3    2023-05-01 03:00:00  NaN    30.434306\n4    2023-05-01 04:00:00  NaN    27.000000\n...                  ...  ...          ...\n1099 2023-06-15 19:00:00  4.0    25.000000\n1100 2023-06-15 20:00:00  4.0    25.000000\n1101 2023-06-15 21:00:00  4.0    25.000000\n1102 2023-06-15 22:00:00  NaN    25.000000\n1103 2023-06-15 23:00:00  NaN    25.000000\n\n[1104 rows x 3 columns]",
      "text/html": "<div>\n<style scoped>\n    .dataframe tbody tr th:only-of-type {\n        vertical-align: middle;\n    }\n\n    .dataframe tbody tr th {\n        vertical-align: top;\n    }\n\n    .dataframe thead th {\n        text-align: right;\n    }\n</style>\n<table border=\"1\" class=\"dataframe\">\n  <thead>\n    <tr style=\"text-align: right;\">\n      <th></th>\n      <th>Time</th>\n      <th>MW</th>\n      <th>temperature</th>\n    </tr>\n  </thead>\n  <tbody>\n    <tr>\n      <th>0</th>\n      <td>2023-05-01 00:00:00</td>\n      <td>NaN</td>\n      <td>27.000000</td>\n    </tr>\n    <tr>\n      <th>1</th>\n      <td>2023-05-01 01:00:00</td>\n      <td>NaN</td>\n      <td>41.726953</td>\n    </tr>\n    <tr>\n      <th>2</th>\n      <td>2023-05-01 02:00:00</td>\n      <td>NaN</td>\n      <td>37.403189</td>\n    </tr>\n    <tr>\n      <th>3</th>\n      <td>2023-05-01 03:00:00</td>\n      <td>NaN</td>\n      <td>30.434306</td>\n    </tr>\n    <tr>\n      <th>4</th>\n      <td>2023-05-01 04:00:00</td>\n      <td>NaN</td>\n      <td>27.000000</td>\n    </tr>\n    <tr>\n      <th>...</th>\n      <td>...</td>\n      <td>...</td>\n      <td>...</td>\n    </tr>\n    <tr>\n      <th>1099</th>\n      <td>2023-06-15 19:00:00</td>\n      <td>4.0</td>\n      <td>25.000000</td>\n    </tr>\n    <tr>\n      <th>1100</th>\n      <td>2023-06-15 20:00:00</td>\n      <td>4.0</td>\n      <td>25.000000</td>\n    </tr>\n    <tr>\n      <th>1101</th>\n      <td>2023-06-15 21:00:00</td>\n      <td>4.0</td>\n      <td>25.000000</td>\n    </tr>\n    <tr>\n      <th>1102</th>\n      <td>2023-06-15 22:00:00</td>\n      <td>NaN</td>\n      <td>25.000000</td>\n    </tr>\n    <tr>\n      <th>1103</th>\n      <td>2023-06-15 23:00:00</td>\n      <td>NaN</td>\n      <td>25.000000</td>\n    </tr>\n  </tbody>\n</table>\n<p>1104 rows × 3 columns</p>\n</div>"
     },
     "execution_count": 3,
     "metadata": {},
     "output_type": "execute_result"
    }
   ],
   "source": [
    "#read the power data\n",
    "power_df = pd.concat(df_list, ignore_index=True)\n",
    "\n",
    "power_df['Time'] = pd.to_datetime(power_df['Time'])\n",
    "power_df['Time'] = power_df['Time'].round('min')\n",
    "#replace all the 'NR' values in MW column to NaN\n",
    "power_df['MW'] = power_df['MW'].replace('NR', np.nan)\n",
    "power_df['MW'] = power_df['MW'].replace('nr', np.nan)\n",
    "power_df = power_df[['Time', 'MW']]\n",
    "power_df['MW'] = power_df['MW'].astype(str)\n",
    "power_df['MW'] = pd.to_numeric(power_df['MW'].str.replace(',', '.'), errors='coerce')\n",
    "power_df['Time'] = pd.to_datetime(power_df['Time'])\n",
    "power_df = power_df.sort_values('Time')\n",
    "power_df.to_csv('power_datacsv.csv')\n",
    "full_power_df = power_df.copy()\n",
    "\n",
    "# read the temperature data csv\n",
    "'''\n",
    "temperature_data_csv_path = 'D:\\\\mlinternship\\\\iitgdata\\\\temperaturedata'\n",
    "filename = 'guwahati_temperature_data.csv'\n",
    "file = os.path.join(temperature_data_csv_path, filename)\n",
    "temperature_df = pd.read_csv(file)\n",
    "temperature_df.rename(columns={'valid': 'Time'}, inplace = True)\n",
    "temperature_df = temperature_df.rename(columns={'tmpc': 'temperature'})\n",
    "temperature_df = temperature_df[['Time', 'temperature']]\n",
    "temperature_df['Time'] = pd.to_datetime(temperature_df['Time'])\n",
    "temperature_df['Time'] = pd.DatetimeIndex(temperature_df['Time']) + timedelta(hours=5,minutes=30)\n",
    "temperature_df['temperature'] = pd.to_numeric(temperature_df['temperature'], errors='coerce')\n",
    "temperature_df.set_index('Time', inplace=True)\n",
    "temperature_df['temperature'] = temperature_df['temperature'].interpolate(method='polynomial', order = 5)\n",
    "temperature_df.reset_index(inplace=True)\n",
    "'''\n",
    "# joining the two dataframes such that the temperature data is only taken if there exists a reading in the power data dataframe\n",
    "df = pd.merge(power_df, temperature_df, on='Time', how='left')\n",
    "df['temperature'] = df['temperature'].interpolate(method='polynomial', order = 5)\n",
    "df['Time'] = pd.to_datetime(df['Time'])\n",
    "\n",
    "full_model_start_time = pd.Timestamp('2023-05-01 00:00:00')\n",
    "full_model_end_time = pd.Timestamp('2023-06-15 23:00:00')\n",
    "df = df[(df['Time'] >= full_model_start_time) & (df['Time'] <= full_model_end_time)]\n",
    "df = df.drop(df[df['MW'] > 20].index)\n",
    "df = df.sort_values('Time')\n",
    "df.reset_index(drop=True)\n",
    "df"
   ],
   "metadata": {
    "collapsed": false,
    "ExecuteTime": {
     "end_time": "2023-10-30T15:20:04.716964400Z",
     "start_time": "2023-10-30T15:20:04.512639800Z"
    }
   }
  },
  {
   "cell_type": "code",
   "execution_count": 4,
   "outputs": [
    {
     "data": {
      "text/plain": "                   Time    MW temperature  CDH omega1 omega2 omega3 omega4  \\\n0   2023-05-01 05:00:00  2.41        27.0  0.0    0.0    0.0    0.0    0.0   \n1   2023-05-01 06:00:00   3.0        28.0  0.0    0.0    0.0    0.0    0.0   \n2   2023-05-01 07:00:00   3.5        29.0  0.0    0.0    0.0    0.0    0.0   \n3   2023-05-01 08:00:00   4.0        30.0  0.0    0.0    0.0    0.0    0.0   \n4   2023-05-01 09:00:00   4.0        30.0  0.0    0.0    0.0    0.0    0.0   \n..                  ...   ...         ...  ...    ...    ...    ...    ...   \n863 2023-06-15 17:00:00   4.2        25.0  0.0    0.0    0.0    0.0    0.0   \n864 2023-06-15 18:00:00   4.2        26.0  0.0    0.0    0.0    0.0    0.0   \n865 2023-06-15 19:00:00   4.0        25.0  0.0    0.0    0.0    0.0    0.0   \n866 2023-06-15 20:00:00   4.0        25.0  0.0    0.0    0.0    0.0    0.0   \n867 2023-06-15 21:00:00   4.0        25.0  0.0    0.0    0.0    0.0    0.0   \n\n    omega5 omega6  ... omega159 omega160 omega161 omega162 omega163 omega164  \\\n0      0.0    1.0  ...      0.0      0.0      0.0      0.0      0.0      0.0   \n1      0.0    0.0  ...      0.0      0.0      0.0      0.0      0.0      0.0   \n2      0.0    0.0  ...      0.0      0.0      0.0      0.0      0.0      0.0   \n3      0.0    0.0  ...      0.0      0.0      0.0      0.0      0.0      0.0   \n4      0.0    0.0  ...      0.0      0.0      0.0      0.0      0.0      0.0   \n..     ...    ...  ...      ...      ...      ...      ...      ...      ...   \n863    0.0    0.0  ...      0.0      0.0      0.0      0.0      0.0      0.0   \n864    0.0    0.0  ...      0.0      0.0      0.0      0.0      0.0      0.0   \n865    0.0    0.0  ...      0.0      0.0      0.0      0.0      0.0      0.0   \n866    0.0    0.0  ...      0.0      0.0      0.0      0.0      0.0      0.0   \n867    0.0    0.0  ...      0.0      0.0      0.0      0.0      0.0      0.0   \n\n    omega165 omega166 omega167 omega168  \n0        0.0      0.0      0.0      0.0  \n1        0.0      0.0      0.0      0.0  \n2        0.0      0.0      0.0      0.0  \n3        0.0      0.0      0.0      0.0  \n4        0.0      0.0      0.0      0.0  \n..       ...      ...      ...      ...  \n863      0.0      0.0      0.0      0.0  \n864      0.0      0.0      0.0      0.0  \n865      0.0      0.0      0.0      0.0  \n866      0.0      0.0      0.0      0.0  \n867      0.0      0.0      0.0      0.0  \n\n[868 rows x 172 columns]",
      "text/html": "<div>\n<style scoped>\n    .dataframe tbody tr th:only-of-type {\n        vertical-align: middle;\n    }\n\n    .dataframe tbody tr th {\n        vertical-align: top;\n    }\n\n    .dataframe thead th {\n        text-align: right;\n    }\n</style>\n<table border=\"1\" class=\"dataframe\">\n  <thead>\n    <tr style=\"text-align: right;\">\n      <th></th>\n      <th>Time</th>\n      <th>MW</th>\n      <th>temperature</th>\n      <th>CDH</th>\n      <th>omega1</th>\n      <th>omega2</th>\n      <th>omega3</th>\n      <th>omega4</th>\n      <th>omega5</th>\n      <th>omega6</th>\n      <th>...</th>\n      <th>omega159</th>\n      <th>omega160</th>\n      <th>omega161</th>\n      <th>omega162</th>\n      <th>omega163</th>\n      <th>omega164</th>\n      <th>omega165</th>\n      <th>omega166</th>\n      <th>omega167</th>\n      <th>omega168</th>\n    </tr>\n  </thead>\n  <tbody>\n    <tr>\n      <th>0</th>\n      <td>2023-05-01 05:00:00</td>\n      <td>2.41</td>\n      <td>27.0</td>\n      <td>0.0</td>\n      <td>0.0</td>\n      <td>0.0</td>\n      <td>0.0</td>\n      <td>0.0</td>\n      <td>0.0</td>\n      <td>1.0</td>\n      <td>...</td>\n      <td>0.0</td>\n      <td>0.0</td>\n      <td>0.0</td>\n      <td>0.0</td>\n      <td>0.0</td>\n      <td>0.0</td>\n      <td>0.0</td>\n      <td>0.0</td>\n      <td>0.0</td>\n      <td>0.0</td>\n    </tr>\n    <tr>\n      <th>1</th>\n      <td>2023-05-01 06:00:00</td>\n      <td>3.0</td>\n      <td>28.0</td>\n      <td>0.0</td>\n      <td>0.0</td>\n      <td>0.0</td>\n      <td>0.0</td>\n      <td>0.0</td>\n      <td>0.0</td>\n      <td>0.0</td>\n      <td>...</td>\n      <td>0.0</td>\n      <td>0.0</td>\n      <td>0.0</td>\n      <td>0.0</td>\n      <td>0.0</td>\n      <td>0.0</td>\n      <td>0.0</td>\n      <td>0.0</td>\n      <td>0.0</td>\n      <td>0.0</td>\n    </tr>\n    <tr>\n      <th>2</th>\n      <td>2023-05-01 07:00:00</td>\n      <td>3.5</td>\n      <td>29.0</td>\n      <td>0.0</td>\n      <td>0.0</td>\n      <td>0.0</td>\n      <td>0.0</td>\n      <td>0.0</td>\n      <td>0.0</td>\n      <td>0.0</td>\n      <td>...</td>\n      <td>0.0</td>\n      <td>0.0</td>\n      <td>0.0</td>\n      <td>0.0</td>\n      <td>0.0</td>\n      <td>0.0</td>\n      <td>0.0</td>\n      <td>0.0</td>\n      <td>0.0</td>\n      <td>0.0</td>\n    </tr>\n    <tr>\n      <th>3</th>\n      <td>2023-05-01 08:00:00</td>\n      <td>4.0</td>\n      <td>30.0</td>\n      <td>0.0</td>\n      <td>0.0</td>\n      <td>0.0</td>\n      <td>0.0</td>\n      <td>0.0</td>\n      <td>0.0</td>\n      <td>0.0</td>\n      <td>...</td>\n      <td>0.0</td>\n      <td>0.0</td>\n      <td>0.0</td>\n      <td>0.0</td>\n      <td>0.0</td>\n      <td>0.0</td>\n      <td>0.0</td>\n      <td>0.0</td>\n      <td>0.0</td>\n      <td>0.0</td>\n    </tr>\n    <tr>\n      <th>4</th>\n      <td>2023-05-01 09:00:00</td>\n      <td>4.0</td>\n      <td>30.0</td>\n      <td>0.0</td>\n      <td>0.0</td>\n      <td>0.0</td>\n      <td>0.0</td>\n      <td>0.0</td>\n      <td>0.0</td>\n      <td>0.0</td>\n      <td>...</td>\n      <td>0.0</td>\n      <td>0.0</td>\n      <td>0.0</td>\n      <td>0.0</td>\n      <td>0.0</td>\n      <td>0.0</td>\n      <td>0.0</td>\n      <td>0.0</td>\n      <td>0.0</td>\n      <td>0.0</td>\n    </tr>\n    <tr>\n      <th>...</th>\n      <td>...</td>\n      <td>...</td>\n      <td>...</td>\n      <td>...</td>\n      <td>...</td>\n      <td>...</td>\n      <td>...</td>\n      <td>...</td>\n      <td>...</td>\n      <td>...</td>\n      <td>...</td>\n      <td>...</td>\n      <td>...</td>\n      <td>...</td>\n      <td>...</td>\n      <td>...</td>\n      <td>...</td>\n      <td>...</td>\n      <td>...</td>\n      <td>...</td>\n      <td>...</td>\n    </tr>\n    <tr>\n      <th>863</th>\n      <td>2023-06-15 17:00:00</td>\n      <td>4.2</td>\n      <td>25.0</td>\n      <td>0.0</td>\n      <td>0.0</td>\n      <td>0.0</td>\n      <td>0.0</td>\n      <td>0.0</td>\n      <td>0.0</td>\n      <td>0.0</td>\n      <td>...</td>\n      <td>0.0</td>\n      <td>0.0</td>\n      <td>0.0</td>\n      <td>0.0</td>\n      <td>0.0</td>\n      <td>0.0</td>\n      <td>0.0</td>\n      <td>0.0</td>\n      <td>0.0</td>\n      <td>0.0</td>\n    </tr>\n    <tr>\n      <th>864</th>\n      <td>2023-06-15 18:00:00</td>\n      <td>4.2</td>\n      <td>26.0</td>\n      <td>0.0</td>\n      <td>0.0</td>\n      <td>0.0</td>\n      <td>0.0</td>\n      <td>0.0</td>\n      <td>0.0</td>\n      <td>0.0</td>\n      <td>...</td>\n      <td>0.0</td>\n      <td>0.0</td>\n      <td>0.0</td>\n      <td>0.0</td>\n      <td>0.0</td>\n      <td>0.0</td>\n      <td>0.0</td>\n      <td>0.0</td>\n      <td>0.0</td>\n      <td>0.0</td>\n    </tr>\n    <tr>\n      <th>865</th>\n      <td>2023-06-15 19:00:00</td>\n      <td>4.0</td>\n      <td>25.0</td>\n      <td>0.0</td>\n      <td>0.0</td>\n      <td>0.0</td>\n      <td>0.0</td>\n      <td>0.0</td>\n      <td>0.0</td>\n      <td>0.0</td>\n      <td>...</td>\n      <td>0.0</td>\n      <td>0.0</td>\n      <td>0.0</td>\n      <td>0.0</td>\n      <td>0.0</td>\n      <td>0.0</td>\n      <td>0.0</td>\n      <td>0.0</td>\n      <td>0.0</td>\n      <td>0.0</td>\n    </tr>\n    <tr>\n      <th>866</th>\n      <td>2023-06-15 20:00:00</td>\n      <td>4.0</td>\n      <td>25.0</td>\n      <td>0.0</td>\n      <td>0.0</td>\n      <td>0.0</td>\n      <td>0.0</td>\n      <td>0.0</td>\n      <td>0.0</td>\n      <td>0.0</td>\n      <td>...</td>\n      <td>0.0</td>\n      <td>0.0</td>\n      <td>0.0</td>\n      <td>0.0</td>\n      <td>0.0</td>\n      <td>0.0</td>\n      <td>0.0</td>\n      <td>0.0</td>\n      <td>0.0</td>\n      <td>0.0</td>\n    </tr>\n    <tr>\n      <th>867</th>\n      <td>2023-06-15 21:00:00</td>\n      <td>4.0</td>\n      <td>25.0</td>\n      <td>0.0</td>\n      <td>0.0</td>\n      <td>0.0</td>\n      <td>0.0</td>\n      <td>0.0</td>\n      <td>0.0</td>\n      <td>0.0</td>\n      <td>...</td>\n      <td>0.0</td>\n      <td>0.0</td>\n      <td>0.0</td>\n      <td>0.0</td>\n      <td>0.0</td>\n      <td>0.0</td>\n      <td>0.0</td>\n      <td>0.0</td>\n      <td>0.0</td>\n      <td>0.0</td>\n    </tr>\n  </tbody>\n</table>\n<p>868 rows × 172 columns</p>\n</div>"
     },
     "execution_count": 4,
     "metadata": {},
     "output_type": "execute_result"
    }
   ],
   "source": [
    "TcoolStPt = 31\n",
    "CDH = df['temperature'] - TcoolStPt\n",
    "CDH.clip(lower=0, inplace=True)\n",
    "CDH = pd.DataFrame(data=CDH.values, columns=['CDH'], index=df.index)\n",
    "# Concatenate CDH with the original DataFrame using the index\n",
    "df = pd.concat([df, CDH], axis=1)\n",
    "df = df.sort_values('Time')\n",
    "df.reset_index(inplace=True, drop = True)\n",
    "\n",
    "numOmegas = 24 * 7\n",
    "num_of_rows = df.shape[0]\n",
    "omegas = np.zeros((num_of_rows, numOmegas))  # Assuming numOmegas columns for omegas\n",
    "concatenated_data = np.concatenate((df, omegas), axis=1)\n",
    "column_names = ['Time', 'MW', 'temperature', 'CDH']\n",
    "for i in range(1, numOmegas + 1,1):\n",
    "    column_names.append('omega' + str(i))\n",
    "\n",
    "df = pd.DataFrame(concatenated_data, columns=column_names)\n",
    "df['Time'] = pd.to_datetime(df['Time'])\n",
    "for i in range(0,num_of_rows):\n",
    "        datetime = df.Time.loc[i]\n",
    "        hourOfWeekIndex = int(datetime.dayofweek*24+(datetime.hour+1))\n",
    "        x = np.zeros((1,numOmegas))\n",
    "        x[0,hourOfWeekIndex-1]=1\n",
    "        omegas[i,:]=x\n",
    "\n",
    "df.iloc[:,4:]=omegas\n",
    "DF = df.copy()\n",
    "df = df.dropna()\n",
    "df.reset_index(inplace=True, drop = True)\n",
    "df"
   ],
   "metadata": {
    "collapsed": false,
    "ExecuteTime": {
     "end_time": "2023-10-30T15:20:04.988400400Z",
     "start_time": "2023-10-30T15:20:04.716964400Z"
    }
   }
  },
  {
   "cell_type": "code",
   "execution_count": 5,
   "outputs": [
    {
     "name": "stdout",
     "output_type": "stream",
     "text": [
      "\n",
      "******************************************************************************\n",
      "This program contains Ipopt, a library for large-scale nonlinear optimization.\n",
      " Ipopt is released as open source code under the Eclipse Public License (EPL).\n",
      "         For more information visit https://github.com/coin-or/Ipopt\n",
      "******************************************************************************\n",
      "\n",
      "This is Ipopt version 3.14.11, running with linear solver MUMPS 5.4.1.\n",
      "\n",
      "Number of nonzeros in equality constraint Jacobian...:        0\n",
      "Number of nonzeros in inequality constraint Jacobian.:     2337\n",
      "Number of nonzeros in Lagrangian Hessian.............:    14365\n",
      "\n",
      "Total number of variables............................:      169\n",
      "                     variables with only lower bounds:        0\n",
      "                variables with lower and upper bounds:        0\n",
      "                     variables with only upper bounds:        0\n",
      "Total number of equality constraints.................:        0\n",
      "Total number of inequality constraints...............:     1003\n",
      "        inequality constraints with only lower bounds:      502\n",
      "   inequality constraints with lower and upper bounds:        0\n",
      "        inequality constraints with only upper bounds:      501\n",
      "\n",
      "iter    objective    inf_pr   inf_du lg(mu)  ||d||  lg(rg) alpha_du alpha_pr  ls\n",
      "   0  1.8389650e+04 3.63e+02 5.05e-01  -1.0 0.00e+00    -  0.00e+00 0.00e+00   0\n",
      "   1  1.4648848e+04 0.00e+00 2.39e+01  -1.0 3.68e+01    -  3.98e-02 1.00e+00f  1\n",
      "   2  1.3735975e+04 0.00e+00 6.44e-01  -1.0 4.29e-01    -  5.95e-01 1.00e+00f  1\n",
      "   3  6.6597430e+03 0.00e+00 6.36e-01  -1.0 2.68e+01    -  5.26e-02 1.00e+00f  1\n",
      "   4  2.6437996e+03 0.00e+00 2.00e-01  -1.0 1.40e+01    -  5.88e-01 1.00e+00f  1\n",
      "   5  6.5321530e+02 0.00e+00 4.81e-02  -1.0 3.79e+00    -  7.59e-01 1.00e+00f  1\n",
      "   6  3.0211694e+02 0.00e+00 1.00e-06  -1.0 2.88e+00    -  1.00e+00 1.00e+00f  1\n",
      "   7  2.4589940e+02 0.00e+00 5.90e-03  -1.7 9.23e-01    -  9.78e-01 1.00e+00f  1\n",
      "   8  2.3010678e+02 0.00e+00 1.00e-02  -2.5 1.02e+00    -  9.39e-01 1.00e+00f  1\n",
      "   9  2.2677138e+02 0.00e+00 6.95e-03  -3.8 1.14e+00    -  9.01e-01 1.00e+00f  1\n",
      "iter    objective    inf_pr   inf_du lg(mu)  ||d||  lg(rg) alpha_du alpha_pr  ls\n",
      "  10  2.2631321e+02 0.00e+00 1.50e-09  -3.8 5.06e-01    -  1.00e+00 1.00e+00f  1\n",
      "  11  2.2622471e+02 0.00e+00 3.52e-05  -5.7 2.18e-01    -  9.74e-01 9.99e-01f  1\n",
      "  12  2.2622218e+02 0.00e+00 1.84e-11  -5.7 5.31e-02    -  1.00e+00 1.00e+00f  1\n",
      "  13  2.2622198e+02 0.00e+00 1.84e-11  -5.7 9.41e-02    -  1.00e+00 1.00e+00f  1\n",
      "  14  2.2622179e+02 0.00e+00 1.08e-07  -8.6 2.91e-03    -  1.00e+00 9.96e-01f  1\n",
      "  15  2.2622179e+02 0.00e+00 2.51e-14  -8.6 9.09e-05    -  1.00e+00 1.00e+00f  1\n",
      "\n",
      "Number of Iterations....: 15\n",
      "\n",
      "                                   (scaled)                 (unscaled)\n",
      "Objective...............:   2.2508623590801320e+00    2.2622179421070038e+02\n",
      "Dual infeasibility......:   2.5059035603737061e-14    2.5185458242697478e-12\n",
      "Constraint violation....:   0.0000000000000000e+00    0.0000000000000000e+00\n",
      "Variable bound violation:   0.0000000000000000e+00    0.0000000000000000e+00\n",
      "Complementarity.........:   2.5322519498918664e-09    2.5450271412072994e-07\n",
      "Overall NLP error.......:   2.5322519498918664e-09    2.5450271412072994e-07\n",
      "\n",
      "\n",
      "Number of objective function evaluations             = 16\n",
      "Number of objective gradient evaluations             = 16\n",
      "Number of equality constraint evaluations            = 0\n",
      "Number of inequality constraint evaluations          = 16\n",
      "Number of equality constraint Jacobian evaluations   = 0\n",
      "Number of inequality constraint Jacobian evaluations = 16\n",
      "Number of Lagrangian Hessian evaluations             = 15\n",
      "Total seconds in IPOPT                               = 2.313\n",
      "\n",
      "EXIT: Optimal Solution Found.\n",
      "Optimal value of temperature_theta: 0.10438377159821616\n",
      "Optimal values of theta: [3.48000004 4.06999996 3.88232686 3.62000001 3.67078691 3.78666665\n",
      " 3.65000001 3.87080232 4.00589034 3.88258303 4.45927567 4.41980389\n",
      " 4.6223739  4.6172595  4.52256297 4.72381547 5.00301315 4.99123245\n",
      " 5.00990194 5.01240695 4.85589035 4.87080231 4.62500001 4.78749997\n",
      " 4.11250001 3.85       3.62499996 2.90000006 3.3375     4.06666664\n",
      " 4.2        4.25714285 4.16829731 4.39311121 4.71980388 4.71667262\n",
      " 4.97193671 4.82657456 4.66103635 5.15451973 5.60351533 5.37851535\n",
      " 5.40802318 5.49561621 5.29707748 4.98114144 4.48383553 4.49874748\n",
      " 4.01593619 4.78761405 2.71571122 3.64380783 3.00000011 3.08333335\n",
      " 4.02794516 4.09160464 3.89561623 3.82819926 4.48997994 4.4346568\n",
      " 4.33983465 4.65895789 5.07792512 5.29391353 5.42802317 5.51641854\n",
      " 5.72686872 5.79426935 5.51499999 5.37999999 5.02000002 4.99499988\n",
      " 3.33500032 4.15999984 4.09485303 3.855      3.60685756 3.53500001\n",
      " 3.90714285 4.07426937 3.96954981 4.12968019 4.69498997 4.86328728\n",
      " 4.94123244 4.47386273 4.70614442 4.89123245 5.10927568 5.02418765\n",
      " 5.02669267 5.07142856 4.67142857 4.51428574 5.74999976 5.69999991\n",
      " 5.10000003 4.99999991 4.51793414 4.25       4.19999997 3.99999998\n",
      " 3.73333334 3.885      4.19166666 4.44780811 4.75634685 4.8224883\n",
      " 4.74342434 4.65956579 4.90716849 5.17675767 5.37602704 5.42748829\n",
      " 5.31561622 5.25736973 5.24926936 4.89999999 4.54166667 4.49999999\n",
      " 3.91666666 3.25000001 3.20833333 3.08333334 3.08333333 3.07500002\n",
      " 3.74999998 3.62353875 3.62824648 3.42801353 3.69269371 3.69050183\n",
      " 3.58509518 3.66421843 4.00611805 4.14392617 4.37611805 4.42904057\n",
      " 4.79923244 4.82161622 4.81624649 4.82749998 4.53333333 4.36666666\n",
      " 3.75000001 3.19700272 2.75000003 2.77188986 2.76644843 2.75000004\n",
      " 3.26666666 3.3        3.21593604 3.28114145 3.21301352 3.14342435\n",
      " 3.15936038 3.10643788 3.50424597 3.55424598 3.78070723 3.95289912\n",
      " 4.22675767 4.47894955 4.44707748 4.3970775  5.11561615 4.91561625]\n"
     ]
    }
   ],
   "source": [
    "#temperature and behavior part together\n",
    "#check starting and ending dates of week and adjust accordingly\n",
    "start_time = pd.Timestamp('2023-05-01 00:00:00')\n",
    "end_time = pd.Timestamp('2023-06-15 23:00:00')\n",
    "\n",
    "training_mask = (df['Time'] >= start_time) & (df['Time'] <= end_time)\n",
    "training_df = df[training_mask]\n",
    "d = training_df.loc[:,'MW']\n",
    "phi_temperature = training_df.loc[:,'CDH']\n",
    "phi_behavior = training_df.loc[:,'omega1':'omega168']\n",
    "opti = cd.Opti()\n",
    "temperature_theta = opti.variable()\n",
    "behavior_theta = opti.variable(168)\n",
    "total_sum =0\n",
    "for i in range (0,len(d)):\n",
    "    phi_behavior_i = (cd.MX(phi_behavior.iloc[i].values))\n",
    "    phi_behavior_i =  cd.vertcat(phi_behavior_i)\n",
    "    residual = (d.iloc[i] - ((phi_temperature.iloc[i] * temperature_theta) + cd.dot(phi_behavior_i, behavior_theta)))**2\n",
    "    total_sum += residual\n",
    "\n",
    "opti.subject_to(temperature_theta >= 0)\n",
    "e1 = 3.0\n",
    "e2 = 3.0\n",
    "\n",
    "for i in range(0, 167):\n",
    "    opti.subject_to((behavior_theta[i + 1] - behavior_theta[i]) <= e1)\n",
    "    opti.subject_to((behavior_theta[i + 1] - behavior_theta[i]) >= -e1)\n",
    "    opti.subject_to(behavior_theta[i] >= 0)\n",
    "    opti.subject_to(behavior_theta[i] <= 7)\n",
    "\n",
    "for i in range(1, 167):\n",
    "    opti.subject_to((behavior_theta[i + 1] + behavior_theta[i - 1] - 2 * behavior_theta[i]) <= e2)\n",
    "    opti.subject_to((behavior_theta[i + 1] + behavior_theta[i - 1] - 2 * behavior_theta[i]) >= -e2)\n",
    "\n",
    "#hardcoded for may-june 2023\n",
    "for i in range(16,18):\n",
    "    if pd.isna(bill_df.iloc[i]['MW']):\n",
    "        continue\n",
    "    month = bill_df.iloc[i]['Month'].month\n",
    "    year = bill_df.iloc[i]['Month'].year\n",
    "    num_days = calendar.monthrange(year, month)[1]\n",
    "    first_day = calendar.monthrange(year, month)[0]\n",
    "    num_hours = num_days * 24\n",
    "    num_weeks = num_hours / 168.0\n",
    "    weekly_behavior_energy_use = 0\n",
    "    temperature_energy_use = 0\n",
    "    for j in range(len(training_df)):\n",
    "        temperature_energy_use += temperature_theta * training_df.iloc[j]['CDH']\n",
    "\n",
    "    for j in range(0, 168):\n",
    "        weekly_behavior_energy_use += behavior_theta[j]\n",
    "\n",
    "    weekly_energy_use = weekly_behavior_energy_use +  temperature_energy_use\n",
    "    opti.subject_to(weekly_energy_use < 1.5 * bill_df.iloc[i]['MW'] / num_weeks)\n",
    "    opti.subject_to(weekly_energy_use > 0.5 * bill_df.iloc[i]['MW'] / num_weeks)\n",
    "\n",
    "# Solve the optimization problem\n",
    "opti.minimize(total_sum)\n",
    "solver_opts = {'print_time': 0}\n",
    "opti.solver('ipopt', solver_opts)\n",
    "sol = opti.solve()\n",
    "\n",
    "optimal_temperature_theta = sol.value(temperature_theta)\n",
    "optimal_behavior_theta = sol.value(behavior_theta)\n",
    "print(\"Optimal value of temperature_theta:\", optimal_temperature_theta)\n",
    "print(\"Optimal values of theta:\", optimal_behavior_theta)\n"
   ],
   "metadata": {
    "collapsed": false,
    "ExecuteTime": {
     "end_time": "2023-10-30T15:20:12.572038900Z",
     "start_time": "2023-10-30T15:20:04.836800300Z"
    }
   }
  },
  {
   "cell_type": "code",
   "execution_count": 18,
   "outputs": [
    {
     "ename": "AttributeError",
     "evalue": "'Series' object has no attribute 'reshape'",
     "output_type": "error",
     "traceback": [
      "\u001B[1;31m---------------------------------------------------------------------------\u001B[0m",
      "\u001B[1;31mAttributeError\u001B[0m                            Traceback (most recent call last)",
      "\u001B[1;32m~\\AppData\\Local\\Temp\\ipykernel_3492\\4127066978.py\u001B[0m in \u001B[0;36m?\u001B[1;34m()\u001B[0m\n\u001B[0;32m      1\u001B[0m \u001B[1;31m#final model\u001B[0m\u001B[1;33m\u001B[0m\u001B[1;33m\u001B[0m\u001B[0m\n\u001B[0;32m      2\u001B[0m \u001B[0mtraining_df\u001B[0m \u001B[1;33m=\u001B[0m \u001B[0mdf\u001B[0m\u001B[1;33m[\u001B[0m\u001B[0mtraining_mask\u001B[0m\u001B[1;33m]\u001B[0m\u001B[1;33m\u001B[0m\u001B[1;33m\u001B[0m\u001B[0m\n\u001B[0;32m      3\u001B[0m \u001B[0mcdh\u001B[0m \u001B[1;33m=\u001B[0m \u001B[0mtraining_df\u001B[0m\u001B[1;33m.\u001B[0m\u001B[0mloc\u001B[0m\u001B[1;33m[\u001B[0m\u001B[1;33m:\u001B[0m\u001B[1;33m,\u001B[0m \u001B[1;34m'CDH'\u001B[0m\u001B[1;33m]\u001B[0m\u001B[1;33m\u001B[0m\u001B[1;33m\u001B[0m\u001B[0m\n\u001B[1;32m----> 4\u001B[1;33m \u001B[0mcdh\u001B[0m \u001B[1;33m=\u001B[0m \u001B[0mcdh\u001B[0m\u001B[1;33m.\u001B[0m\u001B[0mreshape\u001B[0m\u001B[1;33m(\u001B[0m\u001B[1;33m-\u001B[0m\u001B[1;36m1\u001B[0m\u001B[1;33m,\u001B[0m\u001B[1;36m1\u001B[0m\u001B[1;33m)\u001B[0m\u001B[1;33m\u001B[0m\u001B[1;33m\u001B[0m\u001B[0m\n\u001B[0m\u001B[0;32m      5\u001B[0m \u001B[0momegas\u001B[0m \u001B[1;33m=\u001B[0m  \u001B[0mtraining_df\u001B[0m\u001B[1;33m.\u001B[0m\u001B[0mloc\u001B[0m\u001B[1;33m[\u001B[0m\u001B[1;33m:\u001B[0m\u001B[1;33m,\u001B[0m\u001B[1;34m'omega1'\u001B[0m\u001B[1;33m:\u001B[0m\u001B[1;34m'omega168'\u001B[0m\u001B[1;33m]\u001B[0m\u001B[1;33m\u001B[0m\u001B[1;33m\u001B[0m\u001B[0m\n\u001B[0;32m      6\u001B[0m \u001B[0md\u001B[0m \u001B[1;33m=\u001B[0m \u001B[0mtraining_df\u001B[0m\u001B[1;33m[\u001B[0m\u001B[1;34m'MW'\u001B[0m\u001B[1;33m]\u001B[0m\u001B[1;33m\u001B[0m\u001B[1;33m\u001B[0m\u001B[0m\n\u001B[0;32m      7\u001B[0m \u001B[0mc\u001B[0m \u001B[1;33m=\u001B[0m \u001B[0mnp\u001B[0m\u001B[1;33m.\u001B[0m\u001B[0mconcatenate\u001B[0m\u001B[1;33m(\u001B[0m\u001B[1;33m(\u001B[0m\u001B[0mnp\u001B[0m\u001B[1;33m.\u001B[0m\u001B[0marray\u001B[0m\u001B[1;33m(\u001B[0m\u001B[1;33m[\u001B[0m\u001B[0moptimal_temperature_theta\u001B[0m\u001B[1;33m]\u001B[0m\u001B[1;33m)\u001B[0m\u001B[1;33m,\u001B[0m\u001B[0moptimal_behavior_theta\u001B[0m\u001B[1;33m)\u001B[0m\u001B[1;33m,\u001B[0m\u001B[0maxis\u001B[0m\u001B[1;33m=\u001B[0m\u001B[1;36m0\u001B[0m\u001B[1;33m)\u001B[0m\u001B[1;33m\u001B[0m\u001B[1;33m\u001B[0m\u001B[0m\n",
      "\u001B[1;32mD:\\mlinternship\\power-predict\\myenv\\Lib\\site-packages\\pandas\\core\\generic.py\u001B[0m in \u001B[0;36m?\u001B[1;34m(self, name)\u001B[0m\n\u001B[0;32m   6200\u001B[0m             \u001B[1;32mand\u001B[0m \u001B[0mname\u001B[0m \u001B[1;32mnot\u001B[0m \u001B[1;32min\u001B[0m \u001B[0mself\u001B[0m\u001B[1;33m.\u001B[0m\u001B[0m_accessors\u001B[0m\u001B[1;33m\u001B[0m\u001B[1;33m\u001B[0m\u001B[0m\n\u001B[0;32m   6201\u001B[0m             \u001B[1;32mand\u001B[0m \u001B[0mself\u001B[0m\u001B[1;33m.\u001B[0m\u001B[0m_info_axis\u001B[0m\u001B[1;33m.\u001B[0m\u001B[0m_can_hold_identifiers_and_holds_name\u001B[0m\u001B[1;33m(\u001B[0m\u001B[0mname\u001B[0m\u001B[1;33m)\u001B[0m\u001B[1;33m\u001B[0m\u001B[1;33m\u001B[0m\u001B[0m\n\u001B[0;32m   6202\u001B[0m         ):\n\u001B[0;32m   6203\u001B[0m             \u001B[1;32mreturn\u001B[0m \u001B[0mself\u001B[0m\u001B[1;33m[\u001B[0m\u001B[0mname\u001B[0m\u001B[1;33m]\u001B[0m\u001B[1;33m\u001B[0m\u001B[1;33m\u001B[0m\u001B[0m\n\u001B[1;32m-> 6204\u001B[1;33m         \u001B[1;32mreturn\u001B[0m \u001B[0mobject\u001B[0m\u001B[1;33m.\u001B[0m\u001B[0m__getattribute__\u001B[0m\u001B[1;33m(\u001B[0m\u001B[0mself\u001B[0m\u001B[1;33m,\u001B[0m \u001B[0mname\u001B[0m\u001B[1;33m)\u001B[0m\u001B[1;33m\u001B[0m\u001B[1;33m\u001B[0m\u001B[0m\n\u001B[0m",
      "\u001B[1;31mAttributeError\u001B[0m: 'Series' object has no attribute 'reshape'"
     ]
    }
   ],
   "source": [
    "#final model\n",
    "training_df = df[training_mask]\n",
    "cdh = training_df.loc[:, 'CDH']\n",
    "omegas =  training_df.loc[:,'omega1':'omega168']\n",
    "d = training_df['MW']\n",
    "c = np.concatenate((np.array([optimal_temperature_theta]),optimal_behavior_theta),axis=0)\n",
    "phi = training_df.loc[:,'CDH':'omega168']\n",
    "full_model = LinearRegression(fit_intercept=False)\n",
    "full_model.fit(phi, d)\n",
    "full_model.coef_ = c\n",
    "full_model.intercept_ = 0\n",
    "yhat = full_model.predict(phi.values)\n",
    "full_modelScore = full_model.score(phi,d)\n",
    "\n",
    "temperature_model = LinearRegression(fit_intercept=False)\n",
    "temperature_model.coef_ = optimal_temperature_theta\n",
    "temperature_pred = temperature_model.predict(cdh)\n",
    "\n",
    "behavior_model = LinearRegression(fit_intercept=False)\n",
    "behavior_model.coef_ = optimal_behavior_theta\n",
    "behavior_pred = behavior_model.predict(omegas.values)\n",
    "\n",
    "\n",
    "print ('score for constructed full model on full data: ', full_modelScore)\n",
    "fig,(ax2) = plt.subplots(nrows=1,figsize=(10,9))\n",
    "_=ax2.plot(training_df['Time'],behavior_pred,label='behavior dependent', marker = '-')\n",
    "_=ax2.plot(training_df['Time'],temperature_pred,label='temperature dependent', marker = '-')\n",
    "_=ax2.plot(training_df['Time'],d,label='meas', marker = 'o')\n",
    "_=ax2.plot(training_df['Time'],yhat,label='pred:', marker = 'x')\n",
    "ax2.set_title('measured vs predicted data (full constructed model) (only for non null values)')\n",
    "_=ax2.legend()\n",
    "plt.show()"
   ],
   "metadata": {
    "collapsed": false,
    "ExecuteTime": {
     "end_time": "2023-10-30T15:53:19.505063200Z",
     "start_time": "2023-10-30T15:53:19.415988Z"
    }
   }
  },
  {
   "cell_type": "code",
   "execution_count": 7,
   "outputs": [
    {
     "name": "stdout",
     "output_type": "stream",
     "text": [
      "index: 1 start:19478.0, width:0.041666666667879326\n"
     ]
    },
    {
     "data": {
      "text/plain": "<matplotlib.patches.Rectangle at 0x26623830890>"
     },
     "execution_count": 7,
     "metadata": {},
     "output_type": "execute_result"
    },
    {
     "name": "stdout",
     "output_type": "stream",
     "text": [
      "index: 2 start:19478.041666666668, width:0.04166666666424135\n"
     ]
    },
    {
     "data": {
      "text/plain": "<matplotlib.patches.Rectangle at 0x2662379aed0>"
     },
     "execution_count": 7,
     "metadata": {},
     "output_type": "execute_result"
    },
    {
     "name": "stdout",
     "output_type": "stream",
     "text": [
      "index: 3 start:19478.083333333332, width:0.041666666667879326\n"
     ]
    },
    {
     "data": {
      "text/plain": "<matplotlib.patches.Rectangle at 0x26639888e90>"
     },
     "execution_count": 7,
     "metadata": {},
     "output_type": "execute_result"
    },
    {
     "name": "stdout",
     "output_type": "stream",
     "text": [
      "index: 4 start:19478.125, width:0.041666666667879326\n"
     ]
    },
    {
     "data": {
      "text/plain": "<matplotlib.patches.Rectangle at 0x26639889b50>"
     },
     "execution_count": 7,
     "metadata": {},
     "output_type": "execute_result"
    },
    {
     "name": "stdout",
     "output_type": "stream",
     "text": [
      "index: 25 start:19479.0, width:0.041666666667879326\n"
     ]
    },
    {
     "data": {
      "text/plain": "<matplotlib.patches.Rectangle at 0x2662377b610>"
     },
     "execution_count": 7,
     "metadata": {},
     "output_type": "execute_result"
    },
    {
     "name": "stdout",
     "output_type": "stream",
     "text": [
      "index: 26 start:19479.041666666668, width:0.04166666666424135\n"
     ]
    },
    {
     "data": {
      "text/plain": "<matplotlib.patches.Rectangle at 0x2663988bb90>"
     },
     "execution_count": 7,
     "metadata": {},
     "output_type": "execute_result"
    },
    {
     "name": "stdout",
     "output_type": "stream",
     "text": [
      "index: 29 start:19479.166666666668, width:0.04166666666424135\n"
     ]
    },
    {
     "data": {
      "text/plain": "<matplotlib.patches.Rectangle at 0x266237ac990>"
     },
     "execution_count": 7,
     "metadata": {},
     "output_type": "execute_result"
    },
    {
     "name": "stdout",
     "output_type": "stream",
     "text": [
      "index: 49 start:19480.0, width:0.041666666667879326\n"
     ]
    },
    {
     "data": {
      "text/plain": "<matplotlib.patches.Rectangle at 0x26639895310>"
     },
     "execution_count": 7,
     "metadata": {},
     "output_type": "execute_result"
    },
    {
     "name": "stdout",
     "output_type": "stream",
     "text": [
      "index: 50 start:19480.041666666668, width:0.04166666666424135\n"
     ]
    },
    {
     "data": {
      "text/plain": "<matplotlib.patches.Rectangle at 0x26639895c90>"
     },
     "execution_count": 7,
     "metadata": {},
     "output_type": "execute_result"
    },
    {
     "name": "stdout",
     "output_type": "stream",
     "text": [
      "index: 52 start:19480.125, width:0.041666666667879326\n"
     ]
    },
    {
     "data": {
      "text/plain": "<matplotlib.patches.Rectangle at 0x265d86a9310>"
     },
     "execution_count": 7,
     "metadata": {},
     "output_type": "execute_result"
    },
    {
     "name": "stdout",
     "output_type": "stream",
     "text": [
      "index: 67 start:19480.75, width:0.041666666667879326\n"
     ]
    },
    {
     "data": {
      "text/plain": "<matplotlib.patches.Rectangle at 0x266237a0dd0>"
     },
     "execution_count": 7,
     "metadata": {},
     "output_type": "execute_result"
    },
    {
     "name": "stdout",
     "output_type": "stream",
     "text": [
      "index: 68 start:19480.791666666668, width:0.04166666666424135\n"
     ]
    },
    {
     "data": {
      "text/plain": "<matplotlib.patches.Rectangle at 0x26639897f50>"
     },
     "execution_count": 7,
     "metadata": {},
     "output_type": "execute_result"
    },
    {
     "name": "stdout",
     "output_type": "stream",
     "text": [
      "index: 69 start:19480.833333333332, width:0.041666666667879326\n"
     ]
    },
    {
     "data": {
      "text/plain": "<matplotlib.patches.Rectangle at 0x266237a10d0>"
     },
     "execution_count": 7,
     "metadata": {},
     "output_type": "execute_result"
    },
    {
     "name": "stdout",
     "output_type": "stream",
     "text": [
      "index: 73 start:19481.0, width:0.041666666667879326\n"
     ]
    },
    {
     "data": {
      "text/plain": "<matplotlib.patches.Rectangle at 0x2663988b4d0>"
     },
     "execution_count": 7,
     "metadata": {},
     "output_type": "execute_result"
    },
    {
     "name": "stdout",
     "output_type": "stream",
     "text": [
      "index: 74 start:19481.041666666668, width:0.04166666666424135\n"
     ]
    },
    {
     "data": {
      "text/plain": "<matplotlib.patches.Rectangle at 0x266398add90>"
     },
     "execution_count": 7,
     "metadata": {},
     "output_type": "execute_result"
    },
    {
     "name": "stdout",
     "output_type": "stream",
     "text": [
      "index: 76 start:19481.125, width:0.041666666667879326\n"
     ]
    },
    {
     "data": {
      "text/plain": "<matplotlib.patches.Rectangle at 0x266398ae510>"
     },
     "execution_count": 7,
     "metadata": {},
     "output_type": "execute_result"
    },
    {
     "name": "stdout",
     "output_type": "stream",
     "text": [
      "index: 94 start:19481.875, width:0.041666666667879326\n"
     ]
    },
    {
     "data": {
      "text/plain": "<matplotlib.patches.Rectangle at 0x266398ae390>"
     },
     "execution_count": 7,
     "metadata": {},
     "output_type": "execute_result"
    },
    {
     "name": "stdout",
     "output_type": "stream",
     "text": [
      "index: 95 start:19481.916666666668, width:0.04166666666424135\n"
     ]
    },
    {
     "data": {
      "text/plain": "<matplotlib.patches.Rectangle at 0x266398afc90>"
     },
     "execution_count": 7,
     "metadata": {},
     "output_type": "execute_result"
    },
    {
     "name": "stdout",
     "output_type": "stream",
     "text": [
      "index: 96 start:19481.958333333332, width:0.041666666667879326\n"
     ]
    },
    {
     "data": {
      "text/plain": "<matplotlib.patches.Rectangle at 0x2662377f150>"
     },
     "execution_count": 7,
     "metadata": {},
     "output_type": "execute_result"
    },
    {
     "name": "stdout",
     "output_type": "stream",
     "text": [
      "index: 97 start:19482.0, width:0.041666666667879326\n"
     ]
    },
    {
     "data": {
      "text/plain": "<matplotlib.patches.Rectangle at 0x266398a8b10>"
     },
     "execution_count": 7,
     "metadata": {},
     "output_type": "execute_result"
    },
    {
     "name": "stdout",
     "output_type": "stream",
     "text": [
      "index: 98 start:19482.041666666668, width:0.04166666666424135\n"
     ]
    },
    {
     "data": {
      "text/plain": "<matplotlib.patches.Rectangle at 0x2662329e3d0>"
     },
     "execution_count": 7,
     "metadata": {},
     "output_type": "execute_result"
    },
    {
     "name": "stdout",
     "output_type": "stream",
     "text": [
      "index: 99 start:19482.083333333332, width:0.041666666667879326\n"
     ]
    },
    {
     "data": {
      "text/plain": "<matplotlib.patches.Rectangle at 0x266237a0e90>"
     },
     "execution_count": 7,
     "metadata": {},
     "output_type": "execute_result"
    },
    {
     "name": "stdout",
     "output_type": "stream",
     "text": [
      "index: 100 start:19482.125, width:0.041666666667879326\n"
     ]
    },
    {
     "data": {
      "text/plain": "<matplotlib.patches.Rectangle at 0x266398aff50>"
     },
     "execution_count": 7,
     "metadata": {},
     "output_type": "execute_result"
    },
    {
     "name": "stdout",
     "output_type": "stream",
     "text": [
      "index: 101 start:19482.166666666668, width:0.04166666666424135\n"
     ]
    },
    {
     "data": {
      "text/plain": "<matplotlib.patches.Rectangle at 0x266398ab050>"
     },
     "execution_count": 7,
     "metadata": {},
     "output_type": "execute_result"
    },
    {
     "name": "stdout",
     "output_type": "stream",
     "text": [
      "index: 145 start:19484.0, width:0.041666666667879326\n"
     ]
    },
    {
     "data": {
      "text/plain": "<matplotlib.patches.Rectangle at 0x266398abdd0>"
     },
     "execution_count": 7,
     "metadata": {},
     "output_type": "execute_result"
    },
    {
     "name": "stdout",
     "output_type": "stream",
     "text": [
      "index: 147 start:19484.083333333332, width:0.041666666667879326\n"
     ]
    },
    {
     "data": {
      "text/plain": "<matplotlib.patches.Rectangle at 0x266398ac650>"
     },
     "execution_count": 7,
     "metadata": {},
     "output_type": "execute_result"
    },
    {
     "name": "stdout",
     "output_type": "stream",
     "text": [
      "index: 148 start:19484.125, width:0.041666666667879326\n"
     ]
    },
    {
     "data": {
      "text/plain": "<matplotlib.patches.Rectangle at 0x266237ab310>"
     },
     "execution_count": 7,
     "metadata": {},
     "output_type": "execute_result"
    },
    {
     "name": "stdout",
     "output_type": "stream",
     "text": [
      "index: 170 start:19485.041666666668, width:0.04166666666424135\n"
     ]
    },
    {
     "data": {
      "text/plain": "<matplotlib.patches.Rectangle at 0x266398c5590>"
     },
     "execution_count": 7,
     "metadata": {},
     "output_type": "execute_result"
    },
    {
     "name": "stdout",
     "output_type": "stream",
     "text": [
      "index: 172 start:19485.125, width:0.041666666667879326\n"
     ]
    },
    {
     "data": {
      "text/plain": "<matplotlib.patches.Rectangle at 0x266237ab7d0>"
     },
     "execution_count": 7,
     "metadata": {},
     "output_type": "execute_result"
    },
    {
     "name": "stdout",
     "output_type": "stream",
     "text": [
      "index: 190 start:19485.875, width:0.041666666667879326\n"
     ]
    },
    {
     "data": {
      "text/plain": "<matplotlib.patches.Rectangle at 0x266398c6710>"
     },
     "execution_count": 7,
     "metadata": {},
     "output_type": "execute_result"
    },
    {
     "name": "stdout",
     "output_type": "stream",
     "text": [
      "index: 191 start:19485.916666666668, width:0.04166666666424135\n"
     ]
    },
    {
     "data": {
      "text/plain": "<matplotlib.patches.Rectangle at 0x26639895c50>"
     },
     "execution_count": 7,
     "metadata": {},
     "output_type": "execute_result"
    },
    {
     "name": "stdout",
     "output_type": "stream",
     "text": [
      "index: 192 start:19485.958333333332, width:0.041666666667879326\n"
     ]
    },
    {
     "data": {
      "text/plain": "<matplotlib.patches.Rectangle at 0x266237ae150>"
     },
     "execution_count": 7,
     "metadata": {},
     "output_type": "execute_result"
    },
    {
     "name": "stdout",
     "output_type": "stream",
     "text": [
      "index: 193 start:19486.0, width:0.041666666667879326\n"
     ]
    },
    {
     "data": {
      "text/plain": "<matplotlib.patches.Rectangle at 0x266398c63d0>"
     },
     "execution_count": 7,
     "metadata": {},
     "output_type": "execute_result"
    },
    {
     "name": "stdout",
     "output_type": "stream",
     "text": [
      "index: 194 start:19486.041666666668, width:0.04166666666424135\n"
     ]
    },
    {
     "data": {
      "text/plain": "<matplotlib.patches.Rectangle at 0x266398a9f50>"
     },
     "execution_count": 7,
     "metadata": {},
     "output_type": "execute_result"
    },
    {
     "name": "stdout",
     "output_type": "stream",
     "text": [
      "index: 195 start:19486.083333333332, width:0.041666666667879326\n"
     ]
    },
    {
     "data": {
      "text/plain": "<matplotlib.patches.Rectangle at 0x266237aef90>"
     },
     "execution_count": 7,
     "metadata": {},
     "output_type": "execute_result"
    },
    {
     "name": "stdout",
     "output_type": "stream",
     "text": [
      "index: 196 start:19486.125, width:0.041666666667879326\n"
     ]
    },
    {
     "data": {
      "text/plain": "<matplotlib.patches.Rectangle at 0x266398c7690>"
     },
     "execution_count": 7,
     "metadata": {},
     "output_type": "execute_result"
    },
    {
     "name": "stdout",
     "output_type": "stream",
     "text": [
      "index: 197 start:19486.166666666668, width:0.04166666666424135\n"
     ]
    },
    {
     "data": {
      "text/plain": "<matplotlib.patches.Rectangle at 0x266398d5990>"
     },
     "execution_count": 7,
     "metadata": {},
     "output_type": "execute_result"
    },
    {
     "name": "stdout",
     "output_type": "stream",
     "text": [
      "index: 217 start:19487.0, width:0.041666666667879326\n"
     ]
    },
    {
     "data": {
      "text/plain": "<matplotlib.patches.Rectangle at 0x26639897110>"
     },
     "execution_count": 7,
     "metadata": {},
     "output_type": "execute_result"
    },
    {
     "name": "stdout",
     "output_type": "stream",
     "text": [
      "index: 219 start:19487.083333333332, width:0.041666666667879326\n"
     ]
    },
    {
     "data": {
      "text/plain": "<matplotlib.patches.Rectangle at 0x26639896790>"
     },
     "execution_count": 7,
     "metadata": {},
     "output_type": "execute_result"
    },
    {
     "name": "stdout",
     "output_type": "stream",
     "text": [
      "index: 220 start:19487.125, width:0.041666666667879326\n"
     ]
    },
    {
     "data": {
      "text/plain": "<matplotlib.patches.Rectangle at 0x266398a9690>"
     },
     "execution_count": 7,
     "metadata": {},
     "output_type": "execute_result"
    },
    {
     "name": "stdout",
     "output_type": "stream",
     "text": [
      "index: 240 start:19487.958333333332, width:0.041666666667879326\n"
     ]
    },
    {
     "data": {
      "text/plain": "<matplotlib.patches.Rectangle at 0x2662377f5d0>"
     },
     "execution_count": 7,
     "metadata": {},
     "output_type": "execute_result"
    },
    {
     "name": "stdout",
     "output_type": "stream",
     "text": [
      "index: 241 start:19488.0, width:0.041666666667879326\n"
     ]
    },
    {
     "data": {
      "text/plain": "<matplotlib.patches.Rectangle at 0x266398afe10>"
     },
     "execution_count": 7,
     "metadata": {},
     "output_type": "execute_result"
    },
    {
     "name": "stdout",
     "output_type": "stream",
     "text": [
      "index: 242 start:19488.041666666668, width:0.04166666666424135\n"
     ]
    },
    {
     "data": {
      "text/plain": "<matplotlib.patches.Rectangle at 0x266398d7990>"
     },
     "execution_count": 7,
     "metadata": {},
     "output_type": "execute_result"
    },
    {
     "name": "stdout",
     "output_type": "stream",
     "text": [
      "index: 243 start:19488.083333333332, width:0.041666666667879326\n"
     ]
    },
    {
     "data": {
      "text/plain": "<matplotlib.patches.Rectangle at 0x266232712d0>"
     },
     "execution_count": 7,
     "metadata": {},
     "output_type": "execute_result"
    },
    {
     "name": "stdout",
     "output_type": "stream",
     "text": [
      "index: 244 start:19488.125, width:0.041666666667879326\n"
     ]
    },
    {
     "data": {
      "text/plain": "<matplotlib.patches.Rectangle at 0x266398ad7d0>"
     },
     "execution_count": 7,
     "metadata": {},
     "output_type": "execute_result"
    },
    {
     "name": "stdout",
     "output_type": "stream",
     "text": [
      "index: 262 start:19488.875, width:0.041666666667879326\n"
     ]
    },
    {
     "data": {
      "text/plain": "<matplotlib.patches.Rectangle at 0x266398ae310>"
     },
     "execution_count": 7,
     "metadata": {},
     "output_type": "execute_result"
    },
    {
     "name": "stdout",
     "output_type": "stream",
     "text": [
      "index: 263 start:19488.916666666668, width:0.04166666666424135\n"
     ]
    },
    {
     "data": {
      "text/plain": "<matplotlib.patches.Rectangle at 0x266237b2850>"
     },
     "execution_count": 7,
     "metadata": {},
     "output_type": "execute_result"
    },
    {
     "name": "stdout",
     "output_type": "stream",
     "text": [
      "index: 264 start:19488.958333333332, width:0.041666666667879326\n"
     ]
    },
    {
     "data": {
      "text/plain": "<matplotlib.patches.Rectangle at 0x266398d2710>"
     },
     "execution_count": 7,
     "metadata": {},
     "output_type": "execute_result"
    },
    {
     "name": "stdout",
     "output_type": "stream",
     "text": [
      "index: 265 start:19489.0, width:0.041666666667879326\n"
     ]
    },
    {
     "data": {
      "text/plain": "<matplotlib.patches.Rectangle at 0x266398d7050>"
     },
     "execution_count": 7,
     "metadata": {},
     "output_type": "execute_result"
    },
    {
     "name": "stdout",
     "output_type": "stream",
     "text": [
      "index: 266 start:19489.041666666668, width:0.04166666666424135\n"
     ]
    },
    {
     "data": {
      "text/plain": "<matplotlib.patches.Rectangle at 0x266398c64d0>"
     },
     "execution_count": 7,
     "metadata": {},
     "output_type": "execute_result"
    },
    {
     "name": "stdout",
     "output_type": "stream",
     "text": [
      "index: 267 start:19489.083333333332, width:0.041666666667879326\n"
     ]
    },
    {
     "data": {
      "text/plain": "<matplotlib.patches.Rectangle at 0x266398d7fd0>"
     },
     "execution_count": 7,
     "metadata": {},
     "output_type": "execute_result"
    },
    {
     "name": "stdout",
     "output_type": "stream",
     "text": [
      "index: 268 start:19489.125, width:0.041666666667879326\n"
     ]
    },
    {
     "data": {
      "text/plain": "<matplotlib.patches.Rectangle at 0x266237aca90>"
     },
     "execution_count": 7,
     "metadata": {},
     "output_type": "execute_result"
    },
    {
     "name": "stdout",
     "output_type": "stream",
     "text": [
      "index: 269 start:19489.166666666668, width:0.04166666666424135\n"
     ]
    },
    {
     "data": {
      "text/plain": "<matplotlib.patches.Rectangle at 0x266398ab990>"
     },
     "execution_count": 7,
     "metadata": {},
     "output_type": "execute_result"
    },
    {
     "name": "stdout",
     "output_type": "stream",
     "text": [
      "index: 282 start:19489.708333333332, width:0.041666666667879326\n"
     ]
    },
    {
     "data": {
      "text/plain": "<matplotlib.patches.Rectangle at 0x26639895290>"
     },
     "execution_count": 7,
     "metadata": {},
     "output_type": "execute_result"
    },
    {
     "name": "stdout",
     "output_type": "stream",
     "text": [
      "index: 283 start:19489.75, width:0.041666666667879326\n"
     ]
    },
    {
     "data": {
      "text/plain": "<matplotlib.patches.Rectangle at 0x266398968d0>"
     },
     "execution_count": 7,
     "metadata": {},
     "output_type": "execute_result"
    },
    {
     "name": "stdout",
     "output_type": "stream",
     "text": [
      "index: 312 start:19490.958333333332, width:0.041666666667879326\n"
     ]
    },
    {
     "data": {
      "text/plain": "<matplotlib.patches.Rectangle at 0x26639896650>"
     },
     "execution_count": 7,
     "metadata": {},
     "output_type": "execute_result"
    },
    {
     "name": "stdout",
     "output_type": "stream",
     "text": [
      "index: 313 start:19491.0, width:0.041666666667879326\n"
     ]
    },
    {
     "data": {
      "text/plain": "<matplotlib.patches.Rectangle at 0x266398973d0>"
     },
     "execution_count": 7,
     "metadata": {},
     "output_type": "execute_result"
    },
    {
     "name": "stdout",
     "output_type": "stream",
     "text": [
      "index: 314 start:19491.041666666668, width:0.04166666666424135\n"
     ]
    },
    {
     "data": {
      "text/plain": "<matplotlib.patches.Rectangle at 0x266398ab3d0>"
     },
     "execution_count": 7,
     "metadata": {},
     "output_type": "execute_result"
    },
    {
     "name": "stdout",
     "output_type": "stream",
     "text": [
      "index: 315 start:19491.083333333332, width:0.041666666667879326\n"
     ]
    },
    {
     "data": {
      "text/plain": "<matplotlib.patches.Rectangle at 0x2663988bd10>"
     },
     "execution_count": 7,
     "metadata": {},
     "output_type": "execute_result"
    },
    {
     "name": "stdout",
     "output_type": "stream",
     "text": [
      "index: 316 start:19491.125, width:0.041666666667879326\n"
     ]
    },
    {
     "data": {
      "text/plain": "<matplotlib.patches.Rectangle at 0x266398af4d0>"
     },
     "execution_count": 7,
     "metadata": {},
     "output_type": "execute_result"
    },
    {
     "name": "stdout",
     "output_type": "stream",
     "text": [
      "index: 317 start:19491.166666666668, width:0.04166666666424135\n"
     ]
    },
    {
     "data": {
      "text/plain": "<matplotlib.patches.Rectangle at 0x265d862f2d0>"
     },
     "execution_count": 7,
     "metadata": {},
     "output_type": "execute_result"
    },
    {
     "name": "stdout",
     "output_type": "stream",
     "text": [
      "index: 334 start:19491.875, width:0.041666666667879326\n"
     ]
    },
    {
     "data": {
      "text/plain": "<matplotlib.patches.Rectangle at 0x26639900f50>"
     },
     "execution_count": 7,
     "metadata": {},
     "output_type": "execute_result"
    },
    {
     "name": "stdout",
     "output_type": "stream",
     "text": [
      "index: 335 start:19491.916666666668, width:0.04166666666424135\n"
     ]
    },
    {
     "data": {
      "text/plain": "<matplotlib.patches.Rectangle at 0x266398adc50>"
     },
     "execution_count": 7,
     "metadata": {},
     "output_type": "execute_result"
    },
    {
     "name": "stdout",
     "output_type": "stream",
     "text": [
      "index: 336 start:19491.958333333332, width:0.041666666667879326\n"
     ]
    },
    {
     "data": {
      "text/plain": "<matplotlib.patches.Rectangle at 0x26639901990>"
     },
     "execution_count": 7,
     "metadata": {},
     "output_type": "execute_result"
    },
    {
     "name": "stdout",
     "output_type": "stream",
     "text": [
      "index: 337 start:19492.0, width:0.041666666667879326\n"
     ]
    },
    {
     "data": {
      "text/plain": "<matplotlib.patches.Rectangle at 0x266237ba990>"
     },
     "execution_count": 7,
     "metadata": {},
     "output_type": "execute_result"
    },
    {
     "name": "stdout",
     "output_type": "stream",
     "text": [
      "index: 338 start:19492.041666666668, width:0.04166666666424135\n"
     ]
    },
    {
     "data": {
      "text/plain": "<matplotlib.patches.Rectangle at 0x26623277cd0>"
     },
     "execution_count": 7,
     "metadata": {},
     "output_type": "execute_result"
    },
    {
     "name": "stdout",
     "output_type": "stream",
     "text": [
      "index: 339 start:19492.083333333332, width:0.041666666667879326\n"
     ]
    },
    {
     "data": {
      "text/plain": "<matplotlib.patches.Rectangle at 0x266398d6890>"
     },
     "execution_count": 7,
     "metadata": {},
     "output_type": "execute_result"
    },
    {
     "name": "stdout",
     "output_type": "stream",
     "text": [
      "index: 340 start:19492.125, width:0.041666666667879326\n"
     ]
    },
    {
     "data": {
      "text/plain": "<matplotlib.patches.Rectangle at 0x26639896b50>"
     },
     "execution_count": 7,
     "metadata": {},
     "output_type": "execute_result"
    },
    {
     "name": "stdout",
     "output_type": "stream",
     "text": [
      "index: 341 start:19492.166666666668, width:0.04166666666424135\n"
     ]
    },
    {
     "data": {
      "text/plain": "<matplotlib.patches.Rectangle at 0x266237add10>"
     },
     "execution_count": 7,
     "metadata": {},
     "output_type": "execute_result"
    },
    {
     "name": "stdout",
     "output_type": "stream",
     "text": [
      "index: 361 start:19493.0, width:0.041666666667879326\n"
     ]
    },
    {
     "data": {
      "text/plain": "<matplotlib.patches.Rectangle at 0x266398c43d0>"
     },
     "execution_count": 7,
     "metadata": {},
     "output_type": "execute_result"
    },
    {
     "name": "stdout",
     "output_type": "stream",
     "text": [
      "index: 385 start:19494.0, width:0.041666666667879326\n"
     ]
    },
    {
     "data": {
      "text/plain": "<matplotlib.patches.Rectangle at 0x266398f4950>"
     },
     "execution_count": 7,
     "metadata": {},
     "output_type": "execute_result"
    },
    {
     "name": "stdout",
     "output_type": "stream",
     "text": [
      "index: 387 start:19494.083333333332, width:0.041666666667879326\n"
     ]
    },
    {
     "data": {
      "text/plain": "<matplotlib.patches.Rectangle at 0x26639901910>"
     },
     "execution_count": 7,
     "metadata": {},
     "output_type": "execute_result"
    },
    {
     "name": "stdout",
     "output_type": "stream",
     "text": [
      "index: 388 start:19494.125, width:0.041666666667879326\n"
     ]
    },
    {
     "data": {
      "text/plain": "<matplotlib.patches.Rectangle at 0x266398d0b50>"
     },
     "execution_count": 7,
     "metadata": {},
     "output_type": "execute_result"
    },
    {
     "name": "stdout",
     "output_type": "stream",
     "text": [
      "index: 396 start:19494.458333333332, width:0.041666666667879326\n"
     ]
    },
    {
     "data": {
      "text/plain": "<matplotlib.patches.Rectangle at 0x266398fa890>"
     },
     "execution_count": 7,
     "metadata": {},
     "output_type": "execute_result"
    },
    {
     "name": "stdout",
     "output_type": "stream",
     "text": [
      "index: 397 start:19494.5, width:0.041666666667879326\n"
     ]
    },
    {
     "data": {
      "text/plain": "<matplotlib.patches.Rectangle at 0x266237bae90>"
     },
     "execution_count": 7,
     "metadata": {},
     "output_type": "execute_result"
    },
    {
     "name": "stdout",
     "output_type": "stream",
     "text": [
      "index: 406 start:19494.875, width:0.041666666667879326\n"
     ]
    },
    {
     "data": {
      "text/plain": "<matplotlib.patches.Rectangle at 0x266398fb610>"
     },
     "execution_count": 7,
     "metadata": {},
     "output_type": "execute_result"
    },
    {
     "name": "stdout",
     "output_type": "stream",
     "text": [
      "index: 407 start:19494.916666666668, width:0.04166666666424135\n"
     ]
    },
    {
     "data": {
      "text/plain": "<matplotlib.patches.Rectangle at 0x266398d3f10>"
     },
     "execution_count": 7,
     "metadata": {},
     "output_type": "execute_result"
    },
    {
     "name": "stdout",
     "output_type": "stream",
     "text": [
      "index: 408 start:19494.958333333332, width:0.041666666667879326\n"
     ]
    },
    {
     "data": {
      "text/plain": "<matplotlib.patches.Rectangle at 0x26639914610>"
     },
     "execution_count": 7,
     "metadata": {},
     "output_type": "execute_result"
    },
    {
     "name": "stdout",
     "output_type": "stream",
     "text": [
      "index: 409 start:19495.0, width:0.041666666667879326\n"
     ]
    },
    {
     "data": {
      "text/plain": "<matplotlib.patches.Rectangle at 0x26639900b10>"
     },
     "execution_count": 7,
     "metadata": {},
     "output_type": "execute_result"
    },
    {
     "name": "stdout",
     "output_type": "stream",
     "text": [
      "index: 410 start:19495.041666666668, width:0.04166666666424135\n"
     ]
    },
    {
     "data": {
      "text/plain": "<matplotlib.patches.Rectangle at 0x266398fb550>"
     },
     "execution_count": 7,
     "metadata": {},
     "output_type": "execute_result"
    },
    {
     "name": "stdout",
     "output_type": "stream",
     "text": [
      "index: 411 start:19495.083333333332, width:0.041666666667879326\n"
     ]
    },
    {
     "data": {
      "text/plain": "<matplotlib.patches.Rectangle at 0x26639901210>"
     },
     "execution_count": 7,
     "metadata": {},
     "output_type": "execute_result"
    },
    {
     "name": "stdout",
     "output_type": "stream",
     "text": [
      "index: 412 start:19495.125, width:0.041666666667879326\n"
     ]
    },
    {
     "data": {
      "text/plain": "<matplotlib.patches.Rectangle at 0x26639914d90>"
     },
     "execution_count": 7,
     "metadata": {},
     "output_type": "execute_result"
    },
    {
     "name": "stdout",
     "output_type": "stream",
     "text": [
      "index: 413 start:19495.166666666668, width:0.04166666666424135\n"
     ]
    },
    {
     "data": {
      "text/plain": "<matplotlib.patches.Rectangle at 0x266398f50d0>"
     },
     "execution_count": 7,
     "metadata": {},
     "output_type": "execute_result"
    },
    {
     "name": "stdout",
     "output_type": "stream",
     "text": [
      "index: 415 start:19495.25, width:0.041666666667879326\n"
     ]
    },
    {
     "data": {
      "text/plain": "<matplotlib.patches.Rectangle at 0x26639916dd0>"
     },
     "execution_count": 7,
     "metadata": {},
     "output_type": "execute_result"
    },
    {
     "name": "stdout",
     "output_type": "stream",
     "text": [
      "index: 417 start:19495.333333333332, width:0.041666666667879326\n"
     ]
    },
    {
     "data": {
      "text/plain": "<matplotlib.patches.Rectangle at 0x266398af910>"
     },
     "execution_count": 7,
     "metadata": {},
     "output_type": "execute_result"
    },
    {
     "name": "stdout",
     "output_type": "stream",
     "text": [
      "index: 430 start:19495.875, width:0.041666666667879326\n"
     ]
    },
    {
     "data": {
      "text/plain": "<matplotlib.patches.Rectangle at 0x26639915b90>"
     },
     "execution_count": 7,
     "metadata": {},
     "output_type": "execute_result"
    },
    {
     "name": "stdout",
     "output_type": "stream",
     "text": [
      "index: 431 start:19495.916666666668, width:0.04166666666424135\n"
     ]
    },
    {
     "data": {
      "text/plain": "<matplotlib.patches.Rectangle at 0x266398d29d0>"
     },
     "execution_count": 7,
     "metadata": {},
     "output_type": "execute_result"
    },
    {
     "name": "stdout",
     "output_type": "stream",
     "text": [
      "index: 432 start:19495.958333333332, width:0.041666666667879326\n"
     ]
    },
    {
     "data": {
      "text/plain": "<matplotlib.patches.Rectangle at 0x26639924610>"
     },
     "execution_count": 7,
     "metadata": {},
     "output_type": "execute_result"
    },
    {
     "name": "stdout",
     "output_type": "stream",
     "text": [
      "index: 433 start:19496.0, width:0.041666666667879326\n"
     ]
    },
    {
     "data": {
      "text/plain": "<matplotlib.patches.Rectangle at 0x266399038d0>"
     },
     "execution_count": 7,
     "metadata": {},
     "output_type": "execute_result"
    },
    {
     "name": "stdout",
     "output_type": "stream",
     "text": [
      "index: 434 start:19496.041666666668, width:0.04166666666424135\n"
     ]
    },
    {
     "data": {
      "text/plain": "<matplotlib.patches.Rectangle at 0x26639925650>"
     },
     "execution_count": 7,
     "metadata": {},
     "output_type": "execute_result"
    },
    {
     "name": "stdout",
     "output_type": "stream",
     "text": [
      "index: 435 start:19496.083333333332, width:0.041666666667879326\n"
     ]
    },
    {
     "data": {
      "text/plain": "<matplotlib.patches.Rectangle at 0x266398d2b10>"
     },
     "execution_count": 7,
     "metadata": {},
     "output_type": "execute_result"
    },
    {
     "name": "stdout",
     "output_type": "stream",
     "text": [
      "index: 436 start:19496.125, width:0.041666666667879326\n"
     ]
    },
    {
     "data": {
      "text/plain": "<matplotlib.patches.Rectangle at 0x266398ae1d0>"
     },
     "execution_count": 7,
     "metadata": {},
     "output_type": "execute_result"
    },
    {
     "name": "stdout",
     "output_type": "stream",
     "text": [
      "index: 437 start:19496.166666666668, width:0.04166666666424135\n"
     ]
    },
    {
     "data": {
      "text/plain": "<matplotlib.patches.Rectangle at 0x26639903b90>"
     },
     "execution_count": 7,
     "metadata": {},
     "output_type": "execute_result"
    },
    {
     "name": "stdout",
     "output_type": "stream",
     "text": [
      "index: 468 start:19497.458333333332, width:0.041666666667879326\n"
     ]
    },
    {
     "data": {
      "text/plain": "<matplotlib.patches.Rectangle at 0x26623288f10>"
     },
     "execution_count": 7,
     "metadata": {},
     "output_type": "execute_result"
    },
    {
     "name": "stdout",
     "output_type": "stream",
     "text": [
      "index: 469 start:19497.5, width:0.041666666667879326\n"
     ]
    },
    {
     "data": {
      "text/plain": "<matplotlib.patches.Rectangle at 0x266398c65d0>"
     },
     "execution_count": 7,
     "metadata": {},
     "output_type": "execute_result"
    },
    {
     "name": "stdout",
     "output_type": "stream",
     "text": [
      "index: 477 start:19497.833333333332, width:0.041666666667879326\n"
     ]
    },
    {
     "data": {
      "text/plain": "<matplotlib.patches.Rectangle at 0x26639896f50>"
     },
     "execution_count": 7,
     "metadata": {},
     "output_type": "execute_result"
    },
    {
     "name": "stdout",
     "output_type": "stream",
     "text": [
      "index: 480 start:19497.958333333332, width:0.041666666667879326\n"
     ]
    },
    {
     "data": {
      "text/plain": "<matplotlib.patches.Rectangle at 0x26639928a50>"
     },
     "execution_count": 7,
     "metadata": {},
     "output_type": "execute_result"
    },
    {
     "name": "stdout",
     "output_type": "stream",
     "text": [
      "index: 481 start:19498.0, width:0.041666666667879326\n"
     ]
    },
    {
     "data": {
      "text/plain": "<matplotlib.patches.Rectangle at 0x26639914910>"
     },
     "execution_count": 7,
     "metadata": {},
     "output_type": "execute_result"
    },
    {
     "name": "stdout",
     "output_type": "stream",
     "text": [
      "index: 482 start:19498.041666666668, width:0.04166666666424135\n"
     ]
    },
    {
     "data": {
      "text/plain": "<matplotlib.patches.Rectangle at 0x26639889710>"
     },
     "execution_count": 7,
     "metadata": {},
     "output_type": "execute_result"
    },
    {
     "name": "stdout",
     "output_type": "stream",
     "text": [
      "index: 483 start:19498.083333333332, width:0.041666666667879326\n"
     ]
    },
    {
     "data": {
      "text/plain": "<matplotlib.patches.Rectangle at 0x266398f6250>"
     },
     "execution_count": 7,
     "metadata": {},
     "output_type": "execute_result"
    },
    {
     "name": "stdout",
     "output_type": "stream",
     "text": [
      "index: 484 start:19498.125, width:0.041666666667879326\n"
     ]
    },
    {
     "data": {
      "text/plain": "<matplotlib.patches.Rectangle at 0x266398f9690>"
     },
     "execution_count": 7,
     "metadata": {},
     "output_type": "execute_result"
    },
    {
     "name": "stdout",
     "output_type": "stream",
     "text": [
      "index: 485 start:19498.166666666668, width:0.04166666666424135\n"
     ]
    },
    {
     "data": {
      "text/plain": "<matplotlib.patches.Rectangle at 0x266398fb010>"
     },
     "execution_count": 7,
     "metadata": {},
     "output_type": "execute_result"
    },
    {
     "name": "stdout",
     "output_type": "stream",
     "text": [
      "index: 502 start:19498.875, width:0.041666666667879326\n"
     ]
    },
    {
     "data": {
      "text/plain": "<matplotlib.patches.Rectangle at 0x2663992b890>"
     },
     "execution_count": 7,
     "metadata": {},
     "output_type": "execute_result"
    },
    {
     "name": "stdout",
     "output_type": "stream",
     "text": [
      "index: 503 start:19498.916666666668, width:0.04166666666424135\n"
     ]
    },
    {
     "data": {
      "text/plain": "<matplotlib.patches.Rectangle at 0x26639901fd0>"
     },
     "execution_count": 7,
     "metadata": {},
     "output_type": "execute_result"
    },
    {
     "name": "stdout",
     "output_type": "stream",
     "text": [
      "index: 504 start:19498.958333333332, width:0.041666666667879326\n"
     ]
    },
    {
     "data": {
      "text/plain": "<matplotlib.patches.Rectangle at 0x26639944550>"
     },
     "execution_count": 7,
     "metadata": {},
     "output_type": "execute_result"
    },
    {
     "name": "stdout",
     "output_type": "stream",
     "text": [
      "index: 505 start:19499.0, width:0.041666666667879326\n"
     ]
    },
    {
     "data": {
      "text/plain": "<matplotlib.patches.Rectangle at 0x26639916f10>"
     },
     "execution_count": 7,
     "metadata": {},
     "output_type": "execute_result"
    },
    {
     "name": "stdout",
     "output_type": "stream",
     "text": [
      "index: 506 start:19499.041666666668, width:0.04166666666424135\n"
     ]
    },
    {
     "data": {
      "text/plain": "<matplotlib.patches.Rectangle at 0x26639924310>"
     },
     "execution_count": 7,
     "metadata": {},
     "output_type": "execute_result"
    },
    {
     "name": "stdout",
     "output_type": "stream",
     "text": [
      "index: 507 start:19499.083333333332, width:0.041666666667879326\n"
     ]
    },
    {
     "data": {
      "text/plain": "<matplotlib.patches.Rectangle at 0x26639895d50>"
     },
     "execution_count": 7,
     "metadata": {},
     "output_type": "execute_result"
    },
    {
     "name": "stdout",
     "output_type": "stream",
     "text": [
      "index: 508 start:19499.125, width:0.041666666667879326\n"
     ]
    },
    {
     "data": {
      "text/plain": "<matplotlib.patches.Rectangle at 0x26639928d90>"
     },
     "execution_count": 7,
     "metadata": {},
     "output_type": "execute_result"
    },
    {
     "name": "stdout",
     "output_type": "stream",
     "text": [
      "index: 509 start:19499.166666666668, width:0.04166666666424135\n"
     ]
    },
    {
     "data": {
      "text/plain": "<matplotlib.patches.Rectangle at 0x266398d5490>"
     },
     "execution_count": 7,
     "metadata": {},
     "output_type": "execute_result"
    },
    {
     "name": "stdout",
     "output_type": "stream",
     "text": [
      "index: 516 start:19499.458333333332, width:0.041666666667879326\n"
     ]
    },
    {
     "data": {
      "text/plain": "<matplotlib.patches.Rectangle at 0x26639896750>"
     },
     "execution_count": 7,
     "metadata": {},
     "output_type": "execute_result"
    },
    {
     "name": "stdout",
     "output_type": "stream",
     "text": [
      "index: 517 start:19499.5, width:0.041666666667879326\n"
     ]
    },
    {
     "data": {
      "text/plain": "<matplotlib.patches.Rectangle at 0x266398c77d0>"
     },
     "execution_count": 7,
     "metadata": {},
     "output_type": "execute_result"
    },
    {
     "name": "stdout",
     "output_type": "stream",
     "text": [
      "index: 526 start:19499.875, width:0.041666666667879326\n"
     ]
    },
    {
     "data": {
      "text/plain": "<matplotlib.patches.Rectangle at 0x26639947310>"
     },
     "execution_count": 7,
     "metadata": {},
     "output_type": "execute_result"
    },
    {
     "name": "stdout",
     "output_type": "stream",
     "text": [
      "index: 527 start:19499.916666666668, width:0.04166666666424135\n"
     ]
    },
    {
     "data": {
      "text/plain": "<matplotlib.patches.Rectangle at 0x266237b9850>"
     },
     "execution_count": 7,
     "metadata": {},
     "output_type": "execute_result"
    },
    {
     "name": "stdout",
     "output_type": "stream",
     "text": [
      "index: 528 start:19499.958333333332, width:0.041666666667879326\n"
     ]
    },
    {
     "data": {
      "text/plain": "<matplotlib.patches.Rectangle at 0x266398f74d0>"
     },
     "execution_count": 7,
     "metadata": {},
     "output_type": "execute_result"
    },
    {
     "name": "stdout",
     "output_type": "stream",
     "text": [
      "index: 529 start:19500.0, width:0.041666666667879326\n"
     ]
    },
    {
     "data": {
      "text/plain": "<matplotlib.patches.Rectangle at 0x26639944ad0>"
     },
     "execution_count": 7,
     "metadata": {},
     "output_type": "execute_result"
    },
    {
     "name": "stdout",
     "output_type": "stream",
     "text": [
      "index: 530 start:19500.041666666668, width:0.04166666666424135\n"
     ]
    },
    {
     "data": {
      "text/plain": "<matplotlib.patches.Rectangle at 0x26639957910>"
     },
     "execution_count": 7,
     "metadata": {},
     "output_type": "execute_result"
    },
    {
     "name": "stdout",
     "output_type": "stream",
     "text": [
      "index: 531 start:19500.083333333332, width:0.041666666667879326\n"
     ]
    },
    {
     "data": {
      "text/plain": "<matplotlib.patches.Rectangle at 0x26639914110>"
     },
     "execution_count": 7,
     "metadata": {},
     "output_type": "execute_result"
    },
    {
     "name": "stdout",
     "output_type": "stream",
     "text": [
      "index: 532 start:19500.125, width:0.041666666667879326\n"
     ]
    },
    {
     "data": {
      "text/plain": "<matplotlib.patches.Rectangle at 0x265f3e07310>"
     },
     "execution_count": 7,
     "metadata": {},
     "output_type": "execute_result"
    },
    {
     "name": "stdout",
     "output_type": "stream",
     "text": [
      "index: 533 start:19500.166666666668, width:0.04166666666424135\n"
     ]
    },
    {
     "data": {
      "text/plain": "<matplotlib.patches.Rectangle at 0x26639947710>"
     },
     "execution_count": 7,
     "metadata": {},
     "output_type": "execute_result"
    },
    {
     "name": "stdout",
     "output_type": "stream",
     "text": [
      "index: 544 start:19500.625, width:0.041666666667879326\n"
     ]
    },
    {
     "data": {
      "text/plain": "<matplotlib.patches.Rectangle at 0x26639925790>"
     },
     "execution_count": 7,
     "metadata": {},
     "output_type": "execute_result"
    },
    {
     "name": "stdout",
     "output_type": "stream",
     "text": [
      "index: 545 start:19500.666666666668, width:0.04166666666424135\n"
     ]
    },
    {
     "data": {
      "text/plain": "<matplotlib.patches.Rectangle at 0x26639945d10>"
     },
     "execution_count": 7,
     "metadata": {},
     "output_type": "execute_result"
    },
    {
     "name": "stdout",
     "output_type": "stream",
     "text": [
      "index: 547 start:19500.75, width:0.041666666667879326\n"
     ]
    },
    {
     "data": {
      "text/plain": "<matplotlib.patches.Rectangle at 0x26639962e90>"
     },
     "execution_count": 7,
     "metadata": {},
     "output_type": "execute_result"
    },
    {
     "name": "stdout",
     "output_type": "stream",
     "text": [
      "index: 548 start:19500.791666666668, width:0.04166666666424135\n"
     ]
    },
    {
     "data": {
      "text/plain": "<matplotlib.patches.Rectangle at 0x26639929dd0>"
     },
     "execution_count": 7,
     "metadata": {},
     "output_type": "execute_result"
    },
    {
     "name": "stdout",
     "output_type": "stream",
     "text": [
      "index: 549 start:19500.833333333332, width:0.041666666667879326\n"
     ]
    },
    {
     "data": {
      "text/plain": "<matplotlib.patches.Rectangle at 0x2663992b410>"
     },
     "execution_count": 7,
     "metadata": {},
     "output_type": "execute_result"
    },
    {
     "name": "stdout",
     "output_type": "stream",
     "text": [
      "index: 553 start:19501.0, width:0.041666666667879326\n"
     ]
    },
    {
     "data": {
      "text/plain": "<matplotlib.patches.Rectangle at 0x26639897410>"
     },
     "execution_count": 7,
     "metadata": {},
     "output_type": "execute_result"
    },
    {
     "name": "stdout",
     "output_type": "stream",
     "text": [
      "index: 555 start:19501.083333333332, width:0.041666666667879326\n"
     ]
    },
    {
     "data": {
      "text/plain": "<matplotlib.patches.Rectangle at 0x26639961c90>"
     },
     "execution_count": 7,
     "metadata": {},
     "output_type": "execute_result"
    },
    {
     "name": "stdout",
     "output_type": "stream",
     "text": [
      "index: 556 start:19501.125, width:0.041666666667879326\n"
     ]
    },
    {
     "data": {
      "text/plain": "<matplotlib.patches.Rectangle at 0x266398f7d50>"
     },
     "execution_count": 7,
     "metadata": {},
     "output_type": "execute_result"
    },
    {
     "name": "stdout",
     "output_type": "stream",
     "text": [
      "index: 574 start:19501.875, width:0.041666666667879326\n"
     ]
    },
    {
     "data": {
      "text/plain": "<matplotlib.patches.Rectangle at 0x26639956550>"
     },
     "execution_count": 7,
     "metadata": {},
     "output_type": "execute_result"
    },
    {
     "name": "stdout",
     "output_type": "stream",
     "text": [
      "index: 575 start:19501.916666666668, width:0.04166666666424135\n"
     ]
    },
    {
     "data": {
      "text/plain": "<matplotlib.patches.Rectangle at 0x2663988bf50>"
     },
     "execution_count": 7,
     "metadata": {},
     "output_type": "execute_result"
    },
    {
     "name": "stdout",
     "output_type": "stream",
     "text": [
      "index: 576 start:19501.958333333332, width:0.041666666667879326\n"
     ]
    },
    {
     "data": {
      "text/plain": "<matplotlib.patches.Rectangle at 0x266237ba090>"
     },
     "execution_count": 7,
     "metadata": {},
     "output_type": "execute_result"
    },
    {
     "name": "stdout",
     "output_type": "stream",
     "text": [
      "index: 577 start:19502.0, width:0.041666666667879326\n"
     ]
    },
    {
     "data": {
      "text/plain": "<matplotlib.patches.Rectangle at 0x2663996b890>"
     },
     "execution_count": 7,
     "metadata": {},
     "output_type": "execute_result"
    },
    {
     "name": "stdout",
     "output_type": "stream",
     "text": [
      "index: 578 start:19502.041666666668, width:0.04166666666424135\n"
     ]
    },
    {
     "data": {
      "text/plain": "<matplotlib.patches.Rectangle at 0x2663996a710>"
     },
     "execution_count": 7,
     "metadata": {},
     "output_type": "execute_result"
    },
    {
     "name": "stdout",
     "output_type": "stream",
     "text": [
      "index: 579 start:19502.083333333332, width:0.041666666667879326\n"
     ]
    },
    {
     "data": {
      "text/plain": "<matplotlib.patches.Rectangle at 0x26639969790>"
     },
     "execution_count": 7,
     "metadata": {},
     "output_type": "execute_result"
    },
    {
     "name": "stdout",
     "output_type": "stream",
     "text": [
      "index: 580 start:19502.125, width:0.041666666667879326\n"
     ]
    },
    {
     "data": {
      "text/plain": "<matplotlib.patches.Rectangle at 0x26639897190>"
     },
     "execution_count": 7,
     "metadata": {},
     "output_type": "execute_result"
    },
    {
     "name": "stdout",
     "output_type": "stream",
     "text": [
      "index: 581 start:19502.166666666668, width:0.04166666666424135\n"
     ]
    },
    {
     "data": {
      "text/plain": "<matplotlib.patches.Rectangle at 0x266398fb110>"
     },
     "execution_count": 7,
     "metadata": {},
     "output_type": "execute_result"
    },
    {
     "name": "stdout",
     "output_type": "stream",
     "text": [
      "index: 598 start:19502.875, width:0.041666666667879326\n"
     ]
    },
    {
     "data": {
      "text/plain": "<matplotlib.patches.Rectangle at 0x26639963f50>"
     },
     "execution_count": 7,
     "metadata": {},
     "output_type": "execute_result"
    },
    {
     "name": "stdout",
     "output_type": "stream",
     "text": [
      "index: 599 start:19502.916666666668, width:0.04166666666424135\n"
     ]
    },
    {
     "data": {
      "text/plain": "<matplotlib.patches.Rectangle at 0x266398ac990>"
     },
     "execution_count": 7,
     "metadata": {},
     "output_type": "execute_result"
    },
    {
     "name": "stdout",
     "output_type": "stream",
     "text": [
      "index: 600 start:19502.958333333332, width:0.041666666667879326\n"
     ]
    },
    {
     "data": {
      "text/plain": "<matplotlib.patches.Rectangle at 0x266398d5810>"
     },
     "execution_count": 7,
     "metadata": {},
     "output_type": "execute_result"
    },
    {
     "name": "stdout",
     "output_type": "stream",
     "text": [
      "index: 601 start:19503.0, width:0.041666666667879326\n"
     ]
    },
    {
     "data": {
      "text/plain": "<matplotlib.patches.Rectangle at 0x26639969250>"
     },
     "execution_count": 7,
     "metadata": {},
     "output_type": "execute_result"
    },
    {
     "name": "stdout",
     "output_type": "stream",
     "text": [
      "index: 602 start:19503.041666666668, width:0.04166666666424135\n"
     ]
    },
    {
     "data": {
      "text/plain": "<matplotlib.patches.Rectangle at 0x2663997b6d0>"
     },
     "execution_count": 7,
     "metadata": {},
     "output_type": "execute_result"
    },
    {
     "name": "stdout",
     "output_type": "stream",
     "text": [
      "index: 603 start:19503.083333333332, width:0.041666666667879326\n"
     ]
    },
    {
     "data": {
      "text/plain": "<matplotlib.patches.Rectangle at 0x26639915490>"
     },
     "execution_count": 7,
     "metadata": {},
     "output_type": "execute_result"
    },
    {
     "name": "stdout",
     "output_type": "stream",
     "text": [
      "index: 604 start:19503.125, width:0.041666666667879326\n"
     ]
    },
    {
     "data": {
      "text/plain": "<matplotlib.patches.Rectangle at 0x266398d0a90>"
     },
     "execution_count": 7,
     "metadata": {},
     "output_type": "execute_result"
    },
    {
     "name": "stdout",
     "output_type": "stream",
     "text": [
      "index: 605 start:19503.166666666668, width:0.04166666666424135\n"
     ]
    },
    {
     "data": {
      "text/plain": "<matplotlib.patches.Rectangle at 0x266398adcd0>"
     },
     "execution_count": 7,
     "metadata": {},
     "output_type": "execute_result"
    },
    {
     "name": "stdout",
     "output_type": "stream",
     "text": [
      "index: 632 start:19504.291666666668, width:0.04166666666424135\n"
     ]
    },
    {
     "data": {
      "text/plain": "<matplotlib.patches.Rectangle at 0x266237afd10>"
     },
     "execution_count": 7,
     "metadata": {},
     "output_type": "execute_result"
    },
    {
     "name": "stdout",
     "output_type": "stream",
     "text": [
      "index: 642 start:19504.708333333332, width:0.041666666667879326\n"
     ]
    },
    {
     "data": {
      "text/plain": "<matplotlib.patches.Rectangle at 0x26623271f90>"
     },
     "execution_count": 7,
     "metadata": {},
     "output_type": "execute_result"
    },
    {
     "name": "stdout",
     "output_type": "stream",
     "text": [
      "index: 643 start:19504.75, width:0.041666666667879326\n"
     ]
    },
    {
     "data": {
      "text/plain": "<matplotlib.patches.Rectangle at 0x266398fa850>"
     },
     "execution_count": 7,
     "metadata": {},
     "output_type": "execute_result"
    },
    {
     "name": "stdout",
     "output_type": "stream",
     "text": [
      "index: 644 start:19504.791666666668, width:0.04166666666424135\n"
     ]
    },
    {
     "data": {
      "text/plain": "<matplotlib.patches.Rectangle at 0x26639960ad0>"
     },
     "execution_count": 7,
     "metadata": {},
     "output_type": "execute_result"
    },
    {
     "name": "stdout",
     "output_type": "stream",
     "text": [
      "index: 645 start:19504.833333333332, width:0.041666666667879326\n"
     ]
    },
    {
     "data": {
      "text/plain": "<matplotlib.patches.Rectangle at 0x266398f6a50>"
     },
     "execution_count": 7,
     "metadata": {},
     "output_type": "execute_result"
    },
    {
     "name": "stdout",
     "output_type": "stream",
     "text": [
      "index: 649 start:19505.0, width:0.041666666667879326\n"
     ]
    },
    {
     "data": {
      "text/plain": "<matplotlib.patches.Rectangle at 0x266398fab10>"
     },
     "execution_count": 7,
     "metadata": {},
     "output_type": "execute_result"
    },
    {
     "name": "stdout",
     "output_type": "stream",
     "text": [
      "index: 651 start:19505.083333333332, width:0.041666666667879326\n"
     ]
    },
    {
     "data": {
      "text/plain": "<matplotlib.patches.Rectangle at 0x26639889f90>"
     },
     "execution_count": 7,
     "metadata": {},
     "output_type": "execute_result"
    },
    {
     "name": "stdout",
     "output_type": "stream",
     "text": [
      "index: 652 start:19505.125, width:0.041666666667879326\n"
     ]
    },
    {
     "data": {
      "text/plain": "<matplotlib.patches.Rectangle at 0x266398d1ad0>"
     },
     "execution_count": 7,
     "metadata": {},
     "output_type": "execute_result"
    },
    {
     "name": "stdout",
     "output_type": "stream",
     "text": [
      "index: 670 start:19505.875, width:0.041666666667879326\n"
     ]
    },
    {
     "data": {
      "text/plain": "<matplotlib.patches.Rectangle at 0x266398d3510>"
     },
     "execution_count": 7,
     "metadata": {},
     "output_type": "execute_result"
    },
    {
     "name": "stdout",
     "output_type": "stream",
     "text": [
      "index: 671 start:19505.916666666668, width:0.04166666666424135\n"
     ]
    },
    {
     "data": {
      "text/plain": "<matplotlib.patches.Rectangle at 0x266232605d0>"
     },
     "execution_count": 7,
     "metadata": {},
     "output_type": "execute_result"
    },
    {
     "name": "stdout",
     "output_type": "stream",
     "text": [
      "index: 672 start:19505.958333333332, width:0.041666666667879326\n"
     ]
    },
    {
     "data": {
      "text/plain": "<matplotlib.patches.Rectangle at 0x26639979390>"
     },
     "execution_count": 7,
     "metadata": {},
     "output_type": "execute_result"
    },
    {
     "name": "stdout",
     "output_type": "stream",
     "text": [
      "index: 673 start:19506.0, width:0.041666666667879326\n"
     ]
    },
    {
     "data": {
      "text/plain": "<matplotlib.patches.Rectangle at 0x266237ba450>"
     },
     "execution_count": 7,
     "metadata": {},
     "output_type": "execute_result"
    },
    {
     "name": "stdout",
     "output_type": "stream",
     "text": [
      "index: 674 start:19506.041666666668, width:0.04166666666424135\n"
     ]
    },
    {
     "data": {
      "text/plain": "<matplotlib.patches.Rectangle at 0x266399296d0>"
     },
     "execution_count": 7,
     "metadata": {},
     "output_type": "execute_result"
    },
    {
     "name": "stdout",
     "output_type": "stream",
     "text": [
      "index: 675 start:19506.083333333332, width:0.041666666667879326\n"
     ]
    },
    {
     "data": {
      "text/plain": "<matplotlib.patches.Rectangle at 0x266399a2090>"
     },
     "execution_count": 7,
     "metadata": {},
     "output_type": "execute_result"
    },
    {
     "name": "stdout",
     "output_type": "stream",
     "text": [
      "index: 676 start:19506.125, width:0.041666666667879326\n"
     ]
    },
    {
     "data": {
      "text/plain": "<matplotlib.patches.Rectangle at 0x266399a1e90>"
     },
     "execution_count": 7,
     "metadata": {},
     "output_type": "execute_result"
    },
    {
     "name": "stdout",
     "output_type": "stream",
     "text": [
      "index: 677 start:19506.166666666668, width:0.04166666666424135\n"
     ]
    },
    {
     "data": {
      "text/plain": "<matplotlib.patches.Rectangle at 0x2663997b410>"
     },
     "execution_count": 7,
     "metadata": {},
     "output_type": "execute_result"
    },
    {
     "name": "stdout",
     "output_type": "stream",
     "text": [
      "index: 694 start:19506.875, width:0.041666666667879326\n"
     ]
    },
    {
     "data": {
      "text/plain": "<matplotlib.patches.Rectangle at 0x26639944510>"
     },
     "execution_count": 7,
     "metadata": {},
     "output_type": "execute_result"
    },
    {
     "name": "stdout",
     "output_type": "stream",
     "text": [
      "index: 695 start:19506.916666666668, width:0.04166666666424135\n"
     ]
    },
    {
     "data": {
      "text/plain": "<matplotlib.patches.Rectangle at 0x266399028d0>"
     },
     "execution_count": 7,
     "metadata": {},
     "output_type": "execute_result"
    },
    {
     "name": "stdout",
     "output_type": "stream",
     "text": [
      "index: 696 start:19506.958333333332, width:0.041666666667879326\n"
     ]
    },
    {
     "data": {
      "text/plain": "<matplotlib.patches.Rectangle at 0x266398c5210>"
     },
     "execution_count": 7,
     "metadata": {},
     "output_type": "execute_result"
    },
    {
     "name": "stdout",
     "output_type": "stream",
     "text": [
      "index: 697 start:19507.0, width:0.041666666667879326\n"
     ]
    },
    {
     "data": {
      "text/plain": "<matplotlib.patches.Rectangle at 0x26639929710>"
     },
     "execution_count": 7,
     "metadata": {},
     "output_type": "execute_result"
    },
    {
     "name": "stdout",
     "output_type": "stream",
     "text": [
      "index: 698 start:19507.041666666668, width:0.04166666666424135\n"
     ]
    },
    {
     "data": {
      "text/plain": "<matplotlib.patches.Rectangle at 0x26623783510>"
     },
     "execution_count": 7,
     "metadata": {},
     "output_type": "execute_result"
    },
    {
     "name": "stdout",
     "output_type": "stream",
     "text": [
      "index: 699 start:19507.083333333332, width:0.041666666667879326\n"
     ]
    },
    {
     "data": {
      "text/plain": "<matplotlib.patches.Rectangle at 0x26639900d10>"
     },
     "execution_count": 7,
     "metadata": {},
     "output_type": "execute_result"
    },
    {
     "name": "stdout",
     "output_type": "stream",
     "text": [
      "index: 700 start:19507.125, width:0.041666666667879326\n"
     ]
    },
    {
     "data": {
      "text/plain": "<matplotlib.patches.Rectangle at 0x266237b91d0>"
     },
     "execution_count": 7,
     "metadata": {},
     "output_type": "execute_result"
    },
    {
     "name": "stdout",
     "output_type": "stream",
     "text": [
      "index: 701 start:19507.166666666668, width:0.04166666666424135\n"
     ]
    },
    {
     "data": {
      "text/plain": "<matplotlib.patches.Rectangle at 0x266399687d0>"
     },
     "execution_count": 7,
     "metadata": {},
     "output_type": "execute_result"
    },
    {
     "name": "stdout",
     "output_type": "stream",
     "text": [
      "index: 720 start:19507.958333333332, width:0.041666666667879326\n"
     ]
    },
    {
     "data": {
      "text/plain": "<matplotlib.patches.Rectangle at 0x266399013d0>"
     },
     "execution_count": 7,
     "metadata": {},
     "output_type": "execute_result"
    },
    {
     "name": "stdout",
     "output_type": "stream",
     "text": [
      "index: 721 start:19508.0, width:0.041666666667879326\n"
     ]
    },
    {
     "data": {
      "text/plain": "<matplotlib.patches.Rectangle at 0x266399a0f90>"
     },
     "execution_count": 7,
     "metadata": {},
     "output_type": "execute_result"
    },
    {
     "name": "stdout",
     "output_type": "stream",
     "text": [
      "index: 722 start:19508.041666666668, width:0.04166666666424135\n"
     ]
    },
    {
     "data": {
      "text/plain": "<matplotlib.patches.Rectangle at 0x266399bcf90>"
     },
     "execution_count": 7,
     "metadata": {},
     "output_type": "execute_result"
    },
    {
     "name": "stdout",
     "output_type": "stream",
     "text": [
      "index: 723 start:19508.083333333332, width:0.041666666667879326\n"
     ]
    },
    {
     "data": {
      "text/plain": "<matplotlib.patches.Rectangle at 0x26639982010>"
     },
     "execution_count": 7,
     "metadata": {},
     "output_type": "execute_result"
    },
    {
     "name": "stdout",
     "output_type": "stream",
     "text": [
      "index: 724 start:19508.125, width:0.041666666667879326\n"
     ]
    },
    {
     "data": {
      "text/plain": "<matplotlib.patches.Rectangle at 0x2663997b690>"
     },
     "execution_count": 7,
     "metadata": {},
     "output_type": "execute_result"
    },
    {
     "name": "stdout",
     "output_type": "stream",
     "text": [
      "index: 725 start:19508.166666666668, width:0.04166666666424135\n"
     ]
    },
    {
     "data": {
      "text/plain": "<matplotlib.patches.Rectangle at 0x26639928890>"
     },
     "execution_count": 7,
     "metadata": {},
     "output_type": "execute_result"
    },
    {
     "name": "stdout",
     "output_type": "stream",
     "text": [
      "index: 742 start:19508.875, width:0.041666666667879326\n"
     ]
    },
    {
     "data": {
      "text/plain": "<matplotlib.patches.Rectangle at 0x266399909d0>"
     },
     "execution_count": 7,
     "metadata": {},
     "output_type": "execute_result"
    },
    {
     "name": "stdout",
     "output_type": "stream",
     "text": [
      "index: 743 start:19508.916666666668, width:0.04166666666424135\n"
     ]
    },
    {
     "data": {
      "text/plain": "<matplotlib.patches.Rectangle at 0x266399bf210>"
     },
     "execution_count": 7,
     "metadata": {},
     "output_type": "execute_result"
    },
    {
     "name": "stdout",
     "output_type": "stream",
     "text": [
      "index: 744 start:19508.958333333332, width:0.041666666667879326\n"
     ]
    },
    {
     "data": {
      "text/plain": "<matplotlib.patches.Rectangle at 0x26639929610>"
     },
     "execution_count": 7,
     "metadata": {},
     "output_type": "execute_result"
    },
    {
     "name": "stdout",
     "output_type": "stream",
     "text": [
      "index: 745 start:19509.0, width:0.041666666667879326\n"
     ]
    },
    {
     "data": {
      "text/plain": "<matplotlib.patches.Rectangle at 0x266399bf990>"
     },
     "execution_count": 7,
     "metadata": {},
     "output_type": "execute_result"
    },
    {
     "name": "stdout",
     "output_type": "stream",
     "text": [
      "index: 746 start:19509.041666666668, width:0.04166666666424135\n"
     ]
    },
    {
     "data": {
      "text/plain": "<matplotlib.patches.Rectangle at 0x26639960150>"
     },
     "execution_count": 7,
     "metadata": {},
     "output_type": "execute_result"
    },
    {
     "name": "stdout",
     "output_type": "stream",
     "text": [
      "index: 747 start:19509.083333333332, width:0.041666666667879326\n"
     ]
    },
    {
     "data": {
      "text/plain": "<matplotlib.patches.Rectangle at 0x266399c8090>"
     },
     "execution_count": 7,
     "metadata": {},
     "output_type": "execute_result"
    },
    {
     "name": "stdout",
     "output_type": "stream",
     "text": [
      "index: 748 start:19509.125, width:0.041666666667879326\n"
     ]
    },
    {
     "data": {
      "text/plain": "<matplotlib.patches.Rectangle at 0x266399bd710>"
     },
     "execution_count": 7,
     "metadata": {},
     "output_type": "execute_result"
    },
    {
     "name": "stdout",
     "output_type": "stream",
     "text": [
      "index: 749 start:19509.166666666668, width:0.04166666666424135\n"
     ]
    },
    {
     "data": {
      "text/plain": "<matplotlib.patches.Rectangle at 0x266399a09d0>"
     },
     "execution_count": 7,
     "metadata": {},
     "output_type": "execute_result"
    },
    {
     "name": "stdout",
     "output_type": "stream",
     "text": [
      "index: 756 start:19509.458333333332, width:0.041666666667879326\n"
     ]
    },
    {
     "data": {
      "text/plain": "<matplotlib.patches.Rectangle at 0x266398d0450>"
     },
     "execution_count": 7,
     "metadata": {},
     "output_type": "execute_result"
    },
    {
     "name": "stdout",
     "output_type": "stream",
     "text": [
      "index: 757 start:19509.5, width:0.041666666667879326\n"
     ]
    },
    {
     "data": {
      "text/plain": "<matplotlib.patches.Rectangle at 0x266399c9990>"
     },
     "execution_count": 7,
     "metadata": {},
     "output_type": "execute_result"
    },
    {
     "name": "stdout",
     "output_type": "stream",
     "text": [
      "index: 766 start:19509.875, width:0.041666666667879326\n"
     ]
    },
    {
     "data": {
      "text/plain": "<matplotlib.patches.Rectangle at 0x266399d8a10>"
     },
     "execution_count": 7,
     "metadata": {},
     "output_type": "execute_result"
    },
    {
     "name": "stdout",
     "output_type": "stream",
     "text": [
      "index: 767 start:19509.916666666668, width:0.04166666666424135\n"
     ]
    },
    {
     "data": {
      "text/plain": "<matplotlib.patches.Rectangle at 0x266398a8c90>"
     },
     "execution_count": 7,
     "metadata": {},
     "output_type": "execute_result"
    },
    {
     "name": "stdout",
     "output_type": "stream",
     "text": [
      "index: 768 start:19509.958333333332, width:0.041666666667879326\n"
     ]
    },
    {
     "data": {
      "text/plain": "<matplotlib.patches.Rectangle at 0x2663992b9d0>"
     },
     "execution_count": 7,
     "metadata": {},
     "output_type": "execute_result"
    },
    {
     "name": "stdout",
     "output_type": "stream",
     "text": [
      "index: 769 start:19510.0, width:0.041666666667879326\n"
     ]
    },
    {
     "data": {
      "text/plain": "<matplotlib.patches.Rectangle at 0x266399dae90>"
     },
     "execution_count": 7,
     "metadata": {},
     "output_type": "execute_result"
    },
    {
     "name": "stdout",
     "output_type": "stream",
     "text": [
      "index: 770 start:19510.041666666668, width:0.04166666666424135\n"
     ]
    },
    {
     "data": {
      "text/plain": "<matplotlib.patches.Rectangle at 0x26639978490>"
     },
     "execution_count": 7,
     "metadata": {},
     "output_type": "execute_result"
    },
    {
     "name": "stdout",
     "output_type": "stream",
     "text": [
      "index: 771 start:19510.083333333332, width:0.041666666667879326\n"
     ]
    },
    {
     "data": {
      "text/plain": "<matplotlib.patches.Rectangle at 0x26639925850>"
     },
     "execution_count": 7,
     "metadata": {},
     "output_type": "execute_result"
    },
    {
     "name": "stdout",
     "output_type": "stream",
     "text": [
      "index: 772 start:19510.125, width:0.041666666667879326\n"
     ]
    },
    {
     "data": {
      "text/plain": "<matplotlib.patches.Rectangle at 0x266398d1a90>"
     },
     "execution_count": 7,
     "metadata": {},
     "output_type": "execute_result"
    },
    {
     "name": "stdout",
     "output_type": "stream",
     "text": [
      "index: 773 start:19510.166666666668, width:0.04166666666424135\n"
     ]
    },
    {
     "data": {
      "text/plain": "<matplotlib.patches.Rectangle at 0x26639993ed0>"
     },
     "execution_count": 7,
     "metadata": {},
     "output_type": "execute_result"
    },
    {
     "name": "stdout",
     "output_type": "stream",
     "text": [
      "index: 816 start:19511.958333333332, width:0.041666666667879326\n"
     ]
    },
    {
     "data": {
      "text/plain": "<matplotlib.patches.Rectangle at 0x266398a9790>"
     },
     "execution_count": 7,
     "metadata": {},
     "output_type": "execute_result"
    },
    {
     "name": "stdout",
     "output_type": "stream",
     "text": [
      "index: 817 start:19512.0, width:0.041666666667879326\n"
     ]
    },
    {
     "data": {
      "text/plain": "<matplotlib.patches.Rectangle at 0x266398aa2d0>"
     },
     "execution_count": 7,
     "metadata": {},
     "output_type": "execute_result"
    },
    {
     "name": "stdout",
     "output_type": "stream",
     "text": [
      "index: 818 start:19512.041666666668, width:0.04166666666424135\n"
     ]
    },
    {
     "data": {
      "text/plain": "<matplotlib.patches.Rectangle at 0x266399eab90>"
     },
     "execution_count": 7,
     "metadata": {},
     "output_type": "execute_result"
    },
    {
     "name": "stdout",
     "output_type": "stream",
     "text": [
      "index: 819 start:19512.083333333332, width:0.041666666667879326\n"
     ]
    },
    {
     "data": {
      "text/plain": "<matplotlib.patches.Rectangle at 0x266399e9750>"
     },
     "execution_count": 7,
     "metadata": {},
     "output_type": "execute_result"
    },
    {
     "name": "stdout",
     "output_type": "stream",
     "text": [
      "index: 820 start:19512.125, width:0.041666666667879326\n"
     ]
    },
    {
     "data": {
      "text/plain": "<matplotlib.patches.Rectangle at 0x26639981810>"
     },
     "execution_count": 7,
     "metadata": {},
     "output_type": "execute_result"
    },
    {
     "name": "stdout",
     "output_type": "stream",
     "text": [
      "index: 821 start:19512.166666666668, width:0.04166666666424135\n"
     ]
    },
    {
     "data": {
      "text/plain": "<matplotlib.patches.Rectangle at 0x266399f4890>"
     },
     "execution_count": 7,
     "metadata": {},
     "output_type": "execute_result"
    },
    {
     "name": "stdout",
     "output_type": "stream",
     "text": [
      "index: 840 start:19512.958333333332, width:0.041666666667879326\n"
     ]
    },
    {
     "data": {
      "text/plain": "<matplotlib.patches.Rectangle at 0x266399f4810>"
     },
     "execution_count": 7,
     "metadata": {},
     "output_type": "execute_result"
    },
    {
     "name": "stdout",
     "output_type": "stream",
     "text": [
      "index: 842 start:19513.041666666668, width:0.04166666666424135\n"
     ]
    },
    {
     "data": {
      "text/plain": "<matplotlib.patches.Rectangle at 0x26623271ed0>"
     },
     "execution_count": 7,
     "metadata": {},
     "output_type": "execute_result"
    },
    {
     "name": "stdout",
     "output_type": "stream",
     "text": [
      "index: 844 start:19513.125, width:0.041666666667879326\n"
     ]
    },
    {
     "data": {
      "text/plain": "<matplotlib.patches.Rectangle at 0x26639990050>"
     },
     "execution_count": 7,
     "metadata": {},
     "output_type": "execute_result"
    },
    {
     "name": "stdout",
     "output_type": "stream",
     "text": [
      "index: 867 start:19514.083333333332, width:0.041666666667879326\n"
     ]
    },
    {
     "data": {
      "text/plain": "<matplotlib.patches.Rectangle at 0x26639968990>"
     },
     "execution_count": 7,
     "metadata": {},
     "output_type": "execute_result"
    },
    {
     "name": "stdout",
     "output_type": "stream",
     "text": [
      "index: 890 start:19515.041666666668, width:0.04166666666424135\n"
     ]
    },
    {
     "data": {
      "text/plain": "<matplotlib.patches.Rectangle at 0x26639916c90>"
     },
     "execution_count": 7,
     "metadata": {},
     "output_type": "execute_result"
    },
    {
     "name": "stdout",
     "output_type": "stream",
     "text": [
      "index: 892 start:19515.125, width:0.041666666667879326\n"
     ]
    },
    {
     "data": {
      "text/plain": "<matplotlib.patches.Rectangle at 0x26639982790>"
     },
     "execution_count": 7,
     "metadata": {},
     "output_type": "execute_result"
    },
    {
     "name": "stdout",
     "output_type": "stream",
     "text": [
      "index: 912 start:19515.958333333332, width:0.041666666667879326\n"
     ]
    },
    {
     "data": {
      "text/plain": "<matplotlib.patches.Rectangle at 0x266399db590>"
     },
     "execution_count": 7,
     "metadata": {},
     "output_type": "execute_result"
    },
    {
     "name": "stdout",
     "output_type": "stream",
     "text": [
      "index: 914 start:19516.041666666668, width:0.04166666666424135\n"
     ]
    },
    {
     "data": {
      "text/plain": "<matplotlib.patches.Rectangle at 0x266399c8a90>"
     },
     "execution_count": 7,
     "metadata": {},
     "output_type": "execute_result"
    },
    {
     "name": "stdout",
     "output_type": "stream",
     "text": [
      "index: 916 start:19516.125, width:0.041666666667879326\n"
     ]
    },
    {
     "data": {
      "text/plain": "<matplotlib.patches.Rectangle at 0x266399920d0>"
     },
     "execution_count": 7,
     "metadata": {},
     "output_type": "execute_result"
    },
    {
     "name": "stdout",
     "output_type": "stream",
     "text": [
      "index: 925 start:19516.5, width:0.041666666667879326\n"
     ]
    },
    {
     "data": {
      "text/plain": "<matplotlib.patches.Rectangle at 0x26639983790>"
     },
     "execution_count": 7,
     "metadata": {},
     "output_type": "execute_result"
    },
    {
     "name": "stdout",
     "output_type": "stream",
     "text": [
      "index: 938 start:19517.041666666668, width:0.04166666666424135\n"
     ]
    },
    {
     "data": {
      "text/plain": "<matplotlib.patches.Rectangle at 0x266399a24d0>"
     },
     "execution_count": 7,
     "metadata": {},
     "output_type": "execute_result"
    },
    {
     "name": "stdout",
     "output_type": "stream",
     "text": [
      "index: 984 start:19518.958333333332, width:0.041666666667879326\n"
     ]
    },
    {
     "data": {
      "text/plain": "<matplotlib.patches.Rectangle at 0x2663997abd0>"
     },
     "execution_count": 7,
     "metadata": {},
     "output_type": "execute_result"
    },
    {
     "name": "stdout",
     "output_type": "stream",
     "text": [
      "index: 985 start:19519.0, width:0.041666666667879326\n"
     ]
    },
    {
     "data": {
      "text/plain": "<matplotlib.patches.Rectangle at 0x26639969c10>"
     },
     "execution_count": 7,
     "metadata": {},
     "output_type": "execute_result"
    },
    {
     "name": "stdout",
     "output_type": "stream",
     "text": [
      "index: 986 start:19519.041666666668, width:0.04166666666424135\n"
     ]
    },
    {
     "data": {
      "text/plain": "<matplotlib.patches.Rectangle at 0x266399ff850>"
     },
     "execution_count": 7,
     "metadata": {},
     "output_type": "execute_result"
    },
    {
     "name": "stdout",
     "output_type": "stream",
     "text": [
      "index: 987 start:19519.083333333332, width:0.041666666667879326\n"
     ]
    },
    {
     "data": {
      "text/plain": "<matplotlib.patches.Rectangle at 0x26639a0d390>"
     },
     "execution_count": 7,
     "metadata": {},
     "output_type": "execute_result"
    },
    {
     "name": "stdout",
     "output_type": "stream",
     "text": [
      "index: 988 start:19519.125, width:0.041666666667879326\n"
     ]
    },
    {
     "data": {
      "text/plain": "<matplotlib.patches.Rectangle at 0x26639a0cd50>"
     },
     "execution_count": 7,
     "metadata": {},
     "output_type": "execute_result"
    },
    {
     "name": "stdout",
     "output_type": "stream",
     "text": [
      "index: 989 start:19519.166666666668, width:0.04166666666424135\n"
     ]
    },
    {
     "data": {
      "text/plain": "<matplotlib.patches.Rectangle at 0x2663992aa10>"
     },
     "execution_count": 7,
     "metadata": {},
     "output_type": "execute_result"
    },
    {
     "name": "stdout",
     "output_type": "stream",
     "text": [
      "index: 1006 start:19519.875, width:0.041666666667879326\n"
     ]
    },
    {
     "data": {
      "text/plain": "<matplotlib.patches.Rectangle at 0x26623248350>"
     },
     "execution_count": 7,
     "metadata": {},
     "output_type": "execute_result"
    },
    {
     "name": "stdout",
     "output_type": "stream",
     "text": [
      "index: 1007 start:19519.916666666668, width:0.04166666666424135\n"
     ]
    },
    {
     "data": {
      "text/plain": "<matplotlib.patches.Rectangle at 0x26639897fd0>"
     },
     "execution_count": 7,
     "metadata": {},
     "output_type": "execute_result"
    },
    {
     "name": "stdout",
     "output_type": "stream",
     "text": [
      "index: 1008 start:19519.958333333332, width:0.041666666667879326\n"
     ]
    },
    {
     "data": {
      "text/plain": "<matplotlib.patches.Rectangle at 0x266399f7a90>"
     },
     "execution_count": 7,
     "metadata": {},
     "output_type": "execute_result"
    },
    {
     "name": "stdout",
     "output_type": "stream",
     "text": [
      "index: 1009 start:19520.0, width:0.041666666667879326\n"
     ]
    },
    {
     "data": {
      "text/plain": "<matplotlib.patches.Rectangle at 0x2663988bc90>"
     },
     "execution_count": 7,
     "metadata": {},
     "output_type": "execute_result"
    },
    {
     "name": "stdout",
     "output_type": "stream",
     "text": [
      "index: 1010 start:19520.041666666668, width:0.04166666666424135\n"
     ]
    },
    {
     "data": {
      "text/plain": "<matplotlib.patches.Rectangle at 0x266398d1550>"
     },
     "execution_count": 7,
     "metadata": {},
     "output_type": "execute_result"
    },
    {
     "name": "stdout",
     "output_type": "stream",
     "text": [
      "index: 1011 start:19520.083333333332, width:0.041666666667879326\n"
     ]
    },
    {
     "data": {
      "text/plain": "<matplotlib.patches.Rectangle at 0x266232c22d0>"
     },
     "execution_count": 7,
     "metadata": {},
     "output_type": "execute_result"
    },
    {
     "name": "stdout",
     "output_type": "stream",
     "text": [
      "index: 1012 start:19520.125, width:0.041666666667879326\n"
     ]
    },
    {
     "data": {
      "text/plain": "<matplotlib.patches.Rectangle at 0x26639963350>"
     },
     "execution_count": 7,
     "metadata": {},
     "output_type": "execute_result"
    },
    {
     "name": "stdout",
     "output_type": "stream",
     "text": [
      "index: 1013 start:19520.166666666668, width:0.04166666666424135\n"
     ]
    },
    {
     "data": {
      "text/plain": "<matplotlib.patches.Rectangle at 0x266399a1850>"
     },
     "execution_count": 7,
     "metadata": {},
     "output_type": "execute_result"
    },
    {
     "name": "stdout",
     "output_type": "stream",
     "text": [
      "index: 1034 start:19521.041666666668, width:0.04166666666424135\n"
     ]
    },
    {
     "data": {
      "text/plain": "<matplotlib.patches.Rectangle at 0x266398f8f10>"
     },
     "execution_count": 7,
     "metadata": {},
     "output_type": "execute_result"
    },
    {
     "name": "stdout",
     "output_type": "stream",
     "text": [
      "index: 1035 start:19521.083333333332, width:0.041666666667879326\n"
     ]
    },
    {
     "data": {
      "text/plain": "<matplotlib.patches.Rectangle at 0x266232c3e90>"
     },
     "execution_count": 7,
     "metadata": {},
     "output_type": "execute_result"
    },
    {
     "name": "stdout",
     "output_type": "stream",
     "text": [
      "index: 1057 start:19522.0, width:0.041666666667879326\n"
     ]
    },
    {
     "data": {
      "text/plain": "<matplotlib.patches.Rectangle at 0x266399f5d50>"
     },
     "execution_count": 7,
     "metadata": {},
     "output_type": "execute_result"
    },
    {
     "name": "stdout",
     "output_type": "stream",
     "text": [
      "index: 1059 start:19522.083333333332, width:0.041666666667879326\n"
     ]
    },
    {
     "data": {
      "text/plain": "<matplotlib.patches.Rectangle at 0x266237995d0>"
     },
     "execution_count": 7,
     "metadata": {},
     "output_type": "execute_result"
    },
    {
     "name": "stdout",
     "output_type": "stream",
     "text": [
      "index: 1067 start:19522.416666666668, width:0.04166666666424135\n"
     ]
    },
    {
     "data": {
      "text/plain": "<matplotlib.patches.Rectangle at 0x26623798f50>"
     },
     "execution_count": 7,
     "metadata": {},
     "output_type": "execute_result"
    },
    {
     "name": "stdout",
     "output_type": "stream",
     "text": [
      "index: 1068 start:19522.458333333332, width:0.041666666667879326\n"
     ]
    },
    {
     "data": {
      "text/plain": "<matplotlib.patches.Rectangle at 0x266232a1950>"
     },
     "execution_count": 7,
     "metadata": {},
     "output_type": "execute_result"
    },
    {
     "name": "stdout",
     "output_type": "stream",
     "text": [
      "index: 1069 start:19522.5, width:0.041666666667879326\n"
     ]
    },
    {
     "data": {
      "text/plain": "<matplotlib.patches.Rectangle at 0x26639993f50>"
     },
     "execution_count": 7,
     "metadata": {},
     "output_type": "execute_result"
    },
    {
     "name": "stdout",
     "output_type": "stream",
     "text": [
      "index: 1082 start:19523.041666666668, width:0.04166666666424135\n"
     ]
    },
    {
     "data": {
      "text/plain": "<matplotlib.patches.Rectangle at 0x2663996acd0>"
     },
     "execution_count": 7,
     "metadata": {},
     "output_type": "execute_result"
    },
    {
     "name": "stdout",
     "output_type": "stream",
     "text": [
      "index: 1083 start:19523.083333333332, width:0.041666666667879326\n"
     ]
    },
    {
     "data": {
      "text/plain": "<matplotlib.patches.Rectangle at 0x26639944dd0>"
     },
     "execution_count": 7,
     "metadata": {},
     "output_type": "execute_result"
    },
    {
     "name": "stdout",
     "output_type": "stream",
     "text": [
      "index: 1084 start:19523.125, width:0.041666666667879326\n"
     ]
    },
    {
     "data": {
      "text/plain": "<matplotlib.patches.Rectangle at 0x2662329c9d0>"
     },
     "execution_count": 7,
     "metadata": {},
     "output_type": "execute_result"
    },
    {
     "name": "stdout",
     "output_type": "stream",
     "text": [
      "index: 1102 start:19523.875, width:0.041666666667879326\n"
     ]
    },
    {
     "data": {
      "text/plain": "<matplotlib.patches.Rectangle at 0x26623271310>"
     },
     "execution_count": 7,
     "metadata": {},
     "output_type": "execute_result"
    },
    {
     "name": "stdout",
     "output_type": "stream",
     "text": [
      "index: 1103 start:19523.916666666668, width:0.04166666666424135\n"
     ]
    },
    {
     "data": {
      "text/plain": "<matplotlib.patches.Rectangle at 0x2663997aad0>"
     },
     "execution_count": 7,
     "metadata": {},
     "output_type": "execute_result"
    },
    {
     "data": {
      "text/plain": "Text(0.5, 1.0, 'measured vs predicted data (full constructed model with NA)')"
     },
     "execution_count": 7,
     "metadata": {},
     "output_type": "execute_result"
    }
   ],
   "source": [
    "#graph with shaded portion to represent missing values\n",
    "\n",
    "#final model with DF\n",
    "training_mask = (DF['Time'] >= start_time) & (DF['Time'] <= end_time)\n",
    "training_df = DF[training_mask]\n",
    "#actual_data = training_df['MW'].dropna()\n",
    "training_df['MW'] = training_df['MW'].replace(np.nan, 0)\n",
    "d = training_df['MW']\n",
    "c = np.concatenate((np.array([optimal_temperature_theta]),optimal_behavior_theta),axis=0)\n",
    "phi =training_df.loc[:,'CDH':'omega168']\n",
    "yhat = full_model.predict(phi.values)\n",
    "actual_df = DF.copy()\n",
    "actual_df = actual_df[training_mask]\n",
    "actual_df.dropna(inplace = True)\n",
    "\n",
    "fig10,(ax10) = plt.subplots(nrows=1,figsize=(10,9))\n",
    "first_time = True\n",
    "j = 0\n",
    "\n",
    "for i in range(1, len(training_df)):\n",
    "    if (j < len(actual_df)) and (training_df.iloc[i]['Time'] == actual_df.iloc[j]['Time']):\n",
    "        j+=1\n",
    "    else:\n",
    "        iterator = i\n",
    "        last_iterator = i-1\n",
    "        first_time= False\n",
    "        start =  mdates.date2num(training_df.iloc[last_iterator]['Time'])\n",
    "        end =  mdates.date2num(training_df.iloc[iterator]['Time'])\n",
    "        print(f'index: {i} start:{start}, width:{end-start}')\n",
    "        rect = Rectangle((start, 0), end-start, 10, linewidth=1,  facecolor='green', alpha = 0.2, zorder = 10)\n",
    "        ax10.add_patch(rect)\n",
    "\n",
    "locator = mdates.AutoDateLocator(minticks=3)\n",
    "formatter = mdates.AutoDateFormatter(locator)\n",
    "ax10.xaxis.set_major_locator(locator)\n",
    "ax10.xaxis.set_major_formatter(formatter)\n",
    "_=ax10.plot(actual_df['Time'][training_mask],actual_df[training_mask]['MW'],label='meas', marker = 'o', color = 'r', zorder = 5)\n",
    "_=ax10.plot(training_df['Time'][training_mask],yhat,label='pred:', marker = 'x', color = 'y', zorder = 5)\n",
    "ax10.set_title('measured vs predicted data (full constructed model with NA)')\n",
    "_=ax10.legend()\n",
    "\n",
    "plt.show()\n"
   ],
   "metadata": {
    "collapsed": false,
    "ExecuteTime": {
     "end_time": "2023-10-30T15:31:29.832604900Z",
     "start_time": "2023-10-30T15:30:26.519885Z"
    }
   }
  },
  {
   "cell_type": "code",
   "execution_count": 8,
   "outputs": [
    {
     "name": "stdout",
     "output_type": "stream",
     "text": [
      "<class 'datetime.datetime'>\t2023-05-01 00:00:00\n",
      "5\n",
      "<class 'datetime.datetime'>\t2023-05-01 01:00:00\n",
      "5\n",
      "<class 'datetime.datetime'>\t2023-05-01 01:59:59.990000\n",
      "5\n",
      "<class 'datetime.datetime'>\t2023-05-01 02:59:59.985000\n",
      "5\n",
      "<class 'datetime.datetime'>\t2023-05-01 03:59:59.980000\n",
      "5\n",
      "<class 'datetime.datetime'>\t2023-05-01 04:59:59.975000\n",
      "5\n",
      "<class 'datetime.datetime'>\t2023-05-01 05:59:59.970000\n",
      "5\n",
      "<class 'datetime.datetime'>\t2023-05-01 06:59:59.965000\n",
      "5\n",
      "<class 'datetime.datetime'>\t2023-05-01 07:59:59.960000\n",
      "5\n",
      "<class 'datetime.datetime'>\t2023-05-01 08:59:59.955000\n",
      "5\n",
      "<class 'datetime.datetime'>\t2023-05-01 09:59:59.950000\n",
      "5\n",
      "<class 'datetime.datetime'>\t2023-05-01 10:59:59.945000\n",
      "5\n",
      "<class 'datetime.datetime'>\t2023-05-01 11:59:59.940000\n",
      "5\n",
      "<class 'datetime.datetime'>\t2023-05-01 12:59:59.935000\n",
      "5\n",
      "<class 'datetime.datetime'>\t2023-05-01 13:59:59.930000\n",
      "5\n",
      "<class 'datetime.datetime'>\t2023-05-01 14:59:59.925000\n",
      "5\n",
      "<class 'datetime.datetime'>\t2023-05-01 15:59:59.920000\n",
      "5\n",
      "<class 'datetime.datetime'>\t2023-05-01 16:59:59.915000\n",
      "5\n",
      "<class 'datetime.datetime'>\t2023-05-01 17:59:59.910000\n",
      "5\n",
      "<class 'datetime.datetime'>\t2023-05-01 18:59:59.905000\n",
      "5\n",
      "<class 'datetime.datetime'>\t2023-05-01 19:59:59.900000\n",
      "5\n",
      "<class 'datetime.datetime'>\t2023-05-01 20:59:59.895000\n",
      "5\n",
      "<class 'datetime.datetime'>\t2023-05-01 21:59:59.890000\n",
      "5\n",
      "<class 'datetime.datetime'>\t2023-05-01 22:59:59.885000\n",
      "5\n"
     ]
    }
   ],
   "source": [
    "def custom_date_parser(date_string):\n",
    "    print(f'{type(date_string)}\\t{date_string}')\n",
    "    if type(date_string) == str:\n",
    "        return pd.to_datetime(date_string, format='%m-%d-%Y %H:%M:%S')\n",
    "    else:\n",
    "        print(date_string.month)\n",
    "        return date_string\n",
    "\n",
    "# Specify the path to the main directory containing folders and files\n",
    "path = \"D:\\\\mlinternship\\\\iitgdata\\\\May 01 to May 31 2023\\\\data33kVsubStation-May-01-2023.xlsx\"\n",
    "#path = \"D:\\\\mlinternship\\\\iitgdata\\\\May 01 to May 31 2023\\\\data33kVsubStation-May-17-2023.xlsx\"\n",
    "# Use the custom date parser function\n",
    "df1 = pd.read_excel(path, header=3, converters={'Time':custom_date_parser})\n"
   ],
   "metadata": {
    "collapsed": false,
    "ExecuteTime": {
     "end_time": "2023-10-30T15:31:29.946031400Z",
     "start_time": "2023-10-30T15:31:29.836647700Z"
    }
   }
  },
  {
   "cell_type": "code",
   "execution_count": 9,
   "outputs": [
    {
     "data": {
      "text/plain": "Time          datetime64[ns]\nESS-9                float64\nESS-1+2              float64\nESS-5                float64\nESS-6                float64\n7.5 MVA              float64\nkW                   float64\nPF                   float64\nMW                    object\nshift note           float64\nkWh                  float64\ndtype: object"
     },
     "execution_count": 9,
     "metadata": {},
     "output_type": "execute_result"
    }
   ],
   "source": [
    "df1.dtypes"
   ],
   "metadata": {
    "collapsed": false,
    "ExecuteTime": {
     "end_time": "2023-10-30T15:31:29.973855600Z",
     "start_time": "2023-10-30T15:31:29.873529300Z"
    }
   }
  },
  {
   "cell_type": "code",
   "execution_count": 10,
   "outputs": [
    {
     "data": {
      "text/plain": "                      Time  ESS-9  ESS-1+2  ESS-5  ESS-6  7.5 MVA  kW  PF  \\\n0  2023-05-01 00:00:00.000    NaN      NaN    NaN    NaN      NaN NaN NaN   \n1  2023-05-01 01:00:00.000    NaN      NaN    NaN    NaN      NaN NaN NaN   \n2  2023-05-01 01:59:59.990    NaN      NaN    NaN    NaN      NaN NaN NaN   \n3  2023-05-01 02:59:59.985    NaN      NaN    NaN    NaN      NaN NaN NaN   \n4  2023-05-01 03:59:59.980    NaN      NaN    NaN    NaN      NaN NaN NaN   \n5  2023-05-01 04:59:59.975    NaN      NaN    NaN    NaN      NaN NaN NaN   \n6  2023-05-01 05:59:59.970    NaN      NaN    NaN    NaN      NaN NaN NaN   \n7  2023-05-01 06:59:59.965    NaN      NaN    NaN    NaN      NaN NaN NaN   \n8  2023-05-01 07:59:59.960    NaN      NaN    NaN    NaN      NaN NaN NaN   \n9  2023-05-01 08:59:59.955    NaN      NaN    NaN    NaN      NaN NaN NaN   \n10 2023-05-01 09:59:59.950    NaN      NaN    NaN    NaN      NaN NaN NaN   \n11 2023-05-01 10:59:59.945    NaN      NaN    NaN    NaN      NaN NaN NaN   \n12 2023-05-01 11:59:59.940    NaN      NaN    NaN    NaN      NaN NaN NaN   \n13 2023-05-01 12:59:59.935    NaN      NaN    NaN    NaN      NaN NaN NaN   \n14 2023-05-01 13:59:59.930    NaN      NaN    NaN    NaN      NaN NaN NaN   \n15 2023-05-01 14:59:59.925    NaN      NaN    NaN    NaN      NaN NaN NaN   \n16 2023-05-01 15:59:59.920    NaN      NaN    NaN    NaN      NaN NaN NaN   \n17 2023-05-01 16:59:59.915    NaN      NaN    NaN    NaN      NaN NaN NaN   \n18 2023-05-01 17:59:59.910    NaN      NaN    NaN    NaN      NaN NaN NaN   \n19 2023-05-01 18:59:59.905    NaN      NaN    NaN    NaN      NaN NaN NaN   \n20 2023-05-01 19:59:59.900    NaN      NaN    NaN    NaN      NaN NaN NaN   \n21 2023-05-01 20:59:59.895    NaN      NaN    NaN    NaN      NaN NaN NaN   \n22 2023-05-01 21:59:59.890    NaN      NaN    NaN    NaN      NaN NaN NaN   \n23 2023-05-01 22:59:59.885    NaN      NaN    NaN    NaN      NaN NaN NaN   \n\n      MW  shift note  kWh  \n0     NR         NaN  NaN  \n1     NR         NaN  NaN  \n2     NR         NaN  NaN  \n3     NR         NaN  NaN  \n4     NR         NaN  NaN  \n5   2.41         NaN  NaN  \n6      3         NaN  NaN  \n7    3.5         NaN  NaN  \n8      4         NaN  NaN  \n9      4         NaN  NaN  \n10  4.25         NaN  NaN  \n11  4.25         NaN  NaN  \n12  4.25         NaN  NaN  \n13   4.5         NaN  NaN  \n14   4.2         NaN  NaN  \n15   5.1         NaN  NaN  \n16   5.1         NaN  NaN  \n17   5.1         NaN  NaN  \n18   5.2         NaN  NaN  \n19   4.9         NaN  NaN  \n20   4.9         NaN  NaN  \n21   4.9         NaN  NaN  \n22   4.2         NaN  NaN  \n23  4.45         NaN  NaN  ",
      "text/html": "<div>\n<style scoped>\n    .dataframe tbody tr th:only-of-type {\n        vertical-align: middle;\n    }\n\n    .dataframe tbody tr th {\n        vertical-align: top;\n    }\n\n    .dataframe thead th {\n        text-align: right;\n    }\n</style>\n<table border=\"1\" class=\"dataframe\">\n  <thead>\n    <tr style=\"text-align: right;\">\n      <th></th>\n      <th>Time</th>\n      <th>ESS-9</th>\n      <th>ESS-1+2</th>\n      <th>ESS-5</th>\n      <th>ESS-6</th>\n      <th>7.5 MVA</th>\n      <th>kW</th>\n      <th>PF</th>\n      <th>MW</th>\n      <th>shift note</th>\n      <th>kWh</th>\n    </tr>\n  </thead>\n  <tbody>\n    <tr>\n      <th>0</th>\n      <td>2023-05-01 00:00:00.000</td>\n      <td>NaN</td>\n      <td>NaN</td>\n      <td>NaN</td>\n      <td>NaN</td>\n      <td>NaN</td>\n      <td>NaN</td>\n      <td>NaN</td>\n      <td>NR</td>\n      <td>NaN</td>\n      <td>NaN</td>\n    </tr>\n    <tr>\n      <th>1</th>\n      <td>2023-05-01 01:00:00.000</td>\n      <td>NaN</td>\n      <td>NaN</td>\n      <td>NaN</td>\n      <td>NaN</td>\n      <td>NaN</td>\n      <td>NaN</td>\n      <td>NaN</td>\n      <td>NR</td>\n      <td>NaN</td>\n      <td>NaN</td>\n    </tr>\n    <tr>\n      <th>2</th>\n      <td>2023-05-01 01:59:59.990</td>\n      <td>NaN</td>\n      <td>NaN</td>\n      <td>NaN</td>\n      <td>NaN</td>\n      <td>NaN</td>\n      <td>NaN</td>\n      <td>NaN</td>\n      <td>NR</td>\n      <td>NaN</td>\n      <td>NaN</td>\n    </tr>\n    <tr>\n      <th>3</th>\n      <td>2023-05-01 02:59:59.985</td>\n      <td>NaN</td>\n      <td>NaN</td>\n      <td>NaN</td>\n      <td>NaN</td>\n      <td>NaN</td>\n      <td>NaN</td>\n      <td>NaN</td>\n      <td>NR</td>\n      <td>NaN</td>\n      <td>NaN</td>\n    </tr>\n    <tr>\n      <th>4</th>\n      <td>2023-05-01 03:59:59.980</td>\n      <td>NaN</td>\n      <td>NaN</td>\n      <td>NaN</td>\n      <td>NaN</td>\n      <td>NaN</td>\n      <td>NaN</td>\n      <td>NaN</td>\n      <td>NR</td>\n      <td>NaN</td>\n      <td>NaN</td>\n    </tr>\n    <tr>\n      <th>5</th>\n      <td>2023-05-01 04:59:59.975</td>\n      <td>NaN</td>\n      <td>NaN</td>\n      <td>NaN</td>\n      <td>NaN</td>\n      <td>NaN</td>\n      <td>NaN</td>\n      <td>NaN</td>\n      <td>2.41</td>\n      <td>NaN</td>\n      <td>NaN</td>\n    </tr>\n    <tr>\n      <th>6</th>\n      <td>2023-05-01 05:59:59.970</td>\n      <td>NaN</td>\n      <td>NaN</td>\n      <td>NaN</td>\n      <td>NaN</td>\n      <td>NaN</td>\n      <td>NaN</td>\n      <td>NaN</td>\n      <td>3</td>\n      <td>NaN</td>\n      <td>NaN</td>\n    </tr>\n    <tr>\n      <th>7</th>\n      <td>2023-05-01 06:59:59.965</td>\n      <td>NaN</td>\n      <td>NaN</td>\n      <td>NaN</td>\n      <td>NaN</td>\n      <td>NaN</td>\n      <td>NaN</td>\n      <td>NaN</td>\n      <td>3.5</td>\n      <td>NaN</td>\n      <td>NaN</td>\n    </tr>\n    <tr>\n      <th>8</th>\n      <td>2023-05-01 07:59:59.960</td>\n      <td>NaN</td>\n      <td>NaN</td>\n      <td>NaN</td>\n      <td>NaN</td>\n      <td>NaN</td>\n      <td>NaN</td>\n      <td>NaN</td>\n      <td>4</td>\n      <td>NaN</td>\n      <td>NaN</td>\n    </tr>\n    <tr>\n      <th>9</th>\n      <td>2023-05-01 08:59:59.955</td>\n      <td>NaN</td>\n      <td>NaN</td>\n      <td>NaN</td>\n      <td>NaN</td>\n      <td>NaN</td>\n      <td>NaN</td>\n      <td>NaN</td>\n      <td>4</td>\n      <td>NaN</td>\n      <td>NaN</td>\n    </tr>\n    <tr>\n      <th>10</th>\n      <td>2023-05-01 09:59:59.950</td>\n      <td>NaN</td>\n      <td>NaN</td>\n      <td>NaN</td>\n      <td>NaN</td>\n      <td>NaN</td>\n      <td>NaN</td>\n      <td>NaN</td>\n      <td>4.25</td>\n      <td>NaN</td>\n      <td>NaN</td>\n    </tr>\n    <tr>\n      <th>11</th>\n      <td>2023-05-01 10:59:59.945</td>\n      <td>NaN</td>\n      <td>NaN</td>\n      <td>NaN</td>\n      <td>NaN</td>\n      <td>NaN</td>\n      <td>NaN</td>\n      <td>NaN</td>\n      <td>4.25</td>\n      <td>NaN</td>\n      <td>NaN</td>\n    </tr>\n    <tr>\n      <th>12</th>\n      <td>2023-05-01 11:59:59.940</td>\n      <td>NaN</td>\n      <td>NaN</td>\n      <td>NaN</td>\n      <td>NaN</td>\n      <td>NaN</td>\n      <td>NaN</td>\n      <td>NaN</td>\n      <td>4.25</td>\n      <td>NaN</td>\n      <td>NaN</td>\n    </tr>\n    <tr>\n      <th>13</th>\n      <td>2023-05-01 12:59:59.935</td>\n      <td>NaN</td>\n      <td>NaN</td>\n      <td>NaN</td>\n      <td>NaN</td>\n      <td>NaN</td>\n      <td>NaN</td>\n      <td>NaN</td>\n      <td>4.5</td>\n      <td>NaN</td>\n      <td>NaN</td>\n    </tr>\n    <tr>\n      <th>14</th>\n      <td>2023-05-01 13:59:59.930</td>\n      <td>NaN</td>\n      <td>NaN</td>\n      <td>NaN</td>\n      <td>NaN</td>\n      <td>NaN</td>\n      <td>NaN</td>\n      <td>NaN</td>\n      <td>4.2</td>\n      <td>NaN</td>\n      <td>NaN</td>\n    </tr>\n    <tr>\n      <th>15</th>\n      <td>2023-05-01 14:59:59.925</td>\n      <td>NaN</td>\n      <td>NaN</td>\n      <td>NaN</td>\n      <td>NaN</td>\n      <td>NaN</td>\n      <td>NaN</td>\n      <td>NaN</td>\n      <td>5.1</td>\n      <td>NaN</td>\n      <td>NaN</td>\n    </tr>\n    <tr>\n      <th>16</th>\n      <td>2023-05-01 15:59:59.920</td>\n      <td>NaN</td>\n      <td>NaN</td>\n      <td>NaN</td>\n      <td>NaN</td>\n      <td>NaN</td>\n      <td>NaN</td>\n      <td>NaN</td>\n      <td>5.1</td>\n      <td>NaN</td>\n      <td>NaN</td>\n    </tr>\n    <tr>\n      <th>17</th>\n      <td>2023-05-01 16:59:59.915</td>\n      <td>NaN</td>\n      <td>NaN</td>\n      <td>NaN</td>\n      <td>NaN</td>\n      <td>NaN</td>\n      <td>NaN</td>\n      <td>NaN</td>\n      <td>5.1</td>\n      <td>NaN</td>\n      <td>NaN</td>\n    </tr>\n    <tr>\n      <th>18</th>\n      <td>2023-05-01 17:59:59.910</td>\n      <td>NaN</td>\n      <td>NaN</td>\n      <td>NaN</td>\n      <td>NaN</td>\n      <td>NaN</td>\n      <td>NaN</td>\n      <td>NaN</td>\n      <td>5.2</td>\n      <td>NaN</td>\n      <td>NaN</td>\n    </tr>\n    <tr>\n      <th>19</th>\n      <td>2023-05-01 18:59:59.905</td>\n      <td>NaN</td>\n      <td>NaN</td>\n      <td>NaN</td>\n      <td>NaN</td>\n      <td>NaN</td>\n      <td>NaN</td>\n      <td>NaN</td>\n      <td>4.9</td>\n      <td>NaN</td>\n      <td>NaN</td>\n    </tr>\n    <tr>\n      <th>20</th>\n      <td>2023-05-01 19:59:59.900</td>\n      <td>NaN</td>\n      <td>NaN</td>\n      <td>NaN</td>\n      <td>NaN</td>\n      <td>NaN</td>\n      <td>NaN</td>\n      <td>NaN</td>\n      <td>4.9</td>\n      <td>NaN</td>\n      <td>NaN</td>\n    </tr>\n    <tr>\n      <th>21</th>\n      <td>2023-05-01 20:59:59.895</td>\n      <td>NaN</td>\n      <td>NaN</td>\n      <td>NaN</td>\n      <td>NaN</td>\n      <td>NaN</td>\n      <td>NaN</td>\n      <td>NaN</td>\n      <td>4.9</td>\n      <td>NaN</td>\n      <td>NaN</td>\n    </tr>\n    <tr>\n      <th>22</th>\n      <td>2023-05-01 21:59:59.890</td>\n      <td>NaN</td>\n      <td>NaN</td>\n      <td>NaN</td>\n      <td>NaN</td>\n      <td>NaN</td>\n      <td>NaN</td>\n      <td>NaN</td>\n      <td>4.2</td>\n      <td>NaN</td>\n      <td>NaN</td>\n    </tr>\n    <tr>\n      <th>23</th>\n      <td>2023-05-01 22:59:59.885</td>\n      <td>NaN</td>\n      <td>NaN</td>\n      <td>NaN</td>\n      <td>NaN</td>\n      <td>NaN</td>\n      <td>NaN</td>\n      <td>NaN</td>\n      <td>4.45</td>\n      <td>NaN</td>\n      <td>NaN</td>\n    </tr>\n  </tbody>\n</table>\n</div>"
     },
     "execution_count": 10,
     "metadata": {},
     "output_type": "execute_result"
    }
   ],
   "source": [
    "df1\n"
   ],
   "metadata": {
    "collapsed": false,
    "ExecuteTime": {
     "end_time": "2023-10-30T15:31:29.973855600Z",
     "start_time": "2023-10-30T15:31:29.893569400Z"
    }
   }
  }
 ],
 "metadata": {
  "kernelspec": {
   "display_name": "Python 3",
   "language": "python",
   "name": "python3"
  },
  "language_info": {
   "codemirror_mode": {
    "name": "ipython",
    "version": 2
   },
   "file_extension": ".py",
   "mimetype": "text/x-python",
   "name": "python",
   "nbconvert_exporter": "python",
   "pygments_lexer": "ipython2",
   "version": "2.7.6"
  }
 },
 "nbformat": 4,
 "nbformat_minor": 0
}
