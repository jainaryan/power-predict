{
 "cells": [
  {
   "cell_type": "code",
   "execution_count": 1,
   "metadata": {
    "collapsed": true,
    "ExecuteTime": {
     "end_time": "2023-12-12T10:28:17.773448600Z",
     "start_time": "2023-12-12T10:28:14.690643300Z"
    }
   },
   "outputs": [],
   "source": [
    "import pandas as pd\n",
    "import pytz\n",
    "import numpy as np\n",
    "import os\n",
    "from sklearn import preprocessing\n",
    "import re\n",
    "import matplotlib\n",
    "from matplotlib.patches import Polygon, Rectangle\n",
    "from sklearn.metrics import mean_squared_error\n",
    "from sklearn.model_selection import train_test_split, GridSearchCV\n",
    "from sklearn.preprocessing import StandardScaler\n",
    "from sklearn.svm import SVR\n",
    "\n",
    "matplotlib.use('Qt5Agg')\n",
    "from datetime import timedelta\n",
    "import matplotlib.pyplot as plt\n",
    "from IPython.core.interactiveshell import InteractiveShell\n",
    "InteractiveShell.ast_node_interactivity = \"all\"\n",
    "from casadi import *\n",
    "import calendar\n",
    "import casadi as cd\n",
    "from sklearn.linear_model import LinearRegression\n",
    "import matplotlib.dates as mdates\n",
    "import warnings\n",
    "warnings.filterwarnings('ignore')"
   ]
  },
  {
   "cell_type": "code",
   "execution_count": 2,
   "outputs": [
    {
     "data": {
      "text/plain": "        Month         MW\n0  2022-01-01  1415.4246\n1  2022-02-01  1353.4260\n2  2022-03-01  2254.4145\n3  2022-04-01  2269.1010\n4  2022-05-01  2690.4150\n5  2022-06-01  2708.4910\n6  2022-07-01  3113.6625\n7  2022-08-01  3606.0495\n8  2022-09-01  3335.3190\n9  2022-10-01  2787.5835\n10 2022-11-01  2230.0764\n11 2022-12-01  1809.5913\n12 2023-01-01  1859.8434\n13 2023-02-01  1829.5317\n14 2023-03-01  2238.3650\n15 2023-04-01  2615.2850\n16 2023-05-01        NaN\n17 2023-06-01  3112.0245\n18 2023-07-01  3376.0350\n19 2023-08-01  3896.1580",
      "text/html": "<div>\n<style scoped>\n    .dataframe tbody tr th:only-of-type {\n        vertical-align: middle;\n    }\n\n    .dataframe tbody tr th {\n        vertical-align: top;\n    }\n\n    .dataframe thead th {\n        text-align: right;\n    }\n</style>\n<table border=\"1\" class=\"dataframe\">\n  <thead>\n    <tr style=\"text-align: right;\">\n      <th></th>\n      <th>Month</th>\n      <th>MW</th>\n    </tr>\n  </thead>\n  <tbody>\n    <tr>\n      <th>0</th>\n      <td>2022-01-01</td>\n      <td>1415.4246</td>\n    </tr>\n    <tr>\n      <th>1</th>\n      <td>2022-02-01</td>\n      <td>1353.4260</td>\n    </tr>\n    <tr>\n      <th>2</th>\n      <td>2022-03-01</td>\n      <td>2254.4145</td>\n    </tr>\n    <tr>\n      <th>3</th>\n      <td>2022-04-01</td>\n      <td>2269.1010</td>\n    </tr>\n    <tr>\n      <th>4</th>\n      <td>2022-05-01</td>\n      <td>2690.4150</td>\n    </tr>\n    <tr>\n      <th>5</th>\n      <td>2022-06-01</td>\n      <td>2708.4910</td>\n    </tr>\n    <tr>\n      <th>6</th>\n      <td>2022-07-01</td>\n      <td>3113.6625</td>\n    </tr>\n    <tr>\n      <th>7</th>\n      <td>2022-08-01</td>\n      <td>3606.0495</td>\n    </tr>\n    <tr>\n      <th>8</th>\n      <td>2022-09-01</td>\n      <td>3335.3190</td>\n    </tr>\n    <tr>\n      <th>9</th>\n      <td>2022-10-01</td>\n      <td>2787.5835</td>\n    </tr>\n    <tr>\n      <th>10</th>\n      <td>2022-11-01</td>\n      <td>2230.0764</td>\n    </tr>\n    <tr>\n      <th>11</th>\n      <td>2022-12-01</td>\n      <td>1809.5913</td>\n    </tr>\n    <tr>\n      <th>12</th>\n      <td>2023-01-01</td>\n      <td>1859.8434</td>\n    </tr>\n    <tr>\n      <th>13</th>\n      <td>2023-02-01</td>\n      <td>1829.5317</td>\n    </tr>\n    <tr>\n      <th>14</th>\n      <td>2023-03-01</td>\n      <td>2238.3650</td>\n    </tr>\n    <tr>\n      <th>15</th>\n      <td>2023-04-01</td>\n      <td>2615.2850</td>\n    </tr>\n    <tr>\n      <th>16</th>\n      <td>2023-05-01</td>\n      <td>NaN</td>\n    </tr>\n    <tr>\n      <th>17</th>\n      <td>2023-06-01</td>\n      <td>3112.0245</td>\n    </tr>\n    <tr>\n      <th>18</th>\n      <td>2023-07-01</td>\n      <td>3376.0350</td>\n    </tr>\n    <tr>\n      <th>19</th>\n      <td>2023-08-01</td>\n      <td>3896.1580</td>\n    </tr>\n  </tbody>\n</table>\n</div>"
     },
     "execution_count": 2,
     "metadata": {},
     "output_type": "execute_result"
    },
    {
     "data": {
      "text/plain": "        Month  Number of units of electricity consumed         MW\n0  2022-01-01                                1415424.6  1415.4246\n1  2022-02-01                                1353426.0  1353.4260\n2  2022-03-01                                2254414.5  2254.4145\n3  2022-04-01                                2269101.0  2269.1010\n4  2022-05-01                                2690415.0  2690.4150\n5  2022-06-01                                2708491.0  2708.4910\n6  2022-07-01                                3113662.5  3113.6625\n7  2022-08-01                                3606049.5  3606.0495\n8  2022-09-01                                3335319.0  3335.3190\n9  2022-10-01                                2787583.5  2787.5835\n10 2022-11-01                                2230076.4  2230.0764\n11 2022-12-01                                1809591.3  1809.5913\n12 2023-01-01                                1859843.4  1859.8434\n13 2023-02-01                                1829531.7  1829.5317\n14 2023-03-01                                2238365.0  2238.3650\n15 2023-04-01                                2615285.0  2615.2850\n16 2023-05-01                                      NaN        NaN\n17 2023-06-01                                3112024.5  3112.0245\n18 2023-07-01                                3376035.0  3376.0350\n19 2023-08-01                                3896158.0  3896.1580",
      "text/html": "<div>\n<style scoped>\n    .dataframe tbody tr th:only-of-type {\n        vertical-align: middle;\n    }\n\n    .dataframe tbody tr th {\n        vertical-align: top;\n    }\n\n    .dataframe thead th {\n        text-align: right;\n    }\n</style>\n<table border=\"1\" class=\"dataframe\">\n  <thead>\n    <tr style=\"text-align: right;\">\n      <th></th>\n      <th>Month</th>\n      <th>Number of units of electricity consumed</th>\n      <th>MW</th>\n    </tr>\n  </thead>\n  <tbody>\n    <tr>\n      <th>0</th>\n      <td>2022-01-01</td>\n      <td>1415424.6</td>\n      <td>1415.4246</td>\n    </tr>\n    <tr>\n      <th>1</th>\n      <td>2022-02-01</td>\n      <td>1353426.0</td>\n      <td>1353.4260</td>\n    </tr>\n    <tr>\n      <th>2</th>\n      <td>2022-03-01</td>\n      <td>2254414.5</td>\n      <td>2254.4145</td>\n    </tr>\n    <tr>\n      <th>3</th>\n      <td>2022-04-01</td>\n      <td>2269101.0</td>\n      <td>2269.1010</td>\n    </tr>\n    <tr>\n      <th>4</th>\n      <td>2022-05-01</td>\n      <td>2690415.0</td>\n      <td>2690.4150</td>\n    </tr>\n    <tr>\n      <th>5</th>\n      <td>2022-06-01</td>\n      <td>2708491.0</td>\n      <td>2708.4910</td>\n    </tr>\n    <tr>\n      <th>6</th>\n      <td>2022-07-01</td>\n      <td>3113662.5</td>\n      <td>3113.6625</td>\n    </tr>\n    <tr>\n      <th>7</th>\n      <td>2022-08-01</td>\n      <td>3606049.5</td>\n      <td>3606.0495</td>\n    </tr>\n    <tr>\n      <th>8</th>\n      <td>2022-09-01</td>\n      <td>3335319.0</td>\n      <td>3335.3190</td>\n    </tr>\n    <tr>\n      <th>9</th>\n      <td>2022-10-01</td>\n      <td>2787583.5</td>\n      <td>2787.5835</td>\n    </tr>\n    <tr>\n      <th>10</th>\n      <td>2022-11-01</td>\n      <td>2230076.4</td>\n      <td>2230.0764</td>\n    </tr>\n    <tr>\n      <th>11</th>\n      <td>2022-12-01</td>\n      <td>1809591.3</td>\n      <td>1809.5913</td>\n    </tr>\n    <tr>\n      <th>12</th>\n      <td>2023-01-01</td>\n      <td>1859843.4</td>\n      <td>1859.8434</td>\n    </tr>\n    <tr>\n      <th>13</th>\n      <td>2023-02-01</td>\n      <td>1829531.7</td>\n      <td>1829.5317</td>\n    </tr>\n    <tr>\n      <th>14</th>\n      <td>2023-03-01</td>\n      <td>2238365.0</td>\n      <td>2238.3650</td>\n    </tr>\n    <tr>\n      <th>15</th>\n      <td>2023-04-01</td>\n      <td>2615285.0</td>\n      <td>2615.2850</td>\n    </tr>\n    <tr>\n      <th>16</th>\n      <td>2023-05-01</td>\n      <td>NaN</td>\n      <td>NaN</td>\n    </tr>\n    <tr>\n      <th>17</th>\n      <td>2023-06-01</td>\n      <td>3112024.5</td>\n      <td>3112.0245</td>\n    </tr>\n    <tr>\n      <th>18</th>\n      <td>2023-07-01</td>\n      <td>3376035.0</td>\n      <td>3376.0350</td>\n    </tr>\n    <tr>\n      <th>19</th>\n      <td>2023-08-01</td>\n      <td>3896158.0</td>\n      <td>3896.1580</td>\n    </tr>\n  </tbody>\n</table>\n</div>"
     },
     "execution_count": 2,
     "metadata": {},
     "output_type": "execute_result"
    }
   ],
   "source": [
    "def custom_date_parser(date_string):\n",
    "    return pd.to_datetime(date_string, format='%d-%m-%Y %H:%M:%S')\n",
    "\n",
    "# Specify the path to the main directory containing folders and files\n",
    "path = 'D:\\\\mlinternship\\\\iitgdata'\n",
    "folders = [folder for folder in os.listdir(path) if os.path.isdir(os.path.join(path, folder))]\n",
    "df_list = []\n",
    "\n",
    "# Iterate through each folder\n",
    "for folder in folders:\n",
    "    # Construct the full path to the current folder\n",
    "    folder_path = os.path.join(path, folder)\n",
    "    # Iterate through files in the current folder\n",
    "    for filename in os.listdir(folder_path):\n",
    "        # Check if the file has the '.xlsx' extension\n",
    "        if filename.endswith('.xlsx'):\n",
    "            # Construct the full path to the Excel file\n",
    "            file_path = os.path.join(folder_path, filename)\n",
    "            # Use the custom date parser function\n",
    "            df = pd.read_excel(file_path, header=3, date_parser=custom_date_parser)\n",
    "            # Append the dataframe to the list\n",
    "            df_list.append(df)\n",
    "\n",
    "bill_path = 'D:\\\\mlinternship\\\\IITGuwahatiElectricityBills'\n",
    "for filename in os.listdir(bill_path):\n",
    "    # Check if the file has the '.xlsx' extension\n",
    "    if filename.endswith('.xlsx'):\n",
    "        file_path = os.path.join(bill_path, filename)\n",
    "        bill_df = pd.read_excel(file_path)\n",
    "\n",
    "bill_df['Month'] = pd.to_datetime(bill_df['Month'])\n",
    "#I assumed its in kilowatts\n",
    "bill_df['MW'] = bill_df['Number of units of electricity consumed']/1000\n",
    "bill_df.drop(['Number of units of electricity consumed'], axis=1)\n",
    "bill_df"
   ],
   "metadata": {
    "collapsed": false,
    "ExecuteTime": {
     "end_time": "2023-12-12T10:28:32.394074500Z",
     "start_time": "2023-12-12T10:28:17.778462100Z"
    }
   }
  },
  {
   "cell_type": "code",
   "execution_count": 3,
   "outputs": [
    {
     "data": {
      "text/plain": "      temperature                Time\n0            22.0 2023-05-03 00:00:00\n1            22.3 2023-05-03 00:15:00\n2            22.5 2023-05-03 00:30:00\n3            23.2 2023-05-03 00:45:00\n4            23.1 2023-05-03 01:00:00\n...           ...                 ...\n4423         26.3 2023-06-27 22:45:00\n4424         26.2 2023-06-27 23:00:00\n4425         26.2 2023-06-27 23:15:00\n4426         26.3 2023-06-27 23:30:00\n4427         26.5 2023-06-27 23:45:00\n\n[4428 rows x 2 columns]",
      "text/html": "<div>\n<style scoped>\n    .dataframe tbody tr th:only-of-type {\n        vertical-align: middle;\n    }\n\n    .dataframe tbody tr th {\n        vertical-align: top;\n    }\n\n    .dataframe thead th {\n        text-align: right;\n    }\n</style>\n<table border=\"1\" class=\"dataframe\">\n  <thead>\n    <tr style=\"text-align: right;\">\n      <th></th>\n      <th>temperature</th>\n      <th>Time</th>\n    </tr>\n  </thead>\n  <tbody>\n    <tr>\n      <th>0</th>\n      <td>22.0</td>\n      <td>2023-05-03 00:00:00</td>\n    </tr>\n    <tr>\n      <th>1</th>\n      <td>22.3</td>\n      <td>2023-05-03 00:15:00</td>\n    </tr>\n    <tr>\n      <th>2</th>\n      <td>22.5</td>\n      <td>2023-05-03 00:30:00</td>\n    </tr>\n    <tr>\n      <th>3</th>\n      <td>23.2</td>\n      <td>2023-05-03 00:45:00</td>\n    </tr>\n    <tr>\n      <th>4</th>\n      <td>23.1</td>\n      <td>2023-05-03 01:00:00</td>\n    </tr>\n    <tr>\n      <th>...</th>\n      <td>...</td>\n      <td>...</td>\n    </tr>\n    <tr>\n      <th>4423</th>\n      <td>26.3</td>\n      <td>2023-06-27 22:45:00</td>\n    </tr>\n    <tr>\n      <th>4424</th>\n      <td>26.2</td>\n      <td>2023-06-27 23:00:00</td>\n    </tr>\n    <tr>\n      <th>4425</th>\n      <td>26.2</td>\n      <td>2023-06-27 23:15:00</td>\n    </tr>\n    <tr>\n      <th>4426</th>\n      <td>26.3</td>\n      <td>2023-06-27 23:30:00</td>\n    </tr>\n    <tr>\n      <th>4427</th>\n      <td>26.5</td>\n      <td>2023-06-27 23:45:00</td>\n    </tr>\n  </tbody>\n</table>\n<p>4428 rows × 2 columns</p>\n</div>"
     },
     "execution_count": 3,
     "metadata": {},
     "output_type": "execute_result"
    }
   ],
   "source": [
    "temperature_data_path = 'D:\\\\mlinternship\\\\iitgdata\\\\temperaturedata\\\\report'\n",
    "temperature_df_list = []\n",
    "for filename in os.listdir(temperature_data_path):\n",
    "        # Check if the file has the '.xlsx' extension\n",
    "        if filename.endswith('.xlsx'):\n",
    "            # Construct the full path to the Excel file\n",
    "            file_path = os.path.join(temperature_data_path, filename)\n",
    "            # Use the custom date parser function\n",
    "            df = pd.read_excel(file_path, header=18, date_parser=custom_date_parser)\n",
    "            df = df[['DATE(YYYY-MM-DD)', 'TIME (UTC)', \"TEMP. ('C)\"]]\n",
    "            # Append the dataframe to the list\n",
    "            temperature_df_list.append(df)\n",
    "temperature_df = pd.concat(temperature_df_list, ignore_index=True)\n",
    "temperature_df['Time'] = pd.to_datetime(temperature_df['DATE(YYYY-MM-DD)'] + ' ' + temperature_df['TIME (UTC)'])\n",
    "# Rename the 'TEMP. ('C)' column to 'temperature'\n",
    "temperature_df.rename(columns={\"TEMP. ('C)\": 'temperature'}, inplace=True)\n",
    "# Drop the 'DATE(YYYY-MM-DD)' and 'TIME (UTC)' columns from temperature_df\n",
    "temperature_df = temperature_df.drop(['DATE(YYYY-MM-DD)', 'TIME (UTC)'], axis=1)\n",
    "temperature_df = temperature_df.sort_values(by='Time')\n",
    "temperature_df.reset_index(drop = True, inplace = True)\n",
    "temperature_df"
   ],
   "metadata": {
    "collapsed": false,
    "ExecuteTime": {
     "end_time": "2023-12-12T10:28:34.158429Z",
     "start_time": "2023-12-12T10:28:32.394074500Z"
    }
   }
  },
  {
   "cell_type": "code",
   "execution_count": 4,
   "outputs": [
    {
     "data": {
      "text/plain": "\"\\ntemperature_data_csv_path = 'D:\\\\mlinternship\\\\iitgdata\\\\temperaturedata'\\nfilename = 'guwahati_temperature_data.csv'\\nfile = os.path.join(temperature_data_csv_path, filename)\\ntemperature_df = pd.read_csv(file)\\ntemperature_df.rename(columns={'valid': 'Time'}, inplace = True)\\ntemperature_df = temperature_df.rename(columns={'tmpc': 'temperature'})\\ntemperature_df = temperature_df[['Time', 'temperature']]\\ntemperature_df['Time'] = pd.to_datetime(temperature_df['Time'])\\ntemperature_df['Time'] = pd.DatetimeIndex(temperature_df['Time']) + timedelta(hours=5,minutes=30)\\ntemperature_df['temperature'] = pd.to_numeric(temperature_df['temperature'], errors='coerce')\\ntemperature_df.set_index('Time', inplace=True)\\ntemperature_df['temperature'] = temperature_df['temperature'].interpolate(method='polynomial', order = 5)\\ntemperature_df.reset_index(inplace=True)\\n\""
     },
     "execution_count": 4,
     "metadata": {},
     "output_type": "execute_result"
    },
    {
     "data": {
      "text/plain": "                    Time   MW  temperature\n0    2023-05-03 00:00:00  3.0    22.000000\n1    2023-05-03 01:00:00  NaN    23.100000\n2    2023-05-03 02:00:00  NaN    25.800000\n3    2023-05-03 03:00:00  2.5    27.800000\n4    2023-05-03 04:00:00  NaN    29.500000\n...                  ...  ...          ...\n1124 2023-06-27 19:00:00  5.7    26.900000\n1125 2023-06-27 20:00:00  5.6    26.700000\n1126 2023-06-27 21:00:00  5.3    26.504635\n1127 2023-06-27 22:00:00  4.8    26.600000\n1128 2023-06-27 23:00:00  4.8    26.200000\n\n[1129 rows x 3 columns]",
      "text/html": "<div>\n<style scoped>\n    .dataframe tbody tr th:only-of-type {\n        vertical-align: middle;\n    }\n\n    .dataframe tbody tr th {\n        vertical-align: top;\n    }\n\n    .dataframe thead th {\n        text-align: right;\n    }\n</style>\n<table border=\"1\" class=\"dataframe\">\n  <thead>\n    <tr style=\"text-align: right;\">\n      <th></th>\n      <th>Time</th>\n      <th>MW</th>\n      <th>temperature</th>\n    </tr>\n  </thead>\n  <tbody>\n    <tr>\n      <th>0</th>\n      <td>2023-05-03 00:00:00</td>\n      <td>3.0</td>\n      <td>22.000000</td>\n    </tr>\n    <tr>\n      <th>1</th>\n      <td>2023-05-03 01:00:00</td>\n      <td>NaN</td>\n      <td>23.100000</td>\n    </tr>\n    <tr>\n      <th>2</th>\n      <td>2023-05-03 02:00:00</td>\n      <td>NaN</td>\n      <td>25.800000</td>\n    </tr>\n    <tr>\n      <th>3</th>\n      <td>2023-05-03 03:00:00</td>\n      <td>2.5</td>\n      <td>27.800000</td>\n    </tr>\n    <tr>\n      <th>4</th>\n      <td>2023-05-03 04:00:00</td>\n      <td>NaN</td>\n      <td>29.500000</td>\n    </tr>\n    <tr>\n      <th>...</th>\n      <td>...</td>\n      <td>...</td>\n      <td>...</td>\n    </tr>\n    <tr>\n      <th>1124</th>\n      <td>2023-06-27 19:00:00</td>\n      <td>5.7</td>\n      <td>26.900000</td>\n    </tr>\n    <tr>\n      <th>1125</th>\n      <td>2023-06-27 20:00:00</td>\n      <td>5.6</td>\n      <td>26.700000</td>\n    </tr>\n    <tr>\n      <th>1126</th>\n      <td>2023-06-27 21:00:00</td>\n      <td>5.3</td>\n      <td>26.504635</td>\n    </tr>\n    <tr>\n      <th>1127</th>\n      <td>2023-06-27 22:00:00</td>\n      <td>4.8</td>\n      <td>26.600000</td>\n    </tr>\n    <tr>\n      <th>1128</th>\n      <td>2023-06-27 23:00:00</td>\n      <td>4.8</td>\n      <td>26.200000</td>\n    </tr>\n  </tbody>\n</table>\n<p>1129 rows × 3 columns</p>\n</div>"
     },
     "execution_count": 4,
     "metadata": {},
     "output_type": "execute_result"
    },
    {
     "data": {
      "text/plain": "                    Time   MW  temperature\n7175 2023-05-03 00:00:00  3.0    22.000000\n7176 2023-05-03 01:00:00  NaN    23.100000\n7177 2023-05-03 02:00:00  NaN    25.800000\n7178 2023-05-03 03:00:00  2.5    27.800000\n7179 2023-05-03 04:00:00  NaN    29.500000\n...                  ...  ...          ...\n8515 2023-06-27 19:00:00  5.7    26.900000\n8516 2023-06-27 20:00:00  5.6    26.700000\n8517 2023-06-27 21:00:00  5.3    26.504635\n8518 2023-06-27 22:00:00  4.8    26.600000\n8519 2023-06-27 23:00:00  4.8    26.200000\n\n[1129 rows x 3 columns]",
      "text/html": "<div>\n<style scoped>\n    .dataframe tbody tr th:only-of-type {\n        vertical-align: middle;\n    }\n\n    .dataframe tbody tr th {\n        vertical-align: top;\n    }\n\n    .dataframe thead th {\n        text-align: right;\n    }\n</style>\n<table border=\"1\" class=\"dataframe\">\n  <thead>\n    <tr style=\"text-align: right;\">\n      <th></th>\n      <th>Time</th>\n      <th>MW</th>\n      <th>temperature</th>\n    </tr>\n  </thead>\n  <tbody>\n    <tr>\n      <th>7175</th>\n      <td>2023-05-03 00:00:00</td>\n      <td>3.0</td>\n      <td>22.000000</td>\n    </tr>\n    <tr>\n      <th>7176</th>\n      <td>2023-05-03 01:00:00</td>\n      <td>NaN</td>\n      <td>23.100000</td>\n    </tr>\n    <tr>\n      <th>7177</th>\n      <td>2023-05-03 02:00:00</td>\n      <td>NaN</td>\n      <td>25.800000</td>\n    </tr>\n    <tr>\n      <th>7178</th>\n      <td>2023-05-03 03:00:00</td>\n      <td>2.5</td>\n      <td>27.800000</td>\n    </tr>\n    <tr>\n      <th>7179</th>\n      <td>2023-05-03 04:00:00</td>\n      <td>NaN</td>\n      <td>29.500000</td>\n    </tr>\n    <tr>\n      <th>...</th>\n      <td>...</td>\n      <td>...</td>\n      <td>...</td>\n    </tr>\n    <tr>\n      <th>8515</th>\n      <td>2023-06-27 19:00:00</td>\n      <td>5.7</td>\n      <td>26.900000</td>\n    </tr>\n    <tr>\n      <th>8516</th>\n      <td>2023-06-27 20:00:00</td>\n      <td>5.6</td>\n      <td>26.700000</td>\n    </tr>\n    <tr>\n      <th>8517</th>\n      <td>2023-06-27 21:00:00</td>\n      <td>5.3</td>\n      <td>26.504635</td>\n    </tr>\n    <tr>\n      <th>8518</th>\n      <td>2023-06-27 22:00:00</td>\n      <td>4.8</td>\n      <td>26.600000</td>\n    </tr>\n    <tr>\n      <th>8519</th>\n      <td>2023-06-27 23:00:00</td>\n      <td>4.8</td>\n      <td>26.200000</td>\n    </tr>\n  </tbody>\n</table>\n<p>1129 rows × 3 columns</p>\n</div>"
     },
     "execution_count": 4,
     "metadata": {},
     "output_type": "execute_result"
    }
   ],
   "source": [
    "#read the power data\n",
    "power_df = pd.concat(df_list, ignore_index=True)\n",
    "\n",
    "power_df['Time'] = pd.to_datetime(power_df['Time'])\n",
    "power_df['Time'] = power_df['Time'].round('min')\n",
    "#replace all the 'NR' values in MW column to NaN\n",
    "power_df['MW'] = power_df['MW'].replace('NR', np.nan)\n",
    "power_df['MW'] = power_df['MW'].replace('nr', np.nan)\n",
    "power_df = power_df[['Time', 'MW']]\n",
    "power_df['MW'] = power_df['MW'].astype(str)\n",
    "power_df['MW'] = pd.to_numeric(power_df['MW'].str.replace(',', '.'), errors='coerce')\n",
    "power_df['Time'] = pd.to_datetime(power_df['Time'])\n",
    "power_df = power_df.sort_values('Time')\n",
    "power_df.to_csv('power_datacsv.csv')\n",
    "full_power_df = power_df.copy()\n",
    "\n",
    "# read the temperature data csv\n",
    "'''\n",
    "temperature_data_csv_path = 'D:\\\\mlinternship\\\\iitgdata\\\\temperaturedata'\n",
    "filename = 'guwahati_temperature_data.csv'\n",
    "file = os.path.join(temperature_data_csv_path, filename)\n",
    "temperature_df = pd.read_csv(file)\n",
    "temperature_df.rename(columns={'valid': 'Time'}, inplace = True)\n",
    "temperature_df = temperature_df.rename(columns={'tmpc': 'temperature'})\n",
    "temperature_df = temperature_df[['Time', 'temperature']]\n",
    "temperature_df['Time'] = pd.to_datetime(temperature_df['Time'])\n",
    "temperature_df['Time'] = pd.DatetimeIndex(temperature_df['Time']) + timedelta(hours=5,minutes=30)\n",
    "temperature_df['temperature'] = pd.to_numeric(temperature_df['temperature'], errors='coerce')\n",
    "temperature_df.set_index('Time', inplace=True)\n",
    "temperature_df['temperature'] = temperature_df['temperature'].interpolate(method='polynomial', order = 5)\n",
    "temperature_df.reset_index(inplace=True)\n",
    "'''\n",
    "# joining the two dataframes such that the temperature data is only taken if there exists a reading in the power data dataframe\n",
    "df = pd.merge(power_df, temperature_df, on='Time', how='left')\n",
    "df['temperature'] = df['temperature'].interpolate(method='polynomial', order = 5)\n",
    "df['Time'] = pd.to_datetime(df['Time'])\n",
    "\n",
    "full_model_part1_start_time = pd.Timestamp('2023-05-03 00:00:00')\n",
    "full_model_part1_end_time = pd.Timestamp('2023-06-06 23:00:00')\n",
    "full_model_part2_start_time =  pd.Timestamp('2023-06-16 00:00:00')\n",
    "full_model_part2_end_time = pd.Timestamp('2023-06-27 23:00:00')\n",
    "df = df[((df['Time'] >= full_model_part1_start_time) & (df['Time'] <= full_model_part1_end_time)) | ((df['Time'] >= full_model_part2_start_time) & (df['Time'] <= full_model_part2_end_time)) ]\n",
    "df = df.drop(df[df['MW'] > 20].index)\n",
    "df = df.sort_values('Time')\n",
    "df.reset_index(drop=True)\n",
    "df"
   ],
   "metadata": {
    "collapsed": false,
    "ExecuteTime": {
     "end_time": "2023-12-12T10:28:35.367197500Z",
     "start_time": "2023-12-12T10:28:34.158429Z"
    }
   }
  },
  {
   "cell_type": "code",
   "execution_count": 5,
   "outputs": [
    {
     "data": {
      "text/plain": "                   Time    MW temperature  CDH omega1 omega2 omega3 omega4  \\\n0   2023-05-03 00:00:00   3.0        22.0  0.0    0.0    0.0    0.0    0.0   \n1   2023-05-03 03:00:00   2.5        27.8  0.0    0.0    0.0    0.0    0.0   \n2   2023-05-03 05:00:00   3.0        31.5  0.5    0.0    0.0    0.0    0.0   \n3   2023-05-03 06:00:00   3.5        33.1  2.1    0.0    0.0    0.0    0.0   \n4   2023-05-03 07:00:00  3.75        29.3  0.0    0.0    0.0    0.0    0.0   \n..                  ...   ...         ...  ...    ...    ...    ...    ...   \n885 2023-06-27 19:00:00   5.7        26.9  0.0    0.0    0.0    0.0    0.0   \n886 2023-06-27 20:00:00   5.6        26.7  0.0    0.0    0.0    0.0    0.0   \n887 2023-06-27 21:00:00   5.3   26.504635  0.0    0.0    0.0    0.0    0.0   \n888 2023-06-27 22:00:00   4.8        26.6  0.0    0.0    0.0    0.0    0.0   \n889 2023-06-27 23:00:00   4.8        26.2  0.0    0.0    0.0    0.0    0.0   \n\n    omega5 omega6  ... omega159 omega160 omega161 omega162 omega163 omega164  \\\n0      0.0    0.0  ...      0.0      0.0      0.0      0.0      0.0      0.0   \n1      0.0    0.0  ...      0.0      0.0      0.0      0.0      0.0      0.0   \n2      0.0    0.0  ...      0.0      0.0      0.0      0.0      0.0      0.0   \n3      0.0    0.0  ...      0.0      0.0      0.0      0.0      0.0      0.0   \n4      0.0    0.0  ...      0.0      0.0      0.0      0.0      0.0      0.0   \n..     ...    ...  ...      ...      ...      ...      ...      ...      ...   \n885    0.0    0.0  ...      0.0      0.0      0.0      0.0      0.0      0.0   \n886    0.0    0.0  ...      0.0      0.0      0.0      0.0      0.0      0.0   \n887    0.0    0.0  ...      0.0      0.0      0.0      0.0      0.0      0.0   \n888    0.0    0.0  ...      0.0      0.0      0.0      0.0      0.0      0.0   \n889    0.0    0.0  ...      0.0      0.0      0.0      0.0      0.0      0.0   \n\n    omega165 omega166 omega167 omega168  \n0        0.0      0.0      0.0      0.0  \n1        0.0      0.0      0.0      0.0  \n2        0.0      0.0      0.0      0.0  \n3        0.0      0.0      0.0      0.0  \n4        0.0      0.0      0.0      0.0  \n..       ...      ...      ...      ...  \n885      0.0      0.0      0.0      0.0  \n886      0.0      0.0      0.0      0.0  \n887      0.0      0.0      0.0      0.0  \n888      0.0      0.0      0.0      0.0  \n889      0.0      0.0      0.0      0.0  \n\n[890 rows x 172 columns]",
      "text/html": "<div>\n<style scoped>\n    .dataframe tbody tr th:only-of-type {\n        vertical-align: middle;\n    }\n\n    .dataframe tbody tr th {\n        vertical-align: top;\n    }\n\n    .dataframe thead th {\n        text-align: right;\n    }\n</style>\n<table border=\"1\" class=\"dataframe\">\n  <thead>\n    <tr style=\"text-align: right;\">\n      <th></th>\n      <th>Time</th>\n      <th>MW</th>\n      <th>temperature</th>\n      <th>CDH</th>\n      <th>omega1</th>\n      <th>omega2</th>\n      <th>omega3</th>\n      <th>omega4</th>\n      <th>omega5</th>\n      <th>omega6</th>\n      <th>...</th>\n      <th>omega159</th>\n      <th>omega160</th>\n      <th>omega161</th>\n      <th>omega162</th>\n      <th>omega163</th>\n      <th>omega164</th>\n      <th>omega165</th>\n      <th>omega166</th>\n      <th>omega167</th>\n      <th>omega168</th>\n    </tr>\n  </thead>\n  <tbody>\n    <tr>\n      <th>0</th>\n      <td>2023-05-03 00:00:00</td>\n      <td>3.0</td>\n      <td>22.0</td>\n      <td>0.0</td>\n      <td>0.0</td>\n      <td>0.0</td>\n      <td>0.0</td>\n      <td>0.0</td>\n      <td>0.0</td>\n      <td>0.0</td>\n      <td>...</td>\n      <td>0.0</td>\n      <td>0.0</td>\n      <td>0.0</td>\n      <td>0.0</td>\n      <td>0.0</td>\n      <td>0.0</td>\n      <td>0.0</td>\n      <td>0.0</td>\n      <td>0.0</td>\n      <td>0.0</td>\n    </tr>\n    <tr>\n      <th>1</th>\n      <td>2023-05-03 03:00:00</td>\n      <td>2.5</td>\n      <td>27.8</td>\n      <td>0.0</td>\n      <td>0.0</td>\n      <td>0.0</td>\n      <td>0.0</td>\n      <td>0.0</td>\n      <td>0.0</td>\n      <td>0.0</td>\n      <td>...</td>\n      <td>0.0</td>\n      <td>0.0</td>\n      <td>0.0</td>\n      <td>0.0</td>\n      <td>0.0</td>\n      <td>0.0</td>\n      <td>0.0</td>\n      <td>0.0</td>\n      <td>0.0</td>\n      <td>0.0</td>\n    </tr>\n    <tr>\n      <th>2</th>\n      <td>2023-05-03 05:00:00</td>\n      <td>3.0</td>\n      <td>31.5</td>\n      <td>0.5</td>\n      <td>0.0</td>\n      <td>0.0</td>\n      <td>0.0</td>\n      <td>0.0</td>\n      <td>0.0</td>\n      <td>0.0</td>\n      <td>...</td>\n      <td>0.0</td>\n      <td>0.0</td>\n      <td>0.0</td>\n      <td>0.0</td>\n      <td>0.0</td>\n      <td>0.0</td>\n      <td>0.0</td>\n      <td>0.0</td>\n      <td>0.0</td>\n      <td>0.0</td>\n    </tr>\n    <tr>\n      <th>3</th>\n      <td>2023-05-03 06:00:00</td>\n      <td>3.5</td>\n      <td>33.1</td>\n      <td>2.1</td>\n      <td>0.0</td>\n      <td>0.0</td>\n      <td>0.0</td>\n      <td>0.0</td>\n      <td>0.0</td>\n      <td>0.0</td>\n      <td>...</td>\n      <td>0.0</td>\n      <td>0.0</td>\n      <td>0.0</td>\n      <td>0.0</td>\n      <td>0.0</td>\n      <td>0.0</td>\n      <td>0.0</td>\n      <td>0.0</td>\n      <td>0.0</td>\n      <td>0.0</td>\n    </tr>\n    <tr>\n      <th>4</th>\n      <td>2023-05-03 07:00:00</td>\n      <td>3.75</td>\n      <td>29.3</td>\n      <td>0.0</td>\n      <td>0.0</td>\n      <td>0.0</td>\n      <td>0.0</td>\n      <td>0.0</td>\n      <td>0.0</td>\n      <td>0.0</td>\n      <td>...</td>\n      <td>0.0</td>\n      <td>0.0</td>\n      <td>0.0</td>\n      <td>0.0</td>\n      <td>0.0</td>\n      <td>0.0</td>\n      <td>0.0</td>\n      <td>0.0</td>\n      <td>0.0</td>\n      <td>0.0</td>\n    </tr>\n    <tr>\n      <th>...</th>\n      <td>...</td>\n      <td>...</td>\n      <td>...</td>\n      <td>...</td>\n      <td>...</td>\n      <td>...</td>\n      <td>...</td>\n      <td>...</td>\n      <td>...</td>\n      <td>...</td>\n      <td>...</td>\n      <td>...</td>\n      <td>...</td>\n      <td>...</td>\n      <td>...</td>\n      <td>...</td>\n      <td>...</td>\n      <td>...</td>\n      <td>...</td>\n      <td>...</td>\n      <td>...</td>\n    </tr>\n    <tr>\n      <th>885</th>\n      <td>2023-06-27 19:00:00</td>\n      <td>5.7</td>\n      <td>26.9</td>\n      <td>0.0</td>\n      <td>0.0</td>\n      <td>0.0</td>\n      <td>0.0</td>\n      <td>0.0</td>\n      <td>0.0</td>\n      <td>0.0</td>\n      <td>...</td>\n      <td>0.0</td>\n      <td>0.0</td>\n      <td>0.0</td>\n      <td>0.0</td>\n      <td>0.0</td>\n      <td>0.0</td>\n      <td>0.0</td>\n      <td>0.0</td>\n      <td>0.0</td>\n      <td>0.0</td>\n    </tr>\n    <tr>\n      <th>886</th>\n      <td>2023-06-27 20:00:00</td>\n      <td>5.6</td>\n      <td>26.7</td>\n      <td>0.0</td>\n      <td>0.0</td>\n      <td>0.0</td>\n      <td>0.0</td>\n      <td>0.0</td>\n      <td>0.0</td>\n      <td>0.0</td>\n      <td>...</td>\n      <td>0.0</td>\n      <td>0.0</td>\n      <td>0.0</td>\n      <td>0.0</td>\n      <td>0.0</td>\n      <td>0.0</td>\n      <td>0.0</td>\n      <td>0.0</td>\n      <td>0.0</td>\n      <td>0.0</td>\n    </tr>\n    <tr>\n      <th>887</th>\n      <td>2023-06-27 21:00:00</td>\n      <td>5.3</td>\n      <td>26.504635</td>\n      <td>0.0</td>\n      <td>0.0</td>\n      <td>0.0</td>\n      <td>0.0</td>\n      <td>0.0</td>\n      <td>0.0</td>\n      <td>0.0</td>\n      <td>...</td>\n      <td>0.0</td>\n      <td>0.0</td>\n      <td>0.0</td>\n      <td>0.0</td>\n      <td>0.0</td>\n      <td>0.0</td>\n      <td>0.0</td>\n      <td>0.0</td>\n      <td>0.0</td>\n      <td>0.0</td>\n    </tr>\n    <tr>\n      <th>888</th>\n      <td>2023-06-27 22:00:00</td>\n      <td>4.8</td>\n      <td>26.6</td>\n      <td>0.0</td>\n      <td>0.0</td>\n      <td>0.0</td>\n      <td>0.0</td>\n      <td>0.0</td>\n      <td>0.0</td>\n      <td>0.0</td>\n      <td>...</td>\n      <td>0.0</td>\n      <td>0.0</td>\n      <td>0.0</td>\n      <td>0.0</td>\n      <td>0.0</td>\n      <td>0.0</td>\n      <td>0.0</td>\n      <td>0.0</td>\n      <td>0.0</td>\n      <td>0.0</td>\n    </tr>\n    <tr>\n      <th>889</th>\n      <td>2023-06-27 23:00:00</td>\n      <td>4.8</td>\n      <td>26.2</td>\n      <td>0.0</td>\n      <td>0.0</td>\n      <td>0.0</td>\n      <td>0.0</td>\n      <td>0.0</td>\n      <td>0.0</td>\n      <td>0.0</td>\n      <td>...</td>\n      <td>0.0</td>\n      <td>0.0</td>\n      <td>0.0</td>\n      <td>0.0</td>\n      <td>0.0</td>\n      <td>0.0</td>\n      <td>0.0</td>\n      <td>0.0</td>\n      <td>0.0</td>\n      <td>0.0</td>\n    </tr>\n  </tbody>\n</table>\n<p>890 rows × 172 columns</p>\n</div>"
     },
     "execution_count": 5,
     "metadata": {},
     "output_type": "execute_result"
    }
   ],
   "source": [
    "TcoolStPt = 31\n",
    "CDH = df['temperature'] - TcoolStPt\n",
    "CDH.clip(lower=0, inplace=True)\n",
    "CDH = pd.DataFrame(data=CDH.values, columns=['CDH'], index=df.index)\n",
    "# Concatenate CDH with the original DataFrame using the index\n",
    "df = pd.concat([df, CDH], axis=1)\n",
    "df = df.sort_values('Time')\n",
    "df.reset_index(inplace=True, drop = True)\n",
    "\n",
    "numOmegas = 24 * 7\n",
    "num_of_rows = df.shape[0]\n",
    "omegas = np.zeros((num_of_rows, numOmegas))  # Assuming numOmegas columns for omegas\n",
    "concatenated_data = np.concatenate((df, omegas), axis=1)\n",
    "column_names = ['Time', 'MW', 'temperature', 'CDH']\n",
    "for i in range(1, numOmegas + 1,1):\n",
    "    column_names.append('omega' + str(i))\n",
    "\n",
    "df = pd.DataFrame(concatenated_data, columns=column_names)\n",
    "df['Time'] = pd.to_datetime(df['Time'])\n",
    "for i in range(0,num_of_rows):\n",
    "        datetime = df.Time.loc[i]\n",
    "        hourOfWeekIndex = int(datetime.dayofweek*24+(datetime.hour+1))\n",
    "        x = np.zeros((1,numOmegas))\n",
    "        x[0,hourOfWeekIndex-1]=1\n",
    "        omegas[i,:]=x\n",
    "\n",
    "df.iloc[:,4:]=omegas\n",
    "DF = df.copy()\n",
    "df = df.dropna()\n",
    "df.reset_index(inplace=True, drop = True)\n",
    "df"
   ],
   "metadata": {
    "collapsed": false,
    "ExecuteTime": {
     "end_time": "2023-12-12T10:28:35.427631500Z",
     "start_time": "2023-12-12T10:28:35.301871Z"
    }
   }
  },
  {
   "cell_type": "code",
   "execution_count": 6,
   "outputs": [],
   "source": [
    "start_time = pd.Timestamp('2023-05-03 00:00:00')\n",
    "end_time = pd.Timestamp('2023-06-27 23:00:00')\n",
    "\n",
    "training_mask = (df['Time'] >= start_time) & (df['Time'] <= end_time)\n",
    "training_df = df[training_mask]\n",
    "\n",
    "x = training_df.loc[:, 'temperature':'omega168']\n",
    "x = x.to_numpy()\n",
    "y = training_df['MW']\n",
    "y = y.to_numpy()\n",
    "y = y.reshape(-1,1)\n",
    "scaler = StandardScaler()\n",
    "x = scaler.fit_transform(x)\n",
    "y = scaler.fit_transform(y)"
   ],
   "metadata": {
    "collapsed": false,
    "ExecuteTime": {
     "end_time": "2023-12-12T10:28:35.593560800Z",
     "start_time": "2023-12-12T10:28:35.382369500Z"
    }
   }
  },
  {
   "cell_type": "code",
   "execution_count": 7,
   "outputs": [],
   "source": [
    "X_train, X_test, y_train, y_test = train_test_split(x, y, test_size=0.2, random_state=1)\n",
    "y = y.reshape(len(y),)"
   ],
   "metadata": {
    "collapsed": false,
    "ExecuteTime": {
     "end_time": "2023-12-12T10:28:35.658822400Z",
     "start_time": "2023-12-12T10:28:35.422619200Z"
    }
   }
  },
  {
   "cell_type": "code",
   "execution_count": 8,
   "outputs": [
    {
     "data": {
      "text/plain": "SVR()",
      "text/html": "<style>#sk-container-id-1 {color: black;}#sk-container-id-1 pre{padding: 0;}#sk-container-id-1 div.sk-toggleable {background-color: white;}#sk-container-id-1 label.sk-toggleable__label {cursor: pointer;display: block;width: 100%;margin-bottom: 0;padding: 0.3em;box-sizing: border-box;text-align: center;}#sk-container-id-1 label.sk-toggleable__label-arrow:before {content: \"▸\";float: left;margin-right: 0.25em;color: #696969;}#sk-container-id-1 label.sk-toggleable__label-arrow:hover:before {color: black;}#sk-container-id-1 div.sk-estimator:hover label.sk-toggleable__label-arrow:before {color: black;}#sk-container-id-1 div.sk-toggleable__content {max-height: 0;max-width: 0;overflow: hidden;text-align: left;background-color: #f0f8ff;}#sk-container-id-1 div.sk-toggleable__content pre {margin: 0.2em;color: black;border-radius: 0.25em;background-color: #f0f8ff;}#sk-container-id-1 input.sk-toggleable__control:checked~div.sk-toggleable__content {max-height: 200px;max-width: 100%;overflow: auto;}#sk-container-id-1 input.sk-toggleable__control:checked~label.sk-toggleable__label-arrow:before {content: \"▾\";}#sk-container-id-1 div.sk-estimator input.sk-toggleable__control:checked~label.sk-toggleable__label {background-color: #d4ebff;}#sk-container-id-1 div.sk-label input.sk-toggleable__control:checked~label.sk-toggleable__label {background-color: #d4ebff;}#sk-container-id-1 input.sk-hidden--visually {border: 0;clip: rect(1px 1px 1px 1px);clip: rect(1px, 1px, 1px, 1px);height: 1px;margin: -1px;overflow: hidden;padding: 0;position: absolute;width: 1px;}#sk-container-id-1 div.sk-estimator {font-family: monospace;background-color: #f0f8ff;border: 1px dotted black;border-radius: 0.25em;box-sizing: border-box;margin-bottom: 0.5em;}#sk-container-id-1 div.sk-estimator:hover {background-color: #d4ebff;}#sk-container-id-1 div.sk-parallel-item::after {content: \"\";width: 100%;border-bottom: 1px solid gray;flex-grow: 1;}#sk-container-id-1 div.sk-label:hover label.sk-toggleable__label {background-color: #d4ebff;}#sk-container-id-1 div.sk-serial::before {content: \"\";position: absolute;border-left: 1px solid gray;box-sizing: border-box;top: 0;bottom: 0;left: 50%;z-index: 0;}#sk-container-id-1 div.sk-serial {display: flex;flex-direction: column;align-items: center;background-color: white;padding-right: 0.2em;padding-left: 0.2em;position: relative;}#sk-container-id-1 div.sk-item {position: relative;z-index: 1;}#sk-container-id-1 div.sk-parallel {display: flex;align-items: stretch;justify-content: center;background-color: white;position: relative;}#sk-container-id-1 div.sk-item::before, #sk-container-id-1 div.sk-parallel-item::before {content: \"\";position: absolute;border-left: 1px solid gray;box-sizing: border-box;top: 0;bottom: 0;left: 50%;z-index: -1;}#sk-container-id-1 div.sk-parallel-item {display: flex;flex-direction: column;z-index: 1;position: relative;background-color: white;}#sk-container-id-1 div.sk-parallel-item:first-child::after {align-self: flex-end;width: 50%;}#sk-container-id-1 div.sk-parallel-item:last-child::after {align-self: flex-start;width: 50%;}#sk-container-id-1 div.sk-parallel-item:only-child::after {width: 0;}#sk-container-id-1 div.sk-dashed-wrapped {border: 1px dashed gray;margin: 0 0.4em 0.5em 0.4em;box-sizing: border-box;padding-bottom: 0.4em;background-color: white;}#sk-container-id-1 div.sk-label label {font-family: monospace;font-weight: bold;display: inline-block;line-height: 1.2em;}#sk-container-id-1 div.sk-label-container {text-align: center;}#sk-container-id-1 div.sk-container {/* jupyter's `normalize.less` sets `[hidden] { display: none; }` but bootstrap.min.css set `[hidden] { display: none !important; }` so we also need the `!important` here to be able to override the default hidden behavior on the sphinx rendered scikit-learn.org. See: https://github.com/scikit-learn/scikit-learn/issues/21755 */display: inline-block !important;position: relative;}#sk-container-id-1 div.sk-text-repr-fallback {display: none;}</style><div id=\"sk-container-id-1\" class=\"sk-top-container\"><div class=\"sk-text-repr-fallback\"><pre>SVR()</pre><b>In a Jupyter environment, please rerun this cell to show the HTML representation or trust the notebook. <br />On GitHub, the HTML representation is unable to render, please try loading this page with nbviewer.org.</b></div><div class=\"sk-container\" hidden><div class=\"sk-item\"><div class=\"sk-estimator sk-toggleable\"><input class=\"sk-toggleable__control sk-hidden--visually\" id=\"sk-estimator-id-1\" type=\"checkbox\" checked><label for=\"sk-estimator-id-1\" class=\"sk-toggleable__label sk-toggleable__label-arrow\">SVR</label><div class=\"sk-toggleable__content\"><pre>SVR()</pre></div></div></div></div></div>"
     },
     "execution_count": 8,
     "metadata": {},
     "output_type": "execute_result"
    }
   ],
   "source": [
    "svr_model = SVR()\n",
    "svr_model.fit(x,y)"
   ],
   "metadata": {
    "collapsed": false,
    "ExecuteTime": {
     "end_time": "2023-12-12T10:28:35.793881900Z",
     "start_time": "2023-12-12T10:28:35.437974900Z"
    }
   }
  },
  {
   "cell_type": "code",
   "execution_count": 9,
   "outputs": [
    {
     "name": "stdout",
     "output_type": "stream",
     "text": [
      "score of the model:  0.6153465098355633\n",
      "Mean Squared Error on Test Set: 0.4049494397859134\n"
     ]
    }
   ],
   "source": [
    "print(\"score of the model: \", svr_model.score(X_test,y_test))\n",
    "y_pred = svr_model.predict(X_test)\n",
    "mse = mean_squared_error(y_test, y_pred)\n",
    "print(\"Mean Squared Error on Test Set:\", mse)"
   ],
   "metadata": {
    "collapsed": false,
    "ExecuteTime": {
     "end_time": "2023-12-12T10:28:35.843954600Z",
     "start_time": "2023-12-12T10:28:35.533539300Z"
    }
   }
  },
  {
   "cell_type": "code",
   "execution_count": 10,
   "outputs": [
    {
     "data": {
      "text/plain": "GridSearchCV(estimator=SVR(),\n             param_grid={'C': [0.01, 0.1, 0.5, 1, 1.5, 2.5, 5, 10, 15],\n                         'degree': [1, 2, 3, 4, 5, 6],\n                         'epsilon': [0.01, 0.1, 0.25],\n                         'gamma': ['scale', 'auto'],\n                         'kernel': ['linear', 'rbf', 'poly']})",
      "text/html": "<style>#sk-container-id-2 {color: black;}#sk-container-id-2 pre{padding: 0;}#sk-container-id-2 div.sk-toggleable {background-color: white;}#sk-container-id-2 label.sk-toggleable__label {cursor: pointer;display: block;width: 100%;margin-bottom: 0;padding: 0.3em;box-sizing: border-box;text-align: center;}#sk-container-id-2 label.sk-toggleable__label-arrow:before {content: \"▸\";float: left;margin-right: 0.25em;color: #696969;}#sk-container-id-2 label.sk-toggleable__label-arrow:hover:before {color: black;}#sk-container-id-2 div.sk-estimator:hover label.sk-toggleable__label-arrow:before {color: black;}#sk-container-id-2 div.sk-toggleable__content {max-height: 0;max-width: 0;overflow: hidden;text-align: left;background-color: #f0f8ff;}#sk-container-id-2 div.sk-toggleable__content pre {margin: 0.2em;color: black;border-radius: 0.25em;background-color: #f0f8ff;}#sk-container-id-2 input.sk-toggleable__control:checked~div.sk-toggleable__content {max-height: 200px;max-width: 100%;overflow: auto;}#sk-container-id-2 input.sk-toggleable__control:checked~label.sk-toggleable__label-arrow:before {content: \"▾\";}#sk-container-id-2 div.sk-estimator input.sk-toggleable__control:checked~label.sk-toggleable__label {background-color: #d4ebff;}#sk-container-id-2 div.sk-label input.sk-toggleable__control:checked~label.sk-toggleable__label {background-color: #d4ebff;}#sk-container-id-2 input.sk-hidden--visually {border: 0;clip: rect(1px 1px 1px 1px);clip: rect(1px, 1px, 1px, 1px);height: 1px;margin: -1px;overflow: hidden;padding: 0;position: absolute;width: 1px;}#sk-container-id-2 div.sk-estimator {font-family: monospace;background-color: #f0f8ff;border: 1px dotted black;border-radius: 0.25em;box-sizing: border-box;margin-bottom: 0.5em;}#sk-container-id-2 div.sk-estimator:hover {background-color: #d4ebff;}#sk-container-id-2 div.sk-parallel-item::after {content: \"\";width: 100%;border-bottom: 1px solid gray;flex-grow: 1;}#sk-container-id-2 div.sk-label:hover label.sk-toggleable__label {background-color: #d4ebff;}#sk-container-id-2 div.sk-serial::before {content: \"\";position: absolute;border-left: 1px solid gray;box-sizing: border-box;top: 0;bottom: 0;left: 50%;z-index: 0;}#sk-container-id-2 div.sk-serial {display: flex;flex-direction: column;align-items: center;background-color: white;padding-right: 0.2em;padding-left: 0.2em;position: relative;}#sk-container-id-2 div.sk-item {position: relative;z-index: 1;}#sk-container-id-2 div.sk-parallel {display: flex;align-items: stretch;justify-content: center;background-color: white;position: relative;}#sk-container-id-2 div.sk-item::before, #sk-container-id-2 div.sk-parallel-item::before {content: \"\";position: absolute;border-left: 1px solid gray;box-sizing: border-box;top: 0;bottom: 0;left: 50%;z-index: -1;}#sk-container-id-2 div.sk-parallel-item {display: flex;flex-direction: column;z-index: 1;position: relative;background-color: white;}#sk-container-id-2 div.sk-parallel-item:first-child::after {align-self: flex-end;width: 50%;}#sk-container-id-2 div.sk-parallel-item:last-child::after {align-self: flex-start;width: 50%;}#sk-container-id-2 div.sk-parallel-item:only-child::after {width: 0;}#sk-container-id-2 div.sk-dashed-wrapped {border: 1px dashed gray;margin: 0 0.4em 0.5em 0.4em;box-sizing: border-box;padding-bottom: 0.4em;background-color: white;}#sk-container-id-2 div.sk-label label {font-family: monospace;font-weight: bold;display: inline-block;line-height: 1.2em;}#sk-container-id-2 div.sk-label-container {text-align: center;}#sk-container-id-2 div.sk-container {/* jupyter's `normalize.less` sets `[hidden] { display: none; }` but bootstrap.min.css set `[hidden] { display: none !important; }` so we also need the `!important` here to be able to override the default hidden behavior on the sphinx rendered scikit-learn.org. See: https://github.com/scikit-learn/scikit-learn/issues/21755 */display: inline-block !important;position: relative;}#sk-container-id-2 div.sk-text-repr-fallback {display: none;}</style><div id=\"sk-container-id-2\" class=\"sk-top-container\"><div class=\"sk-text-repr-fallback\"><pre>GridSearchCV(estimator=SVR(),\n             param_grid={&#x27;C&#x27;: [0.01, 0.1, 0.5, 1, 1.5, 2.5, 5, 10, 15],\n                         &#x27;degree&#x27;: [1, 2, 3, 4, 5, 6],\n                         &#x27;epsilon&#x27;: [0.01, 0.1, 0.25],\n                         &#x27;gamma&#x27;: [&#x27;scale&#x27;, &#x27;auto&#x27;],\n                         &#x27;kernel&#x27;: [&#x27;linear&#x27;, &#x27;rbf&#x27;, &#x27;poly&#x27;]})</pre><b>In a Jupyter environment, please rerun this cell to show the HTML representation or trust the notebook. <br />On GitHub, the HTML representation is unable to render, please try loading this page with nbviewer.org.</b></div><div class=\"sk-container\" hidden><div class=\"sk-item sk-dashed-wrapped\"><div class=\"sk-label-container\"><div class=\"sk-label sk-toggleable\"><input class=\"sk-toggleable__control sk-hidden--visually\" id=\"sk-estimator-id-2\" type=\"checkbox\" ><label for=\"sk-estimator-id-2\" class=\"sk-toggleable__label sk-toggleable__label-arrow\">GridSearchCV</label><div class=\"sk-toggleable__content\"><pre>GridSearchCV(estimator=SVR(),\n             param_grid={&#x27;C&#x27;: [0.01, 0.1, 0.5, 1, 1.5, 2.5, 5, 10, 15],\n                         &#x27;degree&#x27;: [1, 2, 3, 4, 5, 6],\n                         &#x27;epsilon&#x27;: [0.01, 0.1, 0.25],\n                         &#x27;gamma&#x27;: [&#x27;scale&#x27;, &#x27;auto&#x27;],\n                         &#x27;kernel&#x27;: [&#x27;linear&#x27;, &#x27;rbf&#x27;, &#x27;poly&#x27;]})</pre></div></div></div><div class=\"sk-parallel\"><div class=\"sk-parallel-item\"><div class=\"sk-item\"><div class=\"sk-label-container\"><div class=\"sk-label sk-toggleable\"><input class=\"sk-toggleable__control sk-hidden--visually\" id=\"sk-estimator-id-3\" type=\"checkbox\" ><label for=\"sk-estimator-id-3\" class=\"sk-toggleable__label sk-toggleable__label-arrow\">estimator: SVR</label><div class=\"sk-toggleable__content\"><pre>SVR()</pre></div></div></div><div class=\"sk-serial\"><div class=\"sk-item\"><div class=\"sk-estimator sk-toggleable\"><input class=\"sk-toggleable__control sk-hidden--visually\" id=\"sk-estimator-id-4\" type=\"checkbox\" ><label for=\"sk-estimator-id-4\" class=\"sk-toggleable__label sk-toggleable__label-arrow\">SVR</label><div class=\"sk-toggleable__content\"><pre>SVR()</pre></div></div></div></div></div></div></div></div></div></div>"
     },
     "execution_count": 10,
     "metadata": {},
     "output_type": "execute_result"
    },
    {
     "name": "stdout",
     "output_type": "stream",
     "text": [
      "Best Parameters: {'C': 5, 'degree': 1, 'epsilon': 0.1, 'gamma': 'auto', 'kernel': 'poly'}\n",
      "Mean Squared Error on Test Set: 0.35235956742604746\n",
      "score of the model:  0.665300592896449\n"
     ]
    }
   ],
   "source": [
    "param_grid = {'C':[0.01, 0.1,0.5,1,1.5,2.5,5,10,15],\n",
    "             'kernel':['linear','rbf', 'poly'],\n",
    "              'gamma':['scale','auto'],\n",
    "              'degree':[1,2,3,4,5,6],\n",
    "              'epsilon':[0.01, 0.1, 0.25]}\n",
    "\n",
    "svr_grid = SVR()\n",
    "# Create a GridSearchCV object\n",
    "grid_search = GridSearchCV(svr_grid,param_grid=param_grid)\n",
    "\n",
    "# Fit the grid search to the data\n",
    "grid_search.fit(x, y)\n",
    "\n",
    "# Get the best parameters and the best model\n",
    "best_params = grid_search.best_params_\n",
    "\n",
    "# Make predictions on the test set\n",
    "y_pred = grid_search.predict(X_test)\n",
    "mse = mean_squared_error(y_test, y_pred)\n",
    "\n",
    "print(\"Best Parameters:\", best_params)\n",
    "print(\"Mean Squared Error on Test Set:\", mse)\n",
    "print(\"score of the model: \", grid_search.score(X_test,y_test))"
   ],
   "metadata": {
    "collapsed": false,
    "ExecuteTime": {
     "end_time": "2023-12-12T10:35:50.453756700Z",
     "start_time": "2023-12-12T10:28:35.608708300Z"
    }
   }
  },
  {
   "cell_type": "code",
   "execution_count": 11,
   "outputs": [
    {
     "data": {
      "text/plain": "<contextlib.ExitStack at 0x1a67ff1d210>"
     },
     "execution_count": 11,
     "metadata": {},
     "output_type": "execute_result"
    },
    {
     "data": {
      "text/plain": "<Figure size 1200x600 with 0 Axes>"
     },
     "execution_count": 11,
     "metadata": {},
     "output_type": "execute_result"
    },
    {
     "data": {
      "text/plain": "[<matplotlib.lines.Line2D at 0x1a67f416290>]"
     },
     "execution_count": 11,
     "metadata": {},
     "output_type": "execute_result"
    },
    {
     "data": {
      "text/plain": "[<matplotlib.lines.Line2D at 0x1a67f6b9e10>]"
     },
     "execution_count": 11,
     "metadata": {},
     "output_type": "execute_result"
    },
    {
     "data": {
      "text/plain": "Text(0.5, 0, 'Time')"
     },
     "execution_count": 11,
     "metadata": {},
     "output_type": "execute_result"
    },
    {
     "data": {
      "text/plain": "Text(0, 0.5, 'Power Consumption Changes')"
     },
     "execution_count": 11,
     "metadata": {},
     "output_type": "execute_result"
    },
    {
     "data": {
      "text/plain": "<matplotlib.legend.Legend at 0x1a67f497f90>"
     },
     "execution_count": 11,
     "metadata": {},
     "output_type": "execute_result"
    }
   ],
   "source": [
    "yhat = grid_search.predict(x)\n",
    "plt.ion()\n",
    "\n",
    "\n",
    "plt.figure(figsize=(12, 6))\n",
    "plt.plot(training_df['Time'], yhat, marker='o', linestyle='-', color = 'g', label = 'predicted')\n",
    "plt.plot(training_df['Time'], y, marker='x', linestyle='-', color = 'r', label = 'actual')\n",
    "plt.xlabel('Time')\n",
    "plt.ylabel('Power Consumption Changes')\n",
    "\n",
    "plt.grid(True)\n",
    "plt.legend()\n",
    "plt.show()"
   ],
   "metadata": {
    "collapsed": false,
    "ExecuteTime": {
     "end_time": "2023-12-12T10:35:50.958374800Z",
     "start_time": "2023-12-12T10:35:50.458271500Z"
    }
   }
  }
 ],
 "metadata": {
  "kernelspec": {
   "display_name": "Python 3",
   "language": "python",
   "name": "python3"
  },
  "language_info": {
   "codemirror_mode": {
    "name": "ipython",
    "version": 2
   },
   "file_extension": ".py",
   "mimetype": "text/x-python",
   "name": "python",
   "nbconvert_exporter": "python",
   "pygments_lexer": "ipython2",
   "version": "2.7.6"
  }
 },
 "nbformat": 4,
 "nbformat_minor": 0
}
