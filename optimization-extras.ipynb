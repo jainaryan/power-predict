{
 "cells": [
  {
   "cell_type": "code",
   "execution_count": null,
   "metadata": {
    "collapsed": true
   },
   "outputs": [],
   "source": [
    "import datetime as datetime\n",
    "from datetime import datetime, timedelta\n",
    "import pandas as pd\n",
    "import pytz\n",
    "import numpy as np\n",
    "import os\n",
    "from sklearn import preprocessing\n",
    "import re\n",
    "import matplotlib\n",
    "matplotlib.use('Qt5Agg')\n",
    "from datetime import timedelta\n",
    "import matplotlib.pyplot as plt\n",
    "from IPython.core.interactiveshell import InteractiveShell\n",
    "InteractiveShell.ast_node_interactivity = \"all\"\n",
    "import random\n",
    "import calendar\n",
    "from casadi import *\n",
    "import casadi as cd\n",
    "from sklearn.linear_model import LinearRegression"
   ]
  },
  {
   "cell_type": "code",
   "execution_count": null,
   "outputs": [],
   "source": [
    "def custom_date_parser(date_string):\n",
    "    return pd.to_datetime(date_string, format='%d-%m-%Y %H:%M:%S')\n",
    "\n",
    "# Specify the path to the main directory containing folders and files\n",
    "path = 'D:\\\\mlinternship\\\\iitgdata'\n",
    "folders = [folder for folder in os.listdir(path) if os.path.isdir(os.path.join(path, folder))]\n",
    "df_list = []\n",
    "\n",
    "# Iterate through each folder\n",
    "for folder in folders:\n",
    "    # Construct the full path to the current folder\n",
    "    folder_path = os.path.join(path, folder)\n",
    "\n",
    "    # Iterate through files in the current folder\n",
    "    for filename in os.listdir(folder_path):\n",
    "        # Check if the file has the '.xlsx' extension\n",
    "        if filename.endswith('.xlsx'):\n",
    "            # Construct the full path to the Excel file\n",
    "            file_path = os.path.join(folder_path, filename)\n",
    "\n",
    "            # Use the custom date parser function\n",
    "            df = pd.read_excel(file_path, header=3, date_parser=custom_date_parser)\n",
    "\n",
    "            # Append the dataframe to the list\n",
    "            df_list.append(df)\n"
   ],
   "metadata": {
    "collapsed": false
   }
  },
  {
   "cell_type": "code",
   "execution_count": null,
   "outputs": [],
   "source": [
    "bill_path = 'D:\\\\mlinternship\\\\IITGuwahatiElectricityBills'\n",
    "for filename in os.listdir(bill_path):\n",
    "    # Check if the file has the '.xlsx' extension\n",
    "    if filename.endswith('.xlsx'):\n",
    "        file_path = os.path.join(bill_path, filename)\n",
    "        # Use the custom date parser function\n",
    "        bill_df = pd.read_excel(file_path)\n",
    "\n",
    "bill_df['Month'] = pd.to_datetime(bill_df['Month'])\n",
    "#I assumed its in kilowatts\n",
    "bill_df['MW'] = bill_df['Number of units of electricity consumed']/1000\n",
    "bill_df.drop(['Number of units of electricity consumed'], axis=1)\n",
    "bill_df"
   ],
   "metadata": {
    "collapsed": false
   }
  },
  {
   "cell_type": "code",
   "execution_count": null,
   "outputs": [],
   "source": [
    "power_df = pd.concat(df_list, ignore_index=True)\n",
    "power_df.to_csv('power_datacsv.csv')\n",
    "power_df['Time'] = pd.to_datetime(power_df['Time'])\n",
    "power_df['Time'] = power_df['Time'].round('min')\n",
    "#replace all the 'NR' values in MW column to NaN\n",
    "power_df['MW'] = power_df['MW'].replace('NR', np.nan)\n",
    "power_df['MW'] = power_df['MW'].replace('nr', np.nan)\n",
    "power_df = power_df[['Time', 'MW']]\n",
    "#power_df.dropna(subset=['Time'], inplace=True)\n",
    "power_df['MW'] = power_df['MW'].astype(str)\n",
    "power_df['MW'] = pd.to_numeric(power_df['MW'].str.replace(',', '.'), errors='coerce')\n",
    "power_df['Time'] = pd.to_datetime(power_df['Time'])\n",
    "power_df = power_df.sort_values('Time')\n",
    "power_df.reset_index(drop = True, inplace = True)\n",
    "power_df"
   ],
   "metadata": {
    "collapsed": false
   }
  },
  {
   "cell_type": "code",
   "execution_count": null,
   "outputs": [],
   "source": [
    "# read the temperature data csv\n",
    "temperature_data_csv_path = 'D:\\\\mlinternship\\\\iitgdata\\\\temperaturedata'\n",
    "filename = 'guwahati_temperature_data.csv'\n",
    "file = os.path.join(temperature_data_csv_path, filename)\n",
    "temperature_df = pd.read_csv(file)\n",
    "temperature_df.rename(columns={'valid': 'Time'}, inplace = True)\n",
    "temperature_df = temperature_df.rename(columns={'tmpc': 'temperature'})\n",
    "temperature_df = temperature_df[['Time', 'temperature']]\n",
    "temperature_df['Time'] = pd.to_datetime(temperature_df['Time'])\n",
    "temperature_df['Time'] = pd.DatetimeIndex(temperature_df['Time']) + timedelta(hours=5,minutes=30)\n",
    "temperature_df['temperature'] = pd.to_numeric(temperature_df['temperature'], errors='coerce')\n",
    "temperature_df.set_index('Time', inplace=True)\n",
    "temperature_df['temperature'] = temperature_df['temperature'].interpolate(method='polynomial', order = 5)\n",
    "temperature_df.reset_index(inplace=True)\n"
   ],
   "metadata": {
    "collapsed": false
   }
  },
  {
   "cell_type": "code",
   "execution_count": null,
   "outputs": [],
   "source": [
    "df = pd.merge(power_df, temperature_df, on='Time', how='left')\n",
    "df['temperature'] = df['temperature'].interpolate(method='polynomial', order = 5)\n",
    "df['Time'] = pd.to_datetime(df['Time'])\n",
    "full_model_part1_start_time = pd.Timestamp('2023-05-03 00:00:00')\n",
    "full_model_part1_end_time = pd.Timestamp('2023-06-06 23:00:00')\n",
    "full_model_part2_start_time =  pd.Timestamp('2023-06-16 00:00:00')\n",
    "full_model_part2_end_time = pd.Timestamp('2023-06-27 23:00:00')\n",
    "df = df[((df['Time'] >= full_model_part1_start_time) & (df['Time'] <= full_model_part1_end_time)) | ((df['Time'] >= full_model_part2_start_time) & (df['Time'] <= full_model_part2_end_time)) ]\n",
    "df = df.drop(df[df['MW'] > 20].index)\n",
    "df = df.sort_values('Time')\n",
    "df.reset_index(drop=True)\n",
    "df"
   ],
   "metadata": {
    "collapsed": false
   }
  },
  {
   "cell_type": "code",
   "execution_count": null,
   "outputs": [],
   "source": [
    "'''start_date = datetime(2022, 8, 1, 10, 0, 0)  # August 1st, 2022, 10:00:00 AM\n",
    "end_date = datetime(2022, 8, 28, 22, 0, 0)  # August 28th, 2022, 10:00:00 PM\n",
    "\n",
    "# Generate 100 random timestamps within the constraints\n",
    "random_times = []\n",
    "for _ in range(100):\n",
    "    random_hour = random.randint(10, 22)  # Random hour between 10 AM and 10 PM\n",
    "    minute = 0\n",
    "    second = 0\n",
    "    random_time = datetime(2022, 8, random.randint(1, 28), random_hour, minute, second)\n",
    "    random_times.append(random_time)\n",
    "\n",
    "# Convert the random timestamps to string format\n",
    "random_time_strings = [time.strftime('%Y-%m-%d %H:%M:%S') for time in random_times]\n",
    "\n",
    "# Drop rows with the generated random timestamps from df\n",
    "df = df[~df['Time'].isin(random_time_strings)]\n",
    "df'''"
   ],
   "metadata": {
    "collapsed": false
   }
  },
  {
   "cell_type": "code",
   "execution_count": null,
   "outputs": [],
   "source": [
    "TcoolStPt = 31\n",
    "CDH = df['temperature'] - TcoolStPt\n",
    "CDH.clip(lower=0, inplace=True)\n",
    "CDH = pd.DataFrame(data=CDH.values, columns=['CDH'], index=df.index)\n",
    "# Concatenate CDH with the original DataFrame using the index\n",
    "df = pd.concat([df, CDH], axis=1)\n",
    "df = df.sort_values('Time')\n",
    "df.reset_index(inplace=True, drop = True)"
   ],
   "metadata": {
    "collapsed": false
   }
  },
  {
   "cell_type": "code",
   "execution_count": null,
   "outputs": [],
   "source": [
    "numOmegas = 24 * 7\n",
    "num_of_rows = df.shape[0]\n",
    "omegas = np.zeros((num_of_rows, numOmegas))  # Assuming numOmegas columns for omegas\n",
    "concatenated_data = np.concatenate((df, omegas), axis=1)\n",
    "column_names = ['Time', 'MW', 'temperature', 'CDH']\n",
    "for i in range(1, numOmegas + 1,1):\n",
    "    column_names.append('omega' + str(i))\n",
    "\n",
    "df = pd.DataFrame(concatenated_data, columns=column_names)\n",
    "df['Time'] = pd.to_datetime(df['Time'])\n",
    "for i in range(0,num_of_rows):\n",
    "        datetime = df.Time.loc[i]\n",
    "        hourOfWeekIndex = int(datetime.dayofweek*24+(datetime.hour+1))\n",
    "        x = np.zeros((1,numOmegas))\n",
    "        x[0,hourOfWeekIndex-1]=1\n",
    "        omegas[i,:]=x\n",
    "\n",
    "df.iloc[:,4:]=omegas\n",
    "df"
   ],
   "metadata": {
    "collapsed": false
   }
  },
  {
   "cell_type": "code",
   "execution_count": null,
   "outputs": [],
   "source": [
    "DF = df.copy()\n",
    "df = df.dropna()\n",
    "df.reset_index(inplace=True, drop = True)\n",
    "df"
   ],
   "metadata": {
    "collapsed": false
   }
  },
  {
   "cell_type": "code",
   "execution_count": null,
   "outputs": [],
   "source": [
    "hours = DF['Time'].dt.hour\n",
    "df_12am_to_8am = DF[(hours >= 0) & (hours <= 8)]\n",
    "df_12am_to_8am = df_12am_to_8am.sort_values('Time')\n",
    "df_12am_to_8am.reset_index(inplace=True, drop = True)\n",
    "df_12am_to_8am"
   ],
   "metadata": {
    "collapsed": false
   }
  },
  {
   "cell_type": "code",
   "execution_count": null,
   "outputs": [],
   "source": [
    "'''\n",
    "power_change = []\n",
    "for i in range(1, len(df)):\n",
    "    if (pd.notna(DF['MW'].iloc[i]) and pd.notna(DF['MW'].iloc[i+1]) and (DF['Time'].iloc[i].hour - DF['Time'].iloc[i-1].hour == 1)):\n",
    "        power_change.append(abs(DF['MW'].iloc[i] - DF['MW'].iloc[i-1]))\n",
    "\n",
    "print(power_change)\n",
    "indices = list(range(len(power_change)))\n",
    "\n",
    "plt.ion()\n",
    "plt.figure(figsize=(12, 6))\n",
    "plt.plot(indices, power_change, marker='o', linestyle='-', color = 'y')\n",
    "plt.xlabel('Time')\n",
    "plt.ylabel('Power Consumption Changes')\n",
    "plt.title('Power Consumption Changes Over Time (e1)')\n",
    "plt.grid(True)\n",
    "plt.show()\n",
    "'''\n",
    "power_change = []\n",
    "for i in range(1, len(df_12am_to_8am)):\n",
    "    if (df_12am_to_8am['Time'].iloc[i].hour - df_12am_to_8am['Time'].iloc[i-1].hour == 1):\n",
    "        power_change.append(abs(df_12am_to_8am['MW'].iloc[i] - df_12am_to_8am['MW'].iloc[i-1]))\n",
    "indices = list(range(len(power_change)))\n",
    "\n",
    "plt.figure(figsize=(12, 6))\n",
    "plt.plot(indices, power_change, marker='o', linestyle='-', color ='b')\n",
    "plt.xlabel('Time')\n",
    "plt.ylabel('Power Consumption Changes')\n",
    "plt.title('Power Consumption Changes Over Time between 12am to 8am')\n",
    "plt.grid(True)\n",
    "plt.show()"
   ],
   "metadata": {
    "collapsed": false
   }
  },
  {
   "cell_type": "code",
   "execution_count": null,
   "outputs": [],
   "source": [
    "plt.figure(figsize=(12, 6))\n",
    "plt.plot(DF['Time'], DF['MW'], marker='o', linestyle='-', color ='b')\n",
    "plt.xlabel('Time')\n",
    "plt.ylabel('Power Consumption')\n",
    "plt.title('Power Consumption Changes Over Time')\n",
    "plt.grid(True)\n",
    "plt.show()"
   ],
   "metadata": {
    "collapsed": false
   }
  },
  {
   "cell_type": "code",
   "execution_count": null,
   "outputs": [],
   "source": [
    "'''\n",
    "power_change = []\n",
    "for i in range(1, len(df)-1):\n",
    "    if (pd.notna(DF['MW'].iloc[i]) and pd.notna(DF['MW'].iloc[i+1]) and pd.notna(DF['MW'].iloc[i-1]) and (DF['Time'].iloc[i].hour - DF['Time'].iloc[i-1].hour == 1) and (DF['Time'].iloc[i+1].hour - DF['Time'].iloc[i].hour == 1)):\n",
    "        power_change.append(abs((DF['MW'].iloc[i+1] + DF['MW'].iloc[i-1]) - 2* DF['MW'].iloc[i]))\n",
    "\n",
    "\n",
    "print(power_change)\n",
    "indices = list(range(len(power_change)))\n",
    "\n",
    "plt.ion()\n",
    "plt.figure(figsize=(12, 6))\n",
    "plt.plot(indices, power_change, marker='o', linestyle='-', color = 'g')\n",
    "plt.xlabel('Time')\n",
    "plt.ylabel('Power Consumption Changes')\n",
    "plt.title('Power Consumption Changes Over Time(e2)')\n",
    "plt.grid(True)\n",
    "plt.show()\n",
    "'''"
   ],
   "metadata": {
    "collapsed": false
   }
  },
  {
   "cell_type": "markdown",
   "source": [
    "Try doing temperature and behavior part together"
   ],
   "metadata": {
    "collapsed": false
   }
  },
  {
   "cell_type": "code",
   "execution_count": null,
   "outputs": [],
   "source": [
    "#tried to do the temperature and behavior part together\n",
    "start_time = pd.Timestamp('2022-08-01 00:00:00')\n",
    "end_time = pd.Timestamp('2022-08-28 23:00:00')\n",
    "\n",
    "training_mask = (df['Time'] >= start_time) & (df['Time'] <= end_time)\n",
    "training_df = df[training_mask]\n",
    "d = training_df.loc[:,'MW']\n",
    "phi_temperature = training_df.loc[:,'CDH']\n",
    "phi_behavior = training_df.loc[:,'omega1':'omega168']\n",
    "opti = cd.Opti()\n",
    "temperature_theta = opti.variable()\n",
    "behavior_theta = opti.variable(168)\n",
    "total_sum =0\n",
    "for i in range (0,len(d)):\n",
    "    phi_behavior_i = (cd.MX(phi_behavior.iloc[i].values))\n",
    "    phi_behavior_i =  cd.vertcat(phi_behavior_i)\n",
    "    residual = (d.iloc[i] - ((phi_temperature.iloc[i] * temperature_theta) + cd.dot(phi_behavior_i, behavior_theta)))**2\n",
    "    total_sum += residual\n",
    "\n",
    "opti.subject_to(temperature_theta >= 0)\n",
    "e1 = 3.0\n",
    "e2 = 3.0\n",
    "\n",
    "for i in range(0, 167):\n",
    "    opti.subject_to((behavior_theta[i + 1] - behavior_theta[i]) <= e1)\n",
    "    opti.subject_to((behavior_theta[i + 1] - behavior_theta[i]) >= -e1)\n",
    "    opti.subject_to(behavior_theta[i] >= 0)\n",
    "    opti.subject_to(behavior_theta[i] <= 7)\n",
    "\n",
    "for i in range(1, 167):\n",
    "    opti.subject_to((behavior_theta[i + 1] + behavior_theta[i - 1] - 2 * behavior_theta[i]) <= e2)\n",
    "    opti.subject_to((behavior_theta[i + 1] + behavior_theta[i - 1] - 2 * behavior_theta[i]) >= -e2)\n",
    "\n",
    "for i in range(7,8):\n",
    "    month = bill_df.iloc[i]['Month'].month\n",
    "    year = bill_df.iloc[i]['Month'].year\n",
    "    num_days = calendar.monthrange(year, month)[1]\n",
    "    first_day = calendar.monthrange(year, month)[0]\n",
    "    num_hours = num_days * 24\n",
    "    num_weeks = num_hours / 168.0\n",
    "    weekly_behavior_energy_use = 0\n",
    "    temperature_energy_use = 0\n",
    "    for j in range(len(training_df)):\n",
    "        temperature_energy_use += temperature_theta * training_df.iloc[j]['CDH']\n",
    "\n",
    "    for j in range(0, 168):\n",
    "        weekly_behavior_energy_use += behavior_theta[j]\n",
    "    weekly_energy_use = weekly_behavior_energy_use +  temperature_energy_use\n",
    "    opti.subject_to(weekly_energy_use < 1.5 * bill_df.iloc[i]['MW'] / num_weeks)\n",
    "    opti.subject_to(weekly_energy_use > 0.5 * bill_df.iloc[i]['MW'] / num_weeks)\n",
    "\n",
    "# Solve the optimization problem\n",
    "opti.minimize(total_sum)\n",
    "solver_opts = {'print_time': 0}\n",
    "opti.solver('ipopt', solver_opts)\n",
    "sol = opti.solve()\n",
    "\n",
    "optimal_temperature_theta = sol.value(temperature_theta)\n",
    "optimal_theta_values = sol.value(behavior_theta)\n",
    "print(\"Optimal value of temperature_theta:\", optimal_temperature_theta)\n",
    "print(\"Optimal values of theta:\", optimal_theta_values)\n"
   ],
   "metadata": {
    "collapsed": false
   }
  },
  {
   "cell_type": "code",
   "execution_count": null,
   "outputs": [],
   "source": [],
   "metadata": {
    "collapsed": false
   }
  },
  {
   "cell_type": "markdown",
   "source": [
    "Temperature Dependent Part"
   ],
   "metadata": {
    "collapsed": false
   }
  },
  {
   "cell_type": "code",
   "execution_count": null,
   "outputs": [],
   "source": [
    "'''\n",
    "#temperature dependency part\n",
    "start_time = pd.Timestamp('2022-08-01 00:00:00')\n",
    "end_time = pd.Timestamp('2022-08-28 23:00:00')\n",
    "training_mask = (df['Time'] >= start_time) & (df['Time'] <= end_time) & (df['CDH'] > 0)\n",
    "training_df = df[training_mask]\n",
    "\n",
    "d = training_df.loc[:,'MW']\n",
    "phi = training_df.loc[:,'CDH']\n",
    "opti = cd.Opti()\n",
    "theta = opti.variable()\n",
    "c = opti.variable()\n",
    "sum = 0\n",
    "residuals = []\n",
    "\n",
    "for i in range (0,len(d)):\n",
    "    residual = (d.iloc[i] - (phi.iloc[i] * theta + c))**2\n",
    "    sum += residual\n",
    "    residuals.append(residual)\n",
    "\n",
    "#objective = sqrt(sum([r**2 for r in residuals]))\n",
    "objective = sqrt(sum)\n",
    "opti.minimize(objective)\n",
    "opti.subject_to(theta >= 0)\n",
    "# Solve the optimization problem\n",
    "solver_opts = {'print_time': 0}\n",
    "opti.solver('ipopt', solver_opts)\n",
    "sol = opti.solve()\n",
    "\n",
    "# Extract and print the optimal solution for theta\n",
    "temp_theta = sol.value(theta)\n",
    "print(\"Optimal value of theta:\", temp_theta)\n",
    "optimal_c = sol.value(c)\n",
    "print(\"Optimal value of constant:\", optimal_c)\n",
    "'''"
   ],
   "metadata": {
    "collapsed": false
   }
  },
  {
   "cell_type": "markdown",
   "source": [
    "Behavior Dependent Part"
   ],
   "metadata": {
    "collapsed": false
   }
  },
  {
   "cell_type": "code",
   "execution_count": null,
   "outputs": [],
   "source": [
    "'''\n",
    "training_mask = (df['Time'] >= start_time) & (df['Time'] <= end_time)\n",
    "behavior_df = df[training_mask]\n",
    "#i think sir asked me to try with e1,e2 values as half of what I put initially which was around 2\n",
    "e1 = 3.0\n",
    "e2 = 3.0\n",
    "#behavior dependent part\n",
    "d = behavior_df['MW'] - temp_theta * behavior_df['CDH']\n",
    "phi = behavior_df.loc[:,'omega1':'omega168']\n",
    "opti = cd.Opti()\n",
    "theta = opti.variable(168)\n",
    "residuals = []\n",
    "sum = 0\n",
    "for i in range(len(d)):\n",
    "    phi_i = (cd.MX(phi.iloc[i].values))\n",
    "    phi_i =  cd.vertcat(phi_i)\n",
    "    residual = (d.iloc[i] - cd.dot(phi_i, theta))**2\n",
    "    sum += residual\n",
    "    residuals.append(residual)\n",
    "\n",
    "objective = sum\n",
    "opti.minimize(objective)\n",
    "\n",
    "for i in range(0, 167):\n",
    "    opti.subject_to(cd.fabs(theta[i + 1] - theta[i]) <= e1)\n",
    "    opti.subject_to((theta[i + 1] - theta[i]) <= e1)\n",
    "    opti.subject_to((theta[i + 1] - theta[i]) >= -e1)\n",
    "    opti.subject_to(theta[i] >= 0)\n",
    "    opti.subject_to(theta[i] <= 7)\n",
    "\n",
    "\n",
    "for i in range(1, 167):\n",
    "    opti.subject_to((theta[i + 1] + theta[i - 1] - 2 * theta[i]) <= e2)\n",
    "    opti.subject_to((theta[i + 1] + theta[i - 1] - 2 * theta[i]) >= -e2)\n",
    "\n",
    "\n",
    "for i in range(7,8):\n",
    "    month = bill_df.iloc[i]['Month'].month\n",
    "    year = bill_df.iloc[i]['Month'].year\n",
    "    num_days = calendar.monthrange(year, month)[1]\n",
    "    first_day = calendar.monthrange(year, month)[0]\n",
    "    num_hours = num_days * 24\n",
    "    num_complete_weeks = num_hours // 168\n",
    "    remaining_hours = (num_days*24)%168\n",
    "    week_sum = 0\n",
    "    for k in range(0,168):\n",
    "        week_sum+= theta[k]\n",
    "    sum = week_sum * num_complete_weeks\n",
    "    n = first_day * 24\n",
    "    for j in range(n, n+remaining_hours+1):\n",
    "        sum+=theta[j%168]\n",
    "\n",
    "    opti.subject_to(sum < bill_df.iloc[i]['MW'] + 0.01)\n",
    "\n",
    "    opti.subject_to(sum > bill_df.iloc[i]['MW'] - 0.01)\n",
    "\n",
    "# Solve the optimization problem\n",
    "solver_opts = {'print_time': 0}\n",
    "opti.solver('ipopt', solver_opts)\n",
    "sol = opti.solve()\n",
    "time_theta = sol.value(theta)\n",
    "print(\"Optimal value of theta:\", time_theta)\n",
    "'''"
   ],
   "metadata": {
    "collapsed": false
   }
  },
  {
   "cell_type": "code",
   "execution_count": null,
   "outputs": [],
   "source": [
    "\n",
    "week_start_time = pd.Timestamp('2022-08-01 00:00:00')\n",
    "week_end_time = pd.Timestamp('2022-08-07 23:00:00')\n",
    "week_training_mask = (DF['Time'] >= week_start_time) & (DF['Time'] <= week_end_time)\n",
    "behavior_df = DF[week_training_mask]\n",
    "d = behavior_df['MW']\n",
    "temperature_dependent_predictions = behavior_df['CDH'] * optimal_temperature_theta\n",
    "\n",
    "fig,(ax1) = plt.subplots(nrows=1,figsize=(10,9))\n",
    "_=ax1.plot(behavior_df['Time'],d.head(168),label='meas')\n",
    "_=ax1.plot(behavior_df['Time'],optimal_theta_values,label='behvaior theta:')\n",
    "_=ax1.plot(behavior_df['Time'],temperature_dependent_predictions[:168],label='temperature part')\n",
    "ax1.set_title('measured vs predicted data with behavior model and temperature models over first week')\n",
    "_=ax1.legend()\n",
    "\n",
    "fig,ax = plt.subplots(figsize = (10,6))\n",
    "ax.plot(np.arange(0,168), optimal_theta_values,'bo-')\n"
   ],
   "metadata": {
    "collapsed": false
   }
  },
  {
   "cell_type": "code",
   "execution_count": null,
   "outputs": [],
   "source": [
    "#plotting behavior model performance with DF(contains null values)\n",
    "week_start_time = pd.Timestamp('2022-08-01 00:00:00')\n",
    "week_end_time = pd.Timestamp('2022-08-28 23:00:00')\n",
    "DF_training_mask = (DF['Time'] >= week_start_time) & (DF['Time'] <= week_end_time)\n",
    "behavior_df = DF[DF_training_mask]\n",
    "d = behavior_df['MW'] - (optimal_temperature_theta * behavior_df['CDH'])\n",
    "\n",
    "fig, (ax1) = plt.subplots(nrows=1, figsize=(10, 9))\n",
    "pattern_length = len(d) % len(optimal_theta_values)\n",
    "extended_time_theta = np.tile(optimal_theta_values, len(d) // len(optimal_theta_values))\n",
    "extended_time_theta = np.concatenate((extended_time_theta, optimal_theta_values[:pattern_length]))\n",
    "# Plot all values of d against extended_time_theta\n",
    "_ = ax1.plot(behavior_df['Time'], d, label='meas', marker = 'o')\n",
    "_ = ax1.plot(behavior_df['Time'], extended_time_theta, label='pred:', marker = 'x')\n",
    "ax1.set_title('measured vs predicted data for behavior model (contains null values)')\n",
    "_ = ax1.legend()\n",
    "plt.show()\n"
   ],
   "metadata": {
    "collapsed": false
   }
  },
  {
   "cell_type": "code",
   "execution_count": null,
   "outputs": [],
   "source": [
    "#final model with df(no null values)\n",
    "d = training_df['MW']\n",
    "c = np.concatenate((np.array([optimal_temperature_theta]),optimal_theta_values),axis=0)\n",
    "phi =training_df.loc[:,'CDH':'omega168']\n",
    "full_model = LinearRegression(fit_intercept=False)\n",
    "full_model.fit(phi, d)\n",
    "full_model.coef_ = c\n",
    "full_model.intercept_ = 0\n",
    "yhat = full_model.predict(phi.values)\n",
    "full_modelScore = full_model.score(phi,d)\n",
    "\n",
    "print ('score for constructed full model on full data: ', full_modelScore)\n",
    "\n",
    "fig,(ax1) = plt.subplots(nrows=1,figsize=(10,9))\n",
    "_=ax1.plot(training_df['Time'],d,label='meas', marker = 'o')\n",
    "_=ax1.plot(training_df['Time'],yhat,label='pred:', marker = 'x')\n",
    "ax1.set_title('measured vs predicted data (full constructed model)')\n",
    "_=ax1.legend()\n"
   ],
   "metadata": {
    "collapsed": false
   }
  },
  {
   "cell_type": "code",
   "execution_count": null,
   "outputs": [],
   "source": [],
   "metadata": {
    "collapsed": false
   }
  }
 ],
 "metadata": {
  "kernelspec": {
   "display_name": "Python 3",
   "language": "python",
   "name": "python3"
  },
  "language_info": {
   "codemirror_mode": {
    "name": "ipython",
    "version": 2
   },
   "file_extension": ".py",
   "mimetype": "text/x-python",
   "name": "python",
   "nbconvert_exporter": "python",
   "pygments_lexer": "ipython2",
   "version": "2.7.6"
  }
 },
 "nbformat": 4,
 "nbformat_minor": 0
}
