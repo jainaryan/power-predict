{
 "cells": [
  {
   "cell_type": "code",
   "execution_count": 1,
   "metadata": {
    "collapsed": true,
    "ExecuteTime": {
     "end_time": "2023-10-24T09:24:33.512034900Z",
     "start_time": "2023-10-24T09:24:31.148192300Z"
    }
   },
   "outputs": [],
   "source": [
    "import datetime as datetime\n",
    "from datetime import datetime, timedelta\n",
    "import pandas as pd\n",
    "import pytz\n",
    "import numpy as np\n",
    "import os\n",
    "from sklearn import preprocessing\n",
    "import re\n",
    "import matplotlib\n",
    "matplotlib.use('Qt5Agg')\n",
    "from datetime import timedelta\n",
    "import matplotlib.pyplot as plt\n",
    "from IPython.core.interactiveshell import InteractiveShell\n",
    "InteractiveShell.ast_node_interactivity = \"all\"\n",
    "import random\n",
    "import calendar\n",
    "from casadi import *\n",
    "import casadi as cd\n",
    "from sklearn.linear_model import LinearRegression"
   ]
  },
  {
   "cell_type": "code",
   "execution_count": 2,
   "outputs": [
    {
     "name": "stderr",
     "output_type": "stream",
     "text": [
      "C:\\Users\\jaina\\AppData\\Local\\Temp\\ipykernel_31164\\3450862427.py:22: FutureWarning: The argument 'date_parser' is deprecated and will be removed in a future version. Please use 'date_format' instead, or read your data in as 'object' dtype and then call 'to_datetime'.\n",
      "  df = pd.read_excel(file_path, header=3, date_parser=custom_date_parser)\n",
      "C:\\Users\\jaina\\AppData\\Local\\Temp\\ipykernel_31164\\3450862427.py:22: FutureWarning: The argument 'date_parser' is deprecated and will be removed in a future version. Please use 'date_format' instead, or read your data in as 'object' dtype and then call 'to_datetime'.\n",
      "  df = pd.read_excel(file_path, header=3, date_parser=custom_date_parser)\n",
      "C:\\Users\\jaina\\AppData\\Local\\Temp\\ipykernel_31164\\3450862427.py:22: FutureWarning: The argument 'date_parser' is deprecated and will be removed in a future version. Please use 'date_format' instead, or read your data in as 'object' dtype and then call 'to_datetime'.\n",
      "  df = pd.read_excel(file_path, header=3, date_parser=custom_date_parser)\n",
      "C:\\Users\\jaina\\AppData\\Local\\Temp\\ipykernel_31164\\3450862427.py:22: FutureWarning: The argument 'date_parser' is deprecated and will be removed in a future version. Please use 'date_format' instead, or read your data in as 'object' dtype and then call 'to_datetime'.\n",
      "  df = pd.read_excel(file_path, header=3, date_parser=custom_date_parser)\n",
      "C:\\Users\\jaina\\AppData\\Local\\Temp\\ipykernel_31164\\3450862427.py:22: FutureWarning: The argument 'date_parser' is deprecated and will be removed in a future version. Please use 'date_format' instead, or read your data in as 'object' dtype and then call 'to_datetime'.\n",
      "  df = pd.read_excel(file_path, header=3, date_parser=custom_date_parser)\n",
      "C:\\Users\\jaina\\AppData\\Local\\Temp\\ipykernel_31164\\3450862427.py:22: FutureWarning: The argument 'date_parser' is deprecated and will be removed in a future version. Please use 'date_format' instead, or read your data in as 'object' dtype and then call 'to_datetime'.\n",
      "  df = pd.read_excel(file_path, header=3, date_parser=custom_date_parser)\n",
      "C:\\Users\\jaina\\AppData\\Local\\Temp\\ipykernel_31164\\3450862427.py:22: FutureWarning: The argument 'date_parser' is deprecated and will be removed in a future version. Please use 'date_format' instead, or read your data in as 'object' dtype and then call 'to_datetime'.\n",
      "  df = pd.read_excel(file_path, header=3, date_parser=custom_date_parser)\n",
      "C:\\Users\\jaina\\AppData\\Local\\Temp\\ipykernel_31164\\3450862427.py:22: FutureWarning: The argument 'date_parser' is deprecated and will be removed in a future version. Please use 'date_format' instead, or read your data in as 'object' dtype and then call 'to_datetime'.\n",
      "  df = pd.read_excel(file_path, header=3, date_parser=custom_date_parser)\n",
      "C:\\Users\\jaina\\AppData\\Local\\Temp\\ipykernel_31164\\3450862427.py:22: FutureWarning: The argument 'date_parser' is deprecated and will be removed in a future version. Please use 'date_format' instead, or read your data in as 'object' dtype and then call 'to_datetime'.\n",
      "  df = pd.read_excel(file_path, header=3, date_parser=custom_date_parser)\n",
      "C:\\Users\\jaina\\AppData\\Local\\Temp\\ipykernel_31164\\3450862427.py:22: FutureWarning: The argument 'date_parser' is deprecated and will be removed in a future version. Please use 'date_format' instead, or read your data in as 'object' dtype and then call 'to_datetime'.\n",
      "  df = pd.read_excel(file_path, header=3, date_parser=custom_date_parser)\n",
      "C:\\Users\\jaina\\AppData\\Local\\Temp\\ipykernel_31164\\3450862427.py:22: FutureWarning: The argument 'date_parser' is deprecated and will be removed in a future version. Please use 'date_format' instead, or read your data in as 'object' dtype and then call 'to_datetime'.\n",
      "  df = pd.read_excel(file_path, header=3, date_parser=custom_date_parser)\n",
      "C:\\Users\\jaina\\AppData\\Local\\Temp\\ipykernel_31164\\3450862427.py:22: FutureWarning: The argument 'date_parser' is deprecated and will be removed in a future version. Please use 'date_format' instead, or read your data in as 'object' dtype and then call 'to_datetime'.\n",
      "  df = pd.read_excel(file_path, header=3, date_parser=custom_date_parser)\n",
      "C:\\Users\\jaina\\AppData\\Local\\Temp\\ipykernel_31164\\3450862427.py:22: FutureWarning: The argument 'date_parser' is deprecated and will be removed in a future version. Please use 'date_format' instead, or read your data in as 'object' dtype and then call 'to_datetime'.\n",
      "  df = pd.read_excel(file_path, header=3, date_parser=custom_date_parser)\n",
      "C:\\Users\\jaina\\AppData\\Local\\Temp\\ipykernel_31164\\3450862427.py:22: FutureWarning: The argument 'date_parser' is deprecated and will be removed in a future version. Please use 'date_format' instead, or read your data in as 'object' dtype and then call 'to_datetime'.\n",
      "  df = pd.read_excel(file_path, header=3, date_parser=custom_date_parser)\n",
      "C:\\Users\\jaina\\AppData\\Local\\Temp\\ipykernel_31164\\3450862427.py:22: FutureWarning: The argument 'date_parser' is deprecated and will be removed in a future version. Please use 'date_format' instead, or read your data in as 'object' dtype and then call 'to_datetime'.\n",
      "  df = pd.read_excel(file_path, header=3, date_parser=custom_date_parser)\n",
      "C:\\Users\\jaina\\AppData\\Local\\Temp\\ipykernel_31164\\3450862427.py:22: FutureWarning: The argument 'date_parser' is deprecated and will be removed in a future version. Please use 'date_format' instead, or read your data in as 'object' dtype and then call 'to_datetime'.\n",
      "  df = pd.read_excel(file_path, header=3, date_parser=custom_date_parser)\n",
      "C:\\Users\\jaina\\AppData\\Local\\Temp\\ipykernel_31164\\3450862427.py:22: FutureWarning: The argument 'date_parser' is deprecated and will be removed in a future version. Please use 'date_format' instead, or read your data in as 'object' dtype and then call 'to_datetime'.\n",
      "  df = pd.read_excel(file_path, header=3, date_parser=custom_date_parser)\n",
      "C:\\Users\\jaina\\AppData\\Local\\Temp\\ipykernel_31164\\3450862427.py:22: FutureWarning: The argument 'date_parser' is deprecated and will be removed in a future version. Please use 'date_format' instead, or read your data in as 'object' dtype and then call 'to_datetime'.\n",
      "  df = pd.read_excel(file_path, header=3, date_parser=custom_date_parser)\n",
      "C:\\Users\\jaina\\AppData\\Local\\Temp\\ipykernel_31164\\3450862427.py:22: FutureWarning: The argument 'date_parser' is deprecated and will be removed in a future version. Please use 'date_format' instead, or read your data in as 'object' dtype and then call 'to_datetime'.\n",
      "  df = pd.read_excel(file_path, header=3, date_parser=custom_date_parser)\n",
      "C:\\Users\\jaina\\AppData\\Local\\Temp\\ipykernel_31164\\3450862427.py:22: FutureWarning: The argument 'date_parser' is deprecated and will be removed in a future version. Please use 'date_format' instead, or read your data in as 'object' dtype and then call 'to_datetime'.\n",
      "  df = pd.read_excel(file_path, header=3, date_parser=custom_date_parser)\n",
      "C:\\Users\\jaina\\AppData\\Local\\Temp\\ipykernel_31164\\3450862427.py:22: FutureWarning: The argument 'date_parser' is deprecated and will be removed in a future version. Please use 'date_format' instead, or read your data in as 'object' dtype and then call 'to_datetime'.\n",
      "  df = pd.read_excel(file_path, header=3, date_parser=custom_date_parser)\n",
      "C:\\Users\\jaina\\AppData\\Local\\Temp\\ipykernel_31164\\3450862427.py:22: FutureWarning: The argument 'date_parser' is deprecated and will be removed in a future version. Please use 'date_format' instead, or read your data in as 'object' dtype and then call 'to_datetime'.\n",
      "  df = pd.read_excel(file_path, header=3, date_parser=custom_date_parser)\n",
      "C:\\Users\\jaina\\AppData\\Local\\Temp\\ipykernel_31164\\3450862427.py:22: FutureWarning: The argument 'date_parser' is deprecated and will be removed in a future version. Please use 'date_format' instead, or read your data in as 'object' dtype and then call 'to_datetime'.\n",
      "  df = pd.read_excel(file_path, header=3, date_parser=custom_date_parser)\n",
      "C:\\Users\\jaina\\AppData\\Local\\Temp\\ipykernel_31164\\3450862427.py:22: FutureWarning: The argument 'date_parser' is deprecated and will be removed in a future version. Please use 'date_format' instead, or read your data in as 'object' dtype and then call 'to_datetime'.\n",
      "  df = pd.read_excel(file_path, header=3, date_parser=custom_date_parser)\n",
      "C:\\Users\\jaina\\AppData\\Local\\Temp\\ipykernel_31164\\3450862427.py:22: FutureWarning: The argument 'date_parser' is deprecated and will be removed in a future version. Please use 'date_format' instead, or read your data in as 'object' dtype and then call 'to_datetime'.\n",
      "  df = pd.read_excel(file_path, header=3, date_parser=custom_date_parser)\n",
      "C:\\Users\\jaina\\AppData\\Local\\Temp\\ipykernel_31164\\3450862427.py:22: FutureWarning: The argument 'date_parser' is deprecated and will be removed in a future version. Please use 'date_format' instead, or read your data in as 'object' dtype and then call 'to_datetime'.\n",
      "  df = pd.read_excel(file_path, header=3, date_parser=custom_date_parser)\n",
      "C:\\Users\\jaina\\AppData\\Local\\Temp\\ipykernel_31164\\3450862427.py:22: FutureWarning: The argument 'date_parser' is deprecated and will be removed in a future version. Please use 'date_format' instead, or read your data in as 'object' dtype and then call 'to_datetime'.\n",
      "  df = pd.read_excel(file_path, header=3, date_parser=custom_date_parser)\n",
      "C:\\Users\\jaina\\AppData\\Local\\Temp\\ipykernel_31164\\3450862427.py:22: FutureWarning: The argument 'date_parser' is deprecated and will be removed in a future version. Please use 'date_format' instead, or read your data in as 'object' dtype and then call 'to_datetime'.\n",
      "  df = pd.read_excel(file_path, header=3, date_parser=custom_date_parser)\n",
      "C:\\Users\\jaina\\AppData\\Local\\Temp\\ipykernel_31164\\3450862427.py:22: FutureWarning: The argument 'date_parser' is deprecated and will be removed in a future version. Please use 'date_format' instead, or read your data in as 'object' dtype and then call 'to_datetime'.\n",
      "  df = pd.read_excel(file_path, header=3, date_parser=custom_date_parser)\n",
      "C:\\Users\\jaina\\AppData\\Local\\Temp\\ipykernel_31164\\3450862427.py:22: FutureWarning: The argument 'date_parser' is deprecated and will be removed in a future version. Please use 'date_format' instead, or read your data in as 'object' dtype and then call 'to_datetime'.\n",
      "  df = pd.read_excel(file_path, header=3, date_parser=custom_date_parser)\n",
      "C:\\Users\\jaina\\AppData\\Local\\Temp\\ipykernel_31164\\3450862427.py:22: FutureWarning: The argument 'date_parser' is deprecated and will be removed in a future version. Please use 'date_format' instead, or read your data in as 'object' dtype and then call 'to_datetime'.\n",
      "  df = pd.read_excel(file_path, header=3, date_parser=custom_date_parser)\n",
      "C:\\Users\\jaina\\AppData\\Local\\Temp\\ipykernel_31164\\3450862427.py:22: FutureWarning: The argument 'date_parser' is deprecated and will be removed in a future version. Please use 'date_format' instead, or read your data in as 'object' dtype and then call 'to_datetime'.\n",
      "  df = pd.read_excel(file_path, header=3, date_parser=custom_date_parser)\n",
      "C:\\Users\\jaina\\AppData\\Local\\Temp\\ipykernel_31164\\3450862427.py:22: FutureWarning: The argument 'date_parser' is deprecated and will be removed in a future version. Please use 'date_format' instead, or read your data in as 'object' dtype and then call 'to_datetime'.\n",
      "  df = pd.read_excel(file_path, header=3, date_parser=custom_date_parser)\n",
      "C:\\Users\\jaina\\AppData\\Local\\Temp\\ipykernel_31164\\3450862427.py:22: FutureWarning: The argument 'date_parser' is deprecated and will be removed in a future version. Please use 'date_format' instead, or read your data in as 'object' dtype and then call 'to_datetime'.\n",
      "  df = pd.read_excel(file_path, header=3, date_parser=custom_date_parser)\n",
      "C:\\Users\\jaina\\AppData\\Local\\Temp\\ipykernel_31164\\3450862427.py:22: FutureWarning: The argument 'date_parser' is deprecated and will be removed in a future version. Please use 'date_format' instead, or read your data in as 'object' dtype and then call 'to_datetime'.\n",
      "  df = pd.read_excel(file_path, header=3, date_parser=custom_date_parser)\n",
      "C:\\Users\\jaina\\AppData\\Local\\Temp\\ipykernel_31164\\3450862427.py:22: FutureWarning: The argument 'date_parser' is deprecated and will be removed in a future version. Please use 'date_format' instead, or read your data in as 'object' dtype and then call 'to_datetime'.\n",
      "  df = pd.read_excel(file_path, header=3, date_parser=custom_date_parser)\n",
      "C:\\Users\\jaina\\AppData\\Local\\Temp\\ipykernel_31164\\3450862427.py:22: FutureWarning: The argument 'date_parser' is deprecated and will be removed in a future version. Please use 'date_format' instead, or read your data in as 'object' dtype and then call 'to_datetime'.\n",
      "  df = pd.read_excel(file_path, header=3, date_parser=custom_date_parser)\n",
      "C:\\Users\\jaina\\AppData\\Local\\Temp\\ipykernel_31164\\3450862427.py:22: FutureWarning: The argument 'date_parser' is deprecated and will be removed in a future version. Please use 'date_format' instead, or read your data in as 'object' dtype and then call 'to_datetime'.\n",
      "  df = pd.read_excel(file_path, header=3, date_parser=custom_date_parser)\n",
      "C:\\Users\\jaina\\AppData\\Local\\Temp\\ipykernel_31164\\3450862427.py:22: FutureWarning: The argument 'date_parser' is deprecated and will be removed in a future version. Please use 'date_format' instead, or read your data in as 'object' dtype and then call 'to_datetime'.\n",
      "  df = pd.read_excel(file_path, header=3, date_parser=custom_date_parser)\n",
      "C:\\Users\\jaina\\AppData\\Local\\Temp\\ipykernel_31164\\3450862427.py:22: FutureWarning: The argument 'date_parser' is deprecated and will be removed in a future version. Please use 'date_format' instead, or read your data in as 'object' dtype and then call 'to_datetime'.\n",
      "  df = pd.read_excel(file_path, header=3, date_parser=custom_date_parser)\n",
      "C:\\Users\\jaina\\AppData\\Local\\Temp\\ipykernel_31164\\3450862427.py:22: FutureWarning: The argument 'date_parser' is deprecated and will be removed in a future version. Please use 'date_format' instead, or read your data in as 'object' dtype and then call 'to_datetime'.\n",
      "  df = pd.read_excel(file_path, header=3, date_parser=custom_date_parser)\n",
      "C:\\Users\\jaina\\AppData\\Local\\Temp\\ipykernel_31164\\3450862427.py:22: FutureWarning: The argument 'date_parser' is deprecated and will be removed in a future version. Please use 'date_format' instead, or read your data in as 'object' dtype and then call 'to_datetime'.\n",
      "  df = pd.read_excel(file_path, header=3, date_parser=custom_date_parser)\n",
      "C:\\Users\\jaina\\AppData\\Local\\Temp\\ipykernel_31164\\3450862427.py:22: FutureWarning: The argument 'date_parser' is deprecated and will be removed in a future version. Please use 'date_format' instead, or read your data in as 'object' dtype and then call 'to_datetime'.\n",
      "  df = pd.read_excel(file_path, header=3, date_parser=custom_date_parser)\n",
      "C:\\Users\\jaina\\AppData\\Local\\Temp\\ipykernel_31164\\3450862427.py:22: FutureWarning: The argument 'date_parser' is deprecated and will be removed in a future version. Please use 'date_format' instead, or read your data in as 'object' dtype and then call 'to_datetime'.\n",
      "  df = pd.read_excel(file_path, header=3, date_parser=custom_date_parser)\n",
      "C:\\Users\\jaina\\AppData\\Local\\Temp\\ipykernel_31164\\3450862427.py:22: FutureWarning: The argument 'date_parser' is deprecated and will be removed in a future version. Please use 'date_format' instead, or read your data in as 'object' dtype and then call 'to_datetime'.\n",
      "  df = pd.read_excel(file_path, header=3, date_parser=custom_date_parser)\n",
      "C:\\Users\\jaina\\AppData\\Local\\Temp\\ipykernel_31164\\3450862427.py:22: FutureWarning: The argument 'date_parser' is deprecated and will be removed in a future version. Please use 'date_format' instead, or read your data in as 'object' dtype and then call 'to_datetime'.\n",
      "  df = pd.read_excel(file_path, header=3, date_parser=custom_date_parser)\n",
      "C:\\Users\\jaina\\AppData\\Local\\Temp\\ipykernel_31164\\3450862427.py:22: FutureWarning: The argument 'date_parser' is deprecated and will be removed in a future version. Please use 'date_format' instead, or read your data in as 'object' dtype and then call 'to_datetime'.\n",
      "  df = pd.read_excel(file_path, header=3, date_parser=custom_date_parser)\n",
      "C:\\Users\\jaina\\AppData\\Local\\Temp\\ipykernel_31164\\3450862427.py:22: FutureWarning: The argument 'date_parser' is deprecated and will be removed in a future version. Please use 'date_format' instead, or read your data in as 'object' dtype and then call 'to_datetime'.\n",
      "  df = pd.read_excel(file_path, header=3, date_parser=custom_date_parser)\n",
      "C:\\Users\\jaina\\AppData\\Local\\Temp\\ipykernel_31164\\3450862427.py:22: FutureWarning: The argument 'date_parser' is deprecated and will be removed in a future version. Please use 'date_format' instead, or read your data in as 'object' dtype and then call 'to_datetime'.\n",
      "  df = pd.read_excel(file_path, header=3, date_parser=custom_date_parser)\n",
      "C:\\Users\\jaina\\AppData\\Local\\Temp\\ipykernel_31164\\3450862427.py:22: FutureWarning: The argument 'date_parser' is deprecated and will be removed in a future version. Please use 'date_format' instead, or read your data in as 'object' dtype and then call 'to_datetime'.\n",
      "  df = pd.read_excel(file_path, header=3, date_parser=custom_date_parser)\n",
      "C:\\Users\\jaina\\AppData\\Local\\Temp\\ipykernel_31164\\3450862427.py:22: FutureWarning: The argument 'date_parser' is deprecated and will be removed in a future version. Please use 'date_format' instead, or read your data in as 'object' dtype and then call 'to_datetime'.\n",
      "  df = pd.read_excel(file_path, header=3, date_parser=custom_date_parser)\n",
      "C:\\Users\\jaina\\AppData\\Local\\Temp\\ipykernel_31164\\3450862427.py:22: FutureWarning: The argument 'date_parser' is deprecated and will be removed in a future version. Please use 'date_format' instead, or read your data in as 'object' dtype and then call 'to_datetime'.\n",
      "  df = pd.read_excel(file_path, header=3, date_parser=custom_date_parser)\n",
      "C:\\Users\\jaina\\AppData\\Local\\Temp\\ipykernel_31164\\3450862427.py:22: FutureWarning: The argument 'date_parser' is deprecated and will be removed in a future version. Please use 'date_format' instead, or read your data in as 'object' dtype and then call 'to_datetime'.\n",
      "  df = pd.read_excel(file_path, header=3, date_parser=custom_date_parser)\n",
      "C:\\Users\\jaina\\AppData\\Local\\Temp\\ipykernel_31164\\3450862427.py:22: FutureWarning: The argument 'date_parser' is deprecated and will be removed in a future version. Please use 'date_format' instead, or read your data in as 'object' dtype and then call 'to_datetime'.\n",
      "  df = pd.read_excel(file_path, header=3, date_parser=custom_date_parser)\n",
      "C:\\Users\\jaina\\AppData\\Local\\Temp\\ipykernel_31164\\3450862427.py:22: FutureWarning: The argument 'date_parser' is deprecated and will be removed in a future version. Please use 'date_format' instead, or read your data in as 'object' dtype and then call 'to_datetime'.\n",
      "  df = pd.read_excel(file_path, header=3, date_parser=custom_date_parser)\n",
      "C:\\Users\\jaina\\AppData\\Local\\Temp\\ipykernel_31164\\3450862427.py:22: FutureWarning: The argument 'date_parser' is deprecated and will be removed in a future version. Please use 'date_format' instead, or read your data in as 'object' dtype and then call 'to_datetime'.\n",
      "  df = pd.read_excel(file_path, header=3, date_parser=custom_date_parser)\n",
      "C:\\Users\\jaina\\AppData\\Local\\Temp\\ipykernel_31164\\3450862427.py:22: FutureWarning: The argument 'date_parser' is deprecated and will be removed in a future version. Please use 'date_format' instead, or read your data in as 'object' dtype and then call 'to_datetime'.\n",
      "  df = pd.read_excel(file_path, header=3, date_parser=custom_date_parser)\n",
      "C:\\Users\\jaina\\AppData\\Local\\Temp\\ipykernel_31164\\3450862427.py:22: FutureWarning: The argument 'date_parser' is deprecated and will be removed in a future version. Please use 'date_format' instead, or read your data in as 'object' dtype and then call 'to_datetime'.\n",
      "  df = pd.read_excel(file_path, header=3, date_parser=custom_date_parser)\n",
      "C:\\Users\\jaina\\AppData\\Local\\Temp\\ipykernel_31164\\3450862427.py:22: FutureWarning: The argument 'date_parser' is deprecated and will be removed in a future version. Please use 'date_format' instead, or read your data in as 'object' dtype and then call 'to_datetime'.\n",
      "  df = pd.read_excel(file_path, header=3, date_parser=custom_date_parser)\n",
      "C:\\Users\\jaina\\AppData\\Local\\Temp\\ipykernel_31164\\3450862427.py:22: FutureWarning: The argument 'date_parser' is deprecated and will be removed in a future version. Please use 'date_format' instead, or read your data in as 'object' dtype and then call 'to_datetime'.\n",
      "  df = pd.read_excel(file_path, header=3, date_parser=custom_date_parser)\n",
      "C:\\Users\\jaina\\AppData\\Local\\Temp\\ipykernel_31164\\3450862427.py:22: FutureWarning: The argument 'date_parser' is deprecated and will be removed in a future version. Please use 'date_format' instead, or read your data in as 'object' dtype and then call 'to_datetime'.\n",
      "  df = pd.read_excel(file_path, header=3, date_parser=custom_date_parser)\n",
      "C:\\Users\\jaina\\AppData\\Local\\Temp\\ipykernel_31164\\3450862427.py:22: FutureWarning: The argument 'date_parser' is deprecated and will be removed in a future version. Please use 'date_format' instead, or read your data in as 'object' dtype and then call 'to_datetime'.\n",
      "  df = pd.read_excel(file_path, header=3, date_parser=custom_date_parser)\n",
      "C:\\Users\\jaina\\AppData\\Local\\Temp\\ipykernel_31164\\3450862427.py:22: FutureWarning: The argument 'date_parser' is deprecated and will be removed in a future version. Please use 'date_format' instead, or read your data in as 'object' dtype and then call 'to_datetime'.\n",
      "  df = pd.read_excel(file_path, header=3, date_parser=custom_date_parser)\n",
      "C:\\Users\\jaina\\AppData\\Local\\Temp\\ipykernel_31164\\3450862427.py:22: FutureWarning: The argument 'date_parser' is deprecated and will be removed in a future version. Please use 'date_format' instead, or read your data in as 'object' dtype and then call 'to_datetime'.\n",
      "  df = pd.read_excel(file_path, header=3, date_parser=custom_date_parser)\n",
      "C:\\Users\\jaina\\AppData\\Local\\Temp\\ipykernel_31164\\3450862427.py:22: FutureWarning: The argument 'date_parser' is deprecated and will be removed in a future version. Please use 'date_format' instead, or read your data in as 'object' dtype and then call 'to_datetime'.\n",
      "  df = pd.read_excel(file_path, header=3, date_parser=custom_date_parser)\n",
      "C:\\Users\\jaina\\AppData\\Local\\Temp\\ipykernel_31164\\3450862427.py:22: FutureWarning: The argument 'date_parser' is deprecated and will be removed in a future version. Please use 'date_format' instead, or read your data in as 'object' dtype and then call 'to_datetime'.\n",
      "  df = pd.read_excel(file_path, header=3, date_parser=custom_date_parser)\n",
      "C:\\Users\\jaina\\AppData\\Local\\Temp\\ipykernel_31164\\3450862427.py:22: FutureWarning: The argument 'date_parser' is deprecated and will be removed in a future version. Please use 'date_format' instead, or read your data in as 'object' dtype and then call 'to_datetime'.\n",
      "  df = pd.read_excel(file_path, header=3, date_parser=custom_date_parser)\n",
      "C:\\Users\\jaina\\AppData\\Local\\Temp\\ipykernel_31164\\3450862427.py:22: FutureWarning: The argument 'date_parser' is deprecated and will be removed in a future version. Please use 'date_format' instead, or read your data in as 'object' dtype and then call 'to_datetime'.\n",
      "  df = pd.read_excel(file_path, header=3, date_parser=custom_date_parser)\n",
      "C:\\Users\\jaina\\AppData\\Local\\Temp\\ipykernel_31164\\3450862427.py:22: FutureWarning: The argument 'date_parser' is deprecated and will be removed in a future version. Please use 'date_format' instead, or read your data in as 'object' dtype and then call 'to_datetime'.\n",
      "  df = pd.read_excel(file_path, header=3, date_parser=custom_date_parser)\n",
      "C:\\Users\\jaina\\AppData\\Local\\Temp\\ipykernel_31164\\3450862427.py:22: FutureWarning: The argument 'date_parser' is deprecated and will be removed in a future version. Please use 'date_format' instead, or read your data in as 'object' dtype and then call 'to_datetime'.\n",
      "  df = pd.read_excel(file_path, header=3, date_parser=custom_date_parser)\n",
      "C:\\Users\\jaina\\AppData\\Local\\Temp\\ipykernel_31164\\3450862427.py:22: FutureWarning: The argument 'date_parser' is deprecated and will be removed in a future version. Please use 'date_format' instead, or read your data in as 'object' dtype and then call 'to_datetime'.\n",
      "  df = pd.read_excel(file_path, header=3, date_parser=custom_date_parser)\n",
      "C:\\Users\\jaina\\AppData\\Local\\Temp\\ipykernel_31164\\3450862427.py:22: FutureWarning: The argument 'date_parser' is deprecated and will be removed in a future version. Please use 'date_format' instead, or read your data in as 'object' dtype and then call 'to_datetime'.\n",
      "  df = pd.read_excel(file_path, header=3, date_parser=custom_date_parser)\n",
      "C:\\Users\\jaina\\AppData\\Local\\Temp\\ipykernel_31164\\3450862427.py:22: FutureWarning: The argument 'date_parser' is deprecated and will be removed in a future version. Please use 'date_format' instead, or read your data in as 'object' dtype and then call 'to_datetime'.\n",
      "  df = pd.read_excel(file_path, header=3, date_parser=custom_date_parser)\n",
      "C:\\Users\\jaina\\AppData\\Local\\Temp\\ipykernel_31164\\3450862427.py:22: FutureWarning: The argument 'date_parser' is deprecated and will be removed in a future version. Please use 'date_format' instead, or read your data in as 'object' dtype and then call 'to_datetime'.\n",
      "  df = pd.read_excel(file_path, header=3, date_parser=custom_date_parser)\n",
      "C:\\Users\\jaina\\AppData\\Local\\Temp\\ipykernel_31164\\3450862427.py:22: FutureWarning: The argument 'date_parser' is deprecated and will be removed in a future version. Please use 'date_format' instead, or read your data in as 'object' dtype and then call 'to_datetime'.\n",
      "  df = pd.read_excel(file_path, header=3, date_parser=custom_date_parser)\n",
      "C:\\Users\\jaina\\AppData\\Local\\Temp\\ipykernel_31164\\3450862427.py:22: FutureWarning: The argument 'date_parser' is deprecated and will be removed in a future version. Please use 'date_format' instead, or read your data in as 'object' dtype and then call 'to_datetime'.\n",
      "  df = pd.read_excel(file_path, header=3, date_parser=custom_date_parser)\n",
      "C:\\Users\\jaina\\AppData\\Local\\Temp\\ipykernel_31164\\3450862427.py:22: FutureWarning: The argument 'date_parser' is deprecated and will be removed in a future version. Please use 'date_format' instead, or read your data in as 'object' dtype and then call 'to_datetime'.\n",
      "  df = pd.read_excel(file_path, header=3, date_parser=custom_date_parser)\n",
      "C:\\Users\\jaina\\AppData\\Local\\Temp\\ipykernel_31164\\3450862427.py:22: FutureWarning: The argument 'date_parser' is deprecated and will be removed in a future version. Please use 'date_format' instead, or read your data in as 'object' dtype and then call 'to_datetime'.\n",
      "  df = pd.read_excel(file_path, header=3, date_parser=custom_date_parser)\n",
      "C:\\Users\\jaina\\AppData\\Local\\Temp\\ipykernel_31164\\3450862427.py:22: FutureWarning: The argument 'date_parser' is deprecated and will be removed in a future version. Please use 'date_format' instead, or read your data in as 'object' dtype and then call 'to_datetime'.\n",
      "  df = pd.read_excel(file_path, header=3, date_parser=custom_date_parser)\n",
      "C:\\Users\\jaina\\AppData\\Local\\Temp\\ipykernel_31164\\3450862427.py:22: FutureWarning: The argument 'date_parser' is deprecated and will be removed in a future version. Please use 'date_format' instead, or read your data in as 'object' dtype and then call 'to_datetime'.\n",
      "  df = pd.read_excel(file_path, header=3, date_parser=custom_date_parser)\n",
      "C:\\Users\\jaina\\AppData\\Local\\Temp\\ipykernel_31164\\3450862427.py:22: FutureWarning: The argument 'date_parser' is deprecated and will be removed in a future version. Please use 'date_format' instead, or read your data in as 'object' dtype and then call 'to_datetime'.\n",
      "  df = pd.read_excel(file_path, header=3, date_parser=custom_date_parser)\n",
      "C:\\Users\\jaina\\AppData\\Local\\Temp\\ipykernel_31164\\3450862427.py:22: FutureWarning: The argument 'date_parser' is deprecated and will be removed in a future version. Please use 'date_format' instead, or read your data in as 'object' dtype and then call 'to_datetime'.\n",
      "  df = pd.read_excel(file_path, header=3, date_parser=custom_date_parser)\n",
      "C:\\Users\\jaina\\AppData\\Local\\Temp\\ipykernel_31164\\3450862427.py:22: FutureWarning: The argument 'date_parser' is deprecated and will be removed in a future version. Please use 'date_format' instead, or read your data in as 'object' dtype and then call 'to_datetime'.\n",
      "  df = pd.read_excel(file_path, header=3, date_parser=custom_date_parser)\n",
      "C:\\Users\\jaina\\AppData\\Local\\Temp\\ipykernel_31164\\3450862427.py:22: FutureWarning: The argument 'date_parser' is deprecated and will be removed in a future version. Please use 'date_format' instead, or read your data in as 'object' dtype and then call 'to_datetime'.\n",
      "  df = pd.read_excel(file_path, header=3, date_parser=custom_date_parser)\n",
      "C:\\Users\\jaina\\AppData\\Local\\Temp\\ipykernel_31164\\3450862427.py:22: FutureWarning: The argument 'date_parser' is deprecated and will be removed in a future version. Please use 'date_format' instead, or read your data in as 'object' dtype and then call 'to_datetime'.\n",
      "  df = pd.read_excel(file_path, header=3, date_parser=custom_date_parser)\n",
      "C:\\Users\\jaina\\AppData\\Local\\Temp\\ipykernel_31164\\3450862427.py:22: FutureWarning: The argument 'date_parser' is deprecated and will be removed in a future version. Please use 'date_format' instead, or read your data in as 'object' dtype and then call 'to_datetime'.\n",
      "  df = pd.read_excel(file_path, header=3, date_parser=custom_date_parser)\n",
      "C:\\Users\\jaina\\AppData\\Local\\Temp\\ipykernel_31164\\3450862427.py:22: FutureWarning: The argument 'date_parser' is deprecated and will be removed in a future version. Please use 'date_format' instead, or read your data in as 'object' dtype and then call 'to_datetime'.\n",
      "  df = pd.read_excel(file_path, header=3, date_parser=custom_date_parser)\n",
      "C:\\Users\\jaina\\AppData\\Local\\Temp\\ipykernel_31164\\3450862427.py:22: FutureWarning: The argument 'date_parser' is deprecated and will be removed in a future version. Please use 'date_format' instead, or read your data in as 'object' dtype and then call 'to_datetime'.\n",
      "  df = pd.read_excel(file_path, header=3, date_parser=custom_date_parser)\n",
      "C:\\Users\\jaina\\AppData\\Local\\Temp\\ipykernel_31164\\3450862427.py:22: FutureWarning: The argument 'date_parser' is deprecated and will be removed in a future version. Please use 'date_format' instead, or read your data in as 'object' dtype and then call 'to_datetime'.\n",
      "  df = pd.read_excel(file_path, header=3, date_parser=custom_date_parser)\n",
      "C:\\Users\\jaina\\AppData\\Local\\Temp\\ipykernel_31164\\3450862427.py:22: FutureWarning: The argument 'date_parser' is deprecated and will be removed in a future version. Please use 'date_format' instead, or read your data in as 'object' dtype and then call 'to_datetime'.\n",
      "  df = pd.read_excel(file_path, header=3, date_parser=custom_date_parser)\n",
      "C:\\Users\\jaina\\AppData\\Local\\Temp\\ipykernel_31164\\3450862427.py:22: FutureWarning: The argument 'date_parser' is deprecated and will be removed in a future version. Please use 'date_format' instead, or read your data in as 'object' dtype and then call 'to_datetime'.\n",
      "  df = pd.read_excel(file_path, header=3, date_parser=custom_date_parser)\n",
      "C:\\Users\\jaina\\AppData\\Local\\Temp\\ipykernel_31164\\3450862427.py:22: FutureWarning: The argument 'date_parser' is deprecated and will be removed in a future version. Please use 'date_format' instead, or read your data in as 'object' dtype and then call 'to_datetime'.\n",
      "  df = pd.read_excel(file_path, header=3, date_parser=custom_date_parser)\n",
      "C:\\Users\\jaina\\AppData\\Local\\Temp\\ipykernel_31164\\3450862427.py:22: FutureWarning: The argument 'date_parser' is deprecated and will be removed in a future version. Please use 'date_format' instead, or read your data in as 'object' dtype and then call 'to_datetime'.\n",
      "  df = pd.read_excel(file_path, header=3, date_parser=custom_date_parser)\n",
      "C:\\Users\\jaina\\AppData\\Local\\Temp\\ipykernel_31164\\3450862427.py:22: FutureWarning: The argument 'date_parser' is deprecated and will be removed in a future version. Please use 'date_format' instead, or read your data in as 'object' dtype and then call 'to_datetime'.\n",
      "  df = pd.read_excel(file_path, header=3, date_parser=custom_date_parser)\n",
      "C:\\Users\\jaina\\AppData\\Local\\Temp\\ipykernel_31164\\3450862427.py:22: FutureWarning: The argument 'date_parser' is deprecated and will be removed in a future version. Please use 'date_format' instead, or read your data in as 'object' dtype and then call 'to_datetime'.\n",
      "  df = pd.read_excel(file_path, header=3, date_parser=custom_date_parser)\n",
      "C:\\Users\\jaina\\AppData\\Local\\Temp\\ipykernel_31164\\3450862427.py:22: FutureWarning: The argument 'date_parser' is deprecated and will be removed in a future version. Please use 'date_format' instead, or read your data in as 'object' dtype and then call 'to_datetime'.\n",
      "  df = pd.read_excel(file_path, header=3, date_parser=custom_date_parser)\n",
      "C:\\Users\\jaina\\AppData\\Local\\Temp\\ipykernel_31164\\3450862427.py:22: FutureWarning: The argument 'date_parser' is deprecated and will be removed in a future version. Please use 'date_format' instead, or read your data in as 'object' dtype and then call 'to_datetime'.\n",
      "  df = pd.read_excel(file_path, header=3, date_parser=custom_date_parser)\n",
      "C:\\Users\\jaina\\AppData\\Local\\Temp\\ipykernel_31164\\3450862427.py:22: FutureWarning: The argument 'date_parser' is deprecated and will be removed in a future version. Please use 'date_format' instead, or read your data in as 'object' dtype and then call 'to_datetime'.\n",
      "  df = pd.read_excel(file_path, header=3, date_parser=custom_date_parser)\n",
      "C:\\Users\\jaina\\AppData\\Local\\Temp\\ipykernel_31164\\3450862427.py:22: FutureWarning: The argument 'date_parser' is deprecated and will be removed in a future version. Please use 'date_format' instead, or read your data in as 'object' dtype and then call 'to_datetime'.\n",
      "  df = pd.read_excel(file_path, header=3, date_parser=custom_date_parser)\n",
      "C:\\Users\\jaina\\AppData\\Local\\Temp\\ipykernel_31164\\3450862427.py:22: FutureWarning: The argument 'date_parser' is deprecated and will be removed in a future version. Please use 'date_format' instead, or read your data in as 'object' dtype and then call 'to_datetime'.\n",
      "  df = pd.read_excel(file_path, header=3, date_parser=custom_date_parser)\n",
      "C:\\Users\\jaina\\AppData\\Local\\Temp\\ipykernel_31164\\3450862427.py:22: FutureWarning: The argument 'date_parser' is deprecated and will be removed in a future version. Please use 'date_format' instead, or read your data in as 'object' dtype and then call 'to_datetime'.\n",
      "  df = pd.read_excel(file_path, header=3, date_parser=custom_date_parser)\n",
      "C:\\Users\\jaina\\AppData\\Local\\Temp\\ipykernel_31164\\3450862427.py:22: FutureWarning: The argument 'date_parser' is deprecated and will be removed in a future version. Please use 'date_format' instead, or read your data in as 'object' dtype and then call 'to_datetime'.\n",
      "  df = pd.read_excel(file_path, header=3, date_parser=custom_date_parser)\n",
      "C:\\Users\\jaina\\AppData\\Local\\Temp\\ipykernel_31164\\3450862427.py:22: FutureWarning: The argument 'date_parser' is deprecated and will be removed in a future version. Please use 'date_format' instead, or read your data in as 'object' dtype and then call 'to_datetime'.\n",
      "  df = pd.read_excel(file_path, header=3, date_parser=custom_date_parser)\n",
      "C:\\Users\\jaina\\AppData\\Local\\Temp\\ipykernel_31164\\3450862427.py:22: FutureWarning: The argument 'date_parser' is deprecated and will be removed in a future version. Please use 'date_format' instead, or read your data in as 'object' dtype and then call 'to_datetime'.\n",
      "  df = pd.read_excel(file_path, header=3, date_parser=custom_date_parser)\n",
      "C:\\Users\\jaina\\AppData\\Local\\Temp\\ipykernel_31164\\3450862427.py:22: FutureWarning: The argument 'date_parser' is deprecated and will be removed in a future version. Please use 'date_format' instead, or read your data in as 'object' dtype and then call 'to_datetime'.\n",
      "  df = pd.read_excel(file_path, header=3, date_parser=custom_date_parser)\n",
      "C:\\Users\\jaina\\AppData\\Local\\Temp\\ipykernel_31164\\3450862427.py:22: FutureWarning: The argument 'date_parser' is deprecated and will be removed in a future version. Please use 'date_format' instead, or read your data in as 'object' dtype and then call 'to_datetime'.\n",
      "  df = pd.read_excel(file_path, header=3, date_parser=custom_date_parser)\n",
      "C:\\Users\\jaina\\AppData\\Local\\Temp\\ipykernel_31164\\3450862427.py:22: FutureWarning: The argument 'date_parser' is deprecated and will be removed in a future version. Please use 'date_format' instead, or read your data in as 'object' dtype and then call 'to_datetime'.\n",
      "  df = pd.read_excel(file_path, header=3, date_parser=custom_date_parser)\n",
      "C:\\Users\\jaina\\AppData\\Local\\Temp\\ipykernel_31164\\3450862427.py:22: FutureWarning: The argument 'date_parser' is deprecated and will be removed in a future version. Please use 'date_format' instead, or read your data in as 'object' dtype and then call 'to_datetime'.\n",
      "  df = pd.read_excel(file_path, header=3, date_parser=custom_date_parser)\n",
      "C:\\Users\\jaina\\AppData\\Local\\Temp\\ipykernel_31164\\3450862427.py:22: FutureWarning: The argument 'date_parser' is deprecated and will be removed in a future version. Please use 'date_format' instead, or read your data in as 'object' dtype and then call 'to_datetime'.\n",
      "  df = pd.read_excel(file_path, header=3, date_parser=custom_date_parser)\n",
      "C:\\Users\\jaina\\AppData\\Local\\Temp\\ipykernel_31164\\3450862427.py:22: FutureWarning: The argument 'date_parser' is deprecated and will be removed in a future version. Please use 'date_format' instead, or read your data in as 'object' dtype and then call 'to_datetime'.\n",
      "  df = pd.read_excel(file_path, header=3, date_parser=custom_date_parser)\n",
      "C:\\Users\\jaina\\AppData\\Local\\Temp\\ipykernel_31164\\3450862427.py:22: FutureWarning: The argument 'date_parser' is deprecated and will be removed in a future version. Please use 'date_format' instead, or read your data in as 'object' dtype and then call 'to_datetime'.\n",
      "  df = pd.read_excel(file_path, header=3, date_parser=custom_date_parser)\n",
      "C:\\Users\\jaina\\AppData\\Local\\Temp\\ipykernel_31164\\3450862427.py:22: FutureWarning: The argument 'date_parser' is deprecated and will be removed in a future version. Please use 'date_format' instead, or read your data in as 'object' dtype and then call 'to_datetime'.\n",
      "  df = pd.read_excel(file_path, header=3, date_parser=custom_date_parser)\n",
      "C:\\Users\\jaina\\AppData\\Local\\Temp\\ipykernel_31164\\3450862427.py:22: FutureWarning: The argument 'date_parser' is deprecated and will be removed in a future version. Please use 'date_format' instead, or read your data in as 'object' dtype and then call 'to_datetime'.\n",
      "  df = pd.read_excel(file_path, header=3, date_parser=custom_date_parser)\n",
      "C:\\Users\\jaina\\AppData\\Local\\Temp\\ipykernel_31164\\3450862427.py:22: FutureWarning: The argument 'date_parser' is deprecated and will be removed in a future version. Please use 'date_format' instead, or read your data in as 'object' dtype and then call 'to_datetime'.\n",
      "  df = pd.read_excel(file_path, header=3, date_parser=custom_date_parser)\n",
      "C:\\Users\\jaina\\AppData\\Local\\Temp\\ipykernel_31164\\3450862427.py:22: FutureWarning: The argument 'date_parser' is deprecated and will be removed in a future version. Please use 'date_format' instead, or read your data in as 'object' dtype and then call 'to_datetime'.\n",
      "  df = pd.read_excel(file_path, header=3, date_parser=custom_date_parser)\n",
      "C:\\Users\\jaina\\AppData\\Local\\Temp\\ipykernel_31164\\3450862427.py:22: FutureWarning: The argument 'date_parser' is deprecated and will be removed in a future version. Please use 'date_format' instead, or read your data in as 'object' dtype and then call 'to_datetime'.\n",
      "  df = pd.read_excel(file_path, header=3, date_parser=custom_date_parser)\n",
      "C:\\Users\\jaina\\AppData\\Local\\Temp\\ipykernel_31164\\3450862427.py:22: FutureWarning: The argument 'date_parser' is deprecated and will be removed in a future version. Please use 'date_format' instead, or read your data in as 'object' dtype and then call 'to_datetime'.\n",
      "  df = pd.read_excel(file_path, header=3, date_parser=custom_date_parser)\n",
      "C:\\Users\\jaina\\AppData\\Local\\Temp\\ipykernel_31164\\3450862427.py:22: FutureWarning: The argument 'date_parser' is deprecated and will be removed in a future version. Please use 'date_format' instead, or read your data in as 'object' dtype and then call 'to_datetime'.\n",
      "  df = pd.read_excel(file_path, header=3, date_parser=custom_date_parser)\n",
      "C:\\Users\\jaina\\AppData\\Local\\Temp\\ipykernel_31164\\3450862427.py:22: FutureWarning: The argument 'date_parser' is deprecated and will be removed in a future version. Please use 'date_format' instead, or read your data in as 'object' dtype and then call 'to_datetime'.\n",
      "  df = pd.read_excel(file_path, header=3, date_parser=custom_date_parser)\n",
      "C:\\Users\\jaina\\AppData\\Local\\Temp\\ipykernel_31164\\3450862427.py:22: FutureWarning: The argument 'date_parser' is deprecated and will be removed in a future version. Please use 'date_format' instead, or read your data in as 'object' dtype and then call 'to_datetime'.\n",
      "  df = pd.read_excel(file_path, header=3, date_parser=custom_date_parser)\n",
      "C:\\Users\\jaina\\AppData\\Local\\Temp\\ipykernel_31164\\3450862427.py:22: FutureWarning: The argument 'date_parser' is deprecated and will be removed in a future version. Please use 'date_format' instead, or read your data in as 'object' dtype and then call 'to_datetime'.\n",
      "  df = pd.read_excel(file_path, header=3, date_parser=custom_date_parser)\n",
      "C:\\Users\\jaina\\AppData\\Local\\Temp\\ipykernel_31164\\3450862427.py:22: FutureWarning: The argument 'date_parser' is deprecated and will be removed in a future version. Please use 'date_format' instead, or read your data in as 'object' dtype and then call 'to_datetime'.\n",
      "  df = pd.read_excel(file_path, header=3, date_parser=custom_date_parser)\n",
      "C:\\Users\\jaina\\AppData\\Local\\Temp\\ipykernel_31164\\3450862427.py:22: FutureWarning: The argument 'date_parser' is deprecated and will be removed in a future version. Please use 'date_format' instead, or read your data in as 'object' dtype and then call 'to_datetime'.\n",
      "  df = pd.read_excel(file_path, header=3, date_parser=custom_date_parser)\n",
      "C:\\Users\\jaina\\AppData\\Local\\Temp\\ipykernel_31164\\3450862427.py:22: FutureWarning: The argument 'date_parser' is deprecated and will be removed in a future version. Please use 'date_format' instead, or read your data in as 'object' dtype and then call 'to_datetime'.\n",
      "  df = pd.read_excel(file_path, header=3, date_parser=custom_date_parser)\n",
      "C:\\Users\\jaina\\AppData\\Local\\Temp\\ipykernel_31164\\3450862427.py:22: FutureWarning: The argument 'date_parser' is deprecated and will be removed in a future version. Please use 'date_format' instead, or read your data in as 'object' dtype and then call 'to_datetime'.\n",
      "  df = pd.read_excel(file_path, header=3, date_parser=custom_date_parser)\n",
      "C:\\Users\\jaina\\AppData\\Local\\Temp\\ipykernel_31164\\3450862427.py:22: FutureWarning: The argument 'date_parser' is deprecated and will be removed in a future version. Please use 'date_format' instead, or read your data in as 'object' dtype and then call 'to_datetime'.\n",
      "  df = pd.read_excel(file_path, header=3, date_parser=custom_date_parser)\n",
      "C:\\Users\\jaina\\AppData\\Local\\Temp\\ipykernel_31164\\3450862427.py:22: FutureWarning: The argument 'date_parser' is deprecated and will be removed in a future version. Please use 'date_format' instead, or read your data in as 'object' dtype and then call 'to_datetime'.\n",
      "  df = pd.read_excel(file_path, header=3, date_parser=custom_date_parser)\n",
      "C:\\Users\\jaina\\AppData\\Local\\Temp\\ipykernel_31164\\3450862427.py:22: FutureWarning: The argument 'date_parser' is deprecated and will be removed in a future version. Please use 'date_format' instead, or read your data in as 'object' dtype and then call 'to_datetime'.\n",
      "  df = pd.read_excel(file_path, header=3, date_parser=custom_date_parser)\n",
      "C:\\Users\\jaina\\AppData\\Local\\Temp\\ipykernel_31164\\3450862427.py:22: FutureWarning: The argument 'date_parser' is deprecated and will be removed in a future version. Please use 'date_format' instead, or read your data in as 'object' dtype and then call 'to_datetime'.\n",
      "  df = pd.read_excel(file_path, header=3, date_parser=custom_date_parser)\n",
      "C:\\Users\\jaina\\AppData\\Local\\Temp\\ipykernel_31164\\3450862427.py:22: FutureWarning: The argument 'date_parser' is deprecated and will be removed in a future version. Please use 'date_format' instead, or read your data in as 'object' dtype and then call 'to_datetime'.\n",
      "  df = pd.read_excel(file_path, header=3, date_parser=custom_date_parser)\n",
      "C:\\Users\\jaina\\AppData\\Local\\Temp\\ipykernel_31164\\3450862427.py:22: FutureWarning: The argument 'date_parser' is deprecated and will be removed in a future version. Please use 'date_format' instead, or read your data in as 'object' dtype and then call 'to_datetime'.\n",
      "  df = pd.read_excel(file_path, header=3, date_parser=custom_date_parser)\n",
      "C:\\Users\\jaina\\AppData\\Local\\Temp\\ipykernel_31164\\3450862427.py:22: FutureWarning: The argument 'date_parser' is deprecated and will be removed in a future version. Please use 'date_format' instead, or read your data in as 'object' dtype and then call 'to_datetime'.\n",
      "  df = pd.read_excel(file_path, header=3, date_parser=custom_date_parser)\n",
      "C:\\Users\\jaina\\AppData\\Local\\Temp\\ipykernel_31164\\3450862427.py:22: FutureWarning: The argument 'date_parser' is deprecated and will be removed in a future version. Please use 'date_format' instead, or read your data in as 'object' dtype and then call 'to_datetime'.\n",
      "  df = pd.read_excel(file_path, header=3, date_parser=custom_date_parser)\n",
      "C:\\Users\\jaina\\AppData\\Local\\Temp\\ipykernel_31164\\3450862427.py:22: FutureWarning: The argument 'date_parser' is deprecated and will be removed in a future version. Please use 'date_format' instead, or read your data in as 'object' dtype and then call 'to_datetime'.\n",
      "  df = pd.read_excel(file_path, header=3, date_parser=custom_date_parser)\n",
      "C:\\Users\\jaina\\AppData\\Local\\Temp\\ipykernel_31164\\3450862427.py:22: FutureWarning: The argument 'date_parser' is deprecated and will be removed in a future version. Please use 'date_format' instead, or read your data in as 'object' dtype and then call 'to_datetime'.\n",
      "  df = pd.read_excel(file_path, header=3, date_parser=custom_date_parser)\n",
      "C:\\Users\\jaina\\AppData\\Local\\Temp\\ipykernel_31164\\3450862427.py:22: FutureWarning: The argument 'date_parser' is deprecated and will be removed in a future version. Please use 'date_format' instead, or read your data in as 'object' dtype and then call 'to_datetime'.\n",
      "  df = pd.read_excel(file_path, header=3, date_parser=custom_date_parser)\n",
      "C:\\Users\\jaina\\AppData\\Local\\Temp\\ipykernel_31164\\3450862427.py:22: FutureWarning: The argument 'date_parser' is deprecated and will be removed in a future version. Please use 'date_format' instead, or read your data in as 'object' dtype and then call 'to_datetime'.\n",
      "  df = pd.read_excel(file_path, header=3, date_parser=custom_date_parser)\n",
      "C:\\Users\\jaina\\AppData\\Local\\Temp\\ipykernel_31164\\3450862427.py:22: FutureWarning: The argument 'date_parser' is deprecated and will be removed in a future version. Please use 'date_format' instead, or read your data in as 'object' dtype and then call 'to_datetime'.\n",
      "  df = pd.read_excel(file_path, header=3, date_parser=custom_date_parser)\n",
      "C:\\Users\\jaina\\AppData\\Local\\Temp\\ipykernel_31164\\3450862427.py:22: FutureWarning: The argument 'date_parser' is deprecated and will be removed in a future version. Please use 'date_format' instead, or read your data in as 'object' dtype and then call 'to_datetime'.\n",
      "  df = pd.read_excel(file_path, header=3, date_parser=custom_date_parser)\n",
      "C:\\Users\\jaina\\AppData\\Local\\Temp\\ipykernel_31164\\3450862427.py:22: FutureWarning: The argument 'date_parser' is deprecated and will be removed in a future version. Please use 'date_format' instead, or read your data in as 'object' dtype and then call 'to_datetime'.\n",
      "  df = pd.read_excel(file_path, header=3, date_parser=custom_date_parser)\n",
      "C:\\Users\\jaina\\AppData\\Local\\Temp\\ipykernel_31164\\3450862427.py:22: FutureWarning: The argument 'date_parser' is deprecated and will be removed in a future version. Please use 'date_format' instead, or read your data in as 'object' dtype and then call 'to_datetime'.\n",
      "  df = pd.read_excel(file_path, header=3, date_parser=custom_date_parser)\n",
      "C:\\Users\\jaina\\AppData\\Local\\Temp\\ipykernel_31164\\3450862427.py:22: FutureWarning: The argument 'date_parser' is deprecated and will be removed in a future version. Please use 'date_format' instead, or read your data in as 'object' dtype and then call 'to_datetime'.\n",
      "  df = pd.read_excel(file_path, header=3, date_parser=custom_date_parser)\n",
      "C:\\Users\\jaina\\AppData\\Local\\Temp\\ipykernel_31164\\3450862427.py:22: FutureWarning: The argument 'date_parser' is deprecated and will be removed in a future version. Please use 'date_format' instead, or read your data in as 'object' dtype and then call 'to_datetime'.\n",
      "  df = pd.read_excel(file_path, header=3, date_parser=custom_date_parser)\n",
      "C:\\Users\\jaina\\AppData\\Local\\Temp\\ipykernel_31164\\3450862427.py:22: FutureWarning: The argument 'date_parser' is deprecated and will be removed in a future version. Please use 'date_format' instead, or read your data in as 'object' dtype and then call 'to_datetime'.\n",
      "  df = pd.read_excel(file_path, header=3, date_parser=custom_date_parser)\n",
      "C:\\Users\\jaina\\AppData\\Local\\Temp\\ipykernel_31164\\3450862427.py:22: FutureWarning: The argument 'date_parser' is deprecated and will be removed in a future version. Please use 'date_format' instead, or read your data in as 'object' dtype and then call 'to_datetime'.\n",
      "  df = pd.read_excel(file_path, header=3, date_parser=custom_date_parser)\n",
      "C:\\Users\\jaina\\AppData\\Local\\Temp\\ipykernel_31164\\3450862427.py:22: FutureWarning: The argument 'date_parser' is deprecated and will be removed in a future version. Please use 'date_format' instead, or read your data in as 'object' dtype and then call 'to_datetime'.\n",
      "  df = pd.read_excel(file_path, header=3, date_parser=custom_date_parser)\n",
      "C:\\Users\\jaina\\AppData\\Local\\Temp\\ipykernel_31164\\3450862427.py:22: FutureWarning: The argument 'date_parser' is deprecated and will be removed in a future version. Please use 'date_format' instead, or read your data in as 'object' dtype and then call 'to_datetime'.\n",
      "  df = pd.read_excel(file_path, header=3, date_parser=custom_date_parser)\n",
      "C:\\Users\\jaina\\AppData\\Local\\Temp\\ipykernel_31164\\3450862427.py:22: FutureWarning: The argument 'date_parser' is deprecated and will be removed in a future version. Please use 'date_format' instead, or read your data in as 'object' dtype and then call 'to_datetime'.\n",
      "  df = pd.read_excel(file_path, header=3, date_parser=custom_date_parser)\n",
      "C:\\Users\\jaina\\AppData\\Local\\Temp\\ipykernel_31164\\3450862427.py:22: FutureWarning: The argument 'date_parser' is deprecated and will be removed in a future version. Please use 'date_format' instead, or read your data in as 'object' dtype and then call 'to_datetime'.\n",
      "  df = pd.read_excel(file_path, header=3, date_parser=custom_date_parser)\n",
      "C:\\Users\\jaina\\AppData\\Local\\Temp\\ipykernel_31164\\3450862427.py:22: FutureWarning: The argument 'date_parser' is deprecated and will be removed in a future version. Please use 'date_format' instead, or read your data in as 'object' dtype and then call 'to_datetime'.\n",
      "  df = pd.read_excel(file_path, header=3, date_parser=custom_date_parser)\n",
      "C:\\Users\\jaina\\AppData\\Local\\Temp\\ipykernel_31164\\3450862427.py:22: FutureWarning: The argument 'date_parser' is deprecated and will be removed in a future version. Please use 'date_format' instead, or read your data in as 'object' dtype and then call 'to_datetime'.\n",
      "  df = pd.read_excel(file_path, header=3, date_parser=custom_date_parser)\n",
      "C:\\Users\\jaina\\AppData\\Local\\Temp\\ipykernel_31164\\3450862427.py:22: FutureWarning: The argument 'date_parser' is deprecated and will be removed in a future version. Please use 'date_format' instead, or read your data in as 'object' dtype and then call 'to_datetime'.\n",
      "  df = pd.read_excel(file_path, header=3, date_parser=custom_date_parser)\n",
      "C:\\Users\\jaina\\AppData\\Local\\Temp\\ipykernel_31164\\3450862427.py:22: FutureWarning: The argument 'date_parser' is deprecated and will be removed in a future version. Please use 'date_format' instead, or read your data in as 'object' dtype and then call 'to_datetime'.\n",
      "  df = pd.read_excel(file_path, header=3, date_parser=custom_date_parser)\n",
      "C:\\Users\\jaina\\AppData\\Local\\Temp\\ipykernel_31164\\3450862427.py:22: FutureWarning: The argument 'date_parser' is deprecated and will be removed in a future version. Please use 'date_format' instead, or read your data in as 'object' dtype and then call 'to_datetime'.\n",
      "  df = pd.read_excel(file_path, header=3, date_parser=custom_date_parser)\n",
      "C:\\Users\\jaina\\AppData\\Local\\Temp\\ipykernel_31164\\3450862427.py:22: FutureWarning: The argument 'date_parser' is deprecated and will be removed in a future version. Please use 'date_format' instead, or read your data in as 'object' dtype and then call 'to_datetime'.\n",
      "  df = pd.read_excel(file_path, header=3, date_parser=custom_date_parser)\n",
      "C:\\Users\\jaina\\AppData\\Local\\Temp\\ipykernel_31164\\3450862427.py:22: FutureWarning: The argument 'date_parser' is deprecated and will be removed in a future version. Please use 'date_format' instead, or read your data in as 'object' dtype and then call 'to_datetime'.\n",
      "  df = pd.read_excel(file_path, header=3, date_parser=custom_date_parser)\n",
      "C:\\Users\\jaina\\AppData\\Local\\Temp\\ipykernel_31164\\3450862427.py:22: FutureWarning: The argument 'date_parser' is deprecated and will be removed in a future version. Please use 'date_format' instead, or read your data in as 'object' dtype and then call 'to_datetime'.\n",
      "  df = pd.read_excel(file_path, header=3, date_parser=custom_date_parser)\n",
      "C:\\Users\\jaina\\AppData\\Local\\Temp\\ipykernel_31164\\3450862427.py:22: FutureWarning: The argument 'date_parser' is deprecated and will be removed in a future version. Please use 'date_format' instead, or read your data in as 'object' dtype and then call 'to_datetime'.\n",
      "  df = pd.read_excel(file_path, header=3, date_parser=custom_date_parser)\n",
      "C:\\Users\\jaina\\AppData\\Local\\Temp\\ipykernel_31164\\3450862427.py:22: FutureWarning: The argument 'date_parser' is deprecated and will be removed in a future version. Please use 'date_format' instead, or read your data in as 'object' dtype and then call 'to_datetime'.\n",
      "  df = pd.read_excel(file_path, header=3, date_parser=custom_date_parser)\n",
      "C:\\Users\\jaina\\AppData\\Local\\Temp\\ipykernel_31164\\3450862427.py:22: FutureWarning: The argument 'date_parser' is deprecated and will be removed in a future version. Please use 'date_format' instead, or read your data in as 'object' dtype and then call 'to_datetime'.\n",
      "  df = pd.read_excel(file_path, header=3, date_parser=custom_date_parser)\n",
      "C:\\Users\\jaina\\AppData\\Local\\Temp\\ipykernel_31164\\3450862427.py:22: FutureWarning: The argument 'date_parser' is deprecated and will be removed in a future version. Please use 'date_format' instead, or read your data in as 'object' dtype and then call 'to_datetime'.\n",
      "  df = pd.read_excel(file_path, header=3, date_parser=custom_date_parser)\n",
      "C:\\Users\\jaina\\AppData\\Local\\Temp\\ipykernel_31164\\3450862427.py:22: FutureWarning: The argument 'date_parser' is deprecated and will be removed in a future version. Please use 'date_format' instead, or read your data in as 'object' dtype and then call 'to_datetime'.\n",
      "  df = pd.read_excel(file_path, header=3, date_parser=custom_date_parser)\n",
      "C:\\Users\\jaina\\AppData\\Local\\Temp\\ipykernel_31164\\3450862427.py:22: FutureWarning: The argument 'date_parser' is deprecated and will be removed in a future version. Please use 'date_format' instead, or read your data in as 'object' dtype and then call 'to_datetime'.\n",
      "  df = pd.read_excel(file_path, header=3, date_parser=custom_date_parser)\n",
      "C:\\Users\\jaina\\AppData\\Local\\Temp\\ipykernel_31164\\3450862427.py:22: FutureWarning: The argument 'date_parser' is deprecated and will be removed in a future version. Please use 'date_format' instead, or read your data in as 'object' dtype and then call 'to_datetime'.\n",
      "  df = pd.read_excel(file_path, header=3, date_parser=custom_date_parser)\n",
      "C:\\Users\\jaina\\AppData\\Local\\Temp\\ipykernel_31164\\3450862427.py:22: FutureWarning: The argument 'date_parser' is deprecated and will be removed in a future version. Please use 'date_format' instead, or read your data in as 'object' dtype and then call 'to_datetime'.\n",
      "  df = pd.read_excel(file_path, header=3, date_parser=custom_date_parser)\n",
      "C:\\Users\\jaina\\AppData\\Local\\Temp\\ipykernel_31164\\3450862427.py:22: FutureWarning: The argument 'date_parser' is deprecated and will be removed in a future version. Please use 'date_format' instead, or read your data in as 'object' dtype and then call 'to_datetime'.\n",
      "  df = pd.read_excel(file_path, header=3, date_parser=custom_date_parser)\n",
      "C:\\Users\\jaina\\AppData\\Local\\Temp\\ipykernel_31164\\3450862427.py:22: FutureWarning: The argument 'date_parser' is deprecated and will be removed in a future version. Please use 'date_format' instead, or read your data in as 'object' dtype and then call 'to_datetime'.\n",
      "  df = pd.read_excel(file_path, header=3, date_parser=custom_date_parser)\n",
      "C:\\Users\\jaina\\AppData\\Local\\Temp\\ipykernel_31164\\3450862427.py:22: FutureWarning: The argument 'date_parser' is deprecated and will be removed in a future version. Please use 'date_format' instead, or read your data in as 'object' dtype and then call 'to_datetime'.\n",
      "  df = pd.read_excel(file_path, header=3, date_parser=custom_date_parser)\n",
      "C:\\Users\\jaina\\AppData\\Local\\Temp\\ipykernel_31164\\3450862427.py:22: FutureWarning: The argument 'date_parser' is deprecated and will be removed in a future version. Please use 'date_format' instead, or read your data in as 'object' dtype and then call 'to_datetime'.\n",
      "  df = pd.read_excel(file_path, header=3, date_parser=custom_date_parser)\n",
      "C:\\Users\\jaina\\AppData\\Local\\Temp\\ipykernel_31164\\3450862427.py:22: FutureWarning: The argument 'date_parser' is deprecated and will be removed in a future version. Please use 'date_format' instead, or read your data in as 'object' dtype and then call 'to_datetime'.\n",
      "  df = pd.read_excel(file_path, header=3, date_parser=custom_date_parser)\n",
      "C:\\Users\\jaina\\AppData\\Local\\Temp\\ipykernel_31164\\3450862427.py:22: FutureWarning: The argument 'date_parser' is deprecated and will be removed in a future version. Please use 'date_format' instead, or read your data in as 'object' dtype and then call 'to_datetime'.\n",
      "  df = pd.read_excel(file_path, header=3, date_parser=custom_date_parser)\n",
      "C:\\Users\\jaina\\AppData\\Local\\Temp\\ipykernel_31164\\3450862427.py:22: FutureWarning: The argument 'date_parser' is deprecated and will be removed in a future version. Please use 'date_format' instead, or read your data in as 'object' dtype and then call 'to_datetime'.\n",
      "  df = pd.read_excel(file_path, header=3, date_parser=custom_date_parser)\n",
      "C:\\Users\\jaina\\AppData\\Local\\Temp\\ipykernel_31164\\3450862427.py:22: FutureWarning: The argument 'date_parser' is deprecated and will be removed in a future version. Please use 'date_format' instead, or read your data in as 'object' dtype and then call 'to_datetime'.\n",
      "  df = pd.read_excel(file_path, header=3, date_parser=custom_date_parser)\n",
      "C:\\Users\\jaina\\AppData\\Local\\Temp\\ipykernel_31164\\3450862427.py:22: FutureWarning: The argument 'date_parser' is deprecated and will be removed in a future version. Please use 'date_format' instead, or read your data in as 'object' dtype and then call 'to_datetime'.\n",
      "  df = pd.read_excel(file_path, header=3, date_parser=custom_date_parser)\n",
      "C:\\Users\\jaina\\AppData\\Local\\Temp\\ipykernel_31164\\3450862427.py:22: FutureWarning: The argument 'date_parser' is deprecated and will be removed in a future version. Please use 'date_format' instead, or read your data in as 'object' dtype and then call 'to_datetime'.\n",
      "  df = pd.read_excel(file_path, header=3, date_parser=custom_date_parser)\n",
      "C:\\Users\\jaina\\AppData\\Local\\Temp\\ipykernel_31164\\3450862427.py:22: FutureWarning: The argument 'date_parser' is deprecated and will be removed in a future version. Please use 'date_format' instead, or read your data in as 'object' dtype and then call 'to_datetime'.\n",
      "  df = pd.read_excel(file_path, header=3, date_parser=custom_date_parser)\n",
      "C:\\Users\\jaina\\AppData\\Local\\Temp\\ipykernel_31164\\3450862427.py:22: FutureWarning: The argument 'date_parser' is deprecated and will be removed in a future version. Please use 'date_format' instead, or read your data in as 'object' dtype and then call 'to_datetime'.\n",
      "  df = pd.read_excel(file_path, header=3, date_parser=custom_date_parser)\n",
      "C:\\Users\\jaina\\AppData\\Local\\Temp\\ipykernel_31164\\3450862427.py:22: FutureWarning: The argument 'date_parser' is deprecated and will be removed in a future version. Please use 'date_format' instead, or read your data in as 'object' dtype and then call 'to_datetime'.\n",
      "  df = pd.read_excel(file_path, header=3, date_parser=custom_date_parser)\n",
      "C:\\Users\\jaina\\AppData\\Local\\Temp\\ipykernel_31164\\3450862427.py:22: FutureWarning: The argument 'date_parser' is deprecated and will be removed in a future version. Please use 'date_format' instead, or read your data in as 'object' dtype and then call 'to_datetime'.\n",
      "  df = pd.read_excel(file_path, header=3, date_parser=custom_date_parser)\n",
      "C:\\Users\\jaina\\AppData\\Local\\Temp\\ipykernel_31164\\3450862427.py:22: FutureWarning: The argument 'date_parser' is deprecated and will be removed in a future version. Please use 'date_format' instead, or read your data in as 'object' dtype and then call 'to_datetime'.\n",
      "  df = pd.read_excel(file_path, header=3, date_parser=custom_date_parser)\n",
      "C:\\Users\\jaina\\AppData\\Local\\Temp\\ipykernel_31164\\3450862427.py:22: FutureWarning: The argument 'date_parser' is deprecated and will be removed in a future version. Please use 'date_format' instead, or read your data in as 'object' dtype and then call 'to_datetime'.\n",
      "  df = pd.read_excel(file_path, header=3, date_parser=custom_date_parser)\n",
      "C:\\Users\\jaina\\AppData\\Local\\Temp\\ipykernel_31164\\3450862427.py:22: FutureWarning: The argument 'date_parser' is deprecated and will be removed in a future version. Please use 'date_format' instead, or read your data in as 'object' dtype and then call 'to_datetime'.\n",
      "  df = pd.read_excel(file_path, header=3, date_parser=custom_date_parser)\n",
      "C:\\Users\\jaina\\AppData\\Local\\Temp\\ipykernel_31164\\3450862427.py:22: FutureWarning: The argument 'date_parser' is deprecated and will be removed in a future version. Please use 'date_format' instead, or read your data in as 'object' dtype and then call 'to_datetime'.\n",
      "  df = pd.read_excel(file_path, header=3, date_parser=custom_date_parser)\n",
      "C:\\Users\\jaina\\AppData\\Local\\Temp\\ipykernel_31164\\3450862427.py:22: FutureWarning: The argument 'date_parser' is deprecated and will be removed in a future version. Please use 'date_format' instead, or read your data in as 'object' dtype and then call 'to_datetime'.\n",
      "  df = pd.read_excel(file_path, header=3, date_parser=custom_date_parser)\n",
      "C:\\Users\\jaina\\AppData\\Local\\Temp\\ipykernel_31164\\3450862427.py:22: FutureWarning: The argument 'date_parser' is deprecated and will be removed in a future version. Please use 'date_format' instead, or read your data in as 'object' dtype and then call 'to_datetime'.\n",
      "  df = pd.read_excel(file_path, header=3, date_parser=custom_date_parser)\n",
      "C:\\Users\\jaina\\AppData\\Local\\Temp\\ipykernel_31164\\3450862427.py:22: FutureWarning: The argument 'date_parser' is deprecated and will be removed in a future version. Please use 'date_format' instead, or read your data in as 'object' dtype and then call 'to_datetime'.\n",
      "  df = pd.read_excel(file_path, header=3, date_parser=custom_date_parser)\n",
      "C:\\Users\\jaina\\AppData\\Local\\Temp\\ipykernel_31164\\3450862427.py:22: FutureWarning: The argument 'date_parser' is deprecated and will be removed in a future version. Please use 'date_format' instead, or read your data in as 'object' dtype and then call 'to_datetime'.\n",
      "  df = pd.read_excel(file_path, header=3, date_parser=custom_date_parser)\n",
      "C:\\Users\\jaina\\AppData\\Local\\Temp\\ipykernel_31164\\3450862427.py:22: FutureWarning: The argument 'date_parser' is deprecated and will be removed in a future version. Please use 'date_format' instead, or read your data in as 'object' dtype and then call 'to_datetime'.\n",
      "  df = pd.read_excel(file_path, header=3, date_parser=custom_date_parser)\n",
      "C:\\Users\\jaina\\AppData\\Local\\Temp\\ipykernel_31164\\3450862427.py:22: FutureWarning: The argument 'date_parser' is deprecated and will be removed in a future version. Please use 'date_format' instead, or read your data in as 'object' dtype and then call 'to_datetime'.\n",
      "  df = pd.read_excel(file_path, header=3, date_parser=custom_date_parser)\n",
      "C:\\Users\\jaina\\AppData\\Local\\Temp\\ipykernel_31164\\3450862427.py:22: FutureWarning: The argument 'date_parser' is deprecated and will be removed in a future version. Please use 'date_format' instead, or read your data in as 'object' dtype and then call 'to_datetime'.\n",
      "  df = pd.read_excel(file_path, header=3, date_parser=custom_date_parser)\n",
      "C:\\Users\\jaina\\AppData\\Local\\Temp\\ipykernel_31164\\3450862427.py:22: FutureWarning: The argument 'date_parser' is deprecated and will be removed in a future version. Please use 'date_format' instead, or read your data in as 'object' dtype and then call 'to_datetime'.\n",
      "  df = pd.read_excel(file_path, header=3, date_parser=custom_date_parser)\n",
      "C:\\Users\\jaina\\AppData\\Local\\Temp\\ipykernel_31164\\3450862427.py:22: FutureWarning: The argument 'date_parser' is deprecated and will be removed in a future version. Please use 'date_format' instead, or read your data in as 'object' dtype and then call 'to_datetime'.\n",
      "  df = pd.read_excel(file_path, header=3, date_parser=custom_date_parser)\n",
      "C:\\Users\\jaina\\AppData\\Local\\Temp\\ipykernel_31164\\3450862427.py:22: FutureWarning: The argument 'date_parser' is deprecated and will be removed in a future version. Please use 'date_format' instead, or read your data in as 'object' dtype and then call 'to_datetime'.\n",
      "  df = pd.read_excel(file_path, header=3, date_parser=custom_date_parser)\n",
      "C:\\Users\\jaina\\AppData\\Local\\Temp\\ipykernel_31164\\3450862427.py:22: FutureWarning: The argument 'date_parser' is deprecated and will be removed in a future version. Please use 'date_format' instead, or read your data in as 'object' dtype and then call 'to_datetime'.\n",
      "  df = pd.read_excel(file_path, header=3, date_parser=custom_date_parser)\n",
      "C:\\Users\\jaina\\AppData\\Local\\Temp\\ipykernel_31164\\3450862427.py:22: FutureWarning: The argument 'date_parser' is deprecated and will be removed in a future version. Please use 'date_format' instead, or read your data in as 'object' dtype and then call 'to_datetime'.\n",
      "  df = pd.read_excel(file_path, header=3, date_parser=custom_date_parser)\n",
      "C:\\Users\\jaina\\AppData\\Local\\Temp\\ipykernel_31164\\3450862427.py:22: FutureWarning: The argument 'date_parser' is deprecated and will be removed in a future version. Please use 'date_format' instead, or read your data in as 'object' dtype and then call 'to_datetime'.\n",
      "  df = pd.read_excel(file_path, header=3, date_parser=custom_date_parser)\n",
      "C:\\Users\\jaina\\AppData\\Local\\Temp\\ipykernel_31164\\3450862427.py:22: FutureWarning: The argument 'date_parser' is deprecated and will be removed in a future version. Please use 'date_format' instead, or read your data in as 'object' dtype and then call 'to_datetime'.\n",
      "  df = pd.read_excel(file_path, header=3, date_parser=custom_date_parser)\n",
      "C:\\Users\\jaina\\AppData\\Local\\Temp\\ipykernel_31164\\3450862427.py:22: FutureWarning: The argument 'date_parser' is deprecated and will be removed in a future version. Please use 'date_format' instead, or read your data in as 'object' dtype and then call 'to_datetime'.\n",
      "  df = pd.read_excel(file_path, header=3, date_parser=custom_date_parser)\n",
      "C:\\Users\\jaina\\AppData\\Local\\Temp\\ipykernel_31164\\3450862427.py:22: FutureWarning: The argument 'date_parser' is deprecated and will be removed in a future version. Please use 'date_format' instead, or read your data in as 'object' dtype and then call 'to_datetime'.\n",
      "  df = pd.read_excel(file_path, header=3, date_parser=custom_date_parser)\n",
      "C:\\Users\\jaina\\AppData\\Local\\Temp\\ipykernel_31164\\3450862427.py:22: FutureWarning: The argument 'date_parser' is deprecated and will be removed in a future version. Please use 'date_format' instead, or read your data in as 'object' dtype and then call 'to_datetime'.\n",
      "  df = pd.read_excel(file_path, header=3, date_parser=custom_date_parser)\n",
      "C:\\Users\\jaina\\AppData\\Local\\Temp\\ipykernel_31164\\3450862427.py:22: FutureWarning: The argument 'date_parser' is deprecated and will be removed in a future version. Please use 'date_format' instead, or read your data in as 'object' dtype and then call 'to_datetime'.\n",
      "  df = pd.read_excel(file_path, header=3, date_parser=custom_date_parser)\n",
      "C:\\Users\\jaina\\AppData\\Local\\Temp\\ipykernel_31164\\3450862427.py:22: FutureWarning: The argument 'date_parser' is deprecated and will be removed in a future version. Please use 'date_format' instead, or read your data in as 'object' dtype and then call 'to_datetime'.\n",
      "  df = pd.read_excel(file_path, header=3, date_parser=custom_date_parser)\n",
      "C:\\Users\\jaina\\AppData\\Local\\Temp\\ipykernel_31164\\3450862427.py:22: FutureWarning: The argument 'date_parser' is deprecated and will be removed in a future version. Please use 'date_format' instead, or read your data in as 'object' dtype and then call 'to_datetime'.\n",
      "  df = pd.read_excel(file_path, header=3, date_parser=custom_date_parser)\n",
      "C:\\Users\\jaina\\AppData\\Local\\Temp\\ipykernel_31164\\3450862427.py:22: FutureWarning: The argument 'date_parser' is deprecated and will be removed in a future version. Please use 'date_format' instead, or read your data in as 'object' dtype and then call 'to_datetime'.\n",
      "  df = pd.read_excel(file_path, header=3, date_parser=custom_date_parser)\n",
      "C:\\Users\\jaina\\AppData\\Local\\Temp\\ipykernel_31164\\3450862427.py:22: FutureWarning: The argument 'date_parser' is deprecated and will be removed in a future version. Please use 'date_format' instead, or read your data in as 'object' dtype and then call 'to_datetime'.\n",
      "  df = pd.read_excel(file_path, header=3, date_parser=custom_date_parser)\n",
      "C:\\Users\\jaina\\AppData\\Local\\Temp\\ipykernel_31164\\3450862427.py:22: FutureWarning: The argument 'date_parser' is deprecated and will be removed in a future version. Please use 'date_format' instead, or read your data in as 'object' dtype and then call 'to_datetime'.\n",
      "  df = pd.read_excel(file_path, header=3, date_parser=custom_date_parser)\n",
      "C:\\Users\\jaina\\AppData\\Local\\Temp\\ipykernel_31164\\3450862427.py:22: FutureWarning: The argument 'date_parser' is deprecated and will be removed in a future version. Please use 'date_format' instead, or read your data in as 'object' dtype and then call 'to_datetime'.\n",
      "  df = pd.read_excel(file_path, header=3, date_parser=custom_date_parser)\n",
      "C:\\Users\\jaina\\AppData\\Local\\Temp\\ipykernel_31164\\3450862427.py:22: FutureWarning: The argument 'date_parser' is deprecated and will be removed in a future version. Please use 'date_format' instead, or read your data in as 'object' dtype and then call 'to_datetime'.\n",
      "  df = pd.read_excel(file_path, header=3, date_parser=custom_date_parser)\n",
      "C:\\Users\\jaina\\AppData\\Local\\Temp\\ipykernel_31164\\3450862427.py:22: FutureWarning: The argument 'date_parser' is deprecated and will be removed in a future version. Please use 'date_format' instead, or read your data in as 'object' dtype and then call 'to_datetime'.\n",
      "  df = pd.read_excel(file_path, header=3, date_parser=custom_date_parser)\n",
      "C:\\Users\\jaina\\AppData\\Local\\Temp\\ipykernel_31164\\3450862427.py:22: FutureWarning: The argument 'date_parser' is deprecated and will be removed in a future version. Please use 'date_format' instead, or read your data in as 'object' dtype and then call 'to_datetime'.\n",
      "  df = pd.read_excel(file_path, header=3, date_parser=custom_date_parser)\n",
      "C:\\Users\\jaina\\AppData\\Local\\Temp\\ipykernel_31164\\3450862427.py:22: FutureWarning: The argument 'date_parser' is deprecated and will be removed in a future version. Please use 'date_format' instead, or read your data in as 'object' dtype and then call 'to_datetime'.\n",
      "  df = pd.read_excel(file_path, header=3, date_parser=custom_date_parser)\n",
      "C:\\Users\\jaina\\AppData\\Local\\Temp\\ipykernel_31164\\3450862427.py:22: FutureWarning: The argument 'date_parser' is deprecated and will be removed in a future version. Please use 'date_format' instead, or read your data in as 'object' dtype and then call 'to_datetime'.\n",
      "  df = pd.read_excel(file_path, header=3, date_parser=custom_date_parser)\n",
      "C:\\Users\\jaina\\AppData\\Local\\Temp\\ipykernel_31164\\3450862427.py:22: FutureWarning: The argument 'date_parser' is deprecated and will be removed in a future version. Please use 'date_format' instead, or read your data in as 'object' dtype and then call 'to_datetime'.\n",
      "  df = pd.read_excel(file_path, header=3, date_parser=custom_date_parser)\n",
      "C:\\Users\\jaina\\AppData\\Local\\Temp\\ipykernel_31164\\3450862427.py:22: FutureWarning: The argument 'date_parser' is deprecated and will be removed in a future version. Please use 'date_format' instead, or read your data in as 'object' dtype and then call 'to_datetime'.\n",
      "  df = pd.read_excel(file_path, header=3, date_parser=custom_date_parser)\n",
      "C:\\Users\\jaina\\AppData\\Local\\Temp\\ipykernel_31164\\3450862427.py:22: FutureWarning: The argument 'date_parser' is deprecated and will be removed in a future version. Please use 'date_format' instead, or read your data in as 'object' dtype and then call 'to_datetime'.\n",
      "  df = pd.read_excel(file_path, header=3, date_parser=custom_date_parser)\n",
      "C:\\Users\\jaina\\AppData\\Local\\Temp\\ipykernel_31164\\3450862427.py:22: FutureWarning: The argument 'date_parser' is deprecated and will be removed in a future version. Please use 'date_format' instead, or read your data in as 'object' dtype and then call 'to_datetime'.\n",
      "  df = pd.read_excel(file_path, header=3, date_parser=custom_date_parser)\n",
      "C:\\Users\\jaina\\AppData\\Local\\Temp\\ipykernel_31164\\3450862427.py:22: FutureWarning: The argument 'date_parser' is deprecated and will be removed in a future version. Please use 'date_format' instead, or read your data in as 'object' dtype and then call 'to_datetime'.\n",
      "  df = pd.read_excel(file_path, header=3, date_parser=custom_date_parser)\n",
      "C:\\Users\\jaina\\AppData\\Local\\Temp\\ipykernel_31164\\3450862427.py:22: FutureWarning: The argument 'date_parser' is deprecated and will be removed in a future version. Please use 'date_format' instead, or read your data in as 'object' dtype and then call 'to_datetime'.\n",
      "  df = pd.read_excel(file_path, header=3, date_parser=custom_date_parser)\n",
      "C:\\Users\\jaina\\AppData\\Local\\Temp\\ipykernel_31164\\3450862427.py:22: FutureWarning: The argument 'date_parser' is deprecated and will be removed in a future version. Please use 'date_format' instead, or read your data in as 'object' dtype and then call 'to_datetime'.\n",
      "  df = pd.read_excel(file_path, header=3, date_parser=custom_date_parser)\n",
      "C:\\Users\\jaina\\AppData\\Local\\Temp\\ipykernel_31164\\3450862427.py:22: FutureWarning: The argument 'date_parser' is deprecated and will be removed in a future version. Please use 'date_format' instead, or read your data in as 'object' dtype and then call 'to_datetime'.\n",
      "  df = pd.read_excel(file_path, header=3, date_parser=custom_date_parser)\n",
      "C:\\Users\\jaina\\AppData\\Local\\Temp\\ipykernel_31164\\3450862427.py:22: FutureWarning: The argument 'date_parser' is deprecated and will be removed in a future version. Please use 'date_format' instead, or read your data in as 'object' dtype and then call 'to_datetime'.\n",
      "  df = pd.read_excel(file_path, header=3, date_parser=custom_date_parser)\n",
      "C:\\Users\\jaina\\AppData\\Local\\Temp\\ipykernel_31164\\3450862427.py:22: FutureWarning: The argument 'date_parser' is deprecated and will be removed in a future version. Please use 'date_format' instead, or read your data in as 'object' dtype and then call 'to_datetime'.\n",
      "  df = pd.read_excel(file_path, header=3, date_parser=custom_date_parser)\n",
      "C:\\Users\\jaina\\AppData\\Local\\Temp\\ipykernel_31164\\3450862427.py:22: FutureWarning: The argument 'date_parser' is deprecated and will be removed in a future version. Please use 'date_format' instead, or read your data in as 'object' dtype and then call 'to_datetime'.\n",
      "  df = pd.read_excel(file_path, header=3, date_parser=custom_date_parser)\n",
      "C:\\Users\\jaina\\AppData\\Local\\Temp\\ipykernel_31164\\3450862427.py:22: FutureWarning: The argument 'date_parser' is deprecated and will be removed in a future version. Please use 'date_format' instead, or read your data in as 'object' dtype and then call 'to_datetime'.\n",
      "  df = pd.read_excel(file_path, header=3, date_parser=custom_date_parser)\n",
      "C:\\Users\\jaina\\AppData\\Local\\Temp\\ipykernel_31164\\3450862427.py:22: FutureWarning: The argument 'date_parser' is deprecated and will be removed in a future version. Please use 'date_format' instead, or read your data in as 'object' dtype and then call 'to_datetime'.\n",
      "  df = pd.read_excel(file_path, header=3, date_parser=custom_date_parser)\n",
      "C:\\Users\\jaina\\AppData\\Local\\Temp\\ipykernel_31164\\3450862427.py:22: FutureWarning: The argument 'date_parser' is deprecated and will be removed in a future version. Please use 'date_format' instead, or read your data in as 'object' dtype and then call 'to_datetime'.\n",
      "  df = pd.read_excel(file_path, header=3, date_parser=custom_date_parser)\n",
      "C:\\Users\\jaina\\AppData\\Local\\Temp\\ipykernel_31164\\3450862427.py:22: FutureWarning: The argument 'date_parser' is deprecated and will be removed in a future version. Please use 'date_format' instead, or read your data in as 'object' dtype and then call 'to_datetime'.\n",
      "  df = pd.read_excel(file_path, header=3, date_parser=custom_date_parser)\n",
      "C:\\Users\\jaina\\AppData\\Local\\Temp\\ipykernel_31164\\3450862427.py:22: FutureWarning: The argument 'date_parser' is deprecated and will be removed in a future version. Please use 'date_format' instead, or read your data in as 'object' dtype and then call 'to_datetime'.\n",
      "  df = pd.read_excel(file_path, header=3, date_parser=custom_date_parser)\n",
      "C:\\Users\\jaina\\AppData\\Local\\Temp\\ipykernel_31164\\3450862427.py:22: FutureWarning: The argument 'date_parser' is deprecated and will be removed in a future version. Please use 'date_format' instead, or read your data in as 'object' dtype and then call 'to_datetime'.\n",
      "  df = pd.read_excel(file_path, header=3, date_parser=custom_date_parser)\n",
      "C:\\Users\\jaina\\AppData\\Local\\Temp\\ipykernel_31164\\3450862427.py:22: FutureWarning: The argument 'date_parser' is deprecated and will be removed in a future version. Please use 'date_format' instead, or read your data in as 'object' dtype and then call 'to_datetime'.\n",
      "  df = pd.read_excel(file_path, header=3, date_parser=custom_date_parser)\n",
      "C:\\Users\\jaina\\AppData\\Local\\Temp\\ipykernel_31164\\3450862427.py:22: FutureWarning: The argument 'date_parser' is deprecated and will be removed in a future version. Please use 'date_format' instead, or read your data in as 'object' dtype and then call 'to_datetime'.\n",
      "  df = pd.read_excel(file_path, header=3, date_parser=custom_date_parser)\n",
      "C:\\Users\\jaina\\AppData\\Local\\Temp\\ipykernel_31164\\3450862427.py:22: FutureWarning: The argument 'date_parser' is deprecated and will be removed in a future version. Please use 'date_format' instead, or read your data in as 'object' dtype and then call 'to_datetime'.\n",
      "  df = pd.read_excel(file_path, header=3, date_parser=custom_date_parser)\n",
      "C:\\Users\\jaina\\AppData\\Local\\Temp\\ipykernel_31164\\3450862427.py:22: FutureWarning: The argument 'date_parser' is deprecated and will be removed in a future version. Please use 'date_format' instead, or read your data in as 'object' dtype and then call 'to_datetime'.\n",
      "  df = pd.read_excel(file_path, header=3, date_parser=custom_date_parser)\n",
      "C:\\Users\\jaina\\AppData\\Local\\Temp\\ipykernel_31164\\3450862427.py:22: FutureWarning: The argument 'date_parser' is deprecated and will be removed in a future version. Please use 'date_format' instead, or read your data in as 'object' dtype and then call 'to_datetime'.\n",
      "  df = pd.read_excel(file_path, header=3, date_parser=custom_date_parser)\n",
      "C:\\Users\\jaina\\AppData\\Local\\Temp\\ipykernel_31164\\3450862427.py:22: FutureWarning: The argument 'date_parser' is deprecated and will be removed in a future version. Please use 'date_format' instead, or read your data in as 'object' dtype and then call 'to_datetime'.\n",
      "  df = pd.read_excel(file_path, header=3, date_parser=custom_date_parser)\n",
      "C:\\Users\\jaina\\AppData\\Local\\Temp\\ipykernel_31164\\3450862427.py:22: FutureWarning: The argument 'date_parser' is deprecated and will be removed in a future version. Please use 'date_format' instead, or read your data in as 'object' dtype and then call 'to_datetime'.\n",
      "  df = pd.read_excel(file_path, header=3, date_parser=custom_date_parser)\n",
      "C:\\Users\\jaina\\AppData\\Local\\Temp\\ipykernel_31164\\3450862427.py:22: FutureWarning: The argument 'date_parser' is deprecated and will be removed in a future version. Please use 'date_format' instead, or read your data in as 'object' dtype and then call 'to_datetime'.\n",
      "  df = pd.read_excel(file_path, header=3, date_parser=custom_date_parser)\n",
      "C:\\Users\\jaina\\AppData\\Local\\Temp\\ipykernel_31164\\3450862427.py:22: FutureWarning: The argument 'date_parser' is deprecated and will be removed in a future version. Please use 'date_format' instead, or read your data in as 'object' dtype and then call 'to_datetime'.\n",
      "  df = pd.read_excel(file_path, header=3, date_parser=custom_date_parser)\n",
      "C:\\Users\\jaina\\AppData\\Local\\Temp\\ipykernel_31164\\3450862427.py:22: FutureWarning: The argument 'date_parser' is deprecated and will be removed in a future version. Please use 'date_format' instead, or read your data in as 'object' dtype and then call 'to_datetime'.\n",
      "  df = pd.read_excel(file_path, header=3, date_parser=custom_date_parser)\n",
      "C:\\Users\\jaina\\AppData\\Local\\Temp\\ipykernel_31164\\3450862427.py:22: FutureWarning: The argument 'date_parser' is deprecated and will be removed in a future version. Please use 'date_format' instead, or read your data in as 'object' dtype and then call 'to_datetime'.\n",
      "  df = pd.read_excel(file_path, header=3, date_parser=custom_date_parser)\n",
      "C:\\Users\\jaina\\AppData\\Local\\Temp\\ipykernel_31164\\3450862427.py:22: FutureWarning: The argument 'date_parser' is deprecated and will be removed in a future version. Please use 'date_format' instead, or read your data in as 'object' dtype and then call 'to_datetime'.\n",
      "  df = pd.read_excel(file_path, header=3, date_parser=custom_date_parser)\n",
      "C:\\Users\\jaina\\AppData\\Local\\Temp\\ipykernel_31164\\3450862427.py:22: FutureWarning: The argument 'date_parser' is deprecated and will be removed in a future version. Please use 'date_format' instead, or read your data in as 'object' dtype and then call 'to_datetime'.\n",
      "  df = pd.read_excel(file_path, header=3, date_parser=custom_date_parser)\n",
      "C:\\Users\\jaina\\AppData\\Local\\Temp\\ipykernel_31164\\3450862427.py:22: FutureWarning: The argument 'date_parser' is deprecated and will be removed in a future version. Please use 'date_format' instead, or read your data in as 'object' dtype and then call 'to_datetime'.\n",
      "  df = pd.read_excel(file_path, header=3, date_parser=custom_date_parser)\n",
      "C:\\Users\\jaina\\AppData\\Local\\Temp\\ipykernel_31164\\3450862427.py:22: FutureWarning: The argument 'date_parser' is deprecated and will be removed in a future version. Please use 'date_format' instead, or read your data in as 'object' dtype and then call 'to_datetime'.\n",
      "  df = pd.read_excel(file_path, header=3, date_parser=custom_date_parser)\n",
      "C:\\Users\\jaina\\AppData\\Local\\Temp\\ipykernel_31164\\3450862427.py:22: FutureWarning: The argument 'date_parser' is deprecated and will be removed in a future version. Please use 'date_format' instead, or read your data in as 'object' dtype and then call 'to_datetime'.\n",
      "  df = pd.read_excel(file_path, header=3, date_parser=custom_date_parser)\n",
      "C:\\Users\\jaina\\AppData\\Local\\Temp\\ipykernel_31164\\3450862427.py:22: FutureWarning: The argument 'date_parser' is deprecated and will be removed in a future version. Please use 'date_format' instead, or read your data in as 'object' dtype and then call 'to_datetime'.\n",
      "  df = pd.read_excel(file_path, header=3, date_parser=custom_date_parser)\n",
      "C:\\Users\\jaina\\AppData\\Local\\Temp\\ipykernel_31164\\3450862427.py:22: FutureWarning: The argument 'date_parser' is deprecated and will be removed in a future version. Please use 'date_format' instead, or read your data in as 'object' dtype and then call 'to_datetime'.\n",
      "  df = pd.read_excel(file_path, header=3, date_parser=custom_date_parser)\n",
      "C:\\Users\\jaina\\AppData\\Local\\Temp\\ipykernel_31164\\3450862427.py:22: FutureWarning: The argument 'date_parser' is deprecated and will be removed in a future version. Please use 'date_format' instead, or read your data in as 'object' dtype and then call 'to_datetime'.\n",
      "  df = pd.read_excel(file_path, header=3, date_parser=custom_date_parser)\n",
      "C:\\Users\\jaina\\AppData\\Local\\Temp\\ipykernel_31164\\3450862427.py:22: FutureWarning: The argument 'date_parser' is deprecated and will be removed in a future version. Please use 'date_format' instead, or read your data in as 'object' dtype and then call 'to_datetime'.\n",
      "  df = pd.read_excel(file_path, header=3, date_parser=custom_date_parser)\n",
      "C:\\Users\\jaina\\AppData\\Local\\Temp\\ipykernel_31164\\3450862427.py:22: FutureWarning: The argument 'date_parser' is deprecated and will be removed in a future version. Please use 'date_format' instead, or read your data in as 'object' dtype and then call 'to_datetime'.\n",
      "  df = pd.read_excel(file_path, header=3, date_parser=custom_date_parser)\n",
      "C:\\Users\\jaina\\AppData\\Local\\Temp\\ipykernel_31164\\3450862427.py:22: FutureWarning: The argument 'date_parser' is deprecated and will be removed in a future version. Please use 'date_format' instead, or read your data in as 'object' dtype and then call 'to_datetime'.\n",
      "  df = pd.read_excel(file_path, header=3, date_parser=custom_date_parser)\n",
      "C:\\Users\\jaina\\AppData\\Local\\Temp\\ipykernel_31164\\3450862427.py:22: FutureWarning: The argument 'date_parser' is deprecated and will be removed in a future version. Please use 'date_format' instead, or read your data in as 'object' dtype and then call 'to_datetime'.\n",
      "  df = pd.read_excel(file_path, header=3, date_parser=custom_date_parser)\n",
      "C:\\Users\\jaina\\AppData\\Local\\Temp\\ipykernel_31164\\3450862427.py:22: FutureWarning: The argument 'date_parser' is deprecated and will be removed in a future version. Please use 'date_format' instead, or read your data in as 'object' dtype and then call 'to_datetime'.\n",
      "  df = pd.read_excel(file_path, header=3, date_parser=custom_date_parser)\n",
      "C:\\Users\\jaina\\AppData\\Local\\Temp\\ipykernel_31164\\3450862427.py:22: FutureWarning: The argument 'date_parser' is deprecated and will be removed in a future version. Please use 'date_format' instead, or read your data in as 'object' dtype and then call 'to_datetime'.\n",
      "  df = pd.read_excel(file_path, header=3, date_parser=custom_date_parser)\n",
      "C:\\Users\\jaina\\AppData\\Local\\Temp\\ipykernel_31164\\3450862427.py:22: FutureWarning: The argument 'date_parser' is deprecated and will be removed in a future version. Please use 'date_format' instead, or read your data in as 'object' dtype and then call 'to_datetime'.\n",
      "  df = pd.read_excel(file_path, header=3, date_parser=custom_date_parser)\n",
      "C:\\Users\\jaina\\AppData\\Local\\Temp\\ipykernel_31164\\3450862427.py:22: FutureWarning: The argument 'date_parser' is deprecated and will be removed in a future version. Please use 'date_format' instead, or read your data in as 'object' dtype and then call 'to_datetime'.\n",
      "  df = pd.read_excel(file_path, header=3, date_parser=custom_date_parser)\n",
      "C:\\Users\\jaina\\AppData\\Local\\Temp\\ipykernel_31164\\3450862427.py:22: FutureWarning: The argument 'date_parser' is deprecated and will be removed in a future version. Please use 'date_format' instead, or read your data in as 'object' dtype and then call 'to_datetime'.\n",
      "  df = pd.read_excel(file_path, header=3, date_parser=custom_date_parser)\n",
      "C:\\Users\\jaina\\AppData\\Local\\Temp\\ipykernel_31164\\3450862427.py:22: FutureWarning: The argument 'date_parser' is deprecated and will be removed in a future version. Please use 'date_format' instead, or read your data in as 'object' dtype and then call 'to_datetime'.\n",
      "  df = pd.read_excel(file_path, header=3, date_parser=custom_date_parser)\n",
      "C:\\Users\\jaina\\AppData\\Local\\Temp\\ipykernel_31164\\3450862427.py:22: FutureWarning: The argument 'date_parser' is deprecated and will be removed in a future version. Please use 'date_format' instead, or read your data in as 'object' dtype and then call 'to_datetime'.\n",
      "  df = pd.read_excel(file_path, header=3, date_parser=custom_date_parser)\n",
      "C:\\Users\\jaina\\AppData\\Local\\Temp\\ipykernel_31164\\3450862427.py:22: FutureWarning: The argument 'date_parser' is deprecated and will be removed in a future version. Please use 'date_format' instead, or read your data in as 'object' dtype and then call 'to_datetime'.\n",
      "  df = pd.read_excel(file_path, header=3, date_parser=custom_date_parser)\n",
      "C:\\Users\\jaina\\AppData\\Local\\Temp\\ipykernel_31164\\3450862427.py:22: FutureWarning: The argument 'date_parser' is deprecated and will be removed in a future version. Please use 'date_format' instead, or read your data in as 'object' dtype and then call 'to_datetime'.\n",
      "  df = pd.read_excel(file_path, header=3, date_parser=custom_date_parser)\n",
      "C:\\Users\\jaina\\AppData\\Local\\Temp\\ipykernel_31164\\3450862427.py:22: FutureWarning: The argument 'date_parser' is deprecated and will be removed in a future version. Please use 'date_format' instead, or read your data in as 'object' dtype and then call 'to_datetime'.\n",
      "  df = pd.read_excel(file_path, header=3, date_parser=custom_date_parser)\n",
      "C:\\Users\\jaina\\AppData\\Local\\Temp\\ipykernel_31164\\3450862427.py:22: FutureWarning: The argument 'date_parser' is deprecated and will be removed in a future version. Please use 'date_format' instead, or read your data in as 'object' dtype and then call 'to_datetime'.\n",
      "  df = pd.read_excel(file_path, header=3, date_parser=custom_date_parser)\n",
      "C:\\Users\\jaina\\AppData\\Local\\Temp\\ipykernel_31164\\3450862427.py:22: FutureWarning: The argument 'date_parser' is deprecated and will be removed in a future version. Please use 'date_format' instead, or read your data in as 'object' dtype and then call 'to_datetime'.\n",
      "  df = pd.read_excel(file_path, header=3, date_parser=custom_date_parser)\n",
      "C:\\Users\\jaina\\AppData\\Local\\Temp\\ipykernel_31164\\3450862427.py:22: FutureWarning: The argument 'date_parser' is deprecated and will be removed in a future version. Please use 'date_format' instead, or read your data in as 'object' dtype and then call 'to_datetime'.\n",
      "  df = pd.read_excel(file_path, header=3, date_parser=custom_date_parser)\n",
      "C:\\Users\\jaina\\AppData\\Local\\Temp\\ipykernel_31164\\3450862427.py:22: FutureWarning: The argument 'date_parser' is deprecated and will be removed in a future version. Please use 'date_format' instead, or read your data in as 'object' dtype and then call 'to_datetime'.\n",
      "  df = pd.read_excel(file_path, header=3, date_parser=custom_date_parser)\n",
      "C:\\Users\\jaina\\AppData\\Local\\Temp\\ipykernel_31164\\3450862427.py:22: FutureWarning: The argument 'date_parser' is deprecated and will be removed in a future version. Please use 'date_format' instead, or read your data in as 'object' dtype and then call 'to_datetime'.\n",
      "  df = pd.read_excel(file_path, header=3, date_parser=custom_date_parser)\n",
      "C:\\Users\\jaina\\AppData\\Local\\Temp\\ipykernel_31164\\3450862427.py:22: FutureWarning: The argument 'date_parser' is deprecated and will be removed in a future version. Please use 'date_format' instead, or read your data in as 'object' dtype and then call 'to_datetime'.\n",
      "  df = pd.read_excel(file_path, header=3, date_parser=custom_date_parser)\n",
      "C:\\Users\\jaina\\AppData\\Local\\Temp\\ipykernel_31164\\3450862427.py:22: FutureWarning: The argument 'date_parser' is deprecated and will be removed in a future version. Please use 'date_format' instead, or read your data in as 'object' dtype and then call 'to_datetime'.\n",
      "  df = pd.read_excel(file_path, header=3, date_parser=custom_date_parser)\n",
      "C:\\Users\\jaina\\AppData\\Local\\Temp\\ipykernel_31164\\3450862427.py:22: FutureWarning: The argument 'date_parser' is deprecated and will be removed in a future version. Please use 'date_format' instead, or read your data in as 'object' dtype and then call 'to_datetime'.\n",
      "  df = pd.read_excel(file_path, header=3, date_parser=custom_date_parser)\n",
      "C:\\Users\\jaina\\AppData\\Local\\Temp\\ipykernel_31164\\3450862427.py:22: FutureWarning: The argument 'date_parser' is deprecated and will be removed in a future version. Please use 'date_format' instead, or read your data in as 'object' dtype and then call 'to_datetime'.\n",
      "  df = pd.read_excel(file_path, header=3, date_parser=custom_date_parser)\n",
      "C:\\Users\\jaina\\AppData\\Local\\Temp\\ipykernel_31164\\3450862427.py:22: FutureWarning: The argument 'date_parser' is deprecated and will be removed in a future version. Please use 'date_format' instead, or read your data in as 'object' dtype and then call 'to_datetime'.\n",
      "  df = pd.read_excel(file_path, header=3, date_parser=custom_date_parser)\n",
      "C:\\Users\\jaina\\AppData\\Local\\Temp\\ipykernel_31164\\3450862427.py:22: FutureWarning: The argument 'date_parser' is deprecated and will be removed in a future version. Please use 'date_format' instead, or read your data in as 'object' dtype and then call 'to_datetime'.\n",
      "  df = pd.read_excel(file_path, header=3, date_parser=custom_date_parser)\n",
      "C:\\Users\\jaina\\AppData\\Local\\Temp\\ipykernel_31164\\3450862427.py:22: FutureWarning: The argument 'date_parser' is deprecated and will be removed in a future version. Please use 'date_format' instead, or read your data in as 'object' dtype and then call 'to_datetime'.\n",
      "  df = pd.read_excel(file_path, header=3, date_parser=custom_date_parser)\n",
      "C:\\Users\\jaina\\AppData\\Local\\Temp\\ipykernel_31164\\3450862427.py:22: FutureWarning: The argument 'date_parser' is deprecated and will be removed in a future version. Please use 'date_format' instead, or read your data in as 'object' dtype and then call 'to_datetime'.\n",
      "  df = pd.read_excel(file_path, header=3, date_parser=custom_date_parser)\n",
      "C:\\Users\\jaina\\AppData\\Local\\Temp\\ipykernel_31164\\3450862427.py:22: FutureWarning: The argument 'date_parser' is deprecated and will be removed in a future version. Please use 'date_format' instead, or read your data in as 'object' dtype and then call 'to_datetime'.\n",
      "  df = pd.read_excel(file_path, header=3, date_parser=custom_date_parser)\n",
      "C:\\Users\\jaina\\AppData\\Local\\Temp\\ipykernel_31164\\3450862427.py:22: FutureWarning: The argument 'date_parser' is deprecated and will be removed in a future version. Please use 'date_format' instead, or read your data in as 'object' dtype and then call 'to_datetime'.\n",
      "  df = pd.read_excel(file_path, header=3, date_parser=custom_date_parser)\n",
      "C:\\Users\\jaina\\AppData\\Local\\Temp\\ipykernel_31164\\3450862427.py:22: FutureWarning: The argument 'date_parser' is deprecated and will be removed in a future version. Please use 'date_format' instead, or read your data in as 'object' dtype and then call 'to_datetime'.\n",
      "  df = pd.read_excel(file_path, header=3, date_parser=custom_date_parser)\n",
      "C:\\Users\\jaina\\AppData\\Local\\Temp\\ipykernel_31164\\3450862427.py:22: FutureWarning: The argument 'date_parser' is deprecated and will be removed in a future version. Please use 'date_format' instead, or read your data in as 'object' dtype and then call 'to_datetime'.\n",
      "  df = pd.read_excel(file_path, header=3, date_parser=custom_date_parser)\n",
      "C:\\Users\\jaina\\AppData\\Local\\Temp\\ipykernel_31164\\3450862427.py:22: FutureWarning: The argument 'date_parser' is deprecated and will be removed in a future version. Please use 'date_format' instead, or read your data in as 'object' dtype and then call 'to_datetime'.\n",
      "  df = pd.read_excel(file_path, header=3, date_parser=custom_date_parser)\n",
      "C:\\Users\\jaina\\AppData\\Local\\Temp\\ipykernel_31164\\3450862427.py:22: FutureWarning: The argument 'date_parser' is deprecated and will be removed in a future version. Please use 'date_format' instead, or read your data in as 'object' dtype and then call 'to_datetime'.\n",
      "  df = pd.read_excel(file_path, header=3, date_parser=custom_date_parser)\n",
      "C:\\Users\\jaina\\AppData\\Local\\Temp\\ipykernel_31164\\3450862427.py:22: FutureWarning: The argument 'date_parser' is deprecated and will be removed in a future version. Please use 'date_format' instead, or read your data in as 'object' dtype and then call 'to_datetime'.\n",
      "  df = pd.read_excel(file_path, header=3, date_parser=custom_date_parser)\n",
      "C:\\Users\\jaina\\AppData\\Local\\Temp\\ipykernel_31164\\3450862427.py:22: FutureWarning: The argument 'date_parser' is deprecated and will be removed in a future version. Please use 'date_format' instead, or read your data in as 'object' dtype and then call 'to_datetime'.\n",
      "  df = pd.read_excel(file_path, header=3, date_parser=custom_date_parser)\n",
      "C:\\Users\\jaina\\AppData\\Local\\Temp\\ipykernel_31164\\3450862427.py:22: FutureWarning: The argument 'date_parser' is deprecated and will be removed in a future version. Please use 'date_format' instead, or read your data in as 'object' dtype and then call 'to_datetime'.\n",
      "  df = pd.read_excel(file_path, header=3, date_parser=custom_date_parser)\n",
      "C:\\Users\\jaina\\AppData\\Local\\Temp\\ipykernel_31164\\3450862427.py:22: FutureWarning: The argument 'date_parser' is deprecated and will be removed in a future version. Please use 'date_format' instead, or read your data in as 'object' dtype and then call 'to_datetime'.\n",
      "  df = pd.read_excel(file_path, header=3, date_parser=custom_date_parser)\n",
      "C:\\Users\\jaina\\AppData\\Local\\Temp\\ipykernel_31164\\3450862427.py:22: FutureWarning: The argument 'date_parser' is deprecated and will be removed in a future version. Please use 'date_format' instead, or read your data in as 'object' dtype and then call 'to_datetime'.\n",
      "  df = pd.read_excel(file_path, header=3, date_parser=custom_date_parser)\n",
      "C:\\Users\\jaina\\AppData\\Local\\Temp\\ipykernel_31164\\3450862427.py:22: FutureWarning: The argument 'date_parser' is deprecated and will be removed in a future version. Please use 'date_format' instead, or read your data in as 'object' dtype and then call 'to_datetime'.\n",
      "  df = pd.read_excel(file_path, header=3, date_parser=custom_date_parser)\n",
      "C:\\Users\\jaina\\AppData\\Local\\Temp\\ipykernel_31164\\3450862427.py:22: FutureWarning: The argument 'date_parser' is deprecated and will be removed in a future version. Please use 'date_format' instead, or read your data in as 'object' dtype and then call 'to_datetime'.\n",
      "  df = pd.read_excel(file_path, header=3, date_parser=custom_date_parser)\n",
      "C:\\Users\\jaina\\AppData\\Local\\Temp\\ipykernel_31164\\3450862427.py:22: FutureWarning: The argument 'date_parser' is deprecated and will be removed in a future version. Please use 'date_format' instead, or read your data in as 'object' dtype and then call 'to_datetime'.\n",
      "  df = pd.read_excel(file_path, header=3, date_parser=custom_date_parser)\n",
      "C:\\Users\\jaina\\AppData\\Local\\Temp\\ipykernel_31164\\3450862427.py:22: FutureWarning: The argument 'date_parser' is deprecated and will be removed in a future version. Please use 'date_format' instead, or read your data in as 'object' dtype and then call 'to_datetime'.\n",
      "  df = pd.read_excel(file_path, header=3, date_parser=custom_date_parser)\n",
      "C:\\Users\\jaina\\AppData\\Local\\Temp\\ipykernel_31164\\3450862427.py:22: FutureWarning: The argument 'date_parser' is deprecated and will be removed in a future version. Please use 'date_format' instead, or read your data in as 'object' dtype and then call 'to_datetime'.\n",
      "  df = pd.read_excel(file_path, header=3, date_parser=custom_date_parser)\n",
      "C:\\Users\\jaina\\AppData\\Local\\Temp\\ipykernel_31164\\3450862427.py:22: FutureWarning: The argument 'date_parser' is deprecated and will be removed in a future version. Please use 'date_format' instead, or read your data in as 'object' dtype and then call 'to_datetime'.\n",
      "  df = pd.read_excel(file_path, header=3, date_parser=custom_date_parser)\n",
      "C:\\Users\\jaina\\AppData\\Local\\Temp\\ipykernel_31164\\3450862427.py:22: FutureWarning: The argument 'date_parser' is deprecated and will be removed in a future version. Please use 'date_format' instead, or read your data in as 'object' dtype and then call 'to_datetime'.\n",
      "  df = pd.read_excel(file_path, header=3, date_parser=custom_date_parser)\n",
      "C:\\Users\\jaina\\AppData\\Local\\Temp\\ipykernel_31164\\3450862427.py:22: FutureWarning: The argument 'date_parser' is deprecated and will be removed in a future version. Please use 'date_format' instead, or read your data in as 'object' dtype and then call 'to_datetime'.\n",
      "  df = pd.read_excel(file_path, header=3, date_parser=custom_date_parser)\n",
      "C:\\Users\\jaina\\AppData\\Local\\Temp\\ipykernel_31164\\3450862427.py:22: FutureWarning: The argument 'date_parser' is deprecated and will be removed in a future version. Please use 'date_format' instead, or read your data in as 'object' dtype and then call 'to_datetime'.\n",
      "  df = pd.read_excel(file_path, header=3, date_parser=custom_date_parser)\n",
      "C:\\Users\\jaina\\AppData\\Local\\Temp\\ipykernel_31164\\3450862427.py:22: FutureWarning: The argument 'date_parser' is deprecated and will be removed in a future version. Please use 'date_format' instead, or read your data in as 'object' dtype and then call 'to_datetime'.\n",
      "  df = pd.read_excel(file_path, header=3, date_parser=custom_date_parser)\n",
      "C:\\Users\\jaina\\AppData\\Local\\Temp\\ipykernel_31164\\3450862427.py:22: FutureWarning: The argument 'date_parser' is deprecated and will be removed in a future version. Please use 'date_format' instead, or read your data in as 'object' dtype and then call 'to_datetime'.\n",
      "  df = pd.read_excel(file_path, header=3, date_parser=custom_date_parser)\n",
      "C:\\Users\\jaina\\AppData\\Local\\Temp\\ipykernel_31164\\3450862427.py:22: FutureWarning: The argument 'date_parser' is deprecated and will be removed in a future version. Please use 'date_format' instead, or read your data in as 'object' dtype and then call 'to_datetime'.\n",
      "  df = pd.read_excel(file_path, header=3, date_parser=custom_date_parser)\n",
      "C:\\Users\\jaina\\AppData\\Local\\Temp\\ipykernel_31164\\3450862427.py:22: FutureWarning: The argument 'date_parser' is deprecated and will be removed in a future version. Please use 'date_format' instead, or read your data in as 'object' dtype and then call 'to_datetime'.\n",
      "  df = pd.read_excel(file_path, header=3, date_parser=custom_date_parser)\n",
      "C:\\Users\\jaina\\AppData\\Local\\Temp\\ipykernel_31164\\3450862427.py:22: FutureWarning: The argument 'date_parser' is deprecated and will be removed in a future version. Please use 'date_format' instead, or read your data in as 'object' dtype and then call 'to_datetime'.\n",
      "  df = pd.read_excel(file_path, header=3, date_parser=custom_date_parser)\n",
      "C:\\Users\\jaina\\AppData\\Local\\Temp\\ipykernel_31164\\3450862427.py:22: FutureWarning: The argument 'date_parser' is deprecated and will be removed in a future version. Please use 'date_format' instead, or read your data in as 'object' dtype and then call 'to_datetime'.\n",
      "  df = pd.read_excel(file_path, header=3, date_parser=custom_date_parser)\n",
      "C:\\Users\\jaina\\AppData\\Local\\Temp\\ipykernel_31164\\3450862427.py:22: FutureWarning: The argument 'date_parser' is deprecated and will be removed in a future version. Please use 'date_format' instead, or read your data in as 'object' dtype and then call 'to_datetime'.\n",
      "  df = pd.read_excel(file_path, header=3, date_parser=custom_date_parser)\n",
      "C:\\Users\\jaina\\AppData\\Local\\Temp\\ipykernel_31164\\3450862427.py:22: FutureWarning: The argument 'date_parser' is deprecated and will be removed in a future version. Please use 'date_format' instead, or read your data in as 'object' dtype and then call 'to_datetime'.\n",
      "  df = pd.read_excel(file_path, header=3, date_parser=custom_date_parser)\n",
      "C:\\Users\\jaina\\AppData\\Local\\Temp\\ipykernel_31164\\3450862427.py:22: FutureWarning: The argument 'date_parser' is deprecated and will be removed in a future version. Please use 'date_format' instead, or read your data in as 'object' dtype and then call 'to_datetime'.\n",
      "  df = pd.read_excel(file_path, header=3, date_parser=custom_date_parser)\n",
      "C:\\Users\\jaina\\AppData\\Local\\Temp\\ipykernel_31164\\3450862427.py:22: FutureWarning: The argument 'date_parser' is deprecated and will be removed in a future version. Please use 'date_format' instead, or read your data in as 'object' dtype and then call 'to_datetime'.\n",
      "  df = pd.read_excel(file_path, header=3, date_parser=custom_date_parser)\n",
      "C:\\Users\\jaina\\AppData\\Local\\Temp\\ipykernel_31164\\3450862427.py:22: FutureWarning: The argument 'date_parser' is deprecated and will be removed in a future version. Please use 'date_format' instead, or read your data in as 'object' dtype and then call 'to_datetime'.\n",
      "  df = pd.read_excel(file_path, header=3, date_parser=custom_date_parser)\n",
      "C:\\Users\\jaina\\AppData\\Local\\Temp\\ipykernel_31164\\3450862427.py:22: FutureWarning: The argument 'date_parser' is deprecated and will be removed in a future version. Please use 'date_format' instead, or read your data in as 'object' dtype and then call 'to_datetime'.\n",
      "  df = pd.read_excel(file_path, header=3, date_parser=custom_date_parser)\n",
      "C:\\Users\\jaina\\AppData\\Local\\Temp\\ipykernel_31164\\3450862427.py:22: FutureWarning: The argument 'date_parser' is deprecated and will be removed in a future version. Please use 'date_format' instead, or read your data in as 'object' dtype and then call 'to_datetime'.\n",
      "  df = pd.read_excel(file_path, header=3, date_parser=custom_date_parser)\n",
      "C:\\Users\\jaina\\AppData\\Local\\Temp\\ipykernel_31164\\3450862427.py:22: FutureWarning: The argument 'date_parser' is deprecated and will be removed in a future version. Please use 'date_format' instead, or read your data in as 'object' dtype and then call 'to_datetime'.\n",
      "  df = pd.read_excel(file_path, header=3, date_parser=custom_date_parser)\n",
      "C:\\Users\\jaina\\AppData\\Local\\Temp\\ipykernel_31164\\3450862427.py:22: FutureWarning: The argument 'date_parser' is deprecated and will be removed in a future version. Please use 'date_format' instead, or read your data in as 'object' dtype and then call 'to_datetime'.\n",
      "  df = pd.read_excel(file_path, header=3, date_parser=custom_date_parser)\n",
      "C:\\Users\\jaina\\AppData\\Local\\Temp\\ipykernel_31164\\3450862427.py:22: FutureWarning: The argument 'date_parser' is deprecated and will be removed in a future version. Please use 'date_format' instead, or read your data in as 'object' dtype and then call 'to_datetime'.\n",
      "  df = pd.read_excel(file_path, header=3, date_parser=custom_date_parser)\n",
      "C:\\Users\\jaina\\AppData\\Local\\Temp\\ipykernel_31164\\3450862427.py:22: FutureWarning: The argument 'date_parser' is deprecated and will be removed in a future version. Please use 'date_format' instead, or read your data in as 'object' dtype and then call 'to_datetime'.\n",
      "  df = pd.read_excel(file_path, header=3, date_parser=custom_date_parser)\n"
     ]
    }
   ],
   "source": [
    "def custom_date_parser(date_string):\n",
    "    return pd.to_datetime(date_string, format='%d-%m-%Y %H:%M:%S')\n",
    "\n",
    "# Specify the path to the main directory containing folders and files\n",
    "path = 'D:\\\\mlinternship\\\\iitgdata'\n",
    "folders = [folder for folder in os.listdir(path) if os.path.isdir(os.path.join(path, folder))]\n",
    "df_list = []\n",
    "\n",
    "# Iterate through each folder\n",
    "for folder in folders:\n",
    "    # Construct the full path to the current folder\n",
    "    folder_path = os.path.join(path, folder)\n",
    "\n",
    "    # Iterate through files in the current folder\n",
    "    for filename in os.listdir(folder_path):\n",
    "        # Check if the file has the '.xlsx' extension\n",
    "        if filename.endswith('.xlsx'):\n",
    "            # Construct the full path to the Excel file\n",
    "            file_path = os.path.join(folder_path, filename)\n",
    "\n",
    "            # Use the custom date parser function\n",
    "            df = pd.read_excel(file_path, header=3, date_parser=custom_date_parser)\n",
    "\n",
    "            # Append the dataframe to the list\n",
    "            df_list.append(df)\n"
   ],
   "metadata": {
    "collapsed": false,
    "ExecuteTime": {
     "end_time": "2023-10-24T09:24:43.429744700Z",
     "start_time": "2023-10-24T09:24:33.512034900Z"
    }
   }
  },
  {
   "cell_type": "code",
   "execution_count": 3,
   "outputs": [
    {
     "data": {
      "text/plain": "        Month         MW\n0  2022-01-01  1415.4245\n1  2022-02-01  1353.4260\n2  2022-03-01  2254.4145\n3  2022-04-01  2269.1010\n4  2022-05-01  2690.4150\n5  2022-06-01  2708.4910\n6  2022-07-01  3113.6625\n7  2022-08-01  3606.0495\n8  2022-09-01  3335.3190\n9  2022-10-01  2787.5835\n10 2022-11-01  2230.0764\n11 2022-12-01  1809.5913\n12 2023-01-01  1859.8434\n13 2023-02-01  1829.5317\n14 2023-03-01  2238.3650\n15 2023-04-01  2615.2850\n16 2023-05-01        NaN\n17 2023-06-01  3112.0245\n18 2023-07-01  3376.0350\n19 2023-08-01  3896.1580",
      "text/html": "<div>\n<style scoped>\n    .dataframe tbody tr th:only-of-type {\n        vertical-align: middle;\n    }\n\n    .dataframe tbody tr th {\n        vertical-align: top;\n    }\n\n    .dataframe thead th {\n        text-align: right;\n    }\n</style>\n<table border=\"1\" class=\"dataframe\">\n  <thead>\n    <tr style=\"text-align: right;\">\n      <th></th>\n      <th>Month</th>\n      <th>MW</th>\n    </tr>\n  </thead>\n  <tbody>\n    <tr>\n      <th>0</th>\n      <td>2022-01-01</td>\n      <td>1415.4245</td>\n    </tr>\n    <tr>\n      <th>1</th>\n      <td>2022-02-01</td>\n      <td>1353.4260</td>\n    </tr>\n    <tr>\n      <th>2</th>\n      <td>2022-03-01</td>\n      <td>2254.4145</td>\n    </tr>\n    <tr>\n      <th>3</th>\n      <td>2022-04-01</td>\n      <td>2269.1010</td>\n    </tr>\n    <tr>\n      <th>4</th>\n      <td>2022-05-01</td>\n      <td>2690.4150</td>\n    </tr>\n    <tr>\n      <th>5</th>\n      <td>2022-06-01</td>\n      <td>2708.4910</td>\n    </tr>\n    <tr>\n      <th>6</th>\n      <td>2022-07-01</td>\n      <td>3113.6625</td>\n    </tr>\n    <tr>\n      <th>7</th>\n      <td>2022-08-01</td>\n      <td>3606.0495</td>\n    </tr>\n    <tr>\n      <th>8</th>\n      <td>2022-09-01</td>\n      <td>3335.3190</td>\n    </tr>\n    <tr>\n      <th>9</th>\n      <td>2022-10-01</td>\n      <td>2787.5835</td>\n    </tr>\n    <tr>\n      <th>10</th>\n      <td>2022-11-01</td>\n      <td>2230.0764</td>\n    </tr>\n    <tr>\n      <th>11</th>\n      <td>2022-12-01</td>\n      <td>1809.5913</td>\n    </tr>\n    <tr>\n      <th>12</th>\n      <td>2023-01-01</td>\n      <td>1859.8434</td>\n    </tr>\n    <tr>\n      <th>13</th>\n      <td>2023-02-01</td>\n      <td>1829.5317</td>\n    </tr>\n    <tr>\n      <th>14</th>\n      <td>2023-03-01</td>\n      <td>2238.3650</td>\n    </tr>\n    <tr>\n      <th>15</th>\n      <td>2023-04-01</td>\n      <td>2615.2850</td>\n    </tr>\n    <tr>\n      <th>16</th>\n      <td>2023-05-01</td>\n      <td>NaN</td>\n    </tr>\n    <tr>\n      <th>17</th>\n      <td>2023-06-01</td>\n      <td>3112.0245</td>\n    </tr>\n    <tr>\n      <th>18</th>\n      <td>2023-07-01</td>\n      <td>3376.0350</td>\n    </tr>\n    <tr>\n      <th>19</th>\n      <td>2023-08-01</td>\n      <td>3896.1580</td>\n    </tr>\n  </tbody>\n</table>\n</div>"
     },
     "execution_count": 3,
     "metadata": {},
     "output_type": "execute_result"
    },
    {
     "data": {
      "text/plain": "        Month  Number of units of electricity consumed         MW\n0  2022-01-01                                1415424.5  1415.4245\n1  2022-02-01                                1353426.0  1353.4260\n2  2022-03-01                                2254414.5  2254.4145\n3  2022-04-01                                2269101.0  2269.1010\n4  2022-05-01                                2690415.0  2690.4150\n5  2022-06-01                                2708491.0  2708.4910\n6  2022-07-01                                3113662.5  3113.6625\n7  2022-08-01                                3606049.5  3606.0495\n8  2022-09-01                                3335319.0  3335.3190\n9  2022-10-01                                2787583.5  2787.5835\n10 2022-11-01                                2230076.4  2230.0764\n11 2022-12-01                                1809591.3  1809.5913\n12 2023-01-01                                1859843.4  1859.8434\n13 2023-02-01                                1829531.7  1829.5317\n14 2023-03-01                                2238365.0  2238.3650\n15 2023-04-01                                2615285.0  2615.2850\n16 2023-05-01                                      NaN        NaN\n17 2023-06-01                                3112024.5  3112.0245\n18 2023-07-01                                3376035.0  3376.0350\n19 2023-08-01                                3896158.0  3896.1580",
      "text/html": "<div>\n<style scoped>\n    .dataframe tbody tr th:only-of-type {\n        vertical-align: middle;\n    }\n\n    .dataframe tbody tr th {\n        vertical-align: top;\n    }\n\n    .dataframe thead th {\n        text-align: right;\n    }\n</style>\n<table border=\"1\" class=\"dataframe\">\n  <thead>\n    <tr style=\"text-align: right;\">\n      <th></th>\n      <th>Month</th>\n      <th>Number of units of electricity consumed</th>\n      <th>MW</th>\n    </tr>\n  </thead>\n  <tbody>\n    <tr>\n      <th>0</th>\n      <td>2022-01-01</td>\n      <td>1415424.5</td>\n      <td>1415.4245</td>\n    </tr>\n    <tr>\n      <th>1</th>\n      <td>2022-02-01</td>\n      <td>1353426.0</td>\n      <td>1353.4260</td>\n    </tr>\n    <tr>\n      <th>2</th>\n      <td>2022-03-01</td>\n      <td>2254414.5</td>\n      <td>2254.4145</td>\n    </tr>\n    <tr>\n      <th>3</th>\n      <td>2022-04-01</td>\n      <td>2269101.0</td>\n      <td>2269.1010</td>\n    </tr>\n    <tr>\n      <th>4</th>\n      <td>2022-05-01</td>\n      <td>2690415.0</td>\n      <td>2690.4150</td>\n    </tr>\n    <tr>\n      <th>5</th>\n      <td>2022-06-01</td>\n      <td>2708491.0</td>\n      <td>2708.4910</td>\n    </tr>\n    <tr>\n      <th>6</th>\n      <td>2022-07-01</td>\n      <td>3113662.5</td>\n      <td>3113.6625</td>\n    </tr>\n    <tr>\n      <th>7</th>\n      <td>2022-08-01</td>\n      <td>3606049.5</td>\n      <td>3606.0495</td>\n    </tr>\n    <tr>\n      <th>8</th>\n      <td>2022-09-01</td>\n      <td>3335319.0</td>\n      <td>3335.3190</td>\n    </tr>\n    <tr>\n      <th>9</th>\n      <td>2022-10-01</td>\n      <td>2787583.5</td>\n      <td>2787.5835</td>\n    </tr>\n    <tr>\n      <th>10</th>\n      <td>2022-11-01</td>\n      <td>2230076.4</td>\n      <td>2230.0764</td>\n    </tr>\n    <tr>\n      <th>11</th>\n      <td>2022-12-01</td>\n      <td>1809591.3</td>\n      <td>1809.5913</td>\n    </tr>\n    <tr>\n      <th>12</th>\n      <td>2023-01-01</td>\n      <td>1859843.4</td>\n      <td>1859.8434</td>\n    </tr>\n    <tr>\n      <th>13</th>\n      <td>2023-02-01</td>\n      <td>1829531.7</td>\n      <td>1829.5317</td>\n    </tr>\n    <tr>\n      <th>14</th>\n      <td>2023-03-01</td>\n      <td>2238365.0</td>\n      <td>2238.3650</td>\n    </tr>\n    <tr>\n      <th>15</th>\n      <td>2023-04-01</td>\n      <td>2615285.0</td>\n      <td>2615.2850</td>\n    </tr>\n    <tr>\n      <th>16</th>\n      <td>2023-05-01</td>\n      <td>NaN</td>\n      <td>NaN</td>\n    </tr>\n    <tr>\n      <th>17</th>\n      <td>2023-06-01</td>\n      <td>3112024.5</td>\n      <td>3112.0245</td>\n    </tr>\n    <tr>\n      <th>18</th>\n      <td>2023-07-01</td>\n      <td>3376035.0</td>\n      <td>3376.0350</td>\n    </tr>\n    <tr>\n      <th>19</th>\n      <td>2023-08-01</td>\n      <td>3896158.0</td>\n      <td>3896.1580</td>\n    </tr>\n  </tbody>\n</table>\n</div>"
     },
     "execution_count": 3,
     "metadata": {},
     "output_type": "execute_result"
    }
   ],
   "source": [
    "bill_path = 'D:\\\\mlinternship\\\\IITGuwahatiElectricityBills'\n",
    "for filename in os.listdir(bill_path):\n",
    "    # Check if the file has the '.xlsx' extension\n",
    "    if filename.endswith('.xlsx'):\n",
    "        file_path = os.path.join(bill_path, filename)\n",
    "        # Use the custom date parser function\n",
    "        bill_df = pd.read_excel(file_path)\n",
    "\n",
    "bill_df['Month'] = pd.to_datetime(bill_df['Month'])\n",
    "#I assumed its in kilowatts\n",
    "bill_df['MW'] = bill_df['Number of units of electricity consumed']/1000\n",
    "bill_df.drop(['Number of units of electricity consumed'], axis=1)\n",
    "bill_df"
   ],
   "metadata": {
    "collapsed": false,
    "ExecuteTime": {
     "end_time": "2023-10-24T09:24:43.492088Z",
     "start_time": "2023-10-24T09:24:43.429744700Z"
    }
   }
  },
  {
   "cell_type": "code",
   "execution_count": 4,
   "outputs": [
    {
     "data": {
      "text/plain": "                    Time  MW\n0    2022-01-16 02:00:00 NaN\n1    2022-01-17 02:00:00 NaN\n2    2022-01-18 02:00:00 NaN\n3    2022-01-19 02:00:00 NaN\n4    2022-01-20 02:00:00 NaN\n...                  ...  ..\n7438                 NaT NaN\n7439                 NaT NaN\n7440                 NaT NaN\n7441                 NaT NaN\n7442                 NaT NaN\n\n[7443 rows x 2 columns]",
      "text/html": "<div>\n<style scoped>\n    .dataframe tbody tr th:only-of-type {\n        vertical-align: middle;\n    }\n\n    .dataframe tbody tr th {\n        vertical-align: top;\n    }\n\n    .dataframe thead th {\n        text-align: right;\n    }\n</style>\n<table border=\"1\" class=\"dataframe\">\n  <thead>\n    <tr style=\"text-align: right;\">\n      <th></th>\n      <th>Time</th>\n      <th>MW</th>\n    </tr>\n  </thead>\n  <tbody>\n    <tr>\n      <th>0</th>\n      <td>2022-01-16 02:00:00</td>\n      <td>NaN</td>\n    </tr>\n    <tr>\n      <th>1</th>\n      <td>2022-01-17 02:00:00</td>\n      <td>NaN</td>\n    </tr>\n    <tr>\n      <th>2</th>\n      <td>2022-01-18 02:00:00</td>\n      <td>NaN</td>\n    </tr>\n    <tr>\n      <th>3</th>\n      <td>2022-01-19 02:00:00</td>\n      <td>NaN</td>\n    </tr>\n    <tr>\n      <th>4</th>\n      <td>2022-01-20 02:00:00</td>\n      <td>NaN</td>\n    </tr>\n    <tr>\n      <th>...</th>\n      <td>...</td>\n      <td>...</td>\n    </tr>\n    <tr>\n      <th>7438</th>\n      <td>NaT</td>\n      <td>NaN</td>\n    </tr>\n    <tr>\n      <th>7439</th>\n      <td>NaT</td>\n      <td>NaN</td>\n    </tr>\n    <tr>\n      <th>7440</th>\n      <td>NaT</td>\n      <td>NaN</td>\n    </tr>\n    <tr>\n      <th>7441</th>\n      <td>NaT</td>\n      <td>NaN</td>\n    </tr>\n    <tr>\n      <th>7442</th>\n      <td>NaT</td>\n      <td>NaN</td>\n    </tr>\n  </tbody>\n</table>\n<p>7443 rows × 2 columns</p>\n</div>"
     },
     "execution_count": 4,
     "metadata": {},
     "output_type": "execute_result"
    }
   ],
   "source": [
    "power_df = pd.concat(df_list, ignore_index=True)\n",
    "power_df.to_csv('power_datacsv.csv')\n",
    "power_df['Time'] = pd.to_datetime(power_df['Time'])\n",
    "power_df['Time'] = power_df['Time'].round('min')\n",
    "#replace all the 'NR' values in MW column to NaN\n",
    "power_df['MW'] = power_df['MW'].replace('NR', np.nan)\n",
    "power_df['MW'] = power_df['MW'].replace('nr', np.nan)\n",
    "power_df = power_df[['Time', 'MW']]\n",
    "#power_df.dropna(subset=['Time'], inplace=True)\n",
    "power_df['MW'] = power_df['MW'].astype(str)\n",
    "power_df['MW'] = pd.to_numeric(power_df['MW'].str.replace(',', '.'), errors='coerce')\n",
    "power_df['Time'] = pd.to_datetime(power_df['Time'])\n",
    "power_df = power_df.sort_values('Time')\n",
    "power_df.reset_index(drop = True, inplace = True)\n",
    "power_df"
   ],
   "metadata": {
    "collapsed": false,
    "ExecuteTime": {
     "end_time": "2023-10-24T09:24:44.008895400Z",
     "start_time": "2023-10-24T09:24:43.489762200Z"
    }
   }
  },
  {
   "cell_type": "code",
   "execution_count": 5,
   "outputs": [],
   "source": [
    "# read the temperature data csv\n",
    "temperature_data_csv_path = 'D:\\\\mlinternship\\\\iitgdata\\\\temperaturedata'\n",
    "filename = 'guwahati_temperature_data.csv'\n",
    "file = os.path.join(temperature_data_csv_path, filename)\n",
    "temperature_df = pd.read_csv(file)\n",
    "temperature_df.rename(columns={'valid': 'Time'}, inplace = True)\n",
    "temperature_df = temperature_df.rename(columns={'tmpc': 'temperature'})\n",
    "temperature_df = temperature_df[['Time', 'temperature']]\n",
    "temperature_df['Time'] = pd.to_datetime(temperature_df['Time'])\n",
    "temperature_df['Time'] = pd.DatetimeIndex(temperature_df['Time']) + timedelta(hours=5,minutes=30)\n",
    "temperature_df['temperature'] = pd.to_numeric(temperature_df['temperature'], errors='coerce')\n",
    "temperature_df.set_index('Time', inplace=True)\n",
    "temperature_df['temperature'] = temperature_df['temperature'].interpolate(method='polynomial', order = 5)\n",
    "temperature_df.reset_index(inplace=True)\n"
   ],
   "metadata": {
    "collapsed": false,
    "ExecuteTime": {
     "end_time": "2023-10-24T09:24:44.146098900Z",
     "start_time": "2023-10-24T09:24:44.012935600Z"
    }
   }
  },
  {
   "cell_type": "code",
   "execution_count": 6,
   "outputs": [
    {
     "data": {
      "text/plain": "                    Time    MW  temperature\n0    2022-02-07 00:00:00  2.18    12.000000\n1    2022-02-07 01:00:00  2.05    11.633781\n2    2022-02-07 02:00:00   NaN    11.703556\n3    2022-02-07 03:00:00  1.71    12.000000\n4    2022-02-07 04:00:00   NaN    12.000000\n...                  ...   ...          ...\n5753 2022-12-25 18:00:00   NaN    19.000000\n5754 2022-12-25 19:00:00  2.60    18.000000\n5755 2022-12-25 20:00:00   NaN    18.000000\n5756 2022-12-25 21:00:00  2.60    18.000000\n5757 2022-12-25 23:00:00  2.40    18.000000\n\n[5758 rows x 3 columns]",
      "text/html": "<div>\n<style scoped>\n    .dataframe tbody tr th:only-of-type {\n        vertical-align: middle;\n    }\n\n    .dataframe tbody tr th {\n        vertical-align: top;\n    }\n\n    .dataframe thead th {\n        text-align: right;\n    }\n</style>\n<table border=\"1\" class=\"dataframe\">\n  <thead>\n    <tr style=\"text-align: right;\">\n      <th></th>\n      <th>Time</th>\n      <th>MW</th>\n      <th>temperature</th>\n    </tr>\n  </thead>\n  <tbody>\n    <tr>\n      <th>0</th>\n      <td>2022-02-07 00:00:00</td>\n      <td>2.18</td>\n      <td>12.000000</td>\n    </tr>\n    <tr>\n      <th>1</th>\n      <td>2022-02-07 01:00:00</td>\n      <td>2.05</td>\n      <td>11.633781</td>\n    </tr>\n    <tr>\n      <th>2</th>\n      <td>2022-02-07 02:00:00</td>\n      <td>NaN</td>\n      <td>11.703556</td>\n    </tr>\n    <tr>\n      <th>3</th>\n      <td>2022-02-07 03:00:00</td>\n      <td>1.71</td>\n      <td>12.000000</td>\n    </tr>\n    <tr>\n      <th>4</th>\n      <td>2022-02-07 04:00:00</td>\n      <td>NaN</td>\n      <td>12.000000</td>\n    </tr>\n    <tr>\n      <th>...</th>\n      <td>...</td>\n      <td>...</td>\n      <td>...</td>\n    </tr>\n    <tr>\n      <th>5753</th>\n      <td>2022-12-25 18:00:00</td>\n      <td>NaN</td>\n      <td>19.000000</td>\n    </tr>\n    <tr>\n      <th>5754</th>\n      <td>2022-12-25 19:00:00</td>\n      <td>2.60</td>\n      <td>18.000000</td>\n    </tr>\n    <tr>\n      <th>5755</th>\n      <td>2022-12-25 20:00:00</td>\n      <td>NaN</td>\n      <td>18.000000</td>\n    </tr>\n    <tr>\n      <th>5756</th>\n      <td>2022-12-25 21:00:00</td>\n      <td>2.60</td>\n      <td>18.000000</td>\n    </tr>\n    <tr>\n      <th>5757</th>\n      <td>2022-12-25 23:00:00</td>\n      <td>2.40</td>\n      <td>18.000000</td>\n    </tr>\n  </tbody>\n</table>\n<p>5758 rows × 3 columns</p>\n</div>"
     },
     "execution_count": 6,
     "metadata": {},
     "output_type": "execute_result"
    },
    {
     "data": {
      "text/plain": "                    Time    MW  temperature\n160  2022-02-07 00:00:00  2.18    12.000000\n161  2022-02-07 01:00:00  2.05    11.633781\n162  2022-02-07 02:00:00   NaN    11.703556\n163  2022-02-07 03:00:00  1.71    12.000000\n164  2022-02-07 04:00:00   NaN    12.000000\n...                  ...   ...          ...\n5914 2022-12-25 18:00:00   NaN    19.000000\n5915 2022-12-25 19:00:00  2.60    18.000000\n5916 2022-12-25 20:00:00   NaN    18.000000\n5917 2022-12-25 21:00:00  2.60    18.000000\n5918 2022-12-25 23:00:00  2.40    18.000000\n\n[5758 rows x 3 columns]",
      "text/html": "<div>\n<style scoped>\n    .dataframe tbody tr th:only-of-type {\n        vertical-align: middle;\n    }\n\n    .dataframe tbody tr th {\n        vertical-align: top;\n    }\n\n    .dataframe thead th {\n        text-align: right;\n    }\n</style>\n<table border=\"1\" class=\"dataframe\">\n  <thead>\n    <tr style=\"text-align: right;\">\n      <th></th>\n      <th>Time</th>\n      <th>MW</th>\n      <th>temperature</th>\n    </tr>\n  </thead>\n  <tbody>\n    <tr>\n      <th>160</th>\n      <td>2022-02-07 00:00:00</td>\n      <td>2.18</td>\n      <td>12.000000</td>\n    </tr>\n    <tr>\n      <th>161</th>\n      <td>2022-02-07 01:00:00</td>\n      <td>2.05</td>\n      <td>11.633781</td>\n    </tr>\n    <tr>\n      <th>162</th>\n      <td>2022-02-07 02:00:00</td>\n      <td>NaN</td>\n      <td>11.703556</td>\n    </tr>\n    <tr>\n      <th>163</th>\n      <td>2022-02-07 03:00:00</td>\n      <td>1.71</td>\n      <td>12.000000</td>\n    </tr>\n    <tr>\n      <th>164</th>\n      <td>2022-02-07 04:00:00</td>\n      <td>NaN</td>\n      <td>12.000000</td>\n    </tr>\n    <tr>\n      <th>...</th>\n      <td>...</td>\n      <td>...</td>\n      <td>...</td>\n    </tr>\n    <tr>\n      <th>5914</th>\n      <td>2022-12-25 18:00:00</td>\n      <td>NaN</td>\n      <td>19.000000</td>\n    </tr>\n    <tr>\n      <th>5915</th>\n      <td>2022-12-25 19:00:00</td>\n      <td>2.60</td>\n      <td>18.000000</td>\n    </tr>\n    <tr>\n      <th>5916</th>\n      <td>2022-12-25 20:00:00</td>\n      <td>NaN</td>\n      <td>18.000000</td>\n    </tr>\n    <tr>\n      <th>5917</th>\n      <td>2022-12-25 21:00:00</td>\n      <td>2.60</td>\n      <td>18.000000</td>\n    </tr>\n    <tr>\n      <th>5918</th>\n      <td>2022-12-25 23:00:00</td>\n      <td>2.40</td>\n      <td>18.000000</td>\n    </tr>\n  </tbody>\n</table>\n<p>5758 rows × 3 columns</p>\n</div>"
     },
     "execution_count": 6,
     "metadata": {},
     "output_type": "execute_result"
    }
   ],
   "source": [
    "df = pd.merge(power_df, temperature_df, on='Time', how='left')\n",
    "df['temperature'] = df['temperature'].interpolate(method='polynomial', order = 5)\n",
    "df['Time'] = pd.to_datetime(df['Time'])\n",
    "full_model_start_time = pd.Timestamp('2022-02-07 00:00:00')\n",
    "full_model_end_time = pd.Timestamp('2022-12-25 23:00:00')\n",
    "df = df[(df['Time'] >= full_model_start_time) & (df['Time'] <= full_model_end_time)]\n",
    "df = df.drop(df[df['MW'] > 20].index)\n",
    "df = df.sort_values('Time')\n",
    "df.reset_index(drop=True)\n",
    "df"
   ],
   "metadata": {
    "collapsed": false,
    "ExecuteTime": {
     "end_time": "2023-10-24T09:24:44.166449800Z",
     "start_time": "2023-10-24T09:24:44.091789400Z"
    }
   }
  },
  {
   "cell_type": "code",
   "execution_count": 7,
   "outputs": [
    {
     "data": {
      "text/plain": "\"start_date = datetime(2022, 8, 1, 10, 0, 0)  # August 1st, 2022, 10:00:00 AM\\nend_date = datetime(2022, 8, 28, 22, 0, 0)  # August 28th, 2022, 10:00:00 PM\\n\\n# Generate 100 random timestamps within the constraints\\nrandom_times = []\\nfor _ in range(100):\\n    random_hour = random.randint(10, 22)  # Random hour between 10 AM and 10 PM\\n    minute = 0\\n    second = 0\\n    random_time = datetime(2022, 8, random.randint(1, 28), random_hour, minute, second)\\n    random_times.append(random_time)\\n\\n# Convert the random timestamps to string format\\nrandom_time_strings = [time.strftime('%Y-%m-%d %H:%M:%S') for time in random_times]\\n\\n# Drop rows with the generated random timestamps from df\\ndf = df[~df['Time'].isin(random_time_strings)]\\ndf\""
     },
     "execution_count": 7,
     "metadata": {},
     "output_type": "execute_result"
    }
   ],
   "source": [
    "'''start_date = datetime(2022, 8, 1, 10, 0, 0)  # August 1st, 2022, 10:00:00 AM\n",
    "end_date = datetime(2022, 8, 28, 22, 0, 0)  # August 28th, 2022, 10:00:00 PM\n",
    "\n",
    "# Generate 100 random timestamps within the constraints\n",
    "random_times = []\n",
    "for _ in range(100):\n",
    "    random_hour = random.randint(10, 22)  # Random hour between 10 AM and 10 PM\n",
    "    minute = 0\n",
    "    second = 0\n",
    "    random_time = datetime(2022, 8, random.randint(1, 28), random_hour, minute, second)\n",
    "    random_times.append(random_time)\n",
    "\n",
    "# Convert the random timestamps to string format\n",
    "random_time_strings = [time.strftime('%Y-%m-%d %H:%M:%S') for time in random_times]\n",
    "\n",
    "# Drop rows with the generated random timestamps from df\n",
    "df = df[~df['Time'].isin(random_time_strings)]\n",
    "df'''"
   ],
   "metadata": {
    "collapsed": false,
    "ExecuteTime": {
     "end_time": "2023-10-24T09:24:44.166449800Z",
     "start_time": "2023-10-24T09:24:44.139116100Z"
    }
   }
  },
  {
   "cell_type": "code",
   "execution_count": 8,
   "outputs": [],
   "source": [
    "TcoolStPt = 31\n",
    "CDH = df['temperature'] - TcoolStPt\n",
    "CDH.clip(lower=0, inplace=True)\n",
    "CDH = pd.DataFrame(data=CDH.values, columns=['CDH'], index=df.index)\n",
    "# Concatenate CDH with the original DataFrame using the index\n",
    "df = pd.concat([df, CDH], axis=1)\n",
    "df = df.sort_values('Time')\n",
    "df.reset_index(inplace=True, drop = True)"
   ],
   "metadata": {
    "collapsed": false,
    "ExecuteTime": {
     "end_time": "2023-10-24T09:24:44.183104100Z",
     "start_time": "2023-10-24T09:24:44.146098900Z"
    }
   }
  },
  {
   "cell_type": "code",
   "execution_count": 9,
   "outputs": [
    {
     "data": {
      "text/plain": "                    Time    MW temperature  CDH omega1 omega2 omega3 omega4  \\\n0    2022-02-07 00:00:00  2.18        12.0  0.0    1.0    0.0    0.0    0.0   \n1    2022-02-07 01:00:00  2.05   11.633781  0.0    0.0    1.0    0.0    0.0   \n2    2022-02-07 02:00:00   NaN   11.703556  0.0    0.0    0.0    1.0    0.0   \n3    2022-02-07 03:00:00  1.71        12.0  0.0    0.0    0.0    0.0    1.0   \n4    2022-02-07 04:00:00   NaN        12.0  0.0    0.0    0.0    0.0    0.0   \n...                  ...   ...         ...  ...    ...    ...    ...    ...   \n5753 2022-12-25 18:00:00   NaN        19.0  0.0    0.0    0.0    0.0    0.0   \n5754 2022-12-25 19:00:00   2.6        18.0  0.0    0.0    0.0    0.0    0.0   \n5755 2022-12-25 20:00:00   NaN        18.0  0.0    0.0    0.0    0.0    0.0   \n5756 2022-12-25 21:00:00   2.6        18.0  0.0    0.0    0.0    0.0    0.0   \n5757 2022-12-25 23:00:00   2.4        18.0  0.0    0.0    0.0    0.0    0.0   \n\n     omega5 omega6  ... omega159 omega160 omega161 omega162 omega163 omega164  \\\n0       0.0    0.0  ...      0.0      0.0      0.0      0.0      0.0      0.0   \n1       0.0    0.0  ...      0.0      0.0      0.0      0.0      0.0      0.0   \n2       0.0    0.0  ...      0.0      0.0      0.0      0.0      0.0      0.0   \n3       0.0    0.0  ...      0.0      0.0      0.0      0.0      0.0      0.0   \n4       1.0    0.0  ...      0.0      0.0      0.0      0.0      0.0      0.0   \n...     ...    ...  ...      ...      ...      ...      ...      ...      ...   \n5753    0.0    0.0  ...      0.0      0.0      0.0      0.0      1.0      0.0   \n5754    0.0    0.0  ...      0.0      0.0      0.0      0.0      0.0      1.0   \n5755    0.0    0.0  ...      0.0      0.0      0.0      0.0      0.0      0.0   \n5756    0.0    0.0  ...      0.0      0.0      0.0      0.0      0.0      0.0   \n5757    0.0    0.0  ...      0.0      0.0      0.0      0.0      0.0      0.0   \n\n     omega165 omega166 omega167 omega168  \n0         0.0      0.0      0.0      0.0  \n1         0.0      0.0      0.0      0.0  \n2         0.0      0.0      0.0      0.0  \n3         0.0      0.0      0.0      0.0  \n4         0.0      0.0      0.0      0.0  \n...       ...      ...      ...      ...  \n5753      0.0      0.0      0.0      0.0  \n5754      0.0      0.0      0.0      0.0  \n5755      1.0      0.0      0.0      0.0  \n5756      0.0      1.0      0.0      0.0  \n5757      0.0      0.0      0.0      1.0  \n\n[5758 rows x 172 columns]",
      "text/html": "<div>\n<style scoped>\n    .dataframe tbody tr th:only-of-type {\n        vertical-align: middle;\n    }\n\n    .dataframe tbody tr th {\n        vertical-align: top;\n    }\n\n    .dataframe thead th {\n        text-align: right;\n    }\n</style>\n<table border=\"1\" class=\"dataframe\">\n  <thead>\n    <tr style=\"text-align: right;\">\n      <th></th>\n      <th>Time</th>\n      <th>MW</th>\n      <th>temperature</th>\n      <th>CDH</th>\n      <th>omega1</th>\n      <th>omega2</th>\n      <th>omega3</th>\n      <th>omega4</th>\n      <th>omega5</th>\n      <th>omega6</th>\n      <th>...</th>\n      <th>omega159</th>\n      <th>omega160</th>\n      <th>omega161</th>\n      <th>omega162</th>\n      <th>omega163</th>\n      <th>omega164</th>\n      <th>omega165</th>\n      <th>omega166</th>\n      <th>omega167</th>\n      <th>omega168</th>\n    </tr>\n  </thead>\n  <tbody>\n    <tr>\n      <th>0</th>\n      <td>2022-02-07 00:00:00</td>\n      <td>2.18</td>\n      <td>12.0</td>\n      <td>0.0</td>\n      <td>1.0</td>\n      <td>0.0</td>\n      <td>0.0</td>\n      <td>0.0</td>\n      <td>0.0</td>\n      <td>0.0</td>\n      <td>...</td>\n      <td>0.0</td>\n      <td>0.0</td>\n      <td>0.0</td>\n      <td>0.0</td>\n      <td>0.0</td>\n      <td>0.0</td>\n      <td>0.0</td>\n      <td>0.0</td>\n      <td>0.0</td>\n      <td>0.0</td>\n    </tr>\n    <tr>\n      <th>1</th>\n      <td>2022-02-07 01:00:00</td>\n      <td>2.05</td>\n      <td>11.633781</td>\n      <td>0.0</td>\n      <td>0.0</td>\n      <td>1.0</td>\n      <td>0.0</td>\n      <td>0.0</td>\n      <td>0.0</td>\n      <td>0.0</td>\n      <td>...</td>\n      <td>0.0</td>\n      <td>0.0</td>\n      <td>0.0</td>\n      <td>0.0</td>\n      <td>0.0</td>\n      <td>0.0</td>\n      <td>0.0</td>\n      <td>0.0</td>\n      <td>0.0</td>\n      <td>0.0</td>\n    </tr>\n    <tr>\n      <th>2</th>\n      <td>2022-02-07 02:00:00</td>\n      <td>NaN</td>\n      <td>11.703556</td>\n      <td>0.0</td>\n      <td>0.0</td>\n      <td>0.0</td>\n      <td>1.0</td>\n      <td>0.0</td>\n      <td>0.0</td>\n      <td>0.0</td>\n      <td>...</td>\n      <td>0.0</td>\n      <td>0.0</td>\n      <td>0.0</td>\n      <td>0.0</td>\n      <td>0.0</td>\n      <td>0.0</td>\n      <td>0.0</td>\n      <td>0.0</td>\n      <td>0.0</td>\n      <td>0.0</td>\n    </tr>\n    <tr>\n      <th>3</th>\n      <td>2022-02-07 03:00:00</td>\n      <td>1.71</td>\n      <td>12.0</td>\n      <td>0.0</td>\n      <td>0.0</td>\n      <td>0.0</td>\n      <td>0.0</td>\n      <td>1.0</td>\n      <td>0.0</td>\n      <td>0.0</td>\n      <td>...</td>\n      <td>0.0</td>\n      <td>0.0</td>\n      <td>0.0</td>\n      <td>0.0</td>\n      <td>0.0</td>\n      <td>0.0</td>\n      <td>0.0</td>\n      <td>0.0</td>\n      <td>0.0</td>\n      <td>0.0</td>\n    </tr>\n    <tr>\n      <th>4</th>\n      <td>2022-02-07 04:00:00</td>\n      <td>NaN</td>\n      <td>12.0</td>\n      <td>0.0</td>\n      <td>0.0</td>\n      <td>0.0</td>\n      <td>0.0</td>\n      <td>0.0</td>\n      <td>1.0</td>\n      <td>0.0</td>\n      <td>...</td>\n      <td>0.0</td>\n      <td>0.0</td>\n      <td>0.0</td>\n      <td>0.0</td>\n      <td>0.0</td>\n      <td>0.0</td>\n      <td>0.0</td>\n      <td>0.0</td>\n      <td>0.0</td>\n      <td>0.0</td>\n    </tr>\n    <tr>\n      <th>...</th>\n      <td>...</td>\n      <td>...</td>\n      <td>...</td>\n      <td>...</td>\n      <td>...</td>\n      <td>...</td>\n      <td>...</td>\n      <td>...</td>\n      <td>...</td>\n      <td>...</td>\n      <td>...</td>\n      <td>...</td>\n      <td>...</td>\n      <td>...</td>\n      <td>...</td>\n      <td>...</td>\n      <td>...</td>\n      <td>...</td>\n      <td>...</td>\n      <td>...</td>\n      <td>...</td>\n    </tr>\n    <tr>\n      <th>5753</th>\n      <td>2022-12-25 18:00:00</td>\n      <td>NaN</td>\n      <td>19.0</td>\n      <td>0.0</td>\n      <td>0.0</td>\n      <td>0.0</td>\n      <td>0.0</td>\n      <td>0.0</td>\n      <td>0.0</td>\n      <td>0.0</td>\n      <td>...</td>\n      <td>0.0</td>\n      <td>0.0</td>\n      <td>0.0</td>\n      <td>0.0</td>\n      <td>1.0</td>\n      <td>0.0</td>\n      <td>0.0</td>\n      <td>0.0</td>\n      <td>0.0</td>\n      <td>0.0</td>\n    </tr>\n    <tr>\n      <th>5754</th>\n      <td>2022-12-25 19:00:00</td>\n      <td>2.6</td>\n      <td>18.0</td>\n      <td>0.0</td>\n      <td>0.0</td>\n      <td>0.0</td>\n      <td>0.0</td>\n      <td>0.0</td>\n      <td>0.0</td>\n      <td>0.0</td>\n      <td>...</td>\n      <td>0.0</td>\n      <td>0.0</td>\n      <td>0.0</td>\n      <td>0.0</td>\n      <td>0.0</td>\n      <td>1.0</td>\n      <td>0.0</td>\n      <td>0.0</td>\n      <td>0.0</td>\n      <td>0.0</td>\n    </tr>\n    <tr>\n      <th>5755</th>\n      <td>2022-12-25 20:00:00</td>\n      <td>NaN</td>\n      <td>18.0</td>\n      <td>0.0</td>\n      <td>0.0</td>\n      <td>0.0</td>\n      <td>0.0</td>\n      <td>0.0</td>\n      <td>0.0</td>\n      <td>0.0</td>\n      <td>...</td>\n      <td>0.0</td>\n      <td>0.0</td>\n      <td>0.0</td>\n      <td>0.0</td>\n      <td>0.0</td>\n      <td>0.0</td>\n      <td>1.0</td>\n      <td>0.0</td>\n      <td>0.0</td>\n      <td>0.0</td>\n    </tr>\n    <tr>\n      <th>5756</th>\n      <td>2022-12-25 21:00:00</td>\n      <td>2.6</td>\n      <td>18.0</td>\n      <td>0.0</td>\n      <td>0.0</td>\n      <td>0.0</td>\n      <td>0.0</td>\n      <td>0.0</td>\n      <td>0.0</td>\n      <td>0.0</td>\n      <td>...</td>\n      <td>0.0</td>\n      <td>0.0</td>\n      <td>0.0</td>\n      <td>0.0</td>\n      <td>0.0</td>\n      <td>0.0</td>\n      <td>0.0</td>\n      <td>1.0</td>\n      <td>0.0</td>\n      <td>0.0</td>\n    </tr>\n    <tr>\n      <th>5757</th>\n      <td>2022-12-25 23:00:00</td>\n      <td>2.4</td>\n      <td>18.0</td>\n      <td>0.0</td>\n      <td>0.0</td>\n      <td>0.0</td>\n      <td>0.0</td>\n      <td>0.0</td>\n      <td>0.0</td>\n      <td>0.0</td>\n      <td>...</td>\n      <td>0.0</td>\n      <td>0.0</td>\n      <td>0.0</td>\n      <td>0.0</td>\n      <td>0.0</td>\n      <td>0.0</td>\n      <td>0.0</td>\n      <td>0.0</td>\n      <td>0.0</td>\n      <td>1.0</td>\n    </tr>\n  </tbody>\n</table>\n<p>5758 rows × 172 columns</p>\n</div>"
     },
     "execution_count": 9,
     "metadata": {},
     "output_type": "execute_result"
    }
   ],
   "source": [
    "numOmegas = 24 * 7\n",
    "num_of_rows = df.shape[0]\n",
    "omegas = np.zeros((num_of_rows, numOmegas))  # Assuming numOmegas columns for omegas\n",
    "concatenated_data = np.concatenate((df, omegas), axis=1)\n",
    "column_names = ['Time', 'MW', 'temperature', 'CDH']\n",
    "for i in range(1, numOmegas + 1,1):\n",
    "    column_names.append('omega' + str(i))\n",
    "\n",
    "df = pd.DataFrame(concatenated_data, columns=column_names)\n",
    "df['Time'] = pd.to_datetime(df['Time'])\n",
    "for i in range(0,num_of_rows):\n",
    "        datetime = df.Time.loc[i]\n",
    "        hourOfWeekIndex = int(datetime.dayofweek*24+(datetime.hour+1))\n",
    "        x = np.zeros((1,numOmegas))\n",
    "        x[0,hourOfWeekIndex-1]=1\n",
    "        omegas[i,:]=x\n",
    "\n",
    "df.iloc[:,4:]=omegas\n",
    "df"
   ],
   "metadata": {
    "collapsed": false,
    "ExecuteTime": {
     "end_time": "2023-10-24T09:24:44.466313100Z",
     "start_time": "2023-10-24T09:24:44.166449800Z"
    }
   }
  },
  {
   "cell_type": "code",
   "execution_count": 10,
   "outputs": [
    {
     "data": {
      "text/plain": "                    Time    MW temperature  CDH omega1 omega2 omega3 omega4  \\\n0    2022-02-07 00:00:00  2.18        12.0  0.0    1.0    0.0    0.0    0.0   \n1    2022-02-07 01:00:00  2.05   11.633781  0.0    0.0    1.0    0.0    0.0   \n2    2022-02-07 03:00:00  1.71        12.0  0.0    0.0    0.0    0.0    1.0   \n3    2022-02-07 05:00:00   1.7        12.0  0.0    0.0    0.0    0.0    0.0   \n4    2022-02-07 14:00:00   2.5        22.0  0.0    0.0    0.0    0.0    0.0   \n...                  ...   ...         ...  ...    ...    ...    ...    ...   \n3813 2022-12-25 15:00:00   2.4        24.0  0.0    0.0    0.0    0.0    0.0   \n3814 2022-12-25 17:00:00   2.6        21.0  0.0    0.0    0.0    0.0    0.0   \n3815 2022-12-25 19:00:00   2.6        18.0  0.0    0.0    0.0    0.0    0.0   \n3816 2022-12-25 21:00:00   2.6        18.0  0.0    0.0    0.0    0.0    0.0   \n3817 2022-12-25 23:00:00   2.4        18.0  0.0    0.0    0.0    0.0    0.0   \n\n     omega5 omega6  ... omega159 omega160 omega161 omega162 omega163 omega164  \\\n0       0.0    0.0  ...      0.0      0.0      0.0      0.0      0.0      0.0   \n1       0.0    0.0  ...      0.0      0.0      0.0      0.0      0.0      0.0   \n2       0.0    0.0  ...      0.0      0.0      0.0      0.0      0.0      0.0   \n3       0.0    1.0  ...      0.0      0.0      0.0      0.0      0.0      0.0   \n4       0.0    0.0  ...      0.0      0.0      0.0      0.0      0.0      0.0   \n...     ...    ...  ...      ...      ...      ...      ...      ...      ...   \n3813    0.0    0.0  ...      0.0      1.0      0.0      0.0      0.0      0.0   \n3814    0.0    0.0  ...      0.0      0.0      0.0      1.0      0.0      0.0   \n3815    0.0    0.0  ...      0.0      0.0      0.0      0.0      0.0      1.0   \n3816    0.0    0.0  ...      0.0      0.0      0.0      0.0      0.0      0.0   \n3817    0.0    0.0  ...      0.0      0.0      0.0      0.0      0.0      0.0   \n\n     omega165 omega166 omega167 omega168  \n0         0.0      0.0      0.0      0.0  \n1         0.0      0.0      0.0      0.0  \n2         0.0      0.0      0.0      0.0  \n3         0.0      0.0      0.0      0.0  \n4         0.0      0.0      0.0      0.0  \n...       ...      ...      ...      ...  \n3813      0.0      0.0      0.0      0.0  \n3814      0.0      0.0      0.0      0.0  \n3815      0.0      0.0      0.0      0.0  \n3816      0.0      1.0      0.0      0.0  \n3817      0.0      0.0      0.0      1.0  \n\n[3818 rows x 172 columns]",
      "text/html": "<div>\n<style scoped>\n    .dataframe tbody tr th:only-of-type {\n        vertical-align: middle;\n    }\n\n    .dataframe tbody tr th {\n        vertical-align: top;\n    }\n\n    .dataframe thead th {\n        text-align: right;\n    }\n</style>\n<table border=\"1\" class=\"dataframe\">\n  <thead>\n    <tr style=\"text-align: right;\">\n      <th></th>\n      <th>Time</th>\n      <th>MW</th>\n      <th>temperature</th>\n      <th>CDH</th>\n      <th>omega1</th>\n      <th>omega2</th>\n      <th>omega3</th>\n      <th>omega4</th>\n      <th>omega5</th>\n      <th>omega6</th>\n      <th>...</th>\n      <th>omega159</th>\n      <th>omega160</th>\n      <th>omega161</th>\n      <th>omega162</th>\n      <th>omega163</th>\n      <th>omega164</th>\n      <th>omega165</th>\n      <th>omega166</th>\n      <th>omega167</th>\n      <th>omega168</th>\n    </tr>\n  </thead>\n  <tbody>\n    <tr>\n      <th>0</th>\n      <td>2022-02-07 00:00:00</td>\n      <td>2.18</td>\n      <td>12.0</td>\n      <td>0.0</td>\n      <td>1.0</td>\n      <td>0.0</td>\n      <td>0.0</td>\n      <td>0.0</td>\n      <td>0.0</td>\n      <td>0.0</td>\n      <td>...</td>\n      <td>0.0</td>\n      <td>0.0</td>\n      <td>0.0</td>\n      <td>0.0</td>\n      <td>0.0</td>\n      <td>0.0</td>\n      <td>0.0</td>\n      <td>0.0</td>\n      <td>0.0</td>\n      <td>0.0</td>\n    </tr>\n    <tr>\n      <th>1</th>\n      <td>2022-02-07 01:00:00</td>\n      <td>2.05</td>\n      <td>11.633781</td>\n      <td>0.0</td>\n      <td>0.0</td>\n      <td>1.0</td>\n      <td>0.0</td>\n      <td>0.0</td>\n      <td>0.0</td>\n      <td>0.0</td>\n      <td>...</td>\n      <td>0.0</td>\n      <td>0.0</td>\n      <td>0.0</td>\n      <td>0.0</td>\n      <td>0.0</td>\n      <td>0.0</td>\n      <td>0.0</td>\n      <td>0.0</td>\n      <td>0.0</td>\n      <td>0.0</td>\n    </tr>\n    <tr>\n      <th>2</th>\n      <td>2022-02-07 03:00:00</td>\n      <td>1.71</td>\n      <td>12.0</td>\n      <td>0.0</td>\n      <td>0.0</td>\n      <td>0.0</td>\n      <td>0.0</td>\n      <td>1.0</td>\n      <td>0.0</td>\n      <td>0.0</td>\n      <td>...</td>\n      <td>0.0</td>\n      <td>0.0</td>\n      <td>0.0</td>\n      <td>0.0</td>\n      <td>0.0</td>\n      <td>0.0</td>\n      <td>0.0</td>\n      <td>0.0</td>\n      <td>0.0</td>\n      <td>0.0</td>\n    </tr>\n    <tr>\n      <th>3</th>\n      <td>2022-02-07 05:00:00</td>\n      <td>1.7</td>\n      <td>12.0</td>\n      <td>0.0</td>\n      <td>0.0</td>\n      <td>0.0</td>\n      <td>0.0</td>\n      <td>0.0</td>\n      <td>0.0</td>\n      <td>1.0</td>\n      <td>...</td>\n      <td>0.0</td>\n      <td>0.0</td>\n      <td>0.0</td>\n      <td>0.0</td>\n      <td>0.0</td>\n      <td>0.0</td>\n      <td>0.0</td>\n      <td>0.0</td>\n      <td>0.0</td>\n      <td>0.0</td>\n    </tr>\n    <tr>\n      <th>4</th>\n      <td>2022-02-07 14:00:00</td>\n      <td>2.5</td>\n      <td>22.0</td>\n      <td>0.0</td>\n      <td>0.0</td>\n      <td>0.0</td>\n      <td>0.0</td>\n      <td>0.0</td>\n      <td>0.0</td>\n      <td>0.0</td>\n      <td>...</td>\n      <td>0.0</td>\n      <td>0.0</td>\n      <td>0.0</td>\n      <td>0.0</td>\n      <td>0.0</td>\n      <td>0.0</td>\n      <td>0.0</td>\n      <td>0.0</td>\n      <td>0.0</td>\n      <td>0.0</td>\n    </tr>\n    <tr>\n      <th>...</th>\n      <td>...</td>\n      <td>...</td>\n      <td>...</td>\n      <td>...</td>\n      <td>...</td>\n      <td>...</td>\n      <td>...</td>\n      <td>...</td>\n      <td>...</td>\n      <td>...</td>\n      <td>...</td>\n      <td>...</td>\n      <td>...</td>\n      <td>...</td>\n      <td>...</td>\n      <td>...</td>\n      <td>...</td>\n      <td>...</td>\n      <td>...</td>\n      <td>...</td>\n      <td>...</td>\n    </tr>\n    <tr>\n      <th>3813</th>\n      <td>2022-12-25 15:00:00</td>\n      <td>2.4</td>\n      <td>24.0</td>\n      <td>0.0</td>\n      <td>0.0</td>\n      <td>0.0</td>\n      <td>0.0</td>\n      <td>0.0</td>\n      <td>0.0</td>\n      <td>0.0</td>\n      <td>...</td>\n      <td>0.0</td>\n      <td>1.0</td>\n      <td>0.0</td>\n      <td>0.0</td>\n      <td>0.0</td>\n      <td>0.0</td>\n      <td>0.0</td>\n      <td>0.0</td>\n      <td>0.0</td>\n      <td>0.0</td>\n    </tr>\n    <tr>\n      <th>3814</th>\n      <td>2022-12-25 17:00:00</td>\n      <td>2.6</td>\n      <td>21.0</td>\n      <td>0.0</td>\n      <td>0.0</td>\n      <td>0.0</td>\n      <td>0.0</td>\n      <td>0.0</td>\n      <td>0.0</td>\n      <td>0.0</td>\n      <td>...</td>\n      <td>0.0</td>\n      <td>0.0</td>\n      <td>0.0</td>\n      <td>1.0</td>\n      <td>0.0</td>\n      <td>0.0</td>\n      <td>0.0</td>\n      <td>0.0</td>\n      <td>0.0</td>\n      <td>0.0</td>\n    </tr>\n    <tr>\n      <th>3815</th>\n      <td>2022-12-25 19:00:00</td>\n      <td>2.6</td>\n      <td>18.0</td>\n      <td>0.0</td>\n      <td>0.0</td>\n      <td>0.0</td>\n      <td>0.0</td>\n      <td>0.0</td>\n      <td>0.0</td>\n      <td>0.0</td>\n      <td>...</td>\n      <td>0.0</td>\n      <td>0.0</td>\n      <td>0.0</td>\n      <td>0.0</td>\n      <td>0.0</td>\n      <td>1.0</td>\n      <td>0.0</td>\n      <td>0.0</td>\n      <td>0.0</td>\n      <td>0.0</td>\n    </tr>\n    <tr>\n      <th>3816</th>\n      <td>2022-12-25 21:00:00</td>\n      <td>2.6</td>\n      <td>18.0</td>\n      <td>0.0</td>\n      <td>0.0</td>\n      <td>0.0</td>\n      <td>0.0</td>\n      <td>0.0</td>\n      <td>0.0</td>\n      <td>0.0</td>\n      <td>...</td>\n      <td>0.0</td>\n      <td>0.0</td>\n      <td>0.0</td>\n      <td>0.0</td>\n      <td>0.0</td>\n      <td>0.0</td>\n      <td>0.0</td>\n      <td>1.0</td>\n      <td>0.0</td>\n      <td>0.0</td>\n    </tr>\n    <tr>\n      <th>3817</th>\n      <td>2022-12-25 23:00:00</td>\n      <td>2.4</td>\n      <td>18.0</td>\n      <td>0.0</td>\n      <td>0.0</td>\n      <td>0.0</td>\n      <td>0.0</td>\n      <td>0.0</td>\n      <td>0.0</td>\n      <td>0.0</td>\n      <td>...</td>\n      <td>0.0</td>\n      <td>0.0</td>\n      <td>0.0</td>\n      <td>0.0</td>\n      <td>0.0</td>\n      <td>0.0</td>\n      <td>0.0</td>\n      <td>0.0</td>\n      <td>0.0</td>\n      <td>1.0</td>\n    </tr>\n  </tbody>\n</table>\n<p>3818 rows × 172 columns</p>\n</div>"
     },
     "execution_count": 10,
     "metadata": {},
     "output_type": "execute_result"
    }
   ],
   "source": [
    "DF = df.copy()\n",
    "df = df.dropna()\n",
    "df.reset_index(inplace=True, drop = True)\n",
    "df"
   ],
   "metadata": {
    "collapsed": false,
    "ExecuteTime": {
     "end_time": "2023-10-24T09:24:44.624229100Z",
     "start_time": "2023-10-24T09:24:44.466313100Z"
    }
   }
  },
  {
   "cell_type": "code",
   "execution_count": 11,
   "outputs": [
    {
     "data": {
      "text/plain": "                    Time    MW temperature  CDH omega1 omega2 omega3 omega4  \\\n0    2022-02-07 00:00:00  2.18        12.0  0.0    1.0    0.0    0.0    0.0   \n1    2022-02-07 01:00:00  2.05   11.633781  0.0    0.0    1.0    0.0    0.0   \n2    2022-02-07 02:00:00   NaN   11.703556  0.0    0.0    0.0    1.0    0.0   \n3    2022-02-07 03:00:00  1.71        12.0  0.0    0.0    0.0    0.0    1.0   \n4    2022-02-07 04:00:00   NaN        12.0  0.0    0.0    0.0    0.0    0.0   \n...                  ...   ...         ...  ...    ...    ...    ...    ...   \n2155 2022-12-25 04:00:00   NaN        17.0  0.0    0.0    0.0    0.0    0.0   \n2156 2022-12-25 05:00:00   3.8        16.0  0.0    0.0    0.0    0.0    0.0   \n2157 2022-12-25 06:00:00   2.1        15.0  0.0    0.0    0.0    0.0    0.0   \n2158 2022-12-25 07:00:00   2.7        15.0  0.0    0.0    0.0    0.0    0.0   \n2159 2022-12-25 08:00:00  2.65        17.0  0.0    0.0    0.0    0.0    0.0   \n\n     omega5 omega6  ... omega159 omega160 omega161 omega162 omega163 omega164  \\\n0       0.0    0.0  ...      0.0      0.0      0.0      0.0      0.0      0.0   \n1       0.0    0.0  ...      0.0      0.0      0.0      0.0      0.0      0.0   \n2       0.0    0.0  ...      0.0      0.0      0.0      0.0      0.0      0.0   \n3       0.0    0.0  ...      0.0      0.0      0.0      0.0      0.0      0.0   \n4       1.0    0.0  ...      0.0      0.0      0.0      0.0      0.0      0.0   \n...     ...    ...  ...      ...      ...      ...      ...      ...      ...   \n2155    0.0    0.0  ...      0.0      0.0      0.0      0.0      0.0      0.0   \n2156    0.0    0.0  ...      0.0      0.0      0.0      0.0      0.0      0.0   \n2157    0.0    0.0  ...      0.0      0.0      0.0      0.0      0.0      0.0   \n2158    0.0    0.0  ...      0.0      0.0      0.0      0.0      0.0      0.0   \n2159    0.0    0.0  ...      0.0      0.0      0.0      0.0      0.0      0.0   \n\n     omega165 omega166 omega167 omega168  \n0         0.0      0.0      0.0      0.0  \n1         0.0      0.0      0.0      0.0  \n2         0.0      0.0      0.0      0.0  \n3         0.0      0.0      0.0      0.0  \n4         0.0      0.0      0.0      0.0  \n...       ...      ...      ...      ...  \n2155      0.0      0.0      0.0      0.0  \n2156      0.0      0.0      0.0      0.0  \n2157      0.0      0.0      0.0      0.0  \n2158      0.0      0.0      0.0      0.0  \n2159      0.0      0.0      0.0      0.0  \n\n[2160 rows x 172 columns]",
      "text/html": "<div>\n<style scoped>\n    .dataframe tbody tr th:only-of-type {\n        vertical-align: middle;\n    }\n\n    .dataframe tbody tr th {\n        vertical-align: top;\n    }\n\n    .dataframe thead th {\n        text-align: right;\n    }\n</style>\n<table border=\"1\" class=\"dataframe\">\n  <thead>\n    <tr style=\"text-align: right;\">\n      <th></th>\n      <th>Time</th>\n      <th>MW</th>\n      <th>temperature</th>\n      <th>CDH</th>\n      <th>omega1</th>\n      <th>omega2</th>\n      <th>omega3</th>\n      <th>omega4</th>\n      <th>omega5</th>\n      <th>omega6</th>\n      <th>...</th>\n      <th>omega159</th>\n      <th>omega160</th>\n      <th>omega161</th>\n      <th>omega162</th>\n      <th>omega163</th>\n      <th>omega164</th>\n      <th>omega165</th>\n      <th>omega166</th>\n      <th>omega167</th>\n      <th>omega168</th>\n    </tr>\n  </thead>\n  <tbody>\n    <tr>\n      <th>0</th>\n      <td>2022-02-07 00:00:00</td>\n      <td>2.18</td>\n      <td>12.0</td>\n      <td>0.0</td>\n      <td>1.0</td>\n      <td>0.0</td>\n      <td>0.0</td>\n      <td>0.0</td>\n      <td>0.0</td>\n      <td>0.0</td>\n      <td>...</td>\n      <td>0.0</td>\n      <td>0.0</td>\n      <td>0.0</td>\n      <td>0.0</td>\n      <td>0.0</td>\n      <td>0.0</td>\n      <td>0.0</td>\n      <td>0.0</td>\n      <td>0.0</td>\n      <td>0.0</td>\n    </tr>\n    <tr>\n      <th>1</th>\n      <td>2022-02-07 01:00:00</td>\n      <td>2.05</td>\n      <td>11.633781</td>\n      <td>0.0</td>\n      <td>0.0</td>\n      <td>1.0</td>\n      <td>0.0</td>\n      <td>0.0</td>\n      <td>0.0</td>\n      <td>0.0</td>\n      <td>...</td>\n      <td>0.0</td>\n      <td>0.0</td>\n      <td>0.0</td>\n      <td>0.0</td>\n      <td>0.0</td>\n      <td>0.0</td>\n      <td>0.0</td>\n      <td>0.0</td>\n      <td>0.0</td>\n      <td>0.0</td>\n    </tr>\n    <tr>\n      <th>2</th>\n      <td>2022-02-07 02:00:00</td>\n      <td>NaN</td>\n      <td>11.703556</td>\n      <td>0.0</td>\n      <td>0.0</td>\n      <td>0.0</td>\n      <td>1.0</td>\n      <td>0.0</td>\n      <td>0.0</td>\n      <td>0.0</td>\n      <td>...</td>\n      <td>0.0</td>\n      <td>0.0</td>\n      <td>0.0</td>\n      <td>0.0</td>\n      <td>0.0</td>\n      <td>0.0</td>\n      <td>0.0</td>\n      <td>0.0</td>\n      <td>0.0</td>\n      <td>0.0</td>\n    </tr>\n    <tr>\n      <th>3</th>\n      <td>2022-02-07 03:00:00</td>\n      <td>1.71</td>\n      <td>12.0</td>\n      <td>0.0</td>\n      <td>0.0</td>\n      <td>0.0</td>\n      <td>0.0</td>\n      <td>1.0</td>\n      <td>0.0</td>\n      <td>0.0</td>\n      <td>...</td>\n      <td>0.0</td>\n      <td>0.0</td>\n      <td>0.0</td>\n      <td>0.0</td>\n      <td>0.0</td>\n      <td>0.0</td>\n      <td>0.0</td>\n      <td>0.0</td>\n      <td>0.0</td>\n      <td>0.0</td>\n    </tr>\n    <tr>\n      <th>4</th>\n      <td>2022-02-07 04:00:00</td>\n      <td>NaN</td>\n      <td>12.0</td>\n      <td>0.0</td>\n      <td>0.0</td>\n      <td>0.0</td>\n      <td>0.0</td>\n      <td>0.0</td>\n      <td>1.0</td>\n      <td>0.0</td>\n      <td>...</td>\n      <td>0.0</td>\n      <td>0.0</td>\n      <td>0.0</td>\n      <td>0.0</td>\n      <td>0.0</td>\n      <td>0.0</td>\n      <td>0.0</td>\n      <td>0.0</td>\n      <td>0.0</td>\n      <td>0.0</td>\n    </tr>\n    <tr>\n      <th>...</th>\n      <td>...</td>\n      <td>...</td>\n      <td>...</td>\n      <td>...</td>\n      <td>...</td>\n      <td>...</td>\n      <td>...</td>\n      <td>...</td>\n      <td>...</td>\n      <td>...</td>\n      <td>...</td>\n      <td>...</td>\n      <td>...</td>\n      <td>...</td>\n      <td>...</td>\n      <td>...</td>\n      <td>...</td>\n      <td>...</td>\n      <td>...</td>\n      <td>...</td>\n      <td>...</td>\n    </tr>\n    <tr>\n      <th>2155</th>\n      <td>2022-12-25 04:00:00</td>\n      <td>NaN</td>\n      <td>17.0</td>\n      <td>0.0</td>\n      <td>0.0</td>\n      <td>0.0</td>\n      <td>0.0</td>\n      <td>0.0</td>\n      <td>0.0</td>\n      <td>0.0</td>\n      <td>...</td>\n      <td>0.0</td>\n      <td>0.0</td>\n      <td>0.0</td>\n      <td>0.0</td>\n      <td>0.0</td>\n      <td>0.0</td>\n      <td>0.0</td>\n      <td>0.0</td>\n      <td>0.0</td>\n      <td>0.0</td>\n    </tr>\n    <tr>\n      <th>2156</th>\n      <td>2022-12-25 05:00:00</td>\n      <td>3.8</td>\n      <td>16.0</td>\n      <td>0.0</td>\n      <td>0.0</td>\n      <td>0.0</td>\n      <td>0.0</td>\n      <td>0.0</td>\n      <td>0.0</td>\n      <td>0.0</td>\n      <td>...</td>\n      <td>0.0</td>\n      <td>0.0</td>\n      <td>0.0</td>\n      <td>0.0</td>\n      <td>0.0</td>\n      <td>0.0</td>\n      <td>0.0</td>\n      <td>0.0</td>\n      <td>0.0</td>\n      <td>0.0</td>\n    </tr>\n    <tr>\n      <th>2157</th>\n      <td>2022-12-25 06:00:00</td>\n      <td>2.1</td>\n      <td>15.0</td>\n      <td>0.0</td>\n      <td>0.0</td>\n      <td>0.0</td>\n      <td>0.0</td>\n      <td>0.0</td>\n      <td>0.0</td>\n      <td>0.0</td>\n      <td>...</td>\n      <td>0.0</td>\n      <td>0.0</td>\n      <td>0.0</td>\n      <td>0.0</td>\n      <td>0.0</td>\n      <td>0.0</td>\n      <td>0.0</td>\n      <td>0.0</td>\n      <td>0.0</td>\n      <td>0.0</td>\n    </tr>\n    <tr>\n      <th>2158</th>\n      <td>2022-12-25 07:00:00</td>\n      <td>2.7</td>\n      <td>15.0</td>\n      <td>0.0</td>\n      <td>0.0</td>\n      <td>0.0</td>\n      <td>0.0</td>\n      <td>0.0</td>\n      <td>0.0</td>\n      <td>0.0</td>\n      <td>...</td>\n      <td>0.0</td>\n      <td>0.0</td>\n      <td>0.0</td>\n      <td>0.0</td>\n      <td>0.0</td>\n      <td>0.0</td>\n      <td>0.0</td>\n      <td>0.0</td>\n      <td>0.0</td>\n      <td>0.0</td>\n    </tr>\n    <tr>\n      <th>2159</th>\n      <td>2022-12-25 08:00:00</td>\n      <td>2.65</td>\n      <td>17.0</td>\n      <td>0.0</td>\n      <td>0.0</td>\n      <td>0.0</td>\n      <td>0.0</td>\n      <td>0.0</td>\n      <td>0.0</td>\n      <td>0.0</td>\n      <td>...</td>\n      <td>0.0</td>\n      <td>0.0</td>\n      <td>0.0</td>\n      <td>0.0</td>\n      <td>0.0</td>\n      <td>0.0</td>\n      <td>0.0</td>\n      <td>0.0</td>\n      <td>0.0</td>\n      <td>0.0</td>\n    </tr>\n  </tbody>\n</table>\n<p>2160 rows × 172 columns</p>\n</div>"
     },
     "execution_count": 11,
     "metadata": {},
     "output_type": "execute_result"
    }
   ],
   "source": [
    "hours = DF['Time'].dt.hour\n",
    "df_12am_to_8am = DF[(hours >= 0) & (hours <= 8)]\n",
    "df_12am_to_8am = df_12am_to_8am.sort_values('Time')\n",
    "df_12am_to_8am.reset_index(inplace=True, drop = True)\n",
    "df_12am_to_8am"
   ],
   "metadata": {
    "collapsed": false,
    "ExecuteTime": {
     "end_time": "2023-10-24T09:24:44.703053800Z",
     "start_time": "2023-10-24T09:24:44.529752100Z"
    }
   }
  },
  {
   "cell_type": "code",
   "execution_count": 12,
   "outputs": [
    {
     "name": "stdout",
     "output_type": "stream",
     "text": [
      "[nan, nan, 0.10000000000000009, nan, 0.10000000000000009, 0.10000000000000009, nan, 0.1200000000000001, 0.42000000000000015, 0.0, 0.09999999999999964, 0.19999999999999973, 0.20000000000000018, 0.09999999999999987, 0.020000000000000018, 0.1499999999999999, 0.09999999999999987, 0.18999999999999995, 0.03999999999999959, 0.23999999999999977, nan, 0.0, nan, 0.7, 0.30000000000000004, 0.10000000000000009, 0.19999999999999973, 0.20000000000000018, 0.6000000000000001, 0.0, 0.0, 0.2999999999999998, 0.04999999999999982, 0.20000000000000018, 0.04999999999999982, 0.5, 0.10000000000000009, 0.1499999999999999, 0.0, nan, 0.10000000000000009, 0.10000000000000009, 0.30000000000000004, 0.0, 1.11, 0.050000000000000266, 0.31999999999999984, 0.77, 0.18999999999999995, 0.3999999999999999, 0.11999999999999988, 0.5399999999999998, 0.10000000000000009, 0.10000000000000009, 0.10000000000000009, 0.10000000000000009, 0.10000000000000009, 0.30000000000000027, 0.20000000000000018, 0.0, 0.0, 0.5, 0.0, 0.0, 0.0, nan, 0.5, 0.3500000000000001, 0.10000000000000009, 0.32000000000000006, 0.040000000000000036, 0.3800000000000001, 0.17999999999999972, 0.0900000000000003, 0.04999999999999982, 0.08999999999999986, 0.18000000000000016, 0.050000000000000266, nan, nan, 0.0, nan, 0.20000000000000018, 0.10000000000000009, 0.2999999999999998, 0.10000000000000009, 0.10000000000000009, 0.10000000000000009, 0.10000000000000009, 0.10000000000000009, 0.08999999999999986, 0.040000000000000036, nan, nan, 0.10000000000000009, 0.10000000000000009, 0.10000000000000009, nan, 0.19999999999999973, 0.10000000000000009, 0.2999999999999998, 0.0, 0.40000000000000013, 0.09999999999999987, 0.0, 0.3999999999999999, 0.0, 0.5, 0.0, 0.0, 0.0, 0.0, nan, 0.0, 0.5, 0.0, 0.25, 0.0, 0.0, 0.0, 0.55, 0.5000000000000002, 0.2999999999999998, 0.20000000000000018, 0.10000000000000009, 0.0, 0.10000000000000009, 0.10000000000000009, 0.20000000000000018, 0.0, nan, 0.2999999999999998, 0.5, 0.25, 0.0, 0.5, 0.0, 0.0, 0.0, 0.44999999999999996, 0.0, 0.7, 0.20000000000000018, 0.09999999999999964, 0.5, 0.0, 0.09999999999999964, 0.04999999999999982, 0.0, 0.0, 0.0, 0.0, 0.0, 0.0, 0.30000000000000004, 0.5999999999999999, 0.54, 0.41999999999999993, 0.54, 0.06000000000000005, 0.040000000000000036, 0.06000000000000005, 0.14000000000000012, 0.0, 0.8000000000000003, 0.10000000000000009, 0.20000000000000018, 0.30000000000000027, 0.0, 0.30000000000000027, 0.1499999999999999, 0.0, 0.0, 0.0, 0.0, 0.0, 0.0, 0.10000000000000009, 0.10000000000000009, 0.3999999999999999, 0.1499999999999999, 0.20000000000000018, 0.1499999999999999, 0.20000000000000018, 0.0, 0.2799999999999998, 0.33999999999999986, 0.43999999999999995, 0.16999999999999993, 0.15000000000000036, 0.2100000000000004, 0.3099999999999996, 0.040000000000000036, 0.040000000000000036, 0.20000000000000018, nan, 0.7000000000000002, 0.0, nan, 0.0, 0.25, 0.04999999999999982, 0.20000000000000018, 0.10000000000000009, 0.04999999999999982, 0.04999999999999982, 0.0, 0.20000000000000018, 0.009999999999999787, 0.31000000000000005, 0.18999999999999995, 0.18999999999999995, nan, nan, 0.30000000000000027, 0.0, 0.0, 0.0, 0.10000000000000009, nan, 0.0, 0.09999999999999987, 0.09999999999999987, 0.10000000000000009, 0.0, 0.09999999999999987, nan, 0.0, nan, 0.2999999999999998, 0.0, 0.5, 0.0, 0.5, 0.0, 0.0, 0.5, 0.3999999999999999, 0.10000000000000009, 0.2999999999999998, 0.40000000000000036, 0.2999999999999998, 0.10000000000000009, 0.0, nan, 0.2999999999999998, 0.20000000000000018, 0.1499999999999999, nan, 0.0, 0.0, 0.5, 0.0, 0.0, 0.0, 0.5, 0.10000000000000009, 0.0, 0.10000000000000009, nan, 0.09999999999999987, 0.28000000000000025, 0.20999999999999996, 0.20999999999999996, 0.07000000000000028, 0.040000000000000036, 0.21999999999999975, 0.10000000000000009, 0.0, 0.0, 0.5, 0.0, 0.0, 0.0, 0.25, 0.5, 0.3500000000000001, 0.10000000000000009, 0.04999999999999982, 0.40000000000000036, 0.04999999999999982, 0.0, 0.6000000000000001, 0.0, 0.4600000000000002, 0.26, 0.31999999999999984, 0.06000000000000005, 0.06000000000000005, 0.010000000000000231, 0.44999999999999973, 0.10000000000000009, nan, 0.5, 0.09999999999999987, 0.10000000000000009, 0.10000000000000009, 0.20000000000000018, 0.09999999999999987, 0.5, 0.9000000000000001, 0.3999999999999999, 0.0, 0.0, 0.10000000000000009, 0.20000000000000018, 0.0, 0.04999999999999982, 0.3600000000000003, 0.010000000000000231, 0.16999999999999993, 0.030000000000000027, nan, 0.0, 0.25, 0.0, 0.25, 0.0, 0.25, 0.0, 0.20000000000000018, 0.050000000000000266, nan, nan, 0.050000000000000266, nan, 0.040000000000000036, 0.10000000000000009, 0.10000000000000009, 0.10000000000000009, 0.0, 0.19999999999999973, 0.19999999999999973, 0.10000000000000009, 0.0, nan, 0.26000000000000023, nan, 0.010000000000000231, 0.3999999999999999, 0.10000000000000009, 0.0, 0.7000000000000002, 0.3999999999999999, 0.20000000000000018, 0.0, 0.1499999999999999, 0.10000000000000009, 0.1499999999999999, 0.20000000000000018, 0.04999999999999982, 0.1499999999999999, 0.0, 0.5, 0.0, 0.0, 0.0, 0.0, 0.26, 0.9800000000000002, 0.03000000000000025, 0.1200000000000001, 0.04999999999999982, 0.029999999999999805, 0.31000000000000005, 0.08000000000000007, 0.10000000000000009, 0.19999999999999973, 0.20000000000000018, 0.3999999999999999, 0.0, 0.10000000000000009, nan, 0.0, 0.5, 0.0, 0.0, 0.0, nan, 0.1499999999999999, 0.0, 0.1499999999999999, nan, 0.3200000000000003, 0.23999999999999977, 0.1200000000000001, 0.2200000000000002, 0.020000000000000018, nan, 0.0, nan, 0.5999999999999999, 0.0, 0.10000000000000009, 0.2999999999999998, 0.10000000000000009, 0.09999999999999987, 0.09999999999999987, 0.0, 0.5, nan, 0.09999999999999964, 0.2999999999999998, nan, 0.10000000000000009, nan, nan, 0.10000000000000009, 0.25, nan, 0.10000000000000009, 0.0, 0.10000000000000009, nan, 0.10000000000000009, 0.10000000000000009, 0.10000000000000009, nan, 0.25, nan, 0.25, 0.0, 0.75, 0.0, 0.0, 0.0, 0.0, 0.25, 0.04999999999999982, 0.20000000000000018, 0.0, 0.09999999999999964, 0.6999999999999997, 0.19999999999999973, 0.5, nan, 0.0, 0.8999999999999999, 0.0, 0.3999999999999999, 0.0, 0.25, 0.0, 0.25, 0.20000000000000018, 0.2999999999999998, 0.0, 0.6000000000000001, 0.0, 0.19999999999999973, 0.5, 0.0, 0.25, 0.0, 0.0, 0.06000000000000005, 0.8300000000000001, 0.06000000000000005, 0.1200000000000001, 0.0, 0.20999999999999996, nan, 0.19999999999999973, 0.0, 0.10000000000000009, 0.20000000000000018, 0.0, 0.09999999999999964, 0.10000000000000009, 0.10000000000000009, 0.0, nan, 0.19999999999999973, 0.2999999999999998, 0.04999999999999982, 0.04999999999999982, 0.050000000000000266, 0.1499999999999999, 0.10000000000000009, 0.20000000000000018, nan, 0.5, nan, nan, 0.2999999999999998, 0.30000000000000027, 0.0, 0.09999999999999964, 0.20000000000000018, 0.1499999999999999, 0.3500000000000001, 0.25, 0.0, 0.0, 0.0, nan, nan, 0.25, 0.0, nan, 0.19999999999999973, 0.7000000000000002, 0.0, 0.20000000000000018, 0.10000000000000009, 0.20000000000000018, nan, 0.0, nan, 0.25, 0.25, 0.0, 0.5, 0.0, 0.0, 0.0, 0.2999999999999998, 0.0, 0.10000000000000009, 0.10000000000000009, 0.09999999999999964, 0.09999999999999964, 0.10000000000000009, nan, 0.25, 0.25, 0.25, 0.25, 0.0, 0.25, 0.0, 0.1499999999999999, 0.30000000000000027, 0.2999999999999998, 0.0, 0.09999999999999964, 0.20000000000000018, 0.20000000000000018, nan, 0.8200000000000003, 0.040000000000000036, 0.5500000000000003, 0.10000000000000009, 0.18999999999999995, 0.020000000000000018, 0.009999999999999787, 0.52, 0.19999999999999973, 0.30000000000000027, 0.0, 0.2999999999999998, 0.10000000000000009, 0.20000000000000018, 0.0, 0.2999999999999998, 0.0, 0.0, 0.0, 0.0, 0.5, 0.0, 0.2999999999999998, 0.0, 0.40000000000000036, 0.0, 1.0, 1.0999999999999996, 0.19999999999999973, 0.3999999999999999, 0.25, 0.1200000000000001, 0.6600000000000001, 0.17000000000000037, 0.2799999999999998, 0.0699999999999994, nan, 0.5, 0.20000000000000018, 0.2999999999999998, nan, 0.3500000000000001, 0.10000000000000009, 0.10000000000000009, 0.10000000000000009, 0.5, 0.0, 0.04999999999999982, nan, nan, 0.5999999999999996, 0.09999999999999964, nan, 0.0, 0.04999999999999982, 1.0999999999999996, 0.20000000000000018, 0.0, 0.10000000000000009, 0.5000000000000004, 0.2999999999999998, 0.20000000000000018, nan, 0.0, nan, 0.5, 0.0, 0.75, 0.0, 0.25, 0.0, 0.0, 0.0, 0.7000000000000002, 0.0, 0.0, 0.09999999999999964, 0.0, 0.20000000000000018, 0.1999999999999993, nan, 0.0, 0.0, 0.0, 0.75, 0.25, 0.0, 0.0, 0.20000000000000018, 0.6000000000000005, 0.1999999999999993, 0.10000000000000053, 0.09999999999999964, 0.0, 0.39999999999999947, nan, 0.2200000000000002, 0.41000000000000014, 0.16999999999999993, 0.22999999999999954, 0.08999999999999986, 0.0, 0.20000000000000018, 0.03000000000000025, 0.2999999999999998, 0.20000000000000018, 0.2999999999999998, 0.20000000000000018, 0.5, 0.20000000000000018, 0.39999999999999947, 0.20000000000000018, 0.0, 0.0, 1.0, 0.0, 0.0, 0.0, 1.0, 0.10000000000000009, 0.10000000000000009, 0.050000000000000266, 0.10000000000000009, 0.04999999999999982, 0.050000000000000266, 0.10000000000000009, 0.14000000000000012, 0.9999999999999996, 0.2999999999999998, 0.009999999999999787, 0.040000000000000036, 0.16999999999999993, 0.09999999999999964, 0.0, 0.09000000000000075, 0.09999999999999964, nan, 0.3999999999999999, 0.6000000000000001, nan, 0.0, 0.0, 0.5, 0.10000000000000009, 0.2999999999999998, 0.10000000000000009, 0.09999999999999964, 0.2999999999999998, 0.08000000000000007, nan, nan, 0.2999999999999998, 0.0, nan, 0.20000000000000018, 1.3000000000000003, 0.0, 0.0, 0.19999999999999973, 0.30000000000000027, 0.0, 0.20000000000000018, nan, 0.0, nan, 0.2999999999999998, 0.25, 0.25, 0.0, 0.0, 0.0, 0.25, 0.0, 0.34999999999999964, 0.10000000000000053, 0.5, 0.40000000000000036, 0.09999999999999964, 0.10000000000000053, nan, 0.75, 0.0, 0.25, 0.3500000000000001, 0.050000000000000266, 0.0, 0.20000000000000018, 0.1499999999999999, 0.2999999999999998, 0.0, 0.0, 0.10000000000000009, 0.20000000000000018, 0.5999999999999996, 0.0, 0.0, 0.0, 0.5, 0.0, 0.75, 0.5499999999999998, 0.2999999999999998, 0.2999999999999998, 0.19999999999999973, 0.20000000000000018, 0.04999999999999982, 0.1499999999999999, 0.27, 1.08, 0.2799999999999998, 0.10999999999999988, 0.27, 0.5599999999999996, nan, 0.20000000000000018, nan, nan, 0.3500000000000001, 0.04999999999999982, 0.4500000000000002, 0.25, 0.0, 0.25, 0.0, 0.0, 0.1499999999999999, 0.43999999999999995, nan, nan, nan, 0.10000000000000009, 0.0, nan, 0.0, 1.0, 0.10000000000000009, 0.20000000000000018, 0.0, 0.3999999999999999, 0.09999999999999964, 0.10000000000000053, nan, 0.0, nan, 0.2999999999999998, 0.0, 0.5, 0.25, 0.0, 0.25, 0.0, nan, 0.25, 0.5, 0.25, 0.25, 0.0, 0.0, 0.0, 0.5999999999999996, 0.0, 0.20000000000000018, 0.2999999999999998, 0.10000000000000053, 0.09999999999999964, nan, 0.6300000000000003, 0.48999999999999977, 0.1200000000000001, 0.20999999999999996, 0.03000000000000025, 0.16000000000000014, 0.040000000000000036, 0.7099999999999995, nan, 0.6499999999999999, 0.0, 0.0, 1.0, 0.0, 0.0, 0.0, 0.04999999999999982, 0.20000000000000018, 0.5499999999999998, 0.20000000000000018, 0.04999999999999982, 0.1499999999999999, 0.5, nan, 0.5, nan, 1.3000000000000003, nan, 0.0, 0.10000000000000009, 0.1499999999999999, 0.0, 0.1499999999999999, 0.0, 0.20000000000000018, 0.19999999999999973, 0.0, 0.0, nan, 0.0, 0.2999999999999998, 0.20000000000000018, 0.1999999999999993, 0.2999999999999998, 0.20000000000000018, 0.1999999999999993, 0.40000000000000036, 0.09999999999999964, nan, 0.06000000000000005, 0.009999999999999787, 1.0, 0.10000000000000009, 0.19999999999999973, 0.0, 0.0, 0.0, 0.0, nan, 0.0, nan, 0.30000000000000027, 1.0, 0.0, 0.0, 0.0, 0.19999999999999973, nan, 0.0, 0.5, 0.20000000000000018, 0.1999999999999993, 0.1999999999999993, 0.3000000000000007, nan, 1.0, 0.10000000000000009, 0.10000000000000009, 0.10000000000000009, 0.10000000000000009, 0.10000000000000009, 0.09999999999999964, 0.04999999999999982, 0.15000000000000036, 0.0, 0.14999999999999947, 0.40000000000000036, 0.15000000000000036, 0.09999999999999964, nan, nan, 0.07000000000000028, 0.040000000000000036, 0.25, 0.03000000000000025, 0.07000000000000028, 0.5999999999999996, 0.10000000000000053, 0.0, 0.09999999999999964, 0.09999999999999964, 0.5, 0.2999999999999998, 0.3000000000000007, 0.0, 0.10000000000000009, 0.10000000000000009, 0.10000000000000009, 0.050000000000000266, 0.0, 0.15000000000000036, 1.2000000000000002, 0.1499999999999999, 0.2999999999999998, 0.1499999999999999, 0.1499999999999999, 0.10000000000000009, 0.0, 0.20000000000000018, 0.48, 0.0, 0.03000000000000025, 0.27, 0.18999999999999995, 0.029999999999999805, 0.04999999999999982, 0.5499999999999998, nan, 0.5, 0.30000000000000027, 0.30000000000000027, 0.0, 0.3500000000000001, 0.1499999999999999, 0.1499999999999999, 0.75, nan, 1.0, 0.20000000000000018, 0.10000000000000009, 0.10000000000000009, 0.0, nan, nan, 0.0, 0.75, 0.25, 0.0, nan, 0.2999999999999998, 0.8999999999999999, 0.40000000000000036, 0.0, 0.7000000000000002, 0.0, nan, 0.30000000000000027, 0.10000000000000009, 0.10000000000000009, 0.6999999999999997, 0.5999999999999996, 0.5999999999999996, 0.2999999999999998, 0.2999999999999998, 0.0, 0.5, 0.0, 0.0, 0.0, 0.25, 0.0, 0.5, 0.0, 0.0, 0.0, 0.33999999999999986, 0.6199999999999997, 0.3900000000000001, 0.06000000000000005, 0.040000000000000036, 0.1499999999999999, 0.5599999999999996, 0.14999999999999947, 1.1400000000000001, 1.4099999999999997, 0.0, 0.0, 0.09999999999999964, 0.30000000000000027, 0.0, 0.3999999999999999, 0.5, 0.0, nan, 1.1, 0.6000000000000001, 0.10000000000000009, 0.1499999999999999, 0.1499999999999999, 0.3500000000000001, 0.04999999999999982, 0.3999999999999999, 0.1499999999999999, 0.1499999999999999, 0.52, 0.1900000000000004, 0.03000000000000025, 0.17999999999999972, 0.10999999999999943, 0.010000000000000675, 0.019999999999999574, 0.2200000000000002, 0.19999999999999973, nan, 0.2599999999999998, nan, 0.2999999999999998, 0.25, 0.2999999999999998, 0.15000000000000036, 0.04999999999999982, 0.10000000000000053, 0.40000000000000036, 0.7000000000000002, 0.3899999999999997, 0.2799999999999998, 1.25, 0.0, 0.0, 0.0, 0.0, 1.0, 0.0, 0.10000000000000009, 0.10000000000000009, 0.20000000000000018, 0.7000000000000002, 0.5, 0.1499999999999999, 0.3500000000000001, nan, 0.5, 0.25, nan, 0.7999999999999998, 0.5999999999999996, 0.9000000000000004, 0.0, 0.5, 0.09999999999999964, nan, 0.40000000000000036, 0.09999999999999964, 0.0, 0.0, 0.10000000000000053, 0.10000000000000053, 0.2999999999999998, 0.5, 0.0, nan, 0.31000000000000005, 0.0, 0.25, 0.5, 0.75, 0.0, 0.5, nan, nan, 1.2999999999999998, 0.3999999999999999, 0.10000000000000009, 0.5999999999999996, 0.3000000000000007, nan, 0.0, 0.0, 0.25, 0.0, 0.0, 0.0, 0.5, 0.0, 0.0, 0.5, 0.0, 0.10999999999999988, 1.02, 0.26000000000000023, 1.1099999999999999, 0.33000000000000007, 0.22999999999999954, nan, 0.5, 0.0, 0.20000000000000018, 0.40000000000000036, 0.09999999999999964, 0.39999999999999947, 0.10000000000000053, 0.09999999999999964, 0.0, nan, 1.2999999999999998, 0.04999999999999982, 0.04999999999999982, 0.25, 0.25, 0.40000000000000036, 0.39000000000000057, 0.10999999999999988, 0.36999999999999966, 0.6400000000000006, 0.03000000000000025, 0.11000000000000032, 0.16999999999999993, 0.14999999999999947, 0.020000000000000462, 0.019999999999999574, 0.3099999999999996, 0.20000000000000018, 2.5100000000000002, 0.1200000000000001, nan, 0.020000000000000018, nan, 0.7999999999999998, 0.19999999999999973, 0.04999999999999982, 0.25, 0.050000000000000266, 0.6499999999999999, 0.25, 0.15000000000000036, 0.6300000000000008, 0.07000000000000028, nan, 0.2999999999999998, 0.34999999999999964, nan, 0.04999999999999982, 0.9400000000000004, 0.09999999999999964, 1.1600000000000001, 0.1200000000000001, 0.9400000000000004, 0.3700000000000001, 0.03000000000000025, 0.16999999999999993, 0.20000000000000018, 0.0, 0.2999999999999998, 0.0, 0.5, 0.20000000000000018, 0.0, 0.39999999999999947, 0.0, nan, 0.19999999999999973, 0.6999999999999997, 0.3000000000000007, 0.6999999999999993, 0.40000000000000036, 0.20000000000000018, 0.39999999999999947, 0.40000000000000036, 0.0, 0.20000000000000018, 0.0, 0.2999999999999998, 0.0, 1.0, nan, 0.3900000000000001, 0.2200000000000002, 0.4500000000000002, 0.1999999999999993, 0.6699999999999999, 0.22999999999999954, 0.09999999999999964, 0.79, 0.1999999999999993, 0.3000000000000007, 0.09999999999999964, 0.09999999999999964, 0.1999999999999993, nan, nan, 0.10000000000000009, 0.10000000000000009, 0.0, 0.9999999999999996, 0.09999999999999964, 0.3999999999999999, 0.1499999999999999, 0.4500000000000002, 0.20000000000000018, 0.10000000000000009, 0.10000000000000009, 0.0, nan, 0.09999999999999964, nan, 0.09999999999999964, nan, 0.7999999999999998, nan, 0.3999999999999999, 0.20000000000000018, 0.10000000000000009, 0.04999999999999982, 0.04999999999999982, 0.20000000000000018, 0.10000000000000009, 0.10000000000000009, 0.20000000000000018, 0.3999999999999999, nan, 0.0, 0.0, 0.0, 0.5, nan, 0.20000000000000018, 0.04999999999999982, nan, nan, nan, 0.2999999999999998, 0.0, 0.0, 1.0, 0.0, 0.0, 0.0, 1.0, 0.0, 0.5, 0.0, 0.0, 0.0, 0.0, 0.0, 0.3600000000000003, 0.3899999999999997, 0.03000000000000025, 0.20999999999999996, 0.040000000000000036, 0.41999999999999993, 0.15000000000000036, nan, 0.3200000000000003, 0.040000000000000036, 0.41000000000000014, 0.20999999999999996, 0.21999999999999975, 0.09999999999999964, 0.009999999999999787, 0.3700000000000001, 0.04999999999999982, 0.5999999999999996, 0.04999999999999982, 0.25, 0.25, 0.15000000000000036, 0.1999999999999993, 0.40000000000000036, 0.0, 0.0, 0.5, 0.0, 0.0, 0.0, 0.10000000000000009, 0.7000000000000002, 0.19999999999999973, 0.7000000000000002, 0.2999999999999998, 0.20000000000000018, 0.25, 0.20000000000000018, 0.04999999999999982, nan, 0.0, 0.0, 0.0, 0.75, 0.25, 0.0, 0.0, 1.5, 0.0, 0.25, 0.25, 0.20000000000000018, 0.25, 0.050000000000000266, 0.1499999999999999, 0.10999999999999988, 0.2799999999999998, 0.020000000000000462, 0.21999999999999975, 0.17999999999999972, 0.13999999999999968, nan, nan, 0.3999999999999999, 0.10000000000000009, 0.050000000000000266, 0.1499999999999999, 0.0, 0.09999999999999964, 0.04999999999999982, 0.0, 0.10000000000000009, 0.050000000000000266, nan, nan, nan, 0.0, 0.39999999999999947, 0.10000000000000053, 0.0, 0.09999999999999964, 0.20000000000000018, nan, 0.0, nan, 0.0, 0.25, 0.75, 0.0, 0.5, 0.0, 0.0, 0.0, 0.09999999999999964, 0.10000000000000053, 0.20000000000000018, 0.1999999999999993, 0.10000000000000053, 0.10000000000000053, 0.0, nan, 0.0, 0.10000000000000009, 0.10000000000000009, 0.8700000000000001, 0.2400000000000002, 0.04999999999999982, 0.5999999999999996, 0.020000000000000462, 0.34999999999999964, 0.04999999999999982, nan, 0.0, 0.0, 1.0, 0.5, 0.0, 0.0, 0.75, 0.04999999999999982, 1.4, 0.19999999999999973, 0.2999999999999998, 0.04999999999999982, 0.0, 0.19999999999999973, 0.3500000000000001, 0.09999999999999964, 0.1900000000000004, 0.09999999999999964, nan, 0.15999999999999925, 0.08999999999999986, nan, nan, 1.0, 0.09999999999999964, 0.0, 0.0, 0.6000000000000005, 0.20000000000000018, 0.09999999999999964, nan, 0.0, 0.0, nan, 0.09999999999999964, nan, 1.2999999999999998, 0.20000000000000018, 0.0, 0.40000000000000036, 0.39999999999999947, 0.3000000000000007, 0.10000000000000053, nan, 0.0, nan, 0.17999999999999972, 1.3399999999999999, 0.08000000000000007, 0.2999999999999998, 0.5, 0.25, 0.009999999999999787, 0.33999999999999986, 0.5, 0.09999999999999964, 0.20000000000000018, 0.20000000000000018, 0.1999999999999993, 0.40000000000000036, 0.09999999999999964, nan, 0.20000000000000018, 0.10000000000000009, 0.10000000000000009, nan, 0.25, 0.0, 0.0, 0.0, 0.0, 0.0, nan, 0.5000000000000004, 0.7399999999999998, 0.009999999999999787, 0.14000000000000057, 0.2699999999999996, 0.5099999999999998, 0.25, 0.16999999999999993, 0.40000000000000036, 0.10000000000000053, 0.09999999999999964, 0.20000000000000018, 0.09999999999999964, 0.0, 0.10000000000000053, 0.34999999999999964, 0.0, 0.25, 0.0, 0.25, 0.0, 0.0, 0.1499999999999999, 0.3500000000000001, 0.75, 0.1499999999999999, 0.1499999999999999, 0.04999999999999982, 0.25, 0.25, 0.0, 0.0, 0.0, nan, 0.2999999999999998, nan, 0.0, 0.0, nan, 0.09999999999999964, 0.25, 0.05000000000000071, 0.10000000000000053, 0.0, 0.20000000000000018, 0.0, 0.0, 0.3099999999999996, 0.0699999999999994, 0.5199999999999996, nan, 0.0, 0.2999999999999998, nan, 0.2999999999999998, 0.0, 0.15000000000000036, 0.0, 0.04999999999999982, 0.1499999999999999, nan, 0.0, 0.10000000000000009, 0.19999999999999973, 0.0, 1.6, 0.09999999999999964, 0.10000000000000053, nan, 0.0, nan, 0.2999999999999998, 0.0, 0.25, 0.0, 1.25, 0.0, 0.5, 0.0, 0.20000000000000018, 0.40000000000000036, 0.5999999999999996, 1.2000000000000002, 0.1999999999999993, 0.09999999999999964, 0.09999999999999964, nan, 0.10000000000000009, 0.0, 0.5999999999999996, 0.5, 0.10000000000000053, 0.20000000000000018, 0.0, 1.0999999999999996, 0.0, 1.0, 0.0, 0.0, 0.0, 0.25, nan, 0.2799999999999998, 0.7000000000000002, 0.5800000000000001, 0.1299999999999999, 0.20000000000000018, 0.07999999999999918, 0.6400000000000006, 0.45999999999999996, 0.09999999999999964, 0.0, 0.09999999999999964, 0.10000000000000053, 3.3499999999999996, nan, 0.25, 0.0, 0.5, 0.0, 0.0, 0.0, 0.25, 0.04999999999999982, 0.40000000000000036, 0.7000000000000002, 0.25, 0.25, 0.25, 0.09999999999999964, 0.03000000000000025, 0.5300000000000002, 0.009999999999999787, 0.009999999999999787, 0.040000000000000036, 0.09999999999999964, 0.3100000000000005, 0.020000000000000462, 0.2599999999999998, 0.0, nan, nan, 0.0, 0.40000000000000036, nan, 0.0, 0.09999999999999964, nan, 0.050000000000000266, 0.3500000000000001, 0.0, 0.2999999999999998, 0.3999999999999999, 0.3999999999999999, 0.5, 0.40000000000000036, 0.2999999999999998, nan, 0.0, nan, 0.7999999999999998, 0.0, 0.0, 0.0, 1.0, 0.0, 1.0, 0.0, 0.5, 0.0, 0.09999999999999964, 0.10000000000000053, 0.0, 0.20000000000000018, 0.40000000000000036, nan, 0.09999999999999964, 0.0, 0.20000000000000018, 0.6000000000000005, 0.09999999999999964, 0.0, 0.09999999999999964, 0.40000000000000036, 0.0, 1.0, 0.0, 0.25, 0.0, 0.25, nan, 0.29000000000000004, 0.07999999999999963, 1.2000000000000002, 0.27000000000000046, nan, 0.2999999999999998, 0.5, 0.09999999999999964, 0.10000000000000053, 0.0, 0.20000000000000018, 0.5, 0.0, 0.25, 0.75, 0.0, 0.0, 0.5, 0.0, 0.20000000000000018, 0.050000000000000266, 0.0, 0.19999999999999973, 0.14000000000000012, 0.08999999999999986, 0.3999999999999999, 0.0, 0.7400000000000002, nan, 0.10000000000000053, nan, 0.7999999999999998, 0.0, 0.0, 0.0, nan, 0.0, nan, 0.39999999999999947, 0.40000000000000036, 0.0, 0.0, nan, 0.0, nan, 0.20000000000000018, 0.04999999999999982, nan, nan, 0.7999999999999998, 0.40000000000000036, 0.0, 0.0, 0.0, 1.0, 0.10000000000000053, 0.20000000000000018, 0.2999999999999998, nan, nan, 0.0, nan, 0.10000000000000053, 0.09999999999999964, 0.09999999999999964, 0.20000000000000018, 0.10000000000000053, 0.20000000000000018, nan, 0.0, 0.39999999999999947, 0.10000000000000053, 0.7999999999999998, 0.09999999999999964, nan, 0.25, 1.4000000000000004, 0.0, 0.0, 0.0, 0.0, nan, 0.4399999999999995, 1.1899999999999995, 0.15999999999999925, 0.2699999999999996, 0.08000000000000007, 0.2400000000000002, 0.09999999999999964, 0.41000000000000014, 0.2999999999999998, 0.39999999999999947, 0.10000000000000053, 0.40000000000000036, 0.0, 0.0, 0.2999999999999998, 0.0, 0.0, 0.0, 0.5, 0.0, 0.0, 0.0, 0.25, 0.04999999999999982, 0.39999999999999947, 0.3000000000000007, 0.09999999999999964, 0.20000000000000018, 0.2999999999999998, 0.34999999999999964, 0.08000000000000007, 0.16999999999999993, 0.1900000000000004, 0.14999999999999947, 0.009999999999999787, nan, 0.20000000000000018, nan, 1.0999999999999996, 0.5, 0.3999999999999999, 0.10000000000000009, 0.0, 0.10000000000000009, 0.0, nan, 0.0, 0.10000000000000053, nan, 0.09999999999999964, 0.40000000000000036, 0.1999999999999993, 0.09999999999999964, 0.09999999999999964, 0.40000000000000036, nan, 0.0, nan, 0.0, 0.8999999999999999, 0.10000000000000009, 0.40000000000000036, 0.1999999999999993, 0.7000000000000002, 0.0, nan, 0.10000000000000053, 0.0, 0.09999999999999964, 0.0, 0.0, 0.5, 0.0, 0.5, 0.04999999999999982, nan, 0.1499999999999999, 0.10000000000000009, 0.19999999999999973, 0.30000000000000027, 0.2999999999999998, 0.5, 0.0, nan, 0.09999999999999964, 0.2999999999999998, 0.04999999999999982, 0.15000000000000036, 0.09999999999999964, 0.0, nan, 0.6200000000000001, 0.6299999999999999, 0.20000000000000018, 0.2999999999999998, 0.15000000000000036, 0.15000000000000036, 0.04999999999999982, 0.25, 0.2999999999999998, 0.10000000000000053, 0.0, 0.2999999999999998, 0.20000000000000018, 0.10000000000000053, 0.09999999999999964, 0.7999999999999998, 0.0, 0.40000000000000036, 0.09999999999999964, 0.0, 0.2999999999999998, 0.40000000000000036, 0.04999999999999982, 0.15000000000000036, 0.04999999999999982, 0.5499999999999998, 0.04999999999999982, 0.04999999999999982, 0.5499999999999998, 0.5, nan, 0.0, 0.10000000000000053, 1.0, nan, 1.0, nan, 0.0, nan, 0.8999999999999995, 0.15000000000000036, 0.25, 0.34999999999999964, 0.3000000000000007, 0.1999999999999993, 0.04999999999999982, 0.04999999999999982, nan, 0.0, 0.20000000000000018, 0.10000000000000053, 0.0, nan, 0.0, 0.04999999999999982, 0.0, nan, 0.75, 0.40000000000000036, 0.09999999999999964, 0.20000000000000018, 0.0, 0.09999999999999964, 0.0, nan, 0.09999999999999964, nan, 0.0, 0.0, 0.0, 1.0, 0.0, 0.0, 0.25, 0.0, 0.0, 0.5499999999999998, 0.20000000000000018, 0.20000000000000018, 0.20000000000000018, 0.0, 0.20000000000000018, 0.40000000000000036, nan, 0.39999999999999947, 0.5, 0.2999999999999998, 0.40000000000000036, 0.09999999999999964, nan, 0.0, 0.25, 0.5, 0.25, 0.0, 0.25, nan, 0.09999999999999964, 0.2999999999999998, 0.09999999999999964, 0.5, 0.09999999999999964, 0.7999999999999998, 0.4499999999999993, 0.34999999999999964, nan, 0.34999999999999964, 0.25, 0.0, 0.5, 0.0, 0.0, 0.0, 0.34999999999999964, 0.09999999999999964, 0.25, 0.20000000000000018, 0.04999999999999982, 0.04999999999999982, 0.20000000000000018, 0.09999999999999964, nan, 0.2400000000000002, 0.05999999999999961, 0.09999999999999964, nan, 0.04999999999999982, 0.15000000000000036, 0.49999999999999956, 0.1499999999999999, 0.25, 0.40000000000000036, 0.1999999999999993, 0.20000000000000018, 0.7999999999999998, 0.0, 0.0, nan, nan, 0.0, 0.0, nan, 0.15000000000000036, 0.25, nan, 0.04999999999999982, 0.75, 1.3000000000000003, 1.3000000000000003, 0.2999999999999998, 0.20000000000000018, 0.5, 0.0, 0.5999999999999996, nan, 0.09999999999999964, nan, 0.0, 0.5, 0.5, 0.25, 0.25, 0.25, 0.0, 0.0, 0.5499999999999998, 0.40000000000000036, 0.2999999999999998, 0.09999999999999964, 0.09999999999999964, 0.09999999999999964, 0.0, nan, 0.8000000000000003, 0.7999999999999998, 0.09999999999999964, 0.6000000000000005, 0.0, 0.0, 0.20000000000000018, 0.09999999999999964, 0.0, 0.5, 0.5, 0.0, 0.0, 0.0, nan, 0.27999999999999936, 0.040000000000000036, 0.1900000000000004, 0.14999999999999947, 0.020000000000000462, 0.08999999999999986, 0.20999999999999996, 0.6900000000000004, 0.39999999999999947, 0.0, 0.20000000000000018, 0.40000000000000036, 0.20000000000000018, 0.0, 0.20000000000000018, 0.5, 0.0, 0.0, 0.5, 0.0, 0.0, 0.0, 0.40000000000000036, 0.0, 0.09999999999999964, 0.20000000000000018, 0.14999999999999947, 0.15000000000000036, 0.04999999999999982, 0.14999999999999947, 0.9700000000000006, 0.14999999999999947, nan, 0.0, nan, 0.7999999999999998, nan, nan, 0.0, 0.5000000000000004, 0.34999999999999964, 0.25, 0.15000000000000036, 0.1999999999999993, 0.0, 0.09999999999999964, 0.15000000000000036, nan, nan, nan, 0.09999999999999964, 0.0, 0.0, 0.0, 0.15000000000000036, 0.0, nan, 1.0, 0.14999999999999947, 0.40000000000000036, 0.0, 0.5999999999999996, 0.40000000000000036, 0.7999999999999998, 0.5, 0.09999999999999964, nan, 0.0, nan, 0.5, 0.5, 0.25, 0.0, 0.75, 0.0, 0.5, 0.75, 0.8499999999999996, 0.3000000000000007, 0.1999999999999993, 0.0, 0.10000000000000053, 0.10000000000000053, 0.09999999999999964, nan, 0.09999999999999964, 0.40000000000000036, 0.2999999999999998, 0.5999999999999996, 0.39999999999999947, 0.39999999999999947, 0.0, 0.20000000000000018, 0.0, 0.25, 0.25, 0.25, 0.0, 0.0, nan, 0.1200000000000001, 0.3799999999999999, 0.6600000000000001, nan, 0.27999999999999936, 0.27000000000000046, 0.5, 0.0, 0.09999999999999964, 0.2999999999999998, 0.0, 0.09999999999999964, 0.3000000000000007, 0.8499999999999996, 0.0, 0.0, 0.5, 0.0, 0.0, 0.0, 0.5, 0.25, 0.04999999999999982, 0.40000000000000036, 0.2999999999999998, 0.25, 0.6500000000000004, 0.09999999999999964, 0.16999999999999993, 0.13999999999999968, 0.41999999999999993, 0.5300000000000002, 0.040000000000000036, 0.4400000000000004, nan, 1.2000000000000002, nan, 0.10000000000000053, 0.0, 0.09999999999999964, 0.0, 0.2999999999999998, 0.0, 0.0, 0.20000000000000018, 0.5999999999999996, nan, 0.0, nan, nan, nan, 0.0, 0.0, nan, 0.15000000000000036, 0.25]\n"
     ]
    },
    {
     "data": {
      "text/plain": "<contextlib.ExitStack at 0x263663f4810>"
     },
     "execution_count": 12,
     "metadata": {},
     "output_type": "execute_result"
    },
    {
     "data": {
      "text/plain": "<Figure size 1200x600 with 0 Axes>"
     },
     "execution_count": 12,
     "metadata": {},
     "output_type": "execute_result"
    },
    {
     "data": {
      "text/plain": "[<matplotlib.lines.Line2D at 0x26365ae2090>]"
     },
     "execution_count": 12,
     "metadata": {},
     "output_type": "execute_result"
    },
    {
     "data": {
      "text/plain": "Text(0.5, 0, 'Time')"
     },
     "execution_count": 12,
     "metadata": {},
     "output_type": "execute_result"
    },
    {
     "data": {
      "text/plain": "Text(0, 0.5, 'Power Consumption Changes')"
     },
     "execution_count": 12,
     "metadata": {},
     "output_type": "execute_result"
    },
    {
     "data": {
      "text/plain": "Text(0.5, 1.0, 'Power Consumption Changes Over Time (e1)')"
     },
     "execution_count": 12,
     "metadata": {},
     "output_type": "execute_result"
    },
    {
     "data": {
      "text/plain": "<Figure size 1200x600 with 0 Axes>"
     },
     "execution_count": 12,
     "metadata": {},
     "output_type": "execute_result"
    },
    {
     "data": {
      "text/plain": "[<matplotlib.lines.Line2D at 0x2634ad8d7d0>]"
     },
     "execution_count": 12,
     "metadata": {},
     "output_type": "execute_result"
    },
    {
     "data": {
      "text/plain": "Text(0.5, 0, 'Time')"
     },
     "execution_count": 12,
     "metadata": {},
     "output_type": "execute_result"
    },
    {
     "data": {
      "text/plain": "Text(0, 0.5, 'Power Consumption Changes')"
     },
     "execution_count": 12,
     "metadata": {},
     "output_type": "execute_result"
    },
    {
     "data": {
      "text/plain": "Text(0.5, 1.0, 'Power Consumption Changes Over Time between 12am to 8am')"
     },
     "execution_count": 12,
     "metadata": {},
     "output_type": "execute_result"
    }
   ],
   "source": [
    "power_change = []\n",
    "for i in range(1, len(df)):\n",
    "    if (pd.notna(DF['MW'].iloc[i]) and pd.notna(DF['MW'].iloc[i+1]) and (DF['Time'].iloc[i].hour - DF['Time'].iloc[i-1].hour == 1)):\n",
    "        power_change.append(abs(DF['MW'].iloc[i] - DF['MW'].iloc[i-1]))\n",
    "\n",
    "print(power_change)\n",
    "indices = list(range(len(power_change)))\n",
    "\n",
    "plt.ion()\n",
    "plt.figure(figsize=(12, 6))\n",
    "plt.plot(indices, power_change, marker='o', linestyle='-', color = 'y')\n",
    "plt.xlabel('Time')\n",
    "plt.ylabel('Power Consumption Changes')\n",
    "plt.title('Power Consumption Changes Over Time (e1)')\n",
    "plt.grid(True)\n",
    "plt.show()\n",
    "power_change = []\n",
    "for i in range(1, len(df_12am_to_8am)):\n",
    "    if (df_12am_to_8am['Time'].iloc[i].hour - df_12am_to_8am['Time'].iloc[i-1].hour == 1):\n",
    "        power_change.append(abs(df_12am_to_8am['MW'].iloc[i] - df_12am_to_8am['MW'].iloc[i-1]))\n",
    "indices = list(range(len(power_change)))\n",
    "\n",
    "plt.figure(figsize=(12, 6))\n",
    "plt.plot(indices, power_change, marker='o', linestyle='-', color ='b')\n",
    "plt.xlabel('Time')\n",
    "plt.ylabel('Power Consumption Changes')\n",
    "plt.title('Power Consumption Changes Over Time between 12am to 8am')\n",
    "plt.grid(True)\n",
    "plt.show()"
   ],
   "metadata": {
    "collapsed": false,
    "ExecuteTime": {
     "end_time": "2023-10-24T09:24:45.224873Z",
     "start_time": "2023-10-24T09:24:44.583455200Z"
    }
   }
  },
  {
   "cell_type": "code",
   "execution_count": 13,
   "outputs": [
    {
     "name": "stdout",
     "output_type": "stream",
     "text": [
      "[0.10000000000000053, 0.20000000000000018, 0.30000000000000027, 0.41999999999999993, 0.09999999999999964, 0.29999999999999893, 8.881784197001252e-16, 0.10000000000000053, 0.11999999999999966, 0.1299999999999999, 0.050000000000000266, 0.08999999999999986, 0.22999999999999954, 0.27999999999999936, 0.14000000000000057, 0.9999999999999996, 0.20000000000000018, 0.09999999999999964, 8.881784197001252e-16, 0.7999999999999998, 0.5999999999999996, 0.0, 0.2999999999999998, 0.34999999999999964, 0.25, 0.15000000000000036, 0.4500000000000002, 0.5999999999999996, 0.04999999999999982, 0.15000000000000036, 0.04999999999999982, 0.20000000000000018, 0.40000000000000036, 0.30000000000000027, 1.1099999999999999, 1.1600000000000001, 0.2699999999999996, 0.4500000000000002, 0.5800000000000001, 0.5899999999999999, 0.5199999999999996, 0.6599999999999997, 0.4399999999999995, 0.0, 0.0, 0.0, 0.20000000000000018, 0.20000000000000018, 0.5, 0.20000000000000018, 0.5, 0.5, 0.0, 0.0, 0.6000000000000001, 0.8499999999999996, 0.4500000000000002, 0.21999999999999975, 0.3599999999999999, 0.3400000000000003, 0.20000000000000018, 0.08999999999999897, 0.040000000000000924, 0.13999999999999968, 0.08999999999999986, 0.23000000000000043, 0.25, 0.09999999999999964, 0.3000000000000007, 0.20000000000000018, 0.20000000000000018, 0.0, 0.20000000000000018, 0.0, 0.0, 0.009999999999999787, 0.04999999999999982, 0.20000000000000018, 0.20000000000000018, 0.20000000000000018, 0.09999999999999964, 0.39999999999999947, 0.2999999999999998, 0.40000000000000036, 0.30000000000000027, 0.09999999999999964, 0.3999999999999999, 0.3999999999999999, 0.5, 0.5, 0.0, 0.0, 0.0, 0.0, 0.5, 0.5, 0.25, 0.25, 0.0, 0.0, 0.5499999999999998, 1.0500000000000003, 0.20000000000000018, 0.09999999999999964, 0.3000000000000007, 0.10000000000000053, 0.10000000000000053, 0.0, 0.2999999999999998, 0.20000000000000018, 0.7999999999999998, 0.25, 0.25, 0.5, 0.5, 0.0, 0.0, 0.4500000000000002, 0.44999999999999973, 0.6999999999999997, 0.5, 0.10000000000000053, 0.5999999999999996, 0.5, 0.09999999999999964, 0.14999999999999947, 0.04999999999999982, 0.0, 0.0, 0.0, 0.0, 0.2999999999999998, 0.8999999999999999, 0.05999999999999961, 0.96, 0.1200000000000001, 0.5999999999999996, 0.020000000000000018, 0.020000000000000018, 0.20000000000000018, 0.14000000000000012, 0.7999999999999998, 0.9000000000000004, 0.10000000000000053, 0.5000000000000009, 0.3000000000000007, 0.3000000000000007, 0.15000000000000036, 0.15000000000000036, 0.0, 0.0, 0.0, 0.0, 0.09999999999999964, 0.0, 0.2999999999999998, 0.5499999999999998, 0.05000000000000071, 0.05000000000000071, 0.04999999999999982, 0.20000000000000018, 0.2799999999999998, 0.6199999999999997, 0.09999999999999964, 0.27000000000000046, 0.019999999999999574, 0.3600000000000003, 0.09999999999999964, 0.2699999999999996, 0.08000000000000007, 0.2400000000000002, 0.7000000000000002, 0.2999999999999998, 0.25, 0.2999999999999998, 0.15000000000000036, 0.09999999999999964, 0.04999999999999982, 0.09999999999999964, 0.04999999999999982, 0.20000000000000018, 0.1900000000000004, 0.2999999999999998, 0.0, 0.21999999999999975, 0.2999999999999998, 0.0, 0.0, 0.10000000000000053, 0.0, 0.10000000000000009, 0.19999999999999973, 4.440892098500626e-16, 0.10000000000000009, 0.10000000000000009, 0.0, 0.2999999999999998, 0.5, 0.5, 0.5, 0.5, 0.0, 0.5, 0.9000000000000004, 0.2999999999999998, 0.40000000000000036, 0.10000000000000053, 0.10000000000000053, 0.40000000000000036, 0.10000000000000053, 0.10000000000000053, 0.09999999999999964, 0.04999999999999982, 0.05000000000000071, 0.5, 0.5, 0.0, 0.0, 0.5, 0.3999999999999999, 0.10000000000000053, 0.10000000000000053, 0.09999999999999964, 0.1800000000000006, 0.07000000000000028, 0.41999999999999993, 0.13999999999999968, 0.11000000000000032, 0.2599999999999998, 0.3199999999999994, 0.09999999999999964, 0.5, 0.5, 0.0, 0.0, 0.25, 0.25, 0.15000000000000036, 0.4500000000000002, 0.05000000000000071, 0.35000000000000053, 0.35000000000000053, 0.04999999999999982, 0.6000000000000001, 0.6000000000000001, 0.45999999999999996, 0.20000000000000018, 0.05999999999999961, 0.2599999999999998, 0.0, 0.07000000000000028, 0.4399999999999995, 0.34999999999999964, 0.3999999999999999, 0.0, 0.0, 0.30000000000000027, 0.10000000000000053, 0.3999999999999999, 1.4, 0.5, 0.39999999999999947, 0.0, 0.10000000000000053, 0.3000000000000007, 0.20000000000000018, 0.04999999999999982, 0.3100000000000005, 0.370000000000001, 0.13999999999999968, 0.029999999999999805, 0.25, 0.25, 0.25, 0.25, 0.25, 0.25, 0.20000000000000018, 0.25, 0.13999999999999968, 0.20000000000000018, 0.0, 0.09999999999999964, 0.1999999999999993, 0.39999999999999947, 0.09999999999999964, 0.10000000000000053, 0.20000000000000018, 0.3899999999999997, 0.2999999999999998, 0.10000000000000053, 0.7000000000000002, 1.1000000000000005, 0.1999999999999993, 0.20000000000000018, 0.15000000000000036, 0.04999999999999982, 0.04999999999999982, 0.04999999999999982, 0.15000000000000036, 0.20000000000000018, 0.15000000000000036, 0.04999999999999982, 0.5, 0.0, 0.0, 0.0, 0.2599999999999998, 1.2400000000000007, 1.0100000000000007, 0.08999999999999986, 0.07000000000000028, 0.020000000000000462, 0.28000000000000025, 0.22999999999999954, 0.1800000000000006, 0.09999999999999964, 8.881784197001252e-16, 0.20000000000000018, 0.40000000000000036, 0.09999999999999964, 0.20000000000000018, 0.5, 0.0, 0.0, 0.0, 0.14999999999999947, 0.14999999999999947, 0.09999999999999964, 0.08000000000000096, 0.11999999999999922, 0.09999999999999964, 0.2400000000000002, 0.0, 0.5999999999999996, 0.10000000000000053, 0.1999999999999993, 0.1999999999999993, 0.0, 0.19999999999999973, 0.09999999999999964, 0.5, 0.5, 0.39999999999999947, 0.10000000000000053, 0.15000000000000036, 0.10000000000000053, 0.10000000000000053, 0.3000000000000007, 0.0, 0.20000000000000018, 0.10000000000000053, 0.25, 0.75, 0.75, 0.0, 0.0, 0.0, 0.25, 0.20000000000000018, 0.15000000000000036, 0.09999999999999964, 0.7999999999999989, 0.5, 0.3000000000000007, 0.5, 0.9000000000000004, 0.8999999999999995, 0.39999999999999947, 0.40000000000000036, 0.25, 0.25, 0.25, 0.04999999999999982, 0.09999999999999964, 0.2999999999999998, 0.5999999999999996, 0.6000000000000005, 0.20000000000000018, 0.09999999999999964, 0.5, 0.25, 0.25, 0.0, 0.0600000000000005, 0.8899999999999997, 0.8899999999999997, 0.17999999999999972, 0.1200000000000001, 0.20999999999999996, 0.2400000000000002, 0.20000000000000018, 0.10000000000000053, 0.3000000000000007, 0.20000000000000018, 0.09999999999999964, 0.0, 0.0, 0.09999999999999964, 0.4999999999999991, 0.34999999999999964, 0.09999999999999964, 8.881784197001252e-16, 0.09999999999999964, 0.04999999999999982, 0.3000000000000007, 0.20000000000000018, 0.5, 8.881784197001252e-16, 0.3000000000000007, 0.09999999999999964, 0.10000000000000053, 0.34999999999999964, 0.20000000000000018, 0.34999999999999964, 0.25, 0.0, 0.0, 0.0, 0.25, 0.5, 0.7000000000000002, 0.20000000000000018, 0.3000000000000007, 0.10000000000000053, 0.10000000000000053, 0.0, 0.25, 0.5, 0.5, 0.0, 0.0, 0.2999999999999998, 0.2999999999999998, 0.09999999999999964, 0.0, 0.0, 0.1999999999999993, 0.0, 0.09999999999999964, 0.0, 0.0, 0.0, 0.25, 0.25, 0.25, 0.15000000000000036, 0.15000000000000036, 0.0, 0.3000000000000007, 0.09999999999999964, 0.10000000000000142, 0.0, 0.09999999999999964, 0.8600000000000003, 0.5099999999999998, 0.4500000000000002, 0.08999999999999986, 0.16999999999999993, 0.009999999999999787, 0.5299999999999994, 0.3200000000000003, 0.10000000000000053, 0.2999999999999998, 0.2999999999999998, 0.20000000000000018, 0.3000000000000007, 0.20000000000000018, 0.2999999999999998, 0.2999999999999998, 0.0, 0.0, 0.5, 0.5, 0.2999999999999998, 0.2999999999999998, 0.40000000000000036, 0.40000000000000036, 1.0, 2.0999999999999996, 1.299999999999999, 0.5999999999999996, 0.6500000000000004, 0.3700000000000001, 0.54, 0.8300000000000001, 0.4500000000000002, 0.34999999999999964, 0.27999999999999936, 0.09999999999999964, 0.2999999999999998, 0.25, 0.0, 0.20000000000000018, 0.5999999999999996, 0.5, 0.04999999999999982, 0.04999999999999982, 0.6999999999999993, 0.04999999999999982, 1.1499999999999995, 0.8999999999999995, 0.20000000000000018, 0.09999999999999964, 0.6000000000000005, 0.20000000000000107, 0.09999999999999964, 0.0, 0.5, 0.75, 0.75, 0.25, 0.25, 0.0, 0.0, 0.6999999999999993, 0.7000000000000011, 0.0, 0.09999999999999964, 0.09999999999999964, 0.20000000000000107, 0.0, 0.5, 0.0, 0.0, 0.75, 0.5, 0.25, 0.0, 0.1999999999999993, 0.8000000000000007, 0.40000000000000213, 0.09999999999999787, 1.7763568394002505e-15, 0.09999999999999964, 0.40000000000000036, 0.10000000000000142, 0.6300000000000008, 0.2400000000000002, 0.05999999999999872, 0.3199999999999985, 0.08999999999999986, 0.20000000000000107, 0.16999999999999993, 0.2699999999999996, 0.09999999999999964, 0.09999999999999964, 0.5, 0.29999999999999893, 0.29999999999999893, 0.1999999999999993, 0.1999999999999993, 0.1999999999999993, 1.0, 1.0, 0.0, 0.0, 1.0, 1.0999999999999996, 0.0, 0.15000000000000036, 0.15000000000000036, 0.15000000000000036, 0.0, 0.15000000000000036, 0.2400000000000002, 0.8599999999999994, 1.299999999999999, 0.28999999999999915, 0.05000000000000071, 0.13000000000000078, 0.2699999999999996, 0.09999999999999964, 0.09000000000000163, 0.00999999999999801, 0.20000000000000018, 0.5999999999999996, 0.0, 0.5, 0.40000000000000036, 0.20000000000000018, 0.20000000000000018, 0.0, 0.39999999999999947, 0.3799999999999999, 0.14000000000000057, 0.2999999999999998, 1.5000000000000009, 1.3000000000000007, 0.0, 0.1999999999999993, 0.10000000000000053, 0.3000000000000007, 0.20000000000000107, 0.09999999999999964, 0.04999999999999982, 0.0, 0.25, 0.0, 0.0, 0.25, 0.25, 0.34999999999999964, 0.2499999999999991, 0.40000000000000036, 0.9000000000000004, 0.3000000000000007, 1.7763568394002505e-15, 0.09999999999999964, 0.75, 0.25, 0.5999999999999996, 0.40000000000000036, 0.05000000000000071, 0.20000000000000018, 0.34999999999999964, 0.4500000000000002, 0.2999999999999998, 0.0, 0.10000000000000053, 0.3000000000000007, 0.39999999999999947, 0.5, 0.0, 0.0, 0.5, 0.5, 0.75, 0.20000000000000018, 0.8499999999999996, 0.0, 0.5, 8.881784197001252e-16, 0.15000000000000036, 0.20000000000000018, 0.1200000000000001, 1.3500000000000005, 0.7999999999999998, 0.3899999999999997, 0.16000000000000014, 0.8300000000000001, 0.669999999999999, 0.3000000000000007, 0.40000000000000036, 0.20000000000000018, 0.25, 0.25, 0.25, 0.0, 0.15000000000000036, 0.29000000000000004, 0.10000000000000053, 1.0, 1.0999999999999996, 0.2999999999999998, 0.20000000000000018, 0.39999999999999947, 0.3000000000000007, 0.0, 0.09999999999999964, 0.2999999999999998, 0.5, 0.25, 0.25, 0.25, 0.25, 0.0, 0.25, 0.75, 0.5, 0.25, 0.0, 0.0, 0.5999999999999996, 0.5999999999999996, 0.1999999999999993, 0.09999999999999964, 0.1999999999999993, 1.7763568394002505e-15, 0.29999999999999893, 0.14000000000000057, 0.3699999999999992, 0.08999999999999986, 0.2400000000000002, 0.129999999999999, 0.1999999999999993, 0.75, 0.71, 0.6500000000000004, 1.0, 1.0, 0.0, 0.0, 0.04999999999999982, 0.15000000000000036, 0.34999999999999964, 0.34999999999999964, 0.25, 0.1999999999999993, 0.6499999999999995, 0.6499999999999995, 1.2999999999999998, 0.10000000000000053, 0.04999999999999982, 0.14999999999999947, 0.14999999999999947, 0.15000000000000036, 0.20000000000000018, 0.0, 0.20000000000000018, 0.0, 0.20000000000000018, 0.3000000000000007, 0.09999999999999964, 0.0, 0.5, 0.09999999999999964, 0.0, 0.20000000000000107, 0.5, 0.07000000000000028, 1.0099999999999998, 1.0999999999999996, 0.2999999999999998, 0.1999999999999993, 0.0, 0.0, 0.0, 0.09999999999999964, 0.6999999999999993, 1.0, 0.0, 0.0, 0.1999999999999993, 0.09999999999999964, 0.5, 0.29999999999999893, 0.0, 0.3999999999999986, 0.10000000000000142, 0.20000000000000107, 1.1000000000000005, 0.20000000000000018, 0.0, 0.20000000000000018, 0.20000000000000018, 0.0, 0.14999999999999858, 0.20000000000000107, 0.15000000000000036, 0.15000000000000036, 0.25, 0.5500000000000007, 0.05000000000000071, 0.1999999999999993, 0.030000000000001137, 0.2900000000000009, 0.27999999999999936, 0.10000000000000142, 0.5299999999999994, 0.5, 0.09999999999999964, 0.09999999999999964, 0.1999999999999993, 0.40000000000000036, 0.20000000000000107, 0.0, 0.3000000000000007, 0.0, 0.0, 0.15000000000000036, 0.05000000000000071, 0.15000000000000036, 1.3500000000000005, 1.0500000000000007, 0.4500000000000002, 0.4500000000000002, 0.0, 0.04999999999999982, 0.09999999999999964, 0.1999999999999993, 0.6799999999999997, 0.47999999999999954, 0.03000000000000025, 0.2999999999999998, 0.45999999999999996, 0.21999999999999975, 0.08000000000000007, 0.5, 0.5499999999999998, 0.20000000000000018, 0.6000000000000005, 0.2999999999999998, 0.35000000000000053, 0.5, 0.2999999999999998, 0.9000000000000004, 0.75, 1.2000000000000002, 0.3000000000000007, 0.20000000000000018, 0.09999999999999964, 0.5, 0.75, 0.5, 0.25, 0.0, 0.6000000000000005, 0.5, 0.40000000000000036, 0.7000000000000011, 0.6999999999999993, 0.0, 0.20000000000000018, 0.20000000000000018, 0.5999999999999996, 1.299999999999999, 1.1999999999999993, 0.8999999999999995, 0.0, 0.2999999999999998, 0.5, 0.5, 0.0, 0.0, 0.25, 0.25, 0.5, 0.5, 0.0, 0.0, 0.33999999999999986, 0.9599999999999991, 0.22999999999999954, 0.33000000000000007, 0.020000000000000462, 0.1900000000000004, 0.7099999999999991, 0.7099999999999991, 0.9900000000000002, 2.55, 1.4100000000000001, 0.0, 0.09999999999999964, 0.20000000000000107, 0.2999999999999998, 0.39999999999999947, 0.09999999999999964, 0.5, 1.7000000000000002, 0.7000000000000002, 0.04999999999999982, 0.0, 0.20000000000000018, 0.3000000000000007, 0.4499999999999993, 0.25, 0.2999999999999998, 0.3700000000000001, 0.33000000000000007, 0.22000000000000064, 0.21000000000000085, 0.28999999999999915, 0.09999999999999787, 0.009999999999999787, 0.20000000000000107, 0.020000000000000462, 0.2599999999999998, 0.04999999999999982, 0.04999999999999982, 0.14999999999999858, 0.1999999999999993, 0.05000000000000071, 0.5, 1.1000000000000005, 0.3100000000000005, 0.6699999999999999, 1.25, 0.0, 0.0, 0.0, 1.0, 1.0, 0.09999999999999964, 0.20000000000000018, 0.3000000000000007, 0.9000000000000004, 1.2000000000000002, 0.6500000000000004, 0.20000000000000018, 0.34999999999999964, 0.75, 1.3999999999999995, 0.3000000000000007, 0.9000000000000004, 0.5, 0.40000000000000036, 1.7763568394002505e-15, 0.3000000000000007, 0.09999999999999964, 0.0, 0.09999999999999964, 0.20000000000000107, 0.1999999999999993, 0.1999999999999993, 0.5, 0.3100000000000005, 0.25, 0.25, 0.25, 0.75, 0.5, 0.5, 1.6999999999999993, 0.2999999999999998, 0.6999999999999993, 0.29999999999999893, 0.20000000000000107, 0.0, 0.25, 0.25, 0.0, 0.0, 0.25, 0.5, 0.0, 0.5, 0.5, 0.10999999999999943, 1.13, 1.2800000000000002, 1.37, 0.7799999999999994, 0.5599999999999987, 0.379999999999999, 0.5, 0.20000000000000107, 0.6000000000000014, 0.3000000000000007, 0.5, 0.29999999999999893, 0.0, 0.09999999999999964, 1.3499999999999996, 0.09999999999999964, 0.20000000000000018, 0.0, 0.15000000000000036, 0.7900000000000009, 0.28000000000000114, 0.47999999999999954, 0.27000000000000135, 0.6700000000000017, 0.14000000000000057, 0.28000000000000114, 0.3200000000000003, 0.129999999999999, 0.0, 0.3299999999999983, 0.10999999999999943, 2.63, 0.15999999999999925, 0.019999999999999574, 0.6000000000000005, 0.25, 0.20000000000000018, 0.3000000000000007, 0.6000000000000005, 0.9000000000000004, 0.09999999999999964, 0.7800000000000011, 0.7000000000000011, 0.8900000000000006, 0.8400000000000007, 1.0600000000000005, 1.0399999999999991, 1.0600000000000005, 1.3100000000000005, 0.33999999999999986, 0.14000000000000057, 0.030000000000001137, 0.20000000000000107, 0.29999999999999893, 0.3000000000000007, 0.5, 0.3000000000000007, 0.20000000000000107, 0.40000000000000036, 0.3999999999999986, 0.5, 0.3999999999999986, 0.3999999999999986, 0.29999999999999893, 0.6000000000000014, 0.1999999999999993, 0.0, 0.40000000000000036, 0.1999999999999993, 0.20000000000000107, 0.29999999999999893, 0.3000000000000007, 1.0, 1.0, 0.6100000000000003, 0.23000000000000043, 0.25, 0.47000000000000064, 0.8999999999999986, 0.13000000000000078, 0.6899999999999995, 0.9899999999999984, 0.10000000000000142, 0.20000000000000107, 0.1999999999999993, 0.29999999999999893, 0.09999999999999787, 0.20000000000000018, 0.10000000000000053, 0.9999999999999991, 1.0999999999999996, 0.3000000000000007, 0.5499999999999998, 0.3000000000000007, 0.6500000000000004, 0.09999999999999964, 0.20000000000000018, 0.09999999999999964, 0.0, 0.10000000000000142, 0.7999999999999998, 0.20000000000000018, 0.10000000000000053, 0.05000000000000071, 0.0, 0.15000000000000036, 0.3000000000000007, 0.0, 0.3000000000000007, 0.5999999999999996, 0.0, 0.0, 0.5, 0.5, 0.15000000000000036, 0.3000000000000007, 1.0, 1.0, 0.0, 0.0, 1.0, 1.0, 0.5, 0.5, 0.0, 0.0, 0.0, 0.0, 0.35999999999999943, 0.02999999999999936, 0.35999999999999943, 0.2400000000000002, 0.25, 0.4599999999999991, 0.2699999999999996, 0.009999999999999787, 0.35999999999999943, 0.3699999999999992, 0.20000000000000107, 0.009999999999999787, 0.3199999999999985, 0.10999999999999943, 0.3800000000000008, 0.3200000000000003, 0.6500000000000004, 0.6500000000000004, 0.1999999999999993, 0.5, 0.40000000000000036, 0.049999999999998934, 0.20000000000000107, 0.40000000000000036, 0.5, 0.5, 0.0, 0.0, 0.09999999999999964, 0.7999999999999998, 0.5000000000000009, 0.5, 0.40000000000000036, 0.09999999999999964, 0.4499999999999993, 0.05000000000000071, 0.15000000000000036, 0.05000000000000071, 0.0, 0.75, 0.5, 0.25, 0.0, 1.5, 1.5, 0.25, 0.0, 0.4500000000000002, 0.04999999999999982, 0.3000000000000007, 0.09999999999999964, 0.2599999999999998, 0.16999999999999993, 0.2599999999999998, 0.1999999999999993, 0.040000000000000924, 0.3199999999999985, 0.129999999999999, 0.2999999999999998, 0.15000000000000036, 0.20000000000000018, 0.15000000000000036, 0.09999999999999964, 0.14999999999999947, 0.04999999999999982, 0.09999999999999964, 0.15000000000000036, 0.39999999999999947, 0.29999999999999893, 0.09999999999999964, 0.09999999999999964, 0.29999999999999893, 0.1999999999999993, 0.25, 0.5, 0.75, 0.5, 0.5, 0.0, 0.0, 0.09999999999999964, 0.0, 0.09999999999999964, 0.0, 0.09999999999999787, 0.20000000000000107, 0.10000000000000142, 0.09999999999999964, 0.09999999999999964, 0.20000000000000018, 0.9700000000000006, 1.1100000000000003, 0.1900000000000004, 0.6499999999999995, 0.5799999999999992, 0.33000000000000007, 0.29999999999999893, 0.4499999999999993, 1.0, 0.5, 0.5, 0.0, 0.75, 0.7000000000000002, 1.4499999999999993, 1.2000000000000002, 0.5, 0.25, 0.04999999999999982, 0.1999999999999993, 0.15000000000000036, 0.25, 0.08999999999999986, 0.09000000000000163, 0.009999999999999787, 0.24999999999999822, 0.02999999999999936, 0.9000000000000004, 0.09999999999999964, 0.0, 0.6000000000000014, 0.40000000000000036, 0.10000000000000142, 0.3000000000000007, 0.0, 0.0, 0.4999999999999982, 1.0999999999999996, 0.20000000000000107, 0.40000000000000036, 1.7763568394002505e-15, 0.09999999999999787, 0.40000000000000213, 0.09999999999999964, 1.1600000000000001, 1.2599999999999998, 0.22000000000000064, 0.1999999999999993, 0.75, 0.2400000000000002, 0.33000000000000007, 0.8399999999999999, 0.40000000000000036, 0.10000000000000142, 0.40000000000000036, 0.0, 0.20000000000000107, 0.3000000000000007, 0.09999999999999964, 0.09999999999999964, 0.20000000000000018, 0.5999999999999996, 0.25, 0.0, 0.0, 0.0, 0.0, 0.25, 1.2399999999999993, 0.75, 0.15000000000000036, 0.129999999999999, 0.2400000000000002, 0.2599999999999998, 0.41999999999999993, 0.5700000000000003, 0.5000000000000018, 0.0, 0.10000000000000142, 0.09999999999999964, 0.09999999999999964, 0.09999999999999964, 0.25, 0.34999999999999964, 0.25, 0.25, 0.25, 0.0, 0.15000000000000036, 0.5, 1.0999999999999996, 0.9000000000000004, 0.2999999999999998, 0.1999999999999993, 0.20000000000000018, 0.5, 0.25, 0.0, 0.0, 0.5, 0.2999999999999998, 0.0, 0.0, 0.15000000000000036, 0.1999999999999993, 0.15000000000000213, 0.09999999999999964, 0.20000000000000107, 0.1999999999999993, 0.0, 0.3099999999999987, 0.379999999999999, 0.27999999999999936, 0.3000000000000007, 0.40000000000000036, 0.3000000000000007, 0.15000000000000036, 0.15000000000000036, 0.09999999999999964, 0.25, 0.10000000000000053, 0.09999999999999964, 0.20000000000000018, 1.6000000000000005, 1.6999999999999993, 0.0, 0.40000000000000036, 0.2999999999999998, 0.25, 0.25, 1.25, 1.25, 0.5, 0.5, 0.1999999999999993, 0.5999999999999996, 0.1999999999999993, 1.799999999999999, 1.0, 0.29999999999999893, 0.1999999999999993, 0.09999999999999964, 0.09999999999999964, 0.5999999999999996, 0.09999999999999964, 0.3999999999999986, 0.09999999999999964, 0.1999999999999993, 1.0999999999999996, 1.0999999999999996, 1.0, 1.0, 0.0, 0.0, 0.25, 0.25, 0.9800000000000004, 0.1200000000000001, 0.45000000000000107, 0.07000000000000028, 0.120000000000001, 0.5600000000000023, 1.1000000000000014, 0.5600000000000005, 0.09999999999999964, 0.09999999999999964, 1.7763568394002505e-15, 3.249999999999999, 6.6, 0.5, 0.5, 0.0, 0.0, 0.25, 0.2999999999999998, 0.35000000000000053, 1.1000000000000005, 0.9500000000000002, 0.5, 0.0, 0.15000000000000036, 0.07000000000000028, 0.5, 0.5199999999999996, 0.019999999999999574, 0.030000000000001137, 0.1399999999999988, 0.21000000000000085, 0.33000000000000007, 0.23999999999999844, 0.2599999999999998, 0.40000000000000036, 0.9000000000000004, 0.09999999999999964, 0.2999999999999998, 0.34999999999999964, 0.2999999999999998, 0.09999999999999964, 0.0, 0.09999999999999964, 0.09999999999999964, 0.09999999999999964, 0.1999999999999993, 0.7999999999999998, 0.0, 0.0, 1.0, 1.0, 1.0, 1.0, 0.5, 0.5, 0.09999999999999964, 0.0, 0.09999999999999964, 0.20000000000000107, 0.1999999999999993, 0.20000000000000107, 0.09999999999999964, 0.1999999999999993, 0.40000000000000036, 0.5, 0.09999999999999964, 0.09999999999999964, 0.3000000000000007, 0.40000000000000036, 1.0, 1.0, 0.25, 0.25, 0.25, 0.0, 0.3700000000000001, 1.120000000000001, 0.9299999999999997, 0.14000000000000057, 0.1999999999999993, 0.40000000000000036, 0.0, 0.09999999999999964, 0.20000000000000107, 0.3000000000000007, 0.5, 0.25, 0.75, 0.0, 0.5, 0.5, 0.20000000000000018, 0.25, 0.04999999999999982, 0.20000000000000018, 0.05999999999999961, 0.22999999999999954, 0.4899999999999993, 0.40000000000000036, 0.7400000000000002, 0.8500000000000014, 0.7999999999999998, 0.0, 0.0, 0.7999999999999998, 0.2999999999999998, 0.0, 0.40000000000000036, 0.0, 0.09999999999999964, 0.0, 0.15000000000000036, 0.05000000000000071, 0.39999999999999947, 0.40000000000000036, 0.0, 0.0, 1.0, 1.1000000000000014, 0.3000000000000007, 0.5, 0.15000000000000036, 0.0, 0.0, 0.10000000000000142, 0.09999999999999964, 0.3000000000000007, 0.0, 0.3999999999999986, 0.29999999999999893, 0.6999999999999993, 0.7000000000000011, 0.9000000000000004, 1.1500000000000004, 1.4000000000000004, 0.0, 0.0, 0.0, 1.0, 1.629999999999999, 1.3499999999999996, 0.4299999999999997, 0.1899999999999995, 0.3200000000000003, 0.14000000000000057, 0.5099999999999998, 0.10999999999999943, 0.09999999999999964, 0.29999999999999893, 0.5000000000000018, 0.40000000000000036, 0.0, 0.29999999999999893, 0.3000000000000007, 0.0, 0.5, 0.5, 0.0, 0.0, 0.25, 0.20000000000000018, 0.4499999999999993, 0.09999999999999787, 0.20000000000000107, 0.10000000000000142, 0.5, 0.6499999999999986, 0.2699999999999996, 0.08999999999999986, 0.019999999999999574, 0.040000000000000924, 0.16000000000000014, 0.07000000000000028, 1.5999999999999996, 0.09999999999999964, 0.2999999999999998, 0.09999999999999964, 0.09999999999999964, 0.10000000000000053, 0.10000000000000053, 0.10000000000000142, 0.09999999999999964, 0.3000000000000007, 0.20000000000000107, 0.29999999999999893, 0.1999999999999993, 0.3000000000000007, 0.40000000000000036, 0.9000000000000004, 0.7999999999999998, 0.3000000000000007, 0.20000000000000107, 0.5, 0.7000000000000011, 0.0, 0.09999999999999964, 0.09999999999999964, 0.09999999999999964, 0.0, 0.5, 0.5, 0.5, 0.45000000000000107, 0.25, 0.09999999999999964, 0.10000000000000053, 0.0, 0.1999999999999993, 0.5, 0.09999999999999964, 0.1999999999999993, 0.34999999999999964, 0.10000000000000142, 0.05000000000000071, 0.09999999999999964, 0.15000000000000036, 0.009999999999999787, 0.4299999999999997, 0.09999999999999964, 0.14999999999999858, 0.3000000000000007, 0.1999999999999993, 0.20000000000000107, 0.049999999999998934, 0.1999999999999993, 0.09999999999999964, 0.29999999999999893, 0.09999999999999964, 0.3000000000000007, 0.0, 0.6999999999999993, 0.7999999999999989, 0.3000000000000007, 0.09999999999999964, 0.29999999999999893, 0.6999999999999993, 0.3500000000000014, 0.20000000000000107, 0.20000000000000107, 0.5999999999999996, 0.5, 0.09999999999999964, 0.5999999999999996, 1.0500000000000007, 0.6500000000000004, 0.10000000000000142, 0.9000000000000004, 1.0, 0.20000000000000018, 0.7499999999999991, 0.09999999999999964, 0.09999999999999964, 0.049999999999998934, 0.10000000000000142, 0.25, 0.0, 0.5, 0.1999999999999993, 0.3000000000000007, 0.10000000000000142, 0.0, 0.05000000000000071, 0.75, 0.34999999999999964, 0.3000000000000007, 0.10000000000000142, 0.20000000000000107, 0.09999999999999964, 0.09999999999999964, 0.0, 0.0, 0.0, 1.0, 1.0, 0.0, 0.25, 0.25, 0.0, 0.5500000000000007, 0.34999999999999964, 0.0, 0.40000000000000036, 0.1999999999999993, 0.1999999999999993, 0.5999999999999996, 0.3000000000000007, 0.9000000000000004, 0.20000000000000107, 0.10000000000000142, 0.3000000000000007, 0.1999999999999993, 0.25, 0.75, 0.25, 0.25, 0.25, 0.25, 0.3999999999999986, 0.40000000000000036, 0.5999999999999996, 0.40000000000000036, 0.7000000000000011, 1.25, 0.7999999999999989, 0.14999999999999858, 0.09999999999999964, 0.5, 0.5, 0.0, 0.0, 0.34999999999999964, 0.4499999999999993, 0.15000000000000036, 0.05000000000000071, 0.15000000000000036, 0.0, 0.15000000000000036, 0.10000000000000142, 0.20000000000000107, 0.1800000000000015, 0.03999999999999915, 0.10000000000000142, 0.34999999999999964, 0.6499999999999995, 0.09999999999999964, 0.15000000000000036, 0.20000000000000107, 0.0, 1.0, 0.8000000000000007, 0.0, 0.5, 0.0, 0.0, 0.40000000000000036, 0.7999999999999998, 2.0500000000000007, 2.6000000000000005, 1.0, 0.09999999999999964, 0.29999999999999893, 0.5, 0.5999999999999996, 0.4999999999999982, 0.5, 0.0, 0.25, 0.0, 0.0, 0.25, 0.0, 0.5500000000000007, 0.15000000000000036, 0.09999999999999964, 0.1999999999999993, 0.1999999999999993, 0.1999999999999993, 0.09999999999999964, 0.5, 0.0, 0.6999999999999993, 0.5, 0.5999999999999996, 0.0, 0.20000000000000107, 0.10000000000000142, 0.09999999999999964, 0.5, 1.0, 0.5, 0.0, 0.0, 0.0, 0.3200000000000003, 0.23000000000000043, 0.040000000000000924, 0.129999999999999, 0.07000000000000028, 0.3000000000000007, 0.9000000000000004, 0.2900000000000009, 0.40000000000000036, 0.20000000000000107, 0.6000000000000014, 0.1999999999999993, 0.20000000000000107, 0.20000000000000107, 0.3000000000000007, 0.5, 0.5, 0.5, 0.0, 0.0, 0.40000000000000036, 0.40000000000000036, 0.09999999999999964, 0.3000000000000007, 0.05000000000000071, 0.0, 0.1999999999999993, 0.1999999999999993, 0.8200000000000003, 0.8200000000000003, 0.17999999999999794, 0.8000000000000007, 0.5000000000000009, 0.15000000000000036, 0.09999999999999964, 0.09999999999999964, 0.049999999999998934, 0.1999999999999993, 0.09999999999999964, 0.05000000000000071, 0.21999999999999886, 0.09999999999999964, 0.0, 0.0, 0.15000000000000036, 0.15000000000000036, 1.1499999999999986, 0.2500000000000018, 0.40000000000000036, 0.5999999999999996, 0.1999999999999993, 0.40000000000000036, 1.3000000000000007, 0.40000000000000036, 0.10000000000000142, 1.0, 0.25, 0.25, 0.75, 0.75, 0.5, 1.25, 1.5999999999999996, 0.5499999999999989, 0.10000000000000142, 0.1999999999999993, 0.10000000000000142, 0.20000000000000107, 0.0, 0.0, 0.5, 0.10000000000000142, 0.29999999999999893, 0.9999999999999982, 0.7999999999999989, 0.40000000000000036, 0.20000000000000107, 0.1999999999999993, 0.25, 0.0, 0.5, 0.25, 0.0, 0.25, 0.2599999999999998, 0.28000000000000114, 0.6999999999999993, 0.00999999999999801, 0.22999999999999865, 0.5, 0.09999999999999964, 0.40000000000000036, 0.3000000000000007, 0.09999999999999964, 0.20000000000000107, 0.5499999999999989, 0.8499999999999996, 0.5, 0.5, 0.0, 0.0, 0.5, 0.75, 0.3000000000000007, 0.34999999999999964, 0.09999999999999964, 0.05000000000000071, 0.9000000000000004, 0.5500000000000007, 0.07000000000000028, 0.3099999999999987, 0.27999999999999936, 0.11000000000000121, 0.4900000000000002, 0.40000000000000036, 0.490000000000002, 0.10000000000000142, 0.09999999999999964, 0.09999999999999964, 0.3000000000000007, 0.29999999999999893, 0.0, 0.20000000000000107, 0.3999999999999986, 0.5999999999999996, 0.7999999999999989, 0.0, 0.0, 0.40000000000000036]\n"
     ]
    },
    {
     "data": {
      "text/plain": "<contextlib.ExitStack at 0x263663e3490>"
     },
     "execution_count": 13,
     "metadata": {},
     "output_type": "execute_result"
    },
    {
     "data": {
      "text/plain": "<Figure size 1200x600 with 0 Axes>"
     },
     "execution_count": 13,
     "metadata": {},
     "output_type": "execute_result"
    },
    {
     "data": {
      "text/plain": "[<matplotlib.lines.Line2D at 0x263663ec390>]"
     },
     "execution_count": 13,
     "metadata": {},
     "output_type": "execute_result"
    },
    {
     "data": {
      "text/plain": "Text(0.5, 0, 'Time')"
     },
     "execution_count": 13,
     "metadata": {},
     "output_type": "execute_result"
    },
    {
     "data": {
      "text/plain": "Text(0, 0.5, 'Power Consumption Changes')"
     },
     "execution_count": 13,
     "metadata": {},
     "output_type": "execute_result"
    },
    {
     "data": {
      "text/plain": "Text(0.5, 1.0, 'Power Consumption Changes Over Time(e2)')"
     },
     "execution_count": 13,
     "metadata": {},
     "output_type": "execute_result"
    }
   ],
   "source": [
    "power_change = []\n",
    "for i in range(1, len(df)-1):\n",
    "    if (pd.notna(DF['MW'].iloc[i]) and pd.notna(DF['MW'].iloc[i+1]) and pd.notna(DF['MW'].iloc[i-1]) and (DF['Time'].iloc[i].hour - DF['Time'].iloc[i-1].hour == 1) and (DF['Time'].iloc[i+1].hour - DF['Time'].iloc[i].hour == 1)):\n",
    "        power_change.append(abs((DF['MW'].iloc[i+1] + DF['MW'].iloc[i-1]) - 2* DF['MW'].iloc[i]))\n",
    "\n",
    "\n",
    "print(power_change)\n",
    "indices = list(range(len(power_change)))\n",
    "\n",
    "plt.ion()\n",
    "plt.figure(figsize=(12, 6))\n",
    "plt.plot(indices, power_change, marker='o', linestyle='-', color = 'g')\n",
    "plt.xlabel('Time')\n",
    "plt.ylabel('Power Consumption Changes')\n",
    "plt.title('Power Consumption Changes Over Time(e2)')\n",
    "plt.grid(True)\n",
    "plt.show()"
   ],
   "metadata": {
    "collapsed": false,
    "ExecuteTime": {
     "end_time": "2023-10-24T09:24:45.476192200Z",
     "start_time": "2023-10-24T09:24:45.319203600Z"
    }
   }
  },
  {
   "cell_type": "markdown",
   "source": [
    "Try doing temperature and behavior part together"
   ],
   "metadata": {
    "collapsed": false
   }
  },
  {
   "cell_type": "code",
   "execution_count": 14,
   "outputs": [
    {
     "name": "stdout",
     "output_type": "stream",
     "text": [
      "\n",
      "******************************************************************************\n",
      "This program contains Ipopt, a library for large-scale nonlinear optimization.\n",
      " Ipopt is released as open source code under the Eclipse Public License (EPL).\n",
      "         For more information visit https://github.com/coin-or/Ipopt\n",
      "******************************************************************************\n",
      "\n",
      "This is Ipopt version 3.14.11, running with linear solver MUMPS 5.4.1.\n",
      "\n",
      "Number of nonzeros in equality constraint Jacobian...:        0\n",
      "Number of nonzeros in inequality constraint Jacobian.:     2337\n",
      "Number of nonzeros in Lagrangian Hessian.............:    14365\n",
      "\n",
      "Total number of variables............................:      169\n",
      "                     variables with only lower bounds:        0\n",
      "                variables with lower and upper bounds:        0\n",
      "                     variables with only upper bounds:        0\n",
      "Total number of equality constraints.................:        0\n",
      "Total number of inequality constraints...............:     1003\n",
      "        inequality constraints with only lower bounds:      502\n",
      "   inequality constraints with lower and upper bounds:        0\n",
      "        inequality constraints with only upper bounds:      501\n",
      "\n",
      "iter    objective    inf_pr   inf_du lg(mu)  ||d||  lg(rg) alpha_du alpha_pr  ls\n",
      "   0  1.2004567e+04 4.07e+02 5.06e-01  -1.0 0.00e+00    -  0.00e+00 0.00e+00   0\n",
      "   1  8.8309090e+03 2.75e+01 1.07e+02  -1.0 1.32e+02    -  8.57e-03 9.33e-01f  1\n",
      "   2  8.1127567e+03 0.00e+00 1.25e+00  -1.0 9.04e+00    -  4.36e-01 1.00e+00f  1\n",
      "   3  4.9924302e+03 0.00e+00 9.86e-01  -1.0 3.11e+00    -  2.01e-01 1.00e+00f  1\n",
      "   4  2.2353056e+03 0.00e+00 5.93e-01  -1.0 2.40e+00    -  3.46e-01 1.00e+00f  1\n",
      "   5  5.0415102e+02 0.00e+00 1.45e+00  -1.0 7.43e+01    -  4.86e-02 1.00e+00f  1\n",
      "   6  2.2155915e+02 0.00e+00 8.40e-02  -1.0 2.47e+01    -  7.93e-01 1.00e+00f  1\n",
      "   7  1.0532449e+02 0.00e+00 1.00e-06  -1.0 1.95e+01    -  1.00e+00 1.00e+00f  1\n",
      "   8  9.0207243e+01 0.00e+00 1.00e-06  -1.0 1.92e+01    -  1.00e+00 1.00e+00f  1\n",
      "   9  7.3416902e+01 0.00e+00 2.00e-07  -1.7 1.78e+00    -  1.00e+00 1.00e+00f  1\n",
      "iter    objective    inf_pr   inf_du lg(mu)  ||d||  lg(rg) alpha_du alpha_pr  ls\n",
      "  10  6.8552011e+01 0.00e+00 2.83e-08  -2.5 2.29e+00    -  1.00e+00 1.00e+00f  1\n",
      "  11  6.7967561e+01 0.00e+00 1.50e-09  -3.8 9.67e-01    -  1.00e+00 1.00e+00f  1\n",
      "  12  6.7947600e+01 0.00e+00 1.50e-09  -3.8 1.19e+00    -  1.00e+00 1.00e+00f  1\n",
      "  13  6.7946725e+01 0.00e+00 1.84e-11  -5.7 5.10e-02    -  1.00e+00 1.00e+00f  1\n",
      "  14  6.7946723e+01 0.00e+00 1.84e-11  -5.7 5.45e-02    -  1.00e+00 1.00e+00h  1\n",
      "  15  6.7946723e+01 0.00e+00 2.51e-14  -8.6 3.13e-04    -  1.00e+00 1.00e+00h  1\n",
      "\n",
      "Number of Iterations....: 15\n",
      "\n",
      "                                   (scaled)                 (unscaled)\n",
      "Objective...............:   2.0494448841080306e+00    6.7946722791708368e+01\n",
      "Dual infeasibility......:   2.5059036063649481e-14    8.3080027672237836e-13\n",
      "Constraint violation....:   0.0000000000000000e+00    0.0000000000000000e+00\n",
      "Variable bound violation:   0.0000000000000000e+00    0.0000000000000000e+00\n",
      "Complementarity.........:   3.3174229949876061e-09    1.0998491463280556e-07\n",
      "Overall NLP error.......:   3.3174229949876061e-09    1.0998491463280556e-07\n",
      "\n",
      "\n",
      "Number of objective function evaluations             = 16\n",
      "Number of objective gradient evaluations             = 16\n",
      "Number of equality constraint evaluations            = 0\n",
      "Number of inequality constraint evaluations          = 16\n",
      "Number of equality constraint Jacobian evaluations   = 0\n",
      "Number of inequality constraint Jacobian evaluations = 16\n",
      "Number of Lagrangian Hessian evaluations             = 15\n",
      "Total seconds in IPOPT                               = 1.744\n",
      "\n",
      "EXIT: Optimal Solution Found.\n",
      "Optimal value of temperature_theta: 0.061935538622958565\n",
      "Optimal values of theta: [5.29666666 4.68917372 4.53666667 4.79999997 4.40143009 4.03666667\n",
      " 3.76100544 3.60756006 3.54085138 3.53315764 3.58556648 3.73467571\n",
      " 4.05072142 4.60021746 5.28564503 5.30112892 5.29204297 5.39758057\n",
      " 5.63806444 5.33451612 5.49999996 5.25       5.23333333 5.33333331\n",
      " 4.30000001 4.19999998 3.50000008 4.32499996 3.78333335 4.33333332\n",
      " 4.225      4.6        4.975      5.175      5.48451611 5.35354834\n",
      " 5.5166128  5.61741926 4.82590944 4.17132861 3.79349425 3.62680373\n",
      " 3.60446034 3.71045666 3.97992235 4.45788994 5.04999999 5.04999999\n",
      " 4.275      3.45860444 3.25000006 4.4999998  3.50000006 3.74999999\n",
      " 3.85       4.125      4.66249999 4.775      5.16903222 5.26306446\n",
      " 5.37258057 5.12612893 5.7166128  5.9666128  6.1416128  6.18806445\n",
      " 6.21903222 6.29999998 6.04999999 5.87499998 4.80000004 4.74999995\n",
      " 4.10000003 4.14999998 3.95658702 3.8184058  3.74999999 3.60000002\n",
      " 4.07499999 4.2        4.68451611 4.91903223 5.39758057 5.24516115\n",
      " 5.27967727 5.63322559 5.49217727 5.4862095  5.73266115 5.84459668\n",
      " 5.88451611 5.87499999 5.81249999 5.71249999 4.84286154 4.16738833\n",
      " 3.78374495 3.60590793 3.54836362 3.56780922 3.66210553 3.85398782\n",
      " 4.145      4.375      4.6925     4.86806446 5.06459669 4.96946226\n",
      " 5.26266114 5.19564504 5.60112892 5.93564503 5.94279558 5.95075261\n",
      " 6.12537629 6.29999998 6.23333332 6.04999999 5.425      5.36249999\n",
      " 4.8        4.69999999 4.3        4.3        4.375      4.275\n",
      " 4.2        4.2        4.2375     4.54403223 4.68153223 4.75056446\n",
      " 4.73209669 4.66008058 4.95709669 4.99903227 5.26701611 5.35806445\n",
      " 5.5875     5.89999995 5.68333333 5.48       5.59999999 5.025\n",
      " 4.625      4.49999999 4.07039878 3.85       4.12984401 4.44999999\n",
      " 3.9625     3.925      4.04999999 3.92201612 3.95354835 4.21741928\n",
      " 4.33010743 4.01661281 3.98564504 4.09516115 4.33483856 4.61306446\n",
      " 4.89999999 5.05       5.27499998 4.9625     5.32249999 5.50241564]\n"
     ]
    }
   ],
   "source": [
    "#tried to do the temperature and behavior part together\n",
    "start_time = pd.Timestamp('2022-08-01 00:00:00')\n",
    "end_time = pd.Timestamp('2022-08-28 23:00:00')\n",
    "\n",
    "training_mask = (df['Time'] >= start_time) & (df['Time'] <= end_time)\n",
    "training_df = df[training_mask]\n",
    "d = training_df.loc[:,'MW']\n",
    "phi_temperature = training_df.loc[:,'CDH']\n",
    "phi_behavior = training_df.loc[:,'omega1':'omega168']\n",
    "opti = cd.Opti()\n",
    "temperature_theta = opti.variable()\n",
    "behavior_theta = opti.variable(168)\n",
    "total_sum =0\n",
    "for i in range (0,len(d)):\n",
    "    phi_behavior_i = (cd.MX(phi_behavior.iloc[i].values))\n",
    "    phi_behavior_i =  cd.vertcat(phi_behavior_i)\n",
    "    residual = (d.iloc[i] - ((phi_temperature.iloc[i] * temperature_theta) + cd.dot(phi_behavior_i, behavior_theta)))**2\n",
    "    total_sum += residual\n",
    "\n",
    "opti.subject_to(temperature_theta >= 0)\n",
    "e1 = 3.0\n",
    "e2 = 3.0\n",
    "\n",
    "for i in range(0, 167):\n",
    "    opti.subject_to((behavior_theta[i + 1] - behavior_theta[i]) <= e1)\n",
    "    opti.subject_to((behavior_theta[i + 1] - behavior_theta[i]) >= -e1)\n",
    "    opti.subject_to(behavior_theta[i] >= 0)\n",
    "    opti.subject_to(behavior_theta[i] <= 7)\n",
    "\n",
    "for i in range(1, 167):\n",
    "    opti.subject_to((behavior_theta[i + 1] + behavior_theta[i - 1] - 2 * behavior_theta[i]) <= e2)\n",
    "    opti.subject_to((behavior_theta[i + 1] + behavior_theta[i - 1] - 2 * behavior_theta[i]) >= -e2)\n",
    "\n",
    "for i in range(7,8):\n",
    "    month = bill_df.iloc[i]['Month'].month\n",
    "    year = bill_df.iloc[i]['Month'].year\n",
    "    num_days = calendar.monthrange(year, month)[1]\n",
    "    first_day = calendar.monthrange(year, month)[0]\n",
    "    num_hours = num_days * 24\n",
    "    num_weeks = num_hours / 168.0\n",
    "    weekly_behavior_energy_use = 0\n",
    "    temperature_energy_use = 0\n",
    "    for j in range(len(training_df)):\n",
    "        temperature_energy_use += temperature_theta * training_df.iloc[j]['CDH']\n",
    "\n",
    "    for j in range(0, 168):\n",
    "        weekly_behavior_energy_use += behavior_theta[j]\n",
    "    weekly_energy_use = weekly_behavior_energy_use +  temperature_energy_use\n",
    "    opti.subject_to(weekly_energy_use < 1.5 * bill_df.iloc[i]['MW'] / num_weeks)\n",
    "    opti.subject_to(weekly_energy_use > 0.5 * bill_df.iloc[i]['MW'] / num_weeks)\n",
    "\n",
    "# Solve the optimization problem\n",
    "opti.minimize(total_sum)\n",
    "solver_opts = {'print_time': 0}\n",
    "opti.solver('ipopt', solver_opts)\n",
    "sol = opti.solve()\n",
    "\n",
    "optimal_temperature_theta = sol.value(temperature_theta)\n",
    "optimal_theta_values = sol.value(behavior_theta)\n",
    "print(\"Optimal value of temperature_theta:\", optimal_temperature_theta)\n",
    "print(\"Optimal values of theta:\", optimal_theta_values)\n"
   ],
   "metadata": {
    "collapsed": false,
    "ExecuteTime": {
     "end_time": "2023-10-24T09:24:51.288042600Z",
     "start_time": "2023-10-24T09:24:45.460538400Z"
    }
   }
  },
  {
   "cell_type": "code",
   "execution_count": 14,
   "outputs": [],
   "source": [],
   "metadata": {
    "collapsed": false,
    "ExecuteTime": {
     "end_time": "2023-10-24T09:24:51.292491900Z",
     "start_time": "2023-10-24T09:24:51.289967100Z"
    }
   }
  },
  {
   "cell_type": "markdown",
   "source": [
    "Temperature Dependent Part"
   ],
   "metadata": {
    "collapsed": false
   }
  },
  {
   "cell_type": "code",
   "execution_count": 15,
   "outputs": [
    {
     "data": {
      "text/plain": "'\\n#temperature dependency part\\nstart_time = pd.Timestamp(\\'2022-08-01 00:00:00\\')\\nend_time = pd.Timestamp(\\'2022-08-28 23:00:00\\')\\ntraining_mask = (df[\\'Time\\'] >= start_time) & (df[\\'Time\\'] <= end_time) & (df[\\'CDH\\'] > 0)\\ntraining_df = df[training_mask]\\n\\nd = training_df.loc[:,\\'MW\\']\\nphi = training_df.loc[:,\\'CDH\\']\\nopti = cd.Opti()\\ntheta = opti.variable()\\nc = opti.variable()\\nsum = 0\\nresiduals = []\\n\\nfor i in range (0,len(d)):\\n    residual = (d.iloc[i] - (phi.iloc[i] * theta + c))**2\\n    sum += residual\\n    residuals.append(residual)\\n\\n#objective = sqrt(sum([r**2 for r in residuals]))\\nobjective = sqrt(sum)\\nopti.minimize(objective)\\nopti.subject_to(theta >= 0)\\n# Solve the optimization problem\\nsolver_opts = {\\'print_time\\': 0}\\nopti.solver(\\'ipopt\\', solver_opts)\\nsol = opti.solve()\\n\\n# Extract and print the optimal solution for theta\\ntemp_theta = sol.value(theta)\\nprint(\"Optimal value of theta:\", temp_theta)\\noptimal_c = sol.value(c)\\nprint(\"Optimal value of constant:\", optimal_c)\\n'"
     },
     "execution_count": 15,
     "metadata": {},
     "output_type": "execute_result"
    }
   ],
   "source": [
    "'''\n",
    "#temperature dependency part\n",
    "start_time = pd.Timestamp('2022-08-01 00:00:00')\n",
    "end_time = pd.Timestamp('2022-08-28 23:00:00')\n",
    "training_mask = (df['Time'] >= start_time) & (df['Time'] <= end_time) & (df['CDH'] > 0)\n",
    "training_df = df[training_mask]\n",
    "\n",
    "d = training_df.loc[:,'MW']\n",
    "phi = training_df.loc[:,'CDH']\n",
    "opti = cd.Opti()\n",
    "theta = opti.variable()\n",
    "c = opti.variable()\n",
    "sum = 0\n",
    "residuals = []\n",
    "\n",
    "for i in range (0,len(d)):\n",
    "    residual = (d.iloc[i] - (phi.iloc[i] * theta + c))**2\n",
    "    sum += residual\n",
    "    residuals.append(residual)\n",
    "\n",
    "#objective = sqrt(sum([r**2 for r in residuals]))\n",
    "objective = sqrt(sum)\n",
    "opti.minimize(objective)\n",
    "opti.subject_to(theta >= 0)\n",
    "# Solve the optimization problem\n",
    "solver_opts = {'print_time': 0}\n",
    "opti.solver('ipopt', solver_opts)\n",
    "sol = opti.solve()\n",
    "\n",
    "# Extract and print the optimal solution for theta\n",
    "temp_theta = sol.value(theta)\n",
    "print(\"Optimal value of theta:\", temp_theta)\n",
    "optimal_c = sol.value(c)\n",
    "print(\"Optimal value of constant:\", optimal_c)\n",
    "'''"
   ],
   "metadata": {
    "collapsed": false,
    "ExecuteTime": {
     "end_time": "2023-10-24T09:24:51.300960Z",
     "start_time": "2023-10-24T09:24:51.294011500Z"
    }
   }
  },
  {
   "cell_type": "markdown",
   "source": [
    "Behavior Dependent Part"
   ],
   "metadata": {
    "collapsed": false
   }
  },
  {
   "cell_type": "code",
   "execution_count": 16,
   "outputs": [
    {
     "data": {
      "text/plain": "'\\ntraining_mask = (df[\\'Time\\'] >= start_time) & (df[\\'Time\\'] <= end_time)\\nbehavior_df = df[training_mask]\\n#i think sir asked me to try with e1,e2 values as half of what I put initially which was around 2\\ne1 = 3.0\\ne2 = 3.0\\n#behavior dependent part\\nd = behavior_df[\\'MW\\'] - temp_theta * behavior_df[\\'CDH\\']\\nphi = behavior_df.loc[:,\\'omega1\\':\\'omega168\\']\\nopti = cd.Opti()\\ntheta = opti.variable(168)\\nresiduals = []\\nsum = 0\\nfor i in range(len(d)):\\n    phi_i = (cd.MX(phi.iloc[i].values))\\n    phi_i =  cd.vertcat(phi_i)\\n    residual = (d.iloc[i] - cd.dot(phi_i, theta))**2\\n    sum += residual\\n    residuals.append(residual)\\n\\nobjective = sum\\nopti.minimize(objective)\\n\\nfor i in range(0, 167):\\n    opti.subject_to(cd.fabs(theta[i + 1] - theta[i]) <= e1)\\n    opti.subject_to((theta[i + 1] - theta[i]) <= e1)\\n    opti.subject_to((theta[i + 1] - theta[i]) >= -e1)\\n    opti.subject_to(theta[i] >= 0)\\n    opti.subject_to(theta[i] <= 7)\\n\\n\\nfor i in range(1, 167):\\n    opti.subject_to((theta[i + 1] + theta[i - 1] - 2 * theta[i]) <= e2)\\n    opti.subject_to((theta[i + 1] + theta[i - 1] - 2 * theta[i]) >= -e2)\\n\\n\\nfor i in range(7,8):\\n    month = bill_df.iloc[i][\\'Month\\'].month\\n    year = bill_df.iloc[i][\\'Month\\'].year\\n    num_days = calendar.monthrange(year, month)[1]\\n    first_day = calendar.monthrange(year, month)[0]\\n    num_hours = num_days * 24\\n    num_complete_weeks = num_hours // 168\\n    remaining_hours = (num_days*24)%168\\n    week_sum = 0\\n    for k in range(0,168):\\n        week_sum+= theta[k]\\n    sum = week_sum * num_complete_weeks\\n    n = first_day * 24\\n    for j in range(n, n+remaining_hours+1):\\n        sum+=theta[j%168]\\n\\n    opti.subject_to(sum < bill_df.iloc[i][\\'MW\\'] + 0.01)\\n\\n    opti.subject_to(sum > bill_df.iloc[i][\\'MW\\'] - 0.01)\\n\\n# Solve the optimization problem\\nsolver_opts = {\\'print_time\\': 0}\\nopti.solver(\\'ipopt\\', solver_opts)\\nsol = opti.solve()\\ntime_theta = sol.value(theta)\\nprint(\"Optimal value of theta:\", time_theta)\\n'"
     },
     "execution_count": 16,
     "metadata": {},
     "output_type": "execute_result"
    }
   ],
   "source": [
    "'''\n",
    "training_mask = (df['Time'] >= start_time) & (df['Time'] <= end_time)\n",
    "behavior_df = df[training_mask]\n",
    "#i think sir asked me to try with e1,e2 values as half of what I put initially which was around 2\n",
    "e1 = 3.0\n",
    "e2 = 3.0\n",
    "#behavior dependent part\n",
    "d = behavior_df['MW'] - temp_theta * behavior_df['CDH']\n",
    "phi = behavior_df.loc[:,'omega1':'omega168']\n",
    "opti = cd.Opti()\n",
    "theta = opti.variable(168)\n",
    "residuals = []\n",
    "sum = 0\n",
    "for i in range(len(d)):\n",
    "    phi_i = (cd.MX(phi.iloc[i].values))\n",
    "    phi_i =  cd.vertcat(phi_i)\n",
    "    residual = (d.iloc[i] - cd.dot(phi_i, theta))**2\n",
    "    sum += residual\n",
    "    residuals.append(residual)\n",
    "\n",
    "objective = sum\n",
    "opti.minimize(objective)\n",
    "\n",
    "for i in range(0, 167):\n",
    "    opti.subject_to(cd.fabs(theta[i + 1] - theta[i]) <= e1)\n",
    "    opti.subject_to((theta[i + 1] - theta[i]) <= e1)\n",
    "    opti.subject_to((theta[i + 1] - theta[i]) >= -e1)\n",
    "    opti.subject_to(theta[i] >= 0)\n",
    "    opti.subject_to(theta[i] <= 7)\n",
    "\n",
    "\n",
    "for i in range(1, 167):\n",
    "    opti.subject_to((theta[i + 1] + theta[i - 1] - 2 * theta[i]) <= e2)\n",
    "    opti.subject_to((theta[i + 1] + theta[i - 1] - 2 * theta[i]) >= -e2)\n",
    "\n",
    "\n",
    "for i in range(7,8):\n",
    "    month = bill_df.iloc[i]['Month'].month\n",
    "    year = bill_df.iloc[i]['Month'].year\n",
    "    num_days = calendar.monthrange(year, month)[1]\n",
    "    first_day = calendar.monthrange(year, month)[0]\n",
    "    num_hours = num_days * 24\n",
    "    num_complete_weeks = num_hours // 168\n",
    "    remaining_hours = (num_days*24)%168\n",
    "    week_sum = 0\n",
    "    for k in range(0,168):\n",
    "        week_sum+= theta[k]\n",
    "    sum = week_sum * num_complete_weeks\n",
    "    n = first_day * 24\n",
    "    for j in range(n, n+remaining_hours+1):\n",
    "        sum+=theta[j%168]\n",
    "\n",
    "    opti.subject_to(sum < bill_df.iloc[i]['MW'] + 0.01)\n",
    "\n",
    "    opti.subject_to(sum > bill_df.iloc[i]['MW'] - 0.01)\n",
    "\n",
    "# Solve the optimization problem\n",
    "solver_opts = {'print_time': 0}\n",
    "opti.solver('ipopt', solver_opts)\n",
    "sol = opti.solve()\n",
    "time_theta = sol.value(theta)\n",
    "print(\"Optimal value of theta:\", time_theta)\n",
    "'''"
   ],
   "metadata": {
    "collapsed": false,
    "ExecuteTime": {
     "end_time": "2023-10-24T09:24:51.308311800Z",
     "start_time": "2023-10-24T09:24:51.302951900Z"
    }
   }
  },
  {
   "cell_type": "code",
   "execution_count": 17,
   "outputs": [
    {
     "data": {
      "text/plain": "Text(0.5, 1.0, 'measured vs predicted data with behavior model and temperature models over first week')"
     },
     "execution_count": 17,
     "metadata": {},
     "output_type": "execute_result"
    },
    {
     "data": {
      "text/plain": "[<matplotlib.lines.Line2D at 0x2636672e650>]"
     },
     "execution_count": 17,
     "metadata": {},
     "output_type": "execute_result"
    }
   ],
   "source": [
    "\n",
    "week_start_time = pd.Timestamp('2022-08-01 00:00:00')\n",
    "week_end_time = pd.Timestamp('2022-08-07 23:00:00')\n",
    "week_training_mask = (DF['Time'] >= week_start_time) & (DF['Time'] <= week_end_time)\n",
    "behavior_df = DF[week_training_mask]\n",
    "d = behavior_df['MW']\n",
    "temperature_dependent_predictions = behavior_df['CDH'] * optimal_temperature_theta\n",
    "\n",
    "fig,(ax1) = plt.subplots(nrows=1,figsize=(10,9))\n",
    "_=ax1.plot(behavior_df['Time'],d.head(168),label='meas')\n",
    "_=ax1.plot(behavior_df['Time'],optimal_theta_values,label='behvaior theta:')\n",
    "_=ax1.plot(behavior_df['Time'],temperature_dependent_predictions[:168],label='temperature part')\n",
    "ax1.set_title('measured vs predicted data with behavior model and temperature models over first week')\n",
    "_=ax1.legend()\n",
    "\n",
    "fig,ax = plt.subplots(figsize = (10,6))\n",
    "ax.plot(np.arange(0,168), optimal_theta_values,'bo-')\n"
   ],
   "metadata": {
    "collapsed": false,
    "ExecuteTime": {
     "end_time": "2023-10-24T09:24:51.429574500Z",
     "start_time": "2023-10-24T09:24:51.312073Z"
    }
   }
  },
  {
   "cell_type": "code",
   "execution_count": 18,
   "outputs": [
    {
     "data": {
      "text/plain": "Text(0.5, 1.0, 'measured vs predicted data for behavior model (contains null values)')"
     },
     "execution_count": 18,
     "metadata": {},
     "output_type": "execute_result"
    }
   ],
   "source": [
    "#plotting behavior model performance with DF(contains null values)\n",
    "week_start_time = pd.Timestamp('2022-08-01 00:00:00')\n",
    "week_end_time = pd.Timestamp('2022-08-28 23:00:00')\n",
    "DF_training_mask = (DF['Time'] >= week_start_time) & (DF['Time'] <= week_end_time)\n",
    "behavior_df = DF[DF_training_mask]\n",
    "d = behavior_df['MW'] - (optimal_temperature_theta * behavior_df['CDH'])\n",
    "\n",
    "fig, (ax1) = plt.subplots(nrows=1, figsize=(10, 9))\n",
    "pattern_length = len(d) % len(optimal_theta_values)\n",
    "extended_time_theta = np.tile(optimal_theta_values, len(d) // len(optimal_theta_values))\n",
    "extended_time_theta = np.concatenate((extended_time_theta, optimal_theta_values[:pattern_length]))\n",
    "# Plot all values of d against extended_time_theta\n",
    "_ = ax1.plot(behavior_df['Time'], d, label='meas', marker = 'o')\n",
    "_ = ax1.plot(behavior_df['Time'], extended_time_theta, label='pred:', marker = 'x')\n",
    "ax1.set_title('measured vs predicted data for behavior model (contains null values)')\n",
    "_ = ax1.legend()\n",
    "plt.show()\n"
   ],
   "metadata": {
    "collapsed": false,
    "ExecuteTime": {
     "end_time": "2023-10-24T09:24:51.531838500Z",
     "start_time": "2023-10-24T09:24:51.424853700Z"
    }
   }
  },
  {
   "cell_type": "code",
   "execution_count": 19,
   "outputs": [
    {
     "data": {
      "text/plain": "LinearRegression(fit_intercept=False)",
      "text/html": "<style>#sk-container-id-1 {color: black;}#sk-container-id-1 pre{padding: 0;}#sk-container-id-1 div.sk-toggleable {background-color: white;}#sk-container-id-1 label.sk-toggleable__label {cursor: pointer;display: block;width: 100%;margin-bottom: 0;padding: 0.3em;box-sizing: border-box;text-align: center;}#sk-container-id-1 label.sk-toggleable__label-arrow:before {content: \"▸\";float: left;margin-right: 0.25em;color: #696969;}#sk-container-id-1 label.sk-toggleable__label-arrow:hover:before {color: black;}#sk-container-id-1 div.sk-estimator:hover label.sk-toggleable__label-arrow:before {color: black;}#sk-container-id-1 div.sk-toggleable__content {max-height: 0;max-width: 0;overflow: hidden;text-align: left;background-color: #f0f8ff;}#sk-container-id-1 div.sk-toggleable__content pre {margin: 0.2em;color: black;border-radius: 0.25em;background-color: #f0f8ff;}#sk-container-id-1 input.sk-toggleable__control:checked~div.sk-toggleable__content {max-height: 200px;max-width: 100%;overflow: auto;}#sk-container-id-1 input.sk-toggleable__control:checked~label.sk-toggleable__label-arrow:before {content: \"▾\";}#sk-container-id-1 div.sk-estimator input.sk-toggleable__control:checked~label.sk-toggleable__label {background-color: #d4ebff;}#sk-container-id-1 div.sk-label input.sk-toggleable__control:checked~label.sk-toggleable__label {background-color: #d4ebff;}#sk-container-id-1 input.sk-hidden--visually {border: 0;clip: rect(1px 1px 1px 1px);clip: rect(1px, 1px, 1px, 1px);height: 1px;margin: -1px;overflow: hidden;padding: 0;position: absolute;width: 1px;}#sk-container-id-1 div.sk-estimator {font-family: monospace;background-color: #f0f8ff;border: 1px dotted black;border-radius: 0.25em;box-sizing: border-box;margin-bottom: 0.5em;}#sk-container-id-1 div.sk-estimator:hover {background-color: #d4ebff;}#sk-container-id-1 div.sk-parallel-item::after {content: \"\";width: 100%;border-bottom: 1px solid gray;flex-grow: 1;}#sk-container-id-1 div.sk-label:hover label.sk-toggleable__label {background-color: #d4ebff;}#sk-container-id-1 div.sk-serial::before {content: \"\";position: absolute;border-left: 1px solid gray;box-sizing: border-box;top: 0;bottom: 0;left: 50%;z-index: 0;}#sk-container-id-1 div.sk-serial {display: flex;flex-direction: column;align-items: center;background-color: white;padding-right: 0.2em;padding-left: 0.2em;position: relative;}#sk-container-id-1 div.sk-item {position: relative;z-index: 1;}#sk-container-id-1 div.sk-parallel {display: flex;align-items: stretch;justify-content: center;background-color: white;position: relative;}#sk-container-id-1 div.sk-item::before, #sk-container-id-1 div.sk-parallel-item::before {content: \"\";position: absolute;border-left: 1px solid gray;box-sizing: border-box;top: 0;bottom: 0;left: 50%;z-index: -1;}#sk-container-id-1 div.sk-parallel-item {display: flex;flex-direction: column;z-index: 1;position: relative;background-color: white;}#sk-container-id-1 div.sk-parallel-item:first-child::after {align-self: flex-end;width: 50%;}#sk-container-id-1 div.sk-parallel-item:last-child::after {align-self: flex-start;width: 50%;}#sk-container-id-1 div.sk-parallel-item:only-child::after {width: 0;}#sk-container-id-1 div.sk-dashed-wrapped {border: 1px dashed gray;margin: 0 0.4em 0.5em 0.4em;box-sizing: border-box;padding-bottom: 0.4em;background-color: white;}#sk-container-id-1 div.sk-label label {font-family: monospace;font-weight: bold;display: inline-block;line-height: 1.2em;}#sk-container-id-1 div.sk-label-container {text-align: center;}#sk-container-id-1 div.sk-container {/* jupyter's `normalize.less` sets `[hidden] { display: none; }` but bootstrap.min.css set `[hidden] { display: none !important; }` so we also need the `!important` here to be able to override the default hidden behavior on the sphinx rendered scikit-learn.org. See: https://github.com/scikit-learn/scikit-learn/issues/21755 */display: inline-block !important;position: relative;}#sk-container-id-1 div.sk-text-repr-fallback {display: none;}</style><div id=\"sk-container-id-1\" class=\"sk-top-container\"><div class=\"sk-text-repr-fallback\"><pre>LinearRegression(fit_intercept=False)</pre><b>In a Jupyter environment, please rerun this cell to show the HTML representation or trust the notebook. <br />On GitHub, the HTML representation is unable to render, please try loading this page with nbviewer.org.</b></div><div class=\"sk-container\" hidden><div class=\"sk-item\"><div class=\"sk-estimator sk-toggleable\"><input class=\"sk-toggleable__control sk-hidden--visually\" id=\"sk-estimator-id-1\" type=\"checkbox\" checked><label for=\"sk-estimator-id-1\" class=\"sk-toggleable__label sk-toggleable__label-arrow\">LinearRegression</label><div class=\"sk-toggleable__content\"><pre>LinearRegression(fit_intercept=False)</pre></div></div></div></div></div>"
     },
     "execution_count": 19,
     "metadata": {},
     "output_type": "execute_result"
    },
    {
     "name": "stdout",
     "output_type": "stream",
     "text": [
      "score for constructed full model on full data:  0.7784265102310899\n"
     ]
    },
    {
     "name": "stderr",
     "output_type": "stream",
     "text": [
      "D:\\mlinternship\\power-predict\\myenv\\Lib\\site-packages\\sklearn\\base.py:465: UserWarning: X does not have valid feature names, but LinearRegression was fitted with feature names\n",
      "  warnings.warn(\n"
     ]
    },
    {
     "data": {
      "text/plain": "Text(0.5, 1.0, 'measured vs predicted data (full constructed model)')"
     },
     "execution_count": 19,
     "metadata": {},
     "output_type": "execute_result"
    }
   ],
   "source": [
    "#final model with df(no null values)\n",
    "d = training_df['MW']\n",
    "c = np.concatenate((np.array([optimal_temperature_theta]),optimal_theta_values),axis=0)\n",
    "phi =training_df.loc[:,'CDH':'omega168']\n",
    "full_model = LinearRegression(fit_intercept=False)\n",
    "full_model.fit(phi, d)\n",
    "full_model.coef_ = c\n",
    "full_model.intercept_ = 0\n",
    "yhat = full_model.predict(phi.values)\n",
    "full_modelScore = full_model.score(phi,d)\n",
    "\n",
    "print ('score for constructed full model on full data: ', full_modelScore)\n",
    "\n",
    "fig,(ax1) = plt.subplots(nrows=1,figsize=(10,9))\n",
    "_=ax1.plot(training_df['Time'],d,label='meas', marker = 'o')\n",
    "_=ax1.plot(training_df['Time'],yhat,label='pred:', marker = 'x')\n",
    "ax1.set_title('measured vs predicted data (full constructed model)')\n",
    "_=ax1.legend()\n"
   ],
   "metadata": {
    "collapsed": false,
    "ExecuteTime": {
     "end_time": "2023-10-24T09:24:51.669395800Z",
     "start_time": "2023-10-24T09:24:51.535849100Z"
    }
   }
  },
  {
   "cell_type": "code",
   "execution_count": 19,
   "outputs": [],
   "source": [],
   "metadata": {
    "collapsed": false,
    "ExecuteTime": {
     "end_time": "2023-10-24T09:24:51.670401100Z",
     "start_time": "2023-10-24T09:24:51.661399Z"
    }
   }
  }
 ],
 "metadata": {
  "kernelspec": {
   "display_name": "Python 3",
   "language": "python",
   "name": "python3"
  },
  "language_info": {
   "codemirror_mode": {
    "name": "ipython",
    "version": 2
   },
   "file_extension": ".py",
   "mimetype": "text/x-python",
   "name": "python",
   "nbconvert_exporter": "python",
   "pygments_lexer": "ipython2",
   "version": "2.7.6"
  }
 },
 "nbformat": 4,
 "nbformat_minor": 0
}
