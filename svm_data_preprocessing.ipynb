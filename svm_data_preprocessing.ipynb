{
 "cells": [
  {
   "cell_type": "code",
   "execution_count": 1,
   "metadata": {
    "collapsed": true,
    "ExecuteTime": {
     "end_time": "2023-12-30T18:03:26.125314Z",
     "start_time": "2023-12-30T18:03:24.028994100Z"
    }
   },
   "outputs": [],
   "source": [
    "import pandas as pd\n",
    "import pytz\n",
    "import numpy as np\n",
    "import os\n",
    "from sklearn import preprocessing\n",
    "import re\n",
    "import matplotlib\n",
    "from matplotlib.patches import Polygon, Rectangle\n",
    "from sklearn.metrics import mean_squared_error\n",
    "from sklearn.model_selection import train_test_split, GridSearchCV\n",
    "from sklearn.preprocessing import StandardScaler\n",
    "from sklearn.svm import SVR\n",
    "\n",
    "matplotlib.use('Qt5Agg')\n",
    "from datetime import timedelta\n",
    "import matplotlib.pyplot as plt\n",
    "from IPython.core.interactiveshell import InteractiveShell\n",
    "InteractiveShell.ast_node_interactivity = \"all\"\n",
    "from casadi import *\n",
    "import calendar\n",
    "import casadi as cd\n",
    "from sklearn.linear_model import LinearRegression\n",
    "import matplotlib.dates as mdates\n",
    "import warnings\n",
    "warnings.filterwarnings('ignore')"
   ]
  },
  {
   "cell_type": "code",
   "execution_count": 2,
   "outputs": [
    {
     "data": {
      "text/plain": "        Month         MW\n0  2022-01-01  1415.4246\n1  2022-02-01  1353.4260\n2  2022-03-01  2254.4145\n3  2022-04-01  2269.1010\n4  2022-05-01  2690.4150\n5  2022-06-01  2708.4910\n6  2022-07-01  3113.6625\n7  2022-08-01  3606.0495\n8  2022-09-01  3335.3190\n9  2022-10-01  2787.5835\n10 2022-11-01  2230.0764\n11 2022-12-01  1809.5913\n12 2023-01-01  1859.8434\n13 2023-02-01  1829.5317\n14 2023-03-01  2238.3650\n15 2023-04-01  2615.2850\n16 2023-05-01        NaN\n17 2023-06-01  3112.0245\n18 2023-07-01  3376.0350\n19 2023-08-01  3896.1580",
      "text/html": "<div>\n<style scoped>\n    .dataframe tbody tr th:only-of-type {\n        vertical-align: middle;\n    }\n\n    .dataframe tbody tr th {\n        vertical-align: top;\n    }\n\n    .dataframe thead th {\n        text-align: right;\n    }\n</style>\n<table border=\"1\" class=\"dataframe\">\n  <thead>\n    <tr style=\"text-align: right;\">\n      <th></th>\n      <th>Month</th>\n      <th>MW</th>\n    </tr>\n  </thead>\n  <tbody>\n    <tr>\n      <th>0</th>\n      <td>2022-01-01</td>\n      <td>1415.4246</td>\n    </tr>\n    <tr>\n      <th>1</th>\n      <td>2022-02-01</td>\n      <td>1353.4260</td>\n    </tr>\n    <tr>\n      <th>2</th>\n      <td>2022-03-01</td>\n      <td>2254.4145</td>\n    </tr>\n    <tr>\n      <th>3</th>\n      <td>2022-04-01</td>\n      <td>2269.1010</td>\n    </tr>\n    <tr>\n      <th>4</th>\n      <td>2022-05-01</td>\n      <td>2690.4150</td>\n    </tr>\n    <tr>\n      <th>5</th>\n      <td>2022-06-01</td>\n      <td>2708.4910</td>\n    </tr>\n    <tr>\n      <th>6</th>\n      <td>2022-07-01</td>\n      <td>3113.6625</td>\n    </tr>\n    <tr>\n      <th>7</th>\n      <td>2022-08-01</td>\n      <td>3606.0495</td>\n    </tr>\n    <tr>\n      <th>8</th>\n      <td>2022-09-01</td>\n      <td>3335.3190</td>\n    </tr>\n    <tr>\n      <th>9</th>\n      <td>2022-10-01</td>\n      <td>2787.5835</td>\n    </tr>\n    <tr>\n      <th>10</th>\n      <td>2022-11-01</td>\n      <td>2230.0764</td>\n    </tr>\n    <tr>\n      <th>11</th>\n      <td>2022-12-01</td>\n      <td>1809.5913</td>\n    </tr>\n    <tr>\n      <th>12</th>\n      <td>2023-01-01</td>\n      <td>1859.8434</td>\n    </tr>\n    <tr>\n      <th>13</th>\n      <td>2023-02-01</td>\n      <td>1829.5317</td>\n    </tr>\n    <tr>\n      <th>14</th>\n      <td>2023-03-01</td>\n      <td>2238.3650</td>\n    </tr>\n    <tr>\n      <th>15</th>\n      <td>2023-04-01</td>\n      <td>2615.2850</td>\n    </tr>\n    <tr>\n      <th>16</th>\n      <td>2023-05-01</td>\n      <td>NaN</td>\n    </tr>\n    <tr>\n      <th>17</th>\n      <td>2023-06-01</td>\n      <td>3112.0245</td>\n    </tr>\n    <tr>\n      <th>18</th>\n      <td>2023-07-01</td>\n      <td>3376.0350</td>\n    </tr>\n    <tr>\n      <th>19</th>\n      <td>2023-08-01</td>\n      <td>3896.1580</td>\n    </tr>\n  </tbody>\n</table>\n</div>"
     },
     "execution_count": 2,
     "metadata": {},
     "output_type": "execute_result"
    },
    {
     "data": {
      "text/plain": "        Month  Number of units of electricity consumed         MW\n0  2022-01-01                                1415424.6  1415.4246\n1  2022-02-01                                1353426.0  1353.4260\n2  2022-03-01                                2254414.5  2254.4145\n3  2022-04-01                                2269101.0  2269.1010\n4  2022-05-01                                2690415.0  2690.4150\n5  2022-06-01                                2708491.0  2708.4910\n6  2022-07-01                                3113662.5  3113.6625\n7  2022-08-01                                3606049.5  3606.0495\n8  2022-09-01                                3335319.0  3335.3190\n9  2022-10-01                                2787583.5  2787.5835\n10 2022-11-01                                2230076.4  2230.0764\n11 2022-12-01                                1809591.3  1809.5913\n12 2023-01-01                                1859843.4  1859.8434\n13 2023-02-01                                1829531.7  1829.5317\n14 2023-03-01                                2238365.0  2238.3650\n15 2023-04-01                                2615285.0  2615.2850\n16 2023-05-01                                      NaN        NaN\n17 2023-06-01                                3112024.5  3112.0245\n18 2023-07-01                                3376035.0  3376.0350\n19 2023-08-01                                3896158.0  3896.1580",
      "text/html": "<div>\n<style scoped>\n    .dataframe tbody tr th:only-of-type {\n        vertical-align: middle;\n    }\n\n    .dataframe tbody tr th {\n        vertical-align: top;\n    }\n\n    .dataframe thead th {\n        text-align: right;\n    }\n</style>\n<table border=\"1\" class=\"dataframe\">\n  <thead>\n    <tr style=\"text-align: right;\">\n      <th></th>\n      <th>Month</th>\n      <th>Number of units of electricity consumed</th>\n      <th>MW</th>\n    </tr>\n  </thead>\n  <tbody>\n    <tr>\n      <th>0</th>\n      <td>2022-01-01</td>\n      <td>1415424.6</td>\n      <td>1415.4246</td>\n    </tr>\n    <tr>\n      <th>1</th>\n      <td>2022-02-01</td>\n      <td>1353426.0</td>\n      <td>1353.4260</td>\n    </tr>\n    <tr>\n      <th>2</th>\n      <td>2022-03-01</td>\n      <td>2254414.5</td>\n      <td>2254.4145</td>\n    </tr>\n    <tr>\n      <th>3</th>\n      <td>2022-04-01</td>\n      <td>2269101.0</td>\n      <td>2269.1010</td>\n    </tr>\n    <tr>\n      <th>4</th>\n      <td>2022-05-01</td>\n      <td>2690415.0</td>\n      <td>2690.4150</td>\n    </tr>\n    <tr>\n      <th>5</th>\n      <td>2022-06-01</td>\n      <td>2708491.0</td>\n      <td>2708.4910</td>\n    </tr>\n    <tr>\n      <th>6</th>\n      <td>2022-07-01</td>\n      <td>3113662.5</td>\n      <td>3113.6625</td>\n    </tr>\n    <tr>\n      <th>7</th>\n      <td>2022-08-01</td>\n      <td>3606049.5</td>\n      <td>3606.0495</td>\n    </tr>\n    <tr>\n      <th>8</th>\n      <td>2022-09-01</td>\n      <td>3335319.0</td>\n      <td>3335.3190</td>\n    </tr>\n    <tr>\n      <th>9</th>\n      <td>2022-10-01</td>\n      <td>2787583.5</td>\n      <td>2787.5835</td>\n    </tr>\n    <tr>\n      <th>10</th>\n      <td>2022-11-01</td>\n      <td>2230076.4</td>\n      <td>2230.0764</td>\n    </tr>\n    <tr>\n      <th>11</th>\n      <td>2022-12-01</td>\n      <td>1809591.3</td>\n      <td>1809.5913</td>\n    </tr>\n    <tr>\n      <th>12</th>\n      <td>2023-01-01</td>\n      <td>1859843.4</td>\n      <td>1859.8434</td>\n    </tr>\n    <tr>\n      <th>13</th>\n      <td>2023-02-01</td>\n      <td>1829531.7</td>\n      <td>1829.5317</td>\n    </tr>\n    <tr>\n      <th>14</th>\n      <td>2023-03-01</td>\n      <td>2238365.0</td>\n      <td>2238.3650</td>\n    </tr>\n    <tr>\n      <th>15</th>\n      <td>2023-04-01</td>\n      <td>2615285.0</td>\n      <td>2615.2850</td>\n    </tr>\n    <tr>\n      <th>16</th>\n      <td>2023-05-01</td>\n      <td>NaN</td>\n      <td>NaN</td>\n    </tr>\n    <tr>\n      <th>17</th>\n      <td>2023-06-01</td>\n      <td>3112024.5</td>\n      <td>3112.0245</td>\n    </tr>\n    <tr>\n      <th>18</th>\n      <td>2023-07-01</td>\n      <td>3376035.0</td>\n      <td>3376.0350</td>\n    </tr>\n    <tr>\n      <th>19</th>\n      <td>2023-08-01</td>\n      <td>3896158.0</td>\n      <td>3896.1580</td>\n    </tr>\n  </tbody>\n</table>\n</div>"
     },
     "execution_count": 2,
     "metadata": {},
     "output_type": "execute_result"
    }
   ],
   "source": [
    "def custom_date_parser(date_string):\n",
    "    return pd.to_datetime(date_string, format='%d-%m-%Y %H:%M:%S')\n",
    "\n",
    "# Specify the path to the main directory containing folders and files\n",
    "path = 'D:\\\\mlinternship\\\\iitgdata'\n",
    "folders = [folder for folder in os.listdir(path) if os.path.isdir(os.path.join(path, folder))]\n",
    "df_list = []\n",
    "\n",
    "# Iterate through each folder\n",
    "for folder in folders:\n",
    "    # Construct the full path to the current folder\n",
    "    folder_path = os.path.join(path, folder)\n",
    "    # Iterate through files in the current folder\n",
    "    for filename in os.listdir(folder_path):\n",
    "        # Check if the file has the '.xlsx' extension\n",
    "        if filename.endswith('.xlsx'):\n",
    "            # Construct the full path to the Excel file\n",
    "            file_path = os.path.join(folder_path, filename)\n",
    "            # Use the custom date parser function\n",
    "            df = pd.read_excel(file_path, header=3, date_parser=custom_date_parser)\n",
    "            # Append the dataframe to the list\n",
    "            df_list.append(df)\n",
    "\n",
    "bill_path = 'D:\\\\mlinternship\\\\IITGuwahatiElectricityBills'\n",
    "for filename in os.listdir(bill_path):\n",
    "    # Check if the file has the '.xlsx' extension\n",
    "    if filename.endswith('.xlsx'):\n",
    "        file_path = os.path.join(bill_path, filename)\n",
    "        bill_df = pd.read_excel(file_path)\n",
    "\n",
    "bill_df['Month'] = pd.to_datetime(bill_df['Month'])\n",
    "#I assumed its in kilowatts\n",
    "bill_df['MW'] = bill_df['Number of units of electricity consumed']/1000\n",
    "bill_df.drop(['Number of units of electricity consumed'], axis=1)\n",
    "bill_df"
   ],
   "metadata": {
    "collapsed": false,
    "ExecuteTime": {
     "end_time": "2023-12-30T18:03:35.589863300Z",
     "start_time": "2023-12-30T18:03:26.132883800Z"
    }
   }
  },
  {
   "cell_type": "code",
   "execution_count": 3,
   "outputs": [
    {
     "data": {
      "text/plain": "      temperature                Time\n0            22.0 2023-05-03 00:00:00\n1            22.3 2023-05-03 00:15:00\n2            22.5 2023-05-03 00:30:00\n3            23.2 2023-05-03 00:45:00\n4            23.1 2023-05-03 01:00:00\n...           ...                 ...\n4423         26.3 2023-06-27 22:45:00\n4424         26.2 2023-06-27 23:00:00\n4425         26.2 2023-06-27 23:15:00\n4426         26.3 2023-06-27 23:30:00\n4427         26.5 2023-06-27 23:45:00\n\n[4428 rows x 2 columns]",
      "text/html": "<div>\n<style scoped>\n    .dataframe tbody tr th:only-of-type {\n        vertical-align: middle;\n    }\n\n    .dataframe tbody tr th {\n        vertical-align: top;\n    }\n\n    .dataframe thead th {\n        text-align: right;\n    }\n</style>\n<table border=\"1\" class=\"dataframe\">\n  <thead>\n    <tr style=\"text-align: right;\">\n      <th></th>\n      <th>temperature</th>\n      <th>Time</th>\n    </tr>\n  </thead>\n  <tbody>\n    <tr>\n      <th>0</th>\n      <td>22.0</td>\n      <td>2023-05-03 00:00:00</td>\n    </tr>\n    <tr>\n      <th>1</th>\n      <td>22.3</td>\n      <td>2023-05-03 00:15:00</td>\n    </tr>\n    <tr>\n      <th>2</th>\n      <td>22.5</td>\n      <td>2023-05-03 00:30:00</td>\n    </tr>\n    <tr>\n      <th>3</th>\n      <td>23.2</td>\n      <td>2023-05-03 00:45:00</td>\n    </tr>\n    <tr>\n      <th>4</th>\n      <td>23.1</td>\n      <td>2023-05-03 01:00:00</td>\n    </tr>\n    <tr>\n      <th>...</th>\n      <td>...</td>\n      <td>...</td>\n    </tr>\n    <tr>\n      <th>4423</th>\n      <td>26.3</td>\n      <td>2023-06-27 22:45:00</td>\n    </tr>\n    <tr>\n      <th>4424</th>\n      <td>26.2</td>\n      <td>2023-06-27 23:00:00</td>\n    </tr>\n    <tr>\n      <th>4425</th>\n      <td>26.2</td>\n      <td>2023-06-27 23:15:00</td>\n    </tr>\n    <tr>\n      <th>4426</th>\n      <td>26.3</td>\n      <td>2023-06-27 23:30:00</td>\n    </tr>\n    <tr>\n      <th>4427</th>\n      <td>26.5</td>\n      <td>2023-06-27 23:45:00</td>\n    </tr>\n  </tbody>\n</table>\n<p>4428 rows × 2 columns</p>\n</div>"
     },
     "execution_count": 3,
     "metadata": {},
     "output_type": "execute_result"
    },
    {
     "data": {
      "text/plain": "\"\\ntemperature_data_csv_path = 'D:\\\\mlinternship\\\\iitgdata\\\\temperaturedata'\\nfilename = 'guwahati_temperature_data.csv'\\nfile = os.path.join(temperature_data_csv_path, filename)\\ntemperature_df = pd.read_csv(file)\\ntemperature_df.rename(columns={'valid': 'Time'}, inplace = True)\\ntemperature_df = temperature_df.rename(columns={'tmpc': 'temperature'})\\ntemperature_df = temperature_df[['Time', 'temperature']]\\ntemperature_df['Time'] = pd.to_datetime(temperature_df['Time'])\\ntemperature_df['Time'] = pd.DatetimeIndex(temperature_df['Time']) + timedelta(hours=5,minutes=30)\\ntemperature_df['temperature'] = pd.to_numeric(temperature_df['temperature'], errors='coerce')\\ntemperature_df.set_index('Time', inplace=True)\\ntemperature_df['temperature'] = temperature_df['temperature'].interpolate(method='polynomial', order = 5)\\ntemperature_df.reset_index(inplace=True)\\n\""
     },
     "execution_count": 3,
     "metadata": {},
     "output_type": "execute_result"
    },
    {
     "data": {
      "text/plain": "                    Time   MW  temperature\n0    2023-05-03 00:00:00  3.0    22.000000\n1    2023-05-03 01:00:00  NaN    23.100000\n2    2023-05-03 02:00:00  NaN    25.800000\n3    2023-05-03 03:00:00  2.5    27.800000\n4    2023-05-03 04:00:00  NaN    29.500000\n...                  ...  ...          ...\n1124 2023-06-27 19:00:00  5.7    26.900000\n1125 2023-06-27 20:00:00  5.6    26.700000\n1126 2023-06-27 21:00:00  5.3    26.504635\n1127 2023-06-27 22:00:00  4.8    26.600000\n1128 2023-06-27 23:00:00  4.8    26.200000\n\n[1129 rows x 3 columns]",
      "text/html": "<div>\n<style scoped>\n    .dataframe tbody tr th:only-of-type {\n        vertical-align: middle;\n    }\n\n    .dataframe tbody tr th {\n        vertical-align: top;\n    }\n\n    .dataframe thead th {\n        text-align: right;\n    }\n</style>\n<table border=\"1\" class=\"dataframe\">\n  <thead>\n    <tr style=\"text-align: right;\">\n      <th></th>\n      <th>Time</th>\n      <th>MW</th>\n      <th>temperature</th>\n    </tr>\n  </thead>\n  <tbody>\n    <tr>\n      <th>0</th>\n      <td>2023-05-03 00:00:00</td>\n      <td>3.0</td>\n      <td>22.000000</td>\n    </tr>\n    <tr>\n      <th>1</th>\n      <td>2023-05-03 01:00:00</td>\n      <td>NaN</td>\n      <td>23.100000</td>\n    </tr>\n    <tr>\n      <th>2</th>\n      <td>2023-05-03 02:00:00</td>\n      <td>NaN</td>\n      <td>25.800000</td>\n    </tr>\n    <tr>\n      <th>3</th>\n      <td>2023-05-03 03:00:00</td>\n      <td>2.5</td>\n      <td>27.800000</td>\n    </tr>\n    <tr>\n      <th>4</th>\n      <td>2023-05-03 04:00:00</td>\n      <td>NaN</td>\n      <td>29.500000</td>\n    </tr>\n    <tr>\n      <th>...</th>\n      <td>...</td>\n      <td>...</td>\n      <td>...</td>\n    </tr>\n    <tr>\n      <th>1124</th>\n      <td>2023-06-27 19:00:00</td>\n      <td>5.7</td>\n      <td>26.900000</td>\n    </tr>\n    <tr>\n      <th>1125</th>\n      <td>2023-06-27 20:00:00</td>\n      <td>5.6</td>\n      <td>26.700000</td>\n    </tr>\n    <tr>\n      <th>1126</th>\n      <td>2023-06-27 21:00:00</td>\n      <td>5.3</td>\n      <td>26.504635</td>\n    </tr>\n    <tr>\n      <th>1127</th>\n      <td>2023-06-27 22:00:00</td>\n      <td>4.8</td>\n      <td>26.600000</td>\n    </tr>\n    <tr>\n      <th>1128</th>\n      <td>2023-06-27 23:00:00</td>\n      <td>4.8</td>\n      <td>26.200000</td>\n    </tr>\n  </tbody>\n</table>\n<p>1129 rows × 3 columns</p>\n</div>"
     },
     "execution_count": 3,
     "metadata": {},
     "output_type": "execute_result"
    },
    {
     "data": {
      "text/plain": "                    Time   MW  temperature\n7175 2023-05-03 00:00:00  3.0    22.000000\n7176 2023-05-03 01:00:00  NaN    23.100000\n7177 2023-05-03 02:00:00  NaN    25.800000\n7178 2023-05-03 03:00:00  2.5    27.800000\n7179 2023-05-03 04:00:00  NaN    29.500000\n...                  ...  ...          ...\n8515 2023-06-27 19:00:00  5.7    26.900000\n8516 2023-06-27 20:00:00  5.6    26.700000\n8517 2023-06-27 21:00:00  5.3    26.504635\n8518 2023-06-27 22:00:00  4.8    26.600000\n8519 2023-06-27 23:00:00  4.8    26.200000\n\n[1129 rows x 3 columns]",
      "text/html": "<div>\n<style scoped>\n    .dataframe tbody tr th:only-of-type {\n        vertical-align: middle;\n    }\n\n    .dataframe tbody tr th {\n        vertical-align: top;\n    }\n\n    .dataframe thead th {\n        text-align: right;\n    }\n</style>\n<table border=\"1\" class=\"dataframe\">\n  <thead>\n    <tr style=\"text-align: right;\">\n      <th></th>\n      <th>Time</th>\n      <th>MW</th>\n      <th>temperature</th>\n    </tr>\n  </thead>\n  <tbody>\n    <tr>\n      <th>7175</th>\n      <td>2023-05-03 00:00:00</td>\n      <td>3.0</td>\n      <td>22.000000</td>\n    </tr>\n    <tr>\n      <th>7176</th>\n      <td>2023-05-03 01:00:00</td>\n      <td>NaN</td>\n      <td>23.100000</td>\n    </tr>\n    <tr>\n      <th>7177</th>\n      <td>2023-05-03 02:00:00</td>\n      <td>NaN</td>\n      <td>25.800000</td>\n    </tr>\n    <tr>\n      <th>7178</th>\n      <td>2023-05-03 03:00:00</td>\n      <td>2.5</td>\n      <td>27.800000</td>\n    </tr>\n    <tr>\n      <th>7179</th>\n      <td>2023-05-03 04:00:00</td>\n      <td>NaN</td>\n      <td>29.500000</td>\n    </tr>\n    <tr>\n      <th>...</th>\n      <td>...</td>\n      <td>...</td>\n      <td>...</td>\n    </tr>\n    <tr>\n      <th>8515</th>\n      <td>2023-06-27 19:00:00</td>\n      <td>5.7</td>\n      <td>26.900000</td>\n    </tr>\n    <tr>\n      <th>8516</th>\n      <td>2023-06-27 20:00:00</td>\n      <td>5.6</td>\n      <td>26.700000</td>\n    </tr>\n    <tr>\n      <th>8517</th>\n      <td>2023-06-27 21:00:00</td>\n      <td>5.3</td>\n      <td>26.504635</td>\n    </tr>\n    <tr>\n      <th>8518</th>\n      <td>2023-06-27 22:00:00</td>\n      <td>4.8</td>\n      <td>26.600000</td>\n    </tr>\n    <tr>\n      <th>8519</th>\n      <td>2023-06-27 23:00:00</td>\n      <td>4.8</td>\n      <td>26.200000</td>\n    </tr>\n  </tbody>\n</table>\n<p>1129 rows × 3 columns</p>\n</div>"
     },
     "execution_count": 3,
     "metadata": {},
     "output_type": "execute_result"
    }
   ],
   "source": [
    "temperature_data_path = 'D:\\\\mlinternship\\\\iitgdata\\\\temperaturedata\\\\report'\n",
    "temperature_df_list = []\n",
    "for filename in os.listdir(temperature_data_path):\n",
    "        # Check if the file has the '.xlsx' extension\n",
    "        if filename.endswith('.xlsx'):\n",
    "            # Construct the full path to the Excel file\n",
    "            file_path = os.path.join(temperature_data_path, filename)\n",
    "            # Use the custom date parser function\n",
    "            df = pd.read_excel(file_path, header=18, date_parser=custom_date_parser)\n",
    "            df = df[['DATE(YYYY-MM-DD)', 'TIME (UTC)', \"TEMP. ('C)\"]]\n",
    "            # Append the dataframe to the list\n",
    "            temperature_df_list.append(df)\n",
    "temperature_df = pd.concat(temperature_df_list, ignore_index=True)\n",
    "temperature_df['Time'] = pd.to_datetime(temperature_df['DATE(YYYY-MM-DD)'] + ' ' + temperature_df['TIME (UTC)'])\n",
    "# Rename the 'TEMP. ('C)' column to 'temperature'\n",
    "temperature_df.rename(columns={\"TEMP. ('C)\": 'temperature'}, inplace=True)\n",
    "# Drop the 'DATE(YYYY-MM-DD)' and 'TIME (UTC)' columns from temperature_df\n",
    "temperature_df = temperature_df.drop(['DATE(YYYY-MM-DD)', 'TIME (UTC)'], axis=1)\n",
    "temperature_df = temperature_df.sort_values(by='Time')\n",
    "temperature_df.reset_index(drop = True, inplace = True)\n",
    "temperature_df\n",
    "#read the power data\n",
    "power_df = pd.concat(df_list, ignore_index=True)\n",
    "\n",
    "power_df['Time'] = pd.to_datetime(power_df['Time'])\n",
    "power_df['Time'] = power_df['Time'].round('min')\n",
    "#replace all the 'NR' values in MW column to NaN\n",
    "power_df['MW'] = power_df['MW'].replace('NR', np.nan)\n",
    "power_df['MW'] = power_df['MW'].replace('nr', np.nan)\n",
    "power_df = power_df[['Time', 'MW']]\n",
    "power_df['MW'] = power_df['MW'].astype(str)\n",
    "power_df['MW'] = pd.to_numeric(power_df['MW'].str.replace(',', '.'), errors='coerce')\n",
    "power_df['Time'] = pd.to_datetime(power_df['Time'])\n",
    "power_df = power_df.sort_values('Time')\n",
    "power_df.to_csv('power_datacsv.csv')\n",
    "full_power_df = power_df.copy()\n",
    "\n",
    "# read the temperature data csv\n",
    "'''\n",
    "temperature_data_csv_path = 'D:\\\\mlinternship\\\\iitgdata\\\\temperaturedata'\n",
    "filename = 'guwahati_temperature_data.csv'\n",
    "file = os.path.join(temperature_data_csv_path, filename)\n",
    "temperature_df = pd.read_csv(file)\n",
    "temperature_df.rename(columns={'valid': 'Time'}, inplace = True)\n",
    "temperature_df = temperature_df.rename(columns={'tmpc': 'temperature'})\n",
    "temperature_df = temperature_df[['Time', 'temperature']]\n",
    "temperature_df['Time'] = pd.to_datetime(temperature_df['Time'])\n",
    "temperature_df['Time'] = pd.DatetimeIndex(temperature_df['Time']) + timedelta(hours=5,minutes=30)\n",
    "temperature_df['temperature'] = pd.to_numeric(temperature_df['temperature'], errors='coerce')\n",
    "temperature_df.set_index('Time', inplace=True)\n",
    "temperature_df['temperature'] = temperature_df['temperature'].interpolate(method='polynomial', order = 5)\n",
    "temperature_df.reset_index(inplace=True)\n",
    "'''\n",
    "# joining the two dataframes such that the temperature data is only taken if there exists a reading in the power data dataframe\n",
    "df = pd.merge(power_df, temperature_df, on='Time', how='left')\n",
    "df['temperature'] = df['temperature'].interpolate(method='polynomial', order = 5)\n",
    "df['Time'] = pd.to_datetime(df['Time'])\n",
    "\n",
    "full_model_part1_start_time = pd.Timestamp('2023-05-03 00:00:00')\n",
    "full_model_part1_end_time = pd.Timestamp('2023-06-06 23:00:00')\n",
    "full_model_part2_start_time =  pd.Timestamp('2023-06-16 00:00:00')\n",
    "full_model_part2_end_time = pd.Timestamp('2023-06-27 23:00:00')\n",
    "df = df[((df['Time'] >= full_model_part1_start_time) & (df['Time'] <= full_model_part1_end_time)) | ((df['Time'] >= full_model_part2_start_time) & (df['Time'] <= full_model_part2_end_time)) ]\n",
    "df = df.drop(df[df['MW'] > 20].index)\n",
    "df = df.sort_values('Time')\n",
    "df.reset_index(drop=True)\n",
    "df"
   ],
   "metadata": {
    "collapsed": false,
    "ExecuteTime": {
     "end_time": "2023-12-30T18:03:38.514169200Z",
     "start_time": "2023-12-30T18:03:35.597403400Z"
    }
   }
  },
  {
   "cell_type": "code",
   "execution_count": 4,
   "outputs": [
    {
     "data": {
      "text/plain": "                   Time    MW temperature  CDH omega1 omega2 omega3 omega4  \\\n0   2023-05-03 00:00:00   3.0        22.0  0.0    0.0    0.0    0.0    0.0   \n1   2023-05-03 03:00:00   2.5        27.8  0.0    0.0    0.0    0.0    0.0   \n2   2023-05-03 05:00:00   3.0        31.5  0.5    0.0    0.0    0.0    0.0   \n3   2023-05-03 06:00:00   3.5        33.1  2.1    0.0    0.0    0.0    0.0   \n4   2023-05-03 07:00:00  3.75        29.3  0.0    0.0    0.0    0.0    0.0   \n..                  ...   ...         ...  ...    ...    ...    ...    ...   \n885 2023-06-27 19:00:00   5.7        26.9  0.0    0.0    0.0    0.0    0.0   \n886 2023-06-27 20:00:00   5.6        26.7  0.0    0.0    0.0    0.0    0.0   \n887 2023-06-27 21:00:00   5.3   26.504635  0.0    0.0    0.0    0.0    0.0   \n888 2023-06-27 22:00:00   4.8        26.6  0.0    0.0    0.0    0.0    0.0   \n889 2023-06-27 23:00:00   4.8        26.2  0.0    0.0    0.0    0.0    0.0   \n\n    omega5 omega6  ... omega159 omega160 omega161 omega162 omega163 omega164  \\\n0      0.0    0.0  ...      0.0      0.0      0.0      0.0      0.0      0.0   \n1      0.0    0.0  ...      0.0      0.0      0.0      0.0      0.0      0.0   \n2      0.0    0.0  ...      0.0      0.0      0.0      0.0      0.0      0.0   \n3      0.0    0.0  ...      0.0      0.0      0.0      0.0      0.0      0.0   \n4      0.0    0.0  ...      0.0      0.0      0.0      0.0      0.0      0.0   \n..     ...    ...  ...      ...      ...      ...      ...      ...      ...   \n885    0.0    0.0  ...      0.0      0.0      0.0      0.0      0.0      0.0   \n886    0.0    0.0  ...      0.0      0.0      0.0      0.0      0.0      0.0   \n887    0.0    0.0  ...      0.0      0.0      0.0      0.0      0.0      0.0   \n888    0.0    0.0  ...      0.0      0.0      0.0      0.0      0.0      0.0   \n889    0.0    0.0  ...      0.0      0.0      0.0      0.0      0.0      0.0   \n\n    omega165 omega166 omega167 omega168  \n0        0.0      0.0      0.0      0.0  \n1        0.0      0.0      0.0      0.0  \n2        0.0      0.0      0.0      0.0  \n3        0.0      0.0      0.0      0.0  \n4        0.0      0.0      0.0      0.0  \n..       ...      ...      ...      ...  \n885      0.0      0.0      0.0      0.0  \n886      0.0      0.0      0.0      0.0  \n887      0.0      0.0      0.0      0.0  \n888      0.0      0.0      0.0      0.0  \n889      0.0      0.0      0.0      0.0  \n\n[890 rows x 172 columns]",
      "text/html": "<div>\n<style scoped>\n    .dataframe tbody tr th:only-of-type {\n        vertical-align: middle;\n    }\n\n    .dataframe tbody tr th {\n        vertical-align: top;\n    }\n\n    .dataframe thead th {\n        text-align: right;\n    }\n</style>\n<table border=\"1\" class=\"dataframe\">\n  <thead>\n    <tr style=\"text-align: right;\">\n      <th></th>\n      <th>Time</th>\n      <th>MW</th>\n      <th>temperature</th>\n      <th>CDH</th>\n      <th>omega1</th>\n      <th>omega2</th>\n      <th>omega3</th>\n      <th>omega4</th>\n      <th>omega5</th>\n      <th>omega6</th>\n      <th>...</th>\n      <th>omega159</th>\n      <th>omega160</th>\n      <th>omega161</th>\n      <th>omega162</th>\n      <th>omega163</th>\n      <th>omega164</th>\n      <th>omega165</th>\n      <th>omega166</th>\n      <th>omega167</th>\n      <th>omega168</th>\n    </tr>\n  </thead>\n  <tbody>\n    <tr>\n      <th>0</th>\n      <td>2023-05-03 00:00:00</td>\n      <td>3.0</td>\n      <td>22.0</td>\n      <td>0.0</td>\n      <td>0.0</td>\n      <td>0.0</td>\n      <td>0.0</td>\n      <td>0.0</td>\n      <td>0.0</td>\n      <td>0.0</td>\n      <td>...</td>\n      <td>0.0</td>\n      <td>0.0</td>\n      <td>0.0</td>\n      <td>0.0</td>\n      <td>0.0</td>\n      <td>0.0</td>\n      <td>0.0</td>\n      <td>0.0</td>\n      <td>0.0</td>\n      <td>0.0</td>\n    </tr>\n    <tr>\n      <th>1</th>\n      <td>2023-05-03 03:00:00</td>\n      <td>2.5</td>\n      <td>27.8</td>\n      <td>0.0</td>\n      <td>0.0</td>\n      <td>0.0</td>\n      <td>0.0</td>\n      <td>0.0</td>\n      <td>0.0</td>\n      <td>0.0</td>\n      <td>...</td>\n      <td>0.0</td>\n      <td>0.0</td>\n      <td>0.0</td>\n      <td>0.0</td>\n      <td>0.0</td>\n      <td>0.0</td>\n      <td>0.0</td>\n      <td>0.0</td>\n      <td>0.0</td>\n      <td>0.0</td>\n    </tr>\n    <tr>\n      <th>2</th>\n      <td>2023-05-03 05:00:00</td>\n      <td>3.0</td>\n      <td>31.5</td>\n      <td>0.5</td>\n      <td>0.0</td>\n      <td>0.0</td>\n      <td>0.0</td>\n      <td>0.0</td>\n      <td>0.0</td>\n      <td>0.0</td>\n      <td>...</td>\n      <td>0.0</td>\n      <td>0.0</td>\n      <td>0.0</td>\n      <td>0.0</td>\n      <td>0.0</td>\n      <td>0.0</td>\n      <td>0.0</td>\n      <td>0.0</td>\n      <td>0.0</td>\n      <td>0.0</td>\n    </tr>\n    <tr>\n      <th>3</th>\n      <td>2023-05-03 06:00:00</td>\n      <td>3.5</td>\n      <td>33.1</td>\n      <td>2.1</td>\n      <td>0.0</td>\n      <td>0.0</td>\n      <td>0.0</td>\n      <td>0.0</td>\n      <td>0.0</td>\n      <td>0.0</td>\n      <td>...</td>\n      <td>0.0</td>\n      <td>0.0</td>\n      <td>0.0</td>\n      <td>0.0</td>\n      <td>0.0</td>\n      <td>0.0</td>\n      <td>0.0</td>\n      <td>0.0</td>\n      <td>0.0</td>\n      <td>0.0</td>\n    </tr>\n    <tr>\n      <th>4</th>\n      <td>2023-05-03 07:00:00</td>\n      <td>3.75</td>\n      <td>29.3</td>\n      <td>0.0</td>\n      <td>0.0</td>\n      <td>0.0</td>\n      <td>0.0</td>\n      <td>0.0</td>\n      <td>0.0</td>\n      <td>0.0</td>\n      <td>...</td>\n      <td>0.0</td>\n      <td>0.0</td>\n      <td>0.0</td>\n      <td>0.0</td>\n      <td>0.0</td>\n      <td>0.0</td>\n      <td>0.0</td>\n      <td>0.0</td>\n      <td>0.0</td>\n      <td>0.0</td>\n    </tr>\n    <tr>\n      <th>...</th>\n      <td>...</td>\n      <td>...</td>\n      <td>...</td>\n      <td>...</td>\n      <td>...</td>\n      <td>...</td>\n      <td>...</td>\n      <td>...</td>\n      <td>...</td>\n      <td>...</td>\n      <td>...</td>\n      <td>...</td>\n      <td>...</td>\n      <td>...</td>\n      <td>...</td>\n      <td>...</td>\n      <td>...</td>\n      <td>...</td>\n      <td>...</td>\n      <td>...</td>\n      <td>...</td>\n    </tr>\n    <tr>\n      <th>885</th>\n      <td>2023-06-27 19:00:00</td>\n      <td>5.7</td>\n      <td>26.9</td>\n      <td>0.0</td>\n      <td>0.0</td>\n      <td>0.0</td>\n      <td>0.0</td>\n      <td>0.0</td>\n      <td>0.0</td>\n      <td>0.0</td>\n      <td>...</td>\n      <td>0.0</td>\n      <td>0.0</td>\n      <td>0.0</td>\n      <td>0.0</td>\n      <td>0.0</td>\n      <td>0.0</td>\n      <td>0.0</td>\n      <td>0.0</td>\n      <td>0.0</td>\n      <td>0.0</td>\n    </tr>\n    <tr>\n      <th>886</th>\n      <td>2023-06-27 20:00:00</td>\n      <td>5.6</td>\n      <td>26.7</td>\n      <td>0.0</td>\n      <td>0.0</td>\n      <td>0.0</td>\n      <td>0.0</td>\n      <td>0.0</td>\n      <td>0.0</td>\n      <td>0.0</td>\n      <td>...</td>\n      <td>0.0</td>\n      <td>0.0</td>\n      <td>0.0</td>\n      <td>0.0</td>\n      <td>0.0</td>\n      <td>0.0</td>\n      <td>0.0</td>\n      <td>0.0</td>\n      <td>0.0</td>\n      <td>0.0</td>\n    </tr>\n    <tr>\n      <th>887</th>\n      <td>2023-06-27 21:00:00</td>\n      <td>5.3</td>\n      <td>26.504635</td>\n      <td>0.0</td>\n      <td>0.0</td>\n      <td>0.0</td>\n      <td>0.0</td>\n      <td>0.0</td>\n      <td>0.0</td>\n      <td>0.0</td>\n      <td>...</td>\n      <td>0.0</td>\n      <td>0.0</td>\n      <td>0.0</td>\n      <td>0.0</td>\n      <td>0.0</td>\n      <td>0.0</td>\n      <td>0.0</td>\n      <td>0.0</td>\n      <td>0.0</td>\n      <td>0.0</td>\n    </tr>\n    <tr>\n      <th>888</th>\n      <td>2023-06-27 22:00:00</td>\n      <td>4.8</td>\n      <td>26.6</td>\n      <td>0.0</td>\n      <td>0.0</td>\n      <td>0.0</td>\n      <td>0.0</td>\n      <td>0.0</td>\n      <td>0.0</td>\n      <td>0.0</td>\n      <td>...</td>\n      <td>0.0</td>\n      <td>0.0</td>\n      <td>0.0</td>\n      <td>0.0</td>\n      <td>0.0</td>\n      <td>0.0</td>\n      <td>0.0</td>\n      <td>0.0</td>\n      <td>0.0</td>\n      <td>0.0</td>\n    </tr>\n    <tr>\n      <th>889</th>\n      <td>2023-06-27 23:00:00</td>\n      <td>4.8</td>\n      <td>26.2</td>\n      <td>0.0</td>\n      <td>0.0</td>\n      <td>0.0</td>\n      <td>0.0</td>\n      <td>0.0</td>\n      <td>0.0</td>\n      <td>0.0</td>\n      <td>...</td>\n      <td>0.0</td>\n      <td>0.0</td>\n      <td>0.0</td>\n      <td>0.0</td>\n      <td>0.0</td>\n      <td>0.0</td>\n      <td>0.0</td>\n      <td>0.0</td>\n      <td>0.0</td>\n      <td>0.0</td>\n    </tr>\n  </tbody>\n</table>\n<p>890 rows × 172 columns</p>\n</div>"
     },
     "execution_count": 4,
     "metadata": {},
     "output_type": "execute_result"
    }
   ],
   "source": [
    "TcoolStPt = 31\n",
    "CDH = df['temperature'] - TcoolStPt\n",
    "CDH.clip(lower=0, inplace=True)\n",
    "CDH = pd.DataFrame(data=CDH.values, columns=['CDH'], index=df.index)\n",
    "# Concatenate CDH with the original DataFrame using the index\n",
    "df = pd.concat([df, CDH], axis=1)\n",
    "df = df.sort_values('Time')\n",
    "df.reset_index(inplace=True, drop = True)\n",
    "\n",
    "numOmegas = 24 * 7\n",
    "num_of_rows = df.shape[0]\n",
    "omegas = np.zeros((num_of_rows, numOmegas))  # Assuming numOmegas columns for omegas\n",
    "concatenated_data = np.concatenate((df, omegas), axis=1)\n",
    "column_names = ['Time', 'MW', 'temperature', 'CDH']\n",
    "for i in range(1, numOmegas + 1,1):\n",
    "    column_names.append('omega' + str(i))\n",
    "\n",
    "df = pd.DataFrame(concatenated_data, columns=column_names)\n",
    "df['Time'] = pd.to_datetime(df['Time'])\n",
    "for i in range(0,num_of_rows):\n",
    "        datetime = df.Time.loc[i]\n",
    "        hourOfWeekIndex = int(datetime.dayofweek*24+(datetime.hour+1))\n",
    "        x = np.zeros((1,numOmegas))\n",
    "        x[0,hourOfWeekIndex-1]=1\n",
    "        omegas[i,:]=x\n",
    "\n",
    "df.iloc[:,4:]=omegas\n",
    "DF = df.copy()\n",
    "df = df.dropna()\n",
    "df.reset_index(inplace=True, drop = True)\n",
    "df"
   ],
   "metadata": {
    "collapsed": false,
    "ExecuteTime": {
     "end_time": "2023-12-30T18:03:38.752002800Z",
     "start_time": "2023-12-30T18:03:38.521705400Z"
    }
   }
  },
  {
   "cell_type": "code",
   "execution_count": 5,
   "outputs": [],
   "source": [
    "\n",
    "training_csv_file_path = 'D:\\\\mlinternship\\\\iitgdata\\\\training_data_for_svm.csv'\n",
    "df.to_csv(training_csv_file_path)"
   ],
   "metadata": {
    "collapsed": false,
    "ExecuteTime": {
     "end_time": "2023-12-30T18:03:38.803101Z",
     "start_time": "2023-12-30T18:03:38.608261500Z"
    }
   }
  },
  {
   "cell_type": "code",
   "execution_count": 6,
   "outputs": [],
   "source": [
    "training_df = pd.read_csv(training_csv_file_path)"
   ],
   "metadata": {
    "collapsed": false,
    "ExecuteTime": {
     "end_time": "2023-12-30T18:03:38.803101Z",
     "start_time": "2023-12-30T18:03:38.679445100Z"
    }
   }
  },
  {
   "cell_type": "code",
   "execution_count": 11,
   "outputs": [],
   "source": [
    "\n",
    "x = training_df.loc[:, 'CDH':'omega168']\n",
    "x = x.to_numpy()\n",
    "y = training_df['MW']\n",
    "y = y.to_numpy()\n",
    "y = y.reshape(-1,1)\n",
    "scaler = StandardScaler()\n",
    "x = scaler.fit_transform(x)\n",
    "y = scaler.fit_transform(y)\n"
   ],
   "metadata": {
    "collapsed": false,
    "ExecuteTime": {
     "end_time": "2023-12-30T18:04:12.916408700Z",
     "start_time": "2023-12-30T18:04:12.859899800Z"
    }
   }
  },
  {
   "cell_type": "code",
   "execution_count": 8,
   "outputs": [
    {
     "data": {
      "text/plain": "     Unnamed: 0                 Time    MW  temperature  CDH  omega1  omega2  \\\n0             0  2023-05-03 00:00:00  3.00    22.000000  0.0     0.0     0.0   \n1             1  2023-05-03 03:00:00  2.50    27.800000  0.0     0.0     0.0   \n2             2  2023-05-03 05:00:00  3.00    31.500000  0.5     0.0     0.0   \n3             3  2023-05-03 06:00:00  3.50    33.100000  2.1     0.0     0.0   \n4             4  2023-05-03 07:00:00  3.75    29.300000  0.0     0.0     0.0   \n..          ...                  ...   ...          ...  ...     ...     ...   \n885         885  2023-06-27 19:00:00  5.70    26.900000  0.0     0.0     0.0   \n886         886  2023-06-27 20:00:00  5.60    26.700000  0.0     0.0     0.0   \n887         887  2023-06-27 21:00:00  5.30    26.504635  0.0     0.0     0.0   \n888         888  2023-06-27 22:00:00  4.80    26.600000  0.0     0.0     0.0   \n889         889  2023-06-27 23:00:00  4.80    26.200000  0.0     0.0     0.0   \n\n     omega3  omega4  omega5  ...  omega159  omega160  omega161  omega162  \\\n0       0.0     0.0     0.0  ...       0.0       0.0       0.0       0.0   \n1       0.0     0.0     0.0  ...       0.0       0.0       0.0       0.0   \n2       0.0     0.0     0.0  ...       0.0       0.0       0.0       0.0   \n3       0.0     0.0     0.0  ...       0.0       0.0       0.0       0.0   \n4       0.0     0.0     0.0  ...       0.0       0.0       0.0       0.0   \n..      ...     ...     ...  ...       ...       ...       ...       ...   \n885     0.0     0.0     0.0  ...       0.0       0.0       0.0       0.0   \n886     0.0     0.0     0.0  ...       0.0       0.0       0.0       0.0   \n887     0.0     0.0     0.0  ...       0.0       0.0       0.0       0.0   \n888     0.0     0.0     0.0  ...       0.0       0.0       0.0       0.0   \n889     0.0     0.0     0.0  ...       0.0       0.0       0.0       0.0   \n\n     omega163  omega164  omega165  omega166  omega167  omega168  \n0         0.0       0.0       0.0       0.0       0.0       0.0  \n1         0.0       0.0       0.0       0.0       0.0       0.0  \n2         0.0       0.0       0.0       0.0       0.0       0.0  \n3         0.0       0.0       0.0       0.0       0.0       0.0  \n4         0.0       0.0       0.0       0.0       0.0       0.0  \n..        ...       ...       ...       ...       ...       ...  \n885       0.0       0.0       0.0       0.0       0.0       0.0  \n886       0.0       0.0       0.0       0.0       0.0       0.0  \n887       0.0       0.0       0.0       0.0       0.0       0.0  \n888       0.0       0.0       0.0       0.0       0.0       0.0  \n889       0.0       0.0       0.0       0.0       0.0       0.0  \n\n[890 rows x 173 columns]",
      "text/html": "<div>\n<style scoped>\n    .dataframe tbody tr th:only-of-type {\n        vertical-align: middle;\n    }\n\n    .dataframe tbody tr th {\n        vertical-align: top;\n    }\n\n    .dataframe thead th {\n        text-align: right;\n    }\n</style>\n<table border=\"1\" class=\"dataframe\">\n  <thead>\n    <tr style=\"text-align: right;\">\n      <th></th>\n      <th>Unnamed: 0</th>\n      <th>Time</th>\n      <th>MW</th>\n      <th>temperature</th>\n      <th>CDH</th>\n      <th>omega1</th>\n      <th>omega2</th>\n      <th>omega3</th>\n      <th>omega4</th>\n      <th>omega5</th>\n      <th>...</th>\n      <th>omega159</th>\n      <th>omega160</th>\n      <th>omega161</th>\n      <th>omega162</th>\n      <th>omega163</th>\n      <th>omega164</th>\n      <th>omega165</th>\n      <th>omega166</th>\n      <th>omega167</th>\n      <th>omega168</th>\n    </tr>\n  </thead>\n  <tbody>\n    <tr>\n      <th>0</th>\n      <td>0</td>\n      <td>2023-05-03 00:00:00</td>\n      <td>3.00</td>\n      <td>22.000000</td>\n      <td>0.0</td>\n      <td>0.0</td>\n      <td>0.0</td>\n      <td>0.0</td>\n      <td>0.0</td>\n      <td>0.0</td>\n      <td>...</td>\n      <td>0.0</td>\n      <td>0.0</td>\n      <td>0.0</td>\n      <td>0.0</td>\n      <td>0.0</td>\n      <td>0.0</td>\n      <td>0.0</td>\n      <td>0.0</td>\n      <td>0.0</td>\n      <td>0.0</td>\n    </tr>\n    <tr>\n      <th>1</th>\n      <td>1</td>\n      <td>2023-05-03 03:00:00</td>\n      <td>2.50</td>\n      <td>27.800000</td>\n      <td>0.0</td>\n      <td>0.0</td>\n      <td>0.0</td>\n      <td>0.0</td>\n      <td>0.0</td>\n      <td>0.0</td>\n      <td>...</td>\n      <td>0.0</td>\n      <td>0.0</td>\n      <td>0.0</td>\n      <td>0.0</td>\n      <td>0.0</td>\n      <td>0.0</td>\n      <td>0.0</td>\n      <td>0.0</td>\n      <td>0.0</td>\n      <td>0.0</td>\n    </tr>\n    <tr>\n      <th>2</th>\n      <td>2</td>\n      <td>2023-05-03 05:00:00</td>\n      <td>3.00</td>\n      <td>31.500000</td>\n      <td>0.5</td>\n      <td>0.0</td>\n      <td>0.0</td>\n      <td>0.0</td>\n      <td>0.0</td>\n      <td>0.0</td>\n      <td>...</td>\n      <td>0.0</td>\n      <td>0.0</td>\n      <td>0.0</td>\n      <td>0.0</td>\n      <td>0.0</td>\n      <td>0.0</td>\n      <td>0.0</td>\n      <td>0.0</td>\n      <td>0.0</td>\n      <td>0.0</td>\n    </tr>\n    <tr>\n      <th>3</th>\n      <td>3</td>\n      <td>2023-05-03 06:00:00</td>\n      <td>3.50</td>\n      <td>33.100000</td>\n      <td>2.1</td>\n      <td>0.0</td>\n      <td>0.0</td>\n      <td>0.0</td>\n      <td>0.0</td>\n      <td>0.0</td>\n      <td>...</td>\n      <td>0.0</td>\n      <td>0.0</td>\n      <td>0.0</td>\n      <td>0.0</td>\n      <td>0.0</td>\n      <td>0.0</td>\n      <td>0.0</td>\n      <td>0.0</td>\n      <td>0.0</td>\n      <td>0.0</td>\n    </tr>\n    <tr>\n      <th>4</th>\n      <td>4</td>\n      <td>2023-05-03 07:00:00</td>\n      <td>3.75</td>\n      <td>29.300000</td>\n      <td>0.0</td>\n      <td>0.0</td>\n      <td>0.0</td>\n      <td>0.0</td>\n      <td>0.0</td>\n      <td>0.0</td>\n      <td>...</td>\n      <td>0.0</td>\n      <td>0.0</td>\n      <td>0.0</td>\n      <td>0.0</td>\n      <td>0.0</td>\n      <td>0.0</td>\n      <td>0.0</td>\n      <td>0.0</td>\n      <td>0.0</td>\n      <td>0.0</td>\n    </tr>\n    <tr>\n      <th>...</th>\n      <td>...</td>\n      <td>...</td>\n      <td>...</td>\n      <td>...</td>\n      <td>...</td>\n      <td>...</td>\n      <td>...</td>\n      <td>...</td>\n      <td>...</td>\n      <td>...</td>\n      <td>...</td>\n      <td>...</td>\n      <td>...</td>\n      <td>...</td>\n      <td>...</td>\n      <td>...</td>\n      <td>...</td>\n      <td>...</td>\n      <td>...</td>\n      <td>...</td>\n      <td>...</td>\n    </tr>\n    <tr>\n      <th>885</th>\n      <td>885</td>\n      <td>2023-06-27 19:00:00</td>\n      <td>5.70</td>\n      <td>26.900000</td>\n      <td>0.0</td>\n      <td>0.0</td>\n      <td>0.0</td>\n      <td>0.0</td>\n      <td>0.0</td>\n      <td>0.0</td>\n      <td>...</td>\n      <td>0.0</td>\n      <td>0.0</td>\n      <td>0.0</td>\n      <td>0.0</td>\n      <td>0.0</td>\n      <td>0.0</td>\n      <td>0.0</td>\n      <td>0.0</td>\n      <td>0.0</td>\n      <td>0.0</td>\n    </tr>\n    <tr>\n      <th>886</th>\n      <td>886</td>\n      <td>2023-06-27 20:00:00</td>\n      <td>5.60</td>\n      <td>26.700000</td>\n      <td>0.0</td>\n      <td>0.0</td>\n      <td>0.0</td>\n      <td>0.0</td>\n      <td>0.0</td>\n      <td>0.0</td>\n      <td>...</td>\n      <td>0.0</td>\n      <td>0.0</td>\n      <td>0.0</td>\n      <td>0.0</td>\n      <td>0.0</td>\n      <td>0.0</td>\n      <td>0.0</td>\n      <td>0.0</td>\n      <td>0.0</td>\n      <td>0.0</td>\n    </tr>\n    <tr>\n      <th>887</th>\n      <td>887</td>\n      <td>2023-06-27 21:00:00</td>\n      <td>5.30</td>\n      <td>26.504635</td>\n      <td>0.0</td>\n      <td>0.0</td>\n      <td>0.0</td>\n      <td>0.0</td>\n      <td>0.0</td>\n      <td>0.0</td>\n      <td>...</td>\n      <td>0.0</td>\n      <td>0.0</td>\n      <td>0.0</td>\n      <td>0.0</td>\n      <td>0.0</td>\n      <td>0.0</td>\n      <td>0.0</td>\n      <td>0.0</td>\n      <td>0.0</td>\n      <td>0.0</td>\n    </tr>\n    <tr>\n      <th>888</th>\n      <td>888</td>\n      <td>2023-06-27 22:00:00</td>\n      <td>4.80</td>\n      <td>26.600000</td>\n      <td>0.0</td>\n      <td>0.0</td>\n      <td>0.0</td>\n      <td>0.0</td>\n      <td>0.0</td>\n      <td>0.0</td>\n      <td>...</td>\n      <td>0.0</td>\n      <td>0.0</td>\n      <td>0.0</td>\n      <td>0.0</td>\n      <td>0.0</td>\n      <td>0.0</td>\n      <td>0.0</td>\n      <td>0.0</td>\n      <td>0.0</td>\n      <td>0.0</td>\n    </tr>\n    <tr>\n      <th>889</th>\n      <td>889</td>\n      <td>2023-06-27 23:00:00</td>\n      <td>4.80</td>\n      <td>26.200000</td>\n      <td>0.0</td>\n      <td>0.0</td>\n      <td>0.0</td>\n      <td>0.0</td>\n      <td>0.0</td>\n      <td>0.0</td>\n      <td>...</td>\n      <td>0.0</td>\n      <td>0.0</td>\n      <td>0.0</td>\n      <td>0.0</td>\n      <td>0.0</td>\n      <td>0.0</td>\n      <td>0.0</td>\n      <td>0.0</td>\n      <td>0.0</td>\n      <td>0.0</td>\n    </tr>\n  </tbody>\n</table>\n<p>890 rows × 173 columns</p>\n</div>"
     },
     "execution_count": 8,
     "metadata": {},
     "output_type": "execute_result"
    }
   ],
   "source": [
    "training_df"
   ],
   "metadata": {
    "collapsed": false,
    "ExecuteTime": {
     "end_time": "2023-12-30T18:03:38.803101Z",
     "start_time": "2023-12-30T18:03:38.719175700Z"
    }
   }
  },
  {
   "cell_type": "code",
   "execution_count": 12,
   "outputs": [
    {
     "data": {
      "text/plain": "array([[-0.45518532, -0.03353892, -0.05815657, ..., -0.08903662,\n        -0.05815657, -0.05815657],\n       [-0.45518532, -0.03353892, -0.05815657, ..., -0.08903662,\n        -0.05815657, -0.05815657],\n       [-0.14638411, -0.03353892, -0.05815657, ..., -0.08903662,\n        -0.05815657, -0.05815657],\n       ...,\n       [-0.45518532, -0.03353892, -0.05815657, ..., -0.08903662,\n        -0.05815657, -0.05815657],\n       [-0.45518532, -0.03353892, -0.05815657, ..., -0.08903662,\n        -0.05815657, -0.05815657],\n       [-0.45518532, -0.03353892, -0.05815657, ..., -0.08903662,\n        -0.05815657, -0.05815657]])"
     },
     "execution_count": 12,
     "metadata": {},
     "output_type": "execute_result"
    }
   ],
   "source": [
    "\n",
    "x"
   ],
   "metadata": {
    "collapsed": false,
    "ExecuteTime": {
     "end_time": "2023-12-30T18:04:14.858712200Z",
     "start_time": "2023-12-30T18:04:14.802632900Z"
    }
   }
  },
  {
   "cell_type": "code",
   "execution_count": 10,
   "outputs": [
    {
     "data": {
      "text/plain": "array([[-1.41632781],\n       [-1.96343835],\n       [-1.41632781],\n       [-0.86921726],\n       [-0.59566199],\n       [-0.86921726],\n       [-0.86921726],\n       [ 0.22500382],\n       [ 0.22500382],\n       [ 0.22500382],\n       [ 1.04566964],\n       [ 1.42864701],\n       [ 1.53806912],\n       [ 1.64749123],\n       [ 1.42864701],\n       [ 1.53806912],\n       [ 0.11558171],\n       [ 0.02804403],\n       [-1.09900369],\n       [-1.75553634],\n       [-1.78836298],\n       [ 0.0061596 ],\n       [ 0.0061596 ],\n       [-0.43152883],\n       [-0.97863937],\n       [ 0.55327015],\n       [ 0.66269226],\n       [ 1.10038069],\n       [ 0.55327015],\n       [ 0.49855909],\n       [ 0.77211436],\n       [ 0.77211436],\n       [ 0.77211436],\n       [ 0.49855909],\n       [ 0.49855909],\n       [ 0.22500382],\n       [-0.04855145],\n       [-0.21268461],\n       [-1.06617706],\n       [-0.65037305],\n       [ 0.13746613],\n       [ 0.01710181],\n       [-0.14703135],\n       [-0.13608914],\n       [-0.19080019],\n       [ 0.33442593],\n       [ 0.66269226],\n       [ 0.88153647],\n       [ 0.88153647],\n       [ 0.99095858],\n       [ 0.99095858],\n       [ 0.55327015],\n       [ 0.44384804],\n       [-0.32210672],\n       [-0.32210672],\n       [-0.86921726],\n       [-0.86921726],\n       [-1.68988308],\n       [-1.96343835],\n       [-1.96343835],\n       [-1.96343835],\n       [-0.54095094],\n       [-0.32210672],\n       [-0.48623988],\n       [-0.75979516],\n       [-0.37681778],\n       [-0.32210672],\n       [-0.43152883],\n       [-0.43152883],\n       [ 0.3015993 ],\n       [ 0.55327015],\n       [ 0.87059426],\n       [ 0.93624753],\n       [ 1.26451385],\n       [ 0.99095858],\n       [ 0.76117215],\n       [ 0.81588321],\n       [-0.32210672],\n       [-0.32210672],\n       [-0.32210672],\n       [-1.41632781],\n       [-1.41632781],\n       [-0.86921726],\n       [-0.86921726],\n       [-1.3069057 ],\n       [-1.19748359],\n       [-1.3069057 ],\n       [-1.19748359],\n       [-1.08806148],\n       [-0.97863937],\n       [ 0.22500382],\n       [ 0.22500382],\n       [ 0.66269226],\n       [ 1.10038069],\n       [ 0.99095858],\n       [ 0.88153647],\n       [ 0.88153647],\n       [ 0.88153647],\n       [ 0.78305657],\n       [ 0.3015993 ],\n       [-0.89110169],\n       [-1.3069057 ],\n       [-1.52574992],\n       [ 0.29065709],\n       [-0.32210672],\n       [-0.32210672],\n       [-0.32210672],\n       [-0.32210672],\n       [ 0.49855909],\n       [ 0.49855909],\n       [ 0.77211436],\n       [ 0.77211436],\n       [ 0.55327015],\n       [ 0.66269226],\n       [ 1.10038069],\n       [ 0.99095858],\n       [ 0.88153647],\n       [ 0.88153647],\n       [ 0.55327015],\n       [ 0.55327015],\n       [-0.1032625 ],\n       [ 0.0061596 ],\n       [-0.75979516],\n       [ 0.22500382],\n       [ 0.66269226],\n       [ 0.88153647],\n       [ 1.10038069],\n       [ 1.10038069],\n       [ 0.88153647],\n       [ 1.31922491],\n       [ 1.53806912],\n       [ 1.86633545],\n       [ 2.08517967],\n       [ 2.19460177],\n       [ 1.64749123],\n       [ 1.2098028 ],\n       [ 0.66269226],\n       [ 0.66269226],\n       [ 0.22500382],\n       [-1.74459413],\n       [-1.74459413],\n       [-0.32210672],\n       [ 0.22500382],\n       [-0.32210672],\n       [-0.32210672],\n       [ 0.22500382],\n       [ 0.22500382],\n       [ 0.49855909],\n       [ 0.49855909],\n       [ 1.42864701],\n       [ 1.31922491],\n       [ 1.10038069],\n       [ 1.31922491],\n       [ 1.75691334],\n       [ 1.75691334],\n       [ 1.53806912],\n       [ 1.42864701],\n       [ 0.56421236],\n       [ 0.88153647],\n       [-1.73365192],\n       [-1.96343835],\n       [-0.21268461],\n       [-0.1032625 ],\n       [ 0.0061596 ],\n       [ 0.88153647],\n       [ 0.88153647],\n       [ 0.88153647],\n       [ 0.88153647],\n       [ 1.2098028 ],\n       [ 1.31922491],\n       [ 1.59278018],\n       [ 1.59278018],\n       [ 1.59278018],\n       [ 1.59278018],\n       [ 1.04566964],\n       [ 1.04566964],\n       [-0.73791073],\n       [ 0.58609678],\n       [ 0.85965205],\n       [ 0.61892341],\n       [ 1.03472742],\n       [ 1.00190079],\n       [ 0.93624753],\n       [ 0.78305657],\n       [ 1.10038069],\n       [ 1.53806912],\n       [ 1.86633545],\n       [ 2.08517967],\n       [ 1.53806912],\n       [ 0.88153647],\n       [ 0.49855909],\n       [ 0.22500382],\n       [-0.86921726],\n       [-0.86921726],\n       [-1.41632781],\n       [-1.41632781],\n       [-1.41632781],\n       [-1.41632781],\n       [-0.21268461],\n       [-0.32210672],\n       [-0.7050841 ],\n       [-1.63517202],\n       [-0.32210672],\n       [-0.04855145],\n       [-0.21268461],\n       [-0.37681778],\n       [ 0.07181287],\n       [ 0.47667467],\n       [ 0.49855909],\n       [ 0.54232794],\n       [ 0.2031194 ],\n       [ 0.2031194 ],\n       [ 0.08275508],\n       [ 0.06087066],\n       [ 0.55327015],\n       [ 0.0061596 ],\n       [-1.3069057 ],\n       [-1.3069057 ],\n       [-1.3069057 ],\n       [-0.97863937],\n       [-0.97863937],\n       [-0.97863937],\n       [-0.75979516],\n       [-0.75979516],\n       [-0.43152883],\n       [-0.32210672],\n       [ 0.22500382],\n       [ 0.27971488],\n       [ 0.27971488],\n       [ 0.66269226],\n       [ 0.6079812 ],\n       [ 0.49855909],\n       [-0.32210672],\n       [ 0.22500382],\n       [-0.04855145],\n       [-0.32210672],\n       [ 0.49855909],\n       [ 0.49855909],\n       [ 0.77211436],\n       [ 0.77211436],\n       [ 0.88153647],\n       [ 1.10038069],\n       [ 1.10038069],\n       [ 1.10038069],\n       [ 0.99095858],\n       [ 0.22500382],\n       [ 0.22500382],\n       [ 0.22500382],\n       [ 0.17029277],\n       [ 0.22500382],\n       [ 0.0061596 ],\n       [-1.41632781],\n       [-1.41632781],\n       [-1.52574992],\n       [-0.32210672],\n       [ 0.11558171],\n       [-0.43152883],\n       [-0.1032625 ],\n       [ 0.11558171],\n       [ 0.22500382],\n       [ 0.33442593],\n       [ 0.55327015],\n       [ 0.55327015],\n       [ 0.22500382],\n       [ 0.77211436],\n       [ 1.04566964],\n       [ 1.04566964],\n       [ 0.22500382],\n       [ 0.22500382],\n       [-0.32210672],\n       [-0.32210672],\n       [-0.86921726],\n       [-0.86921726],\n       [-1.74459413],\n       [-1.96343835],\n       [-1.96343835],\n       [-0.32210672],\n       [-0.32210672],\n       [-0.86921726],\n       [-0.86921726],\n       [-0.32210672],\n       [ 0.22500382],\n       [ 0.0061596 ],\n       [ 0.11558171],\n       [ 0.22500382],\n       [ 0.44384804],\n       [ 0.66269226],\n       [ 0.99095858],\n       [ 0.55327015],\n       [ 0.44384804],\n       [-0.43152883],\n       [-0.65037305],\n       [-0.21268461],\n       [ 0.22500382],\n       [ 0.22500382],\n       [-0.1032625 ],\n       [-0.32210672],\n       [ 0.22500382],\n       [ 0.49855909],\n       [ 0.49855909],\n       [ 0.22500382],\n       [ 0.22500382],\n       [-0.32210672],\n       [-0.32210672],\n       [-0.47529767],\n       [-0.9020439 ],\n       [-0.88015947],\n       [-0.31116451],\n       [ 0.15935056],\n       [ 0.29065709],\n       [ 0.44384804],\n       [ 0.45479025],\n       [ 0.77211436],\n       [ 0.77211436],\n       [ 0.77211436],\n       [ 0.77211436],\n       [ 0.77211436],\n       [ 0.77211436],\n       [ 0.66269226],\n       [ 0.33442593],\n       [-0.32210672],\n       [-0.32210672],\n       [-0.86921726],\n       [-1.96343835],\n       [-1.41632781],\n       [-1.41632781],\n       [-1.41632781],\n       [-1.41632781],\n       [-1.08806148],\n       [-1.08806148],\n       [-1.41632781],\n       [-0.86921726],\n       [-0.65037305],\n       [-0.65037305],\n       [-0.47529767],\n       [-0.21268461],\n       [ 0.13746613],\n       [ 0.17029277],\n       [ 0.73928773],\n       [ 0.68457668],\n       [ 0.55327015],\n       [ 0.11558171],\n       [-0.32210672],\n       [-1.3069057 ],\n       [-1.3069057 ],\n       [-1.41632781],\n       [-1.41632781],\n       [-1.63517202],\n       [-1.74459413],\n       [-1.74459413],\n       [-1.74459413],\n       [-0.97863937],\n       [-1.08806148],\n       [-0.86921726],\n       [-0.54095094],\n       [-0.43152883],\n       [-0.32210672],\n       [-0.32210672],\n       [-0.43152883],\n       [-1.41632781],\n       [-0.86921726],\n       [-0.86921726],\n       [-0.86921726],\n       [-0.32210672],\n       [-0.32210672],\n       [ 0.22500382],\n       [ 0.22500382],\n       [ 0.22500382],\n       [ 0.22500382],\n       [ 0.22500382],\n       [-0.32210672],\n       [-0.32210672],\n       [-0.32210672],\n       [-0.86921726],\n       [ 0.11558171],\n       [-0.65037305],\n       [-0.21268461],\n       [-0.1032625 ],\n       [-0.75979516],\n       [ 0.44384804],\n       [ 0.33442593],\n       [-0.04855145],\n       [ 0.22500382],\n       [ 1.2098028 ],\n       [-0.86921726],\n       [-0.86921726],\n       [-1.19748359],\n       [-1.96343835],\n       [-1.96343835],\n       [-0.43152883],\n       [-0.86921726],\n       [-0.86921726],\n       [-0.59566199],\n       [ 0.0061596 ],\n       [-0.21268461],\n       [-0.59566199],\n       [ 0.33442593],\n       [ 0.55327015],\n       [ 0.66269226],\n       [ 0.77211436],\n       [ 0.88153647],\n       [ 0.99095858],\n       [ 1.10038069],\n       [ 0.55327015],\n       [ 0.33442593],\n       [-0.81450621],\n       [-1.14277254],\n       [-1.19748359],\n       [-0.75979516],\n       [-0.1032625 ],\n       [ 0.77211436],\n       [ 0.66269226],\n       [ 0.22500382],\n       [ 0.22500382],\n       [ 0.22500382],\n       [ 0.77211436],\n       [ 0.77211436],\n       [ 0.77211436],\n       [ 0.77211436],\n       [-0.32210672],\n       [-0.86921726],\n       [-1.85401624],\n       [-0.75979516],\n       [ 0.0061596 ],\n       [ 0.44384804],\n       [ 0.55327015],\n       [ 1.42864701],\n       [ 0.88153647],\n       [ 0.88153647],\n       [ 0.33442593],\n       [ 0.33442593],\n       [ 0.88153647],\n       [ 0.88153647],\n       [ 0.88153647],\n       [ 0.22500382],\n       [ 0.22500382],\n       [-0.32210672],\n       [ 0.22500382],\n       [ 0.22500382],\n       [-0.32210672],\n       [-1.96343835],\n       [-1.96343835],\n       [-2.51054889],\n       [-2.51054889],\n       [-1.96343835],\n       [-0.37681778],\n       [-1.25219464],\n       [-0.92392832],\n       [-0.97863937],\n       [-1.3069057 ],\n       [-1.19748359],\n       [-0.59566199],\n       [-0.35493335],\n       [-0.43152883],\n       [-0.43152883],\n       [-0.58471978],\n       [-0.86921726],\n       [-0.86921726],\n       [-0.86921726],\n       [-1.96343835],\n       [-1.96343835],\n       [-1.41632781],\n       [-1.41632781],\n       [-1.41632781],\n       [-1.08806148],\n       [-1.3069057 ],\n       [-1.3069057 ],\n       [-1.3069057 ],\n       [-1.3069057 ],\n       [-1.19748359],\n       [-1.41632781],\n       [-1.63517202],\n       [-1.55857655],\n       [-0.48623988],\n       [-0.1032625 ],\n       [-0.21268461],\n       [-0.21268461],\n       [-0.92392832],\n       [-0.86921726],\n       [ 0.0061596 ],\n       [-0.43152883],\n       [ 0.0061596 ],\n       [ 0.17029277],\n       [ 0.11558171],\n       [ 0.49855909],\n       [ 0.55327015],\n       [ 0.55327015],\n       [ 0.77211436],\n       [ 0.88153647],\n       [ 0.88153647],\n       [ 1.31922491],\n       [ 1.31922491],\n       [ 1.31922491],\n       [-0.1032625 ],\n       [-0.1032625 ],\n       [ 0.11558171],\n       [ 0.33442593],\n       [ 0.44384804],\n       [ 0.44384804],\n       [ 0.55327015],\n       [ 0.44384804],\n       [ 0.66269226],\n       [ 0.66269226],\n       [ 1.42864701],\n       [ 1.42864701],\n       [ 1.31922491],\n       [ 1.31922491],\n       [ 0.88153647],\n       [ 0.88153647],\n       [ 1.42864701],\n       [ 1.31922491],\n       [-0.32210672],\n       [-0.21268461],\n       [-0.1032625 ],\n       [ 0.33442593],\n       [ 0.66269226],\n       [ 0.99095858],\n       [ 0.88153647],\n       [ 0.99095858],\n       [ 1.23168722],\n       [ 1.76785555],\n       [ 2.12894851],\n       [ 1.9210465 ],\n       [ 1.87727766],\n       [ 1.83350882],\n       [ 1.63654902],\n       [ 1.62560681],\n       [ 0.33442593],\n       [ 0.22500382],\n       [ 0.44384804],\n       [ 0.55327015],\n       [ 0.88153647],\n       [ 0.99095858],\n       [ 1.04566964],\n       [ 1.53806912],\n       [ 1.75691334],\n       [ 0.77211436],\n       [ 1.10038069],\n       [ 1.31922491],\n       [ 0.99095858],\n       [ 0.88153647],\n       [-0.08137808],\n       [-0.22362682],\n       [-0.23456903],\n       [ 0.23594603],\n       [ 0.95813195],\n       [ 0.92530532],\n       [ 0.96907416],\n       [ 0.95813195],\n       [ 1.2098028 ],\n       [ 1.53806912],\n       [ 1.86633545],\n       [ 1.86633545],\n       [ 1.64749123],\n       [ 1.75691334],\n       [ 1.53806912],\n       [ 1.2098028 ],\n       [ 0.77211436],\n       [ 0.77211436],\n       [ 0.77211436],\n       [-0.32210672],\n       [-0.32210672],\n       [-0.32210672],\n       [-0.32210672],\n       [-0.37681778],\n       [-0.37681778],\n       [-0.86921726],\n       [-0.43152883],\n       [-0.38775999],\n       [-0.1032625 ],\n       [ 0.11558171],\n       [ 0.11558171],\n       [ 0.0061596 ],\n       [ 0.5095013 ],\n       [ 0.9143631 ],\n       [ 1.40676259],\n       [ 1.3082827 ],\n       [ 1.47241586],\n       [ 1.35205154],\n       [ 1.46147365],\n       [ 1.23168722],\n       [ 1.42864701],\n       [ 1.31922491],\n       [-0.54095094],\n       [-0.32210672],\n       [-0.21268461],\n       [-0.43152883],\n       [-0.43152883],\n       [-0.43152883],\n       [-0.54095094],\n       [-0.54095094],\n       [-0.43152883],\n       [ 0.0061596 ],\n       [ 0.22500382],\n       [ 0.27971488],\n       [ 0.44384804],\n       [ 0.77211436],\n       [ 0.49855909],\n       [ 0.44384804],\n       [ 1.24262943],\n       [ 1.28639827],\n       [ 0.81588321],\n       [ 0.04992845],\n       [ 0.1046395 ],\n       [-0.21268461],\n       [-0.1032625 ],\n       [-0.1032625 ],\n       [ 0.0061596 ],\n       [ 0.77211436],\n       [ 0.99095858],\n       [ 1.2098028 ],\n       [ 1.31922491],\n       [ 1.04566964],\n       [ 1.04566964],\n       [ 1.86633545],\n       [ 1.86633545],\n       [ 1.31922491],\n       [ 1.31922491],\n       [ 1.31922491],\n       [ 1.31922491],\n       [ 0.88153647],\n       [ 1.31922491],\n       [ 0.27971488],\n       [-0.04855145],\n       [-0.04855145],\n       [ 0.11558171],\n       [ 0.11558171],\n       [ 0.11558171],\n       [ 0.22500382],\n       [ 1.10038069],\n       [ 0.99095858],\n       [ 1.64749123],\n       [ 1.75691334],\n       [ 1.97575756],\n       [ 2.19460177],\n       [ 1.31922491],\n       [ 2.41344599],\n       [ 2.68700126],\n       [ 1.86633545],\n       [ 1.86633545],\n       [ 1.86633545],\n       [ 1.86633545],\n       [ 1.31922491],\n       [ 1.86633545],\n       [ 1.97575756],\n       [-1.3069057 ],\n       [-1.3069057 ],\n       [-1.3069057 ],\n       [-1.08806148],\n       [-1.19748359],\n       [-1.63517202],\n       [-1.63517202],\n       [-1.63517202],\n       [-0.86921726],\n       [-0.75979516],\n       [ 0.22500382],\n       [ 0.44384804],\n       [ 0.22500382],\n       [ 0.22500382],\n       [-0.43152883],\n       [-0.43152883],\n       [-0.86921726],\n       [-0.86921726],\n       [-1.96343835],\n       [-1.96343835],\n       [-1.68988308],\n       [-1.68988308],\n       [-1.96343835],\n       [-1.68988308],\n       [-1.08806148],\n       [-1.08806148],\n       [-1.85401624],\n       [-1.74459413],\n       [-0.65037305],\n       [-0.54095094],\n       [-1.19748359],\n       [-1.19748359],\n       [-1.41632781],\n       [-1.41632781],\n       [-1.3069057 ],\n       [-1.3069057 ],\n       [-1.41632781],\n       [-1.41632781],\n       [-1.41632781],\n       [-0.75979516],\n       [-0.75979516],\n       [-1.19748359],\n       [-1.96343835],\n       [-1.96343835],\n       [-1.3069057 ],\n       [-1.74459413],\n       [-1.74459413],\n       [-1.74459413],\n       [-1.74459413],\n       [-1.74459413],\n       [-1.74459413],\n       [-1.74459413],\n       [-1.74459413],\n       [-1.52574992],\n       [-1.52574992],\n       [-1.47103886],\n       [-1.08806148],\n       [-1.08806148],\n       [-0.97863937],\n       [-0.97863937],\n       [-1.08806148],\n       [-1.14277254],\n       [-0.86921726],\n       [-1.14277254],\n       [-1.14277254],\n       [-1.14277254],\n       [-0.32210672],\n       [-0.32210672],\n       [-0.32210672],\n       [-0.97863937],\n       [-0.97863937],\n       [-0.65037305],\n       [-0.65037305],\n       [-0.65037305],\n       [-1.3069057 ],\n       [-1.3069057 ],\n       [-1.3069057 ],\n       [-0.65037305],\n       [-0.65037305],\n       [-1.96343835],\n       [-1.99626498],\n       [-1.08806148],\n       [-0.43152883],\n       [-0.43152883],\n       [-0.21268461],\n       [-0.1032625 ],\n       [-0.21268461],\n       [-0.1032625 ],\n       [ 0.0061596 ],\n       [ 0.33442593],\n       [-0.32210672],\n       [-0.32210672],\n       [ 0.22500382],\n       [ 0.22500382],\n       [-0.04855145],\n       [-0.04855145],\n       [-0.32210672],\n       [-0.32210672],\n       [-1.19748359],\n       [-1.19748359],\n       [-1.19748359],\n       [-1.96343835],\n       [-1.96343835],\n       [-1.96343835],\n       [-1.41632781],\n       [-0.86921726],\n       [-1.14277254],\n       [-1.14277254],\n       [-0.86921726],\n       [-0.32210672],\n       [-0.04855145],\n       [-0.04855145],\n       [-0.21268461],\n       [-0.1032625 ],\n       [ 0.11558171],\n       [ 0.33442593],\n       [ 0.66269226],\n       [ 0.55327015],\n       [ 0.33442593],\n       [ 0.11558171],\n       [-0.23456903],\n       [-0.37681778],\n       [-1.43821223],\n       [-2.23699362],\n       [-2.24793583],\n       [-1.19748359],\n       [-0.65037305],\n       [-0.48623988],\n       [-0.43152883],\n       [-0.15797356],\n       [-0.21268461],\n       [-0.32210672],\n       [-0.32210672],\n       [-0.32210672],\n       [-0.32210672],\n       [ 0.22500382],\n       [ 0.22500382],\n       [ 0.22500382],\n       [ 0.22500382],\n       [ 0.22500382],\n       [ 0.22500382],\n       [-0.6066042 ],\n       [-0.47529767],\n       [-0.3002223 ],\n       [-0.05949366],\n       [ 0.58609678],\n       [ 0.71740331],\n       [ 0.87059426],\n       [ 0.90342089],\n       [ 0.66269226],\n       [ 0.66269226],\n       [ 0.99095858],\n       [ 0.77211436],\n       [ 0.77211436],\n       [-0.32210672],\n       [-0.32210672],\n       [-0.32210672],\n       [ 0.22500382],\n       [ 0.22500382],\n       [-0.86921726],\n       [-0.86921726],\n       [-0.86921726],\n       [-1.41632781],\n       [-1.41632781],\n       [-1.41632781],\n       [-0.75979516],\n       [-0.7050841 ],\n       [-0.7050841 ],\n       [-0.43152883],\n       [-0.32210672],\n       [-0.1032625 ],\n       [-0.1032625 ],\n       [-0.15797356],\n       [ 0.0061596 ],\n       [ 0.52044351],\n       [ 0.57515457],\n       [ 0.68457668],\n       [ 0.92530532],\n       [ 1.24262943],\n       [ 0.90342089],\n       [ 0.77211436],\n       [ 0.77211436],\n       [ 0.77211436],\n       [-1.41632781],\n       [-1.41632781],\n       [-1.41632781],\n       [-1.19748359],\n       [-1.19748359],\n       [-1.19748359],\n       [-1.19748359],\n       [-0.86921726],\n       [-0.86921726],\n       [-0.32210672],\n       [-0.32210672],\n       [ 0.33442593],\n       [ 0.44384804],\n       [ 0.66269226],\n       [ 0.99095858],\n       [ 1.2098028 ],\n       [ 1.31922491],\n       [ 1.2098028 ],\n       [ 0.99095858],\n       [ 0.96907416],\n       [ 0.83776763],\n       [-1.31784791],\n       [-1.07711927],\n       [ 0.33442593],\n       [ 0.33442593],\n       [ 0.22500382],\n       [ 0.11558171],\n       [ 0.88153647],\n       [ 1.31922491],\n       [ 1.42864701],\n       [ 1.42864701],\n       [ 1.31922491],\n       [ 1.31922491],\n       [ 1.31922491],\n       [ 0.99095858],\n       [ 0.99095858],\n       [ 0.99095858],\n       [ 0.99095858],\n       [ 1.04566964],\n       [ 1.31922491],\n       [ 0.66269226],\n       [-0.54095094],\n       [-0.1032625 ],\n       [-0.21268461],\n       [-0.1032625 ],\n       [ 0.22500382],\n       [ 0.55327015],\n       [ 0.99095858],\n       [ 1.10038069],\n       [ 1.31922491],\n       [ 1.31922491],\n       [ 1.42864701],\n       [ 1.64749123],\n       [ 1.53806912],\n       [ 1.75691334],\n       [ 1.53806912],\n       [ 1.53806912],\n       [ 1.53806912],\n       [ 1.42864701],\n       [ 1.10038069],\n       [ 0.55327015],\n       [ 0.55327015]])"
     },
     "execution_count": 10,
     "metadata": {},
     "output_type": "execute_result"
    }
   ],
   "source": [
    "y"
   ],
   "metadata": {
    "collapsed": false,
    "ExecuteTime": {
     "end_time": "2023-12-30T18:03:38.903827100Z",
     "start_time": "2023-12-30T18:03:38.783493Z"
    }
   }
  }
 ],
 "metadata": {
  "kernelspec": {
   "display_name": "Python 3",
   "language": "python",
   "name": "python3"
  },
  "language_info": {
   "codemirror_mode": {
    "name": "ipython",
    "version": 2
   },
   "file_extension": ".py",
   "mimetype": "text/x-python",
   "name": "python",
   "nbconvert_exporter": "python",
   "pygments_lexer": "ipython2",
   "version": "2.7.6"
  }
 },
 "nbformat": 4,
 "nbformat_minor": 0
}
