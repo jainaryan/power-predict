{
 "cells": [
  {
   "cell_type": "code",
   "execution_count": null,
   "metadata": {
    "collapsed": true,
    "ExecuteTime": {
     "start_time": "2023-10-24T09:57:12.455593200Z"
    }
   },
   "outputs": [],
   "source": [
    "import pandas as pd\n",
    "import pytz\n",
    "import numpy as np\n",
    "import os\n",
    "from sklearn import preprocessing\n",
    "import re\n",
    "import matplotlib\n",
    "from matplotlib.patches import Polygon, Rectangle\n",
    "matplotlib.use('Qt5Agg')\n",
    "from datetime import timedelta\n",
    "import matplotlib.pyplot as plt\n",
    "from IPython.core.interactiveshell import InteractiveShell\n",
    "InteractiveShell.ast_node_interactivity = \"all\"\n",
    "from casadi import *\n",
    "import calendar\n",
    "import casadi as cd\n",
    "from sklearn.linear_model import LinearRegression"
   ]
  },
  {
   "cell_type": "markdown",
   "source": [
    "Reading the bill data and the power data"
   ],
   "metadata": {
    "collapsed": false
   }
  },
  {
   "cell_type": "code",
   "execution_count": null,
   "outputs": [
    {
     "name": "stderr",
     "output_type": "stream",
     "text": [
      "C:\\Users\\jaina\\AppData\\Local\\Temp\\ipykernel_29644\\1131752821.py:21: FutureWarning: The argument 'date_parser' is deprecated and will be removed in a future version. Please use 'date_format' instead, or read your data in as 'object' dtype and then call 'to_datetime'.\n",
      "  df = pd.read_excel(file_path, header=3, date_parser=custom_date_parser)\n",
      "C:\\Users\\jaina\\AppData\\Local\\Temp\\ipykernel_29644\\1131752821.py:21: FutureWarning: The argument 'date_parser' is deprecated and will be removed in a future version. Please use 'date_format' instead, or read your data in as 'object' dtype and then call 'to_datetime'.\n",
      "  df = pd.read_excel(file_path, header=3, date_parser=custom_date_parser)\n",
      "C:\\Users\\jaina\\AppData\\Local\\Temp\\ipykernel_29644\\1131752821.py:21: FutureWarning: The argument 'date_parser' is deprecated and will be removed in a future version. Please use 'date_format' instead, or read your data in as 'object' dtype and then call 'to_datetime'.\n",
      "  df = pd.read_excel(file_path, header=3, date_parser=custom_date_parser)\n",
      "C:\\Users\\jaina\\AppData\\Local\\Temp\\ipykernel_29644\\1131752821.py:21: FutureWarning: The argument 'date_parser' is deprecated and will be removed in a future version. Please use 'date_format' instead, or read your data in as 'object' dtype and then call 'to_datetime'.\n",
      "  df = pd.read_excel(file_path, header=3, date_parser=custom_date_parser)\n",
      "C:\\Users\\jaina\\AppData\\Local\\Temp\\ipykernel_29644\\1131752821.py:21: FutureWarning: The argument 'date_parser' is deprecated and will be removed in a future version. Please use 'date_format' instead, or read your data in as 'object' dtype and then call 'to_datetime'.\n",
      "  df = pd.read_excel(file_path, header=3, date_parser=custom_date_parser)\n",
      "C:\\Users\\jaina\\AppData\\Local\\Temp\\ipykernel_29644\\1131752821.py:21: FutureWarning: The argument 'date_parser' is deprecated and will be removed in a future version. Please use 'date_format' instead, or read your data in as 'object' dtype and then call 'to_datetime'.\n",
      "  df = pd.read_excel(file_path, header=3, date_parser=custom_date_parser)\n",
      "C:\\Users\\jaina\\AppData\\Local\\Temp\\ipykernel_29644\\1131752821.py:21: FutureWarning: The argument 'date_parser' is deprecated and will be removed in a future version. Please use 'date_format' instead, or read your data in as 'object' dtype and then call 'to_datetime'.\n",
      "  df = pd.read_excel(file_path, header=3, date_parser=custom_date_parser)\n",
      "C:\\Users\\jaina\\AppData\\Local\\Temp\\ipykernel_29644\\1131752821.py:21: FutureWarning: The argument 'date_parser' is deprecated and will be removed in a future version. Please use 'date_format' instead, or read your data in as 'object' dtype and then call 'to_datetime'.\n",
      "  df = pd.read_excel(file_path, header=3, date_parser=custom_date_parser)\n",
      "C:\\Users\\jaina\\AppData\\Local\\Temp\\ipykernel_29644\\1131752821.py:21: FutureWarning: The argument 'date_parser' is deprecated and will be removed in a future version. Please use 'date_format' instead, or read your data in as 'object' dtype and then call 'to_datetime'.\n",
      "  df = pd.read_excel(file_path, header=3, date_parser=custom_date_parser)\n",
      "C:\\Users\\jaina\\AppData\\Local\\Temp\\ipykernel_29644\\1131752821.py:21: FutureWarning: The argument 'date_parser' is deprecated and will be removed in a future version. Please use 'date_format' instead, or read your data in as 'object' dtype and then call 'to_datetime'.\n",
      "  df = pd.read_excel(file_path, header=3, date_parser=custom_date_parser)\n",
      "C:\\Users\\jaina\\AppData\\Local\\Temp\\ipykernel_29644\\1131752821.py:21: FutureWarning: The argument 'date_parser' is deprecated and will be removed in a future version. Please use 'date_format' instead, or read your data in as 'object' dtype and then call 'to_datetime'.\n",
      "  df = pd.read_excel(file_path, header=3, date_parser=custom_date_parser)\n",
      "C:\\Users\\jaina\\AppData\\Local\\Temp\\ipykernel_29644\\1131752821.py:21: FutureWarning: The argument 'date_parser' is deprecated and will be removed in a future version. Please use 'date_format' instead, or read your data in as 'object' dtype and then call 'to_datetime'.\n",
      "  df = pd.read_excel(file_path, header=3, date_parser=custom_date_parser)\n",
      "C:\\Users\\jaina\\AppData\\Local\\Temp\\ipykernel_29644\\1131752821.py:21: FutureWarning: The argument 'date_parser' is deprecated and will be removed in a future version. Please use 'date_format' instead, or read your data in as 'object' dtype and then call 'to_datetime'.\n",
      "  df = pd.read_excel(file_path, header=3, date_parser=custom_date_parser)\n",
      "C:\\Users\\jaina\\AppData\\Local\\Temp\\ipykernel_29644\\1131752821.py:21: FutureWarning: The argument 'date_parser' is deprecated and will be removed in a future version. Please use 'date_format' instead, or read your data in as 'object' dtype and then call 'to_datetime'.\n",
      "  df = pd.read_excel(file_path, header=3, date_parser=custom_date_parser)\n",
      "C:\\Users\\jaina\\AppData\\Local\\Temp\\ipykernel_29644\\1131752821.py:21: FutureWarning: The argument 'date_parser' is deprecated and will be removed in a future version. Please use 'date_format' instead, or read your data in as 'object' dtype and then call 'to_datetime'.\n",
      "  df = pd.read_excel(file_path, header=3, date_parser=custom_date_parser)\n",
      "C:\\Users\\jaina\\AppData\\Local\\Temp\\ipykernel_29644\\1131752821.py:21: FutureWarning: The argument 'date_parser' is deprecated and will be removed in a future version. Please use 'date_format' instead, or read your data in as 'object' dtype and then call 'to_datetime'.\n",
      "  df = pd.read_excel(file_path, header=3, date_parser=custom_date_parser)\n",
      "C:\\Users\\jaina\\AppData\\Local\\Temp\\ipykernel_29644\\1131752821.py:21: FutureWarning: The argument 'date_parser' is deprecated and will be removed in a future version. Please use 'date_format' instead, or read your data in as 'object' dtype and then call 'to_datetime'.\n",
      "  df = pd.read_excel(file_path, header=3, date_parser=custom_date_parser)\n",
      "C:\\Users\\jaina\\AppData\\Local\\Temp\\ipykernel_29644\\1131752821.py:21: FutureWarning: The argument 'date_parser' is deprecated and will be removed in a future version. Please use 'date_format' instead, or read your data in as 'object' dtype and then call 'to_datetime'.\n",
      "  df = pd.read_excel(file_path, header=3, date_parser=custom_date_parser)\n",
      "C:\\Users\\jaina\\AppData\\Local\\Temp\\ipykernel_29644\\1131752821.py:21: FutureWarning: The argument 'date_parser' is deprecated and will be removed in a future version. Please use 'date_format' instead, or read your data in as 'object' dtype and then call 'to_datetime'.\n",
      "  df = pd.read_excel(file_path, header=3, date_parser=custom_date_parser)\n",
      "C:\\Users\\jaina\\AppData\\Local\\Temp\\ipykernel_29644\\1131752821.py:21: FutureWarning: The argument 'date_parser' is deprecated and will be removed in a future version. Please use 'date_format' instead, or read your data in as 'object' dtype and then call 'to_datetime'.\n",
      "  df = pd.read_excel(file_path, header=3, date_parser=custom_date_parser)\n",
      "C:\\Users\\jaina\\AppData\\Local\\Temp\\ipykernel_29644\\1131752821.py:21: FutureWarning: The argument 'date_parser' is deprecated and will be removed in a future version. Please use 'date_format' instead, or read your data in as 'object' dtype and then call 'to_datetime'.\n",
      "  df = pd.read_excel(file_path, header=3, date_parser=custom_date_parser)\n",
      "C:\\Users\\jaina\\AppData\\Local\\Temp\\ipykernel_29644\\1131752821.py:21: FutureWarning: The argument 'date_parser' is deprecated and will be removed in a future version. Please use 'date_format' instead, or read your data in as 'object' dtype and then call 'to_datetime'.\n",
      "  df = pd.read_excel(file_path, header=3, date_parser=custom_date_parser)\n",
      "C:\\Users\\jaina\\AppData\\Local\\Temp\\ipykernel_29644\\1131752821.py:21: FutureWarning: The argument 'date_parser' is deprecated and will be removed in a future version. Please use 'date_format' instead, or read your data in as 'object' dtype and then call 'to_datetime'.\n",
      "  df = pd.read_excel(file_path, header=3, date_parser=custom_date_parser)\n",
      "C:\\Users\\jaina\\AppData\\Local\\Temp\\ipykernel_29644\\1131752821.py:21: FutureWarning: The argument 'date_parser' is deprecated and will be removed in a future version. Please use 'date_format' instead, or read your data in as 'object' dtype and then call 'to_datetime'.\n",
      "  df = pd.read_excel(file_path, header=3, date_parser=custom_date_parser)\n",
      "C:\\Users\\jaina\\AppData\\Local\\Temp\\ipykernel_29644\\1131752821.py:21: FutureWarning: The argument 'date_parser' is deprecated and will be removed in a future version. Please use 'date_format' instead, or read your data in as 'object' dtype and then call 'to_datetime'.\n",
      "  df = pd.read_excel(file_path, header=3, date_parser=custom_date_parser)\n",
      "C:\\Users\\jaina\\AppData\\Local\\Temp\\ipykernel_29644\\1131752821.py:21: FutureWarning: The argument 'date_parser' is deprecated and will be removed in a future version. Please use 'date_format' instead, or read your data in as 'object' dtype and then call 'to_datetime'.\n",
      "  df = pd.read_excel(file_path, header=3, date_parser=custom_date_parser)\n",
      "C:\\Users\\jaina\\AppData\\Local\\Temp\\ipykernel_29644\\1131752821.py:21: FutureWarning: The argument 'date_parser' is deprecated and will be removed in a future version. Please use 'date_format' instead, or read your data in as 'object' dtype and then call 'to_datetime'.\n",
      "  df = pd.read_excel(file_path, header=3, date_parser=custom_date_parser)\n",
      "C:\\Users\\jaina\\AppData\\Local\\Temp\\ipykernel_29644\\1131752821.py:21: FutureWarning: The argument 'date_parser' is deprecated and will be removed in a future version. Please use 'date_format' instead, or read your data in as 'object' dtype and then call 'to_datetime'.\n",
      "  df = pd.read_excel(file_path, header=3, date_parser=custom_date_parser)\n",
      "C:\\Users\\jaina\\AppData\\Local\\Temp\\ipykernel_29644\\1131752821.py:21: FutureWarning: The argument 'date_parser' is deprecated and will be removed in a future version. Please use 'date_format' instead, or read your data in as 'object' dtype and then call 'to_datetime'.\n",
      "  df = pd.read_excel(file_path, header=3, date_parser=custom_date_parser)\n",
      "C:\\Users\\jaina\\AppData\\Local\\Temp\\ipykernel_29644\\1131752821.py:21: FutureWarning: The argument 'date_parser' is deprecated and will be removed in a future version. Please use 'date_format' instead, or read your data in as 'object' dtype and then call 'to_datetime'.\n",
      "  df = pd.read_excel(file_path, header=3, date_parser=custom_date_parser)\n",
      "C:\\Users\\jaina\\AppData\\Local\\Temp\\ipykernel_29644\\1131752821.py:21: FutureWarning: The argument 'date_parser' is deprecated and will be removed in a future version. Please use 'date_format' instead, or read your data in as 'object' dtype and then call 'to_datetime'.\n",
      "  df = pd.read_excel(file_path, header=3, date_parser=custom_date_parser)\n",
      "C:\\Users\\jaina\\AppData\\Local\\Temp\\ipykernel_29644\\1131752821.py:21: FutureWarning: The argument 'date_parser' is deprecated and will be removed in a future version. Please use 'date_format' instead, or read your data in as 'object' dtype and then call 'to_datetime'.\n",
      "  df = pd.read_excel(file_path, header=3, date_parser=custom_date_parser)\n",
      "C:\\Users\\jaina\\AppData\\Local\\Temp\\ipykernel_29644\\1131752821.py:21: FutureWarning: The argument 'date_parser' is deprecated and will be removed in a future version. Please use 'date_format' instead, or read your data in as 'object' dtype and then call 'to_datetime'.\n",
      "  df = pd.read_excel(file_path, header=3, date_parser=custom_date_parser)\n",
      "C:\\Users\\jaina\\AppData\\Local\\Temp\\ipykernel_29644\\1131752821.py:21: FutureWarning: The argument 'date_parser' is deprecated and will be removed in a future version. Please use 'date_format' instead, or read your data in as 'object' dtype and then call 'to_datetime'.\n",
      "  df = pd.read_excel(file_path, header=3, date_parser=custom_date_parser)\n",
      "C:\\Users\\jaina\\AppData\\Local\\Temp\\ipykernel_29644\\1131752821.py:21: FutureWarning: The argument 'date_parser' is deprecated and will be removed in a future version. Please use 'date_format' instead, or read your data in as 'object' dtype and then call 'to_datetime'.\n",
      "  df = pd.read_excel(file_path, header=3, date_parser=custom_date_parser)\n",
      "C:\\Users\\jaina\\AppData\\Local\\Temp\\ipykernel_29644\\1131752821.py:21: FutureWarning: The argument 'date_parser' is deprecated and will be removed in a future version. Please use 'date_format' instead, or read your data in as 'object' dtype and then call 'to_datetime'.\n",
      "  df = pd.read_excel(file_path, header=3, date_parser=custom_date_parser)\n",
      "C:\\Users\\jaina\\AppData\\Local\\Temp\\ipykernel_29644\\1131752821.py:21: FutureWarning: The argument 'date_parser' is deprecated and will be removed in a future version. Please use 'date_format' instead, or read your data in as 'object' dtype and then call 'to_datetime'.\n",
      "  df = pd.read_excel(file_path, header=3, date_parser=custom_date_parser)\n",
      "C:\\Users\\jaina\\AppData\\Local\\Temp\\ipykernel_29644\\1131752821.py:21: FutureWarning: The argument 'date_parser' is deprecated and will be removed in a future version. Please use 'date_format' instead, or read your data in as 'object' dtype and then call 'to_datetime'.\n",
      "  df = pd.read_excel(file_path, header=3, date_parser=custom_date_parser)\n",
      "C:\\Users\\jaina\\AppData\\Local\\Temp\\ipykernel_29644\\1131752821.py:21: FutureWarning: The argument 'date_parser' is deprecated and will be removed in a future version. Please use 'date_format' instead, or read your data in as 'object' dtype and then call 'to_datetime'.\n",
      "  df = pd.read_excel(file_path, header=3, date_parser=custom_date_parser)\n",
      "C:\\Users\\jaina\\AppData\\Local\\Temp\\ipykernel_29644\\1131752821.py:21: FutureWarning: The argument 'date_parser' is deprecated and will be removed in a future version. Please use 'date_format' instead, or read your data in as 'object' dtype and then call 'to_datetime'.\n",
      "  df = pd.read_excel(file_path, header=3, date_parser=custom_date_parser)\n",
      "C:\\Users\\jaina\\AppData\\Local\\Temp\\ipykernel_29644\\1131752821.py:21: FutureWarning: The argument 'date_parser' is deprecated and will be removed in a future version. Please use 'date_format' instead, or read your data in as 'object' dtype and then call 'to_datetime'.\n",
      "  df = pd.read_excel(file_path, header=3, date_parser=custom_date_parser)\n",
      "C:\\Users\\jaina\\AppData\\Local\\Temp\\ipykernel_29644\\1131752821.py:21: FutureWarning: The argument 'date_parser' is deprecated and will be removed in a future version. Please use 'date_format' instead, or read your data in as 'object' dtype and then call 'to_datetime'.\n",
      "  df = pd.read_excel(file_path, header=3, date_parser=custom_date_parser)\n",
      "C:\\Users\\jaina\\AppData\\Local\\Temp\\ipykernel_29644\\1131752821.py:21: FutureWarning: The argument 'date_parser' is deprecated and will be removed in a future version. Please use 'date_format' instead, or read your data in as 'object' dtype and then call 'to_datetime'.\n",
      "  df = pd.read_excel(file_path, header=3, date_parser=custom_date_parser)\n",
      "C:\\Users\\jaina\\AppData\\Local\\Temp\\ipykernel_29644\\1131752821.py:21: FutureWarning: The argument 'date_parser' is deprecated and will be removed in a future version. Please use 'date_format' instead, or read your data in as 'object' dtype and then call 'to_datetime'.\n",
      "  df = pd.read_excel(file_path, header=3, date_parser=custom_date_parser)\n",
      "C:\\Users\\jaina\\AppData\\Local\\Temp\\ipykernel_29644\\1131752821.py:21: FutureWarning: The argument 'date_parser' is deprecated and will be removed in a future version. Please use 'date_format' instead, or read your data in as 'object' dtype and then call 'to_datetime'.\n",
      "  df = pd.read_excel(file_path, header=3, date_parser=custom_date_parser)\n",
      "C:\\Users\\jaina\\AppData\\Local\\Temp\\ipykernel_29644\\1131752821.py:21: FutureWarning: The argument 'date_parser' is deprecated and will be removed in a future version. Please use 'date_format' instead, or read your data in as 'object' dtype and then call 'to_datetime'.\n",
      "  df = pd.read_excel(file_path, header=3, date_parser=custom_date_parser)\n",
      "C:\\Users\\jaina\\AppData\\Local\\Temp\\ipykernel_29644\\1131752821.py:21: FutureWarning: The argument 'date_parser' is deprecated and will be removed in a future version. Please use 'date_format' instead, or read your data in as 'object' dtype and then call 'to_datetime'.\n",
      "  df = pd.read_excel(file_path, header=3, date_parser=custom_date_parser)\n",
      "C:\\Users\\jaina\\AppData\\Local\\Temp\\ipykernel_29644\\1131752821.py:21: FutureWarning: The argument 'date_parser' is deprecated and will be removed in a future version. Please use 'date_format' instead, or read your data in as 'object' dtype and then call 'to_datetime'.\n",
      "  df = pd.read_excel(file_path, header=3, date_parser=custom_date_parser)\n",
      "C:\\Users\\jaina\\AppData\\Local\\Temp\\ipykernel_29644\\1131752821.py:21: FutureWarning: The argument 'date_parser' is deprecated and will be removed in a future version. Please use 'date_format' instead, or read your data in as 'object' dtype and then call 'to_datetime'.\n",
      "  df = pd.read_excel(file_path, header=3, date_parser=custom_date_parser)\n",
      "C:\\Users\\jaina\\AppData\\Local\\Temp\\ipykernel_29644\\1131752821.py:21: FutureWarning: The argument 'date_parser' is deprecated and will be removed in a future version. Please use 'date_format' instead, or read your data in as 'object' dtype and then call 'to_datetime'.\n",
      "  df = pd.read_excel(file_path, header=3, date_parser=custom_date_parser)\n",
      "C:\\Users\\jaina\\AppData\\Local\\Temp\\ipykernel_29644\\1131752821.py:21: FutureWarning: The argument 'date_parser' is deprecated and will be removed in a future version. Please use 'date_format' instead, or read your data in as 'object' dtype and then call 'to_datetime'.\n",
      "  df = pd.read_excel(file_path, header=3, date_parser=custom_date_parser)\n",
      "C:\\Users\\jaina\\AppData\\Local\\Temp\\ipykernel_29644\\1131752821.py:21: FutureWarning: The argument 'date_parser' is deprecated and will be removed in a future version. Please use 'date_format' instead, or read your data in as 'object' dtype and then call 'to_datetime'.\n",
      "  df = pd.read_excel(file_path, header=3, date_parser=custom_date_parser)\n",
      "C:\\Users\\jaina\\AppData\\Local\\Temp\\ipykernel_29644\\1131752821.py:21: FutureWarning: The argument 'date_parser' is deprecated and will be removed in a future version. Please use 'date_format' instead, or read your data in as 'object' dtype and then call 'to_datetime'.\n",
      "  df = pd.read_excel(file_path, header=3, date_parser=custom_date_parser)\n",
      "C:\\Users\\jaina\\AppData\\Local\\Temp\\ipykernel_29644\\1131752821.py:21: FutureWarning: The argument 'date_parser' is deprecated and will be removed in a future version. Please use 'date_format' instead, or read your data in as 'object' dtype and then call 'to_datetime'.\n",
      "  df = pd.read_excel(file_path, header=3, date_parser=custom_date_parser)\n",
      "C:\\Users\\jaina\\AppData\\Local\\Temp\\ipykernel_29644\\1131752821.py:21: FutureWarning: The argument 'date_parser' is deprecated and will be removed in a future version. Please use 'date_format' instead, or read your data in as 'object' dtype and then call 'to_datetime'.\n",
      "  df = pd.read_excel(file_path, header=3, date_parser=custom_date_parser)\n",
      "C:\\Users\\jaina\\AppData\\Local\\Temp\\ipykernel_29644\\1131752821.py:21: FutureWarning: The argument 'date_parser' is deprecated and will be removed in a future version. Please use 'date_format' instead, or read your data in as 'object' dtype and then call 'to_datetime'.\n",
      "  df = pd.read_excel(file_path, header=3, date_parser=custom_date_parser)\n",
      "C:\\Users\\jaina\\AppData\\Local\\Temp\\ipykernel_29644\\1131752821.py:21: FutureWarning: The argument 'date_parser' is deprecated and will be removed in a future version. Please use 'date_format' instead, or read your data in as 'object' dtype and then call 'to_datetime'.\n",
      "  df = pd.read_excel(file_path, header=3, date_parser=custom_date_parser)\n",
      "C:\\Users\\jaina\\AppData\\Local\\Temp\\ipykernel_29644\\1131752821.py:21: FutureWarning: The argument 'date_parser' is deprecated and will be removed in a future version. Please use 'date_format' instead, or read your data in as 'object' dtype and then call 'to_datetime'.\n",
      "  df = pd.read_excel(file_path, header=3, date_parser=custom_date_parser)\n",
      "C:\\Users\\jaina\\AppData\\Local\\Temp\\ipykernel_29644\\1131752821.py:21: FutureWarning: The argument 'date_parser' is deprecated and will be removed in a future version. Please use 'date_format' instead, or read your data in as 'object' dtype and then call 'to_datetime'.\n",
      "  df = pd.read_excel(file_path, header=3, date_parser=custom_date_parser)\n",
      "C:\\Users\\jaina\\AppData\\Local\\Temp\\ipykernel_29644\\1131752821.py:21: FutureWarning: The argument 'date_parser' is deprecated and will be removed in a future version. Please use 'date_format' instead, or read your data in as 'object' dtype and then call 'to_datetime'.\n",
      "  df = pd.read_excel(file_path, header=3, date_parser=custom_date_parser)\n",
      "C:\\Users\\jaina\\AppData\\Local\\Temp\\ipykernel_29644\\1131752821.py:21: FutureWarning: The argument 'date_parser' is deprecated and will be removed in a future version. Please use 'date_format' instead, or read your data in as 'object' dtype and then call 'to_datetime'.\n",
      "  df = pd.read_excel(file_path, header=3, date_parser=custom_date_parser)\n",
      "C:\\Users\\jaina\\AppData\\Local\\Temp\\ipykernel_29644\\1131752821.py:21: FutureWarning: The argument 'date_parser' is deprecated and will be removed in a future version. Please use 'date_format' instead, or read your data in as 'object' dtype and then call 'to_datetime'.\n",
      "  df = pd.read_excel(file_path, header=3, date_parser=custom_date_parser)\n",
      "C:\\Users\\jaina\\AppData\\Local\\Temp\\ipykernel_29644\\1131752821.py:21: FutureWarning: The argument 'date_parser' is deprecated and will be removed in a future version. Please use 'date_format' instead, or read your data in as 'object' dtype and then call 'to_datetime'.\n",
      "  df = pd.read_excel(file_path, header=3, date_parser=custom_date_parser)\n",
      "C:\\Users\\jaina\\AppData\\Local\\Temp\\ipykernel_29644\\1131752821.py:21: FutureWarning: The argument 'date_parser' is deprecated and will be removed in a future version. Please use 'date_format' instead, or read your data in as 'object' dtype and then call 'to_datetime'.\n",
      "  df = pd.read_excel(file_path, header=3, date_parser=custom_date_parser)\n",
      "C:\\Users\\jaina\\AppData\\Local\\Temp\\ipykernel_29644\\1131752821.py:21: FutureWarning: The argument 'date_parser' is deprecated and will be removed in a future version. Please use 'date_format' instead, or read your data in as 'object' dtype and then call 'to_datetime'.\n",
      "  df = pd.read_excel(file_path, header=3, date_parser=custom_date_parser)\n",
      "C:\\Users\\jaina\\AppData\\Local\\Temp\\ipykernel_29644\\1131752821.py:21: FutureWarning: The argument 'date_parser' is deprecated and will be removed in a future version. Please use 'date_format' instead, or read your data in as 'object' dtype and then call 'to_datetime'.\n",
      "  df = pd.read_excel(file_path, header=3, date_parser=custom_date_parser)\n",
      "C:\\Users\\jaina\\AppData\\Local\\Temp\\ipykernel_29644\\1131752821.py:21: FutureWarning: The argument 'date_parser' is deprecated and will be removed in a future version. Please use 'date_format' instead, or read your data in as 'object' dtype and then call 'to_datetime'.\n",
      "  df = pd.read_excel(file_path, header=3, date_parser=custom_date_parser)\n",
      "C:\\Users\\jaina\\AppData\\Local\\Temp\\ipykernel_29644\\1131752821.py:21: FutureWarning: The argument 'date_parser' is deprecated and will be removed in a future version. Please use 'date_format' instead, or read your data in as 'object' dtype and then call 'to_datetime'.\n",
      "  df = pd.read_excel(file_path, header=3, date_parser=custom_date_parser)\n",
      "C:\\Users\\jaina\\AppData\\Local\\Temp\\ipykernel_29644\\1131752821.py:21: FutureWarning: The argument 'date_parser' is deprecated and will be removed in a future version. Please use 'date_format' instead, or read your data in as 'object' dtype and then call 'to_datetime'.\n",
      "  df = pd.read_excel(file_path, header=3, date_parser=custom_date_parser)\n",
      "C:\\Users\\jaina\\AppData\\Local\\Temp\\ipykernel_29644\\1131752821.py:21: FutureWarning: The argument 'date_parser' is deprecated and will be removed in a future version. Please use 'date_format' instead, or read your data in as 'object' dtype and then call 'to_datetime'.\n",
      "  df = pd.read_excel(file_path, header=3, date_parser=custom_date_parser)\n",
      "C:\\Users\\jaina\\AppData\\Local\\Temp\\ipykernel_29644\\1131752821.py:21: FutureWarning: The argument 'date_parser' is deprecated and will be removed in a future version. Please use 'date_format' instead, or read your data in as 'object' dtype and then call 'to_datetime'.\n",
      "  df = pd.read_excel(file_path, header=3, date_parser=custom_date_parser)\n",
      "C:\\Users\\jaina\\AppData\\Local\\Temp\\ipykernel_29644\\1131752821.py:21: FutureWarning: The argument 'date_parser' is deprecated and will be removed in a future version. Please use 'date_format' instead, or read your data in as 'object' dtype and then call 'to_datetime'.\n",
      "  df = pd.read_excel(file_path, header=3, date_parser=custom_date_parser)\n",
      "C:\\Users\\jaina\\AppData\\Local\\Temp\\ipykernel_29644\\1131752821.py:21: FutureWarning: The argument 'date_parser' is deprecated and will be removed in a future version. Please use 'date_format' instead, or read your data in as 'object' dtype and then call 'to_datetime'.\n",
      "  df = pd.read_excel(file_path, header=3, date_parser=custom_date_parser)\n",
      "C:\\Users\\jaina\\AppData\\Local\\Temp\\ipykernel_29644\\1131752821.py:21: FutureWarning: The argument 'date_parser' is deprecated and will be removed in a future version. Please use 'date_format' instead, or read your data in as 'object' dtype and then call 'to_datetime'.\n",
      "  df = pd.read_excel(file_path, header=3, date_parser=custom_date_parser)\n",
      "C:\\Users\\jaina\\AppData\\Local\\Temp\\ipykernel_29644\\1131752821.py:21: FutureWarning: The argument 'date_parser' is deprecated and will be removed in a future version. Please use 'date_format' instead, or read your data in as 'object' dtype and then call 'to_datetime'.\n",
      "  df = pd.read_excel(file_path, header=3, date_parser=custom_date_parser)\n",
      "C:\\Users\\jaina\\AppData\\Local\\Temp\\ipykernel_29644\\1131752821.py:21: FutureWarning: The argument 'date_parser' is deprecated and will be removed in a future version. Please use 'date_format' instead, or read your data in as 'object' dtype and then call 'to_datetime'.\n",
      "  df = pd.read_excel(file_path, header=3, date_parser=custom_date_parser)\n",
      "C:\\Users\\jaina\\AppData\\Local\\Temp\\ipykernel_29644\\1131752821.py:21: FutureWarning: The argument 'date_parser' is deprecated and will be removed in a future version. Please use 'date_format' instead, or read your data in as 'object' dtype and then call 'to_datetime'.\n",
      "  df = pd.read_excel(file_path, header=3, date_parser=custom_date_parser)\n",
      "C:\\Users\\jaina\\AppData\\Local\\Temp\\ipykernel_29644\\1131752821.py:21: FutureWarning: The argument 'date_parser' is deprecated and will be removed in a future version. Please use 'date_format' instead, or read your data in as 'object' dtype and then call 'to_datetime'.\n",
      "  df = pd.read_excel(file_path, header=3, date_parser=custom_date_parser)\n",
      "C:\\Users\\jaina\\AppData\\Local\\Temp\\ipykernel_29644\\1131752821.py:21: FutureWarning: The argument 'date_parser' is deprecated and will be removed in a future version. Please use 'date_format' instead, or read your data in as 'object' dtype and then call 'to_datetime'.\n",
      "  df = pd.read_excel(file_path, header=3, date_parser=custom_date_parser)\n",
      "C:\\Users\\jaina\\AppData\\Local\\Temp\\ipykernel_29644\\1131752821.py:21: FutureWarning: The argument 'date_parser' is deprecated and will be removed in a future version. Please use 'date_format' instead, or read your data in as 'object' dtype and then call 'to_datetime'.\n",
      "  df = pd.read_excel(file_path, header=3, date_parser=custom_date_parser)\n",
      "C:\\Users\\jaina\\AppData\\Local\\Temp\\ipykernel_29644\\1131752821.py:21: FutureWarning: The argument 'date_parser' is deprecated and will be removed in a future version. Please use 'date_format' instead, or read your data in as 'object' dtype and then call 'to_datetime'.\n",
      "  df = pd.read_excel(file_path, header=3, date_parser=custom_date_parser)\n",
      "C:\\Users\\jaina\\AppData\\Local\\Temp\\ipykernel_29644\\1131752821.py:21: FutureWarning: The argument 'date_parser' is deprecated and will be removed in a future version. Please use 'date_format' instead, or read your data in as 'object' dtype and then call 'to_datetime'.\n",
      "  df = pd.read_excel(file_path, header=3, date_parser=custom_date_parser)\n",
      "C:\\Users\\jaina\\AppData\\Local\\Temp\\ipykernel_29644\\1131752821.py:21: FutureWarning: The argument 'date_parser' is deprecated and will be removed in a future version. Please use 'date_format' instead, or read your data in as 'object' dtype and then call 'to_datetime'.\n",
      "  df = pd.read_excel(file_path, header=3, date_parser=custom_date_parser)\n",
      "C:\\Users\\jaina\\AppData\\Local\\Temp\\ipykernel_29644\\1131752821.py:21: FutureWarning: The argument 'date_parser' is deprecated and will be removed in a future version. Please use 'date_format' instead, or read your data in as 'object' dtype and then call 'to_datetime'.\n",
      "  df = pd.read_excel(file_path, header=3, date_parser=custom_date_parser)\n",
      "C:\\Users\\jaina\\AppData\\Local\\Temp\\ipykernel_29644\\1131752821.py:21: FutureWarning: The argument 'date_parser' is deprecated and will be removed in a future version. Please use 'date_format' instead, or read your data in as 'object' dtype and then call 'to_datetime'.\n",
      "  df = pd.read_excel(file_path, header=3, date_parser=custom_date_parser)\n",
      "C:\\Users\\jaina\\AppData\\Local\\Temp\\ipykernel_29644\\1131752821.py:21: FutureWarning: The argument 'date_parser' is deprecated and will be removed in a future version. Please use 'date_format' instead, or read your data in as 'object' dtype and then call 'to_datetime'.\n",
      "  df = pd.read_excel(file_path, header=3, date_parser=custom_date_parser)\n",
      "C:\\Users\\jaina\\AppData\\Local\\Temp\\ipykernel_29644\\1131752821.py:21: FutureWarning: The argument 'date_parser' is deprecated and will be removed in a future version. Please use 'date_format' instead, or read your data in as 'object' dtype and then call 'to_datetime'.\n",
      "  df = pd.read_excel(file_path, header=3, date_parser=custom_date_parser)\n",
      "C:\\Users\\jaina\\AppData\\Local\\Temp\\ipykernel_29644\\1131752821.py:21: FutureWarning: The argument 'date_parser' is deprecated and will be removed in a future version. Please use 'date_format' instead, or read your data in as 'object' dtype and then call 'to_datetime'.\n",
      "  df = pd.read_excel(file_path, header=3, date_parser=custom_date_parser)\n",
      "C:\\Users\\jaina\\AppData\\Local\\Temp\\ipykernel_29644\\1131752821.py:21: FutureWarning: The argument 'date_parser' is deprecated and will be removed in a future version. Please use 'date_format' instead, or read your data in as 'object' dtype and then call 'to_datetime'.\n",
      "  df = pd.read_excel(file_path, header=3, date_parser=custom_date_parser)\n",
      "C:\\Users\\jaina\\AppData\\Local\\Temp\\ipykernel_29644\\1131752821.py:21: FutureWarning: The argument 'date_parser' is deprecated and will be removed in a future version. Please use 'date_format' instead, or read your data in as 'object' dtype and then call 'to_datetime'.\n",
      "  df = pd.read_excel(file_path, header=3, date_parser=custom_date_parser)\n",
      "C:\\Users\\jaina\\AppData\\Local\\Temp\\ipykernel_29644\\1131752821.py:21: FutureWarning: The argument 'date_parser' is deprecated and will be removed in a future version. Please use 'date_format' instead, or read your data in as 'object' dtype and then call 'to_datetime'.\n",
      "  df = pd.read_excel(file_path, header=3, date_parser=custom_date_parser)\n",
      "C:\\Users\\jaina\\AppData\\Local\\Temp\\ipykernel_29644\\1131752821.py:21: FutureWarning: The argument 'date_parser' is deprecated and will be removed in a future version. Please use 'date_format' instead, or read your data in as 'object' dtype and then call 'to_datetime'.\n",
      "  df = pd.read_excel(file_path, header=3, date_parser=custom_date_parser)\n",
      "C:\\Users\\jaina\\AppData\\Local\\Temp\\ipykernel_29644\\1131752821.py:21: FutureWarning: The argument 'date_parser' is deprecated and will be removed in a future version. Please use 'date_format' instead, or read your data in as 'object' dtype and then call 'to_datetime'.\n",
      "  df = pd.read_excel(file_path, header=3, date_parser=custom_date_parser)\n",
      "C:\\Users\\jaina\\AppData\\Local\\Temp\\ipykernel_29644\\1131752821.py:21: FutureWarning: The argument 'date_parser' is deprecated and will be removed in a future version. Please use 'date_format' instead, or read your data in as 'object' dtype and then call 'to_datetime'.\n",
      "  df = pd.read_excel(file_path, header=3, date_parser=custom_date_parser)\n",
      "C:\\Users\\jaina\\AppData\\Local\\Temp\\ipykernel_29644\\1131752821.py:21: FutureWarning: The argument 'date_parser' is deprecated and will be removed in a future version. Please use 'date_format' instead, or read your data in as 'object' dtype and then call 'to_datetime'.\n",
      "  df = pd.read_excel(file_path, header=3, date_parser=custom_date_parser)\n",
      "C:\\Users\\jaina\\AppData\\Local\\Temp\\ipykernel_29644\\1131752821.py:21: FutureWarning: The argument 'date_parser' is deprecated and will be removed in a future version. Please use 'date_format' instead, or read your data in as 'object' dtype and then call 'to_datetime'.\n",
      "  df = pd.read_excel(file_path, header=3, date_parser=custom_date_parser)\n",
      "C:\\Users\\jaina\\AppData\\Local\\Temp\\ipykernel_29644\\1131752821.py:21: FutureWarning: The argument 'date_parser' is deprecated and will be removed in a future version. Please use 'date_format' instead, or read your data in as 'object' dtype and then call 'to_datetime'.\n",
      "  df = pd.read_excel(file_path, header=3, date_parser=custom_date_parser)\n",
      "C:\\Users\\jaina\\AppData\\Local\\Temp\\ipykernel_29644\\1131752821.py:21: FutureWarning: The argument 'date_parser' is deprecated and will be removed in a future version. Please use 'date_format' instead, or read your data in as 'object' dtype and then call 'to_datetime'.\n",
      "  df = pd.read_excel(file_path, header=3, date_parser=custom_date_parser)\n",
      "C:\\Users\\jaina\\AppData\\Local\\Temp\\ipykernel_29644\\1131752821.py:21: FutureWarning: The argument 'date_parser' is deprecated and will be removed in a future version. Please use 'date_format' instead, or read your data in as 'object' dtype and then call 'to_datetime'.\n",
      "  df = pd.read_excel(file_path, header=3, date_parser=custom_date_parser)\n",
      "C:\\Users\\jaina\\AppData\\Local\\Temp\\ipykernel_29644\\1131752821.py:21: FutureWarning: The argument 'date_parser' is deprecated and will be removed in a future version. Please use 'date_format' instead, or read your data in as 'object' dtype and then call 'to_datetime'.\n",
      "  df = pd.read_excel(file_path, header=3, date_parser=custom_date_parser)\n",
      "C:\\Users\\jaina\\AppData\\Local\\Temp\\ipykernel_29644\\1131752821.py:21: FutureWarning: The argument 'date_parser' is deprecated and will be removed in a future version. Please use 'date_format' instead, or read your data in as 'object' dtype and then call 'to_datetime'.\n",
      "  df = pd.read_excel(file_path, header=3, date_parser=custom_date_parser)\n",
      "C:\\Users\\jaina\\AppData\\Local\\Temp\\ipykernel_29644\\1131752821.py:21: FutureWarning: The argument 'date_parser' is deprecated and will be removed in a future version. Please use 'date_format' instead, or read your data in as 'object' dtype and then call 'to_datetime'.\n",
      "  df = pd.read_excel(file_path, header=3, date_parser=custom_date_parser)\n",
      "C:\\Users\\jaina\\AppData\\Local\\Temp\\ipykernel_29644\\1131752821.py:21: FutureWarning: The argument 'date_parser' is deprecated and will be removed in a future version. Please use 'date_format' instead, or read your data in as 'object' dtype and then call 'to_datetime'.\n",
      "  df = pd.read_excel(file_path, header=3, date_parser=custom_date_parser)\n",
      "C:\\Users\\jaina\\AppData\\Local\\Temp\\ipykernel_29644\\1131752821.py:21: FutureWarning: The argument 'date_parser' is deprecated and will be removed in a future version. Please use 'date_format' instead, or read your data in as 'object' dtype and then call 'to_datetime'.\n",
      "  df = pd.read_excel(file_path, header=3, date_parser=custom_date_parser)\n",
      "C:\\Users\\jaina\\AppData\\Local\\Temp\\ipykernel_29644\\1131752821.py:21: FutureWarning: The argument 'date_parser' is deprecated and will be removed in a future version. Please use 'date_format' instead, or read your data in as 'object' dtype and then call 'to_datetime'.\n",
      "  df = pd.read_excel(file_path, header=3, date_parser=custom_date_parser)\n",
      "C:\\Users\\jaina\\AppData\\Local\\Temp\\ipykernel_29644\\1131752821.py:21: FutureWarning: The argument 'date_parser' is deprecated and will be removed in a future version. Please use 'date_format' instead, or read your data in as 'object' dtype and then call 'to_datetime'.\n",
      "  df = pd.read_excel(file_path, header=3, date_parser=custom_date_parser)\n",
      "C:\\Users\\jaina\\AppData\\Local\\Temp\\ipykernel_29644\\1131752821.py:21: FutureWarning: The argument 'date_parser' is deprecated and will be removed in a future version. Please use 'date_format' instead, or read your data in as 'object' dtype and then call 'to_datetime'.\n",
      "  df = pd.read_excel(file_path, header=3, date_parser=custom_date_parser)\n",
      "C:\\Users\\jaina\\AppData\\Local\\Temp\\ipykernel_29644\\1131752821.py:21: FutureWarning: The argument 'date_parser' is deprecated and will be removed in a future version. Please use 'date_format' instead, or read your data in as 'object' dtype and then call 'to_datetime'.\n",
      "  df = pd.read_excel(file_path, header=3, date_parser=custom_date_parser)\n",
      "C:\\Users\\jaina\\AppData\\Local\\Temp\\ipykernel_29644\\1131752821.py:21: FutureWarning: The argument 'date_parser' is deprecated and will be removed in a future version. Please use 'date_format' instead, or read your data in as 'object' dtype and then call 'to_datetime'.\n",
      "  df = pd.read_excel(file_path, header=3, date_parser=custom_date_parser)\n",
      "C:\\Users\\jaina\\AppData\\Local\\Temp\\ipykernel_29644\\1131752821.py:21: FutureWarning: The argument 'date_parser' is deprecated and will be removed in a future version. Please use 'date_format' instead, or read your data in as 'object' dtype and then call 'to_datetime'.\n",
      "  df = pd.read_excel(file_path, header=3, date_parser=custom_date_parser)\n",
      "C:\\Users\\jaina\\AppData\\Local\\Temp\\ipykernel_29644\\1131752821.py:21: FutureWarning: The argument 'date_parser' is deprecated and will be removed in a future version. Please use 'date_format' instead, or read your data in as 'object' dtype and then call 'to_datetime'.\n",
      "  df = pd.read_excel(file_path, header=3, date_parser=custom_date_parser)\n",
      "C:\\Users\\jaina\\AppData\\Local\\Temp\\ipykernel_29644\\1131752821.py:21: FutureWarning: The argument 'date_parser' is deprecated and will be removed in a future version. Please use 'date_format' instead, or read your data in as 'object' dtype and then call 'to_datetime'.\n",
      "  df = pd.read_excel(file_path, header=3, date_parser=custom_date_parser)\n",
      "C:\\Users\\jaina\\AppData\\Local\\Temp\\ipykernel_29644\\1131752821.py:21: FutureWarning: The argument 'date_parser' is deprecated and will be removed in a future version. Please use 'date_format' instead, or read your data in as 'object' dtype and then call 'to_datetime'.\n",
      "  df = pd.read_excel(file_path, header=3, date_parser=custom_date_parser)\n"
     ]
    },
    {
     "data": {
      "text/plain": "        Month         MW\n0  2022-01-01  1415.4245\n1  2022-02-01  1353.4260\n2  2022-03-01  2254.4145\n3  2022-04-01  2269.1010\n4  2022-05-01  2690.4150\n5  2022-06-01  2708.4910\n6  2022-07-01  3113.6625\n7  2022-08-01  3606.0495\n8  2022-09-01  3335.3190\n9  2022-10-01  2787.5835\n10 2022-11-01  2230.0764\n11 2022-12-01  1809.5913\n12 2023-01-01  1859.8434\n13 2023-02-01  1829.5317\n14 2023-03-01  2238.3650\n15 2023-04-01  2615.2850\n16 2023-05-01        NaN\n17 2023-06-01  3112.0245\n18 2023-07-01  3376.0350\n19 2023-08-01  3896.1580",
      "text/html": "<div>\n<style scoped>\n    .dataframe tbody tr th:only-of-type {\n        vertical-align: middle;\n    }\n\n    .dataframe tbody tr th {\n        vertical-align: top;\n    }\n\n    .dataframe thead th {\n        text-align: right;\n    }\n</style>\n<table border=\"1\" class=\"dataframe\">\n  <thead>\n    <tr style=\"text-align: right;\">\n      <th></th>\n      <th>Month</th>\n      <th>MW</th>\n    </tr>\n  </thead>\n  <tbody>\n    <tr>\n      <th>0</th>\n      <td>2022-01-01</td>\n      <td>1415.4245</td>\n    </tr>\n    <tr>\n      <th>1</th>\n      <td>2022-02-01</td>\n      <td>1353.4260</td>\n    </tr>\n    <tr>\n      <th>2</th>\n      <td>2022-03-01</td>\n      <td>2254.4145</td>\n    </tr>\n    <tr>\n      <th>3</th>\n      <td>2022-04-01</td>\n      <td>2269.1010</td>\n    </tr>\n    <tr>\n      <th>4</th>\n      <td>2022-05-01</td>\n      <td>2690.4150</td>\n    </tr>\n    <tr>\n      <th>5</th>\n      <td>2022-06-01</td>\n      <td>2708.4910</td>\n    </tr>\n    <tr>\n      <th>6</th>\n      <td>2022-07-01</td>\n      <td>3113.6625</td>\n    </tr>\n    <tr>\n      <th>7</th>\n      <td>2022-08-01</td>\n      <td>3606.0495</td>\n    </tr>\n    <tr>\n      <th>8</th>\n      <td>2022-09-01</td>\n      <td>3335.3190</td>\n    </tr>\n    <tr>\n      <th>9</th>\n      <td>2022-10-01</td>\n      <td>2787.5835</td>\n    </tr>\n    <tr>\n      <th>10</th>\n      <td>2022-11-01</td>\n      <td>2230.0764</td>\n    </tr>\n    <tr>\n      <th>11</th>\n      <td>2022-12-01</td>\n      <td>1809.5913</td>\n    </tr>\n    <tr>\n      <th>12</th>\n      <td>2023-01-01</td>\n      <td>1859.8434</td>\n    </tr>\n    <tr>\n      <th>13</th>\n      <td>2023-02-01</td>\n      <td>1829.5317</td>\n    </tr>\n    <tr>\n      <th>14</th>\n      <td>2023-03-01</td>\n      <td>2238.3650</td>\n    </tr>\n    <tr>\n      <th>15</th>\n      <td>2023-04-01</td>\n      <td>2615.2850</td>\n    </tr>\n    <tr>\n      <th>16</th>\n      <td>2023-05-01</td>\n      <td>NaN</td>\n    </tr>\n    <tr>\n      <th>17</th>\n      <td>2023-06-01</td>\n      <td>3112.0245</td>\n    </tr>\n    <tr>\n      <th>18</th>\n      <td>2023-07-01</td>\n      <td>3376.0350</td>\n    </tr>\n    <tr>\n      <th>19</th>\n      <td>2023-08-01</td>\n      <td>3896.1580</td>\n    </tr>\n  </tbody>\n</table>\n</div>"
     },
     "execution_count": 2,
     "metadata": {},
     "output_type": "execute_result"
    },
    {
     "data": {
      "text/plain": "        Month  Number of units of electricity consumed         MW\n0  2022-01-01                                1415424.5  1415.4245\n1  2022-02-01                                1353426.0  1353.4260\n2  2022-03-01                                2254414.5  2254.4145\n3  2022-04-01                                2269101.0  2269.1010\n4  2022-05-01                                2690415.0  2690.4150\n5  2022-06-01                                2708491.0  2708.4910\n6  2022-07-01                                3113662.5  3113.6625\n7  2022-08-01                                3606049.5  3606.0495\n8  2022-09-01                                3335319.0  3335.3190\n9  2022-10-01                                2787583.5  2787.5835\n10 2022-11-01                                2230076.4  2230.0764\n11 2022-12-01                                1809591.3  1809.5913\n12 2023-01-01                                1859843.4  1859.8434\n13 2023-02-01                                1829531.7  1829.5317\n14 2023-03-01                                2238365.0  2238.3650\n15 2023-04-01                                2615285.0  2615.2850\n16 2023-05-01                                      NaN        NaN\n17 2023-06-01                                3112024.5  3112.0245\n18 2023-07-01                                3376035.0  3376.0350\n19 2023-08-01                                3896158.0  3896.1580",
      "text/html": "<div>\n<style scoped>\n    .dataframe tbody tr th:only-of-type {\n        vertical-align: middle;\n    }\n\n    .dataframe tbody tr th {\n        vertical-align: top;\n    }\n\n    .dataframe thead th {\n        text-align: right;\n    }\n</style>\n<table border=\"1\" class=\"dataframe\">\n  <thead>\n    <tr style=\"text-align: right;\">\n      <th></th>\n      <th>Month</th>\n      <th>Number of units of electricity consumed</th>\n      <th>MW</th>\n    </tr>\n  </thead>\n  <tbody>\n    <tr>\n      <th>0</th>\n      <td>2022-01-01</td>\n      <td>1415424.5</td>\n      <td>1415.4245</td>\n    </tr>\n    <tr>\n      <th>1</th>\n      <td>2022-02-01</td>\n      <td>1353426.0</td>\n      <td>1353.4260</td>\n    </tr>\n    <tr>\n      <th>2</th>\n      <td>2022-03-01</td>\n      <td>2254414.5</td>\n      <td>2254.4145</td>\n    </tr>\n    <tr>\n      <th>3</th>\n      <td>2022-04-01</td>\n      <td>2269101.0</td>\n      <td>2269.1010</td>\n    </tr>\n    <tr>\n      <th>4</th>\n      <td>2022-05-01</td>\n      <td>2690415.0</td>\n      <td>2690.4150</td>\n    </tr>\n    <tr>\n      <th>5</th>\n      <td>2022-06-01</td>\n      <td>2708491.0</td>\n      <td>2708.4910</td>\n    </tr>\n    <tr>\n      <th>6</th>\n      <td>2022-07-01</td>\n      <td>3113662.5</td>\n      <td>3113.6625</td>\n    </tr>\n    <tr>\n      <th>7</th>\n      <td>2022-08-01</td>\n      <td>3606049.5</td>\n      <td>3606.0495</td>\n    </tr>\n    <tr>\n      <th>8</th>\n      <td>2022-09-01</td>\n      <td>3335319.0</td>\n      <td>3335.3190</td>\n    </tr>\n    <tr>\n      <th>9</th>\n      <td>2022-10-01</td>\n      <td>2787583.5</td>\n      <td>2787.5835</td>\n    </tr>\n    <tr>\n      <th>10</th>\n      <td>2022-11-01</td>\n      <td>2230076.4</td>\n      <td>2230.0764</td>\n    </tr>\n    <tr>\n      <th>11</th>\n      <td>2022-12-01</td>\n      <td>1809591.3</td>\n      <td>1809.5913</td>\n    </tr>\n    <tr>\n      <th>12</th>\n      <td>2023-01-01</td>\n      <td>1859843.4</td>\n      <td>1859.8434</td>\n    </tr>\n    <tr>\n      <th>13</th>\n      <td>2023-02-01</td>\n      <td>1829531.7</td>\n      <td>1829.5317</td>\n    </tr>\n    <tr>\n      <th>14</th>\n      <td>2023-03-01</td>\n      <td>2238365.0</td>\n      <td>2238.3650</td>\n    </tr>\n    <tr>\n      <th>15</th>\n      <td>2023-04-01</td>\n      <td>2615285.0</td>\n      <td>2615.2850</td>\n    </tr>\n    <tr>\n      <th>16</th>\n      <td>2023-05-01</td>\n      <td>NaN</td>\n      <td>NaN</td>\n    </tr>\n    <tr>\n      <th>17</th>\n      <td>2023-06-01</td>\n      <td>3112024.5</td>\n      <td>3112.0245</td>\n    </tr>\n    <tr>\n      <th>18</th>\n      <td>2023-07-01</td>\n      <td>3376035.0</td>\n      <td>3376.0350</td>\n    </tr>\n    <tr>\n      <th>19</th>\n      <td>2023-08-01</td>\n      <td>3896158.0</td>\n      <td>3896.1580</td>\n    </tr>\n  </tbody>\n</table>\n</div>"
     },
     "execution_count": 2,
     "metadata": {},
     "output_type": "execute_result"
    }
   ],
   "source": [
    "def custom_date_parser(date_string):\n",
    "    return pd.to_datetime(date_string, format='%d-%m-%Y %H:%M:%S')\n",
    "\n",
    "# Specify the path to the main directory containing folders and files\n",
    "path = 'D:\\\\mlinternship\\\\iitgdata'\n",
    "folders = [folder for folder in os.listdir(path) if os.path.isdir(os.path.join(path, folder))]\n",
    "df_list = []\n",
    "\n",
    "# Iterate through each folder\n",
    "for folder in folders:\n",
    "    # Construct the full path to the current folder\n",
    "    folder_path = os.path.join(path, folder)\n",
    "    # Iterate through files in the current folder\n",
    "    for filename in os.listdir(folder_path):\n",
    "        # Check if the file has the '.xlsx' extension\n",
    "        if filename.endswith('.xlsx'):\n",
    "            # Construct the full path to the Excel file\n",
    "            file_path = os.path.join(folder_path, filename)\n",
    "\n",
    "            # Use the custom date parser function\n",
    "            df = pd.read_excel(file_path, header=3, date_parser=custom_date_parser)\n",
    "\n",
    "            # Append the dataframe to the list\n",
    "            df_list.append(df)\n",
    "\n",
    "\n",
    "bill_path = 'D:\\\\mlinternship\\\\IITGuwahatiElectricityBills'\n",
    "for filename in os.listdir(bill_path):\n",
    "    # Check if the file has the '.xlsx' extension\n",
    "    if filename.endswith('.xlsx'):\n",
    "        file_path = os.path.join(bill_path, filename)\n",
    "        # Use the custom date parser function\n",
    "        bill_df = pd.read_excel(file_path)\n",
    "\n",
    "bill_df['Month'] = pd.to_datetime(bill_df['Month'])\n",
    "#I assumed its in kilowatts\n",
    "bill_df['MW'] = bill_df['Number of units of electricity consumed']/1000\n",
    "bill_df.drop(['Number of units of electricity consumed'], axis=1)\n",
    "bill_df"
   ],
   "metadata": {
    "collapsed": false
   }
  },
  {
   "cell_type": "markdown",
   "source": [
    "Reading the temperature data and merging the power and temperature data"
   ],
   "metadata": {
    "collapsed": false
   }
  },
  {
   "cell_type": "code",
   "execution_count": null,
   "outputs": [
    {
     "data": {
      "text/plain": "                    Time    MW  temperature\n0    2022-02-07 00:00:00  2.18    12.000000\n1    2022-02-07 01:00:00  2.05    11.633781\n2    2022-02-07 02:00:00   NaN    11.703556\n3    2022-02-07 03:00:00  1.71    12.000000\n4    2022-02-07 04:00:00   NaN    12.000000\n...                  ...   ...          ...\n5753 2022-12-25 18:00:00   NaN    19.000000\n5754 2022-12-25 19:00:00  2.60    18.000000\n5755 2022-12-25 20:00:00   NaN    18.000000\n5756 2022-12-25 21:00:00  2.60    18.000000\n5757 2022-12-25 23:00:00  2.40    18.000000\n\n[5758 rows x 3 columns]",
      "text/html": "<div>\n<style scoped>\n    .dataframe tbody tr th:only-of-type {\n        vertical-align: middle;\n    }\n\n    .dataframe tbody tr th {\n        vertical-align: top;\n    }\n\n    .dataframe thead th {\n        text-align: right;\n    }\n</style>\n<table border=\"1\" class=\"dataframe\">\n  <thead>\n    <tr style=\"text-align: right;\">\n      <th></th>\n      <th>Time</th>\n      <th>MW</th>\n      <th>temperature</th>\n    </tr>\n  </thead>\n  <tbody>\n    <tr>\n      <th>0</th>\n      <td>2022-02-07 00:00:00</td>\n      <td>2.18</td>\n      <td>12.000000</td>\n    </tr>\n    <tr>\n      <th>1</th>\n      <td>2022-02-07 01:00:00</td>\n      <td>2.05</td>\n      <td>11.633781</td>\n    </tr>\n    <tr>\n      <th>2</th>\n      <td>2022-02-07 02:00:00</td>\n      <td>NaN</td>\n      <td>11.703556</td>\n    </tr>\n    <tr>\n      <th>3</th>\n      <td>2022-02-07 03:00:00</td>\n      <td>1.71</td>\n      <td>12.000000</td>\n    </tr>\n    <tr>\n      <th>4</th>\n      <td>2022-02-07 04:00:00</td>\n      <td>NaN</td>\n      <td>12.000000</td>\n    </tr>\n    <tr>\n      <th>...</th>\n      <td>...</td>\n      <td>...</td>\n      <td>...</td>\n    </tr>\n    <tr>\n      <th>5753</th>\n      <td>2022-12-25 18:00:00</td>\n      <td>NaN</td>\n      <td>19.000000</td>\n    </tr>\n    <tr>\n      <th>5754</th>\n      <td>2022-12-25 19:00:00</td>\n      <td>2.60</td>\n      <td>18.000000</td>\n    </tr>\n    <tr>\n      <th>5755</th>\n      <td>2022-12-25 20:00:00</td>\n      <td>NaN</td>\n      <td>18.000000</td>\n    </tr>\n    <tr>\n      <th>5756</th>\n      <td>2022-12-25 21:00:00</td>\n      <td>2.60</td>\n      <td>18.000000</td>\n    </tr>\n    <tr>\n      <th>5757</th>\n      <td>2022-12-25 23:00:00</td>\n      <td>2.40</td>\n      <td>18.000000</td>\n    </tr>\n  </tbody>\n</table>\n<p>5758 rows × 3 columns</p>\n</div>"
     },
     "execution_count": 3,
     "metadata": {},
     "output_type": "execute_result"
    },
    {
     "data": {
      "text/plain": "                    Time    MW  temperature\n160  2022-02-07 00:00:00  2.18    12.000000\n161  2022-02-07 01:00:00  2.05    11.633781\n162  2022-02-07 02:00:00   NaN    11.703556\n163  2022-02-07 03:00:00  1.71    12.000000\n164  2022-02-07 04:00:00   NaN    12.000000\n...                  ...   ...          ...\n5914 2022-12-25 18:00:00   NaN    19.000000\n5915 2022-12-25 19:00:00  2.60    18.000000\n5916 2022-12-25 20:00:00   NaN    18.000000\n5917 2022-12-25 21:00:00  2.60    18.000000\n5918 2022-12-25 23:00:00  2.40    18.000000\n\n[5758 rows x 3 columns]",
      "text/html": "<div>\n<style scoped>\n    .dataframe tbody tr th:only-of-type {\n        vertical-align: middle;\n    }\n\n    .dataframe tbody tr th {\n        vertical-align: top;\n    }\n\n    .dataframe thead th {\n        text-align: right;\n    }\n</style>\n<table border=\"1\" class=\"dataframe\">\n  <thead>\n    <tr style=\"text-align: right;\">\n      <th></th>\n      <th>Time</th>\n      <th>MW</th>\n      <th>temperature</th>\n    </tr>\n  </thead>\n  <tbody>\n    <tr>\n      <th>160</th>\n      <td>2022-02-07 00:00:00</td>\n      <td>2.18</td>\n      <td>12.000000</td>\n    </tr>\n    <tr>\n      <th>161</th>\n      <td>2022-02-07 01:00:00</td>\n      <td>2.05</td>\n      <td>11.633781</td>\n    </tr>\n    <tr>\n      <th>162</th>\n      <td>2022-02-07 02:00:00</td>\n      <td>NaN</td>\n      <td>11.703556</td>\n    </tr>\n    <tr>\n      <th>163</th>\n      <td>2022-02-07 03:00:00</td>\n      <td>1.71</td>\n      <td>12.000000</td>\n    </tr>\n    <tr>\n      <th>164</th>\n      <td>2022-02-07 04:00:00</td>\n      <td>NaN</td>\n      <td>12.000000</td>\n    </tr>\n    <tr>\n      <th>...</th>\n      <td>...</td>\n      <td>...</td>\n      <td>...</td>\n    </tr>\n    <tr>\n      <th>5914</th>\n      <td>2022-12-25 18:00:00</td>\n      <td>NaN</td>\n      <td>19.000000</td>\n    </tr>\n    <tr>\n      <th>5915</th>\n      <td>2022-12-25 19:00:00</td>\n      <td>2.60</td>\n      <td>18.000000</td>\n    </tr>\n    <tr>\n      <th>5916</th>\n      <td>2022-12-25 20:00:00</td>\n      <td>NaN</td>\n      <td>18.000000</td>\n    </tr>\n    <tr>\n      <th>5917</th>\n      <td>2022-12-25 21:00:00</td>\n      <td>2.60</td>\n      <td>18.000000</td>\n    </tr>\n    <tr>\n      <th>5918</th>\n      <td>2022-12-25 23:00:00</td>\n      <td>2.40</td>\n      <td>18.000000</td>\n    </tr>\n  </tbody>\n</table>\n<p>5758 rows × 3 columns</p>\n</div>"
     },
     "execution_count": 3,
     "metadata": {},
     "output_type": "execute_result"
    }
   ],
   "source": [
    "#read the power data\n",
    "power_df = pd.concat(df_list, ignore_index=True)\n",
    "power_df.to_csv('power_datacsv.csv')\n",
    "power_df['Time'] = pd.to_datetime(power_df['Time'])\n",
    "power_df['Time'] = power_df['Time'].round('min')\n",
    "#replace all the 'NR' values in MW column to NaN\n",
    "power_df['MW'] = power_df['MW'].replace('NR', np.nan)\n",
    "power_df['MW'] = power_df['MW'].replace('nr', np.nan)\n",
    "power_df = power_df[['Time', 'MW']]\n",
    "power_df['MW'] = power_df['MW'].astype(str)\n",
    "power_df['MW'] = pd.to_numeric(power_df['MW'].str.replace(',', '.'), errors='coerce')\n",
    "power_df['Time'] = pd.to_datetime(power_df['Time'])\n",
    "power_df = power_df.sort_values('Time')\n",
    "full_power_df = power_df.copy()\n",
    "\n",
    "# read the temperature data csv\n",
    "temperature_data_csv_path = 'D:\\\\mlinternship\\\\iitgdata\\\\temperaturedata'\n",
    "filename = 'guwahati_temperature_data.csv'\n",
    "file = os.path.join(temperature_data_csv_path, filename)\n",
    "temperature_df = pd.read_csv(file)\n",
    "temperature_df.rename(columns={'valid': 'Time'}, inplace = True)\n",
    "temperature_df = temperature_df.rename(columns={'tmpc': 'temperature'})\n",
    "temperature_df = temperature_df[['Time', 'temperature']]\n",
    "temperature_df['Time'] = pd.to_datetime(temperature_df['Time'])\n",
    "temperature_df['Time'] = pd.DatetimeIndex(temperature_df['Time']) + timedelta(hours=5,minutes=30)\n",
    "temperature_df['temperature'] = pd.to_numeric(temperature_df['temperature'], errors='coerce')\n",
    "temperature_df.set_index('Time', inplace=True)\n",
    "temperature_df['temperature'] = temperature_df['temperature'].interpolate(method='polynomial', order = 5)\n",
    "temperature_df.reset_index(inplace=True)\n",
    "\n",
    "# joining the two dataframes such that the temperature data is only taken if there exists a reading in the power data dataframe\n",
    "df = pd.merge(power_df, temperature_df, on='Time', how='left')\n",
    "df['temperature'] = df['temperature'].interpolate(method='polynomial', order = 5)\n",
    "df['Time'] = pd.to_datetime(df['Time'])\n",
    "\n",
    "full_model_start_time = pd.Timestamp('2022-02-07 00:00:00')\n",
    "full_model_end_time = pd.Timestamp('2022-12-25 23:00:00')\n",
    "df = df[(df['Time'] >= full_model_start_time) & (df['Time'] <= full_model_end_time)]\n",
    "df = df.drop(df[df['MW'] > 20].index)\n",
    "df = df.sort_values('Time')\n",
    "df.reset_index(drop=True)\n",
    "df"
   ],
   "metadata": {
    "collapsed": false,
    "ExecuteTime": {
     "end_time": "2023-10-24T09:56:30.946513800Z",
     "start_time": "2023-10-24T09:56:29.994182600Z"
    }
   }
  },
  {
   "cell_type": "markdown",
   "source": [
    "Creating the CDH and Omega columns"
   ],
   "metadata": {
    "collapsed": false
   }
  },
  {
   "cell_type": "code",
   "execution_count": null,
   "outputs": [
    {
     "data": {
      "text/plain": "                    Time    MW temperature  CDH omega1 omega2 omega3 omega4  \\\n0    2022-02-07 00:00:00  2.18        12.0  0.0    1.0    0.0    0.0    0.0   \n1    2022-02-07 01:00:00  2.05   11.633781  0.0    0.0    1.0    0.0    0.0   \n2    2022-02-07 03:00:00  1.71        12.0  0.0    0.0    0.0    0.0    1.0   \n3    2022-02-07 05:00:00   1.7        12.0  0.0    0.0    0.0    0.0    0.0   \n4    2022-02-07 14:00:00   2.5        22.0  0.0    0.0    0.0    0.0    0.0   \n...                  ...   ...         ...  ...    ...    ...    ...    ...   \n3813 2022-12-25 15:00:00   2.4        24.0  0.0    0.0    0.0    0.0    0.0   \n3814 2022-12-25 17:00:00   2.6        21.0  0.0    0.0    0.0    0.0    0.0   \n3815 2022-12-25 19:00:00   2.6        18.0  0.0    0.0    0.0    0.0    0.0   \n3816 2022-12-25 21:00:00   2.6        18.0  0.0    0.0    0.0    0.0    0.0   \n3817 2022-12-25 23:00:00   2.4        18.0  0.0    0.0    0.0    0.0    0.0   \n\n     omega5 omega6  ... omega159 omega160 omega161 omega162 omega163 omega164  \\\n0       0.0    0.0  ...      0.0      0.0      0.0      0.0      0.0      0.0   \n1       0.0    0.0  ...      0.0      0.0      0.0      0.0      0.0      0.0   \n2       0.0    0.0  ...      0.0      0.0      0.0      0.0      0.0      0.0   \n3       0.0    1.0  ...      0.0      0.0      0.0      0.0      0.0      0.0   \n4       0.0    0.0  ...      0.0      0.0      0.0      0.0      0.0      0.0   \n...     ...    ...  ...      ...      ...      ...      ...      ...      ...   \n3813    0.0    0.0  ...      0.0      1.0      0.0      0.0      0.0      0.0   \n3814    0.0    0.0  ...      0.0      0.0      0.0      1.0      0.0      0.0   \n3815    0.0    0.0  ...      0.0      0.0      0.0      0.0      0.0      1.0   \n3816    0.0    0.0  ...      0.0      0.0      0.0      0.0      0.0      0.0   \n3817    0.0    0.0  ...      0.0      0.0      0.0      0.0      0.0      0.0   \n\n     omega165 omega166 omega167 omega168  \n0         0.0      0.0      0.0      0.0  \n1         0.0      0.0      0.0      0.0  \n2         0.0      0.0      0.0      0.0  \n3         0.0      0.0      0.0      0.0  \n4         0.0      0.0      0.0      0.0  \n...       ...      ...      ...      ...  \n3813      0.0      0.0      0.0      0.0  \n3814      0.0      0.0      0.0      0.0  \n3815      0.0      0.0      0.0      0.0  \n3816      0.0      1.0      0.0      0.0  \n3817      0.0      0.0      0.0      1.0  \n\n[3818 rows x 172 columns]",
      "text/html": "<div>\n<style scoped>\n    .dataframe tbody tr th:only-of-type {\n        vertical-align: middle;\n    }\n\n    .dataframe tbody tr th {\n        vertical-align: top;\n    }\n\n    .dataframe thead th {\n        text-align: right;\n    }\n</style>\n<table border=\"1\" class=\"dataframe\">\n  <thead>\n    <tr style=\"text-align: right;\">\n      <th></th>\n      <th>Time</th>\n      <th>MW</th>\n      <th>temperature</th>\n      <th>CDH</th>\n      <th>omega1</th>\n      <th>omega2</th>\n      <th>omega3</th>\n      <th>omega4</th>\n      <th>omega5</th>\n      <th>omega6</th>\n      <th>...</th>\n      <th>omega159</th>\n      <th>omega160</th>\n      <th>omega161</th>\n      <th>omega162</th>\n      <th>omega163</th>\n      <th>omega164</th>\n      <th>omega165</th>\n      <th>omega166</th>\n      <th>omega167</th>\n      <th>omega168</th>\n    </tr>\n  </thead>\n  <tbody>\n    <tr>\n      <th>0</th>\n      <td>2022-02-07 00:00:00</td>\n      <td>2.18</td>\n      <td>12.0</td>\n      <td>0.0</td>\n      <td>1.0</td>\n      <td>0.0</td>\n      <td>0.0</td>\n      <td>0.0</td>\n      <td>0.0</td>\n      <td>0.0</td>\n      <td>...</td>\n      <td>0.0</td>\n      <td>0.0</td>\n      <td>0.0</td>\n      <td>0.0</td>\n      <td>0.0</td>\n      <td>0.0</td>\n      <td>0.0</td>\n      <td>0.0</td>\n      <td>0.0</td>\n      <td>0.0</td>\n    </tr>\n    <tr>\n      <th>1</th>\n      <td>2022-02-07 01:00:00</td>\n      <td>2.05</td>\n      <td>11.633781</td>\n      <td>0.0</td>\n      <td>0.0</td>\n      <td>1.0</td>\n      <td>0.0</td>\n      <td>0.0</td>\n      <td>0.0</td>\n      <td>0.0</td>\n      <td>...</td>\n      <td>0.0</td>\n      <td>0.0</td>\n      <td>0.0</td>\n      <td>0.0</td>\n      <td>0.0</td>\n      <td>0.0</td>\n      <td>0.0</td>\n      <td>0.0</td>\n      <td>0.0</td>\n      <td>0.0</td>\n    </tr>\n    <tr>\n      <th>2</th>\n      <td>2022-02-07 03:00:00</td>\n      <td>1.71</td>\n      <td>12.0</td>\n      <td>0.0</td>\n      <td>0.0</td>\n      <td>0.0</td>\n      <td>0.0</td>\n      <td>1.0</td>\n      <td>0.0</td>\n      <td>0.0</td>\n      <td>...</td>\n      <td>0.0</td>\n      <td>0.0</td>\n      <td>0.0</td>\n      <td>0.0</td>\n      <td>0.0</td>\n      <td>0.0</td>\n      <td>0.0</td>\n      <td>0.0</td>\n      <td>0.0</td>\n      <td>0.0</td>\n    </tr>\n    <tr>\n      <th>3</th>\n      <td>2022-02-07 05:00:00</td>\n      <td>1.7</td>\n      <td>12.0</td>\n      <td>0.0</td>\n      <td>0.0</td>\n      <td>0.0</td>\n      <td>0.0</td>\n      <td>0.0</td>\n      <td>0.0</td>\n      <td>1.0</td>\n      <td>...</td>\n      <td>0.0</td>\n      <td>0.0</td>\n      <td>0.0</td>\n      <td>0.0</td>\n      <td>0.0</td>\n      <td>0.0</td>\n      <td>0.0</td>\n      <td>0.0</td>\n      <td>0.0</td>\n      <td>0.0</td>\n    </tr>\n    <tr>\n      <th>4</th>\n      <td>2022-02-07 14:00:00</td>\n      <td>2.5</td>\n      <td>22.0</td>\n      <td>0.0</td>\n      <td>0.0</td>\n      <td>0.0</td>\n      <td>0.0</td>\n      <td>0.0</td>\n      <td>0.0</td>\n      <td>0.0</td>\n      <td>...</td>\n      <td>0.0</td>\n      <td>0.0</td>\n      <td>0.0</td>\n      <td>0.0</td>\n      <td>0.0</td>\n      <td>0.0</td>\n      <td>0.0</td>\n      <td>0.0</td>\n      <td>0.0</td>\n      <td>0.0</td>\n    </tr>\n    <tr>\n      <th>...</th>\n      <td>...</td>\n      <td>...</td>\n      <td>...</td>\n      <td>...</td>\n      <td>...</td>\n      <td>...</td>\n      <td>...</td>\n      <td>...</td>\n      <td>...</td>\n      <td>...</td>\n      <td>...</td>\n      <td>...</td>\n      <td>...</td>\n      <td>...</td>\n      <td>...</td>\n      <td>...</td>\n      <td>...</td>\n      <td>...</td>\n      <td>...</td>\n      <td>...</td>\n      <td>...</td>\n    </tr>\n    <tr>\n      <th>3813</th>\n      <td>2022-12-25 15:00:00</td>\n      <td>2.4</td>\n      <td>24.0</td>\n      <td>0.0</td>\n      <td>0.0</td>\n      <td>0.0</td>\n      <td>0.0</td>\n      <td>0.0</td>\n      <td>0.0</td>\n      <td>0.0</td>\n      <td>...</td>\n      <td>0.0</td>\n      <td>1.0</td>\n      <td>0.0</td>\n      <td>0.0</td>\n      <td>0.0</td>\n      <td>0.0</td>\n      <td>0.0</td>\n      <td>0.0</td>\n      <td>0.0</td>\n      <td>0.0</td>\n    </tr>\n    <tr>\n      <th>3814</th>\n      <td>2022-12-25 17:00:00</td>\n      <td>2.6</td>\n      <td>21.0</td>\n      <td>0.0</td>\n      <td>0.0</td>\n      <td>0.0</td>\n      <td>0.0</td>\n      <td>0.0</td>\n      <td>0.0</td>\n      <td>0.0</td>\n      <td>...</td>\n      <td>0.0</td>\n      <td>0.0</td>\n      <td>0.0</td>\n      <td>1.0</td>\n      <td>0.0</td>\n      <td>0.0</td>\n      <td>0.0</td>\n      <td>0.0</td>\n      <td>0.0</td>\n      <td>0.0</td>\n    </tr>\n    <tr>\n      <th>3815</th>\n      <td>2022-12-25 19:00:00</td>\n      <td>2.6</td>\n      <td>18.0</td>\n      <td>0.0</td>\n      <td>0.0</td>\n      <td>0.0</td>\n      <td>0.0</td>\n      <td>0.0</td>\n      <td>0.0</td>\n      <td>0.0</td>\n      <td>...</td>\n      <td>0.0</td>\n      <td>0.0</td>\n      <td>0.0</td>\n      <td>0.0</td>\n      <td>0.0</td>\n      <td>1.0</td>\n      <td>0.0</td>\n      <td>0.0</td>\n      <td>0.0</td>\n      <td>0.0</td>\n    </tr>\n    <tr>\n      <th>3816</th>\n      <td>2022-12-25 21:00:00</td>\n      <td>2.6</td>\n      <td>18.0</td>\n      <td>0.0</td>\n      <td>0.0</td>\n      <td>0.0</td>\n      <td>0.0</td>\n      <td>0.0</td>\n      <td>0.0</td>\n      <td>0.0</td>\n      <td>...</td>\n      <td>0.0</td>\n      <td>0.0</td>\n      <td>0.0</td>\n      <td>0.0</td>\n      <td>0.0</td>\n      <td>0.0</td>\n      <td>0.0</td>\n      <td>1.0</td>\n      <td>0.0</td>\n      <td>0.0</td>\n    </tr>\n    <tr>\n      <th>3817</th>\n      <td>2022-12-25 23:00:00</td>\n      <td>2.4</td>\n      <td>18.0</td>\n      <td>0.0</td>\n      <td>0.0</td>\n      <td>0.0</td>\n      <td>0.0</td>\n      <td>0.0</td>\n      <td>0.0</td>\n      <td>0.0</td>\n      <td>...</td>\n      <td>0.0</td>\n      <td>0.0</td>\n      <td>0.0</td>\n      <td>0.0</td>\n      <td>0.0</td>\n      <td>0.0</td>\n      <td>0.0</td>\n      <td>0.0</td>\n      <td>0.0</td>\n      <td>1.0</td>\n    </tr>\n  </tbody>\n</table>\n<p>3818 rows × 172 columns</p>\n</div>"
     },
     "execution_count": 4,
     "metadata": {},
     "output_type": "execute_result"
    }
   ],
   "source": [
    "TcoolStPt = 31\n",
    "CDH = df['temperature'] - TcoolStPt\n",
    "CDH.clip(lower=0, inplace=True)\n",
    "CDH = pd.DataFrame(data=CDH.values, columns=['CDH'], index=df.index)\n",
    "# Concatenate CDH with the original DataFrame using the index\n",
    "df = pd.concat([df, CDH], axis=1)\n",
    "df = df.sort_values('Time')\n",
    "df.reset_index(inplace=True, drop = True)\n",
    "\n",
    "numOmegas = 24 * 7\n",
    "num_of_rows = df.shape[0]\n",
    "omegas = np.zeros((num_of_rows, numOmegas))  # Assuming numOmegas columns for omegas\n",
    "concatenated_data = np.concatenate((df, omegas), axis=1)\n",
    "column_names = ['Time', 'MW', 'temperature', 'CDH']\n",
    "for i in range(1, numOmegas + 1,1):\n",
    "    column_names.append('omega' + str(i))\n",
    "\n",
    "df = pd.DataFrame(concatenated_data, columns=column_names)\n",
    "df['Time'] = pd.to_datetime(df['Time'])\n",
    "for i in range(0,num_of_rows):\n",
    "        datetime = df.Time.loc[i]\n",
    "        hourOfWeekIndex = int(datetime.dayofweek*24+(datetime.hour+1))\n",
    "        x = np.zeros((1,numOmegas))\n",
    "        x[0,hourOfWeekIndex-1]=1\n",
    "        omegas[i,:]=x\n",
    "\n",
    "df.iloc[:,4:]=omegas\n",
    "DF = df.copy()\n",
    "df = df.dropna()\n",
    "df.reset_index(inplace=True, drop = True)\n",
    "df"
   ],
   "metadata": {
    "collapsed": false,
    "ExecuteTime": {
     "end_time": "2023-10-24T09:56:31.308965Z",
     "start_time": "2023-10-24T09:56:30.930894900Z"
    }
   }
  },
  {
   "cell_type": "code",
   "execution_count": null,
   "outputs": [
    {
     "data": {
      "text/plain": "\"\\nstart_time = pd.Timestamp('2022-07-04 00:00:00')\\nend_time = pd.Timestamp('2022-08-28 23:00:00')\\ntraining_mask = (df['Time'] >= start_time) & (df['Time'] <= end_time) & (df['CDH'] > 0)\\ndf = df[training_mask]\""
     },
     "execution_count": 5,
     "metadata": {},
     "output_type": "execute_result"
    }
   ],
   "source": [
    "'''\n",
    "start_time = pd.Timestamp('2022-07-04 00:00:00')\n",
    "end_time = pd.Timestamp('2022-08-28 23:00:00')\n",
    "training_mask = (df['Time'] >= start_time) & (df['Time'] <= end_time) & (df['CDH'] > 0)\n",
    "df = df[training_mask]'''"
   ],
   "metadata": {
    "collapsed": false,
    "ExecuteTime": {
     "end_time": "2023-10-24T09:56:31.356359500Z",
     "start_time": "2023-10-24T09:56:31.308965Z"
    }
   }
  },
  {
   "cell_type": "markdown",
   "source": [
    "doing the optimization in one shot"
   ],
   "metadata": {
    "collapsed": false
   }
  },
  {
   "cell_type": "code",
   "execution_count": null,
   "outputs": [
    {
     "name": "stdout",
     "output_type": "stream",
     "text": [
      "\n",
      "******************************************************************************\n",
      "This program contains Ipopt, a library for large-scale nonlinear optimization.\n",
      " Ipopt is released as open source code under the Eclipse Public License (EPL).\n",
      "         For more information visit https://github.com/coin-or/Ipopt\n",
      "******************************************************************************\n",
      "\n",
      "This is Ipopt version 3.14.11, running with linear solver MUMPS 5.4.1.\n",
      "\n",
      "Number of nonzeros in equality constraint Jacobian...:        0\n",
      "Number of nonzeros in inequality constraint Jacobian.:     2337\n",
      "Number of nonzeros in Lagrangian Hessian.............:    14365\n",
      "\n",
      "Total number of variables............................:      169\n",
      "                     variables with only lower bounds:        0\n",
      "                variables with lower and upper bounds:        0\n",
      "                     variables with only upper bounds:        0\n",
      "Total number of equality constraints.................:        0\n",
      "Total number of inequality constraints...............:     1003\n",
      "        inequality constraints with only lower bounds:      502\n",
      "   inequality constraints with lower and upper bounds:        0\n",
      "        inequality constraints with only upper bounds:      501\n",
      "\n",
      "iter    objective    inf_pr   inf_du lg(mu)  ||d||  lg(rg) alpha_du alpha_pr  ls\n",
      "   0  1.2004567e+04 4.07e+02 5.06e-01  -1.0 0.00e+00    -  0.00e+00 0.00e+00   0\n",
      "   1  8.8309090e+03 2.75e+01 1.07e+02  -1.0 1.32e+02    -  8.57e-03 9.33e-01f  1\n",
      "   2  8.1127567e+03 0.00e+00 1.25e+00  -1.0 9.04e+00    -  4.36e-01 1.00e+00f  1\n",
      "   3  4.9924302e+03 0.00e+00 9.86e-01  -1.0 3.11e+00    -  2.01e-01 1.00e+00f  1\n",
      "   4  2.2353056e+03 0.00e+00 5.93e-01  -1.0 2.40e+00    -  3.46e-01 1.00e+00f  1\n",
      "   5  5.0415102e+02 0.00e+00 1.45e+00  -1.0 7.43e+01    -  4.86e-02 1.00e+00f  1\n",
      "   6  2.2155915e+02 0.00e+00 8.40e-02  -1.0 2.47e+01    -  7.93e-01 1.00e+00f  1\n",
      "   7  1.0532449e+02 0.00e+00 1.00e-06  -1.0 1.95e+01    -  1.00e+00 1.00e+00f  1\n",
      "   8  9.0207243e+01 0.00e+00 1.00e-06  -1.0 1.92e+01    -  1.00e+00 1.00e+00f  1\n",
      "   9  7.3416902e+01 0.00e+00 2.00e-07  -1.7 1.78e+00    -  1.00e+00 1.00e+00f  1\n",
      "iter    objective    inf_pr   inf_du lg(mu)  ||d||  lg(rg) alpha_du alpha_pr  ls\n",
      "  10  6.8552011e+01 0.00e+00 2.83e-08  -2.5 2.29e+00    -  1.00e+00 1.00e+00f  1\n",
      "  11  6.7967561e+01 0.00e+00 1.50e-09  -3.8 9.67e-01    -  1.00e+00 1.00e+00f  1\n",
      "  12  6.7947600e+01 0.00e+00 1.50e-09  -3.8 1.19e+00    -  1.00e+00 1.00e+00f  1\n",
      "  13  6.7946725e+01 0.00e+00 1.84e-11  -5.7 5.10e-02    -  1.00e+00 1.00e+00f  1\n",
      "  14  6.7946723e+01 0.00e+00 1.84e-11  -5.7 5.45e-02    -  1.00e+00 1.00e+00h  1\n",
      "  15  6.7946723e+01 0.00e+00 2.51e-14  -8.6 3.13e-04    -  1.00e+00 1.00e+00h  1\n",
      "\n",
      "Number of Iterations....: 15\n",
      "\n",
      "                                   (scaled)                 (unscaled)\n",
      "Objective...............:   2.0494448841080306e+00    6.7946722791708368e+01\n",
      "Dual infeasibility......:   2.5059036063649481e-14    8.3080027672237836e-13\n",
      "Constraint violation....:   0.0000000000000000e+00    0.0000000000000000e+00\n",
      "Variable bound violation:   0.0000000000000000e+00    0.0000000000000000e+00\n",
      "Complementarity.........:   3.3174229949876061e-09    1.0998491463280556e-07\n",
      "Overall NLP error.......:   3.3174229949876061e-09    1.0998491463280556e-07\n",
      "\n",
      "\n",
      "Number of objective function evaluations             = 16\n",
      "Number of objective gradient evaluations             = 16\n",
      "Number of equality constraint evaluations            = 0\n",
      "Number of inequality constraint evaluations          = 16\n",
      "Number of equality constraint Jacobian evaluations   = 0\n",
      "Number of inequality constraint Jacobian evaluations = 16\n",
      "Number of Lagrangian Hessian evaluations             = 15\n",
      "Total seconds in IPOPT                               = 1.327\n",
      "\n",
      "EXIT: Optimal Solution Found.\n",
      "Optimal value of temperature_theta: 0.061935538622958565\n",
      "Optimal values of theta: [5.29666666 4.68917372 4.53666667 4.79999997 4.40143009 4.03666667\n",
      " 3.76100544 3.60756006 3.54085138 3.53315764 3.58556648 3.73467571\n",
      " 4.05072142 4.60021746 5.28564503 5.30112892 5.29204297 5.39758057\n",
      " 5.63806444 5.33451612 5.49999996 5.25       5.23333333 5.33333331\n",
      " 4.30000001 4.19999998 3.50000008 4.32499996 3.78333335 4.33333332\n",
      " 4.225      4.6        4.975      5.175      5.48451611 5.35354834\n",
      " 5.5166128  5.61741926 4.82590944 4.17132861 3.79349425 3.62680373\n",
      " 3.60446034 3.71045666 3.97992235 4.45788994 5.04999999 5.04999999\n",
      " 4.275      3.45860444 3.25000006 4.4999998  3.50000006 3.74999999\n",
      " 3.85       4.125      4.66249999 4.775      5.16903222 5.26306446\n",
      " 5.37258057 5.12612893 5.7166128  5.9666128  6.1416128  6.18806445\n",
      " 6.21903222 6.29999998 6.04999999 5.87499998 4.80000004 4.74999995\n",
      " 4.10000003 4.14999998 3.95658702 3.8184058  3.74999999 3.60000002\n",
      " 4.07499999 4.2        4.68451611 4.91903223 5.39758057 5.24516115\n",
      " 5.27967727 5.63322559 5.49217727 5.4862095  5.73266115 5.84459668\n",
      " 5.88451611 5.87499999 5.81249999 5.71249999 4.84286154 4.16738833\n",
      " 3.78374495 3.60590793 3.54836362 3.56780922 3.66210553 3.85398782\n",
      " 4.145      4.375      4.6925     4.86806446 5.06459669 4.96946226\n",
      " 5.26266114 5.19564504 5.60112892 5.93564503 5.94279558 5.95075261\n",
      " 6.12537629 6.29999998 6.23333332 6.04999999 5.425      5.36249999\n",
      " 4.8        4.69999999 4.3        4.3        4.375      4.275\n",
      " 4.2        4.2        4.2375     4.54403223 4.68153223 4.75056446\n",
      " 4.73209669 4.66008058 4.95709669 4.99903227 5.26701611 5.35806445\n",
      " 5.5875     5.89999995 5.68333333 5.48       5.59999999 5.025\n",
      " 4.625      4.49999999 4.07039878 3.85       4.12984401 4.44999999\n",
      " 3.9625     3.925      4.04999999 3.92201612 3.95354835 4.21741928\n",
      " 4.33010743 4.01661281 3.98564504 4.09516115 4.33483856 4.61306446\n",
      " 4.89999999 5.05       5.27499998 4.9625     5.32249999 5.50241564]\n"
     ]
    }
   ],
   "source": [
    "#tried to do the temperature and behavior part together\n",
    "start_time = pd.Timestamp('2022-08-01 00:00:00')\n",
    "end_time = pd.Timestamp('2022-08-28 23:00:00')\n",
    "\n",
    "training_mask = (df['Time'] >= start_time) & (df['Time'] <= end_time)\n",
    "training_df = df[training_mask]\n",
    "d = training_df.loc[:,'MW']\n",
    "phi_temperature = training_df.loc[:,'CDH']\n",
    "phi_behavior = training_df.loc[:,'omega1':'omega168']\n",
    "opti = cd.Opti()\n",
    "temperature_theta = opti.variable()\n",
    "behavior_theta = opti.variable(168)\n",
    "total_sum =0\n",
    "for i in range (0,len(d)):\n",
    "    phi_behavior_i = (cd.MX(phi_behavior.iloc[i].values))\n",
    "    phi_behavior_i =  cd.vertcat(phi_behavior_i)\n",
    "    residual = (d.iloc[i] - ((phi_temperature.iloc[i] * temperature_theta) + cd.dot(phi_behavior_i, behavior_theta)))**2\n",
    "    total_sum += residual\n",
    "\n",
    "opti.subject_to(temperature_theta >= 0)\n",
    "e1 = 3.0\n",
    "e2 = 3.0\n",
    "\n",
    "for i in range(0, 167):\n",
    "    opti.subject_to((behavior_theta[i + 1] - behavior_theta[i]) <= e1)\n",
    "    opti.subject_to((behavior_theta[i + 1] - behavior_theta[i]) >= -e1)\n",
    "    opti.subject_to(behavior_theta[i] >= 0)\n",
    "    opti.subject_to(behavior_theta[i] <= 7)\n",
    "\n",
    "for i in range(1, 167):\n",
    "    opti.subject_to((behavior_theta[i + 1] + behavior_theta[i - 1] - 2 * behavior_theta[i]) <= e2)\n",
    "    opti.subject_to((behavior_theta[i + 1] + behavior_theta[i - 1] - 2 * behavior_theta[i]) >= -e2)\n",
    "\n",
    "for i in range(7,8):\n",
    "    month = bill_df.iloc[i]['Month'].month\n",
    "    year = bill_df.iloc[i]['Month'].year\n",
    "    num_days = calendar.monthrange(year, month)[1]\n",
    "    first_day = calendar.monthrange(year, month)[0]\n",
    "    num_hours = num_days * 24\n",
    "    num_weeks = num_hours / 168.0\n",
    "    weekly_behavior_energy_use = 0\n",
    "    temperature_energy_use = 0\n",
    "    for j in range(len(training_df)):\n",
    "        temperature_energy_use += temperature_theta * training_df.iloc[j]['CDH']\n",
    "\n",
    "    for j in range(0, 168):\n",
    "        weekly_behavior_energy_use += behavior_theta[j]\n",
    "    weekly_energy_use = weekly_behavior_energy_use +  temperature_energy_use\n",
    "    opti.subject_to(weekly_energy_use < 1.5 * bill_df.iloc[i]['MW'] / num_weeks)\n",
    "    opti.subject_to(weekly_energy_use > 0.5 * bill_df.iloc[i]['MW'] / num_weeks)\n",
    "\n",
    "# Solve the optimization problem\n",
    "opti.minimize(total_sum)\n",
    "solver_opts = {'print_time': 0}\n",
    "opti.solver('ipopt', solver_opts)\n",
    "sol = opti.solve()\n",
    "\n",
    "optimal_temperature_theta = sol.value(temperature_theta)\n",
    "optimal_behavior_theta = sol.value(behavior_theta)\n",
    "print(\"Optimal value of temperature_theta:\", optimal_temperature_theta)\n",
    "print(\"Optimal values of theta:\", optimal_behavior_theta)\n"
   ],
   "metadata": {
    "collapsed": false,
    "ExecuteTime": {
     "end_time": "2023-10-24T09:56:36.123783400Z",
     "start_time": "2023-10-24T09:56:31.324674800Z"
    }
   }
  },
  {
   "cell_type": "markdown",
   "source": [
    "Doing the temperature dependent part"
   ],
   "metadata": {
    "collapsed": false
   }
  },
  {
   "cell_type": "code",
   "execution_count": null,
   "outputs": [
    {
     "data": {
      "text/plain": "'start_time = pd.Timestamp(\\'2022-08-01 00:00:00\\')\\nend_time = pd.Timestamp(\\'2022-08-28 23:00:00\\')\\n\\n#temperature dependency part\\ntraining_mask = (df[\\'Time\\'] >= start_time) & (df[\\'Time\\'] <= end_time) & (df[\\'CDH\\'] > 0)\\ntraining_df = df[training_mask]\\n\\nd = training_df.loc[:,\\'MW\\']\\nphi = training_df.loc[:,\\'CDH\\']\\nopti = cd.Opti()\\ntheta = opti.variable()\\nc = opti.variable()\\nsum = 0\\nresiduals = []\\n\\nfor i in range (0,len(d)):\\n    residual = (d.iloc[i] - (phi.iloc[i] * theta + c))**2\\n    sum += residual\\n    residuals.append(residual)\\n\\n#objective = sqrt(sum([r**2 for r in residuals]))\\nobjective = sqrt(sum)\\nopti.minimize(objective)\\nopti.subject_to(theta >= 0)\\n# Solve the optimization problem\\nsolver_opts = {\\'print_time\\': 0}\\nopti.solver(\\'ipopt\\', solver_opts)\\nsol = opti.solve()\\n\\n# Extract and print the optimal solution for theta\\ntemp_theta = sol.value(theta)\\nprint(\"Optimal value of theta:\", temp_theta)\\noptimal_c = sol.value(c)\\nprint(\"Optimal value of constant:\", optimal_c)\\n'"
     },
     "execution_count": 7,
     "metadata": {},
     "output_type": "execute_result"
    }
   ],
   "source": [
    "'''start_time = pd.Timestamp('2022-08-01 00:00:00')\n",
    "end_time = pd.Timestamp('2022-08-28 23:00:00')\n",
    "\n",
    "#temperature dependency part\n",
    "training_mask = (df['Time'] >= start_time) & (df['Time'] <= end_time) & (df['CDH'] > 0)\n",
    "training_df = df[training_mask]\n",
    "\n",
    "d = training_df.loc[:,'MW']\n",
    "phi = training_df.loc[:,'CDH']\n",
    "opti = cd.Opti()\n",
    "theta = opti.variable()\n",
    "c = opti.variable()\n",
    "sum = 0\n",
    "residuals = []\n",
    "\n",
    "for i in range (0,len(d)):\n",
    "    residual = (d.iloc[i] - (phi.iloc[i] * theta + c))**2\n",
    "    sum += residual\n",
    "    residuals.append(residual)\n",
    "\n",
    "#objective = sqrt(sum([r**2 for r in residuals]))\n",
    "objective = sqrt(sum)\n",
    "opti.minimize(objective)\n",
    "opti.subject_to(theta >= 0)\n",
    "# Solve the optimization problem\n",
    "solver_opts = {'print_time': 0}\n",
    "opti.solver('ipopt', solver_opts)\n",
    "sol = opti.solve()\n",
    "\n",
    "# Extract and print the optimal solution for theta\n",
    "temp_theta = sol.value(theta)\n",
    "print(\"Optimal value of theta:\", temp_theta)\n",
    "optimal_c = sol.value(c)\n",
    "print(\"Optimal value of constant:\", optimal_c)\n",
    "'''"
   ],
   "metadata": {
    "collapsed": false,
    "ExecuteTime": {
     "end_time": "2023-10-24T09:56:36.140893600Z",
     "start_time": "2023-10-24T09:56:36.123783400Z"
    }
   }
  },
  {
   "cell_type": "markdown",
   "source": [
    "Doing the behavior dependent part"
   ],
   "metadata": {
    "collapsed": false
   }
  },
  {
   "cell_type": "code",
   "execution_count": null,
   "outputs": [
    {
     "data": {
      "text/plain": "'\\ntraining_mask = (df[\\'Time\\'] >= start_time) & (df[\\'Time\\'] <= end_time)\\nbehavior_df = df[training_mask]\\n#i think sir asked me to try with e1,e2 values as half of what I put initially which was around 2\\ne1 = 3.0\\ne2 = 3.0\\n#behavior dependent part\\nd = behavior_df[\\'MW\\'] - temp_theta * behavior_df[\\'CDH\\']\\nphi = behavior_df.loc[:,\\'omega1\\':\\'omega168\\']\\nopti = cd.Opti()\\ntheta = opti.variable(168)\\nresiduals = []\\nsum = 0\\nfor i in range(len(d)):\\n    phi_i = (cd.MX(phi.iloc[i].values))\\n    phi_i =  cd.vertcat(phi_i)\\n    residual = (d.iloc[i] - cd.dot(phi_i, theta))**2\\n    sum += residual\\n    residuals.append(residual)\\n\\nobjective = sum\\nopti.minimize(objective)\\n\\nfor i in range(0, 167):\\n\\n    opti.subject_to((theta[i + 1] - theta[i]) <= e1)\\n    opti.subject_to((theta[i + 1] - theta[i]) >= -e1)\\n    opti.subject_to(theta[i] >= 0)\\n    opti.subject_to(theta[i] <= 7)\\n\\nfor i in range(1, 167):\\n    opti.subject_to((theta[i + 1] + theta[i - 1] - 2 * theta[i]) <= e2)\\n    opti.subject_to((theta[i + 1] + theta[i - 1] - 2 * theta[i]) >= -e2)\\n\\nfor i in range(7,8):\\n    month = bill_df.iloc[i][\\'Month\\'].month\\n    year = bill_df.iloc[i][\\'Month\\'].year\\n    num_days = calendar.monthrange(year, month)[1]\\n    first_day = calendar.monthrange(year, month)[0]\\n    num_hours = num_days * 24\\n    num_weeks = num_hours / 168.0\\n    weekly_energy_use = 0\\n    temperature_energy_use = 0\\n    for k in range(len(behavior_df)):\\n        temperature_energy_use += temp_theta * behavior_df.iloc[k][\\'CDH\\']\\n\\n    for j in range(0, 168):\\n        weekly_energy_use += theta[j]\\n    weekly_energy_use += temperature_energy_use\\n    opti.subject_to(weekly_energy_use < 1.2 * bill_df.iloc[i][\\'MW\\'] / num_weeks)\\n    opti.subject_to(weekly_energy_use > 0.8 * bill_df.iloc[i][\\'MW\\'] / num_weeks)\\n\\n# Solve the optimization problem\\nsolver_opts = {\\'print_time\\': 0}\\nopti.solver(\\'ipopt\\', solver_opts)\\nsol = opti.solve()\\ntime_theta = sol.value(theta)\\nprint(\"Optimal value of theta:\", time_theta)\\n'"
     },
     "execution_count": 8,
     "metadata": {},
     "output_type": "execute_result"
    }
   ],
   "source": [
    "'''\n",
    "training_mask = (df['Time'] >= start_time) & (df['Time'] <= end_time)\n",
    "behavior_df = df[training_mask]\n",
    "#i think sir asked me to try with e1,e2 values as half of what I put initially which was around 2\n",
    "e1 = 3.0\n",
    "e2 = 3.0\n",
    "#behavior dependent part\n",
    "d = behavior_df['MW'] - temp_theta * behavior_df['CDH']\n",
    "phi = behavior_df.loc[:,'omega1':'omega168']\n",
    "opti = cd.Opti()\n",
    "theta = opti.variable(168)\n",
    "residuals = []\n",
    "sum = 0\n",
    "for i in range(len(d)):\n",
    "    phi_i = (cd.MX(phi.iloc[i].values))\n",
    "    phi_i =  cd.vertcat(phi_i)\n",
    "    residual = (d.iloc[i] - cd.dot(phi_i, theta))**2\n",
    "    sum += residual\n",
    "    residuals.append(residual)\n",
    "\n",
    "objective = sum\n",
    "opti.minimize(objective)\n",
    "\n",
    "for i in range(0, 167):\n",
    "\n",
    "    opti.subject_to((theta[i + 1] - theta[i]) <= e1)\n",
    "    opti.subject_to((theta[i + 1] - theta[i]) >= -e1)\n",
    "    opti.subject_to(theta[i] >= 0)\n",
    "    opti.subject_to(theta[i] <= 7)\n",
    "\n",
    "for i in range(1, 167):\n",
    "    opti.subject_to((theta[i + 1] + theta[i - 1] - 2 * theta[i]) <= e2)\n",
    "    opti.subject_to((theta[i + 1] + theta[i - 1] - 2 * theta[i]) >= -e2)\n",
    "\n",
    "for i in range(7,8):\n",
    "    month = bill_df.iloc[i]['Month'].month\n",
    "    year = bill_df.iloc[i]['Month'].year\n",
    "    num_days = calendar.monthrange(year, month)[1]\n",
    "    first_day = calendar.monthrange(year, month)[0]\n",
    "    num_hours = num_days * 24\n",
    "    num_weeks = num_hours / 168.0\n",
    "    weekly_energy_use = 0\n",
    "    temperature_energy_use = 0\n",
    "    for k in range(len(behavior_df)):\n",
    "        temperature_energy_use += temp_theta * behavior_df.iloc[k]['CDH']\n",
    "\n",
    "    for j in range(0, 168):\n",
    "        weekly_energy_use += theta[j]\n",
    "    weekly_energy_use += temperature_energy_use\n",
    "    opti.subject_to(weekly_energy_use < 1.2 * bill_df.iloc[i]['MW'] / num_weeks)\n",
    "    opti.subject_to(weekly_energy_use > 0.8 * bill_df.iloc[i]['MW'] / num_weeks)\n",
    "\n",
    "# Solve the optimization problem\n",
    "solver_opts = {'print_time': 0}\n",
    "opti.solver('ipopt', solver_opts)\n",
    "sol = opti.solve()\n",
    "time_theta = sol.value(theta)\n",
    "print(\"Optimal value of theta:\", time_theta)\n",
    "'''"
   ],
   "metadata": {
    "collapsed": false,
    "ExecuteTime": {
     "end_time": "2023-10-24T09:56:36.149230800Z",
     "start_time": "2023-10-24T09:56:36.131667600Z"
    }
   }
  },
  {
   "cell_type": "code",
   "execution_count": null,
   "outputs": [
    {
     "data": {
      "text/plain": "\"\\n#plotting the theta values\\nfig,ax = plt.subplots(figsize = (10,6))\\nax.plot(np.arange(0,168), time_theta,'bo-')\\n\""
     },
     "execution_count": 9,
     "metadata": {},
     "output_type": "execute_result"
    }
   ],
   "source": [
    "'''\n",
    "#plotting the theta values\n",
    "fig,ax = plt.subplots(figsize = (10,6))\n",
    "ax.plot(np.arange(0,168), time_theta,'bo-')\n",
    "'''"
   ],
   "metadata": {
    "collapsed": false,
    "ExecuteTime": {
     "end_time": "2023-10-24T09:56:36.149230800Z",
     "start_time": "2023-10-24T09:56:36.140893600Z"
    }
   }
  },
  {
   "cell_type": "code",
   "execution_count": null,
   "outputs": [
    {
     "data": {
      "text/plain": "LinearRegression(fit_intercept=False)",
      "text/html": "<style>#sk-container-id-1 {color: black;}#sk-container-id-1 pre{padding: 0;}#sk-container-id-1 div.sk-toggleable {background-color: white;}#sk-container-id-1 label.sk-toggleable__label {cursor: pointer;display: block;width: 100%;margin-bottom: 0;padding: 0.3em;box-sizing: border-box;text-align: center;}#sk-container-id-1 label.sk-toggleable__label-arrow:before {content: \"▸\";float: left;margin-right: 0.25em;color: #696969;}#sk-container-id-1 label.sk-toggleable__label-arrow:hover:before {color: black;}#sk-container-id-1 div.sk-estimator:hover label.sk-toggleable__label-arrow:before {color: black;}#sk-container-id-1 div.sk-toggleable__content {max-height: 0;max-width: 0;overflow: hidden;text-align: left;background-color: #f0f8ff;}#sk-container-id-1 div.sk-toggleable__content pre {margin: 0.2em;color: black;border-radius: 0.25em;background-color: #f0f8ff;}#sk-container-id-1 input.sk-toggleable__control:checked~div.sk-toggleable__content {max-height: 200px;max-width: 100%;overflow: auto;}#sk-container-id-1 input.sk-toggleable__control:checked~label.sk-toggleable__label-arrow:before {content: \"▾\";}#sk-container-id-1 div.sk-estimator input.sk-toggleable__control:checked~label.sk-toggleable__label {background-color: #d4ebff;}#sk-container-id-1 div.sk-label input.sk-toggleable__control:checked~label.sk-toggleable__label {background-color: #d4ebff;}#sk-container-id-1 input.sk-hidden--visually {border: 0;clip: rect(1px 1px 1px 1px);clip: rect(1px, 1px, 1px, 1px);height: 1px;margin: -1px;overflow: hidden;padding: 0;position: absolute;width: 1px;}#sk-container-id-1 div.sk-estimator {font-family: monospace;background-color: #f0f8ff;border: 1px dotted black;border-radius: 0.25em;box-sizing: border-box;margin-bottom: 0.5em;}#sk-container-id-1 div.sk-estimator:hover {background-color: #d4ebff;}#sk-container-id-1 div.sk-parallel-item::after {content: \"\";width: 100%;border-bottom: 1px solid gray;flex-grow: 1;}#sk-container-id-1 div.sk-label:hover label.sk-toggleable__label {background-color: #d4ebff;}#sk-container-id-1 div.sk-serial::before {content: \"\";position: absolute;border-left: 1px solid gray;box-sizing: border-box;top: 0;bottom: 0;left: 50%;z-index: 0;}#sk-container-id-1 div.sk-serial {display: flex;flex-direction: column;align-items: center;background-color: white;padding-right: 0.2em;padding-left: 0.2em;position: relative;}#sk-container-id-1 div.sk-item {position: relative;z-index: 1;}#sk-container-id-1 div.sk-parallel {display: flex;align-items: stretch;justify-content: center;background-color: white;position: relative;}#sk-container-id-1 div.sk-item::before, #sk-container-id-1 div.sk-parallel-item::before {content: \"\";position: absolute;border-left: 1px solid gray;box-sizing: border-box;top: 0;bottom: 0;left: 50%;z-index: -1;}#sk-container-id-1 div.sk-parallel-item {display: flex;flex-direction: column;z-index: 1;position: relative;background-color: white;}#sk-container-id-1 div.sk-parallel-item:first-child::after {align-self: flex-end;width: 50%;}#sk-container-id-1 div.sk-parallel-item:last-child::after {align-self: flex-start;width: 50%;}#sk-container-id-1 div.sk-parallel-item:only-child::after {width: 0;}#sk-container-id-1 div.sk-dashed-wrapped {border: 1px dashed gray;margin: 0 0.4em 0.5em 0.4em;box-sizing: border-box;padding-bottom: 0.4em;background-color: white;}#sk-container-id-1 div.sk-label label {font-family: monospace;font-weight: bold;display: inline-block;line-height: 1.2em;}#sk-container-id-1 div.sk-label-container {text-align: center;}#sk-container-id-1 div.sk-container {/* jupyter's `normalize.less` sets `[hidden] { display: none; }` but bootstrap.min.css set `[hidden] { display: none !important; }` so we also need the `!important` here to be able to override the default hidden behavior on the sphinx rendered scikit-learn.org. See: https://github.com/scikit-learn/scikit-learn/issues/21755 */display: inline-block !important;position: relative;}#sk-container-id-1 div.sk-text-repr-fallback {display: none;}</style><div id=\"sk-container-id-1\" class=\"sk-top-container\"><div class=\"sk-text-repr-fallback\"><pre>LinearRegression(fit_intercept=False)</pre><b>In a Jupyter environment, please rerun this cell to show the HTML representation or trust the notebook. <br />On GitHub, the HTML representation is unable to render, please try loading this page with nbviewer.org.</b></div><div class=\"sk-container\" hidden><div class=\"sk-item\"><div class=\"sk-estimator sk-toggleable\"><input class=\"sk-toggleable__control sk-hidden--visually\" id=\"sk-estimator-id-1\" type=\"checkbox\" checked><label for=\"sk-estimator-id-1\" class=\"sk-toggleable__label sk-toggleable__label-arrow\">LinearRegression</label><div class=\"sk-toggleable__content\"><pre>LinearRegression(fit_intercept=False)</pre></div></div></div></div></div>"
     },
     "execution_count": 10,
     "metadata": {},
     "output_type": "execute_result"
    },
    {
     "name": "stdout",
     "output_type": "stream",
     "text": [
      "score for constructed full model on full data:  0.7784265102310899\n"
     ]
    },
    {
     "name": "stderr",
     "output_type": "stream",
     "text": [
      "D:\\mlinternship\\power-predict\\myenv\\Lib\\site-packages\\sklearn\\base.py:465: UserWarning: X does not have valid feature names, but LinearRegression was fitted with feature names\n",
      "  warnings.warn(\n"
     ]
    },
    {
     "data": {
      "text/plain": "Text(0.5, 1.0, 'measured vs predicted data (full constructed model)')"
     },
     "execution_count": 10,
     "metadata": {},
     "output_type": "execute_result"
    }
   ],
   "source": [
    "#final model with df\n",
    "training_df = df[training_mask]\n",
    "d = training_df['MW']\n",
    "c = np.concatenate((np.array([optimal_temperature_theta]),optimal_behavior_theta),axis=0)\n",
    "phi =training_df.loc[:,'CDH':'omega168']\n",
    "full_model = LinearRegression(fit_intercept=False)\n",
    "full_model.fit(phi, d)\n",
    "full_model.coef_ = c\n",
    "full_model.intercept_ = 0\n",
    "yhat = full_model.predict(phi.values)\n",
    "full_modelScore = full_model.score(phi,d)\n",
    "\n",
    "print ('score for constructed full model on full data: ', full_modelScore)\n",
    "fig,(ax2) = plt.subplots(nrows=1,figsize=(10,9))\n",
    "_=ax2.plot(training_df['Time'],d,label='meas', marker = 'o')\n",
    "_=ax2.plot(training_df['Time'],yhat,label='pred:', marker = 'x')\n",
    "ax2.set_title('measured vs predicted data (full constructed model)')\n",
    "_=ax2.legend()\n",
    "plt.show()"
   ],
   "metadata": {
    "collapsed": false,
    "ExecuteTime": {
     "end_time": "2023-10-24T09:57:06.784446900Z",
     "start_time": "2023-10-24T09:56:36.149230800Z"
    }
   }
  },
  {
   "cell_type": "code",
   "execution_count": 13,
   "outputs": [
    {
     "name": "stdout",
     "output_type": "stream",
     "text": [
      "index: 1 start:19205.0, width:0.041666666667879326\n"
     ]
    },
    {
     "name": "stderr",
     "output_type": "stream",
     "text": [
      "C:\\Users\\jaina\\AppData\\Local\\Temp\\ipykernel_29644\\1484597742.py:7: SettingWithCopyWarning: \n",
      "A value is trying to be set on a copy of a slice from a DataFrame.\n",
      "Try using .loc[row_indexer,col_indexer] = value instead\n",
      "\n",
      "See the caveats in the documentation: https://pandas.pydata.org/pandas-docs/stable/user_guide/indexing.html#returning-a-view-versus-a-copy\n",
      "  training_df['MW'] = training_df['MW'].replace(np.nan, 0)\n",
      "D:\\mlinternship\\power-predict\\myenv\\Lib\\site-packages\\sklearn\\base.py:465: UserWarning: X does not have valid feature names, but LinearRegression was fitted with feature names\n",
      "  warnings.warn(\n"
     ]
    },
    {
     "data": {
      "text/plain": "<matplotlib.patches.Rectangle at 0x2a1b9863190>"
     },
     "execution_count": 13,
     "metadata": {},
     "output_type": "execute_result"
    },
    {
     "name": "stdout",
     "output_type": "stream",
     "text": [
      "index: 2 start:19205.041666666668, width:0.04166666666424135\n"
     ]
    },
    {
     "data": {
      "text/plain": "<matplotlib.patches.Rectangle at 0x2a1b9a20090>"
     },
     "execution_count": 13,
     "metadata": {},
     "output_type": "execute_result"
    },
    {
     "name": "stdout",
     "output_type": "stream",
     "text": [
      "index: 3 start:19205.083333333332, width:0.041666666667879326\n"
     ]
    },
    {
     "data": {
      "text/plain": "<matplotlib.patches.Rectangle at 0x2a1b9a20cd0>"
     },
     "execution_count": 13,
     "metadata": {},
     "output_type": "execute_result"
    },
    {
     "name": "stdout",
     "output_type": "stream",
     "text": [
      "index: 4 start:19205.125, width:0.041666666667879326\n"
     ]
    },
    {
     "data": {
      "text/plain": "<matplotlib.patches.Rectangle at 0x2a1570518d0>"
     },
     "execution_count": 13,
     "metadata": {},
     "output_type": "execute_result"
    },
    {
     "name": "stdout",
     "output_type": "stream",
     "text": [
      "index: 5 start:19205.166666666668, width:0.04166666666424135\n"
     ]
    },
    {
     "data": {
      "text/plain": "<matplotlib.patches.Rectangle at 0x2a1b9a22710>"
     },
     "execution_count": 13,
     "metadata": {},
     "output_type": "execute_result"
    },
    {
     "name": "stdout",
     "output_type": "stream",
     "text": [
      "index: 6 start:19205.208333333332, width:0.041666666667879326\n"
     ]
    },
    {
     "data": {
      "text/plain": "<matplotlib.patches.Rectangle at 0x2a1b9a0a0d0>"
     },
     "execution_count": 13,
     "metadata": {},
     "output_type": "execute_result"
    },
    {
     "name": "stdout",
     "output_type": "stream",
     "text": [
      "index: 7 start:19205.25, width:0.041666666667879326\n"
     ]
    },
    {
     "data": {
      "text/plain": "<matplotlib.patches.Rectangle at 0x2a1b99f6850>"
     },
     "execution_count": 13,
     "metadata": {},
     "output_type": "execute_result"
    },
    {
     "name": "stdout",
     "output_type": "stream",
     "text": [
      "index: 8 start:19205.291666666668, width:0.04166666666424135\n"
     ]
    },
    {
     "data": {
      "text/plain": "<matplotlib.patches.Rectangle at 0x2a1b9a1c4d0>"
     },
     "execution_count": 13,
     "metadata": {},
     "output_type": "execute_result"
    },
    {
     "name": "stdout",
     "output_type": "stream",
     "text": [
      "index: 9 start:19205.333333333332, width:0.041666666667879326\n"
     ]
    },
    {
     "data": {
      "text/plain": "<matplotlib.patches.Rectangle at 0x2a1b9a20450>"
     },
     "execution_count": 13,
     "metadata": {},
     "output_type": "execute_result"
    },
    {
     "name": "stdout",
     "output_type": "stream",
     "text": [
      "index: 10 start:19205.375, width:0.041666666667879326\n"
     ]
    },
    {
     "data": {
      "text/plain": "<matplotlib.patches.Rectangle at 0x2a1b9a1d6d0>"
     },
     "execution_count": 13,
     "metadata": {},
     "output_type": "execute_result"
    },
    {
     "name": "stdout",
     "output_type": "stream",
     "text": [
      "index: 11 start:19205.416666666668, width:0.04166666666424135\n"
     ]
    },
    {
     "data": {
      "text/plain": "<matplotlib.patches.Rectangle at 0x2a1b99f6c50>"
     },
     "execution_count": 13,
     "metadata": {},
     "output_type": "execute_result"
    },
    {
     "name": "stdout",
     "output_type": "stream",
     "text": [
      "index: 12 start:19205.458333333332, width:0.041666666667879326\n"
     ]
    },
    {
     "data": {
      "text/plain": "<matplotlib.patches.Rectangle at 0x2a1b9a1f890>"
     },
     "execution_count": 13,
     "metadata": {},
     "output_type": "execute_result"
    },
    {
     "name": "stdout",
     "output_type": "stream",
     "text": [
      "index: 13 start:19205.5, width:0.041666666667879326\n"
     ]
    },
    {
     "data": {
      "text/plain": "<matplotlib.patches.Rectangle at 0x2a1b9a38050>"
     },
     "execution_count": 13,
     "metadata": {},
     "output_type": "execute_result"
    },
    {
     "name": "stdout",
     "output_type": "stream",
     "text": [
      "index: 18 start:19205.708333333332, width:0.041666666667879326\n"
     ]
    },
    {
     "data": {
      "text/plain": "<matplotlib.patches.Rectangle at 0x2a157069990>"
     },
     "execution_count": 13,
     "metadata": {},
     "output_type": "execute_result"
    },
    {
     "name": "stdout",
     "output_type": "stream",
     "text": [
      "index: 20 start:19205.791666666668, width:0.04166666666424135\n"
     ]
    },
    {
     "data": {
      "text/plain": "<matplotlib.patches.Rectangle at 0x2a1b9a21750>"
     },
     "execution_count": 13,
     "metadata": {},
     "output_type": "execute_result"
    },
    {
     "name": "stdout",
     "output_type": "stream",
     "text": [
      "index: 22 start:19205.875, width:0.041666666667879326\n"
     ]
    },
    {
     "data": {
      "text/plain": "<matplotlib.patches.Rectangle at 0x2a1573d5f90>"
     },
     "execution_count": 13,
     "metadata": {},
     "output_type": "execute_result"
    },
    {
     "name": "stdout",
     "output_type": "stream",
     "text": [
      "index: 23 start:19205.916666666668, width:0.04166666666424135\n"
     ]
    },
    {
     "data": {
      "text/plain": "<matplotlib.patches.Rectangle at 0x2a1252a15d0>"
     },
     "execution_count": 13,
     "metadata": {},
     "output_type": "execute_result"
    },
    {
     "name": "stdout",
     "output_type": "stream",
     "text": [
      "index: 24 start:19205.958333333332, width:0.041666666667879326\n"
     ]
    },
    {
     "data": {
      "text/plain": "<matplotlib.patches.Rectangle at 0x2a1b9a3b790>"
     },
     "execution_count": 13,
     "metadata": {},
     "output_type": "execute_result"
    },
    {
     "name": "stdout",
     "output_type": "stream",
     "text": [
      "index: 25 start:19206.0, width:0.041666666667879326\n"
     ]
    },
    {
     "data": {
      "text/plain": "<matplotlib.patches.Rectangle at 0x2a1b9a3bf10>"
     },
     "execution_count": 13,
     "metadata": {},
     "output_type": "execute_result"
    },
    {
     "name": "stdout",
     "output_type": "stream",
     "text": [
      "index: 26 start:19206.041666666668, width:0.04166666666424135\n"
     ]
    },
    {
     "data": {
      "text/plain": "<matplotlib.patches.Rectangle at 0x2a1b9a3cb90>"
     },
     "execution_count": 13,
     "metadata": {},
     "output_type": "execute_result"
    },
    {
     "name": "stdout",
     "output_type": "stream",
     "text": [
      "index: 27 start:19206.083333333332, width:0.041666666667879326\n"
     ]
    },
    {
     "data": {
      "text/plain": "<matplotlib.patches.Rectangle at 0x2a1b9a1c490>"
     },
     "execution_count": 13,
     "metadata": {},
     "output_type": "execute_result"
    },
    {
     "name": "stdout",
     "output_type": "stream",
     "text": [
      "index: 28 start:19206.125, width:0.041666666667879326\n"
     ]
    },
    {
     "data": {
      "text/plain": "<matplotlib.patches.Rectangle at 0x2a1b9a3ded0>"
     },
     "execution_count": 13,
     "metadata": {},
     "output_type": "execute_result"
    },
    {
     "name": "stdout",
     "output_type": "stream",
     "text": [
      "index: 29 start:19206.166666666668, width:0.04166666666424135\n"
     ]
    },
    {
     "data": {
      "text/plain": "<matplotlib.patches.Rectangle at 0x2a1b9a3e8d0>"
     },
     "execution_count": 13,
     "metadata": {},
     "output_type": "execute_result"
    },
    {
     "name": "stdout",
     "output_type": "stream",
     "text": [
      "index: 38 start:19206.541666666668, width:0.04166666666424135\n"
     ]
    },
    {
     "data": {
      "text/plain": "<matplotlib.patches.Rectangle at 0x2a1b9a3f450>"
     },
     "execution_count": 13,
     "metadata": {},
     "output_type": "execute_result"
    },
    {
     "name": "stdout",
     "output_type": "stream",
     "text": [
      "index: 39 start:19206.583333333332, width:0.041666666667879326\n"
     ]
    },
    {
     "data": {
      "text/plain": "<matplotlib.patches.Rectangle at 0x2a1b9a3f810>"
     },
     "execution_count": 13,
     "metadata": {},
     "output_type": "execute_result"
    },
    {
     "name": "stdout",
     "output_type": "stream",
     "text": [
      "index: 40 start:19206.625, width:0.041666666667879326\n"
     ]
    },
    {
     "data": {
      "text/plain": "<matplotlib.patches.Rectangle at 0x2a1571700d0>"
     },
     "execution_count": 13,
     "metadata": {},
     "output_type": "execute_result"
    },
    {
     "name": "stdout",
     "output_type": "stream",
     "text": [
      "index: 41 start:19206.666666666668, width:0.04166666666424135\n"
     ]
    },
    {
     "data": {
      "text/plain": "<matplotlib.patches.Rectangle at 0x2a1b9a3e910>"
     },
     "execution_count": 13,
     "metadata": {},
     "output_type": "execute_result"
    },
    {
     "name": "stdout",
     "output_type": "stream",
     "text": [
      "index: 42 start:19206.708333333332, width:0.041666666667879326\n"
     ]
    },
    {
     "data": {
      "text/plain": "<matplotlib.patches.Rectangle at 0x2a1b9a40e50>"
     },
     "execution_count": 13,
     "metadata": {},
     "output_type": "execute_result"
    },
    {
     "name": "stdout",
     "output_type": "stream",
     "text": [
      "index: 43 start:19206.75, width:0.041666666667879326\n"
     ]
    },
    {
     "data": {
      "text/plain": "<matplotlib.patches.Rectangle at 0x2a157215d50>"
     },
     "execution_count": 13,
     "metadata": {},
     "output_type": "execute_result"
    },
    {
     "name": "stdout",
     "output_type": "stream",
     "text": [
      "index: 44 start:19206.791666666668, width:0.04166666666424135\n"
     ]
    },
    {
     "data": {
      "text/plain": "<matplotlib.patches.Rectangle at 0x2a1b9a39f50>"
     },
     "execution_count": 13,
     "metadata": {},
     "output_type": "execute_result"
    },
    {
     "name": "stdout",
     "output_type": "stream",
     "text": [
      "index: 45 start:19206.833333333332, width:0.041666666667879326\n"
     ]
    },
    {
     "data": {
      "text/plain": "<matplotlib.patches.Rectangle at 0x2a1b9a42e50>"
     },
     "execution_count": 13,
     "metadata": {},
     "output_type": "execute_result"
    },
    {
     "name": "stdout",
     "output_type": "stream",
     "text": [
      "index: 49 start:19207.0, width:0.041666666667879326\n"
     ]
    },
    {
     "data": {
      "text/plain": "<matplotlib.patches.Rectangle at 0x2a1b9a3b250>"
     },
     "execution_count": 13,
     "metadata": {},
     "output_type": "execute_result"
    },
    {
     "name": "stdout",
     "output_type": "stream",
     "text": [
      "index: 51 start:19207.083333333332, width:0.041666666667879326\n"
     ]
    },
    {
     "data": {
      "text/plain": "<matplotlib.patches.Rectangle at 0x2a1b9a23210>"
     },
     "execution_count": 13,
     "metadata": {},
     "output_type": "execute_result"
    },
    {
     "name": "stdout",
     "output_type": "stream",
     "text": [
      "index: 61 start:19207.5, width:0.041666666667879326\n"
     ]
    },
    {
     "data": {
      "text/plain": "<matplotlib.patches.Rectangle at 0x2a1baa2ca50>"
     },
     "execution_count": 13,
     "metadata": {},
     "output_type": "execute_result"
    },
    {
     "name": "stdout",
     "output_type": "stream",
     "text": [
      "index: 74 start:19208.041666666668, width:0.04166666666424135\n"
     ]
    },
    {
     "data": {
      "text/plain": "<matplotlib.patches.Rectangle at 0x2a1baa2d3d0>"
     },
     "execution_count": 13,
     "metadata": {},
     "output_type": "execute_result"
    },
    {
     "name": "stdout",
     "output_type": "stream",
     "text": [
      "index: 75 start:19208.083333333332, width:0.041666666667879326\n"
     ]
    },
    {
     "data": {
      "text/plain": "<matplotlib.patches.Rectangle at 0x2a1b9a3dad0>"
     },
     "execution_count": 13,
     "metadata": {},
     "output_type": "execute_result"
    },
    {
     "name": "stdout",
     "output_type": "stream",
     "text": [
      "index: 85 start:19208.5, width:0.041666666667879326\n"
     ]
    },
    {
     "data": {
      "text/plain": "<matplotlib.patches.Rectangle at 0x2a1baa2e690>"
     },
     "execution_count": 13,
     "metadata": {},
     "output_type": "execute_result"
    },
    {
     "name": "stdout",
     "output_type": "stream",
     "text": [
      "index: 94 start:19208.875, width:0.041666666667879326\n"
     ]
    },
    {
     "data": {
      "text/plain": "<matplotlib.patches.Rectangle at 0x2a1b9a1e850>"
     },
     "execution_count": 13,
     "metadata": {},
     "output_type": "execute_result"
    },
    {
     "name": "stdout",
     "output_type": "stream",
     "text": [
      "index: 95 start:19208.916666666668, width:0.04166666666424135\n"
     ]
    },
    {
     "data": {
      "text/plain": "<matplotlib.patches.Rectangle at 0x2a1b9a21450>"
     },
     "execution_count": 13,
     "metadata": {},
     "output_type": "execute_result"
    },
    {
     "name": "stdout",
     "output_type": "stream",
     "text": [
      "index: 96 start:19208.958333333332, width:0.041666666667879326\n"
     ]
    },
    {
     "data": {
      "text/plain": "<matplotlib.patches.Rectangle at 0x2a1b9a3eb50>"
     },
     "execution_count": 13,
     "metadata": {},
     "output_type": "execute_result"
    },
    {
     "name": "stdout",
     "output_type": "stream",
     "text": [
      "index: 97 start:19209.0, width:0.041666666667879326\n"
     ]
    },
    {
     "data": {
      "text/plain": "<matplotlib.patches.Rectangle at 0x2a1baa34690>"
     },
     "execution_count": 13,
     "metadata": {},
     "output_type": "execute_result"
    },
    {
     "name": "stdout",
     "output_type": "stream",
     "text": [
      "index: 98 start:19209.041666666668, width:0.04166666666424135\n"
     ]
    },
    {
     "data": {
      "text/plain": "<matplotlib.patches.Rectangle at 0x2a1baa343d0>"
     },
     "execution_count": 13,
     "metadata": {},
     "output_type": "execute_result"
    },
    {
     "name": "stdout",
     "output_type": "stream",
     "text": [
      "index: 99 start:19209.083333333332, width:0.041666666667879326\n"
     ]
    },
    {
     "data": {
      "text/plain": "<matplotlib.patches.Rectangle at 0x2a1baa2cb10>"
     },
     "execution_count": 13,
     "metadata": {},
     "output_type": "execute_result"
    },
    {
     "name": "stdout",
     "output_type": "stream",
     "text": [
      "index: 100 start:19209.125, width:0.041666666667879326\n"
     ]
    },
    {
     "data": {
      "text/plain": "<matplotlib.patches.Rectangle at 0x2a1baa2e510>"
     },
     "execution_count": 13,
     "metadata": {},
     "output_type": "execute_result"
    },
    {
     "name": "stdout",
     "output_type": "stream",
     "text": [
      "index: 101 start:19209.166666666668, width:0.04166666666424135\n"
     ]
    },
    {
     "data": {
      "text/plain": "<matplotlib.patches.Rectangle at 0x2a1baa2ee10>"
     },
     "execution_count": 13,
     "metadata": {},
     "output_type": "execute_result"
    },
    {
     "name": "stdout",
     "output_type": "stream",
     "text": [
      "index: 135 start:19210.583333333332, width:0.041666666667879326\n"
     ]
    },
    {
     "data": {
      "text/plain": "<matplotlib.patches.Rectangle at 0x2a1baa2f710>"
     },
     "execution_count": 13,
     "metadata": {},
     "output_type": "execute_result"
    },
    {
     "name": "stdout",
     "output_type": "stream",
     "text": [
      "index: 137 start:19210.666666666668, width:0.04166666666424135\n"
     ]
    },
    {
     "data": {
      "text/plain": "<matplotlib.patches.Rectangle at 0x2a1b9a1fc10>"
     },
     "execution_count": 13,
     "metadata": {},
     "output_type": "execute_result"
    },
    {
     "name": "stdout",
     "output_type": "stream",
     "text": [
      "index: 139 start:19210.75, width:0.041666666667879326\n"
     ]
    },
    {
     "data": {
      "text/plain": "<matplotlib.patches.Rectangle at 0x2a156feb810>"
     },
     "execution_count": 13,
     "metadata": {},
     "output_type": "execute_result"
    },
    {
     "name": "stdout",
     "output_type": "stream",
     "text": [
      "index: 146 start:19211.041666666668, width:0.04166666666424135\n"
     ]
    },
    {
     "data": {
      "text/plain": "<matplotlib.patches.Rectangle at 0x2a1b9a1d1d0>"
     },
     "execution_count": 13,
     "metadata": {},
     "output_type": "execute_result"
    },
    {
     "name": "stdout",
     "output_type": "stream",
     "text": [
      "index: 148 start:19211.125, width:0.041666666667879326\n"
     ]
    },
    {
     "data": {
      "text/plain": "<matplotlib.patches.Rectangle at 0x2a1b9a22f90>"
     },
     "execution_count": 13,
     "metadata": {},
     "output_type": "execute_result"
    },
    {
     "name": "stdout",
     "output_type": "stream",
     "text": [
      "index: 152 start:19211.291666666668, width:0.04166666666424135\n"
     ]
    },
    {
     "data": {
      "text/plain": "<matplotlib.patches.Rectangle at 0x2a1baa2e590>"
     },
     "execution_count": 13,
     "metadata": {},
     "output_type": "execute_result"
    },
    {
     "name": "stdout",
     "output_type": "stream",
     "text": [
      "index: 156 start:19211.458333333332, width:0.041666666667879326\n"
     ]
    },
    {
     "data": {
      "text/plain": "<matplotlib.patches.Rectangle at 0x2a1b9a21650>"
     },
     "execution_count": 13,
     "metadata": {},
     "output_type": "execute_result"
    },
    {
     "name": "stdout",
     "output_type": "stream",
     "text": [
      "index: 167 start:19211.916666666668, width:0.04166666666424135\n"
     ]
    },
    {
     "data": {
      "text/plain": "<matplotlib.patches.Rectangle at 0x2a1570e7710>"
     },
     "execution_count": 13,
     "metadata": {},
     "output_type": "execute_result"
    },
    {
     "name": "stdout",
     "output_type": "stream",
     "text": [
      "index: 169 start:19212.0, width:0.041666666667879326\n"
     ]
    },
    {
     "data": {
      "text/plain": "<matplotlib.patches.Rectangle at 0x2a1baa2e810>"
     },
     "execution_count": 13,
     "metadata": {},
     "output_type": "execute_result"
    },
    {
     "name": "stdout",
     "output_type": "stream",
     "text": [
      "index: 171 start:19212.083333333332, width:0.041666666667879326\n"
     ]
    },
    {
     "data": {
      "text/plain": "<matplotlib.patches.Rectangle at 0x2a1baa3dd50>"
     },
     "execution_count": 13,
     "metadata": {},
     "output_type": "execute_result"
    },
    {
     "name": "stdout",
     "output_type": "stream",
     "text": [
      "index: 172 start:19212.125, width:0.041666666667879326\n"
     ]
    },
    {
     "data": {
      "text/plain": "<matplotlib.patches.Rectangle at 0x2a1baa39a10>"
     },
     "execution_count": 13,
     "metadata": {},
     "output_type": "execute_result"
    },
    {
     "name": "stdout",
     "output_type": "stream",
     "text": [
      "index: 174 start:19212.208333333332, width:0.041666666667879326\n"
     ]
    },
    {
     "data": {
      "text/plain": "<matplotlib.patches.Rectangle at 0x2a1baa36510>"
     },
     "execution_count": 13,
     "metadata": {},
     "output_type": "execute_result"
    },
    {
     "name": "stdout",
     "output_type": "stream",
     "text": [
      "index: 175 start:19212.25, width:0.041666666667879326\n"
     ]
    },
    {
     "data": {
      "text/plain": "<matplotlib.patches.Rectangle at 0x2a1b9a3cbd0>"
     },
     "execution_count": 13,
     "metadata": {},
     "output_type": "execute_result"
    },
    {
     "name": "stdout",
     "output_type": "stream",
     "text": [
      "index: 176 start:19212.291666666668, width:0.04166666666424135\n"
     ]
    },
    {
     "data": {
      "text/plain": "<matplotlib.patches.Rectangle at 0x2a1baa38250>"
     },
     "execution_count": 13,
     "metadata": {},
     "output_type": "execute_result"
    },
    {
     "name": "stdout",
     "output_type": "stream",
     "text": [
      "index: 177 start:19212.333333333332, width:0.041666666667879326\n"
     ]
    },
    {
     "data": {
      "text/plain": "<matplotlib.patches.Rectangle at 0x2a1b9a3e4d0>"
     },
     "execution_count": 13,
     "metadata": {},
     "output_type": "execute_result"
    },
    {
     "name": "stdout",
     "output_type": "stream",
     "text": [
      "index: 178 start:19212.375, width:0.041666666667879326\n"
     ]
    },
    {
     "data": {
      "text/plain": "<matplotlib.patches.Rectangle at 0x2a1baa34750>"
     },
     "execution_count": 13,
     "metadata": {},
     "output_type": "execute_result"
    },
    {
     "name": "stdout",
     "output_type": "stream",
     "text": [
      "index: 179 start:19212.416666666668, width:0.04166666666424135\n"
     ]
    },
    {
     "data": {
      "text/plain": "<matplotlib.patches.Rectangle at 0x2a1b9a39390>"
     },
     "execution_count": 13,
     "metadata": {},
     "output_type": "execute_result"
    },
    {
     "name": "stdout",
     "output_type": "stream",
     "text": [
      "index: 180 start:19212.458333333332, width:0.041666666667879326\n"
     ]
    },
    {
     "data": {
      "text/plain": "<matplotlib.patches.Rectangle at 0x2a1baa37c10>"
     },
     "execution_count": 13,
     "metadata": {},
     "output_type": "execute_result"
    },
    {
     "name": "stdout",
     "output_type": "stream",
     "text": [
      "index: 181 start:19212.5, width:0.041666666667879326\n"
     ]
    },
    {
     "data": {
      "text/plain": "<matplotlib.patches.Rectangle at 0x2a1baa5a090>"
     },
     "execution_count": 13,
     "metadata": {},
     "output_type": "execute_result"
    },
    {
     "name": "stdout",
     "output_type": "stream",
     "text": [
      "index: 188 start:19212.791666666668, width:0.04166666666424135\n"
     ]
    },
    {
     "data": {
      "text/plain": "<matplotlib.patches.Rectangle at 0x2a1baa39090>"
     },
     "execution_count": 13,
     "metadata": {},
     "output_type": "execute_result"
    },
    {
     "name": "stdout",
     "output_type": "stream",
     "text": [
      "index: 195 start:19213.083333333332, width:0.041666666667879326\n"
     ]
    },
    {
     "data": {
      "text/plain": "<matplotlib.patches.Rectangle at 0x2a156fdec90>"
     },
     "execution_count": 13,
     "metadata": {},
     "output_type": "execute_result"
    },
    {
     "name": "stdout",
     "output_type": "stream",
     "text": [
      "index: 205 start:19213.5, width:0.041666666667879326\n"
     ]
    },
    {
     "data": {
      "text/plain": "<matplotlib.patches.Rectangle at 0x2a1b9a3ca50>"
     },
     "execution_count": 13,
     "metadata": {},
     "output_type": "execute_result"
    },
    {
     "name": "stdout",
     "output_type": "stream",
     "text": [
      "index: 206 start:19213.541666666668, width:0.04166666666424135\n"
     ]
    },
    {
     "data": {
      "text/plain": "<matplotlib.patches.Rectangle at 0x2a1b9a1d3d0>"
     },
     "execution_count": 13,
     "metadata": {},
     "output_type": "execute_result"
    },
    {
     "name": "stdout",
     "output_type": "stream",
     "text": [
      "index: 207 start:19213.583333333332, width:0.041666666667879326\n"
     ]
    },
    {
     "data": {
      "text/plain": "<matplotlib.patches.Rectangle at 0x2a1b9a39650>"
     },
     "execution_count": 13,
     "metadata": {},
     "output_type": "execute_result"
    },
    {
     "name": "stdout",
     "output_type": "stream",
     "text": [
      "index: 208 start:19213.625, width:0.041666666667879326\n"
     ]
    },
    {
     "data": {
      "text/plain": "<matplotlib.patches.Rectangle at 0x2a1573ec4d0>"
     },
     "execution_count": 13,
     "metadata": {},
     "output_type": "execute_result"
    },
    {
     "name": "stdout",
     "output_type": "stream",
     "text": [
      "index: 209 start:19213.666666666668, width:0.04166666666424135\n"
     ]
    },
    {
     "data": {
      "text/plain": "<matplotlib.patches.Rectangle at 0x2a1b9a1e190>"
     },
     "execution_count": 13,
     "metadata": {},
     "output_type": "execute_result"
    },
    {
     "name": "stdout",
     "output_type": "stream",
     "text": [
      "index: 210 start:19213.708333333332, width:0.041666666667879326\n"
     ]
    },
    {
     "data": {
      "text/plain": "<matplotlib.patches.Rectangle at 0x2a1b99d9550>"
     },
     "execution_count": 13,
     "metadata": {},
     "output_type": "execute_result"
    },
    {
     "name": "stdout",
     "output_type": "stream",
     "text": [
      "index: 211 start:19213.75, width:0.041666666667879326\n"
     ]
    },
    {
     "data": {
      "text/plain": "<matplotlib.patches.Rectangle at 0x2a1b9a1e9d0>"
     },
     "execution_count": 13,
     "metadata": {},
     "output_type": "execute_result"
    },
    {
     "name": "stdout",
     "output_type": "stream",
     "text": [
      "index: 212 start:19213.791666666668, width:0.04166666666424135\n"
     ]
    },
    {
     "data": {
      "text/plain": "<matplotlib.patches.Rectangle at 0x2a157247590>"
     },
     "execution_count": 13,
     "metadata": {},
     "output_type": "execute_result"
    },
    {
     "name": "stdout",
     "output_type": "stream",
     "text": [
      "index: 213 start:19213.833333333332, width:0.041666666667879326\n"
     ]
    },
    {
     "data": {
      "text/plain": "<matplotlib.patches.Rectangle at 0x2a15741f3d0>"
     },
     "execution_count": 13,
     "metadata": {},
     "output_type": "execute_result"
    },
    {
     "name": "stdout",
     "output_type": "stream",
     "text": [
      "index: 217 start:19214.0, width:0.041666666667879326\n"
     ]
    },
    {
     "data": {
      "text/plain": "<matplotlib.patches.Rectangle at 0x2a1baa3d0d0>"
     },
     "execution_count": 13,
     "metadata": {},
     "output_type": "execute_result"
    },
    {
     "name": "stdout",
     "output_type": "stream",
     "text": [
      "index: 219 start:19214.083333333332, width:0.041666666667879326\n"
     ]
    },
    {
     "data": {
      "text/plain": "<matplotlib.patches.Rectangle at 0x2a1b9a40310>"
     },
     "execution_count": 13,
     "metadata": {},
     "output_type": "execute_result"
    },
    {
     "name": "stdout",
     "output_type": "stream",
     "text": [
      "index: 238 start:19214.875, width:0.041666666667879326\n"
     ]
    },
    {
     "data": {
      "text/plain": "<matplotlib.patches.Rectangle at 0x2a157021090>"
     },
     "execution_count": 13,
     "metadata": {},
     "output_type": "execute_result"
    },
    {
     "name": "stdout",
     "output_type": "stream",
     "text": [
      "index: 239 start:19214.916666666668, width:0.04166666666424135\n"
     ]
    },
    {
     "data": {
      "text/plain": "<matplotlib.patches.Rectangle at 0x2a1b9940bd0>"
     },
     "execution_count": 13,
     "metadata": {},
     "output_type": "execute_result"
    },
    {
     "name": "stdout",
     "output_type": "stream",
     "text": [
      "index: 240 start:19214.958333333332, width:0.041666666667879326\n"
     ]
    },
    {
     "data": {
      "text/plain": "<matplotlib.patches.Rectangle at 0x2a1b997ae90>"
     },
     "execution_count": 13,
     "metadata": {},
     "output_type": "execute_result"
    },
    {
     "name": "stdout",
     "output_type": "stream",
     "text": [
      "index: 241 start:19215.0, width:0.041666666667879326\n"
     ]
    },
    {
     "data": {
      "text/plain": "<matplotlib.patches.Rectangle at 0x2a1b9a3a9d0>"
     },
     "execution_count": 13,
     "metadata": {},
     "output_type": "execute_result"
    },
    {
     "name": "stdout",
     "output_type": "stream",
     "text": [
      "index: 242 start:19215.041666666668, width:0.04166666666424135\n"
     ]
    },
    {
     "data": {
      "text/plain": "<matplotlib.patches.Rectangle at 0x2a1b9a43890>"
     },
     "execution_count": 13,
     "metadata": {},
     "output_type": "execute_result"
    },
    {
     "name": "stdout",
     "output_type": "stream",
     "text": [
      "index: 243 start:19215.083333333332, width:0.041666666667879326\n"
     ]
    },
    {
     "data": {
      "text/plain": "<matplotlib.patches.Rectangle at 0x2a1baa66550>"
     },
     "execution_count": 13,
     "metadata": {},
     "output_type": "execute_result"
    },
    {
     "name": "stdout",
     "output_type": "stream",
     "text": [
      "index: 244 start:19215.125, width:0.041666666667879326\n"
     ]
    },
    {
     "data": {
      "text/plain": "<matplotlib.patches.Rectangle at 0x2a157f94250>"
     },
     "execution_count": 13,
     "metadata": {},
     "output_type": "execute_result"
    },
    {
     "name": "stdout",
     "output_type": "stream",
     "text": [
      "index: 245 start:19215.166666666668, width:0.04166666666424135\n"
     ]
    },
    {
     "data": {
      "text/plain": "<matplotlib.patches.Rectangle at 0x2a1baa67d50>"
     },
     "execution_count": 13,
     "metadata": {},
     "output_type": "execute_result"
    },
    {
     "name": "stdout",
     "output_type": "stream",
     "text": [
      "index: 253 start:19215.5, width:0.041666666667879326\n"
     ]
    },
    {
     "data": {
      "text/plain": "<matplotlib.patches.Rectangle at 0x2a1b9a3aa10>"
     },
     "execution_count": 13,
     "metadata": {},
     "output_type": "execute_result"
    },
    {
     "name": "stdout",
     "output_type": "stream",
     "text": [
      "index: 262 start:19215.875, width:0.041666666667879326\n"
     ]
    },
    {
     "data": {
      "text/plain": "<matplotlib.patches.Rectangle at 0x2a1573b8310>"
     },
     "execution_count": 13,
     "metadata": {},
     "output_type": "execute_result"
    },
    {
     "name": "stdout",
     "output_type": "stream",
     "text": [
      "index: 263 start:19215.916666666668, width:0.04166666666424135\n"
     ]
    },
    {
     "data": {
      "text/plain": "<matplotlib.patches.Rectangle at 0x2a15738a9d0>"
     },
     "execution_count": 13,
     "metadata": {},
     "output_type": "execute_result"
    },
    {
     "name": "stdout",
     "output_type": "stream",
     "text": [
      "index: 264 start:19215.958333333332, width:0.041666666667879326\n"
     ]
    },
    {
     "data": {
      "text/plain": "<matplotlib.patches.Rectangle at 0x2a157475290>"
     },
     "execution_count": 13,
     "metadata": {},
     "output_type": "execute_result"
    },
    {
     "name": "stdout",
     "output_type": "stream",
     "text": [
      "index: 265 start:19216.0, width:0.041666666667879326\n"
     ]
    },
    {
     "data": {
      "text/plain": "<matplotlib.patches.Rectangle at 0x2a157370190>"
     },
     "execution_count": 13,
     "metadata": {},
     "output_type": "execute_result"
    },
    {
     "name": "stdout",
     "output_type": "stream",
     "text": [
      "index: 266 start:19216.041666666668, width:0.04166666666424135\n"
     ]
    },
    {
     "data": {
      "text/plain": "<matplotlib.patches.Rectangle at 0x2a157349510>"
     },
     "execution_count": 13,
     "metadata": {},
     "output_type": "execute_result"
    },
    {
     "name": "stdout",
     "output_type": "stream",
     "text": [
      "index: 267 start:19216.083333333332, width:0.041666666667879326\n"
     ]
    },
    {
     "data": {
      "text/plain": "<matplotlib.patches.Rectangle at 0x2a1b9a3c1d0>"
     },
     "execution_count": 13,
     "metadata": {},
     "output_type": "execute_result"
    },
    {
     "name": "stdout",
     "output_type": "stream",
     "text": [
      "index: 268 start:19216.125, width:0.041666666667879326\n"
     ]
    },
    {
     "data": {
      "text/plain": "<matplotlib.patches.Rectangle at 0x2a1571fb2d0>"
     },
     "execution_count": 13,
     "metadata": {},
     "output_type": "execute_result"
    },
    {
     "name": "stdout",
     "output_type": "stream",
     "text": [
      "index: 269 start:19216.166666666668, width:0.04166666666424135\n"
     ]
    },
    {
     "data": {
      "text/plain": "<matplotlib.patches.Rectangle at 0x2a1b9a1f550>"
     },
     "execution_count": 13,
     "metadata": {},
     "output_type": "execute_result"
    },
    {
     "name": "stdout",
     "output_type": "stream",
     "text": [
      "index: 280 start:19216.625, width:0.041666666667879326\n"
     ]
    },
    {
     "data": {
      "text/plain": "<matplotlib.patches.Rectangle at 0x2a15706bb90>"
     },
     "execution_count": 13,
     "metadata": {},
     "output_type": "execute_result"
    },
    {
     "name": "stdout",
     "output_type": "stream",
     "text": [
      "index: 281 start:19216.666666666668, width:0.04166666666424135\n"
     ]
    },
    {
     "data": {
      "text/plain": "<matplotlib.patches.Rectangle at 0x2a15706b950>"
     },
     "execution_count": 13,
     "metadata": {},
     "output_type": "execute_result"
    },
    {
     "name": "stdout",
     "output_type": "stream",
     "text": [
      "index: 282 start:19216.708333333332, width:0.041666666667879326\n"
     ]
    },
    {
     "data": {
      "text/plain": "<matplotlib.patches.Rectangle at 0x2a1b9a3bc10>"
     },
     "execution_count": 13,
     "metadata": {},
     "output_type": "execute_result"
    },
    {
     "name": "stdout",
     "output_type": "stream",
     "text": [
      "index: 283 start:19216.75, width:0.041666666667879326\n"
     ]
    },
    {
     "data": {
      "text/plain": "<matplotlib.patches.Rectangle at 0x2a123fbb310>"
     },
     "execution_count": 13,
     "metadata": {},
     "output_type": "execute_result"
    },
    {
     "name": "stdout",
     "output_type": "stream",
     "text": [
      "index: 284 start:19216.791666666668, width:0.04166666666424135\n"
     ]
    },
    {
     "data": {
      "text/plain": "<matplotlib.patches.Rectangle at 0x2a15733bc10>"
     },
     "execution_count": 13,
     "metadata": {},
     "output_type": "execute_result"
    },
    {
     "name": "stdout",
     "output_type": "stream",
     "text": [
      "index: 303 start:19217.583333333332, width:0.041666666667879326\n"
     ]
    },
    {
     "data": {
      "text/plain": "<matplotlib.patches.Rectangle at 0x2a15719d190>"
     },
     "execution_count": 13,
     "metadata": {},
     "output_type": "execute_result"
    },
    {
     "name": "stdout",
     "output_type": "stream",
     "text": [
      "index: 305 start:19217.666666666668, width:0.04166666666424135\n"
     ]
    },
    {
     "data": {
      "text/plain": "<matplotlib.patches.Rectangle at 0x2a1baa71610>"
     },
     "execution_count": 13,
     "metadata": {},
     "output_type": "execute_result"
    },
    {
     "name": "stdout",
     "output_type": "stream",
     "text": [
      "index: 307 start:19217.75, width:0.041666666667879326\n"
     ]
    },
    {
     "data": {
      "text/plain": "<matplotlib.patches.Rectangle at 0x2a1b9a3bb10>"
     },
     "execution_count": 13,
     "metadata": {},
     "output_type": "execute_result"
    },
    {
     "name": "stdout",
     "output_type": "stream",
     "text": [
      "index: 314 start:19218.041666666668, width:0.04166666666424135\n"
     ]
    },
    {
     "data": {
      "text/plain": "<matplotlib.patches.Rectangle at 0x2a123fbac50>"
     },
     "execution_count": 13,
     "metadata": {},
     "output_type": "execute_result"
    },
    {
     "name": "stdout",
     "output_type": "stream",
     "text": [
      "index: 316 start:19218.125, width:0.041666666667879326\n"
     ]
    },
    {
     "data": {
      "text/plain": "<matplotlib.patches.Rectangle at 0x2a15720fe90>"
     },
     "execution_count": 13,
     "metadata": {},
     "output_type": "execute_result"
    },
    {
     "name": "stdout",
     "output_type": "stream",
     "text": [
      "index: 330 start:19218.708333333332, width:0.041666666667879326\n"
     ]
    },
    {
     "data": {
      "text/plain": "<matplotlib.patches.Rectangle at 0x2a1b99db4d0>"
     },
     "execution_count": 13,
     "metadata": {},
     "output_type": "execute_result"
    },
    {
     "name": "stdout",
     "output_type": "stream",
     "text": [
      "index: 332 start:19218.791666666668, width:0.04166666666424135\n"
     ]
    },
    {
     "data": {
      "text/plain": "<matplotlib.patches.Rectangle at 0x2a1baa73c10>"
     },
     "execution_count": 13,
     "metadata": {},
     "output_type": "execute_result"
    },
    {
     "name": "stdout",
     "output_type": "stream",
     "text": [
      "index: 335 start:19218.916666666668, width:0.04166666666424135\n"
     ]
    },
    {
     "data": {
      "text/plain": "<matplotlib.patches.Rectangle at 0x2a1baa67c50>"
     },
     "execution_count": 13,
     "metadata": {},
     "output_type": "execute_result"
    },
    {
     "name": "stdout",
     "output_type": "stream",
     "text": [
      "index: 337 start:19219.0, width:0.041666666667879326\n"
     ]
    },
    {
     "data": {
      "text/plain": "<matplotlib.patches.Rectangle at 0x2a1b997b1d0>"
     },
     "execution_count": 13,
     "metadata": {},
     "output_type": "execute_result"
    },
    {
     "name": "stdout",
     "output_type": "stream",
     "text": [
      "index: 339 start:19219.083333333332, width:0.041666666667879326\n"
     ]
    },
    {
     "data": {
      "text/plain": "<matplotlib.patches.Rectangle at 0x2a1baa71190>"
     },
     "execution_count": 13,
     "metadata": {},
     "output_type": "execute_result"
    },
    {
     "name": "stdout",
     "output_type": "stream",
     "text": [
      "index: 340 start:19219.125, width:0.041666666667879326\n"
     ]
    },
    {
     "data": {
      "text/plain": "<matplotlib.patches.Rectangle at 0x2a1baa72f10>"
     },
     "execution_count": 13,
     "metadata": {},
     "output_type": "execute_result"
    },
    {
     "name": "stdout",
     "output_type": "stream",
     "text": [
      "index: 342 start:19219.208333333332, width:0.041666666667879326\n"
     ]
    },
    {
     "data": {
      "text/plain": "<matplotlib.patches.Rectangle at 0x2a1baa73d50>"
     },
     "execution_count": 13,
     "metadata": {},
     "output_type": "execute_result"
    },
    {
     "name": "stdout",
     "output_type": "stream",
     "text": [
      "index: 343 start:19219.25, width:0.041666666667879326\n"
     ]
    },
    {
     "data": {
      "text/plain": "<matplotlib.patches.Rectangle at 0x2a1baa2fe90>"
     },
     "execution_count": 13,
     "metadata": {},
     "output_type": "execute_result"
    },
    {
     "name": "stdout",
     "output_type": "stream",
     "text": [
      "index: 344 start:19219.291666666668, width:0.04166666666424135\n"
     ]
    },
    {
     "data": {
      "text/plain": "<matplotlib.patches.Rectangle at 0x2a1baa3f710>"
     },
     "execution_count": 13,
     "metadata": {},
     "output_type": "execute_result"
    },
    {
     "name": "stdout",
     "output_type": "stream",
     "text": [
      "index: 345 start:19219.333333333332, width:0.041666666667879326\n"
     ]
    },
    {
     "data": {
      "text/plain": "<matplotlib.patches.Rectangle at 0x2a15730bdd0>"
     },
     "execution_count": 13,
     "metadata": {},
     "output_type": "execute_result"
    },
    {
     "name": "stdout",
     "output_type": "stream",
     "text": [
      "index: 346 start:19219.375, width:0.041666666667879326\n"
     ]
    },
    {
     "data": {
      "text/plain": "<matplotlib.patches.Rectangle at 0x2a1baa975d0>"
     },
     "execution_count": 13,
     "metadata": {},
     "output_type": "execute_result"
    },
    {
     "name": "stdout",
     "output_type": "stream",
     "text": [
      "index: 347 start:19219.416666666668, width:0.04166666666424135\n"
     ]
    },
    {
     "data": {
      "text/plain": "<matplotlib.patches.Rectangle at 0x2a1baa34c90>"
     },
     "execution_count": 13,
     "metadata": {},
     "output_type": "execute_result"
    },
    {
     "name": "stdout",
     "output_type": "stream",
     "text": [
      "index: 348 start:19219.458333333332, width:0.041666666667879326\n"
     ]
    },
    {
     "data": {
      "text/plain": "<matplotlib.patches.Rectangle at 0x2a1baa962d0>"
     },
     "execution_count": 13,
     "metadata": {},
     "output_type": "execute_result"
    },
    {
     "name": "stdout",
     "output_type": "stream",
     "text": [
      "index: 349 start:19219.5, width:0.041666666667879326\n"
     ]
    },
    {
     "data": {
      "text/plain": "<matplotlib.patches.Rectangle at 0x2a1baa3fd10>"
     },
     "execution_count": 13,
     "metadata": {},
     "output_type": "execute_result"
    },
    {
     "name": "stdout",
     "output_type": "stream",
     "text": [
      "index: 354 start:19219.708333333332, width:0.041666666667879326\n"
     ]
    },
    {
     "data": {
      "text/plain": "<matplotlib.patches.Rectangle at 0x2a1baa2f850>"
     },
     "execution_count": 13,
     "metadata": {},
     "output_type": "execute_result"
    },
    {
     "name": "stdout",
     "output_type": "stream",
     "text": [
      "index: 356 start:19219.791666666668, width:0.04166666666424135\n"
     ]
    },
    {
     "data": {
      "text/plain": "<matplotlib.patches.Rectangle at 0x2a1b9a23f90>"
     },
     "execution_count": 13,
     "metadata": {},
     "output_type": "execute_result"
    },
    {
     "name": "stdout",
     "output_type": "stream",
     "text": [
      "index: 362 start:19220.041666666668, width:0.04166666666424135\n"
     ]
    },
    {
     "data": {
      "text/plain": "<matplotlib.patches.Rectangle at 0x2a1b9a22a10>"
     },
     "execution_count": 13,
     "metadata": {},
     "output_type": "execute_result"
    },
    {
     "name": "stdout",
     "output_type": "stream",
     "text": [
      "index: 374 start:19220.541666666668, width:0.04166666666424135\n"
     ]
    },
    {
     "data": {
      "text/plain": "<matplotlib.patches.Rectangle at 0x2a1baaadbd0>"
     },
     "execution_count": 13,
     "metadata": {},
     "output_type": "execute_result"
    },
    {
     "name": "stdout",
     "output_type": "stream",
     "text": [
      "index: 375 start:19220.583333333332, width:0.041666666667879326\n"
     ]
    },
    {
     "data": {
      "text/plain": "<matplotlib.patches.Rectangle at 0x2a1baaa2610>"
     },
     "execution_count": 13,
     "metadata": {},
     "output_type": "execute_result"
    },
    {
     "name": "stdout",
     "output_type": "stream",
     "text": [
      "index: 376 start:19220.625, width:0.041666666667879326\n"
     ]
    },
    {
     "data": {
      "text/plain": "<matplotlib.patches.Rectangle at 0x2a1baa3ed10>"
     },
     "execution_count": 13,
     "metadata": {},
     "output_type": "execute_result"
    },
    {
     "name": "stdout",
     "output_type": "stream",
     "text": [
      "index: 377 start:19220.666666666668, width:0.04166666666424135\n"
     ]
    },
    {
     "data": {
      "text/plain": "<matplotlib.patches.Rectangle at 0x2a1b9812910>"
     },
     "execution_count": 13,
     "metadata": {},
     "output_type": "execute_result"
    },
    {
     "name": "stdout",
     "output_type": "stream",
     "text": [
      "index: 378 start:19220.708333333332, width:0.041666666667879326\n"
     ]
    },
    {
     "data": {
      "text/plain": "<matplotlib.patches.Rectangle at 0x2a157073250>"
     },
     "execution_count": 13,
     "metadata": {},
     "output_type": "execute_result"
    },
    {
     "name": "stdout",
     "output_type": "stream",
     "text": [
      "index: 379 start:19220.75, width:0.041666666667879326\n"
     ]
    },
    {
     "data": {
      "text/plain": "<matplotlib.patches.Rectangle at 0x2a1baabf690>"
     },
     "execution_count": 13,
     "metadata": {},
     "output_type": "execute_result"
    },
    {
     "name": "stdout",
     "output_type": "stream",
     "text": [
      "index: 380 start:19220.791666666668, width:0.04166666666424135\n"
     ]
    },
    {
     "data": {
      "text/plain": "<matplotlib.patches.Rectangle at 0x2a1571fbc50>"
     },
     "execution_count": 13,
     "metadata": {},
     "output_type": "execute_result"
    },
    {
     "name": "stdout",
     "output_type": "stream",
     "text": [
      "index: 381 start:19220.833333333332, width:0.041666666667879326\n"
     ]
    },
    {
     "data": {
      "text/plain": "<matplotlib.patches.Rectangle at 0x2a1baa65a50>"
     },
     "execution_count": 13,
     "metadata": {},
     "output_type": "execute_result"
    },
    {
     "name": "stdout",
     "output_type": "stream",
     "text": [
      "index: 385 start:19221.0, width:0.041666666667879326\n"
     ]
    },
    {
     "data": {
      "text/plain": "<matplotlib.patches.Rectangle at 0x2a1baa97e90>"
     },
     "execution_count": 13,
     "metadata": {},
     "output_type": "execute_result"
    },
    {
     "name": "stdout",
     "output_type": "stream",
     "text": [
      "index: 386 start:19221.041666666668, width:0.04166666666424135\n"
     ]
    },
    {
     "data": {
      "text/plain": "<matplotlib.patches.Rectangle at 0x2a1baabea10>"
     },
     "execution_count": 13,
     "metadata": {},
     "output_type": "execute_result"
    },
    {
     "name": "stdout",
     "output_type": "stream",
     "text": [
      "index: 387 start:19221.083333333332, width:0.041666666667879326\n"
     ]
    },
    {
     "data": {
      "text/plain": "<matplotlib.patches.Rectangle at 0x2a1baaada10>"
     },
     "execution_count": 13,
     "metadata": {},
     "output_type": "execute_result"
    },
    {
     "name": "stdout",
     "output_type": "stream",
     "text": [
      "index: 388 start:19221.125, width:0.041666666667879326\n"
     ]
    },
    {
     "data": {
      "text/plain": "<matplotlib.patches.Rectangle at 0x2a157005850>"
     },
     "execution_count": 13,
     "metadata": {},
     "output_type": "execute_result"
    },
    {
     "name": "stdout",
     "output_type": "stream",
     "text": [
      "index: 406 start:19221.875, width:0.041666666667879326\n"
     ]
    },
    {
     "data": {
      "text/plain": "<matplotlib.patches.Rectangle at 0x2a1baa97410>"
     },
     "execution_count": 13,
     "metadata": {},
     "output_type": "execute_result"
    },
    {
     "name": "stdout",
     "output_type": "stream",
     "text": [
      "index: 407 start:19221.916666666668, width:0.04166666666424135\n"
     ]
    },
    {
     "data": {
      "text/plain": "<matplotlib.patches.Rectangle at 0x2a1baa37b50>"
     },
     "execution_count": 13,
     "metadata": {},
     "output_type": "execute_result"
    },
    {
     "name": "stdout",
     "output_type": "stream",
     "text": [
      "index: 408 start:19221.958333333332, width:0.041666666667879326\n"
     ]
    },
    {
     "data": {
      "text/plain": "<matplotlib.patches.Rectangle at 0x2a1baac5490>"
     },
     "execution_count": 13,
     "metadata": {},
     "output_type": "execute_result"
    },
    {
     "name": "stdout",
     "output_type": "stream",
     "text": [
      "index: 409 start:19222.0, width:0.041666666667879326\n"
     ]
    },
    {
     "data": {
      "text/plain": "<matplotlib.patches.Rectangle at 0x2a1baa94710>"
     },
     "execution_count": 13,
     "metadata": {},
     "output_type": "execute_result"
    },
    {
     "name": "stdout",
     "output_type": "stream",
     "text": [
      "index: 410 start:19222.041666666668, width:0.04166666666424135\n"
     ]
    },
    {
     "data": {
      "text/plain": "<matplotlib.patches.Rectangle at 0x2a1baa66610>"
     },
     "execution_count": 13,
     "metadata": {},
     "output_type": "execute_result"
    },
    {
     "name": "stdout",
     "output_type": "stream",
     "text": [
      "index: 411 start:19222.083333333332, width:0.041666666667879326\n"
     ]
    },
    {
     "data": {
      "text/plain": "<matplotlib.patches.Rectangle at 0x2a1baaad1d0>"
     },
     "execution_count": 13,
     "metadata": {},
     "output_type": "execute_result"
    },
    {
     "name": "stdout",
     "output_type": "stream",
     "text": [
      "index: 412 start:19222.125, width:0.041666666667879326\n"
     ]
    },
    {
     "data": {
      "text/plain": "<matplotlib.patches.Rectangle at 0x2a1b9a1fd10>"
     },
     "execution_count": 13,
     "metadata": {},
     "output_type": "execute_result"
    },
    {
     "name": "stdout",
     "output_type": "stream",
     "text": [
      "index: 413 start:19222.166666666668, width:0.04166666666424135\n"
     ]
    },
    {
     "data": {
      "text/plain": "<matplotlib.patches.Rectangle at 0x2a1baaa3f50>"
     },
     "execution_count": 13,
     "metadata": {},
     "output_type": "execute_result"
    },
    {
     "name": "stdout",
     "output_type": "stream",
     "text": [
      "index: 430 start:19222.875, width:0.041666666667879326\n"
     ]
    },
    {
     "data": {
      "text/plain": "<matplotlib.patches.Rectangle at 0x2a13b96f290>"
     },
     "execution_count": 13,
     "metadata": {},
     "output_type": "execute_result"
    },
    {
     "name": "stdout",
     "output_type": "stream",
     "text": [
      "index: 431 start:19222.916666666668, width:0.04166666666424135\n"
     ]
    },
    {
     "data": {
      "text/plain": "<matplotlib.patches.Rectangle at 0x2a1baa65690>"
     },
     "execution_count": 13,
     "metadata": {},
     "output_type": "execute_result"
    },
    {
     "name": "stdout",
     "output_type": "stream",
     "text": [
      "index: 432 start:19222.958333333332, width:0.041666666667879326\n"
     ]
    },
    {
     "data": {
      "text/plain": "<matplotlib.patches.Rectangle at 0x2a1baaad250>"
     },
     "execution_count": 13,
     "metadata": {},
     "output_type": "execute_result"
    },
    {
     "name": "stdout",
     "output_type": "stream",
     "text": [
      "index: 433 start:19223.0, width:0.041666666667879326\n"
     ]
    },
    {
     "data": {
      "text/plain": "<matplotlib.patches.Rectangle at 0x2a15730a0d0>"
     },
     "execution_count": 13,
     "metadata": {},
     "output_type": "execute_result"
    },
    {
     "name": "stdout",
     "output_type": "stream",
     "text": [
      "index: 434 start:19223.041666666668, width:0.04166666666424135\n"
     ]
    },
    {
     "data": {
      "text/plain": "<matplotlib.patches.Rectangle at 0x2a1baa3d590>"
     },
     "execution_count": 13,
     "metadata": {},
     "output_type": "execute_result"
    },
    {
     "name": "stdout",
     "output_type": "stream",
     "text": [
      "index: 435 start:19223.083333333332, width:0.041666666667879326\n"
     ]
    },
    {
     "data": {
      "text/plain": "<matplotlib.patches.Rectangle at 0x2a1b9a1e610>"
     },
     "execution_count": 13,
     "metadata": {},
     "output_type": "execute_result"
    },
    {
     "name": "stdout",
     "output_type": "stream",
     "text": [
      "index: 436 start:19223.125, width:0.041666666667879326\n"
     ]
    },
    {
     "data": {
      "text/plain": "<matplotlib.patches.Rectangle at 0x2a1baa65ed0>"
     },
     "execution_count": 13,
     "metadata": {},
     "output_type": "execute_result"
    },
    {
     "name": "stdout",
     "output_type": "stream",
     "text": [
      "index: 437 start:19223.166666666668, width:0.04166666666424135\n"
     ]
    },
    {
     "data": {
      "text/plain": "<matplotlib.patches.Rectangle at 0x2a1baad7e50>"
     },
     "execution_count": 13,
     "metadata": {},
     "output_type": "execute_result"
    },
    {
     "name": "stdout",
     "output_type": "stream",
     "text": [
      "index: 473 start:19224.666666666668, width:0.04166666666424135\n"
     ]
    },
    {
     "data": {
      "text/plain": "<matplotlib.patches.Rectangle at 0x2a1baaadc90>"
     },
     "execution_count": 13,
     "metadata": {},
     "output_type": "execute_result"
    },
    {
     "name": "stdout",
     "output_type": "stream",
     "text": [
      "index: 475 start:19224.75, width:0.041666666667879326\n"
     ]
    },
    {
     "data": {
      "text/plain": "<matplotlib.patches.Rectangle at 0x2a1571db690>"
     },
     "execution_count": 13,
     "metadata": {},
     "output_type": "execute_result"
    },
    {
     "name": "stdout",
     "output_type": "stream",
     "text": [
      "index: 476 start:19224.791666666668, width:0.04166666666424135\n"
     ]
    },
    {
     "data": {
      "text/plain": "<matplotlib.patches.Rectangle at 0x2a1baa3dfd0>"
     },
     "execution_count": 13,
     "metadata": {},
     "output_type": "execute_result"
    },
    {
     "name": "stdout",
     "output_type": "stream",
     "text": [
      "index: 477 start:19224.833333333332, width:0.041666666667879326\n"
     ]
    },
    {
     "data": {
      "text/plain": "<matplotlib.patches.Rectangle at 0x2a1b9943310>"
     },
     "execution_count": 13,
     "metadata": {},
     "output_type": "execute_result"
    },
    {
     "name": "stdout",
     "output_type": "stream",
     "text": [
      "index: 482 start:19225.041666666668, width:0.04166666666424135\n"
     ]
    },
    {
     "data": {
      "text/plain": "<matplotlib.patches.Rectangle at 0x2a1baae7690>"
     },
     "execution_count": 13,
     "metadata": {},
     "output_type": "execute_result"
    },
    {
     "name": "stdout",
     "output_type": "stream",
     "text": [
      "index: 484 start:19225.125, width:0.041666666667879326\n"
     ]
    },
    {
     "data": {
      "text/plain": "<matplotlib.patches.Rectangle at 0x2a1baabda50>"
     },
     "execution_count": 13,
     "metadata": {},
     "output_type": "execute_result"
    },
    {
     "name": "stdout",
     "output_type": "stream",
     "text": [
      "index: 488 start:19225.291666666668, width:0.04166666666424135\n"
     ]
    },
    {
     "data": {
      "text/plain": "<matplotlib.patches.Rectangle at 0x2a1baa95050>"
     },
     "execution_count": 13,
     "metadata": {},
     "output_type": "execute_result"
    },
    {
     "name": "stdout",
     "output_type": "stream",
     "text": [
      "index: 491 start:19225.416666666668, width:0.04166666666424135\n"
     ]
    },
    {
     "data": {
      "text/plain": "<matplotlib.patches.Rectangle at 0x2a1baad74d0>"
     },
     "execution_count": 13,
     "metadata": {},
     "output_type": "execute_result"
    },
    {
     "name": "stdout",
     "output_type": "stream",
     "text": [
      "index: 503 start:19225.916666666668, width:0.04166666666424135\n"
     ]
    },
    {
     "data": {
      "text/plain": "<matplotlib.patches.Rectangle at 0x2a1baaf0fd0>"
     },
     "execution_count": 13,
     "metadata": {},
     "output_type": "execute_result"
    },
    {
     "name": "stdout",
     "output_type": "stream",
     "text": [
      "index: 505 start:19226.0, width:0.041666666667879326\n"
     ]
    },
    {
     "data": {
      "text/plain": "<matplotlib.patches.Rectangle at 0x2a15701d150>"
     },
     "execution_count": 13,
     "metadata": {},
     "output_type": "execute_result"
    },
    {
     "name": "stdout",
     "output_type": "stream",
     "text": [
      "index: 508 start:19226.125, width:0.041666666667879326\n"
     ]
    },
    {
     "data": {
      "text/plain": "<matplotlib.patches.Rectangle at 0x2a1b9a3b910>"
     },
     "execution_count": 13,
     "metadata": {},
     "output_type": "execute_result"
    },
    {
     "name": "stdout",
     "output_type": "stream",
     "text": [
      "index: 510 start:19226.208333333332, width:0.041666666667879326\n"
     ]
    },
    {
     "data": {
      "text/plain": "<matplotlib.patches.Rectangle at 0x2a1b9979190>"
     },
     "execution_count": 13,
     "metadata": {},
     "output_type": "execute_result"
    },
    {
     "name": "stdout",
     "output_type": "stream",
     "text": [
      "index: 511 start:19226.25, width:0.041666666667879326\n"
     ]
    },
    {
     "data": {
      "text/plain": "<matplotlib.patches.Rectangle at 0x2a123fb99d0>"
     },
     "execution_count": 13,
     "metadata": {},
     "output_type": "execute_result"
    },
    {
     "name": "stdout",
     "output_type": "stream",
     "text": [
      "index: 512 start:19226.291666666668, width:0.04166666666424135\n"
     ]
    },
    {
     "data": {
      "text/plain": "<matplotlib.patches.Rectangle at 0x2a123fba1d0>"
     },
     "execution_count": 13,
     "metadata": {},
     "output_type": "execute_result"
    },
    {
     "name": "stdout",
     "output_type": "stream",
     "text": [
      "index: 513 start:19226.333333333332, width:0.041666666667879326\n"
     ]
    },
    {
     "data": {
      "text/plain": "<matplotlib.patches.Rectangle at 0x2a1baa37650>"
     },
     "execution_count": 13,
     "metadata": {},
     "output_type": "execute_result"
    },
    {
     "name": "stdout",
     "output_type": "stream",
     "text": [
      "index: 514 start:19226.375, width:0.041666666667879326\n"
     ]
    },
    {
     "data": {
      "text/plain": "<matplotlib.patches.Rectangle at 0x2a1b9a39010>"
     },
     "execution_count": 13,
     "metadata": {},
     "output_type": "execute_result"
    },
    {
     "name": "stdout",
     "output_type": "stream",
     "text": [
      "index: 515 start:19226.416666666668, width:0.04166666666424135\n"
     ]
    },
    {
     "data": {
      "text/plain": "<matplotlib.patches.Rectangle at 0x2a1baa35850>"
     },
     "execution_count": 13,
     "metadata": {},
     "output_type": "execute_result"
    },
    {
     "name": "stdout",
     "output_type": "stream",
     "text": [
      "index: 516 start:19226.458333333332, width:0.041666666667879326\n"
     ]
    },
    {
     "data": {
      "text/plain": "<matplotlib.patches.Rectangle at 0x2a1571f39d0>"
     },
     "execution_count": 13,
     "metadata": {},
     "output_type": "execute_result"
    },
    {
     "name": "stdout",
     "output_type": "stream",
     "text": [
      "index: 517 start:19226.5, width:0.041666666667879326\n"
     ]
    },
    {
     "data": {
      "text/plain": "<matplotlib.patches.Rectangle at 0x2a1b9a1d410>"
     },
     "execution_count": 13,
     "metadata": {},
     "output_type": "execute_result"
    },
    {
     "name": "stdout",
     "output_type": "stream",
     "text": [
      "index: 520 start:19226.625, width:0.041666666667879326\n"
     ]
    },
    {
     "data": {
      "text/plain": "<matplotlib.patches.Rectangle at 0x2a1bab04650>"
     },
     "execution_count": 13,
     "metadata": {},
     "output_type": "execute_result"
    },
    {
     "name": "stdout",
     "output_type": "stream",
     "text": [
      "index: 530 start:19227.041666666668, width:0.04166666666424135\n"
     ]
    },
    {
     "data": {
      "text/plain": "<matplotlib.patches.Rectangle at 0x2a1baaafe90>"
     },
     "execution_count": 13,
     "metadata": {},
     "output_type": "execute_result"
    },
    {
     "name": "stdout",
     "output_type": "stream",
     "text": [
      "index: 542 start:19227.541666666668, width:0.04166666666424135\n"
     ]
    },
    {
     "data": {
      "text/plain": "<matplotlib.patches.Rectangle at 0x2a1baaffb10>"
     },
     "execution_count": 13,
     "metadata": {},
     "output_type": "execute_result"
    },
    {
     "name": "stdout",
     "output_type": "stream",
     "text": [
      "index: 543 start:19227.583333333332, width:0.041666666667879326\n"
     ]
    },
    {
     "data": {
      "text/plain": "<matplotlib.patches.Rectangle at 0x2a1baaffed0>"
     },
     "execution_count": 13,
     "metadata": {},
     "output_type": "execute_result"
    },
    {
     "name": "stdout",
     "output_type": "stream",
     "text": [
      "index: 544 start:19227.625, width:0.041666666667879326\n"
     ]
    },
    {
     "data": {
      "text/plain": "<matplotlib.patches.Rectangle at 0x2a15706b1d0>"
     },
     "execution_count": 13,
     "metadata": {},
     "output_type": "execute_result"
    },
    {
     "name": "stdout",
     "output_type": "stream",
     "text": [
      "index: 545 start:19227.666666666668, width:0.04166666666424135\n"
     ]
    },
    {
     "data": {
      "text/plain": "<matplotlib.patches.Rectangle at 0x2a1b9a3f090>"
     },
     "execution_count": 13,
     "metadata": {},
     "output_type": "execute_result"
    },
    {
     "name": "stdout",
     "output_type": "stream",
     "text": [
      "index: 546 start:19227.708333333332, width:0.041666666667879326\n"
     ]
    },
    {
     "data": {
      "text/plain": "<matplotlib.patches.Rectangle at 0x2a1b9a1f690>"
     },
     "execution_count": 13,
     "metadata": {},
     "output_type": "execute_result"
    },
    {
     "name": "stdout",
     "output_type": "stream",
     "text": [
      "index: 547 start:19227.75, width:0.041666666667879326\n"
     ]
    },
    {
     "data": {
      "text/plain": "<matplotlib.patches.Rectangle at 0x2a1bab07bd0>"
     },
     "execution_count": 13,
     "metadata": {},
     "output_type": "execute_result"
    },
    {
     "name": "stdout",
     "output_type": "stream",
     "text": [
      "index: 548 start:19227.791666666668, width:0.04166666666424135\n"
     ]
    },
    {
     "data": {
      "text/plain": "<matplotlib.patches.Rectangle at 0x2a1baae73d0>"
     },
     "execution_count": 13,
     "metadata": {},
     "output_type": "execute_result"
    },
    {
     "name": "stdout",
     "output_type": "stream",
     "text": [
      "index: 549 start:19227.833333333332, width:0.041666666667879326\n"
     ]
    },
    {
     "data": {
      "text/plain": "<matplotlib.patches.Rectangle at 0x2a1baae71d0>"
     },
     "execution_count": 13,
     "metadata": {},
     "output_type": "execute_result"
    },
    {
     "name": "stdout",
     "output_type": "stream",
     "text": [
      "index: 553 start:19228.0, width:0.041666666667879326\n"
     ]
    },
    {
     "data": {
      "text/plain": "<matplotlib.patches.Rectangle at 0x2a1baa2f910>"
     },
     "execution_count": 13,
     "metadata": {},
     "output_type": "execute_result"
    },
    {
     "name": "stdout",
     "output_type": "stream",
     "text": [
      "index: 554 start:19228.041666666668, width:0.04166666666424135\n"
     ]
    },
    {
     "data": {
      "text/plain": "<matplotlib.patches.Rectangle at 0x2a1baa94590>"
     },
     "execution_count": 13,
     "metadata": {},
     "output_type": "execute_result"
    },
    {
     "name": "stdout",
     "output_type": "stream",
     "text": [
      "index: 556 start:19228.125, width:0.041666666667879326\n"
     ]
    },
    {
     "data": {
      "text/plain": "<matplotlib.patches.Rectangle at 0x2a1baaac910>"
     },
     "execution_count": 13,
     "metadata": {},
     "output_type": "execute_result"
    },
    {
     "name": "stdout",
     "output_type": "stream",
     "text": [
      "index: 574 start:19228.875, width:0.041666666667879326\n"
     ]
    },
    {
     "data": {
      "text/plain": "<matplotlib.patches.Rectangle at 0x2a1baa2fc50>"
     },
     "execution_count": 13,
     "metadata": {},
     "output_type": "execute_result"
    },
    {
     "name": "stdout",
     "output_type": "stream",
     "text": [
      "index: 575 start:19228.916666666668, width:0.04166666666424135\n"
     ]
    },
    {
     "data": {
      "text/plain": "<matplotlib.patches.Rectangle at 0x2a1baaf1710>"
     },
     "execution_count": 13,
     "metadata": {},
     "output_type": "execute_result"
    },
    {
     "name": "stdout",
     "output_type": "stream",
     "text": [
      "index: 576 start:19228.958333333332, width:0.041666666667879326\n"
     ]
    },
    {
     "data": {
      "text/plain": "<matplotlib.patches.Rectangle at 0x2a1bab05d10>"
     },
     "execution_count": 13,
     "metadata": {},
     "output_type": "execute_result"
    },
    {
     "name": "stdout",
     "output_type": "stream",
     "text": [
      "index: 577 start:19229.0, width:0.041666666667879326\n"
     ]
    },
    {
     "data": {
      "text/plain": "<matplotlib.patches.Rectangle at 0x2a1bab202d0>"
     },
     "execution_count": 13,
     "metadata": {},
     "output_type": "execute_result"
    },
    {
     "name": "stdout",
     "output_type": "stream",
     "text": [
      "index: 578 start:19229.041666666668, width:0.04166666666424135\n"
     ]
    },
    {
     "data": {
      "text/plain": "<matplotlib.patches.Rectangle at 0x2a1bab17450>"
     },
     "execution_count": 13,
     "metadata": {},
     "output_type": "execute_result"
    },
    {
     "name": "stdout",
     "output_type": "stream",
     "text": [
      "index: 579 start:19229.083333333332, width:0.041666666667879326\n"
     ]
    },
    {
     "data": {
      "text/plain": "<matplotlib.patches.Rectangle at 0x2a1b9a3af90>"
     },
     "execution_count": 13,
     "metadata": {},
     "output_type": "execute_result"
    },
    {
     "name": "stdout",
     "output_type": "stream",
     "text": [
      "index: 580 start:19229.125, width:0.041666666667879326\n"
     ]
    },
    {
     "data": {
      "text/plain": "<matplotlib.patches.Rectangle at 0x2a1baa36150>"
     },
     "execution_count": 13,
     "metadata": {},
     "output_type": "execute_result"
    },
    {
     "name": "stdout",
     "output_type": "stream",
     "text": [
      "index: 581 start:19229.166666666668, width:0.04166666666424135\n"
     ]
    },
    {
     "data": {
      "text/plain": "<matplotlib.patches.Rectangle at 0x2a1baa58790>"
     },
     "execution_count": 13,
     "metadata": {},
     "output_type": "execute_result"
    },
    {
     "name": "stdout",
     "output_type": "stream",
     "text": [
      "index: 598 start:19229.875, width:0.041666666667879326\n"
     ]
    },
    {
     "data": {
      "text/plain": "<matplotlib.patches.Rectangle at 0x2a1b9a232d0>"
     },
     "execution_count": 13,
     "metadata": {},
     "output_type": "execute_result"
    },
    {
     "name": "stdout",
     "output_type": "stream",
     "text": [
      "index: 599 start:19229.916666666668, width:0.04166666666424135\n"
     ]
    },
    {
     "data": {
      "text/plain": "<matplotlib.patches.Rectangle at 0x2a1570683d0>"
     },
     "execution_count": 13,
     "metadata": {},
     "output_type": "execute_result"
    },
    {
     "name": "stdout",
     "output_type": "stream",
     "text": [
      "index: 600 start:19229.958333333332, width:0.041666666667879326\n"
     ]
    },
    {
     "data": {
      "text/plain": "<matplotlib.patches.Rectangle at 0x2a1baa58890>"
     },
     "execution_count": 13,
     "metadata": {},
     "output_type": "execute_result"
    },
    {
     "name": "stdout",
     "output_type": "stream",
     "text": [
      "index: 601 start:19230.0, width:0.041666666667879326\n"
     ]
    },
    {
     "data": {
      "text/plain": "<matplotlib.patches.Rectangle at 0x2a1b9a230d0>"
     },
     "execution_count": 13,
     "metadata": {},
     "output_type": "execute_result"
    },
    {
     "name": "stdout",
     "output_type": "stream",
     "text": [
      "index: 602 start:19230.041666666668, width:0.04166666666424135\n"
     ]
    },
    {
     "data": {
      "text/plain": "<matplotlib.patches.Rectangle at 0x2a157068c10>"
     },
     "execution_count": 13,
     "metadata": {},
     "output_type": "execute_result"
    },
    {
     "name": "stdout",
     "output_type": "stream",
     "text": [
      "index: 603 start:19230.083333333332, width:0.041666666667879326\n"
     ]
    },
    {
     "data": {
      "text/plain": "<matplotlib.patches.Rectangle at 0x2a1baa96010>"
     },
     "execution_count": 13,
     "metadata": {},
     "output_type": "execute_result"
    },
    {
     "name": "stdout",
     "output_type": "stream",
     "text": [
      "index: 604 start:19230.125, width:0.041666666667879326\n"
     ]
    },
    {
     "data": {
      "text/plain": "<matplotlib.patches.Rectangle at 0x2a1bab14690>"
     },
     "execution_count": 13,
     "metadata": {},
     "output_type": "execute_result"
    },
    {
     "name": "stdout",
     "output_type": "stream",
     "text": [
      "index: 605 start:19230.166666666668, width:0.04166666666424135\n"
     ]
    },
    {
     "data": {
      "text/plain": "<matplotlib.patches.Rectangle at 0x2a1570fb850>"
     },
     "execution_count": 13,
     "metadata": {},
     "output_type": "execute_result"
    },
    {
     "name": "stdout",
     "output_type": "stream",
     "text": [
      "index: 611 start:19230.416666666668, width:0.04166666666424135\n"
     ]
    },
    {
     "data": {
      "text/plain": "<matplotlib.patches.Rectangle at 0x2a1baae4ed0>"
     },
     "execution_count": 13,
     "metadata": {},
     "output_type": "execute_result"
    },
    {
     "name": "stdout",
     "output_type": "stream",
     "text": [
      "index: 645 start:19231.833333333332, width:0.041666666667879326\n"
     ]
    },
    {
     "data": {
      "text/plain": "<matplotlib.patches.Rectangle at 0x2a1571f4a10>"
     },
     "execution_count": 13,
     "metadata": {},
     "output_type": "execute_result"
    },
    {
     "name": "stdout",
     "output_type": "stream",
     "text": [
      "index: 650 start:19232.041666666668, width:0.04166666666424135\n"
     ]
    },
    {
     "data": {
      "text/plain": "<matplotlib.patches.Rectangle at 0x2a1baa2f050>"
     },
     "execution_count": 13,
     "metadata": {},
     "output_type": "execute_result"
    },
    {
     "name": "stdout",
     "output_type": "stream",
     "text": [
      "index: 652 start:19232.125, width:0.041666666667879326\n"
     ]
    },
    {
     "data": {
      "text/plain": "<matplotlib.patches.Rectangle at 0x2a1bab06210>"
     },
     "execution_count": 13,
     "metadata": {},
     "output_type": "execute_result"
    },
    {
     "name": "stdout",
     "output_type": "stream",
     "text": [
      "index: 664 start:19232.625, width:0.041666666667879326\n"
     ]
    },
    {
     "data": {
      "text/plain": "<matplotlib.patches.Rectangle at 0x2a1baa71a10>"
     },
     "execution_count": 13,
     "metadata": {},
     "output_type": "execute_result"
    },
    {
     "name": "stdout",
     "output_type": "stream",
     "text": [
      "index: 668 start:19232.791666666668, width:0.04166666666424135\n"
     ]
    },
    {
     "data": {
      "text/plain": "<matplotlib.patches.Rectangle at 0x2a1baa65dd0>"
     },
     "execution_count": 13,
     "metadata": {},
     "output_type": "execute_result"
    },
    {
     "name": "stdout",
     "output_type": "stream",
     "text": [
      "index: 671 start:19232.916666666668, width:0.04166666666424135\n"
     ]
    },
    {
     "data": {
      "text/plain": "<matplotlib.patches.Rectangle at 0x2a1baafdd90>"
     },
     "execution_count": 13,
     "metadata": {},
     "output_type": "execute_result"
    },
    {
     "data": {
      "text/plain": "\"\\nfor i in range(1, len(actual_df)):\\n    if  (actual_df.iloc[i]['Time'] == training_df.iloc[j]['Time']):\\n        j+=1\\n    else:\\n        iterator = i\\n        last_iterator = i-1\\n        first_time= False\\n        start =  mdates.date2num(actual_df.iloc[last_iterator]['Time'])\\n        end =  mdates.date2num(actual_df.iloc[iterator]['Time'])\\n        print(f'index: {i} start:{start}, width:{end-start}')\\n        rect = Rectangle((start, 0), end-start, 10, linewidth=1,  facecolor='green', alpha = 0.2, zorder = 10)\\n        ax10.add_patch(rect)\\n\""
     },
     "execution_count": 13,
     "metadata": {},
     "output_type": "execute_result"
    },
    {
     "name": "stderr",
     "output_type": "stream",
     "text": [
      "C:\\Users\\jaina\\AppData\\Local\\Temp\\ipykernel_29644\\1484597742.py:51: UserWarning: Boolean Series key will be reindexed to match DataFrame index.\n",
      "  _=ax10.plot(actual_df['Time'][training_mask],actual_df[training_mask]['MW'],label='meas', marker = 'o', color = 'r', zorder = 5)\n"
     ]
    },
    {
     "data": {
      "text/plain": "Text(0.5, 1.0, 'measured vs predicted data (full constructed model with NA)')"
     },
     "execution_count": 13,
     "metadata": {},
     "output_type": "execute_result"
    }
   ],
   "source": [
    "#graph with shaded portion to represent missing values\n",
    "import matplotlib.dates as mdates\n",
    "#final model with DF\n",
    "training_mask = (DF['Time'] >= start_time) & (DF['Time'] <= end_time)\n",
    "training_df = DF[training_mask]\n",
    "#actual_data = training_df['MW'].dropna()\n",
    "training_df['MW'] = training_df['MW'].replace(np.nan, 0)\n",
    "d = training_df['MW']\n",
    "c = np.concatenate((np.array([optimal_temperature_theta]),optimal_behavior_theta),axis=0)\n",
    "phi =training_df.loc[:,'CDH':'omega168']\n",
    "yhat = full_model.predict(phi.values)\n",
    "actual_df = DF.copy()\n",
    "actual_df = actual_df[training_mask]\n",
    "actual_df.dropna(inplace = True)\n",
    "\n",
    "fig10,(ax10) = plt.subplots(nrows=1,figsize=(10,9))\n",
    "first_time = True\n",
    "j = 0\n",
    "\n",
    "for i in range(1, len(training_df)):\n",
    "    if (j < len(actual_df)) and (training_df.iloc[i]['Time'] == actual_df.iloc[j]['Time']):\n",
    "        j+=1\n",
    "    else:\n",
    "        iterator = i\n",
    "        last_iterator = i-1\n",
    "        first_time= False\n",
    "        start =  mdates.date2num(training_df.iloc[last_iterator]['Time'])\n",
    "        end =  mdates.date2num(training_df.iloc[iterator]['Time'])\n",
    "        print(f'index: {i} start:{start}, width:{end-start}')\n",
    "        rect = Rectangle((start, 0), end-start, 10, linewidth=1,  facecolor='green', alpha = 0.2, zorder = 10)\n",
    "        ax10.add_patch(rect)\n",
    "\n",
    "'''\n",
    "for i in range(1, len(actual_df)):\n",
    "    if  (actual_df.iloc[i]['Time'] == training_df.iloc[j]['Time']):\n",
    "        j+=1\n",
    "    else:\n",
    "        iterator = i\n",
    "        last_iterator = i-1\n",
    "        first_time= False\n",
    "        start =  mdates.date2num(actual_df.iloc[last_iterator]['Time'])\n",
    "        end =  mdates.date2num(actual_df.iloc[iterator]['Time'])\n",
    "        print(f'index: {i} start:{start}, width:{end-start}')\n",
    "        rect = Rectangle((start, 0), end-start, 10, linewidth=1,  facecolor='green', alpha = 0.2, zorder = 10)\n",
    "        ax10.add_patch(rect)\n",
    "'''\n",
    "locator = mdates.AutoDateLocator(minticks=3)\n",
    "formatter = mdates.AutoDateFormatter(locator)\n",
    "ax10.xaxis.set_major_locator(locator)\n",
    "ax10.xaxis.set_major_formatter(formatter)\n",
    "_=ax10.plot(actual_df['Time'][training_mask],actual_df[training_mask]['MW'],label='meas', marker = 'o', color = 'r', zorder = 5)\n",
    "_=ax10.plot(training_df['Time'][training_mask],yhat,label='pred:', marker = 'x', color = 'y', zorder = 5)\n",
    "ax10.set_title('measured vs predicted data (full constructed model with NA)')\n",
    "_=ax10.legend()\n",
    "\n",
    "plt.show()\n"
   ],
   "metadata": {
    "collapsed": false,
    "ExecuteTime": {
     "end_time": "2023-10-24T09:58:27.236828900Z",
     "start_time": "2023-10-24T09:57:19.149064Z"
    }
   }
  },
  {
   "cell_type": "code",
   "execution_count": null,
   "outputs": [
    {
     "ename": "NameError",
     "evalue": "name 'stop' is not defined",
     "output_type": "error",
     "traceback": [
      "\u001B[1;31m---------------------------------------------------------------------------\u001B[0m",
      "\u001B[1;31mNameError\u001B[0m                                 Traceback (most recent call last)",
      "Cell \u001B[1;32mIn[12], line 1\u001B[0m\n\u001B[1;32m----> 1\u001B[0m \u001B[43mstop\u001B[49m\n",
      "\u001B[1;31mNameError\u001B[0m: name 'stop' is not defined"
     ]
    }
   ],
   "source": [
    "stop"
   ],
   "metadata": {
    "collapsed": false,
    "ExecuteTime": {
     "end_time": "2023-10-24T09:57:13.068807100Z",
     "start_time": "2023-10-24T09:57:12.502500800Z"
    }
   }
  },
  {
   "cell_type": "code",
   "execution_count": null,
   "outputs": [],
   "source": [
    "#final model with DF\n",
    "training_mask = (DF['Time'] >= start_time) & (DF['Time'] <= end_time)\n",
    "training_df = DF[training_mask]\n",
    "#actual_data = training_df['MW'].dropna()\n",
    "training_df['MW'] = training_df['MW'].replace(np.nan, 0)\n",
    "d = training_df['MW']\n",
    "c = np.concatenate((np.array([optimal_temperature_theta]),optimal_behavior_theta),axis=0)\n",
    "phi =training_df.loc[:,'CDH':'omega168']\n",
    "yhat = full_model.predict(phi.values)\n",
    "actual_df = DF.copy()\n",
    "actual_df = actual_df[training_mask]\n",
    "actual_df.dropna(inplace = True)\n",
    "\n",
    "\n",
    "\n",
    "fig10,(ax10) = plt.subplots(nrows=1,figsize=(10,9))\n",
    "first_time = True\n",
    "for i in range(0, len(actual_df)):\n",
    "    if training_df.iloc[iterator+1]['Time'] == actual_df.iloc[i]['Time']:\n",
    "        pass\n",
    "    else:\n",
    "        iterator = i\n",
    "        while (training_df.iloc[iterator]['Time']!= actual_df.iloc[i]['Time']):\n",
    "            iterator+=1\n",
    "            if (iterator > len(actual_df)-1):\n",
    "                iterator-=1\n",
    "                break\n",
    "        if first_time == True:\n",
    "            last_iterator = i\n",
    "            first_time= False\n",
    "\n",
    "        start = training_df.iloc[last_iterator]['Time']\n",
    "        width = training_df.iloc[iterator]['Time'] - training_df.iloc[last_iterator]['Time']\n",
    "        rect = Rectangle((start, 0), width, 10, linewidth=1,  facecolor='green', alpha = 0.2, zorder = 10)\n",
    "        ax10.add_patch(rect)\n",
    "        last_iterator = iterator\n",
    "\n",
    "_=ax10.plot(actual_df['Time'][training_mask],actual_df[training_mask]['MW'],label='meas', marker = 'o', color = 'r', zorder = 5)\n",
    "_=ax10.plot(training_df['Time'][training_mask],yhat,label='pred:', marker = 'x', color = 'y', zorder = 5)\n",
    "ax10.set_title('measured vs predicted data (full constructed model with NA)')\n",
    "_=ax10.legend()\n",
    "\n",
    "plt.show()\n",
    "\n"
   ],
   "metadata": {
    "collapsed": false,
    "ExecuteTime": {
     "start_time": "2023-10-24T09:57:12.502500800Z"
    }
   }
  },
  {
   "cell_type": "code",
   "execution_count": null,
   "outputs": [],
   "source": [],
   "metadata": {
    "collapsed": false,
    "ExecuteTime": {
     "start_time": "2023-10-24T09:57:12.502500800Z"
    }
   }
  },
  {
   "cell_type": "code",
   "execution_count": null,
   "outputs": [],
   "source": [
    "stop"
   ],
   "metadata": {
    "collapsed": false,
    "ExecuteTime": {
     "start_time": "2023-10-24T09:57:12.502500800Z"
    }
   }
  },
  {
   "cell_type": "code",
   "execution_count": null,
   "outputs": [],
   "source": [
    "#final model with DF\n",
    "training_mask = (DF['Time'] >= start_time) & (DF['Time'] <= end_time)\n",
    "training_df = DF[training_mask]\n",
    "training_df['MW'] = training_df['MW'].replace(np.nan, 0)\n",
    "phi = training_df.loc[:, 'CDH':'omega168']\n",
    "yhat = full_model.predict(phi.values)\n",
    "actual_df = DF.copy()\n",
    "actual_df = actual_df[training_mask]\n",
    "actual_df.dropna(inplace=True)\n",
    "\n",
    "# Reset indices for both training_df and actual_df\n",
    "training_df.reset_index(drop=True, inplace=True)\n",
    "actual_df.reset_index(drop=True, inplace=True)\n",
    "fig10, (ax10) = plt.subplots(nrows=1, figsize=(10, 9))\n",
    "\n",
    "# Reset indices for consistency\n",
    "training_df_reset = training_df.reset_index(drop=True)\n",
    "actual_df_reset = actual_df.reset_index(drop=True)\n",
    "\n",
    "# Initialize variables to track the start of mismatched regions\n",
    "start_idx = 0\n",
    "\n",
    "# Iterate through timestamps and plot rectangles for the mismatched regions\n",
    "for i in range(len(actual_df_reset)):\n",
    "    if training_df_reset['Time'][i] != actual_df_reset['Time'][i]:\n",
    "        # End of mismatched region, plot a rectangle\n",
    "        end_idx = i\n",
    "        rect = Rectangle((start_idx, 0), end_idx - start_idx, 10, linewidth=1, facecolor='green', alpha=0.7, zorder=10)\n",
    "        ax10.add_patch(rect)\n",
    "        start_idx = i + 1  # Update start index for the next region\n",
    "\n",
    "# Plot the actual and predicted data\n",
    "_=ax10.plot(actual_df_reset['Time'], actual_df_reset['MW'], label='meas', marker='o', color='r', zorder=5)\n",
    "_=ax10.plot(training_df_reset['Time'], yhat, label='pred:', marker='x', color='y', zorder=5)\n",
    "\n",
    "ax10.set_title('measured vs predicted data (full constructed model with NA)')\n",
    "_=ax10.legend()\n",
    "\n",
    "plt.show()\n"
   ],
   "metadata": {
    "collapsed": false,
    "ExecuteTime": {
     "start_time": "2023-10-24T09:57:12.502500800Z"
    }
   }
  },
  {
   "cell_type": "code",
   "execution_count": null,
   "outputs": [],
   "source": [
    "'''\n",
    "PRCATICE\n",
    "x = SX.sym(\"x\",3)\n",
    "f = x[0]**2 + x[1]**2 + x[2]**2\n",
    "g1 = cd.fabs(x[2] - x[1]) - 1\n",
    "g2 = cd.fabs(x[1] - x[0]) - 1\n",
    "g3 = x[0] + x[1] + x[2] - 5\n",
    "g4 = x[0]\n",
    "g5 = x[1]\n",
    "g6 = x[2]\n",
    "g = cd.vertcat(g1,g2,g3,g4,g5,g6)\n",
    "nlp = {'x': x, 'f': f, 'g': g}\n",
    "MySolver = 'ipopt'\n",
    "opts = {}\n",
    "# Allocate a solver\n",
    "solver = nlpsol(\"solver\", MySolver, nlp, opts)\n",
    "# Solve the NLP\n",
    "lbg = [0,0,0, 0,0,0]\n",
    "ubg = [inf, inf,5,inf,inf,inf]\n",
    "sol = solver(lbg=lbg, ubg=ubg)\n",
    "# Print solution\n",
    "print(\"-----\")\n",
    "print(\"objective at solution = \", sol[\"f\"])\n",
    "print(\"primal solution = \", sol[\"x\"])\n",
    "print(\"dual solution (x) = \", sol[\"lam_x\"])\n",
    "print(\"dual solution (g) = \", sol[\"lam_g\"])\n",
    "'''\n"
   ],
   "metadata": {
    "collapsed": false,
    "ExecuteTime": {
     "start_time": "2023-10-24T09:57:12.518117Z"
    }
   }
  },
  {
   "cell_type": "code",
   "execution_count": null,
   "outputs": [],
   "source": [],
   "metadata": {
    "collapsed": false,
    "ExecuteTime": {
     "start_time": "2023-10-24T09:57:12.518117Z"
    }
   }
  }
 ],
 "metadata": {
  "kernelspec": {
   "display_name": "Python 3",
   "language": "python",
   "name": "python3"
  },
  "language_info": {
   "codemirror_mode": {
    "name": "ipython",
    "version": 2
   },
   "file_extension": ".py",
   "mimetype": "text/x-python",
   "name": "python",
   "nbconvert_exporter": "python",
   "pygments_lexer": "ipython2",
   "version": "2.7.6"
  }
 },
 "nbformat": 4,
 "nbformat_minor": 0
}
