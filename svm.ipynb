{
 "cells": [
  {
   "cell_type": "code",
   "execution_count": null,
   "metadata": {
    "collapsed": true
   },
   "outputs": [],
   "source": [
    "import threading\n",
    "import time\n",
    "\n",
    "from sklearn.metrics import mean_squared_error\n",
    "from sklearn.svm import SVR\n",
    "import pandas as pd\n",
    "import pytz\n",
    "import numpy as np\n",
    "import os\n",
    "from sklearn import preprocessing\n",
    "import re\n",
    "import matplotlib\n",
    "from matplotlib.patches import Polygon, Rectangle\n",
    "matplotlib.use('Qt5Agg')\n",
    "from datetime import timedelta\n",
    "import matplotlib.pyplot as plt\n",
    "from IPython.core.interactiveshell import InteractiveShell\n",
    "InteractiveShell.ast_node_interactivity = \"all\"\n",
    "from casadi import *\n",
    "import calendar\n",
    "from sklearn.model_selection import train_test_split, GridSearchCV, RandomizedSearchCV\n",
    "from sklearn.svm import SVR\n",
    "import casadi as cd\n",
    "from sklearn.preprocessing import StandardScaler\n",
    "from sklearn.linear_model import LinearRegression, SGDRegressor\n"
   ]
  },
  {
   "cell_type": "code",
   "execution_count": null,
   "outputs": [],
   "source": [
    "training_csv_file_path = 'D:\\\\mlinternship\\\\iitgdata\\\\training_data_for_svm.csv'\n",
    "df = pd.read_csv(training_csv_file_path)\n",
    "df"
   ],
   "metadata": {
    "collapsed": false
   }
  },
  {
   "cell_type": "code",
   "execution_count": null,
   "outputs": [],
   "source": [
    "x = df.loc[:, 'CDH':'omega168']\n",
    "x = x.to_numpy()\n",
    "y = df['MW']\n",
    "y = y.to_numpy()\n",
    "y = y.reshape(-1,1)\n",
    "scaler = StandardScaler()\n",
    "x = scaler.fit_transform(x)\n",
    "y = scaler.fit_transform(y)"
   ],
   "metadata": {
    "collapsed": false
   }
  },
  {
   "cell_type": "code",
   "execution_count": null,
   "outputs": [],
   "source": [
    "x"
   ],
   "metadata": {
    "collapsed": false
   }
  },
  {
   "cell_type": "code",
   "execution_count": null,
   "outputs": [],
   "source": [
    "y"
   ],
   "metadata": {
    "collapsed": false
   }
  },
  {
   "cell_type": "markdown",
   "source": [
    "SVM Part"
   ],
   "metadata": {
    "collapsed": false
   }
  },
  {
   "cell_type": "code",
   "execution_count": null,
   "outputs": [],
   "source": [
    "# C is inversely proportional to the number of misclassifications you allow\n",
    "# epsilon is the allowed error in each instance"
   ],
   "metadata": {
    "collapsed": false
   }
  },
  {
   "cell_type": "code",
   "execution_count": null,
   "outputs": [],
   "source": [
    "X_train, X_test, y_train, y_test = train_test_split(x, y, test_size=0.2, random_state=1)\n",
    "y = y.reshape(len(y),)"
   ],
   "metadata": {
    "collapsed": false
   }
  },
  {
   "cell_type": "code",
   "execution_count": null,
   "outputs": [],
   "source": [
    "'''yhat = svr_model.predict(x)\n",
    "plt.ion()\n",
    "plt.figure(figsize=(12, 6))\n",
    "plt.plot(training_df['Time'], yhat, marker='o', linestyle='-', color = 'g')\n",
    "plt.plot(training_df['Time'], y, marker='x', linestyle='-', color = 'r')\n",
    "plt.xlabel('Time')\n",
    "plt.ylabel('Power Consumption Changes')\n",
    "\n",
    "plt.grid(True)\n",
    "plt.legend()\n",
    "plt.show()'''"
   ],
   "metadata": {
    "collapsed": false
   }
  },
  {
   "cell_type": "code",
   "execution_count": null,
   "outputs": [],
   "source": [
    "C = [0.01, 0.1,1,5,10,15,50,100,1000]\n",
    "gamma = [0.0001,0.001,0.01, 0.1,1,5,100]\n",
    "epsilon = [0.05, 0.1, 0.2]\n",
    "degree = [1,2,3,4,5,6]\n",
    "\n",
    "results = {}\n",
    "for d in degree:\n",
    "    for e in epsilon:\n",
    "        for c in C:\n",
    "            for g in gamma:\n",
    "                poly_svr = SVR(kernel='poly', degree=d,epsilon=e,C=c, gamma=g)\n",
    "                poly_svr.fit(x, y)\n",
    "                y_pred = poly_svr.predict(X_test)\n",
    "                mse = mean_squared_error(y_test, y_pred)\n",
    "                score  = poly_svr.score(X_test, y_test)\n",
    "                hyperparameters = {'Degree': d, 'Epsilon': e, 'C': c, 'Gamma': g}\n",
    "                result_values = {'MSE': mse, 'Score': score}\n",
    "                results[str(hyperparameters)] = result_values\n",
    "                print(\"Degree: \" , d, \"Epsilon: \",e,\"C: \", c, \"gamma: \", g, \"MSE: \", mse, \"score: \", score)\n",
    "\n"
   ],
   "metadata": {
    "collapsed": false
   }
  },
  {
   "cell_type": "code",
   "execution_count": null,
   "outputs": [],
   "source": [
    "stop"
   ],
   "metadata": {
    "collapsed": false
   }
  },
  {
   "cell_type": "code",
   "execution_count": null,
   "outputs": [],
   "source": [
    "\n",
    "'''C_values = [0.01, 0.1, 1, 5, 10, 15, 50, 100, 1000]\n",
    "gamma_values = [5, 100]\n",
    "\n",
    "def fit_svr_with_timeout(C, gamma):\n",
    "    start_time = time.time()\n",
    "\n",
    "    # Create SVR with specified parameters\n",
    "    poly_svr = SVR(kernel='poly', C=C, gamma=gamma)\n",
    "\n",
    "    # Define a function to be called by a timer\n",
    "    def timeout_function():\n",
    "        print(f\"Timeout: C={C}, gamma={gamma}\")\n",
    "        poly_svr.fit_timed_out = True\n",
    "\n",
    "    timer = threading.Timer(5, timeout_function)\n",
    "\n",
    "    try:\n",
    "        timer.start()\n",
    "        poly_svr.fit(x, y)\n",
    "    finally:\n",
    "        timer.cancel()\n",
    "\n",
    "    elapsed_time = time.time() - start_time\n",
    "    if poly_svr.fit_timed_out:\n",
    "        print(f\"Skipped (elapsed time: {elapsed_time:.2f} seconds): C={C}, gamma={gamma}\")\n",
    "        return None\n",
    "\n",
    "    # Make predictions on the test set\n",
    "    y_pred = poly_svr.predict(X_test)\n",
    "    mse = mean_squared_error(y_test, y_pred)\n",
    "    score = poly_svr.score(X_test, y_test)\n",
    "\n",
    "    print(f\"C: {C}, gamma: {gamma}, MSE: {mse}, score: {score}, elapsed time: {elapsed_time:.2f} seconds\")\n",
    "\n",
    "\n",
    "# Iterate over hyperparameter combinations\n",
    "for i in C_values:\n",
    "    for j in gamma_values:\n",
    "        fit_svr_with_timeout(i, j)\n",
    "'''"
   ],
   "metadata": {
    "collapsed": false
   }
  },
  {
   "cell_type": "code",
   "execution_count": null,
   "outputs": [],
   "source": [],
   "metadata": {
    "collapsed": false
   }
  },
  {
   "cell_type": "code",
   "execution_count": null,
   "outputs": [],
   "source": [
    "param_grid = {'C':[0.01, 0.1,1,5,10,15,50,100,1000],\n",
    "             'kernel':['linear'],\n",
    "              'epsilon':[0.05, 0.1, 0.2]}\n",
    "\n",
    "linear_svr_grid = SVR()\n",
    "# Create a GridSearchCV object\n",
    "linear_grid_search = GridSearchCV(linear_svr_grid,param_grid=param_grid)\n",
    "\n",
    "# Fit the grid search to the data\n",
    "linear_grid_search.fit(x, y)\n",
    "\n",
    "# Get the best parameters and the best model\n",
    "linear_best_params = linear_grid_search.best_params_\n",
    "\n",
    "# Make predictions on the test set\n",
    "linear_y_pred = linear_grid_search.predict(X_test)\n",
    "mse = mean_squared_error(y_test, linear_y_pred)\n",
    "\n",
    "print(\"Best Parameters:\", linear_best_params)\n",
    "print(\"Mean Squared Error on Test Set:\", mse)\n",
    "print(\"score of the model: \", linear_grid_search.score(X_test,y_test))"
   ],
   "metadata": {
    "collapsed": false
   }
  },
  {
   "cell_type": "code",
   "execution_count": null,
   "outputs": [],
   "source": [
    "param_grid = {'C':[0.01, 0.1,1,5,10,15,50,100,1000],\n",
    "             'kernel':['rbf'],\n",
    "              'gamma': [0.0001,0.001,0.01, 0.1,1,5,10,15,50]\n",
    "              }\n",
    "\n",
    "rbf_svr_grid = SVR()\n",
    "# Create a GridSearchCV object\n",
    "rbf_grid_search = GridSearchCV(rbf_svr_grid,param_grid=param_grid)\n",
    "\n",
    "# Fit the grid search to the data\n",
    "rbf_grid_search.fit(x, y)\n",
    "\n",
    "# Get the best parameters and the best model\n",
    "poly_best_params = rbf_grid_search.best_params_\n",
    "\n",
    "# Make predictions on the test set\n",
    "rbf_y_pred = rbf_grid_search.predict(X_test)\n",
    "mse = mean_squared_error(y_test, rbf_y_pred)\n",
    "\n",
    "print(\"Best Parameters:\", poly_best_params)\n",
    "print(\"Mean Squared Error on Test Set:\", mse)\n",
    "print(\"score of the model: \", rbf_grid_search.score(X_test,y_test))"
   ],
   "metadata": {
    "collapsed": false
   }
  },
  {
   "cell_type": "code",
   "execution_count": null,
   "outputs": [],
   "source": [],
   "metadata": {
    "collapsed": false
   }
  },
  {
   "cell_type": "code",
   "execution_count": null,
   "outputs": [],
   "source": [
    "stop"
   ],
   "metadata": {
    "collapsed": false
   }
  },
  {
   "cell_type": "code",
   "execution_count": null,
   "outputs": [],
   "source": [
    "param_grid = {'C':[0.01,0.1,1,5,10,100,1000],\n",
    "             'kernel':['poly'],\n",
    "              'gamma': [0.001,0.01, 0.1,1,5],\n",
    "              'degree':[1,2,3,4],\n",
    "              'epsilon':[0.05, 0.1, 0.2]\n",
    "              }\n",
    "\n",
    "poly_svr_grid = SVR()\n",
    "# Create a GridSearchCV object\n",
    "poly_grid_search = RandomizedSearchCV(poly_svr_grid,param_distributions=param_grid,n_iter = 10 ,verbose= 5)\n",
    "\n",
    "# Fit the grid search to the data\n",
    "poly_grid_search.fit(x, y)\n",
    "\n",
    "# Get the best parameters and the best model\n",
    "poly_best_params = poly_grid_search.best_params_\n",
    "\n",
    "# Make predictions on the test set\n",
    "poly_y_pred = poly_grid_search.predict(X_test)\n",
    "mse = mean_squared_error(y_test, poly_y_pred)\n",
    "\n",
    "print(\"Best Parameters:\", poly_best_params)\n",
    "print(\"Mean Squared Error on Test Set:\", mse)\n",
    "print(\"score of the model: \", poly_grid_search.score(X_test,y_test))"
   ],
   "metadata": {
    "collapsed": false
   }
  },
  {
   "cell_type": "code",
   "execution_count": null,
   "outputs": [],
   "source": [],
   "metadata": {
    "collapsed": false
   }
  },
  {
   "cell_type": "code",
   "execution_count": null,
   "outputs": [],
   "source": [
    "stop"
   ],
   "metadata": {
    "collapsed": false
   }
  },
  {
   "cell_type": "code",
   "execution_count": null,
   "outputs": [],
   "source": [
    "yhat = grid_search.predict(x)\n",
    "plt.ion()\n",
    "\n",
    "\n",
    "plt.figure(figsize=(12, 6))\n",
    "plt.plot(training_df['Time'], yhat, marker='o', linestyle='-', color = 'g', label = 'predicted')\n",
    "plt.plot(training_df['Time'], y, marker='x', linestyle='-', color = 'r', label = 'actual')\n",
    "plt.xlabel('Time')\n",
    "plt.ylabel('Power Consumption Changes')\n",
    "\n",
    "plt.grid(True)\n",
    "plt.legend()\n",
    "plt.show()"
   ],
   "metadata": {
    "collapsed": false
   }
  },
  {
   "cell_type": "code",
   "execution_count": null,
   "outputs": [],
   "source": [],
   "metadata": {
    "collapsed": false
   }
  }
 ],
 "metadata": {
  "kernelspec": {
   "display_name": "Python 3",
   "language": "python",
   "name": "python3"
  },
  "language_info": {
   "codemirror_mode": {
    "name": "ipython",
    "version": 2
   },
   "file_extension": ".py",
   "mimetype": "text/x-python",
   "name": "python",
   "nbconvert_exporter": "python",
   "pygments_lexer": "ipython2",
   "version": "2.7.6"
  }
 },
 "nbformat": 4,
 "nbformat_minor": 0
}
