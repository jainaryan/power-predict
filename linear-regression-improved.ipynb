{
 "cells": [
  {
   "cell_type": "code",
   "execution_count": 1,
   "metadata": {
    "collapsed": true,
    "ExecuteTime": {
     "end_time": "2023-12-23T16:32:03.035452700Z",
     "start_time": "2023-12-23T16:31:59.643137700Z"
    }
   },
   "outputs": [],
   "source": [
    "import pandas as pd\n",
    "import pytz\n",
    "import numpy as np\n",
    "import os\n",
    "from sklearn import preprocessing\n",
    "import re\n",
    "import matplotlib\n",
    "matplotlib.use('Qt5Agg')\n",
    "from datetime import timedelta\n",
    "import matplotlib.pyplot as plt\n",
    "from IPython.core.interactiveshell import InteractiveShell\n",
    "InteractiveShell.ast_node_interactivity = \"all\"\n",
    "\n",
    "import warnings\n",
    "warnings.filterwarnings('ignore')"
   ]
  },
  {
   "cell_type": "code",
   "execution_count": 2,
   "outputs": [],
   "source": [
    "def custom_date_parser(date_string):\n",
    "    return pd.to_datetime(date_string, format='%d-%m-%Y %H:%M:%S')\n",
    "\n",
    "# Specify the path to the main directory containing folders and files\n",
    "path = 'D:\\\\mlinternship\\\\iitgdata'\n",
    "folders = [folder for folder in os.listdir(path) if os.path.isdir(os.path.join(path, folder))]\n",
    "df_list = []\n",
    "\n",
    "# Iterate through each folder\n",
    "for folder in folders:\n",
    "    # Construct the full path to the current folder\n",
    "    folder_path = os.path.join(path, folder)\n",
    "\n",
    "    # Iterate through files in the current folder\n",
    "    for filename in os.listdir(folder_path):\n",
    "        # Check if the file has the '.xlsx' extension\n",
    "        if filename.endswith('.xlsx'):\n",
    "            # Construct the full path to the Excel file\n",
    "            file_path = os.path.join(folder_path, filename)\n",
    "\n",
    "            # Use the custom date parser function\n",
    "            df = pd.read_excel(file_path, header=3, date_parser=custom_date_parser)\n",
    "\n",
    "            # Append the dataframe to the list\n",
    "            df_list.append(df)\n"
   ],
   "metadata": {
    "collapsed": false,
    "ExecuteTime": {
     "end_time": "2023-12-23T16:32:17.292239400Z",
     "start_time": "2023-12-23T16:32:03.040468800Z"
    }
   }
  },
  {
   "cell_type": "code",
   "execution_count": 3,
   "outputs": [],
   "source": [
    "power_df = pd.concat(df_list, ignore_index=True)\n",
    "power_df.to_csv('power_datacsv.csv')\n",
    "power_df['Time'] = pd.to_datetime(power_df['Time'])\n",
    "power_df['Time'] = power_df['Time'].round('min')\n",
    "#replace all the 'NR' values in MW column to NaN\n",
    "power_df['MW'] = power_df['MW'].replace('NR', np.nan)\n",
    "power_df['MW'] = power_df['MW'].replace('nr', np.nan)\n",
    "full_power_df = power_df.copy()\n",
    "# drop the rest of the columns that are not required and set index to Time\n",
    "power_df = power_df[['Time', 'MW']]\n",
    "#power_df.dropna(subset=['Time'], inplace=True)\n",
    "power_df.dropna(inplace = True)\n",
    "power_df['MW'] = power_df['MW'].astype(str)\n",
    "# Remove commas from 'CDH' column and convert to numeric\n",
    "power_df['MW'] = pd.to_numeric(power_df['MW'].str.replace(',', '.'), errors='coerce')\n",
    "power_df['Time'] = pd.to_datetime(power_df['Time'])\n",
    "# Now, 'Time' column is in UTC timezone format\n",
    "power_df = power_df.sort_values('Time')"
   ],
   "metadata": {
    "collapsed": false,
    "ExecuteTime": {
     "end_time": "2023-12-23T16:32:18.019811Z",
     "start_time": "2023-12-23T16:32:17.298751700Z"
    }
   }
  },
  {
   "cell_type": "code",
   "execution_count": 4,
   "outputs": [
    {
     "data": {
      "text/plain": "                    Time   MW\n2933 2022-01-21 02:00:00  2.5\n2957 2022-01-22 02:00:00  2.1\n3005 2022-01-24 02:00:00  2.4\n3101 2022-01-28 02:00:00  2.0\n1494 2022-02-01 06:00:00  1.7\n...                  ...  ...\n4774 2023-06-27 19:00:00  5.7\n4775 2023-06-27 20:00:00  5.6\n4776 2023-06-27 21:00:00  5.3\n4777 2023-06-27 22:00:00  4.8\n4778 2023-06-27 23:00:00  4.8\n\n[5805 rows x 2 columns]",
      "text/html": "<div>\n<style scoped>\n    .dataframe tbody tr th:only-of-type {\n        vertical-align: middle;\n    }\n\n    .dataframe tbody tr th {\n        vertical-align: top;\n    }\n\n    .dataframe thead th {\n        text-align: right;\n    }\n</style>\n<table border=\"1\" class=\"dataframe\">\n  <thead>\n    <tr style=\"text-align: right;\">\n      <th></th>\n      <th>Time</th>\n      <th>MW</th>\n    </tr>\n  </thead>\n  <tbody>\n    <tr>\n      <th>2933</th>\n      <td>2022-01-21 02:00:00</td>\n      <td>2.5</td>\n    </tr>\n    <tr>\n      <th>2957</th>\n      <td>2022-01-22 02:00:00</td>\n      <td>2.1</td>\n    </tr>\n    <tr>\n      <th>3005</th>\n      <td>2022-01-24 02:00:00</td>\n      <td>2.4</td>\n    </tr>\n    <tr>\n      <th>3101</th>\n      <td>2022-01-28 02:00:00</td>\n      <td>2.0</td>\n    </tr>\n    <tr>\n      <th>1494</th>\n      <td>2022-02-01 06:00:00</td>\n      <td>1.7</td>\n    </tr>\n    <tr>\n      <th>...</th>\n      <td>...</td>\n      <td>...</td>\n    </tr>\n    <tr>\n      <th>4774</th>\n      <td>2023-06-27 19:00:00</td>\n      <td>5.7</td>\n    </tr>\n    <tr>\n      <th>4775</th>\n      <td>2023-06-27 20:00:00</td>\n      <td>5.6</td>\n    </tr>\n    <tr>\n      <th>4776</th>\n      <td>2023-06-27 21:00:00</td>\n      <td>5.3</td>\n    </tr>\n    <tr>\n      <th>4777</th>\n      <td>2023-06-27 22:00:00</td>\n      <td>4.8</td>\n    </tr>\n    <tr>\n      <th>4778</th>\n      <td>2023-06-27 23:00:00</td>\n      <td>4.8</td>\n    </tr>\n  </tbody>\n</table>\n<p>5805 rows × 2 columns</p>\n</div>"
     },
     "execution_count": 4,
     "metadata": {},
     "output_type": "execute_result"
    }
   ],
   "source": [
    "power_df"
   ],
   "metadata": {
    "collapsed": false,
    "ExecuteTime": {
     "end_time": "2023-12-23T16:32:18.044205300Z",
     "start_time": "2023-12-23T16:32:18.019811Z"
    }
   }
  },
  {
   "cell_type": "code",
   "execution_count": 5,
   "outputs": [
    {
     "data": {
      "text/plain": "<Figure size 1000x500 with 0 Axes>"
     },
     "execution_count": 5,
     "metadata": {},
     "output_type": "execute_result"
    },
    {
     "data": {
      "text/plain": "<contextlib.ExitStack at 0x209757bab50>"
     },
     "execution_count": 5,
     "metadata": {},
     "output_type": "execute_result"
    },
    {
     "data": {
      "text/plain": "[<matplotlib.lines.Line2D at 0x2097567f110>]"
     },
     "execution_count": 5,
     "metadata": {},
     "output_type": "execute_result"
    },
    {
     "data": {
      "text/plain": "Text(0.5, 0, 'Time')"
     },
     "execution_count": 5,
     "metadata": {},
     "output_type": "execute_result"
    },
    {
     "data": {
      "text/plain": "(array([18993., 19052., 19113., 19174., 19236., 19297., 19358., 19417.,\n        19478., 19539.]),\n [Text(18993.0, 0, '2022-01'),\n  Text(19052.0, 0, '2022-03'),\n  Text(19113.0, 0, '2022-05'),\n  Text(19174.0, 0, '2022-07'),\n  Text(19236.0, 0, '2022-09'),\n  Text(19297.0, 0, '2022-11'),\n  Text(19358.0, 0, '2023-01'),\n  Text(19417.0, 0, '2023-03'),\n  Text(19478.0, 0, '2023-05'),\n  Text(19539.0, 0, '2023-07')])"
     },
     "execution_count": 5,
     "metadata": {},
     "output_type": "execute_result"
    },
    {
     "data": {
      "text/plain": "Text(0.5, 1.0, 'power vs time (not normalized)')"
     },
     "execution_count": 5,
     "metadata": {},
     "output_type": "execute_result"
    },
    {
     "data": {
      "text/plain": "<matplotlib.legend.Legend at 0x209758fff90>"
     },
     "execution_count": 5,
     "metadata": {},
     "output_type": "execute_result"
    }
   ],
   "source": [
    "plt.figure(figsize=(10, 5))\n",
    "plt.ion()\n",
    "plt.plot(power_df['Time'], power_df['MW'], marker='o', linestyle='-', color='r', label='MW')\n",
    "\n",
    "plt.xlabel('Time')\n",
    "\n",
    "plt.xticks(rotation=45)\n",
    "\n",
    "ax = plt.gca()\n",
    "ax.set_facecolor('white')\n",
    "ax.set_title('power vs time (not normalized)')\n",
    "plt.legend()\n",
    "plt.tight_layout()\n",
    "\n",
    "plt.show()"
   ],
   "metadata": {
    "collapsed": false,
    "ExecuteTime": {
     "end_time": "2023-12-23T16:32:18.693126200Z",
     "start_time": "2023-12-23T16:32:18.044205300Z"
    }
   }
  },
  {
   "cell_type": "code",
   "execution_count": 6,
   "outputs": [],
   "source": [
    "# read the temperature data csv\n",
    "temperature_data_csv_path = 'D:\\\\mlinternship\\\\iitgdata\\\\temperaturedata'\n",
    "filename = 'guwahati_temperature_data.csv'\n",
    "file = os.path.join(temperature_data_csv_path, filename)\n",
    "temperature_df = pd.read_csv(file)\n",
    "#drop the unwanted columns and change column name\n",
    "temperature_df.rename(columns={'valid': 'Time'}, inplace = True)\n",
    "temperature_df = temperature_df.rename(columns={'tmpc': 'temperature'})\n",
    "temperature_df = temperature_df[['Time', 'temperature']]\n",
    "\n",
    "temperature_df['Time'] = pd.to_datetime(temperature_df['Time'])\n",
    "temperature_df['Time'] = pd.DatetimeIndex(temperature_df['Time']) + timedelta(hours=5,minutes=30)\n",
    "temperature_df['temperature'] = pd.to_numeric(temperature_df['temperature'], errors='coerce')\n",
    "\n",
    "\n",
    "temperature_df.set_index('Time', inplace=True)\n",
    "temperature_df['temperature'] = temperature_df['temperature'].interpolate(method='polynomial', order = 5)\n",
    "temperature_df.reset_index(inplace=True)"
   ],
   "metadata": {
    "collapsed": false,
    "ExecuteTime": {
     "end_time": "2023-12-23T16:32:18.781679500Z",
     "start_time": "2023-12-23T16:32:18.645102100Z"
    }
   }
  },
  {
   "cell_type": "code",
   "execution_count": 7,
   "outputs": [
    {
     "data": {
      "text/plain": "                     Time  temperature\n0     2022-01-01 05:30:00         13.0\n1     2022-01-01 06:00:00         12.0\n2     2022-01-01 06:30:00         12.0\n3     2022-01-01 07:00:00         12.0\n4     2022-01-01 07:30:00         14.0\n...                   ...          ...\n29230 2023-10-29 23:30:00         22.0\n29231 2023-10-30 00:00:00         22.0\n29232 2023-10-30 00:30:00         22.0\n29233 2023-10-30 04:30:00         20.0\n29234 2023-10-30 05:00:00         20.0\n\n[29235 rows x 2 columns]",
      "text/html": "<div>\n<style scoped>\n    .dataframe tbody tr th:only-of-type {\n        vertical-align: middle;\n    }\n\n    .dataframe tbody tr th {\n        vertical-align: top;\n    }\n\n    .dataframe thead th {\n        text-align: right;\n    }\n</style>\n<table border=\"1\" class=\"dataframe\">\n  <thead>\n    <tr style=\"text-align: right;\">\n      <th></th>\n      <th>Time</th>\n      <th>temperature</th>\n    </tr>\n  </thead>\n  <tbody>\n    <tr>\n      <th>0</th>\n      <td>2022-01-01 05:30:00</td>\n      <td>13.0</td>\n    </tr>\n    <tr>\n      <th>1</th>\n      <td>2022-01-01 06:00:00</td>\n      <td>12.0</td>\n    </tr>\n    <tr>\n      <th>2</th>\n      <td>2022-01-01 06:30:00</td>\n      <td>12.0</td>\n    </tr>\n    <tr>\n      <th>3</th>\n      <td>2022-01-01 07:00:00</td>\n      <td>12.0</td>\n    </tr>\n    <tr>\n      <th>4</th>\n      <td>2022-01-01 07:30:00</td>\n      <td>14.0</td>\n    </tr>\n    <tr>\n      <th>...</th>\n      <td>...</td>\n      <td>...</td>\n    </tr>\n    <tr>\n      <th>29230</th>\n      <td>2023-10-29 23:30:00</td>\n      <td>22.0</td>\n    </tr>\n    <tr>\n      <th>29231</th>\n      <td>2023-10-30 00:00:00</td>\n      <td>22.0</td>\n    </tr>\n    <tr>\n      <th>29232</th>\n      <td>2023-10-30 00:30:00</td>\n      <td>22.0</td>\n    </tr>\n    <tr>\n      <th>29233</th>\n      <td>2023-10-30 04:30:00</td>\n      <td>20.0</td>\n    </tr>\n    <tr>\n      <th>29234</th>\n      <td>2023-10-30 05:00:00</td>\n      <td>20.0</td>\n    </tr>\n  </tbody>\n</table>\n<p>29235 rows × 2 columns</p>\n</div>"
     },
     "execution_count": 7,
     "metadata": {},
     "output_type": "execute_result"
    }
   ],
   "source": [
    "temperature_df"
   ],
   "metadata": {
    "collapsed": false,
    "ExecuteTime": {
     "end_time": "2023-12-23T16:32:18.789904200Z",
     "start_time": "2023-12-23T16:32:18.765273200Z"
    }
   }
  },
  {
   "cell_type": "code",
   "execution_count": 7,
   "outputs": [],
   "source": [
    "\n"
   ],
   "metadata": {
    "collapsed": false,
    "ExecuteTime": {
     "end_time": "2023-12-23T16:32:18.789904200Z",
     "start_time": "2023-12-23T16:32:18.782863900Z"
    }
   }
  },
  {
   "cell_type": "code",
   "execution_count": 8,
   "outputs": [
    {
     "data": {
      "text/plain": "<Figure size 1000x500 with 0 Axes>"
     },
     "execution_count": 8,
     "metadata": {},
     "output_type": "execute_result"
    },
    {
     "data": {
      "text/plain": "<contextlib.ExitStack at 0x209755e0ad0>"
     },
     "execution_count": 8,
     "metadata": {},
     "output_type": "execute_result"
    },
    {
     "data": {
      "text/plain": "[<matplotlib.lines.Line2D at 0x209755524d0>]"
     },
     "execution_count": 8,
     "metadata": {},
     "output_type": "execute_result"
    },
    {
     "data": {
      "text/plain": "Text(0.5, 0, 'Time')"
     },
     "execution_count": 8,
     "metadata": {},
     "output_type": "execute_result"
    },
    {
     "data": {
      "text/plain": "(array([18993., 19083., 19174., 19266., 19358., 19448., 19539., 19631.]),\n [Text(18993.0, 0, '2022-01'),\n  Text(19083.0, 0, '2022-04'),\n  Text(19174.0, 0, '2022-07'),\n  Text(19266.0, 0, '2022-10'),\n  Text(19358.0, 0, '2023-01'),\n  Text(19448.0, 0, '2023-04'),\n  Text(19539.0, 0, '2023-07'),\n  Text(19631.0, 0, '2023-10')])"
     },
     "execution_count": 8,
     "metadata": {},
     "output_type": "execute_result"
    },
    {
     "data": {
      "text/plain": "Text(0.5, 1.0, 'temperature vs time')"
     },
     "execution_count": 8,
     "metadata": {},
     "output_type": "execute_result"
    },
    {
     "data": {
      "text/plain": "<matplotlib.legend.Legend at 0x2097538c590>"
     },
     "execution_count": 8,
     "metadata": {},
     "output_type": "execute_result"
    }
   ],
   "source": [
    "\n",
    "\n",
    "# plotting temperature vs time\n",
    "plt.figure(figsize=(10, 5))\n",
    "plt.ion()\n",
    "plt.plot(temperature_df['Time'], temperature_df['temperature'], marker='o', linestyle='-', color='r', label='temperature')\n",
    "\n",
    "plt.xlabel('Time')\n",
    "\n",
    "plt.xticks(rotation=45)\n",
    "\n",
    "ax = plt.gca()\n",
    "ax.set_facecolor('white')\n",
    "ax.set_title('temperature vs time')\n",
    "plt.legend()\n",
    "plt.tight_layout()\n",
    "\n",
    "plt.show()\n"
   ],
   "metadata": {
    "collapsed": false,
    "ExecuteTime": {
     "end_time": "2023-12-23T16:32:19.231922800Z",
     "start_time": "2023-12-23T16:32:18.789904200Z"
    }
   }
  },
  {
   "cell_type": "code",
   "execution_count": 9,
   "outputs": [
    {
     "name": "stdout",
     "output_type": "stream",
     "text": [
      "Number of rows with same values in \"Time\" column: 5477\n"
     ]
    }
   ],
   "source": [
    "common_times = set(power_df['Time']).intersection(set(temperature_df['Time']))\n",
    "num_common_rows = len(common_times)\n",
    "\n",
    "print(f'Number of rows with same values in \"Time\" column: {num_common_rows}')"
   ],
   "metadata": {
    "collapsed": false,
    "ExecuteTime": {
     "end_time": "2023-12-23T16:32:19.233827700Z",
     "start_time": "2023-12-23T16:32:18.965900500Z"
    }
   }
  },
  {
   "cell_type": "code",
   "execution_count": 10,
   "outputs": [
    {
     "data": {
      "text/plain": "                    Time   MW  temperature\n0    2022-01-24 02:00:00  2.4         16.0\n1    2022-01-28 02:00:00  2.0         14.0\n2    2022-02-01 06:00:00  1.7         12.0\n3    2022-02-01 07:00:00  1.8         13.0\n4    2022-02-01 08:00:00  2.3         14.0\n...                  ...  ...          ...\n5480 2023-06-27 19:00:00  5.7         28.0\n5481 2023-06-27 20:00:00  5.6         28.0\n5482 2023-06-27 21:00:00  5.3         28.0\n5483 2023-06-27 22:00:00  4.8         28.0\n5484 2023-06-27 23:00:00  4.8         28.0\n\n[5485 rows x 3 columns]",
      "text/html": "<div>\n<style scoped>\n    .dataframe tbody tr th:only-of-type {\n        vertical-align: middle;\n    }\n\n    .dataframe tbody tr th {\n        vertical-align: top;\n    }\n\n    .dataframe thead th {\n        text-align: right;\n    }\n</style>\n<table border=\"1\" class=\"dataframe\">\n  <thead>\n    <tr style=\"text-align: right;\">\n      <th></th>\n      <th>Time</th>\n      <th>MW</th>\n      <th>temperature</th>\n    </tr>\n  </thead>\n  <tbody>\n    <tr>\n      <th>0</th>\n      <td>2022-01-24 02:00:00</td>\n      <td>2.4</td>\n      <td>16.0</td>\n    </tr>\n    <tr>\n      <th>1</th>\n      <td>2022-01-28 02:00:00</td>\n      <td>2.0</td>\n      <td>14.0</td>\n    </tr>\n    <tr>\n      <th>2</th>\n      <td>2022-02-01 06:00:00</td>\n      <td>1.7</td>\n      <td>12.0</td>\n    </tr>\n    <tr>\n      <th>3</th>\n      <td>2022-02-01 07:00:00</td>\n      <td>1.8</td>\n      <td>13.0</td>\n    </tr>\n    <tr>\n      <th>4</th>\n      <td>2022-02-01 08:00:00</td>\n      <td>2.3</td>\n      <td>14.0</td>\n    </tr>\n    <tr>\n      <th>...</th>\n      <td>...</td>\n      <td>...</td>\n      <td>...</td>\n    </tr>\n    <tr>\n      <th>5480</th>\n      <td>2023-06-27 19:00:00</td>\n      <td>5.7</td>\n      <td>28.0</td>\n    </tr>\n    <tr>\n      <th>5481</th>\n      <td>2023-06-27 20:00:00</td>\n      <td>5.6</td>\n      <td>28.0</td>\n    </tr>\n    <tr>\n      <th>5482</th>\n      <td>2023-06-27 21:00:00</td>\n      <td>5.3</td>\n      <td>28.0</td>\n    </tr>\n    <tr>\n      <th>5483</th>\n      <td>2023-06-27 22:00:00</td>\n      <td>4.8</td>\n      <td>28.0</td>\n    </tr>\n    <tr>\n      <th>5484</th>\n      <td>2023-06-27 23:00:00</td>\n      <td>4.8</td>\n      <td>28.0</td>\n    </tr>\n  </tbody>\n</table>\n<p>5485 rows × 3 columns</p>\n</div>"
     },
     "execution_count": 10,
     "metadata": {},
     "output_type": "execute_result"
    }
   ],
   "source": [
    "# joining the two dataframes such that the temperature data is only taken if there exists a reading in the power data dataframe\n",
    "df = pd.merge(power_df, temperature_df, on='Time', how='left')\n",
    "DF = pd.merge(full_power_df, temperature_df, on='Time', how='left')\n",
    "df['Time'] = pd.to_datetime(df['Time'])\n",
    "#drop all the rows where NaN\n",
    "df.dropna(inplace=True)\n",
    "df = df[df['MW'] <= 20]\n",
    "df = df.sort_values('Time')\n",
    "df.reset_index(inplace=True, drop = True)\n",
    "df\n"
   ],
   "metadata": {
    "collapsed": false,
    "ExecuteTime": {
     "end_time": "2023-12-23T16:32:19.233827700Z",
     "start_time": "2023-12-23T16:32:19.014434900Z"
    }
   }
  },
  {
   "cell_type": "code",
   "execution_count": 11,
   "outputs": [
    {
     "data": {
      "text/plain": "<Figure size 1200x600 with 0 Axes>"
     },
     "execution_count": 11,
     "metadata": {},
     "output_type": "execute_result"
    },
    {
     "data": {
      "text/plain": "[<matplotlib.lines.Line2D at 0x20976261ad0>]"
     },
     "execution_count": 11,
     "metadata": {},
     "output_type": "execute_result"
    },
    {
     "data": {
      "text/plain": "Text(0.5, 0, 'Week')"
     },
     "execution_count": 11,
     "metadata": {},
     "output_type": "execute_result"
    },
    {
     "data": {
      "text/plain": "Text(0, 0.5, 'Average Temperature')"
     },
     "execution_count": 11,
     "metadata": {},
     "output_type": "execute_result"
    },
    {
     "data": {
      "text/plain": "Text(0.5, 1.0, 'Weekly Average Temperature')"
     },
     "execution_count": 11,
     "metadata": {},
     "output_type": "execute_result"
    }
   ],
   "source": [
    "temporary_df = df.copy()\n",
    "# Convert 'Time' column to datetime if it's not already\n",
    "temporary_df['Time'] = pd.to_datetime(temporary_df['Time'])\n",
    "# Set 'Time' column as the index\n",
    "temporary_df.set_index('Time', inplace=True)\n",
    "# Resample the data to get weekly averages\n",
    "weekly_avg_temperature = temporary_df['temperature'].resample('W').mean()\n",
    "# Plot the weekly average temperature\n",
    "plt.figure(figsize=(12, 6))\n",
    "plt.plot(weekly_avg_temperature.index, weekly_avg_temperature.values, marker='o', linestyle='-')\n",
    "plt.xlabel('Week')\n",
    "plt.ylabel('Average Temperature')\n",
    "plt.title('Weekly Average Temperature')\n",
    "plt.grid(True)\n",
    "plt.show()\n"
   ],
   "metadata": {
    "collapsed": false,
    "ExecuteTime": {
     "end_time": "2023-12-23T16:32:19.233827700Z",
     "start_time": "2023-12-23T16:32:19.062851900Z"
    }
   }
  },
  {
   "cell_type": "code",
   "execution_count": 12,
   "outputs": [
    {
     "name": "stdout",
     "output_type": "stream",
     "text": [
      "Months with most data available in descending order:\n",
      "May 2023: 545 data points\n",
      "June 2023: 515 data points\n",
      "August 2022: 489 data points\n",
      "July 2022: 467 data points\n",
      "March 2022: 457 data points\n",
      "February 2022: 447 data points\n",
      "October 2022: 437 data points\n",
      "November 2022: 304 data points\n",
      "May 2022: 268 data points\n",
      "March 2023: 252 data points\n",
      "December 2022: 252 data points\n",
      "June 2022: 242 data points\n",
      "January 2023: 222 data points\n",
      "September 2022: 219 data points\n",
      "April 2022: 214 data points\n",
      "February 2023: 153 data points\n",
      "January 2022: 2 data points\n"
     ]
    }
   ],
   "source": [
    "df['Month'] = df['Time'].dt.month\n",
    "df['Year'] = df['Time'].dt.year\n",
    "\n",
    "# Group by month and year, and count the number of data entries\n",
    "monthly_data_counts = df.groupby(['Year', 'Month']).size().reset_index(name='DataCount')\n",
    "\n",
    "# Sort the data counts in descending order\n",
    "sorted_monthly_data_counts = monthly_data_counts.sort_values(by='DataCount', ascending=False)\n",
    "\n",
    "# List of months with most data available in descending order\n",
    "months_with_most_data = []\n",
    "for index, row in sorted_monthly_data_counts.iterrows():\n",
    "    month_name = pd.Timestamp(year=row['Year'], month=row['Month'], day=1).strftime('%B %Y')\n",
    "    data_count = row['DataCount']\n",
    "    months_with_most_data.append((month_name, data_count))\n",
    "\n",
    "print(\"Months with most data available in descending order:\")\n",
    "for month, data_count in months_with_most_data:\n",
    "    print(f\"{month}: {data_count} data points\")\n",
    "\n",
    "columns_to_drop = ['Year', 'Month']\n",
    "df.drop(columns=columns_to_drop, inplace=True)"
   ],
   "metadata": {
    "collapsed": false,
    "ExecuteTime": {
     "end_time": "2023-12-23T16:32:19.423729700Z",
     "start_time": "2023-12-23T16:32:19.190636800Z"
    }
   }
  },
  {
   "cell_type": "code",
   "execution_count": 13,
   "outputs": [
    {
     "data": {
      "text/plain": "                    Time    MW  temperature\n0    2022-02-07 00:00:00  2.18         12.0\n1    2022-02-07 03:00:00  1.71         12.0\n2    2022-02-07 05:00:00  1.70         12.0\n3    2022-02-07 14:00:00  2.50         22.0\n4    2022-02-07 15:00:00  2.50         22.0\n...                  ...   ...          ...\n3598 2022-12-25 15:00:00  2.40         24.0\n3599 2022-12-25 17:00:00  2.60         21.0\n3600 2022-12-25 19:00:00  2.60         18.0\n3601 2022-12-25 21:00:00  2.60         18.0\n3602 2022-12-25 23:00:00  2.40         18.0\n\n[3603 rows x 3 columns]",
      "text/html": "<div>\n<style scoped>\n    .dataframe tbody tr th:only-of-type {\n        vertical-align: middle;\n    }\n\n    .dataframe tbody tr th {\n        vertical-align: top;\n    }\n\n    .dataframe thead th {\n        text-align: right;\n    }\n</style>\n<table border=\"1\" class=\"dataframe\">\n  <thead>\n    <tr style=\"text-align: right;\">\n      <th></th>\n      <th>Time</th>\n      <th>MW</th>\n      <th>temperature</th>\n    </tr>\n  </thead>\n  <tbody>\n    <tr>\n      <th>0</th>\n      <td>2022-02-07 00:00:00</td>\n      <td>2.18</td>\n      <td>12.0</td>\n    </tr>\n    <tr>\n      <th>1</th>\n      <td>2022-02-07 03:00:00</td>\n      <td>1.71</td>\n      <td>12.0</td>\n    </tr>\n    <tr>\n      <th>2</th>\n      <td>2022-02-07 05:00:00</td>\n      <td>1.70</td>\n      <td>12.0</td>\n    </tr>\n    <tr>\n      <th>3</th>\n      <td>2022-02-07 14:00:00</td>\n      <td>2.50</td>\n      <td>22.0</td>\n    </tr>\n    <tr>\n      <th>4</th>\n      <td>2022-02-07 15:00:00</td>\n      <td>2.50</td>\n      <td>22.0</td>\n    </tr>\n    <tr>\n      <th>...</th>\n      <td>...</td>\n      <td>...</td>\n      <td>...</td>\n    </tr>\n    <tr>\n      <th>3598</th>\n      <td>2022-12-25 15:00:00</td>\n      <td>2.40</td>\n      <td>24.0</td>\n    </tr>\n    <tr>\n      <th>3599</th>\n      <td>2022-12-25 17:00:00</td>\n      <td>2.60</td>\n      <td>21.0</td>\n    </tr>\n    <tr>\n      <th>3600</th>\n      <td>2022-12-25 19:00:00</td>\n      <td>2.60</td>\n      <td>18.0</td>\n    </tr>\n    <tr>\n      <th>3601</th>\n      <td>2022-12-25 21:00:00</td>\n      <td>2.60</td>\n      <td>18.0</td>\n    </tr>\n    <tr>\n      <th>3602</th>\n      <td>2022-12-25 23:00:00</td>\n      <td>2.40</td>\n      <td>18.0</td>\n    </tr>\n  </tbody>\n</table>\n<p>3603 rows × 3 columns</p>\n</div>"
     },
     "execution_count": 13,
     "metadata": {},
     "output_type": "execute_result"
    },
    {
     "data": {
      "text/plain": "                    Time    MW  temperature\n103  2022-02-07 00:00:00  2.18         12.0\n104  2022-02-07 03:00:00  1.71         12.0\n105  2022-02-07 05:00:00  1.70         12.0\n106  2022-02-07 14:00:00  2.50         22.0\n107  2022-02-07 15:00:00  2.50         22.0\n...                  ...   ...          ...\n3701 2022-12-25 15:00:00  2.40         24.0\n3702 2022-12-25 17:00:00  2.60         21.0\n3703 2022-12-25 19:00:00  2.60         18.0\n3704 2022-12-25 21:00:00  2.60         18.0\n3705 2022-12-25 23:00:00  2.40         18.0\n\n[3603 rows x 3 columns]",
      "text/html": "<div>\n<style scoped>\n    .dataframe tbody tr th:only-of-type {\n        vertical-align: middle;\n    }\n\n    .dataframe tbody tr th {\n        vertical-align: top;\n    }\n\n    .dataframe thead th {\n        text-align: right;\n    }\n</style>\n<table border=\"1\" class=\"dataframe\">\n  <thead>\n    <tr style=\"text-align: right;\">\n      <th></th>\n      <th>Time</th>\n      <th>MW</th>\n      <th>temperature</th>\n    </tr>\n  </thead>\n  <tbody>\n    <tr>\n      <th>103</th>\n      <td>2022-02-07 00:00:00</td>\n      <td>2.18</td>\n      <td>12.0</td>\n    </tr>\n    <tr>\n      <th>104</th>\n      <td>2022-02-07 03:00:00</td>\n      <td>1.71</td>\n      <td>12.0</td>\n    </tr>\n    <tr>\n      <th>105</th>\n      <td>2022-02-07 05:00:00</td>\n      <td>1.70</td>\n      <td>12.0</td>\n    </tr>\n    <tr>\n      <th>106</th>\n      <td>2022-02-07 14:00:00</td>\n      <td>2.50</td>\n      <td>22.0</td>\n    </tr>\n    <tr>\n      <th>107</th>\n      <td>2022-02-07 15:00:00</td>\n      <td>2.50</td>\n      <td>22.0</td>\n    </tr>\n    <tr>\n      <th>...</th>\n      <td>...</td>\n      <td>...</td>\n      <td>...</td>\n    </tr>\n    <tr>\n      <th>3701</th>\n      <td>2022-12-25 15:00:00</td>\n      <td>2.40</td>\n      <td>24.0</td>\n    </tr>\n    <tr>\n      <th>3702</th>\n      <td>2022-12-25 17:00:00</td>\n      <td>2.60</td>\n      <td>21.0</td>\n    </tr>\n    <tr>\n      <th>3703</th>\n      <td>2022-12-25 19:00:00</td>\n      <td>2.60</td>\n      <td>18.0</td>\n    </tr>\n    <tr>\n      <th>3704</th>\n      <td>2022-12-25 21:00:00</td>\n      <td>2.60</td>\n      <td>18.0</td>\n    </tr>\n    <tr>\n      <th>3705</th>\n      <td>2022-12-25 23:00:00</td>\n      <td>2.40</td>\n      <td>18.0</td>\n    </tr>\n  </tbody>\n</table>\n<p>3603 rows × 3 columns</p>\n</div>"
     },
     "execution_count": 13,
     "metadata": {},
     "output_type": "execute_result"
    }
   ],
   "source": [
    "full_model_start_time = pd.Timestamp('2022-02-07 00:00:00')\n",
    "full_model_end_time = pd.Timestamp('2022-12-25 23:00:00')\n",
    "df = df.sort_values('Time')\n",
    "df = df[(df['Time'] >= full_model_start_time) & (df['Time'] <= full_model_end_time)]\n",
    "\n",
    "df.reset_index(drop=True)\n",
    "df"
   ],
   "metadata": {
    "collapsed": false,
    "ExecuteTime": {
     "end_time": "2023-12-23T16:32:19.532156400Z",
     "start_time": "2023-12-23T16:32:19.214843100Z"
    }
   }
  },
  {
   "cell_type": "code",
   "execution_count": 14,
   "outputs": [
    {
     "name": "stdout",
     "output_type": "stream",
     "text": [
      "TcoolStPt: 20, Correlation Coefficient: 0.33506987356128504\n",
      "TcoolStPt: 21, Correlation Coefficient: 0.33506987356128487\n",
      "TcoolStPt: 22, Correlation Coefficient: 0.33506987356128487\n",
      "TcoolStPt: 23, Correlation Coefficient: 0.33506987356128487\n",
      "TcoolStPt: 24, Correlation Coefficient: 0.33506987356128487\n",
      "TcoolStPt: 25, Correlation Coefficient: 0.33506987356128487\n",
      "TcoolStPt: 26, Correlation Coefficient: 0.3332339229685242\n",
      "TcoolStPt: 27, Correlation Coefficient: 0.3260764260512506\n",
      "TcoolStPt: 28, Correlation Coefficient: 0.30692487715279465\n",
      "TcoolStPt: 29, Correlation Coefficient: 0.2639424385073419\n",
      "TcoolStPt: 30, Correlation Coefficient: 0.2111712640247728\n",
      "TcoolStPt: 31, Correlation Coefficient: 0.17575610675706818\n",
      "TcoolStPt: 32, Correlation Coefficient: 0.14074346886729133\n",
      "TcoolStPt: 33, Correlation Coefficient: 0.07722296457902907\n",
      "TcoolStPt: 36, Correlation Coefficient: 0.0038029578442890766\n",
      "TcoolStPt: 34, Correlation Coefficient: 0.003618685986427374\n",
      "TcoolStPt: 35, Correlation Coefficient: -0.027660393767537643\n",
      "TcoolStPt: 37, Correlation Coefficient: nan\n",
      "TcoolStPt: 38, Correlation Coefficient: nan\n",
      "TcoolStPt: 39, Correlation Coefficient: nan\n"
     ]
    }
   ],
   "source": [
    "correlation_start_time = pd.Timestamp('2022-07-04 00:00:00')\n",
    "correlation_end_time = pd.Timestamp('2022-08-28 23:00:00')\n",
    "training_mask = (df['Time'] >= correlation_start_time) & (df['Time'] <= correlation_end_time)\n",
    "mw_array = np.array(df['MW'][training_mask], dtype='float64')\n",
    "correlation_values = []\n",
    "\n",
    "for i in range(20, 40):\n",
    "    TcoolStPt = i\n",
    "    CDH = df['temperature'][training_mask] - TcoolStPt\n",
    "    CDH.clip(lower=0, inplace=True)\n",
    "    CDH = pd.DataFrame(data=CDH.values, columns=['CDH'], index=df[training_mask].index)\n",
    "    temp_array = np.array(CDH['CDH'], dtype='float64')\n",
    "    correlation_coefficient = np.corrcoef(mw_array, temp_array)[0, 1]\n",
    "    correlation_values.append((TcoolStPt, correlation_coefficient))\n",
    "\n",
    "# Sort the correlation values list in descending order based on correlation coefficient\n",
    "sorted_correlation_values = sorted(correlation_values, key=lambda x: x[1], reverse=True)\n",
    "\n",
    "# Print the TcoolStPt values with highest correlation coefficients in descending order\n",
    "for tcool_stpt, corr_coeff in sorted_correlation_values:\n",
    "    print(f'TcoolStPt: {tcool_stpt}, Correlation Coefficient: {corr_coeff}')"
   ],
   "metadata": {
    "collapsed": false,
    "ExecuteTime": {
     "end_time": "2023-12-23T16:32:19.567185700Z",
     "start_time": "2023-12-23T16:32:19.239347700Z"
    }
   }
  },
  {
   "cell_type": "code",
   "execution_count": 15,
   "outputs": [
    {
     "data": {
      "text/plain": "\"TcoolStPt = 31\\nCDH = df['temperature'] - TcoolStPt\\nCDH.clip(lower=0, inplace=True)\\nCDH = pd.DataFrame(data=CDH.values, columns=['CDH'])\\ndf = pd.concat([df, CDH['CDH']], axis=1)\""
     },
     "execution_count": 15,
     "metadata": {},
     "output_type": "execute_result"
    },
    {
     "data": {
      "text/plain": "                    Time    MW  temperature  CDH\n103  2022-02-07 00:00:00  2.18         12.0  0.0\n104  2022-02-07 03:00:00  1.71         12.0  0.0\n105  2022-02-07 05:00:00  1.70         12.0  0.0\n106  2022-02-07 14:00:00  2.50         22.0  0.0\n107  2022-02-07 15:00:00  2.50         22.0  0.0\n...                  ...   ...          ...  ...\n3701 2022-12-25 15:00:00  2.40         24.0  0.0\n3702 2022-12-25 17:00:00  2.60         21.0  0.0\n3703 2022-12-25 19:00:00  2.60         18.0  0.0\n3704 2022-12-25 21:00:00  2.60         18.0  0.0\n3705 2022-12-25 23:00:00  2.40         18.0  0.0\n\n[3603 rows x 4 columns]",
      "text/html": "<div>\n<style scoped>\n    .dataframe tbody tr th:only-of-type {\n        vertical-align: middle;\n    }\n\n    .dataframe tbody tr th {\n        vertical-align: top;\n    }\n\n    .dataframe thead th {\n        text-align: right;\n    }\n</style>\n<table border=\"1\" class=\"dataframe\">\n  <thead>\n    <tr style=\"text-align: right;\">\n      <th></th>\n      <th>Time</th>\n      <th>MW</th>\n      <th>temperature</th>\n      <th>CDH</th>\n    </tr>\n  </thead>\n  <tbody>\n    <tr>\n      <th>103</th>\n      <td>2022-02-07 00:00:00</td>\n      <td>2.18</td>\n      <td>12.0</td>\n      <td>0.0</td>\n    </tr>\n    <tr>\n      <th>104</th>\n      <td>2022-02-07 03:00:00</td>\n      <td>1.71</td>\n      <td>12.0</td>\n      <td>0.0</td>\n    </tr>\n    <tr>\n      <th>105</th>\n      <td>2022-02-07 05:00:00</td>\n      <td>1.70</td>\n      <td>12.0</td>\n      <td>0.0</td>\n    </tr>\n    <tr>\n      <th>106</th>\n      <td>2022-02-07 14:00:00</td>\n      <td>2.50</td>\n      <td>22.0</td>\n      <td>0.0</td>\n    </tr>\n    <tr>\n      <th>107</th>\n      <td>2022-02-07 15:00:00</td>\n      <td>2.50</td>\n      <td>22.0</td>\n      <td>0.0</td>\n    </tr>\n    <tr>\n      <th>...</th>\n      <td>...</td>\n      <td>...</td>\n      <td>...</td>\n      <td>...</td>\n    </tr>\n    <tr>\n      <th>3701</th>\n      <td>2022-12-25 15:00:00</td>\n      <td>2.40</td>\n      <td>24.0</td>\n      <td>0.0</td>\n    </tr>\n    <tr>\n      <th>3702</th>\n      <td>2022-12-25 17:00:00</td>\n      <td>2.60</td>\n      <td>21.0</td>\n      <td>0.0</td>\n    </tr>\n    <tr>\n      <th>3703</th>\n      <td>2022-12-25 19:00:00</td>\n      <td>2.60</td>\n      <td>18.0</td>\n      <td>0.0</td>\n    </tr>\n    <tr>\n      <th>3704</th>\n      <td>2022-12-25 21:00:00</td>\n      <td>2.60</td>\n      <td>18.0</td>\n      <td>0.0</td>\n    </tr>\n    <tr>\n      <th>3705</th>\n      <td>2022-12-25 23:00:00</td>\n      <td>2.40</td>\n      <td>18.0</td>\n      <td>0.0</td>\n    </tr>\n  </tbody>\n</table>\n<p>3603 rows × 4 columns</p>\n</div>"
     },
     "execution_count": 15,
     "metadata": {},
     "output_type": "execute_result"
    }
   ],
   "source": [
    "'''TcoolStPt = 31\n",
    "CDH = df['temperature'] - TcoolStPt\n",
    "CDH.clip(lower=0, inplace=True)\n",
    "CDH = pd.DataFrame(data=CDH.values, columns=['CDH'])\n",
    "df = pd.concat([df, CDH['CDH']], axis=1)'''\n",
    "\n",
    "TcoolStPt = 31\n",
    "CDH = df['temperature'] - TcoolStPt\n",
    "CDH.clip(lower=0, inplace=True)\n",
    "CDH = pd.DataFrame(data=CDH.values, columns=['CDH'], index=df.index)\n",
    "# Concatenate CDH with the original DataFrame using the index\n",
    "df = pd.concat([df, CDH], axis=1)\n",
    "\n",
    "CDH = DF['temperature'] - TcoolStPt\n",
    "CDH.clip(lower=0, inplace=True)\n",
    "CDH = pd.DataFrame(data=CDH.values, columns=['CDH'], index=DF.index)\n",
    "# Concatenate CDH with the original DataFrame using the index\n",
    "DF = pd.concat([DF, CDH], axis=1)\n",
    "df"
   ],
   "metadata": {
    "collapsed": false,
    "ExecuteTime": {
     "end_time": "2023-12-23T16:32:19.655251100Z",
     "start_time": "2023-12-23T16:32:19.279389400Z"
    }
   }
  },
  {
   "cell_type": "code",
   "execution_count": 16,
   "outputs": [
    {
     "name": "stdout",
     "output_type": "stream",
     "text": [
      "correlation between CDH and power:  0.24590312440133627\n"
     ]
    }
   ],
   "source": [
    "mw_array = np.array(df['MW'], dtype='float64')\n",
    "temp_array = np.array(df['CDH'], dtype='float64')\n",
    "correlation_coefficient = np.corrcoef(mw_array, temp_array)[0, 1]\n",
    "print('correlation between CDH and power: ', correlation_coefficient)"
   ],
   "metadata": {
    "collapsed": false,
    "ExecuteTime": {
     "end_time": "2023-12-23T16:32:19.655251100Z",
     "start_time": "2023-12-23T16:32:19.311513200Z"
    }
   }
  },
  {
   "cell_type": "code",
   "execution_count": 17,
   "outputs": [],
   "source": [
    "df.dropna(inplace=True)\n",
    "df = df.sort_values('Time')\n",
    "df.reset_index(inplace=True, drop = True)"
   ],
   "metadata": {
    "collapsed": false,
    "ExecuteTime": {
     "end_time": "2023-12-23T16:32:19.655251100Z",
     "start_time": "2023-12-23T16:32:19.327580300Z"
    }
   }
  },
  {
   "cell_type": "code",
   "execution_count": 18,
   "outputs": [
    {
     "data": {
      "text/plain": "<contextlib.ExitStack at 0x209758af390>"
     },
     "execution_count": 18,
     "metadata": {},
     "output_type": "execute_result"
    },
    {
     "data": {
      "text/plain": "<matplotlib.collections.PathCollection at 0x20975570f90>"
     },
     "execution_count": 18,
     "metadata": {},
     "output_type": "execute_result"
    },
    {
     "data": {
      "text/plain": "Text(0.5, 1.0, 'MW vs Temperature')"
     },
     "execution_count": 18,
     "metadata": {},
     "output_type": "execute_result"
    },
    {
     "data": {
      "text/plain": "<Figure size 1000x500 with 0 Axes>"
     },
     "execution_count": 18,
     "metadata": {},
     "output_type": "execute_result"
    },
    {
     "data": {
      "text/plain": "<contextlib.ExitStack at 0x209755bc990>"
     },
     "execution_count": 18,
     "metadata": {},
     "output_type": "execute_result"
    },
    {
     "data": {
      "text/plain": "[<matplotlib.lines.Line2D at 0x209759bfe50>]"
     },
     "execution_count": 18,
     "metadata": {},
     "output_type": "execute_result"
    },
    {
     "data": {
      "text/plain": "[<matplotlib.lines.Line2D at 0x2097571a1d0>]"
     },
     "execution_count": 18,
     "metadata": {},
     "output_type": "execute_result"
    },
    {
     "data": {
      "text/plain": "Text(0.5, 0, 'Time')"
     },
     "execution_count": 18,
     "metadata": {},
     "output_type": "execute_result"
    },
    {
     "data": {
      "text/plain": "(array([19024., 19052., 19083., 19113., 19144., 19174., 19205., 19236.,\n        19266., 19297., 19327., 19358.]),\n [Text(19024.0, 0, '2022-02'),\n  Text(19052.0, 0, '2022-03'),\n  Text(19083.0, 0, '2022-04'),\n  Text(19113.0, 0, '2022-05'),\n  Text(19144.0, 0, '2022-06'),\n  Text(19174.0, 0, '2022-07'),\n  Text(19205.0, 0, '2022-08'),\n  Text(19236.0, 0, '2022-09'),\n  Text(19266.0, 0, '2022-10'),\n  Text(19297.0, 0, '2022-11'),\n  Text(19327.0, 0, '2022-12'),\n  Text(19358.0, 0, '2023-01')])"
     },
     "execution_count": 18,
     "metadata": {},
     "output_type": "execute_result"
    },
    {
     "data": {
      "text/plain": "Text(0.5, 1.0, 'power and temperature vs time (not normalized)')"
     },
     "execution_count": 18,
     "metadata": {},
     "output_type": "execute_result"
    },
    {
     "data": {
      "text/plain": "<matplotlib.legend.Legend at 0x20975666cd0>"
     },
     "execution_count": 18,
     "metadata": {},
     "output_type": "execute_result"
    },
    {
     "data": {
      "text/plain": "<Figure size 1000x500 with 0 Axes>"
     },
     "execution_count": 18,
     "metadata": {},
     "output_type": "execute_result"
    },
    {
     "data": {
      "text/plain": "<contextlib.ExitStack at 0x20943ef4610>"
     },
     "execution_count": 18,
     "metadata": {},
     "output_type": "execute_result"
    },
    {
     "data": {
      "text/plain": "[<matplotlib.lines.Line2D at 0x209758dc050>]"
     },
     "execution_count": 18,
     "metadata": {},
     "output_type": "execute_result"
    },
    {
     "data": {
      "text/plain": "[<matplotlib.lines.Line2D at 0x20975406790>]"
     },
     "execution_count": 18,
     "metadata": {},
     "output_type": "execute_result"
    },
    {
     "data": {
      "text/plain": "Text(0.5, 0, 'Time')"
     },
     "execution_count": 18,
     "metadata": {},
     "output_type": "execute_result"
    },
    {
     "data": {
      "text/plain": "(array([19024., 19052., 19083., 19113., 19144., 19174., 19205., 19236.,\n        19266., 19297., 19327., 19358.]),\n [Text(19024.0, 0, '2022-02'),\n  Text(19052.0, 0, '2022-03'),\n  Text(19083.0, 0, '2022-04'),\n  Text(19113.0, 0, '2022-05'),\n  Text(19144.0, 0, '2022-06'),\n  Text(19174.0, 0, '2022-07'),\n  Text(19205.0, 0, '2022-08'),\n  Text(19236.0, 0, '2022-09'),\n  Text(19266.0, 0, '2022-10'),\n  Text(19297.0, 0, '2022-11'),\n  Text(19327.0, 0, '2022-12'),\n  Text(19358.0, 0, '2023-01')])"
     },
     "execution_count": 18,
     "metadata": {},
     "output_type": "execute_result"
    },
    {
     "data": {
      "text/plain": "Text(0.5, 1.0, 'power and temperature vs time (normalized)')"
     },
     "execution_count": 18,
     "metadata": {},
     "output_type": "execute_result"
    },
    {
     "data": {
      "text/plain": "<matplotlib.legend.Legend at 0x209758df3d0>"
     },
     "execution_count": 18,
     "metadata": {},
     "output_type": "execute_result"
    }
   ],
   "source": [
    "\n",
    "plt.ion()\n",
    "df['MW'] = pd.to_numeric(df['MW'], errors = 'coerce')\n",
    "f,ax = plt.subplots(nrows = 1, figsize=(5,5))\n",
    "#plt.plot(df['temperature'], df['MW'])\n",
    "plt.scatter(df['temperature'], df['MW'],color='red')\n",
    "ax.set_title('MW vs Temperature')\n",
    "\n",
    "power_normalized = preprocessing.normalize([df['MW']]).reshape(-1,1)\n",
    "temperature_normalized = preprocessing.normalize([df['temperature']]).reshape(-1,1)\n",
    "\n",
    "plt.figure(figsize=(10, 5))\n",
    "plt.ion()\n",
    "plt.plot(df['Time'], df['MW'], marker='o', linestyle='-', color='r', label='MW')\n",
    "plt.plot(df['Time'], df['temperature'], marker='o', linestyle='-', color='y', label='temp')\n",
    "plt.xlabel('Time')\n",
    "plt.xticks(rotation=45)\n",
    "ax = plt.gca()\n",
    "ax.set_facecolor('white')\n",
    "ax.set_title('power and temperature vs time (not normalized)')\n",
    "plt.legend()\n",
    "plt.tight_layout()\n",
    "plt.show()\n",
    "\n",
    "plt.figure(figsize=(10, 5))\n",
    "plt.ion()\n",
    "plt.plot(df['Time'], power_normalized, marker='o', linestyle='-', color='r', label='MW')\n",
    "plt.plot(df['Time'], temperature_normalized, marker='o', linestyle='-', color='y', label='temp')\n",
    "plt.xlabel('Time')\n",
    "plt.xticks(rotation=45)\n",
    "ax = plt.gca()\n",
    "ax.set_facecolor('white')\n",
    "ax.set_title('power and temperature vs time (normalized)')\n",
    "plt.legend()\n",
    "plt.tight_layout()\n",
    "plt.show()"
   ],
   "metadata": {
    "collapsed": false,
    "ExecuteTime": {
     "end_time": "2023-12-23T16:32:20.303625800Z",
     "start_time": "2023-12-23T16:32:19.335705800Z"
    }
   }
  },
  {
   "cell_type": "code",
   "execution_count": 19,
   "outputs": [
    {
     "data": {
      "text/plain": "                    Time    MW temperature  CDH omega1 omega2 omega3 omega4  \\\n0    2022-02-07 00:00:00  2.18        12.0  0.0    1.0    0.0    0.0    0.0   \n1    2022-02-07 03:00:00  1.71        12.0  0.0    0.0    0.0    0.0    1.0   \n2    2022-02-07 05:00:00   1.7        12.0  0.0    0.0    0.0    0.0    0.0   \n3    2022-02-07 14:00:00   2.5        22.0  0.0    0.0    0.0    0.0    0.0   \n4    2022-02-07 15:00:00   2.5        22.0  0.0    0.0    0.0    0.0    0.0   \n...                  ...   ...         ...  ...    ...    ...    ...    ...   \n3598 2022-12-25 15:00:00   2.4        24.0  0.0    0.0    0.0    0.0    0.0   \n3599 2022-12-25 17:00:00   2.6        21.0  0.0    0.0    0.0    0.0    0.0   \n3600 2022-12-25 19:00:00   2.6        18.0  0.0    0.0    0.0    0.0    0.0   \n3601 2022-12-25 21:00:00   2.6        18.0  0.0    0.0    0.0    0.0    0.0   \n3602 2022-12-25 23:00:00   2.4        18.0  0.0    0.0    0.0    0.0    0.0   \n\n     omega5 omega6  ... omega159 omega160 omega161 omega162 omega163 omega164  \\\n0       0.0    0.0  ...      0.0      0.0      0.0      0.0      0.0      0.0   \n1       0.0    0.0  ...      0.0      0.0      0.0      0.0      0.0      0.0   \n2       0.0    1.0  ...      0.0      0.0      0.0      0.0      0.0      0.0   \n3       0.0    0.0  ...      0.0      0.0      0.0      0.0      0.0      0.0   \n4       0.0    0.0  ...      0.0      0.0      0.0      0.0      0.0      0.0   \n...     ...    ...  ...      ...      ...      ...      ...      ...      ...   \n3598    0.0    0.0  ...      0.0      1.0      0.0      0.0      0.0      0.0   \n3599    0.0    0.0  ...      0.0      0.0      0.0      1.0      0.0      0.0   \n3600    0.0    0.0  ...      0.0      0.0      0.0      0.0      0.0      1.0   \n3601    0.0    0.0  ...      0.0      0.0      0.0      0.0      0.0      0.0   \n3602    0.0    0.0  ...      0.0      0.0      0.0      0.0      0.0      0.0   \n\n     omega165 omega166 omega167 omega168  \n0         0.0      0.0      0.0      0.0  \n1         0.0      0.0      0.0      0.0  \n2         0.0      0.0      0.0      0.0  \n3         0.0      0.0      0.0      0.0  \n4         0.0      0.0      0.0      0.0  \n...       ...      ...      ...      ...  \n3598      0.0      0.0      0.0      0.0  \n3599      0.0      0.0      0.0      0.0  \n3600      0.0      0.0      0.0      0.0  \n3601      0.0      1.0      0.0      0.0  \n3602      0.0      0.0      0.0      1.0  \n\n[3603 rows x 172 columns]",
      "text/html": "<div>\n<style scoped>\n    .dataframe tbody tr th:only-of-type {\n        vertical-align: middle;\n    }\n\n    .dataframe tbody tr th {\n        vertical-align: top;\n    }\n\n    .dataframe thead th {\n        text-align: right;\n    }\n</style>\n<table border=\"1\" class=\"dataframe\">\n  <thead>\n    <tr style=\"text-align: right;\">\n      <th></th>\n      <th>Time</th>\n      <th>MW</th>\n      <th>temperature</th>\n      <th>CDH</th>\n      <th>omega1</th>\n      <th>omega2</th>\n      <th>omega3</th>\n      <th>omega4</th>\n      <th>omega5</th>\n      <th>omega6</th>\n      <th>...</th>\n      <th>omega159</th>\n      <th>omega160</th>\n      <th>omega161</th>\n      <th>omega162</th>\n      <th>omega163</th>\n      <th>omega164</th>\n      <th>omega165</th>\n      <th>omega166</th>\n      <th>omega167</th>\n      <th>omega168</th>\n    </tr>\n  </thead>\n  <tbody>\n    <tr>\n      <th>0</th>\n      <td>2022-02-07 00:00:00</td>\n      <td>2.18</td>\n      <td>12.0</td>\n      <td>0.0</td>\n      <td>1.0</td>\n      <td>0.0</td>\n      <td>0.0</td>\n      <td>0.0</td>\n      <td>0.0</td>\n      <td>0.0</td>\n      <td>...</td>\n      <td>0.0</td>\n      <td>0.0</td>\n      <td>0.0</td>\n      <td>0.0</td>\n      <td>0.0</td>\n      <td>0.0</td>\n      <td>0.0</td>\n      <td>0.0</td>\n      <td>0.0</td>\n      <td>0.0</td>\n    </tr>\n    <tr>\n      <th>1</th>\n      <td>2022-02-07 03:00:00</td>\n      <td>1.71</td>\n      <td>12.0</td>\n      <td>0.0</td>\n      <td>0.0</td>\n      <td>0.0</td>\n      <td>0.0</td>\n      <td>1.0</td>\n      <td>0.0</td>\n      <td>0.0</td>\n      <td>...</td>\n      <td>0.0</td>\n      <td>0.0</td>\n      <td>0.0</td>\n      <td>0.0</td>\n      <td>0.0</td>\n      <td>0.0</td>\n      <td>0.0</td>\n      <td>0.0</td>\n      <td>0.0</td>\n      <td>0.0</td>\n    </tr>\n    <tr>\n      <th>2</th>\n      <td>2022-02-07 05:00:00</td>\n      <td>1.7</td>\n      <td>12.0</td>\n      <td>0.0</td>\n      <td>0.0</td>\n      <td>0.0</td>\n      <td>0.0</td>\n      <td>0.0</td>\n      <td>0.0</td>\n      <td>1.0</td>\n      <td>...</td>\n      <td>0.0</td>\n      <td>0.0</td>\n      <td>0.0</td>\n      <td>0.0</td>\n      <td>0.0</td>\n      <td>0.0</td>\n      <td>0.0</td>\n      <td>0.0</td>\n      <td>0.0</td>\n      <td>0.0</td>\n    </tr>\n    <tr>\n      <th>3</th>\n      <td>2022-02-07 14:00:00</td>\n      <td>2.5</td>\n      <td>22.0</td>\n      <td>0.0</td>\n      <td>0.0</td>\n      <td>0.0</td>\n      <td>0.0</td>\n      <td>0.0</td>\n      <td>0.0</td>\n      <td>0.0</td>\n      <td>...</td>\n      <td>0.0</td>\n      <td>0.0</td>\n      <td>0.0</td>\n      <td>0.0</td>\n      <td>0.0</td>\n      <td>0.0</td>\n      <td>0.0</td>\n      <td>0.0</td>\n      <td>0.0</td>\n      <td>0.0</td>\n    </tr>\n    <tr>\n      <th>4</th>\n      <td>2022-02-07 15:00:00</td>\n      <td>2.5</td>\n      <td>22.0</td>\n      <td>0.0</td>\n      <td>0.0</td>\n      <td>0.0</td>\n      <td>0.0</td>\n      <td>0.0</td>\n      <td>0.0</td>\n      <td>0.0</td>\n      <td>...</td>\n      <td>0.0</td>\n      <td>0.0</td>\n      <td>0.0</td>\n      <td>0.0</td>\n      <td>0.0</td>\n      <td>0.0</td>\n      <td>0.0</td>\n      <td>0.0</td>\n      <td>0.0</td>\n      <td>0.0</td>\n    </tr>\n    <tr>\n      <th>...</th>\n      <td>...</td>\n      <td>...</td>\n      <td>...</td>\n      <td>...</td>\n      <td>...</td>\n      <td>...</td>\n      <td>...</td>\n      <td>...</td>\n      <td>...</td>\n      <td>...</td>\n      <td>...</td>\n      <td>...</td>\n      <td>...</td>\n      <td>...</td>\n      <td>...</td>\n      <td>...</td>\n      <td>...</td>\n      <td>...</td>\n      <td>...</td>\n      <td>...</td>\n      <td>...</td>\n    </tr>\n    <tr>\n      <th>3598</th>\n      <td>2022-12-25 15:00:00</td>\n      <td>2.4</td>\n      <td>24.0</td>\n      <td>0.0</td>\n      <td>0.0</td>\n      <td>0.0</td>\n      <td>0.0</td>\n      <td>0.0</td>\n      <td>0.0</td>\n      <td>0.0</td>\n      <td>...</td>\n      <td>0.0</td>\n      <td>1.0</td>\n      <td>0.0</td>\n      <td>0.0</td>\n      <td>0.0</td>\n      <td>0.0</td>\n      <td>0.0</td>\n      <td>0.0</td>\n      <td>0.0</td>\n      <td>0.0</td>\n    </tr>\n    <tr>\n      <th>3599</th>\n      <td>2022-12-25 17:00:00</td>\n      <td>2.6</td>\n      <td>21.0</td>\n      <td>0.0</td>\n      <td>0.0</td>\n      <td>0.0</td>\n      <td>0.0</td>\n      <td>0.0</td>\n      <td>0.0</td>\n      <td>0.0</td>\n      <td>...</td>\n      <td>0.0</td>\n      <td>0.0</td>\n      <td>0.0</td>\n      <td>1.0</td>\n      <td>0.0</td>\n      <td>0.0</td>\n      <td>0.0</td>\n      <td>0.0</td>\n      <td>0.0</td>\n      <td>0.0</td>\n    </tr>\n    <tr>\n      <th>3600</th>\n      <td>2022-12-25 19:00:00</td>\n      <td>2.6</td>\n      <td>18.0</td>\n      <td>0.0</td>\n      <td>0.0</td>\n      <td>0.0</td>\n      <td>0.0</td>\n      <td>0.0</td>\n      <td>0.0</td>\n      <td>0.0</td>\n      <td>...</td>\n      <td>0.0</td>\n      <td>0.0</td>\n      <td>0.0</td>\n      <td>0.0</td>\n      <td>0.0</td>\n      <td>1.0</td>\n      <td>0.0</td>\n      <td>0.0</td>\n      <td>0.0</td>\n      <td>0.0</td>\n    </tr>\n    <tr>\n      <th>3601</th>\n      <td>2022-12-25 21:00:00</td>\n      <td>2.6</td>\n      <td>18.0</td>\n      <td>0.0</td>\n      <td>0.0</td>\n      <td>0.0</td>\n      <td>0.0</td>\n      <td>0.0</td>\n      <td>0.0</td>\n      <td>0.0</td>\n      <td>...</td>\n      <td>0.0</td>\n      <td>0.0</td>\n      <td>0.0</td>\n      <td>0.0</td>\n      <td>0.0</td>\n      <td>0.0</td>\n      <td>0.0</td>\n      <td>1.0</td>\n      <td>0.0</td>\n      <td>0.0</td>\n    </tr>\n    <tr>\n      <th>3602</th>\n      <td>2022-12-25 23:00:00</td>\n      <td>2.4</td>\n      <td>18.0</td>\n      <td>0.0</td>\n      <td>0.0</td>\n      <td>0.0</td>\n      <td>0.0</td>\n      <td>0.0</td>\n      <td>0.0</td>\n      <td>0.0</td>\n      <td>...</td>\n      <td>0.0</td>\n      <td>0.0</td>\n      <td>0.0</td>\n      <td>0.0</td>\n      <td>0.0</td>\n      <td>0.0</td>\n      <td>0.0</td>\n      <td>0.0</td>\n      <td>0.0</td>\n      <td>1.0</td>\n    </tr>\n  </tbody>\n</table>\n<p>3603 rows × 172 columns</p>\n</div>"
     },
     "execution_count": 19,
     "metadata": {},
     "output_type": "execute_result"
    }
   ],
   "source": [
    "numOmegas = 24 * 7\n",
    "num_of_rows = df.shape[0]\n",
    "omegas = np.zeros((num_of_rows, numOmegas))  # Assuming numOmegas columns for omegas\n",
    "concatenated_data = np.concatenate((df, omegas), axis=1)\n",
    "column_names = ['Time', 'MW', 'temperature', 'CDH']\n",
    "for i in range(1, numOmegas + 1,1):\n",
    "    column_names.append('omega' + str(i))\n",
    "\n",
    "df = pd.DataFrame(concatenated_data, columns=column_names)\n",
    "df['Time'] = pd.to_datetime(df['Time'])\n",
    "for i in range(0,num_of_rows):\n",
    "        datetime = df.Time.loc[i]\n",
    "        hourOfWeekIndex = int(datetime.dayofweek*24+(datetime.hour+1))\n",
    "        x = np.zeros((1,numOmegas))\n",
    "        x[0,hourOfWeekIndex-1]=1\n",
    "        omegas[i,:]=x\n",
    "\n",
    "df.iloc[:,4:]=omegas\n",
    "df"
   ],
   "metadata": {
    "collapsed": false,
    "ExecuteTime": {
     "end_time": "2023-12-23T16:32:20.715716800Z",
     "start_time": "2023-12-23T16:32:19.871050400Z"
    }
   }
  },
  {
   "cell_type": "code",
   "execution_count": 20,
   "outputs": [],
   "source": [
    "from scipy import stats\n",
    "from sklearn import preprocessing\n",
    "from sklearn.model_selection import KFold\n",
    "from sklearn.linear_model import LinearRegression\n",
    "from sklearn.linear_model import LinearRegression\n",
    "from sklearn.preprocessing import PolynomialFeatures\n",
    "from sklearn.metrics import mean_squared_error\n",
    "from sklearn.model_selection import train_test_split\n",
    "import itertools\n"
   ],
   "metadata": {
    "collapsed": false,
    "ExecuteTime": {
     "end_time": "2023-12-23T16:32:20.748071300Z",
     "start_time": "2023-12-23T16:32:20.183554800Z"
    }
   }
  },
  {
   "cell_type": "code",
   "execution_count": 21,
   "outputs": [],
   "source": [
    "#set timeframe for training data\n",
    "start_time = pd.Timestamp('2022-07-04 00:00:00')\n",
    "end_time = pd.Timestamp('2022-08-28 23:00:00')\n",
    "training_mask = (df['Time'] >= start_time) & (df['Time'] <= end_time) & (df['CDH'] > 0)\n",
    "training_df = df[training_mask]\n",
    "#training_df = training_df.dropna(subset=['CDH'])\n",
    "#training_df = training_df.dropna(subset=['MW'])\n",
    "\n",
    "x_train = training_df.loc[:, 'CDH']\n",
    "y_train = training_df.loc[:, 'MW']\n",
    "t_train = training_df['Time']\n",
    "\n",
    "x_train = pd.to_numeric(x_train, errors='coerce')\n",
    "x_train = x_train.values.reshape(-1, 1)\n",
    "y_train = np.array(y_train)\n",
    "\n",
    "# For testing data, use data after end_time to testing_end_time\n",
    "testing_end_time = pd.Timestamp('2022-10-15 23:00:00')\n",
    "testing_mask = (df['Time'] > end_time) & (df['Time'] <= testing_end_time) & (df['CDH'] > 0)\n",
    "testing_df = df[testing_mask]\n",
    "testing_df = testing_df.dropna(subset=['CDH'])\n",
    "testing_df = testing_df.dropna(subset=['MW'])\n",
    "x_test = testing_df.loc[:, 'CDH']\n",
    "y_test = testing_df.loc[:, 'MW']\n",
    "t_test = testing_df['Time']"
   ],
   "metadata": {
    "collapsed": false,
    "ExecuteTime": {
     "end_time": "2023-12-23T16:32:20.748071300Z",
     "start_time": "2023-12-23T16:32:20.433240600Z"
    }
   }
  },
  {
   "cell_type": "code",
   "execution_count": 22,
   "outputs": [
    {
     "data": {
      "text/plain": "LinearRegression()",
      "text/html": "<style>#sk-container-id-1 {color: black;}#sk-container-id-1 pre{padding: 0;}#sk-container-id-1 div.sk-toggleable {background-color: white;}#sk-container-id-1 label.sk-toggleable__label {cursor: pointer;display: block;width: 100%;margin-bottom: 0;padding: 0.3em;box-sizing: border-box;text-align: center;}#sk-container-id-1 label.sk-toggleable__label-arrow:before {content: \"▸\";float: left;margin-right: 0.25em;color: #696969;}#sk-container-id-1 label.sk-toggleable__label-arrow:hover:before {color: black;}#sk-container-id-1 div.sk-estimator:hover label.sk-toggleable__label-arrow:before {color: black;}#sk-container-id-1 div.sk-toggleable__content {max-height: 0;max-width: 0;overflow: hidden;text-align: left;background-color: #f0f8ff;}#sk-container-id-1 div.sk-toggleable__content pre {margin: 0.2em;color: black;border-radius: 0.25em;background-color: #f0f8ff;}#sk-container-id-1 input.sk-toggleable__control:checked~div.sk-toggleable__content {max-height: 200px;max-width: 100%;overflow: auto;}#sk-container-id-1 input.sk-toggleable__control:checked~label.sk-toggleable__label-arrow:before {content: \"▾\";}#sk-container-id-1 div.sk-estimator input.sk-toggleable__control:checked~label.sk-toggleable__label {background-color: #d4ebff;}#sk-container-id-1 div.sk-label input.sk-toggleable__control:checked~label.sk-toggleable__label {background-color: #d4ebff;}#sk-container-id-1 input.sk-hidden--visually {border: 0;clip: rect(1px 1px 1px 1px);clip: rect(1px, 1px, 1px, 1px);height: 1px;margin: -1px;overflow: hidden;padding: 0;position: absolute;width: 1px;}#sk-container-id-1 div.sk-estimator {font-family: monospace;background-color: #f0f8ff;border: 1px dotted black;border-radius: 0.25em;box-sizing: border-box;margin-bottom: 0.5em;}#sk-container-id-1 div.sk-estimator:hover {background-color: #d4ebff;}#sk-container-id-1 div.sk-parallel-item::after {content: \"\";width: 100%;border-bottom: 1px solid gray;flex-grow: 1;}#sk-container-id-1 div.sk-label:hover label.sk-toggleable__label {background-color: #d4ebff;}#sk-container-id-1 div.sk-serial::before {content: \"\";position: absolute;border-left: 1px solid gray;box-sizing: border-box;top: 0;bottom: 0;left: 50%;z-index: 0;}#sk-container-id-1 div.sk-serial {display: flex;flex-direction: column;align-items: center;background-color: white;padding-right: 0.2em;padding-left: 0.2em;position: relative;}#sk-container-id-1 div.sk-item {position: relative;z-index: 1;}#sk-container-id-1 div.sk-parallel {display: flex;align-items: stretch;justify-content: center;background-color: white;position: relative;}#sk-container-id-1 div.sk-item::before, #sk-container-id-1 div.sk-parallel-item::before {content: \"\";position: absolute;border-left: 1px solid gray;box-sizing: border-box;top: 0;bottom: 0;left: 50%;z-index: -1;}#sk-container-id-1 div.sk-parallel-item {display: flex;flex-direction: column;z-index: 1;position: relative;background-color: white;}#sk-container-id-1 div.sk-parallel-item:first-child::after {align-self: flex-end;width: 50%;}#sk-container-id-1 div.sk-parallel-item:last-child::after {align-self: flex-start;width: 50%;}#sk-container-id-1 div.sk-parallel-item:only-child::after {width: 0;}#sk-container-id-1 div.sk-dashed-wrapped {border: 1px dashed gray;margin: 0 0.4em 0.5em 0.4em;box-sizing: border-box;padding-bottom: 0.4em;background-color: white;}#sk-container-id-1 div.sk-label label {font-family: monospace;font-weight: bold;display: inline-block;line-height: 1.2em;}#sk-container-id-1 div.sk-label-container {text-align: center;}#sk-container-id-1 div.sk-container {/* jupyter's `normalize.less` sets `[hidden] { display: none; }` but bootstrap.min.css set `[hidden] { display: none !important; }` so we also need the `!important` here to be able to override the default hidden behavior on the sphinx rendered scikit-learn.org. See: https://github.com/scikit-learn/scikit-learn/issues/21755 */display: inline-block !important;position: relative;}#sk-container-id-1 div.sk-text-repr-fallback {display: none;}</style><div id=\"sk-container-id-1\" class=\"sk-top-container\"><div class=\"sk-text-repr-fallback\"><pre>LinearRegression()</pre><b>In a Jupyter environment, please rerun this cell to show the HTML representation or trust the notebook. <br />On GitHub, the HTML representation is unable to render, please try loading this page with nbviewer.org.</b></div><div class=\"sk-container\" hidden><div class=\"sk-item\"><div class=\"sk-estimator sk-toggleable\"><input class=\"sk-toggleable__control sk-hidden--visually\" id=\"sk-estimator-id-1\" type=\"checkbox\" checked><label for=\"sk-estimator-id-1\" class=\"sk-toggleable__label sk-toggleable__label-arrow\">LinearRegression</label><div class=\"sk-toggleable__content\"><pre>LinearRegression()</pre></div></div></div></div></div>"
     },
     "execution_count": 22,
     "metadata": {},
     "output_type": "execute_result"
    },
    {
     "name": "stdout",
     "output_type": "stream",
     "text": [
      "score of the model is  2.3765267531672407e-09\n"
     ]
    },
    {
     "data": {
      "text/plain": "\"\\nplt.figure(figsize=(10, 5))\\nplt.scatter(x_train, y_train, color='blue', label='Actual MW')\\nplt.scatter(x_train, predictions, color='red', label='Predicted MW')\\nplt.xlabel('x_train')\\nplt.ylabel('MW')\\nplt.title('Actual vs Predicted MW (using only CDH values to predict)')\\nplt.legend()\\nplt.show()\\n\""
     },
     "execution_count": 22,
     "metadata": {},
     "output_type": "execute_result"
    }
   ],
   "source": [
    "# Linear regression\n",
    "temperature_model = LinearRegression()\n",
    "temperature_model.fit(x_train, y_train)\n",
    "\n",
    "predictions = temperature_model.predict(x_train)\n",
    "coef_cooling = temperature_model.coef_\n",
    "CDHmodelScore = temperature_model.score(x_train,y_train)\n",
    "\n",
    "print(\"score of the model is \", CDHmodelScore)\n",
    "\n",
    "'''\n",
    "plt.figure(figsize=(10, 5))\n",
    "plt.scatter(x_train, y_train, color='blue', label='Actual MW')\n",
    "plt.scatter(x_train, predictions, color='red', label='Predicted MW')\n",
    "plt.xlabel('x_train')\n",
    "plt.ylabel('MW')\n",
    "plt.title('Actual vs Predicted MW (using only CDH values to predict)')\n",
    "plt.legend()\n",
    "plt.show()\n",
    "'''"
   ],
   "metadata": {
    "collapsed": false,
    "ExecuteTime": {
     "end_time": "2023-12-23T16:32:20.780268Z",
     "start_time": "2023-12-23T16:32:20.455923400Z"
    }
   }
  },
  {
   "cell_type": "code",
   "execution_count": 23,
   "outputs": [
    {
     "name": "stdout",
     "output_type": "stream",
     "text": [
      "temperature model coefficient is:  [3.52073631e-05]\n",
      "correlation between CDH and power in training set:  4.87496360957703e-05\n"
     ]
    }
   ],
   "source": [
    "print('temperature model coefficient is: ', coef_cooling)\n",
    "\n",
    "power_array = np.array(training_df['MW'], dtype='float64')\n",
    "temp_array = np.array(training_df['CDH'], dtype='float64')\n",
    "correlation_coefficient = np.corrcoef(power_array, temp_array)[0, 1]\n",
    "print('correlation between CDH and power in training set: ', correlation_coefficient)"
   ],
   "metadata": {
    "collapsed": false,
    "ExecuteTime": {
     "end_time": "2023-12-23T16:32:20.780268Z",
     "start_time": "2023-12-23T16:32:20.488166200Z"
    }
   }
  },
  {
   "cell_type": "code",
   "execution_count": 24,
   "outputs": [
    {
     "data": {
      "text/plain": "LinearRegression(fit_intercept=False, positive=True)",
      "text/html": "<style>#sk-container-id-2 {color: black;}#sk-container-id-2 pre{padding: 0;}#sk-container-id-2 div.sk-toggleable {background-color: white;}#sk-container-id-2 label.sk-toggleable__label {cursor: pointer;display: block;width: 100%;margin-bottom: 0;padding: 0.3em;box-sizing: border-box;text-align: center;}#sk-container-id-2 label.sk-toggleable__label-arrow:before {content: \"▸\";float: left;margin-right: 0.25em;color: #696969;}#sk-container-id-2 label.sk-toggleable__label-arrow:hover:before {color: black;}#sk-container-id-2 div.sk-estimator:hover label.sk-toggleable__label-arrow:before {color: black;}#sk-container-id-2 div.sk-toggleable__content {max-height: 0;max-width: 0;overflow: hidden;text-align: left;background-color: #f0f8ff;}#sk-container-id-2 div.sk-toggleable__content pre {margin: 0.2em;color: black;border-radius: 0.25em;background-color: #f0f8ff;}#sk-container-id-2 input.sk-toggleable__control:checked~div.sk-toggleable__content {max-height: 200px;max-width: 100%;overflow: auto;}#sk-container-id-2 input.sk-toggleable__control:checked~label.sk-toggleable__label-arrow:before {content: \"▾\";}#sk-container-id-2 div.sk-estimator input.sk-toggleable__control:checked~label.sk-toggleable__label {background-color: #d4ebff;}#sk-container-id-2 div.sk-label input.sk-toggleable__control:checked~label.sk-toggleable__label {background-color: #d4ebff;}#sk-container-id-2 input.sk-hidden--visually {border: 0;clip: rect(1px 1px 1px 1px);clip: rect(1px, 1px, 1px, 1px);height: 1px;margin: -1px;overflow: hidden;padding: 0;position: absolute;width: 1px;}#sk-container-id-2 div.sk-estimator {font-family: monospace;background-color: #f0f8ff;border: 1px dotted black;border-radius: 0.25em;box-sizing: border-box;margin-bottom: 0.5em;}#sk-container-id-2 div.sk-estimator:hover {background-color: #d4ebff;}#sk-container-id-2 div.sk-parallel-item::after {content: \"\";width: 100%;border-bottom: 1px solid gray;flex-grow: 1;}#sk-container-id-2 div.sk-label:hover label.sk-toggleable__label {background-color: #d4ebff;}#sk-container-id-2 div.sk-serial::before {content: \"\";position: absolute;border-left: 1px solid gray;box-sizing: border-box;top: 0;bottom: 0;left: 50%;z-index: 0;}#sk-container-id-2 div.sk-serial {display: flex;flex-direction: column;align-items: center;background-color: white;padding-right: 0.2em;padding-left: 0.2em;position: relative;}#sk-container-id-2 div.sk-item {position: relative;z-index: 1;}#sk-container-id-2 div.sk-parallel {display: flex;align-items: stretch;justify-content: center;background-color: white;position: relative;}#sk-container-id-2 div.sk-item::before, #sk-container-id-2 div.sk-parallel-item::before {content: \"\";position: absolute;border-left: 1px solid gray;box-sizing: border-box;top: 0;bottom: 0;left: 50%;z-index: -1;}#sk-container-id-2 div.sk-parallel-item {display: flex;flex-direction: column;z-index: 1;position: relative;background-color: white;}#sk-container-id-2 div.sk-parallel-item:first-child::after {align-self: flex-end;width: 50%;}#sk-container-id-2 div.sk-parallel-item:last-child::after {align-self: flex-start;width: 50%;}#sk-container-id-2 div.sk-parallel-item:only-child::after {width: 0;}#sk-container-id-2 div.sk-dashed-wrapped {border: 1px dashed gray;margin: 0 0.4em 0.5em 0.4em;box-sizing: border-box;padding-bottom: 0.4em;background-color: white;}#sk-container-id-2 div.sk-label label {font-family: monospace;font-weight: bold;display: inline-block;line-height: 1.2em;}#sk-container-id-2 div.sk-label-container {text-align: center;}#sk-container-id-2 div.sk-container {/* jupyter's `normalize.less` sets `[hidden] { display: none; }` but bootstrap.min.css set `[hidden] { display: none !important; }` so we also need the `!important` here to be able to override the default hidden behavior on the sphinx rendered scikit-learn.org. See: https://github.com/scikit-learn/scikit-learn/issues/21755 */display: inline-block !important;position: relative;}#sk-container-id-2 div.sk-text-repr-fallback {display: none;}</style><div id=\"sk-container-id-2\" class=\"sk-top-container\"><div class=\"sk-text-repr-fallback\"><pre>LinearRegression(fit_intercept=False, positive=True)</pre><b>In a Jupyter environment, please rerun this cell to show the HTML representation or trust the notebook. <br />On GitHub, the HTML representation is unable to render, please try loading this page with nbviewer.org.</b></div><div class=\"sk-container\" hidden><div class=\"sk-item\"><div class=\"sk-estimator sk-toggleable\"><input class=\"sk-toggleable__control sk-hidden--visually\" id=\"sk-estimator-id-2\" type=\"checkbox\" checked><label for=\"sk-estimator-id-2\" class=\"sk-toggleable__label sk-toggleable__label-arrow\">LinearRegression</label><div class=\"sk-toggleable__content\"><pre>LinearRegression(fit_intercept=False, positive=True)</pre></div></div></div></div></div>"
     },
     "execution_count": 24,
     "metadata": {},
     "output_type": "execute_result"
    },
    {
     "name": "stdout",
     "output_type": "stream",
     "text": [
      "score of the behavior model is 0.6570158572838127\n"
     ]
    },
    {
     "data": {
      "text/plain": "<Figure size 1000x500 with 0 Axes>"
     },
     "execution_count": 24,
     "metadata": {},
     "output_type": "execute_result"
    },
    {
     "data": {
      "text/plain": "<matplotlib.collections.PathCollection at 0x20901e4b6d0>"
     },
     "execution_count": 24,
     "metadata": {},
     "output_type": "execute_result"
    },
    {
     "data": {
      "text/plain": "<matplotlib.collections.PathCollection at 0x20901e80dd0>"
     },
     "execution_count": 24,
     "metadata": {},
     "output_type": "execute_result"
    },
    {
     "data": {
      "text/plain": "Text(0.5, 0, 'Time')"
     },
     "execution_count": 24,
     "metadata": {},
     "output_type": "execute_result"
    },
    {
     "data": {
      "text/plain": "Text(0, 0.5, 'MW')"
     },
     "execution_count": 24,
     "metadata": {},
     "output_type": "execute_result"
    },
    {
     "data": {
      "text/plain": "Text(0.5, 1.0, 'Actual vs Predicted MW (using behavior model)')"
     },
     "execution_count": 24,
     "metadata": {},
     "output_type": "execute_result"
    },
    {
     "data": {
      "text/plain": "<matplotlib.legend.Legend at 0x2097569fb10>"
     },
     "execution_count": 24,
     "metadata": {},
     "output_type": "execute_result"
    },
    {
     "data": {
      "text/plain": "\"\\nplt.figure(figsize=(10, 5))\\n\\nplt.scatter(time, y_behavior.values, color='blue', label='Actual MW')\\nplt.scatter(time, yhat_behavior, color='red', label='Predicted MW')\\n\\n# Set labels and title\\nplt.xlabel('time')\\nplt.ylabel('MW')\\nplt.title('Actual vs Predicted MW (using behavior model)')\\nplt.legend()\\nplt.show()\\n\""
     },
     "execution_count": 24,
     "metadata": {},
     "output_type": "execute_result"
    }
   ],
   "source": [
    "training_mask = (df['Time'] >= start_time) & (df['Time'] <= end_time)\n",
    "training_df = df[training_mask]\n",
    "#Linear regression for the rest of the model\n",
    "x_behavior = df[training_mask].loc[:,'omega1':'omega168']\n",
    "y = pd.DataFrame(df['MW'][training_mask])\n",
    "yhat_c = (coef_cooling*df.loc[:,'CDH'][training_mask].values).reshape(-1,1)\n",
    "y_behavior = y - (yhat_c)\n",
    "# Drop rows where y_behavior has NaN values\n",
    "#y_behavior = y_behavior.dropna()\n",
    "# Get the index of non-null values in y_behavior and use it to filter x_behavior\n",
    "#non_null_index = y_behavior.index\n",
    "#x_behavior_filtered = x_behavior.loc[non_null_index]\n",
    "#x_behavior= x_behavior_filtered\n",
    "time = df['Time'][training_mask]\n",
    "\n",
    "## ------ fit the behavior model -----\n",
    "behavior_model = LinearRegression(fit_intercept=False, positive=True)\n",
    "behavior_model.verbose=False\n",
    "behavior_model.fit(x_behavior,y_behavior)\n",
    "#model.coef_,model.intercept_\n",
    "behavior_modelScore = behavior_model.score(x_behavior.values,y_behavior.values)\n",
    "print('score of the behavior model is '+str(behavior_modelScore))\n",
    "yhat_behavior = behavior_model.predict(x_behavior.values)\n",
    "\n",
    "predicted_data = pd.DataFrame({'Time': time, 'Predicted MW': yhat_behavior.reshape(-1)})\n",
    "plt.figure(figsize=(10, 5))\n",
    "plt.scatter(df['Time'][training_mask], yhat_behavior, color='red', label='Predicted MW')\n",
    "plt.scatter(df['Time'][training_mask], y_behavior.values, color='blue', label='Actual MW')\n",
    "plt.xlabel('Time')\n",
    "plt.ylabel('MW')\n",
    "plt.title('Actual vs Predicted MW (using behavior model)')\n",
    "plt.legend()\n",
    "plt.show()\n",
    "\n",
    "'''\n",
    "plt.figure(figsize=(10, 5))\n",
    "\n",
    "plt.scatter(time, y_behavior.values, color='blue', label='Actual MW')\n",
    "plt.scatter(time, yhat_behavior, color='red', label='Predicted MW')\n",
    "\n",
    "# Set labels and title\n",
    "plt.xlabel('time')\n",
    "plt.ylabel('MW')\n",
    "plt.title('Actual vs Predicted MW (using behavior model)')\n",
    "plt.legend()\n",
    "plt.show()\n",
    "'''\n"
   ],
   "metadata": {
    "collapsed": false,
    "ExecuteTime": {
     "end_time": "2023-12-23T16:32:21.141774900Z",
     "start_time": "2023-12-23T16:32:20.496189700Z"
    }
   }
  },
  {
   "cell_type": "code",
   "execution_count": 25,
   "outputs": [
    {
     "data": {
      "text/plain": "array([[5.15      , 4.19      , 4.53666667, 0.        , 0.        ,\n        4.0125    , 3.5       , 0.        , 0.        , 0.        ,\n        0.        , 0.        , 0.        , 0.        , 5.22492518,\n        5.22492518, 5.25710262, 5.29995473, 5.4666432 , 5.1285664 ,\n        5.13333333, 5.        , 4.91428571, 5.        , 4.2       ,\n        3.64      , 2.9       , 3.975     , 3.35      , 3.98571429,\n        4.05      , 4.39999497, 4.6       , 4.7999956 , 5.3874868 ,\n        5.24995306, 5.51243839, 5.44994132, 4.75      , 0.        ,\n        5.5       , 0.        , 5.25      , 5.        , 0.        ,\n        0.        , 4.975     , 4.975     , 4.3       , 0.        ,\n        3.25      , 4.5       , 3.5       , 3.5875    , 3.75428571,\n        4.10285714, 4.45714286, 4.56427566, 5.19997485, 5.23566902,\n        5.51994467, 5.37494132, 5.61245159, 5.81245159, 6.02496479,\n        5.8749824 , 5.8499912 , 5.825     , 5.6       , 5.4625    ,\n        4.8       , 4.75      , 4.1       , 4.15      , 0.        ,\n        0.        , 3.75      , 3.6       , 4.0625    , 4.1       ,\n        4.3874956 , 4.637478  , 5.22495599, 5.29992959, 5.24277667,\n        5.37488558, 5.33118399, 5.40617518, 5.68118839, 5.70621039,\n        5.57141348, 5.6437456 , 5.5499956 , 5.3125    , 0.        ,\n        0.        , 0.        , 0.        , 0.        , 0.        ,\n        0.        , 0.        , 3.98375   , 3.91      , 4.4074956 ,\n        4.72747359, 4.94245159, 4.98136319, 5.28562878, 5.3513481 ,\n        5.43744719, 5.74994279, 5.81423542, 5.79997485, 5.77141348,\n        5.33571429, 5.74285714, 5.68571429, 5.2125    , 5.11875   ,\n        4.55625   , 4.4       , 4.06428571, 4.025     , 3.92857143,\n        3.95      , 3.86875   , 3.90625   , 3.83125   , 4.1687368 ,\n        4.21747359, 4.31870599, 4.39993399, 4.38117959, 4.64367959,\n        4.40193663, 4.89138833, 4.79244719, 5.42499413, 4.9899824 ,\n        5.376     , 4.98      , 5.1875    , 4.94285714, 4.75      ,\n        4.54      , 0.        , 4.15      , 0.        , 4.31666667,\n        3.56875   , 3.7       , 3.64      , 3.6687456 , 3.9999824 ,\n        4.01663733, 4.23996479, 4.07137325, 4.04991785, 4.26990846,\n        4.47492959, 4.5166432 , 4.7       , 4.77      , 4.8875    ,\n        4.825     , 5.22      , 4.74      ]])"
     },
     "execution_count": 25,
     "metadata": {},
     "output_type": "execute_result"
    }
   ],
   "source": [
    "behavior_model.coef_"
   ],
   "metadata": {
    "collapsed": false,
    "ExecuteTime": {
     "end_time": "2023-12-23T16:32:21.190263100Z",
     "start_time": "2023-12-23T16:32:20.748071300Z"
    }
   }
  },
  {
   "cell_type": "code",
   "execution_count": 26,
   "outputs": [],
   "source": [
    "full_model_start_time = pd.Timestamp('2022-02-07 00:00:00')\n",
    "full_model_end_time = pd.Timestamp('2022-12-25 23:00:00')"
   ],
   "metadata": {
    "collapsed": false,
    "ExecuteTime": {
     "end_time": "2023-12-23T16:32:21.190263100Z",
     "start_time": "2023-12-23T16:32:20.763857900Z"
    }
   }
  },
  {
   "cell_type": "code",
   "execution_count": 27,
   "outputs": [
    {
     "data": {
      "text/plain": "0       True\n1       True\n2       True\n3       True\n4       True\n        ... \n3598    True\n3599    True\n3600    True\n3601    True\n3602    True\nName: Time, Length: 3603, dtype: bool"
     },
     "execution_count": 27,
     "metadata": {},
     "output_type": "execute_result"
    },
    {
     "name": "stdout",
     "output_type": "stream",
     "text": [
      "score for constructed full model on full data:  -0.8420273157550928\n"
     ]
    },
    {
     "data": {
      "text/plain": "Text(0.5, 1.0, 'measured vs predicted data (full constructed model)')"
     },
     "execution_count": 27,
     "metadata": {},
     "output_type": "execute_result"
    }
   ],
   "source": [
    "# constructing the full LR model using time and temperature models\n",
    "c = np.concatenate((np.array([coef_cooling]).reshape(1,-1),behavior_model.coef_),axis=1)\n",
    "full_model_mask = (df['Time'] >= full_model_start_time) & (df['Time'] <= full_model_end_time)\n",
    "full_model = LinearRegression(fit_intercept=False)\n",
    "full_model.coef_ = c\n",
    "full_model.intercept_ = 0\n",
    "\n",
    "final_df = df[full_model_mask]\n",
    "final_df = final_df.sort_values('Time')\n",
    "full_model_mask.reset_index(drop = True)\n",
    "X = final_df.loc[:,'CDH':'omega168']\n",
    "y = pd.DataFrame(final_df['MW'])\n",
    "\n",
    "#y = y.dropna()\n",
    "#X = X.loc[y.index]\n",
    "#X = X.dropna()\n",
    "#y = y.loc[X.index]\n",
    "time = final_df.loc[y.index, 'Time']\n",
    "yhat = full_model.predict(X.values)\n",
    "pred = pd.DataFrame(data=yhat, columns=['yhat'], index=df.index)\n",
    "# Concatenate CDH with the original DataFrame using the index\n",
    "predictions_df = pd.concat([df, pred], axis=1)\n",
    "\n",
    "full_modelScore = full_model.score(X,y)\n",
    "print ('score for constructed full model on full data: ', full_modelScore)\n",
    "\n",
    "fig,(ax1) = plt.subplots(nrows=1,figsize=(10,9))\n",
    "_=ax1.plot(time,y,label='meas')\n",
    "_=ax1.plot(time,yhat,label='pred: behavior+heat/cool')\n",
    "ax1.set_title('measured vs predicted data (full constructed model)')\n",
    "_=ax1.legend()"
   ],
   "metadata": {
    "collapsed": false,
    "ExecuteTime": {
     "end_time": "2023-12-23T16:32:21.377808800Z",
     "start_time": "2023-12-23T16:32:20.772233800Z"
    }
   }
  },
  {
   "cell_type": "code",
   "execution_count": 28,
   "outputs": [
    {
     "name": "stdout",
     "output_type": "stream",
     "text": [
      "score of the fully constructed model on training data:  0.6570217813136736\n"
     ]
    }
   ],
   "source": [
    "modelscoreontrainingdata = full_model.score(X[training_mask], y[training_mask])\n",
    "print(\"score of the fully constructed model on training data: \", modelscoreontrainingdata)"
   ],
   "metadata": {
    "collapsed": false,
    "ExecuteTime": {
     "end_time": "2023-12-23T16:32:21.377808800Z",
     "start_time": "2023-12-23T16:32:20.924607200Z"
    }
   }
  },
  {
   "cell_type": "markdown",
   "source": [],
   "metadata": {
    "collapsed": false
   }
  },
  {
   "cell_type": "code",
   "execution_count": 29,
   "outputs": [
    {
     "data": {
      "text/plain": "                    Time    MW temperature  CDH omega1 omega2 omega3 omega4  \\\n1    2022-02-07 03:00:00  1.71        12.0  0.0    0.0    0.0    0.0    1.0   \n48   2022-02-10 22:00:00   2.7        15.0  0.0    0.0    0.0    0.0    0.0   \n49   2022-02-11 00:00:00   2.3        15.0  0.0    0.0    0.0    0.0    0.0   \n50   2022-02-11 01:00:00   2.2        15.0  0.0    0.0    0.0    0.0    0.0   \n51   2022-02-11 03:00:00   2.0        16.0  0.0    0.0    0.0    0.0    0.0   \n...                  ...   ...         ...  ...    ...    ...    ...    ...   \n3448 2022-12-16 05:00:00   2.0        18.0  0.0    0.0    0.0    0.0    0.0   \n3551 2022-12-22 22:00:00   2.8        18.0  0.0    0.0    0.0    0.0    0.0   \n3552 2022-12-22 23:00:00   2.4        18.0  0.0    0.0    0.0    0.0    0.0   \n3553 2022-12-23 00:00:00  2.25        18.0  0.0    0.0    0.0    0.0    0.0   \n3554 2022-12-23 05:00:00   2.0        16.0  0.0    0.0    0.0    0.0    0.0   \n\n     omega5 omega6  ... omega160 omega161 omega162 omega163 omega164 omega165  \\\n1       0.0    0.0  ...      0.0      0.0      0.0      0.0      0.0      0.0   \n48      0.0    0.0  ...      0.0      0.0      0.0      0.0      0.0      0.0   \n49      0.0    0.0  ...      0.0      0.0      0.0      0.0      0.0      0.0   \n50      0.0    0.0  ...      0.0      0.0      0.0      0.0      0.0      0.0   \n51      0.0    0.0  ...      0.0      0.0      0.0      0.0      0.0      0.0   \n...     ...    ...  ...      ...      ...      ...      ...      ...      ...   \n3448    0.0    0.0  ...      0.0      0.0      0.0      0.0      0.0      0.0   \n3551    0.0    0.0  ...      0.0      0.0      0.0      0.0      0.0      0.0   \n3552    0.0    0.0  ...      0.0      0.0      0.0      0.0      0.0      0.0   \n3553    0.0    0.0  ...      0.0      0.0      0.0      0.0      0.0      0.0   \n3554    0.0    0.0  ...      0.0      0.0      0.0      0.0      0.0      0.0   \n\n     omega166 omega167 omega168 yhat  \n1         0.0      0.0      0.0  0.0  \n48        0.0      0.0      0.0  0.0  \n49        0.0      0.0      0.0  0.0  \n50        0.0      0.0      0.0  0.0  \n51        0.0      0.0      0.0  0.0  \n...       ...      ...      ...  ...  \n3448      0.0      0.0      0.0  0.0  \n3551      0.0      0.0      0.0  0.0  \n3552      0.0      0.0      0.0  0.0  \n3553      0.0      0.0      0.0  0.0  \n3554      0.0      0.0      0.0  0.0  \n\n[119 rows x 173 columns]",
      "text/html": "<div>\n<style scoped>\n    .dataframe tbody tr th:only-of-type {\n        vertical-align: middle;\n    }\n\n    .dataframe tbody tr th {\n        vertical-align: top;\n    }\n\n    .dataframe thead th {\n        text-align: right;\n    }\n</style>\n<table border=\"1\" class=\"dataframe\">\n  <thead>\n    <tr style=\"text-align: right;\">\n      <th></th>\n      <th>Time</th>\n      <th>MW</th>\n      <th>temperature</th>\n      <th>CDH</th>\n      <th>omega1</th>\n      <th>omega2</th>\n      <th>omega3</th>\n      <th>omega4</th>\n      <th>omega5</th>\n      <th>omega6</th>\n      <th>...</th>\n      <th>omega160</th>\n      <th>omega161</th>\n      <th>omega162</th>\n      <th>omega163</th>\n      <th>omega164</th>\n      <th>omega165</th>\n      <th>omega166</th>\n      <th>omega167</th>\n      <th>omega168</th>\n      <th>yhat</th>\n    </tr>\n  </thead>\n  <tbody>\n    <tr>\n      <th>1</th>\n      <td>2022-02-07 03:00:00</td>\n      <td>1.71</td>\n      <td>12.0</td>\n      <td>0.0</td>\n      <td>0.0</td>\n      <td>0.0</td>\n      <td>0.0</td>\n      <td>1.0</td>\n      <td>0.0</td>\n      <td>0.0</td>\n      <td>...</td>\n      <td>0.0</td>\n      <td>0.0</td>\n      <td>0.0</td>\n      <td>0.0</td>\n      <td>0.0</td>\n      <td>0.0</td>\n      <td>0.0</td>\n      <td>0.0</td>\n      <td>0.0</td>\n      <td>0.0</td>\n    </tr>\n    <tr>\n      <th>48</th>\n      <td>2022-02-10 22:00:00</td>\n      <td>2.7</td>\n      <td>15.0</td>\n      <td>0.0</td>\n      <td>0.0</td>\n      <td>0.0</td>\n      <td>0.0</td>\n      <td>0.0</td>\n      <td>0.0</td>\n      <td>0.0</td>\n      <td>...</td>\n      <td>0.0</td>\n      <td>0.0</td>\n      <td>0.0</td>\n      <td>0.0</td>\n      <td>0.0</td>\n      <td>0.0</td>\n      <td>0.0</td>\n      <td>0.0</td>\n      <td>0.0</td>\n      <td>0.0</td>\n    </tr>\n    <tr>\n      <th>49</th>\n      <td>2022-02-11 00:00:00</td>\n      <td>2.3</td>\n      <td>15.0</td>\n      <td>0.0</td>\n      <td>0.0</td>\n      <td>0.0</td>\n      <td>0.0</td>\n      <td>0.0</td>\n      <td>0.0</td>\n      <td>0.0</td>\n      <td>...</td>\n      <td>0.0</td>\n      <td>0.0</td>\n      <td>0.0</td>\n      <td>0.0</td>\n      <td>0.0</td>\n      <td>0.0</td>\n      <td>0.0</td>\n      <td>0.0</td>\n      <td>0.0</td>\n      <td>0.0</td>\n    </tr>\n    <tr>\n      <th>50</th>\n      <td>2022-02-11 01:00:00</td>\n      <td>2.2</td>\n      <td>15.0</td>\n      <td>0.0</td>\n      <td>0.0</td>\n      <td>0.0</td>\n      <td>0.0</td>\n      <td>0.0</td>\n      <td>0.0</td>\n      <td>0.0</td>\n      <td>...</td>\n      <td>0.0</td>\n      <td>0.0</td>\n      <td>0.0</td>\n      <td>0.0</td>\n      <td>0.0</td>\n      <td>0.0</td>\n      <td>0.0</td>\n      <td>0.0</td>\n      <td>0.0</td>\n      <td>0.0</td>\n    </tr>\n    <tr>\n      <th>51</th>\n      <td>2022-02-11 03:00:00</td>\n      <td>2.0</td>\n      <td>16.0</td>\n      <td>0.0</td>\n      <td>0.0</td>\n      <td>0.0</td>\n      <td>0.0</td>\n      <td>0.0</td>\n      <td>0.0</td>\n      <td>0.0</td>\n      <td>...</td>\n      <td>0.0</td>\n      <td>0.0</td>\n      <td>0.0</td>\n      <td>0.0</td>\n      <td>0.0</td>\n      <td>0.0</td>\n      <td>0.0</td>\n      <td>0.0</td>\n      <td>0.0</td>\n      <td>0.0</td>\n    </tr>\n    <tr>\n      <th>...</th>\n      <td>...</td>\n      <td>...</td>\n      <td>...</td>\n      <td>...</td>\n      <td>...</td>\n      <td>...</td>\n      <td>...</td>\n      <td>...</td>\n      <td>...</td>\n      <td>...</td>\n      <td>...</td>\n      <td>...</td>\n      <td>...</td>\n      <td>...</td>\n      <td>...</td>\n      <td>...</td>\n      <td>...</td>\n      <td>...</td>\n      <td>...</td>\n      <td>...</td>\n      <td>...</td>\n    </tr>\n    <tr>\n      <th>3448</th>\n      <td>2022-12-16 05:00:00</td>\n      <td>2.0</td>\n      <td>18.0</td>\n      <td>0.0</td>\n      <td>0.0</td>\n      <td>0.0</td>\n      <td>0.0</td>\n      <td>0.0</td>\n      <td>0.0</td>\n      <td>0.0</td>\n      <td>...</td>\n      <td>0.0</td>\n      <td>0.0</td>\n      <td>0.0</td>\n      <td>0.0</td>\n      <td>0.0</td>\n      <td>0.0</td>\n      <td>0.0</td>\n      <td>0.0</td>\n      <td>0.0</td>\n      <td>0.0</td>\n    </tr>\n    <tr>\n      <th>3551</th>\n      <td>2022-12-22 22:00:00</td>\n      <td>2.8</td>\n      <td>18.0</td>\n      <td>0.0</td>\n      <td>0.0</td>\n      <td>0.0</td>\n      <td>0.0</td>\n      <td>0.0</td>\n      <td>0.0</td>\n      <td>0.0</td>\n      <td>...</td>\n      <td>0.0</td>\n      <td>0.0</td>\n      <td>0.0</td>\n      <td>0.0</td>\n      <td>0.0</td>\n      <td>0.0</td>\n      <td>0.0</td>\n      <td>0.0</td>\n      <td>0.0</td>\n      <td>0.0</td>\n    </tr>\n    <tr>\n      <th>3552</th>\n      <td>2022-12-22 23:00:00</td>\n      <td>2.4</td>\n      <td>18.0</td>\n      <td>0.0</td>\n      <td>0.0</td>\n      <td>0.0</td>\n      <td>0.0</td>\n      <td>0.0</td>\n      <td>0.0</td>\n      <td>0.0</td>\n      <td>...</td>\n      <td>0.0</td>\n      <td>0.0</td>\n      <td>0.0</td>\n      <td>0.0</td>\n      <td>0.0</td>\n      <td>0.0</td>\n      <td>0.0</td>\n      <td>0.0</td>\n      <td>0.0</td>\n      <td>0.0</td>\n    </tr>\n    <tr>\n      <th>3553</th>\n      <td>2022-12-23 00:00:00</td>\n      <td>2.25</td>\n      <td>18.0</td>\n      <td>0.0</td>\n      <td>0.0</td>\n      <td>0.0</td>\n      <td>0.0</td>\n      <td>0.0</td>\n      <td>0.0</td>\n      <td>0.0</td>\n      <td>...</td>\n      <td>0.0</td>\n      <td>0.0</td>\n      <td>0.0</td>\n      <td>0.0</td>\n      <td>0.0</td>\n      <td>0.0</td>\n      <td>0.0</td>\n      <td>0.0</td>\n      <td>0.0</td>\n      <td>0.0</td>\n    </tr>\n    <tr>\n      <th>3554</th>\n      <td>2022-12-23 05:00:00</td>\n      <td>2.0</td>\n      <td>16.0</td>\n      <td>0.0</td>\n      <td>0.0</td>\n      <td>0.0</td>\n      <td>0.0</td>\n      <td>0.0</td>\n      <td>0.0</td>\n      <td>0.0</td>\n      <td>...</td>\n      <td>0.0</td>\n      <td>0.0</td>\n      <td>0.0</td>\n      <td>0.0</td>\n      <td>0.0</td>\n      <td>0.0</td>\n      <td>0.0</td>\n      <td>0.0</td>\n      <td>0.0</td>\n      <td>0.0</td>\n    </tr>\n  </tbody>\n</table>\n<p>119 rows × 173 columns</p>\n</div>"
     },
     "execution_count": 29,
     "metadata": {},
     "output_type": "execute_result"
    }
   ],
   "source": [
    "# list of rows where model is predicting 0\n",
    "predictions_df = predictions_df[predictions_df['yhat'] == 0]\n",
    "predictions_df"
   ],
   "metadata": {
    "collapsed": false,
    "ExecuteTime": {
     "end_time": "2023-12-23T16:32:21.377808800Z",
     "start_time": "2023-12-23T16:32:20.948825200Z"
    }
   }
  },
  {
   "cell_type": "code",
   "execution_count": 30,
   "outputs": [
    {
     "name": "stdout",
     "output_type": "stream",
     "text": [
      "4:5.0\n",
      "5:6.0\n",
      "8:3.0\n",
      "9:3.0\n",
      "10:3.0\n",
      "11:2.0\n",
      "12:2.0\n",
      "13:2.0\n",
      "14:2.0\n",
      "40:3.0\n",
      "42:4.0\n",
      "45:3.0\n",
      "46:4.0\n",
      "50:4.0\n",
      "76:1.0\n",
      "95:7.0\n",
      "96:6.0\n",
      "97:12.0\n",
      "98:7.0\n",
      "99:6.0\n",
      "100:9.0\n",
      "101:10.0\n",
      "102:12.0\n",
      "147:2.0\n",
      "149:1.0\n"
     ]
    }
   ],
   "source": [
    "for i in range(1,169):\n",
    "    sum = predictions_df[f'omega{i}'].sum()\n",
    "    if (sum!=0):\n",
    "        print(f\"{i}:{sum}\")\n"
   ],
   "metadata": {
    "collapsed": false,
    "ExecuteTime": {
     "end_time": "2023-12-23T16:32:21.385806100Z",
     "start_time": "2023-12-23T16:32:21.023548400Z"
    }
   }
  },
  {
   "cell_type": "code",
   "execution_count": 31,
   "outputs": [
    {
     "data": {
      "text/plain": "Empty DataFrame\nColumns: [Time, MW, temperature, CDH, omega1, omega2, omega3, omega4, omega5, omega6, omega7, omega8, omega9, omega10, omega11, omega12, omega13, omega14, omega15, omega16, omega17, omega18, omega19, omega20, omega21, omega22, omega23, omega24, omega25, omega26, omega27, omega28, omega29, omega30, omega31, omega32, omega33, omega34, omega35, omega36, omega37, omega38, omega39, omega40, omega41, omega42, omega43, omega44, omega45, omega46, omega47, omega48, omega49, omega50, omega51, omega52, omega53, omega54, omega55, omega56, omega57, omega58, omega59, omega60, omega61, omega62, omega63, omega64, omega65, omega66, omega67, omega68, omega69, omega70, omega71, omega72, omega73, omega74, omega75, omega76, omega77, omega78, omega79, omega80, omega81, omega82, omega83, omega84, omega85, omega86, omega87, omega88, omega89, omega90, omega91, omega92, omega93, omega94, omega95, omega96, ...]\nIndex: []\n\n[0 rows x 172 columns]",
      "text/html": "<div>\n<style scoped>\n    .dataframe tbody tr th:only-of-type {\n        vertical-align: middle;\n    }\n\n    .dataframe tbody tr th {\n        vertical-align: top;\n    }\n\n    .dataframe thead th {\n        text-align: right;\n    }\n</style>\n<table border=\"1\" class=\"dataframe\">\n  <thead>\n    <tr style=\"text-align: right;\">\n      <th></th>\n      <th>Time</th>\n      <th>MW</th>\n      <th>temperature</th>\n      <th>CDH</th>\n      <th>omega1</th>\n      <th>omega2</th>\n      <th>omega3</th>\n      <th>omega4</th>\n      <th>omega5</th>\n      <th>omega6</th>\n      <th>...</th>\n      <th>omega159</th>\n      <th>omega160</th>\n      <th>omega161</th>\n      <th>omega162</th>\n      <th>omega163</th>\n      <th>omega164</th>\n      <th>omega165</th>\n      <th>omega166</th>\n      <th>omega167</th>\n      <th>omega168</th>\n    </tr>\n  </thead>\n  <tbody>\n  </tbody>\n</table>\n<p>0 rows × 172 columns</p>\n</div>"
     },
     "execution_count": 31,
     "metadata": {},
     "output_type": "execute_result"
    }
   ],
   "source": [
    "training_df[training_df['omega45']  > 0]"
   ],
   "metadata": {
    "collapsed": false,
    "ExecuteTime": {
     "end_time": "2023-12-23T16:32:21.385806100Z",
     "start_time": "2023-12-23T16:32:21.029093400Z"
    }
   }
  },
  {
   "cell_type": "code",
   "execution_count": 32,
   "outputs": [
    {
     "data": {
      "text/plain": "                    Time    MW temperature  CDH omega1 omega2 omega3 omega4  \\\n1578 2022-07-04 14:00:00   5.0        34.0  3.0    0.0    0.0    0.0    0.0   \n1579 2022-07-04 15:00:00   5.0        34.0  3.0    0.0    0.0    0.0    0.0   \n1580 2022-07-04 16:00:00   5.0        34.0  3.0    0.0    0.0    0.0    0.0   \n1581 2022-07-04 17:00:00   5.0        34.0  3.0    0.0    0.0    0.0    0.0   \n1582 2022-07-04 19:00:00   4.8        31.0  0.0    0.0    0.0    0.0    0.0   \n...                  ...   ...         ...  ...    ...    ...    ...    ...   \n2439 2022-08-28 17:00:00   4.2        31.0  0.0    0.0    0.0    0.0    0.0   \n2440 2022-08-28 18:00:00   4.2        30.0  0.0    0.0    0.0    0.0    0.0   \n2441 2022-08-28 19:00:00   5.0        30.0  0.0    0.0    0.0    0.0    0.0   \n2442 2022-08-28 21:00:00   5.0        29.0  0.0    0.0    0.0    0.0    0.0   \n2443 2022-08-28 22:00:00  5.56        28.0  0.0    0.0    0.0    0.0    0.0   \n\n     omega5 omega6  ... omega159 omega160 omega161 omega162 omega163 omega164  \\\n1578    0.0    0.0  ...      0.0      0.0      0.0      0.0      0.0      0.0   \n1579    0.0    0.0  ...      0.0      0.0      0.0      0.0      0.0      0.0   \n1580    0.0    0.0  ...      0.0      0.0      0.0      0.0      0.0      0.0   \n1581    0.0    0.0  ...      0.0      0.0      0.0      0.0      0.0      0.0   \n1582    0.0    0.0  ...      0.0      0.0      0.0      0.0      0.0      0.0   \n...     ...    ...  ...      ...      ...      ...      ...      ...      ...   \n2439    0.0    0.0  ...      0.0      0.0      0.0      1.0      0.0      0.0   \n2440    0.0    0.0  ...      0.0      0.0      0.0      0.0      1.0      0.0   \n2441    0.0    0.0  ...      0.0      0.0      0.0      0.0      0.0      1.0   \n2442    0.0    0.0  ...      0.0      0.0      0.0      0.0      0.0      0.0   \n2443    0.0    0.0  ...      0.0      0.0      0.0      0.0      0.0      0.0   \n\n     omega165 omega166 omega167 omega168  \n1578      0.0      0.0      0.0      0.0  \n1579      0.0      0.0      0.0      0.0  \n1580      0.0      0.0      0.0      0.0  \n1581      0.0      0.0      0.0      0.0  \n1582      0.0      0.0      0.0      0.0  \n...       ...      ...      ...      ...  \n2439      0.0      0.0      0.0      0.0  \n2440      0.0      0.0      0.0      0.0  \n2441      0.0      0.0      0.0      0.0  \n2442      0.0      1.0      0.0      0.0  \n2443      0.0      0.0      1.0      0.0  \n\n[866 rows x 172 columns]",
      "text/html": "<div>\n<style scoped>\n    .dataframe tbody tr th:only-of-type {\n        vertical-align: middle;\n    }\n\n    .dataframe tbody tr th {\n        vertical-align: top;\n    }\n\n    .dataframe thead th {\n        text-align: right;\n    }\n</style>\n<table border=\"1\" class=\"dataframe\">\n  <thead>\n    <tr style=\"text-align: right;\">\n      <th></th>\n      <th>Time</th>\n      <th>MW</th>\n      <th>temperature</th>\n      <th>CDH</th>\n      <th>omega1</th>\n      <th>omega2</th>\n      <th>omega3</th>\n      <th>omega4</th>\n      <th>omega5</th>\n      <th>omega6</th>\n      <th>...</th>\n      <th>omega159</th>\n      <th>omega160</th>\n      <th>omega161</th>\n      <th>omega162</th>\n      <th>omega163</th>\n      <th>omega164</th>\n      <th>omega165</th>\n      <th>omega166</th>\n      <th>omega167</th>\n      <th>omega168</th>\n    </tr>\n  </thead>\n  <tbody>\n    <tr>\n      <th>1578</th>\n      <td>2022-07-04 14:00:00</td>\n      <td>5.0</td>\n      <td>34.0</td>\n      <td>3.0</td>\n      <td>0.0</td>\n      <td>0.0</td>\n      <td>0.0</td>\n      <td>0.0</td>\n      <td>0.0</td>\n      <td>0.0</td>\n      <td>...</td>\n      <td>0.0</td>\n      <td>0.0</td>\n      <td>0.0</td>\n      <td>0.0</td>\n      <td>0.0</td>\n      <td>0.0</td>\n      <td>0.0</td>\n      <td>0.0</td>\n      <td>0.0</td>\n      <td>0.0</td>\n    </tr>\n    <tr>\n      <th>1579</th>\n      <td>2022-07-04 15:00:00</td>\n      <td>5.0</td>\n      <td>34.0</td>\n      <td>3.0</td>\n      <td>0.0</td>\n      <td>0.0</td>\n      <td>0.0</td>\n      <td>0.0</td>\n      <td>0.0</td>\n      <td>0.0</td>\n      <td>...</td>\n      <td>0.0</td>\n      <td>0.0</td>\n      <td>0.0</td>\n      <td>0.0</td>\n      <td>0.0</td>\n      <td>0.0</td>\n      <td>0.0</td>\n      <td>0.0</td>\n      <td>0.0</td>\n      <td>0.0</td>\n    </tr>\n    <tr>\n      <th>1580</th>\n      <td>2022-07-04 16:00:00</td>\n      <td>5.0</td>\n      <td>34.0</td>\n      <td>3.0</td>\n      <td>0.0</td>\n      <td>0.0</td>\n      <td>0.0</td>\n      <td>0.0</td>\n      <td>0.0</td>\n      <td>0.0</td>\n      <td>...</td>\n      <td>0.0</td>\n      <td>0.0</td>\n      <td>0.0</td>\n      <td>0.0</td>\n      <td>0.0</td>\n      <td>0.0</td>\n      <td>0.0</td>\n      <td>0.0</td>\n      <td>0.0</td>\n      <td>0.0</td>\n    </tr>\n    <tr>\n      <th>1581</th>\n      <td>2022-07-04 17:00:00</td>\n      <td>5.0</td>\n      <td>34.0</td>\n      <td>3.0</td>\n      <td>0.0</td>\n      <td>0.0</td>\n      <td>0.0</td>\n      <td>0.0</td>\n      <td>0.0</td>\n      <td>0.0</td>\n      <td>...</td>\n      <td>0.0</td>\n      <td>0.0</td>\n      <td>0.0</td>\n      <td>0.0</td>\n      <td>0.0</td>\n      <td>0.0</td>\n      <td>0.0</td>\n      <td>0.0</td>\n      <td>0.0</td>\n      <td>0.0</td>\n    </tr>\n    <tr>\n      <th>1582</th>\n      <td>2022-07-04 19:00:00</td>\n      <td>4.8</td>\n      <td>31.0</td>\n      <td>0.0</td>\n      <td>0.0</td>\n      <td>0.0</td>\n      <td>0.0</td>\n      <td>0.0</td>\n      <td>0.0</td>\n      <td>0.0</td>\n      <td>...</td>\n      <td>0.0</td>\n      <td>0.0</td>\n      <td>0.0</td>\n      <td>0.0</td>\n      <td>0.0</td>\n      <td>0.0</td>\n      <td>0.0</td>\n      <td>0.0</td>\n      <td>0.0</td>\n      <td>0.0</td>\n    </tr>\n    <tr>\n      <th>...</th>\n      <td>...</td>\n      <td>...</td>\n      <td>...</td>\n      <td>...</td>\n      <td>...</td>\n      <td>...</td>\n      <td>...</td>\n      <td>...</td>\n      <td>...</td>\n      <td>...</td>\n      <td>...</td>\n      <td>...</td>\n      <td>...</td>\n      <td>...</td>\n      <td>...</td>\n      <td>...</td>\n      <td>...</td>\n      <td>...</td>\n      <td>...</td>\n      <td>...</td>\n      <td>...</td>\n    </tr>\n    <tr>\n      <th>2439</th>\n      <td>2022-08-28 17:00:00</td>\n      <td>4.2</td>\n      <td>31.0</td>\n      <td>0.0</td>\n      <td>0.0</td>\n      <td>0.0</td>\n      <td>0.0</td>\n      <td>0.0</td>\n      <td>0.0</td>\n      <td>0.0</td>\n      <td>...</td>\n      <td>0.0</td>\n      <td>0.0</td>\n      <td>0.0</td>\n      <td>1.0</td>\n      <td>0.0</td>\n      <td>0.0</td>\n      <td>0.0</td>\n      <td>0.0</td>\n      <td>0.0</td>\n      <td>0.0</td>\n    </tr>\n    <tr>\n      <th>2440</th>\n      <td>2022-08-28 18:00:00</td>\n      <td>4.2</td>\n      <td>30.0</td>\n      <td>0.0</td>\n      <td>0.0</td>\n      <td>0.0</td>\n      <td>0.0</td>\n      <td>0.0</td>\n      <td>0.0</td>\n      <td>0.0</td>\n      <td>...</td>\n      <td>0.0</td>\n      <td>0.0</td>\n      <td>0.0</td>\n      <td>0.0</td>\n      <td>1.0</td>\n      <td>0.0</td>\n      <td>0.0</td>\n      <td>0.0</td>\n      <td>0.0</td>\n      <td>0.0</td>\n    </tr>\n    <tr>\n      <th>2441</th>\n      <td>2022-08-28 19:00:00</td>\n      <td>5.0</td>\n      <td>30.0</td>\n      <td>0.0</td>\n      <td>0.0</td>\n      <td>0.0</td>\n      <td>0.0</td>\n      <td>0.0</td>\n      <td>0.0</td>\n      <td>0.0</td>\n      <td>...</td>\n      <td>0.0</td>\n      <td>0.0</td>\n      <td>0.0</td>\n      <td>0.0</td>\n      <td>0.0</td>\n      <td>1.0</td>\n      <td>0.0</td>\n      <td>0.0</td>\n      <td>0.0</td>\n      <td>0.0</td>\n    </tr>\n    <tr>\n      <th>2442</th>\n      <td>2022-08-28 21:00:00</td>\n      <td>5.0</td>\n      <td>29.0</td>\n      <td>0.0</td>\n      <td>0.0</td>\n      <td>0.0</td>\n      <td>0.0</td>\n      <td>0.0</td>\n      <td>0.0</td>\n      <td>0.0</td>\n      <td>...</td>\n      <td>0.0</td>\n      <td>0.0</td>\n      <td>0.0</td>\n      <td>0.0</td>\n      <td>0.0</td>\n      <td>0.0</td>\n      <td>0.0</td>\n      <td>1.0</td>\n      <td>0.0</td>\n      <td>0.0</td>\n    </tr>\n    <tr>\n      <th>2443</th>\n      <td>2022-08-28 22:00:00</td>\n      <td>5.56</td>\n      <td>28.0</td>\n      <td>0.0</td>\n      <td>0.0</td>\n      <td>0.0</td>\n      <td>0.0</td>\n      <td>0.0</td>\n      <td>0.0</td>\n      <td>0.0</td>\n      <td>...</td>\n      <td>0.0</td>\n      <td>0.0</td>\n      <td>0.0</td>\n      <td>0.0</td>\n      <td>0.0</td>\n      <td>0.0</td>\n      <td>0.0</td>\n      <td>0.0</td>\n      <td>1.0</td>\n      <td>0.0</td>\n    </tr>\n  </tbody>\n</table>\n<p>866 rows × 172 columns</p>\n</div>"
     },
     "execution_count": 32,
     "metadata": {},
     "output_type": "execute_result"
    }
   ],
   "source": [
    "training_df = training_df.sort_values('Time')\n",
    "training_df"
   ],
   "metadata": {
    "collapsed": false,
    "ExecuteTime": {
     "end_time": "2023-12-23T16:32:21.385806100Z",
     "start_time": "2023-12-23T16:32:21.053614100Z"
    }
   }
  },
  {
   "cell_type": "code",
   "execution_count": 33,
   "outputs": [],
   "source": [
    "df['Time'] = pd.to_datetime(df['Time'])\n",
    "hours = df['Time'].dt.hour\n",
    "df_12am_to_8am = df[(hours >= 0) & (hours <= 8)]\n",
    "df_excluding_12am_to_8am = df[(hours < 0) | (hours > 8)]\n"
   ],
   "metadata": {
    "collapsed": false,
    "ExecuteTime": {
     "end_time": "2023-12-23T16:32:21.385806100Z",
     "start_time": "2023-12-23T16:32:21.085997200Z"
    }
   }
  },
  {
   "cell_type": "code",
   "execution_count": 34,
   "outputs": [
    {
     "name": "stdout",
     "output_type": "stream",
     "text": [
      "model score for data between 12am to 8 am on training data is:  0.36471888164937316\n"
     ]
    }
   ],
   "source": [
    "df_12am_to_8am.dropna(inplace=True)\n",
    "df_12am_to_8am = df_12am_to_8am[training_mask]\n",
    "x = df_12am_to_8am.loc[:,'CDH':'omega168']\n",
    "y = pd.DataFrame(df_12am_to_8am['MW'])\n",
    "night_score = full_model.score(x,y)\n",
    "print('model score for data between 12am to 8 am on training data is: ', night_score)"
   ],
   "metadata": {
    "collapsed": false,
    "ExecuteTime": {
     "end_time": "2023-12-23T16:32:21.385806100Z",
     "start_time": "2023-12-23T16:32:21.118210800Z"
    }
   }
  },
  {
   "cell_type": "code",
   "execution_count": 35,
   "outputs": [
    {
     "data": {
      "text/plain": "                    Time   MW temperature  CDH omega1 omega2 omega3 omega4  \\\n1586 2022-07-05 01:00:00  3.1        29.0  0.0    0.0    0.0    0.0    0.0   \n1587 2022-07-05 04:00:00  2.8        28.0  0.0    0.0    0.0    0.0    0.0   \n1588 2022-07-05 05:00:00  4.1        28.0  0.0    0.0    0.0    0.0    0.0   \n1589 2022-07-05 06:00:00  4.3        29.0  0.0    0.0    0.0    0.0    0.0   \n1590 2022-07-05 07:00:00  4.3        32.0  1.0    0.0    0.0    0.0    0.0   \n...                  ...  ...         ...  ...    ...    ...    ...    ...   \n2427 2022-08-28 01:00:00  4.1        28.0  0.0    0.0    0.0    0.0    0.0   \n2428 2022-08-28 05:00:00  4.7        28.0  0.0    0.0    0.0    0.0    0.0   \n2429 2022-08-28 06:00:00  4.6        28.0  0.0    0.0    0.0    0.0    0.0   \n2430 2022-08-28 07:00:00  4.6        28.0  0.0    0.0    0.0    0.0    0.0   \n2431 2022-08-28 08:00:00  4.5        29.0  0.0    0.0    0.0    0.0    0.0   \n\n     omega5 omega6  ... omega159 omega160 omega161 omega162 omega163 omega164  \\\n1586    0.0    0.0  ...      0.0      0.0      0.0      0.0      0.0      0.0   \n1587    0.0    0.0  ...      0.0      0.0      0.0      0.0      0.0      0.0   \n1588    0.0    0.0  ...      0.0      0.0      0.0      0.0      0.0      0.0   \n1589    0.0    0.0  ...      0.0      0.0      0.0      0.0      0.0      0.0   \n1590    0.0    0.0  ...      0.0      0.0      0.0      0.0      0.0      0.0   \n...     ...    ...  ...      ...      ...      ...      ...      ...      ...   \n2427    0.0    0.0  ...      0.0      0.0      0.0      0.0      0.0      0.0   \n2428    0.0    0.0  ...      0.0      0.0      0.0      0.0      0.0      0.0   \n2429    0.0    0.0  ...      0.0      0.0      0.0      0.0      0.0      0.0   \n2430    0.0    0.0  ...      0.0      0.0      0.0      0.0      0.0      0.0   \n2431    0.0    0.0  ...      0.0      0.0      0.0      0.0      0.0      0.0   \n\n     omega165 omega166 omega167 omega168  \n1586      0.0      0.0      0.0      0.0  \n1587      0.0      0.0      0.0      0.0  \n1588      0.0      0.0      0.0      0.0  \n1589      0.0      0.0      0.0      0.0  \n1590      0.0      0.0      0.0      0.0  \n...       ...      ...      ...      ...  \n2427      0.0      0.0      0.0      0.0  \n2428      0.0      0.0      0.0      0.0  \n2429      0.0      0.0      0.0      0.0  \n2430      0.0      0.0      0.0      0.0  \n2431      0.0      0.0      0.0      0.0  \n\n[260 rows x 172 columns]",
      "text/html": "<div>\n<style scoped>\n    .dataframe tbody tr th:only-of-type {\n        vertical-align: middle;\n    }\n\n    .dataframe tbody tr th {\n        vertical-align: top;\n    }\n\n    .dataframe thead th {\n        text-align: right;\n    }\n</style>\n<table border=\"1\" class=\"dataframe\">\n  <thead>\n    <tr style=\"text-align: right;\">\n      <th></th>\n      <th>Time</th>\n      <th>MW</th>\n      <th>temperature</th>\n      <th>CDH</th>\n      <th>omega1</th>\n      <th>omega2</th>\n      <th>omega3</th>\n      <th>omega4</th>\n      <th>omega5</th>\n      <th>omega6</th>\n      <th>...</th>\n      <th>omega159</th>\n      <th>omega160</th>\n      <th>omega161</th>\n      <th>omega162</th>\n      <th>omega163</th>\n      <th>omega164</th>\n      <th>omega165</th>\n      <th>omega166</th>\n      <th>omega167</th>\n      <th>omega168</th>\n    </tr>\n  </thead>\n  <tbody>\n    <tr>\n      <th>1586</th>\n      <td>2022-07-05 01:00:00</td>\n      <td>3.1</td>\n      <td>29.0</td>\n      <td>0.0</td>\n      <td>0.0</td>\n      <td>0.0</td>\n      <td>0.0</td>\n      <td>0.0</td>\n      <td>0.0</td>\n      <td>0.0</td>\n      <td>...</td>\n      <td>0.0</td>\n      <td>0.0</td>\n      <td>0.0</td>\n      <td>0.0</td>\n      <td>0.0</td>\n      <td>0.0</td>\n      <td>0.0</td>\n      <td>0.0</td>\n      <td>0.0</td>\n      <td>0.0</td>\n    </tr>\n    <tr>\n      <th>1587</th>\n      <td>2022-07-05 04:00:00</td>\n      <td>2.8</td>\n      <td>28.0</td>\n      <td>0.0</td>\n      <td>0.0</td>\n      <td>0.0</td>\n      <td>0.0</td>\n      <td>0.0</td>\n      <td>0.0</td>\n      <td>0.0</td>\n      <td>...</td>\n      <td>0.0</td>\n      <td>0.0</td>\n      <td>0.0</td>\n      <td>0.0</td>\n      <td>0.0</td>\n      <td>0.0</td>\n      <td>0.0</td>\n      <td>0.0</td>\n      <td>0.0</td>\n      <td>0.0</td>\n    </tr>\n    <tr>\n      <th>1588</th>\n      <td>2022-07-05 05:00:00</td>\n      <td>4.1</td>\n      <td>28.0</td>\n      <td>0.0</td>\n      <td>0.0</td>\n      <td>0.0</td>\n      <td>0.0</td>\n      <td>0.0</td>\n      <td>0.0</td>\n      <td>0.0</td>\n      <td>...</td>\n      <td>0.0</td>\n      <td>0.0</td>\n      <td>0.0</td>\n      <td>0.0</td>\n      <td>0.0</td>\n      <td>0.0</td>\n      <td>0.0</td>\n      <td>0.0</td>\n      <td>0.0</td>\n      <td>0.0</td>\n    </tr>\n    <tr>\n      <th>1589</th>\n      <td>2022-07-05 06:00:00</td>\n      <td>4.3</td>\n      <td>29.0</td>\n      <td>0.0</td>\n      <td>0.0</td>\n      <td>0.0</td>\n      <td>0.0</td>\n      <td>0.0</td>\n      <td>0.0</td>\n      <td>0.0</td>\n      <td>...</td>\n      <td>0.0</td>\n      <td>0.0</td>\n      <td>0.0</td>\n      <td>0.0</td>\n      <td>0.0</td>\n      <td>0.0</td>\n      <td>0.0</td>\n      <td>0.0</td>\n      <td>0.0</td>\n      <td>0.0</td>\n    </tr>\n    <tr>\n      <th>1590</th>\n      <td>2022-07-05 07:00:00</td>\n      <td>4.3</td>\n      <td>32.0</td>\n      <td>1.0</td>\n      <td>0.0</td>\n      <td>0.0</td>\n      <td>0.0</td>\n      <td>0.0</td>\n      <td>0.0</td>\n      <td>0.0</td>\n      <td>...</td>\n      <td>0.0</td>\n      <td>0.0</td>\n      <td>0.0</td>\n      <td>0.0</td>\n      <td>0.0</td>\n      <td>0.0</td>\n      <td>0.0</td>\n      <td>0.0</td>\n      <td>0.0</td>\n      <td>0.0</td>\n    </tr>\n    <tr>\n      <th>...</th>\n      <td>...</td>\n      <td>...</td>\n      <td>...</td>\n      <td>...</td>\n      <td>...</td>\n      <td>...</td>\n      <td>...</td>\n      <td>...</td>\n      <td>...</td>\n      <td>...</td>\n      <td>...</td>\n      <td>...</td>\n      <td>...</td>\n      <td>...</td>\n      <td>...</td>\n      <td>...</td>\n      <td>...</td>\n      <td>...</td>\n      <td>...</td>\n      <td>...</td>\n      <td>...</td>\n    </tr>\n    <tr>\n      <th>2427</th>\n      <td>2022-08-28 01:00:00</td>\n      <td>4.1</td>\n      <td>28.0</td>\n      <td>0.0</td>\n      <td>0.0</td>\n      <td>0.0</td>\n      <td>0.0</td>\n      <td>0.0</td>\n      <td>0.0</td>\n      <td>0.0</td>\n      <td>...</td>\n      <td>0.0</td>\n      <td>0.0</td>\n      <td>0.0</td>\n      <td>0.0</td>\n      <td>0.0</td>\n      <td>0.0</td>\n      <td>0.0</td>\n      <td>0.0</td>\n      <td>0.0</td>\n      <td>0.0</td>\n    </tr>\n    <tr>\n      <th>2428</th>\n      <td>2022-08-28 05:00:00</td>\n      <td>4.7</td>\n      <td>28.0</td>\n      <td>0.0</td>\n      <td>0.0</td>\n      <td>0.0</td>\n      <td>0.0</td>\n      <td>0.0</td>\n      <td>0.0</td>\n      <td>0.0</td>\n      <td>...</td>\n      <td>0.0</td>\n      <td>0.0</td>\n      <td>0.0</td>\n      <td>0.0</td>\n      <td>0.0</td>\n      <td>0.0</td>\n      <td>0.0</td>\n      <td>0.0</td>\n      <td>0.0</td>\n      <td>0.0</td>\n    </tr>\n    <tr>\n      <th>2429</th>\n      <td>2022-08-28 06:00:00</td>\n      <td>4.6</td>\n      <td>28.0</td>\n      <td>0.0</td>\n      <td>0.0</td>\n      <td>0.0</td>\n      <td>0.0</td>\n      <td>0.0</td>\n      <td>0.0</td>\n      <td>0.0</td>\n      <td>...</td>\n      <td>0.0</td>\n      <td>0.0</td>\n      <td>0.0</td>\n      <td>0.0</td>\n      <td>0.0</td>\n      <td>0.0</td>\n      <td>0.0</td>\n      <td>0.0</td>\n      <td>0.0</td>\n      <td>0.0</td>\n    </tr>\n    <tr>\n      <th>2430</th>\n      <td>2022-08-28 07:00:00</td>\n      <td>4.6</td>\n      <td>28.0</td>\n      <td>0.0</td>\n      <td>0.0</td>\n      <td>0.0</td>\n      <td>0.0</td>\n      <td>0.0</td>\n      <td>0.0</td>\n      <td>0.0</td>\n      <td>...</td>\n      <td>0.0</td>\n      <td>0.0</td>\n      <td>0.0</td>\n      <td>0.0</td>\n      <td>0.0</td>\n      <td>0.0</td>\n      <td>0.0</td>\n      <td>0.0</td>\n      <td>0.0</td>\n      <td>0.0</td>\n    </tr>\n    <tr>\n      <th>2431</th>\n      <td>2022-08-28 08:00:00</td>\n      <td>4.5</td>\n      <td>29.0</td>\n      <td>0.0</td>\n      <td>0.0</td>\n      <td>0.0</td>\n      <td>0.0</td>\n      <td>0.0</td>\n      <td>0.0</td>\n      <td>0.0</td>\n      <td>...</td>\n      <td>0.0</td>\n      <td>0.0</td>\n      <td>0.0</td>\n      <td>0.0</td>\n      <td>0.0</td>\n      <td>0.0</td>\n      <td>0.0</td>\n      <td>0.0</td>\n      <td>0.0</td>\n      <td>0.0</td>\n    </tr>\n  </tbody>\n</table>\n<p>260 rows × 172 columns</p>\n</div>"
     },
     "execution_count": 35,
     "metadata": {},
     "output_type": "execute_result"
    }
   ],
   "source": [
    "df_12am_to_8am"
   ],
   "metadata": {
    "collapsed": false,
    "ExecuteTime": {
     "end_time": "2023-12-23T16:32:21.514148Z",
     "start_time": "2023-12-23T16:32:21.158147500Z"
    }
   }
  },
  {
   "cell_type": "code",
   "execution_count": 36,
   "outputs": [
    {
     "ename": "NameError",
     "evalue": "name 'STOP' is not defined",
     "output_type": "error",
     "traceback": [
      "\u001B[1;31m---------------------------------------------------------------------------\u001B[0m",
      "\u001B[1;31mNameError\u001B[0m                                 Traceback (most recent call last)",
      "Cell \u001B[1;32mIn[36], line 1\u001B[0m\n\u001B[1;32m----> 1\u001B[0m \u001B[43mSTOP\u001B[49m\n",
      "\u001B[1;31mNameError\u001B[0m: name 'STOP' is not defined"
     ]
    }
   ],
   "source": [
    "STOP"
   ],
   "metadata": {
    "collapsed": false,
    "ExecuteTime": {
     "end_time": "2023-12-23T16:32:22.193136600Z",
     "start_time": "2023-12-23T16:32:21.190263100Z"
    }
   }
  },
  {
   "cell_type": "code",
   "execution_count": null,
   "outputs": [],
   "source": [
    "start_time = pd.Timestamp('2022-10-03 00:00:00')\n",
    "end_time = pd.Timestamp('2023-01-01 23:00:00')"
   ],
   "metadata": {
    "collapsed": false,
    "ExecuteTime": {
     "start_time": "2023-12-23T16:32:21.912916300Z"
    }
   }
  },
  {
   "cell_type": "code",
   "execution_count": null,
   "outputs": [],
   "source": [
    "training_mask = (df['Time'] >= start_time) & (df['Time'] <= end_time) & (df['CDH'] > 0)\n",
    "training_df = df[training_mask]\n",
    "#training_df = training_df.dropna(subset=['CDH'])\n",
    "#training_df = training_df.dropna(subset=['MW'])\n",
    "\n",
    "x_train = training_df.loc[:, 'CDH']\n",
    "y_train = training_df.loc[:, 'MW']\n",
    "t_train = training_df['Time']\n",
    "\n",
    "x_train = pd.to_numeric(x_train, errors='coerce')\n",
    "x_train = x_train.values.reshape(-1, 1)\n",
    "y_train = np.array(y_train)\n",
    "temperature_model = LinearRegression()\n",
    "temperature_model.fit(x_train, y_train)\n",
    "\n",
    "predictions = temperature_model.predict(x_train)\n",
    "coef_cooling = temperature_model.coef_\n",
    "CDHmodelScore = temperature_model.score(x_train,y_train)\n",
    "\n",
    "print(\"score of the model is \", CDHmodelScore)\n",
    "\n",
    "print('temperature model coefficient is: ', coef_cooling)\n",
    "\n",
    "power_array = np.array(training_df['MW'], dtype='float64')\n",
    "temp_array = np.array(training_df['CDH'], dtype='float64')\n",
    "correlation_coefficient = np.corrcoef(power_array, temp_array)[0, 1]\n",
    "print('correlation between CDH and power in training set: ', correlation_coefficient)\n",
    "\n",
    "\n",
    "training_mask = (df['Time'] >= start_time) & (df['Time'] <= end_time)\n",
    "#Linear regression for the rest of the model\n",
    "x_behavior = df[training_mask].loc[:,'omega1':'omega168']\n",
    "y = pd.DataFrame(df['MW'][training_mask])\n",
    "yhat_c = (coef_cooling*df.loc[:,'CDH'][training_mask].values).reshape(-1,1)\n",
    "y_behavior = y - (yhat_c)\n",
    "# Drop rows where y_behavior has NaN values\n",
    "#y_behavior = y_behavior.dropna()\n",
    "# Get the index of non-null values in y_behavior and use it to filter x_behavior\n",
    "#non_null_index = y_behavior.index\n",
    "#x_behavior_filtered = x_behavior.loc[non_null_index]\n",
    "#x_behavior= x_behavior_filtered\n",
    "time = df['Time'][training_mask]\n",
    "\n",
    "## ------ fit the behavior model -----\n",
    "behavior_model = LinearRegression(fit_intercept=False, positive=True)\n",
    "behavior_model.verbose=False\n",
    "behavior_model.fit(x_behavior,y_behavior)\n",
    "#model.coef_,model.intercept_\n",
    "behavior_modelScore = behavior_model.score(x_behavior.values,y_behavior.values)\n",
    "print('score of the behavior model is '+str(behavior_modelScore))\n",
    "yhat_behavior = behavior_model.predict(x_behavior.values)\n",
    "\n",
    "full_model_start_time = pd.Timestamp('2022-02-07 00:00:00')\n",
    "full_model_end_time = pd.Timestamp('2022-12-25 23:00:00')\n",
    "# constructing the full LR model using time and temperature models\n",
    "c = np.concatenate((np.array([coef_cooling]).reshape(1,-1),behavior_model.coef_),axis=1)\n",
    "full_model_mask = (df['Time'] >= full_model_start_time) & (df['Time'] <= full_model_end_time)\n",
    "full_model = LinearRegression(fit_intercept=False)\n",
    "full_model.coef_ = c\n",
    "full_model.intercept_ = 0\n",
    "\n",
    "final_df = df[full_model_mask]\n",
    "final_df = final_df.sort_values('Time')\n",
    "full_model_mask.reset_index(drop = True)\n",
    "X = final_df.loc[:,'CDH':'omega168']\n",
    "y = pd.DataFrame(final_df['MW'])\n",
    "\n",
    "#y = y.dropna()\n",
    "#X = X.loc[y.index]\n",
    "#X = X.dropna()\n",
    "#y = y.loc[X.index]\n",
    "time = final_df.loc[y.index, 'Time']\n",
    "yhat = full_model.predict(X.values)\n",
    "pred = pd.DataFrame(data=yhat, columns=['yhat'], index=df.index)\n",
    "# Concatenate CDH with the original DataFrame using the index\n",
    "predictions_df = pd.concat([df, pred], axis=1)\n",
    "\n",
    "full_modelScore = full_model.score(X,y)\n",
    "print ('score for constructed full model: ', full_modelScore)\n",
    "\n",
    "fig,(ax1) = plt.subplots(nrows=1,figsize=(10,9))\n",
    "_=ax1.plot(time,y,label='meas')\n",
    "_=ax1.plot(time,yhat,label='pred: behavior+heat/cool')\n",
    "ax1.set_title('measured vs predicted data (full constructed model)')\n",
    "_=ax1.legend()"
   ],
   "metadata": {
    "collapsed": false,
    "ExecuteTime": {
     "start_time": "2023-12-23T16:32:21.920940300Z"
    }
   }
  },
  {
   "cell_type": "code",
   "execution_count": null,
   "outputs": [],
   "source": [
    "modelscoreontrainingdata = full_model.score(X[training_mask], y[training_mask])\n",
    "print(\"score of the fully constructed model on training data: \", modelscoreontrainingdata)"
   ],
   "metadata": {
    "collapsed": false,
    "ExecuteTime": {
     "start_time": "2023-12-23T16:32:21.920940300Z"
    }
   }
  },
  {
   "cell_type": "code",
   "execution_count": null,
   "outputs": [],
   "source": [],
   "metadata": {
    "collapsed": false,
    "ExecuteTime": {
     "start_time": "2023-12-23T16:32:21.928959Z"
    }
   }
  },
  {
   "cell_type": "code",
   "execution_count": null,
   "outputs": [],
   "source": [
    "trials"
   ],
   "metadata": {
    "collapsed": false,
    "ExecuteTime": {
     "start_time": "2023-12-23T16:32:21.936985200Z"
    }
   }
  },
  {
   "cell_type": "code",
   "execution_count": null,
   "outputs": [],
   "source": [
    "full_model_mask = (df['Time'] >= full_model_start_time) & (df['Time'] <= full_model_end_time)\n",
    "x = df[full_model_mask]['CDH'].values.reshape(-1,1)\n",
    "y = df[full_model_mask]['MW'].values.reshape(-1,1)\n"
   ],
   "metadata": {
    "collapsed": false,
    "ExecuteTime": {
     "start_time": "2023-12-23T16:32:21.945001800Z"
    }
   }
  },
  {
   "cell_type": "code",
   "execution_count": null,
   "outputs": [],
   "source": [
    "temperature_model = LinearRegression()\n",
    "temperature_model.fit(x, y)\n",
    "\n",
    "predictions = temperature_model.predict(x_train)\n",
    "coef_cooling = temperature_model.coef_\n",
    "CDHmodelScore = temperature_model.score(x_train,y_train)\n",
    "\n",
    "print(\"coeff of the model is \", temperature_model.coef_)"
   ],
   "metadata": {
    "collapsed": false,
    "ExecuteTime": {
     "start_time": "2023-12-23T16:32:21.952999800Z"
    }
   }
  },
  {
   "cell_type": "code",
   "execution_count": null,
   "outputs": [],
   "source": [
    "new_start_time  = pd.Timestamp('2022-07-09 12:00:00')\n",
    "new_end_time = pd.Timestamp('2022-07-09 15:00:00')\n",
    "new_model_mask = (df['Time'] >= new_start_time) & (df['Time'] <= new_end_time) & (df['CDH'] > 0)\n",
    "x = df[new_model_mask]['CDH'].values.reshape(-1,1)\n",
    "y = df[new_model_mask]['MW'].values.reshape(-1,1)\n",
    "x = np.array([1.0, 2.5, 3.8]).reshape(-1, 1)\n",
    "y = np.array([4.0, 4.5, 5.0]).reshape(-1, 1)\n"
   ],
   "metadata": {
    "collapsed": false,
    "ExecuteTime": {
     "start_time": "2023-12-23T16:32:21.952999800Z"
    }
   }
  },
  {
   "cell_type": "code",
   "execution_count": null,
   "outputs": [],
   "source": [
    "x"
   ],
   "metadata": {
    "collapsed": false,
    "ExecuteTime": {
     "start_time": "2023-12-23T16:32:21.960997400Z"
    }
   }
  },
  {
   "cell_type": "code",
   "execution_count": null,
   "outputs": [],
   "source": [
    "model = LinearRegression()\n",
    "model.fit(x,y)\n",
    "model.coef_"
   ],
   "metadata": {
    "collapsed": false,
    "ExecuteTime": {
     "start_time": "2023-12-23T16:32:21.960997400Z"
    }
   }
  },
  {
   "cell_type": "code",
   "execution_count": null,
   "outputs": [],
   "source": [],
   "metadata": {
    "collapsed": false,
    "ExecuteTime": {
     "start_time": "2023-12-23T16:32:21.969003200Z"
    }
   }
  },
  {
   "cell_type": "code",
   "execution_count": null,
   "outputs": [],
   "source": [
    "power_array = np.array(x, dtype='float64')\n",
    "temp_array = np.array(y, dtype='float64')\n",
    "correlation_coefficient = np.corrcoef(x, y)[0, 1]\n",
    "print('correlation between CDH and power in training set: ', correlation_coefficient)\n"
   ],
   "metadata": {
    "collapsed": false,
    "ExecuteTime": {
     "start_time": "2023-12-23T16:32:21.977003700Z"
    }
   }
  },
  {
   "cell_type": "code",
   "execution_count": null,
   "outputs": [],
   "source": [
    "temp_array"
   ],
   "metadata": {
    "collapsed": false,
    "ExecuteTime": {
     "start_time": "2023-12-23T16:32:21.977003700Z"
    }
   }
  },
  {
   "cell_type": "code",
   "execution_count": null,
   "outputs": [],
   "source": [],
   "metadata": {
    "collapsed": false,
    "ExecuteTime": {
     "start_time": "2023-12-23T16:32:21.985002100Z"
    }
   }
  }
 ],
 "metadata": {
  "kernelspec": {
   "display_name": "Python 3",
   "language": "python",
   "name": "python3"
  },
  "language_info": {
   "codemirror_mode": {
    "name": "ipython",
    "version": 2
   },
   "file_extension": ".py",
   "mimetype": "text/x-python",
   "name": "python",
   "nbconvert_exporter": "python",
   "pygments_lexer": "ipython2",
   "version": "2.7.6"
  }
 },
 "nbformat": 4,
 "nbformat_minor": 0
}
