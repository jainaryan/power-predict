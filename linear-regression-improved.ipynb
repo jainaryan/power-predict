{
 "cells": [
  {
   "cell_type": "code",
   "execution_count": null,
   "metadata": {
    "collapsed": true
   },
   "outputs": [],
   "source": [
    "import pandas as pd\n",
    "import pytz\n",
    "import numpy as np\n",
    "import os\n",
    "from sklearn import preprocessing\n",
    "import re\n",
    "import matplotlib\n",
    "matplotlib.use('Qt5Agg')\n",
    "from datetime import timedelta\n",
    "import matplotlib.pyplot as plt\n",
    "from IPython.core.interactiveshell import InteractiveShell\n",
    "InteractiveShell.ast_node_interactivity = \"all\"\n",
    "\n",
    "import warnings\n",
    "warnings.filterwarnings('ignore')"
   ]
  },
  {
   "cell_type": "code",
   "execution_count": null,
   "outputs": [],
   "source": [
    "def custom_date_parser(date_string):\n",
    "    return pd.to_datetime(date_string, format='%d-%m-%Y %H:%M:%S')\n",
    "\n",
    "# Specify the path to the main directory containing folders and files\n",
    "path = 'D:\\\\mlinternship\\\\iitgdata'\n",
    "folders = [folder for folder in os.listdir(path) if os.path.isdir(os.path.join(path, folder))]\n",
    "df_list = []\n",
    "\n",
    "# Iterate through each folder\n",
    "for folder in folders:\n",
    "    # Construct the full path to the current folder\n",
    "    folder_path = os.path.join(path, folder)\n",
    "\n",
    "    # Iterate through files in the current folder\n",
    "    for filename in os.listdir(folder_path):\n",
    "        # Check if the file has the '.xlsx' extension\n",
    "        if filename.endswith('.xlsx'):\n",
    "            # Construct the full path to the Excel file\n",
    "            file_path = os.path.join(folder_path, filename)\n",
    "\n",
    "            # Use the custom date parser function\n",
    "            df = pd.read_excel(file_path, header=3, date_parser=custom_date_parser)\n",
    "\n",
    "            # Append the dataframe to the list\n",
    "            df_list.append(df)\n"
   ],
   "metadata": {
    "collapsed": false
   }
  },
  {
   "cell_type": "code",
   "execution_count": null,
   "outputs": [],
   "source": [
    "power_df = pd.concat(df_list, ignore_index=True)\n",
    "power_df.to_csv('power_datacsv.csv')\n",
    "power_df['Time'] = pd.to_datetime(power_df['Time'])\n",
    "power_df['Time'] = power_df['Time'].round('min')\n",
    "#replace all the 'NR' values in MW column to NaN\n",
    "power_df['MW'] = power_df['MW'].replace('NR', np.nan)\n",
    "power_df['MW'] = power_df['MW'].replace('nr', np.nan)\n",
    "full_power_df = power_df.copy()\n",
    "# drop the rest of the columns that are not required and set index to Time\n",
    "power_df = power_df[['Time', 'MW']]\n",
    "#power_df.dropna(subset=['Time'], inplace=True)\n",
    "power_df.dropna(inplace = True)\n",
    "power_df['MW'] = power_df['MW'].astype(str)\n",
    "# Remove commas from 'CDH' column and convert to numeric\n",
    "power_df['MW'] = pd.to_numeric(power_df['MW'].str.replace(',', '.'), errors='coerce')\n",
    "power_df['Time'] = pd.to_datetime(power_df['Time'])\n",
    "# Now, 'Time' column is in UTC timezone format\n",
    "power_df = power_df.sort_values('Time')"
   ],
   "metadata": {
    "collapsed": false
   }
  },
  {
   "cell_type": "code",
   "execution_count": null,
   "outputs": [],
   "source": [
    "power_df"
   ],
   "metadata": {
    "collapsed": false
   }
  },
  {
   "cell_type": "code",
   "execution_count": null,
   "outputs": [],
   "source": [
    "plt.figure(figsize=(10, 5))\n",
    "plt.ion()\n",
    "plt.plot(power_df['Time'], power_df['MW'], marker='o', linestyle='-', color='r', label='MW')\n",
    "\n",
    "plt.xlabel('Time')\n",
    "\n",
    "plt.xticks(rotation=45)\n",
    "\n",
    "ax = plt.gca()\n",
    "ax.set_facecolor('white')\n",
    "ax.set_title('power vs time (not normalized)')\n",
    "plt.legend()\n",
    "plt.tight_layout()\n",
    "\n",
    "plt.show()"
   ],
   "metadata": {
    "collapsed": false
   }
  },
  {
   "cell_type": "code",
   "execution_count": null,
   "outputs": [],
   "source": [
    "# read the temperature data csv\n",
    "temperature_data_csv_path = 'D:\\\\mlinternship\\\\iitgdata\\\\temperaturedata'\n",
    "filename = 'guwahati_temperature_data.csv'\n",
    "file = os.path.join(temperature_data_csv_path, filename)\n",
    "temperature_df = pd.read_csv(file)\n",
    "#drop the unwanted columns and change column name\n",
    "temperature_df.rename(columns={'valid': 'Time'}, inplace = True)\n",
    "temperature_df = temperature_df.rename(columns={'tmpc': 'temperature'})\n",
    "temperature_df = temperature_df[['Time', 'temperature']]\n",
    "\n",
    "temperature_df['Time'] = pd.to_datetime(temperature_df['Time'])\n",
    "temperature_df['Time'] = pd.DatetimeIndex(temperature_df['Time']) + timedelta(hours=5,minutes=30)\n",
    "temperature_df['temperature'] = pd.to_numeric(temperature_df['temperature'], errors='coerce')\n",
    "\n",
    "\n",
    "temperature_df.set_index('Time', inplace=True)\n",
    "temperature_df['temperature'] = temperature_df['temperature'].interpolate(method='polynomial', order = 5)\n",
    "temperature_df.reset_index(inplace=True)"
   ],
   "metadata": {
    "collapsed": false
   }
  },
  {
   "cell_type": "code",
   "execution_count": null,
   "outputs": [],
   "source": [
    "temperature_df"
   ],
   "metadata": {
    "collapsed": false
   }
  },
  {
   "cell_type": "code",
   "execution_count": null,
   "outputs": [],
   "source": [
    "\n"
   ],
   "metadata": {
    "collapsed": false
   }
  },
  {
   "cell_type": "code",
   "execution_count": null,
   "outputs": [],
   "source": [
    "\n",
    "\n",
    "# plotting temperature vs time\n",
    "plt.figure(figsize=(10, 5))\n",
    "plt.ion()\n",
    "plt.plot(temperature_df['Time'], temperature_df['temperature'], marker='o', linestyle='-', color='r', label='temperature')\n",
    "\n",
    "plt.xlabel('Time')\n",
    "\n",
    "plt.xticks(rotation=45)\n",
    "\n",
    "ax = plt.gca()\n",
    "ax.set_facecolor('white')\n",
    "ax.set_title('temperature vs time')\n",
    "plt.legend()\n",
    "plt.tight_layout()\n",
    "\n",
    "plt.show()\n"
   ],
   "metadata": {
    "collapsed": false
   }
  },
  {
   "cell_type": "code",
   "execution_count": null,
   "outputs": [],
   "source": [
    "common_times = set(power_df['Time']).intersection(set(temperature_df['Time']))\n",
    "num_common_rows = len(common_times)\n",
    "\n",
    "print(f'Number of rows with same values in \"Time\" column: {num_common_rows}')"
   ],
   "metadata": {
    "collapsed": false
   }
  },
  {
   "cell_type": "code",
   "execution_count": null,
   "outputs": [],
   "source": [
    "# joining the two dataframes such that the temperature data is only taken if there exists a reading in the power data dataframe\n",
    "df = pd.merge(power_df, temperature_df, on='Time', how='left')\n",
    "DF = pd.merge(full_power_df, temperature_df, on='Time', how='left')\n",
    "df['Time'] = pd.to_datetime(df['Time'])\n",
    "#drop all the rows where NaN\n",
    "df.dropna(inplace=True)\n",
    "df = df[df['MW'] <= 20]\n",
    "df = df.sort_values('Time')\n",
    "df.reset_index(inplace=True, drop = True)\n",
    "df\n"
   ],
   "metadata": {
    "collapsed": false
   }
  },
  {
   "cell_type": "code",
   "execution_count": null,
   "outputs": [],
   "source": [
    "temporary_df = df.copy()\n",
    "# Convert 'Time' column to datetime if it's not already\n",
    "temporary_df['Time'] = pd.to_datetime(temporary_df['Time'])\n",
    "# Set 'Time' column as the index\n",
    "temporary_df.set_index('Time', inplace=True)\n",
    "# Resample the data to get weekly averages\n",
    "weekly_avg_temperature = temporary_df['temperature'].resample('W').mean()\n",
    "# Plot the weekly average temperature\n",
    "plt.figure(figsize=(12, 6))\n",
    "plt.plot(weekly_avg_temperature.index, weekly_avg_temperature.values, marker='o', linestyle='-')\n",
    "plt.xlabel('Week')\n",
    "plt.ylabel('Average Temperature')\n",
    "plt.title('Weekly Average Temperature')\n",
    "plt.grid(True)\n",
    "plt.show()\n"
   ],
   "metadata": {
    "collapsed": false
   }
  },
  {
   "cell_type": "code",
   "execution_count": null,
   "outputs": [],
   "source": [
    "df['Month'] = df['Time'].dt.month\n",
    "df['Year'] = df['Time'].dt.year\n",
    "\n",
    "# Group by month and year, and count the number of data entries\n",
    "monthly_data_counts = df.groupby(['Year', 'Month']).size().reset_index(name='DataCount')\n",
    "\n",
    "# Sort the data counts in descending order\n",
    "sorted_monthly_data_counts = monthly_data_counts.sort_values(by='DataCount', ascending=False)\n",
    "\n",
    "# List of months with most data available in descending order\n",
    "months_with_most_data = []\n",
    "for index, row in sorted_monthly_data_counts.iterrows():\n",
    "    month_name = pd.Timestamp(year=row['Year'], month=row['Month'], day=1).strftime('%B %Y')\n",
    "    data_count = row['DataCount']\n",
    "    months_with_most_data.append((month_name, data_count))\n",
    "\n",
    "print(\"Months with most data available in descending order:\")\n",
    "for month, data_count in months_with_most_data:\n",
    "    print(f\"{month}: {data_count} data points\")\n",
    "\n",
    "columns_to_drop = ['Year', 'Month']\n",
    "df.drop(columns=columns_to_drop, inplace=True)"
   ],
   "metadata": {
    "collapsed": false
   }
  },
  {
   "cell_type": "code",
   "execution_count": null,
   "outputs": [],
   "source": [
    "full_model_start_time = pd.Timestamp('2022-02-07 00:00:00')\n",
    "full_model_end_time = pd.Timestamp('2022-12-25 23:00:00')\n",
    "df = df.sort_values('Time')\n",
    "df = df[(df['Time'] >= full_model_start_time) & (df['Time'] <= full_model_end_time)]\n",
    "\n",
    "df.reset_index(drop=True)\n",
    "df"
   ],
   "metadata": {
    "collapsed": false
   }
  },
  {
   "cell_type": "code",
   "execution_count": null,
   "outputs": [],
   "source": [
    "correlation_start_time = pd.Timestamp('2022-07-04 00:00:00')\n",
    "correlation_end_time = pd.Timestamp('2022-08-28 23:00:00')\n",
    "training_mask = (df['Time'] >= correlation_start_time) & (df['Time'] <= correlation_end_time)\n",
    "mw_array = np.array(df['MW'][training_mask], dtype='float64')\n",
    "correlation_values = []\n",
    "\n",
    "for i in range(20, 40):\n",
    "    TcoolStPt = i\n",
    "    CDH = df['temperature'][training_mask] - TcoolStPt\n",
    "    CDH.clip(lower=0, inplace=True)\n",
    "    CDH = pd.DataFrame(data=CDH.values, columns=['CDH'], index=df[training_mask].index)\n",
    "    temp_array = np.array(CDH['CDH'], dtype='float64')\n",
    "    correlation_coefficient = np.corrcoef(mw_array, temp_array)[0, 1]\n",
    "    correlation_values.append((TcoolStPt, correlation_coefficient))\n",
    "\n",
    "# Sort the correlation values list in descending order based on correlation coefficient\n",
    "sorted_correlation_values = sorted(correlation_values, key=lambda x: x[1], reverse=True)\n",
    "\n",
    "# Print the TcoolStPt values with highest correlation coefficients in descending order\n",
    "for tcool_stpt, corr_coeff in sorted_correlation_values:\n",
    "    print(f'TcoolStPt: {tcool_stpt}, Correlation Coefficient: {corr_coeff}')"
   ],
   "metadata": {
    "collapsed": false
   }
  },
  {
   "cell_type": "code",
   "execution_count": null,
   "outputs": [],
   "source": [
    "'''TcoolStPt = 31\n",
    "CDH = df['temperature'] - TcoolStPt\n",
    "CDH.clip(lower=0, inplace=True)\n",
    "CDH = pd.DataFrame(data=CDH.values, columns=['CDH'])\n",
    "df = pd.concat([df, CDH['CDH']], axis=1)'''\n",
    "\n",
    "TcoolStPt = 31\n",
    "CDH = df['temperature'] - TcoolStPt\n",
    "CDH.clip(lower=0, inplace=True)\n",
    "CDH = pd.DataFrame(data=CDH.values, columns=['CDH'], index=df.index)\n",
    "# Concatenate CDH with the original DataFrame using the index\n",
    "df = pd.concat([df, CDH], axis=1)\n",
    "\n",
    "CDH = DF['temperature'] - TcoolStPt\n",
    "CDH.clip(lower=0, inplace=True)\n",
    "CDH = pd.DataFrame(data=CDH.values, columns=['CDH'], index=DF.index)\n",
    "# Concatenate CDH with the original DataFrame using the index\n",
    "DF = pd.concat([DF, CDH], axis=1)\n",
    "df"
   ],
   "metadata": {
    "collapsed": false
   }
  },
  {
   "cell_type": "code",
   "execution_count": null,
   "outputs": [],
   "source": [
    "mw_array = np.array(df['MW'], dtype='float64')\n",
    "temp_array = np.array(df['CDH'], dtype='float64')\n",
    "correlation_coefficient = np.corrcoef(mw_array, temp_array)[0, 1]\n",
    "print('correlation between CDH and power: ', correlation_coefficient)"
   ],
   "metadata": {
    "collapsed": false
   }
  },
  {
   "cell_type": "code",
   "execution_count": null,
   "outputs": [],
   "source": [
    "df.dropna(inplace=True)\n",
    "df = df.sort_values('Time')\n",
    "df.reset_index(inplace=True, drop = True)"
   ],
   "metadata": {
    "collapsed": false
   }
  },
  {
   "cell_type": "code",
   "execution_count": null,
   "outputs": [],
   "source": [
    "\n",
    "plt.ion()\n",
    "df['MW'] = pd.to_numeric(df['MW'], errors = 'coerce')\n",
    "f,ax = plt.subplots(nrows = 1, figsize=(5,5))\n",
    "#plt.plot(df['temperature'], df['MW'])\n",
    "plt.scatter(df['temperature'], df['MW'],color='red')\n",
    "ax.set_title('MW vs Temperature')\n",
    "\n",
    "power_normalized = preprocessing.normalize([df['MW']]).reshape(-1,1)\n",
    "temperature_normalized = preprocessing.normalize([df['temperature']]).reshape(-1,1)\n",
    "\n",
    "plt.figure(figsize=(10, 5))\n",
    "plt.ion()\n",
    "plt.plot(df['Time'], df['MW'], marker='o', linestyle='-', color='r', label='MW')\n",
    "plt.plot(df['Time'], df['temperature'], marker='o', linestyle='-', color='y', label='temp')\n",
    "plt.xlabel('Time')\n",
    "plt.xticks(rotation=45)\n",
    "ax = plt.gca()\n",
    "ax.set_facecolor('white')\n",
    "ax.set_title('power and temperature vs time (not normalized)')\n",
    "plt.legend()\n",
    "plt.tight_layout()\n",
    "plt.show()\n",
    "\n",
    "plt.figure(figsize=(10, 5))\n",
    "plt.ion()\n",
    "plt.plot(df['Time'], power_normalized, marker='o', linestyle='-', color='r', label='MW')\n",
    "plt.plot(df['Time'], temperature_normalized, marker='o', linestyle='-', color='y', label='temp')\n",
    "plt.xlabel('Time')\n",
    "plt.xticks(rotation=45)\n",
    "ax = plt.gca()\n",
    "ax.set_facecolor('white')\n",
    "ax.set_title('power and temperature vs time (normalized)')\n",
    "plt.legend()\n",
    "plt.tight_layout()\n",
    "plt.show()"
   ],
   "metadata": {
    "collapsed": false
   }
  },
  {
   "cell_type": "code",
   "execution_count": null,
   "outputs": [],
   "source": [
    "numOmegas = 24 * 7\n",
    "num_of_rows = df.shape[0]\n",
    "omegas = np.zeros((num_of_rows, numOmegas))  # Assuming numOmegas columns for omegas\n",
    "concatenated_data = np.concatenate((df, omegas), axis=1)\n",
    "column_names = ['Time', 'MW', 'temperature', 'CDH']\n",
    "for i in range(1, numOmegas + 1,1):\n",
    "    column_names.append('omega' + str(i))\n",
    "\n",
    "df = pd.DataFrame(concatenated_data, columns=column_names)\n",
    "df['Time'] = pd.to_datetime(df['Time'])\n",
    "for i in range(0,num_of_rows):\n",
    "        datetime = df.Time.loc[i]\n",
    "        hourOfWeekIndex = int(datetime.dayofweek*24+(datetime.hour+1))\n",
    "        x = np.zeros((1,numOmegas))\n",
    "        x[0,hourOfWeekIndex-1]=1\n",
    "        omegas[i,:]=x\n",
    "\n",
    "df.iloc[:,4:]=omegas\n",
    "df"
   ],
   "metadata": {
    "collapsed": false
   }
  },
  {
   "cell_type": "code",
   "execution_count": null,
   "outputs": [],
   "source": [
    "from scipy import stats\n",
    "from sklearn import preprocessing\n",
    "from sklearn.model_selection import KFold\n",
    "from sklearn.linear_model import LinearRegression\n",
    "from sklearn.linear_model import LinearRegression\n",
    "from sklearn.preprocessing import PolynomialFeatures\n",
    "from sklearn.metrics import mean_squared_error\n",
    "from sklearn.model_selection import train_test_split\n",
    "import itertools\n"
   ],
   "metadata": {
    "collapsed": false
   }
  },
  {
   "cell_type": "code",
   "execution_count": null,
   "outputs": [],
   "source": [
    "#set timeframe for training data\n",
    "start_time = pd.Timestamp('2022-07-04 00:00:00')\n",
    "end_time = pd.Timestamp('2022-08-28 23:00:00')\n",
    "training_mask = (df['Time'] >= start_time) & (df['Time'] <= end_time) & (df['CDH'] > 0)\n",
    "training_df = df[training_mask]\n",
    "#training_df = training_df.dropna(subset=['CDH'])\n",
    "#training_df = training_df.dropna(subset=['MW'])\n",
    "\n",
    "x_train = training_df.loc[:, 'CDH']\n",
    "y_train = training_df.loc[:, 'MW']\n",
    "t_train = training_df['Time']\n",
    "\n",
    "x_train = pd.to_numeric(x_train, errors='coerce')\n",
    "x_train = x_train.values.reshape(-1, 1)\n",
    "y_train = np.array(y_train)\n",
    "\n",
    "# For testing data, use data after end_time to testing_end_time\n",
    "testing_end_time = pd.Timestamp('2022-10-15 23:00:00')\n",
    "testing_mask = (df['Time'] > end_time) & (df['Time'] <= testing_end_time) & (df['CDH'] > 0)\n",
    "testing_df = df[testing_mask]\n",
    "testing_df = testing_df.dropna(subset=['CDH'])\n",
    "testing_df = testing_df.dropna(subset=['MW'])\n",
    "x_test = testing_df.loc[:, 'CDH']\n",
    "y_test = testing_df.loc[:, 'MW']\n",
    "t_test = testing_df['Time']"
   ],
   "metadata": {
    "collapsed": false
   }
  },
  {
   "cell_type": "code",
   "execution_count": null,
   "outputs": [],
   "source": [
    "# Linear regression\n",
    "temperature_model = LinearRegression()\n",
    "temperature_model.fit(x_train, y_train)\n",
    "\n",
    "predictions = temperature_model.predict(x_train)\n",
    "coef_cooling = temperature_model.coef_\n",
    "CDHmodelScore = temperature_model.score(x_train,y_train)\n",
    "\n",
    "print(\"score of the model is \", CDHmodelScore)\n",
    "\n",
    "'''\n",
    "plt.figure(figsize=(10, 5))\n",
    "plt.scatter(x_train, y_train, color='blue', label='Actual MW')\n",
    "plt.scatter(x_train, predictions, color='red', label='Predicted MW')\n",
    "plt.xlabel('x_train')\n",
    "plt.ylabel('MW')\n",
    "plt.title('Actual vs Predicted MW (using only CDH values to predict)')\n",
    "plt.legend()\n",
    "plt.show()\n",
    "'''"
   ],
   "metadata": {
    "collapsed": false
   }
  },
  {
   "cell_type": "code",
   "execution_count": null,
   "outputs": [],
   "source": [
    "print('temperature model coefficient is: ', coef_cooling)\n",
    "\n",
    "power_array = np.array(training_df['MW'], dtype='float64')\n",
    "temp_array = np.array(training_df['CDH'], dtype='float64')\n",
    "correlation_coefficient = np.corrcoef(power_array, temp_array)[0, 1]\n",
    "print('correlation between CDH and power in training set: ', correlation_coefficient)"
   ],
   "metadata": {
    "collapsed": false
   }
  },
  {
   "cell_type": "code",
   "execution_count": null,
   "outputs": [],
   "source": [
    "training_mask = (df['Time'] >= start_time) & (df['Time'] <= end_time)\n",
    "training_df = df[training_mask]\n",
    "#Linear regression for the rest of the model\n",
    "x_behavior = df[training_mask].loc[:,'omega1':'omega168']\n",
    "y = pd.DataFrame(df['MW'][training_mask])\n",
    "yhat_c = (coef_cooling*df.loc[:,'CDH'][training_mask].values).reshape(-1,1)\n",
    "y_behavior = y - (yhat_c)\n",
    "# Drop rows where y_behavior has NaN values\n",
    "#y_behavior = y_behavior.dropna()\n",
    "# Get the index of non-null values in y_behavior and use it to filter x_behavior\n",
    "#non_null_index = y_behavior.index\n",
    "#x_behavior_filtered = x_behavior.loc[non_null_index]\n",
    "#x_behavior= x_behavior_filtered\n",
    "time = df['Time'][training_mask]\n",
    "\n",
    "## ------ fit the behavior model -----\n",
    "behavior_model = LinearRegression(fit_intercept=False, positive=True)\n",
    "behavior_model.verbose=False\n",
    "behavior_model.fit(x_behavior,y_behavior)\n",
    "#model.coef_,model.intercept_\n",
    "behavior_modelScore = behavior_model.score(x_behavior.values,y_behavior.values)\n",
    "print('score of the behavior model is '+str(behavior_modelScore))\n",
    "yhat_behavior = behavior_model.predict(x_behavior.values)\n",
    "\n",
    "predicted_data = pd.DataFrame({'Time': time, 'Predicted MW': yhat_behavior.reshape(-1)})\n",
    "plt.figure(figsize=(10, 5))\n",
    "plt.scatter(df['Time'][training_mask], yhat_behavior, color='red', label='Predicted MW')\n",
    "plt.scatter(df['Time'][training_mask], y_behavior.values, color='blue', label='Actual MW')\n",
    "plt.xlabel('Time')\n",
    "plt.ylabel('MW')\n",
    "plt.title('Actual vs Predicted MW (using behavior model)')\n",
    "plt.legend()\n",
    "plt.show()\n",
    "\n",
    "'''\n",
    "plt.figure(figsize=(10, 5))\n",
    "\n",
    "plt.scatter(time, y_behavior.values, color='blue', label='Actual MW')\n",
    "plt.scatter(time, yhat_behavior, color='red', label='Predicted MW')\n",
    "\n",
    "# Set labels and title\n",
    "plt.xlabel('time')\n",
    "plt.ylabel('MW')\n",
    "plt.title('Actual vs Predicted MW (using behavior model)')\n",
    "plt.legend()\n",
    "plt.show()\n",
    "'''\n"
   ],
   "metadata": {
    "collapsed": false
   }
  },
  {
   "cell_type": "code",
   "execution_count": null,
   "outputs": [],
   "source": [
    "behavior_model.coef_"
   ],
   "metadata": {
    "collapsed": false
   }
  },
  {
   "cell_type": "code",
   "execution_count": null,
   "outputs": [],
   "source": [
    "full_model_start_time = pd.Timestamp('2022-02-07 00:00:00')\n",
    "full_model_end_time = pd.Timestamp('2022-12-25 23:00:00')"
   ],
   "metadata": {
    "collapsed": false
   }
  },
  {
   "cell_type": "code",
   "execution_count": null,
   "outputs": [],
   "source": [
    "# constructing the full LR model using time and temperature models\n",
    "c = np.concatenate((np.array([coef_cooling]).reshape(1,-1),behavior_model.coef_),axis=1)\n",
    "full_model_mask = (df['Time'] >= full_model_start_time) & (df['Time'] <= full_model_end_time)\n",
    "full_model = LinearRegression(fit_intercept=False)\n",
    "full_model.coef_ = c\n",
    "full_model.intercept_ = 0\n",
    "\n",
    "final_df = df[full_model_mask]\n",
    "final_df = final_df.sort_values('Time')\n",
    "full_model_mask.reset_index(drop = True)\n",
    "X = final_df.loc[:,'CDH':'omega168']\n",
    "y = pd.DataFrame(final_df['MW'])\n",
    "\n",
    "#y = y.dropna()\n",
    "#X = X.loc[y.index]\n",
    "#X = X.dropna()\n",
    "#y = y.loc[X.index]\n",
    "time = final_df.loc[y.index, 'Time']\n",
    "yhat = full_model.predict(X.values)\n",
    "pred = pd.DataFrame(data=yhat, columns=['yhat'], index=df.index)\n",
    "# Concatenate CDH with the original DataFrame using the index\n",
    "predictions_df = pd.concat([df, pred], axis=1)\n",
    "\n",
    "full_modelScore = full_model.score(X,y)\n",
    "print ('score for constructed full model on full data: ', full_modelScore)\n",
    "\n",
    "fig,(ax1) = plt.subplots(nrows=1,figsize=(10,9))\n",
    "_=ax1.plot(time,y,label='meas')\n",
    "_=ax1.plot(time,yhat,label='pred: behavior+heat/cool')\n",
    "ax1.set_title('measured vs predicted data (full constructed model)')\n",
    "_=ax1.legend()"
   ],
   "metadata": {
    "collapsed": false
   }
  },
  {
   "cell_type": "code",
   "execution_count": null,
   "outputs": [],
   "source": [
    "modelscoreontrainingdata = full_model.score(X[training_mask], y[training_mask])\n",
    "print(\"score of the fully constructed model on training data: \", modelscoreontrainingdata)"
   ],
   "metadata": {
    "collapsed": false
   }
  },
  {
   "cell_type": "markdown",
   "source": [],
   "metadata": {
    "collapsed": false
   }
  },
  {
   "cell_type": "code",
   "execution_count": null,
   "outputs": [],
   "source": [
    "# list of rows where model is predicting 0\n",
    "predictions_df = predictions_df[predictions_df['yhat'] == 0]\n",
    "predictions_df"
   ],
   "metadata": {
    "collapsed": false
   }
  },
  {
   "cell_type": "code",
   "execution_count": null,
   "outputs": [],
   "source": [
    "for i in range(1,169):\n",
    "    sum = predictions_df[f'omega{i}'].sum()\n",
    "    if (sum!=0):\n",
    "        print(f\"{i}:{sum}\")\n"
   ],
   "metadata": {
    "collapsed": false
   }
  },
  {
   "cell_type": "code",
   "execution_count": null,
   "outputs": [],
   "source": [
    "training_df[training_df['omega45']  > 0]"
   ],
   "metadata": {
    "collapsed": false
   }
  },
  {
   "cell_type": "code",
   "execution_count": null,
   "outputs": [],
   "source": [
    "training_df = training_df.sort_values('Time')\n",
    "training_df"
   ],
   "metadata": {
    "collapsed": false
   }
  },
  {
   "cell_type": "code",
   "execution_count": null,
   "outputs": [],
   "source": [
    "df['Time'] = pd.to_datetime(df['Time'])\n",
    "hours = df['Time'].dt.hour\n",
    "df_12am_to_8am = df[(hours >= 0) & (hours <= 8)]\n",
    "df_excluding_12am_to_8am = df[(hours < 0) | (hours > 8)]\n"
   ],
   "metadata": {
    "collapsed": false
   }
  },
  {
   "cell_type": "code",
   "execution_count": null,
   "outputs": [],
   "source": [
    "df_12am_to_8am.dropna(inplace=True)\n",
    "df_12am_to_8am = df_12am_to_8am[training_mask]\n",
    "x = df_12am_to_8am.loc[:,'CDH':'omega168']\n",
    "y = pd.DataFrame(df_12am_to_8am['MW'])\n",
    "night_score = full_model.score(x,y)\n",
    "print('model score for data between 12am to 8 am on training data is: ', night_score)"
   ],
   "metadata": {
    "collapsed": false
   }
  },
  {
   "cell_type": "code",
   "execution_count": null,
   "outputs": [],
   "source": [
    "df_12am_to_8am"
   ],
   "metadata": {
    "collapsed": false
   }
  },
  {
   "cell_type": "code",
   "execution_count": null,
   "outputs": [],
   "source": [
    "STOP"
   ],
   "metadata": {
    "collapsed": false
   }
  },
  {
   "cell_type": "code",
   "execution_count": null,
   "outputs": [],
   "source": [
    "start_time = pd.Timestamp('2022-10-03 00:00:00')\n",
    "end_time = pd.Timestamp('2023-01-01 23:00:00')"
   ],
   "metadata": {
    "collapsed": false
   }
  },
  {
   "cell_type": "code",
   "execution_count": null,
   "outputs": [],
   "source": [
    "training_mask = (df['Time'] >= start_time) & (df['Time'] <= end_time) & (df['CDH'] > 0)\n",
    "training_df = df[training_mask]\n",
    "#training_df = training_df.dropna(subset=['CDH'])\n",
    "#training_df = training_df.dropna(subset=['MW'])\n",
    "\n",
    "x_train = training_df.loc[:, 'CDH']\n",
    "y_train = training_df.loc[:, 'MW']\n",
    "t_train = training_df['Time']\n",
    "\n",
    "x_train = pd.to_numeric(x_train, errors='coerce')\n",
    "x_train = x_train.values.reshape(-1, 1)\n",
    "y_train = np.array(y_train)\n",
    "temperature_model = LinearRegression()\n",
    "temperature_model.fit(x_train, y_train)\n",
    "\n",
    "predictions = temperature_model.predict(x_train)\n",
    "coef_cooling = temperature_model.coef_\n",
    "CDHmodelScore = temperature_model.score(x_train,y_train)\n",
    "\n",
    "print(\"score of the model is \", CDHmodelScore)\n",
    "\n",
    "print('temperature model coefficient is: ', coef_cooling)\n",
    "\n",
    "power_array = np.array(training_df['MW'], dtype='float64')\n",
    "temp_array = np.array(training_df['CDH'], dtype='float64')\n",
    "correlation_coefficient = np.corrcoef(power_array, temp_array)[0, 1]\n",
    "print('correlation between CDH and power in training set: ', correlation_coefficient)\n",
    "\n",
    "\n",
    "training_mask = (df['Time'] >= start_time) & (df['Time'] <= end_time)\n",
    "#Linear regression for the rest of the model\n",
    "x_behavior = df[training_mask].loc[:,'omega1':'omega168']\n",
    "y = pd.DataFrame(df['MW'][training_mask])\n",
    "yhat_c = (coef_cooling*df.loc[:,'CDH'][training_mask].values).reshape(-1,1)\n",
    "y_behavior = y - (yhat_c)\n",
    "# Drop rows where y_behavior has NaN values\n",
    "#y_behavior = y_behavior.dropna()\n",
    "# Get the index of non-null values in y_behavior and use it to filter x_behavior\n",
    "#non_null_index = y_behavior.index\n",
    "#x_behavior_filtered = x_behavior.loc[non_null_index]\n",
    "#x_behavior= x_behavior_filtered\n",
    "time = df['Time'][training_mask]\n",
    "\n",
    "## ------ fit the behavior model -----\n",
    "behavior_model = LinearRegression(fit_intercept=False, positive=True)\n",
    "behavior_model.verbose=False\n",
    "behavior_model.fit(x_behavior,y_behavior)\n",
    "#model.coef_,model.intercept_\n",
    "behavior_modelScore = behavior_model.score(x_behavior.values,y_behavior.values)\n",
    "print('score of the behavior model is '+str(behavior_modelScore))\n",
    "yhat_behavior = behavior_model.predict(x_behavior.values)\n",
    "\n",
    "full_model_start_time = pd.Timestamp('2022-02-07 00:00:00')\n",
    "full_model_end_time = pd.Timestamp('2022-12-25 23:00:00')\n",
    "# constructing the full LR model using time and temperature models\n",
    "c = np.concatenate((np.array([coef_cooling]).reshape(1,-1),behavior_model.coef_),axis=1)\n",
    "full_model_mask = (df['Time'] >= full_model_start_time) & (df['Time'] <= full_model_end_time)\n",
    "full_model = LinearRegression(fit_intercept=False)\n",
    "full_model.coef_ = c\n",
    "full_model.intercept_ = 0\n",
    "\n",
    "final_df = df[full_model_mask]\n",
    "final_df = final_df.sort_values('Time')\n",
    "full_model_mask.reset_index(drop = True)\n",
    "X = final_df.loc[:,'CDH':'omega168']\n",
    "y = pd.DataFrame(final_df['MW'])\n",
    "\n",
    "#y = y.dropna()\n",
    "#X = X.loc[y.index]\n",
    "#X = X.dropna()\n",
    "#y = y.loc[X.index]\n",
    "time = final_df.loc[y.index, 'Time']\n",
    "yhat = full_model.predict(X.values)\n",
    "pred = pd.DataFrame(data=yhat, columns=['yhat'], index=df.index)\n",
    "# Concatenate CDH with the original DataFrame using the index\n",
    "predictions_df = pd.concat([df, pred], axis=1)\n",
    "\n",
    "full_modelScore = full_model.score(X,y)\n",
    "print ('score for constructed full model: ', full_modelScore)\n",
    "\n",
    "fig,(ax1) = plt.subplots(nrows=1,figsize=(10,9))\n",
    "_=ax1.plot(time,y,label='meas')\n",
    "_=ax1.plot(time,yhat,label='pred: behavior+heat/cool')\n",
    "ax1.set_title('measured vs predicted data (full constructed model)')\n",
    "_=ax1.legend()"
   ],
   "metadata": {
    "collapsed": false
   }
  },
  {
   "cell_type": "code",
   "execution_count": null,
   "outputs": [],
   "source": [
    "modelscoreontrainingdata = full_model.score(X[training_mask], y[training_mask])\n",
    "print(\"score of the fully constructed model on training data: \", modelscoreontrainingdata)"
   ],
   "metadata": {
    "collapsed": false
   }
  },
  {
   "cell_type": "code",
   "execution_count": null,
   "outputs": [],
   "source": [],
   "metadata": {
    "collapsed": false
   }
  },
  {
   "cell_type": "code",
   "execution_count": null,
   "outputs": [],
   "source": [
    "trials"
   ],
   "metadata": {
    "collapsed": false
   }
  },
  {
   "cell_type": "code",
   "execution_count": null,
   "outputs": [],
   "source": [
    "full_model_mask = (df['Time'] >= full_model_start_time) & (df['Time'] <= full_model_end_time)\n",
    "x = df[full_model_mask]['CDH'].values.reshape(-1,1)\n",
    "y = df[full_model_mask]['MW'].values.reshape(-1,1)\n"
   ],
   "metadata": {
    "collapsed": false
   }
  },
  {
   "cell_type": "code",
   "execution_count": null,
   "outputs": [],
   "source": [
    "temperature_model = LinearRegression()\n",
    "temperature_model.fit(x, y)\n",
    "\n",
    "predictions = temperature_model.predict(x_train)\n",
    "coef_cooling = temperature_model.coef_\n",
    "CDHmodelScore = temperature_model.score(x_train,y_train)\n",
    "\n",
    "print(\"coeff of the model is \", temperature_model.coef_)"
   ],
   "metadata": {
    "collapsed": false
   }
  },
  {
   "cell_type": "code",
   "execution_count": null,
   "outputs": [],
   "source": [
    "new_start_time  = pd.Timestamp('2022-07-09 12:00:00')\n",
    "new_end_time = pd.Timestamp('2022-07-09 15:00:00')\n",
    "new_model_mask = (df['Time'] >= new_start_time) & (df['Time'] <= new_end_time) & (df['CDH'] > 0)\n",
    "x = df[new_model_mask]['CDH'].values.reshape(-1,1)\n",
    "y = df[new_model_mask]['MW'].values.reshape(-1,1)\n",
    "x = np.array([1.0, 2.5, 3.8]).reshape(-1, 1)\n",
    "y = np.array([4.0, 4.5, 5.0]).reshape(-1, 1)\n"
   ],
   "metadata": {
    "collapsed": false
   }
  },
  {
   "cell_type": "code",
   "execution_count": null,
   "outputs": [],
   "source": [
    "x"
   ],
   "metadata": {
    "collapsed": false
   }
  },
  {
   "cell_type": "code",
   "execution_count": null,
   "outputs": [],
   "source": [
    "model = LinearRegression()\n",
    "model.fit(x,y)\n",
    "model.coef_"
   ],
   "metadata": {
    "collapsed": false
   }
  },
  {
   "cell_type": "code",
   "execution_count": null,
   "outputs": [],
   "source": [],
   "metadata": {
    "collapsed": false
   }
  },
  {
   "cell_type": "code",
   "execution_count": null,
   "outputs": [],
   "source": [
    "power_array = np.array(x, dtype='float64')\n",
    "temp_array = np.array(y, dtype='float64')\n",
    "correlation_coefficient = np.corrcoef(x, y)[0, 1]\n",
    "print('correlation between CDH and power in training set: ', correlation_coefficient)\n"
   ],
   "metadata": {
    "collapsed": false
   }
  },
  {
   "cell_type": "code",
   "execution_count": null,
   "outputs": [],
   "source": [
    "temp_array"
   ],
   "metadata": {
    "collapsed": false
   }
  },
  {
   "cell_type": "code",
   "execution_count": null,
   "outputs": [],
   "source": [],
   "metadata": {
    "collapsed": false
   }
  }
 ],
 "metadata": {
  "kernelspec": {
   "display_name": "Python 3",
   "language": "python",
   "name": "python3"
  },
  "language_info": {
   "codemirror_mode": {
    "name": "ipython",
    "version": 2
   },
   "file_extension": ".py",
   "mimetype": "text/x-python",
   "name": "python",
   "nbconvert_exporter": "python",
   "pygments_lexer": "ipython2",
   "version": "2.7.6"
  }
 },
 "nbformat": 4,
 "nbformat_minor": 0
}
